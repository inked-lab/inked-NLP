{
 "cells": [
  {
   "cell_type": "code",
   "execution_count": 2,
   "metadata": {
    "collapsed": true,
    "pycharm": {
     "is_executing": false
    }
   },
   "outputs": [],
   "source": [
    "from data.api.content_db_connector import fetch_news_collection"
   ]
  },
  {
   "cell_type": "code",
   "execution_count": 3,
   "outputs": [],
   "source": [
    "newses = fetch_news_collection(lim=500)"
   ],
   "metadata": {
    "collapsed": false,
    "pycharm": {
     "name": "#%%\n",
     "is_executing": false
    }
   }
  },
  {
   "cell_type": "code",
   "execution_count": 7,
   "outputs": [
    {
     "name": "stdout",
     "text": [
      "<a href=\"https://t.me/goldenclub_telegram\" target=\"_blank\"><strong><font color=\"rgb(51,51,153)\">■■ (무료) 상승 종목만 골라찍는 비결 알림 텔레그램 서비스 ■■</font></strong></a>\r\n",
      "\r\n",
      "<a href=\"http://www.goldengif.com:8080/item.do?gid=1571&key=MH282&kind=eda_htsnews2929_gs\" target=\"_blank\"><strong><font color=\"rgb(0,0,255)\">어디에도 없는 차별화된 고급 증권정보, 압축 문자 서비스 (월 9,900원)</font></strong></a>\r\n",
      "\r\n",
      "<a href=\"http://stock1.goldengif.com/free.asp?type=1077&kind=eda_htsnews2929_1077\" target=\"_blank\"><strong><font color=\"rgb(153,51,102)\">[특징주 심층 분석] 에스맥(097780) 살까? 팔까? ☞ 상세 내용 확인하기 (클릭)</font></strong></a>\r\n",
      "<a href=\"http://stock1.goldengif.com/free.asp?type=1052&kind=eda_htsnews2929_1052\" target=\"_blank\"><strong><font color=\"rgb(153,51,102)\">[상한가 종목분석] 씨젠(096530) 또 갈까? 말까? ☞ 분석 영상 바로보기 (클릭)</font></strong></a>\r\n",
      "<a href=\"http://stock1.goldengif.com/free.asp?type=1045&kind=eda_htsnews2929_1045\" target=\"_blank\"><strong><font color=\"rgb(153,51,102)\">[상한가 종목분석] 한진칼(180640) 또 갈까? 말까? ☞ 분석 영상 바로보기 (클릭)</font></strong></a>\r\n",
      "<a href=\"http://stock1.goldengif.com/free.asp?type=1071&kind=eda_htsnews2929_1071\" target=\"_blank\"><strong><font color=\"rgb(153,51,102)\">[특징주 심층 분석] 남선알미늄(008350) 살까? 팔까? ☞ 상세 내용 확인하기 (클릭)</font></strong></a>\r\n",
      "<a href=\"http://stock1.goldengif.com/free.asp?type=1078&kind=eda_htsnews2929_1078\" target=\"_blank\"><strong><font color=\"rgb(153,51,102)\">[특징주 심층 분석] 시노펙스(025320) 살까? 팔까? ☞ 상세 내용 확인하기 (클릭)</font></strong></a>\r\n",
      "<a href=\"http://stock1.goldengif.com/free.asp?type=1057&kind=eda_htsnews2929_1057\" target=\"_blank\"><strong><font color=\"rgb(153,51,102)\">[특징주 심층 분석] 파미셀(005690) 살까? 팔까? ☞ 상세 내용 확인하기 (클릭)</font></strong></a><table width=\"405\" align=\"center\" bgcolor=\"ffffff\" border=\"0\" cellspacing=\"5\" cellpadding=\"0\"><tbody><tr><td bgcolor=\"e6e6e6\"><table bgcolor=\"ffffff\" border=\"0\" cellspacing=\"5\" cellpadding=\"0\"><tbody><tr><td><a href=\"http://new1.goldengif.com/free.asp?kind=eda_htsnews2929\" target=\"_blank\"><img src=\"http://img.edaily.co.kr/images/photo/files/NP/S/2020/04/PS20040700413.JPG\" border=\"0\"></a></td></tr></tbody></table></td></tr></tbody></table>\r\n",
      "골든클럽이<strong> 진원생명과학, 이노와이즈, 엔피디, 모바일어플라이언스</strong>에 이어 공개하는 내일 급등 유망 BEST 1 종목은 아래 링크를 클릭해 무료로 받아볼 수 있다.\r\n",
      "\r\n",
      "<a href=\"http://new1.goldengif.com/free.asp?kind=eda_htsnews2929\" target=\"_blank\"><font color=\"rgb(0,0,255)\"><strong>국내 최정상급 [골든클럽 연구팀] 포착, 급등기대 BEST 5선 ☞☞(무료 확인)</strong></font></a>\r\n",
      "<a href=\"http://new1.goldengif.com/free.asp?kind=eda_htsnews2929\" target=\"_blank\"><font color=\"rgb(0,0,255)\"><strong>[내일 수익 기대주] 오늘 미리 확인하고 준비하세요 >>> (클릭하여 바로 보기)</strong></font></a>\r\n",
      "<a href=\"http://new1.goldengif.com/free.asp?kind=eda_htsnews2929\" target=\"_blank\"><font color=\"rgb(0,0,255)\"><strong>■ 미리 알아두는 내일 폭등 기대 1등 종목 >>> 신청 즉시 공개 ■</strong></font></a>\r\n",
      "\r\n",
      "\r\n",
      "골든클럽은 최근<strong> ‘톱텍’, ’DB하이텍’, ‘케이엠더블유’, ‘키다리스튜디오‘, ‘두올산업‘, ‘SFA반도체’, ‘서진시스템’, ’캠시스’, ’NICE평가정보’, ’넥스트BT’, ’JW신약’, ’다나와’, ’DB하이텍’, ’알서포트’, ’이엘피’, ’HB테크놀러지’, ‘아프리카TV’, ‘RFHIC’, ’미코’, ‘랩지노믹스’, ‘코미팜’, ‘엑세스바이오’  </strong>외 다수의 급등 종목을 발굴했다.\r\n",
      "\r\n",
      "<a href=\"http://www.goldengif.com:8080/item.do?gid=1571&key=MH282&kind=eda_htsnews2929_gs\" target=\"_blank\"><font color=\"rgb(255,255,255)\" style=\"background-color: rgb(51, 51, 153);\"><strong>시장 간파 핵심증권정보 [월 9,900원 문자로 받아보기] (신청)</strong></font></a>\r\n",
      "\r\n",
      "골든클럽은 차기 급등이 기대되는 유망 종목을 포착, 무료 공개 중이다. 내일(8일) 급등 유망 1등 종목은 아래 페이지 접속 후 신청하면 즉시 확인 가능하다.\r\n",
      "\r\n",
      "<a href=\"http://new1.goldengif.com/free.asp?kind=eda_htsnews2929\" target=\"_blank\"><font color=\"rgb(0,0,255)\"><strong>★ ★ ★ 내일 장, 오늘 미리 준비하세요. 폭등 예감 종목 신청 즉시 발송 (클릭)</strong></font></a>\r\n",
      "\r\n",
      "\r\n",
      "<strong>골든클럽 [핫이슈 종목]</strong>\r\n",
      "삼성전자(005930), 레몬(294140), 한진칼(180640), 한국유니온제약(080720), 시노펙스(025320)\r\n",
      " \r\n",
      "<table width=\"368\" align=\"center\" bgcolor=\"ffffff\" border=\"0\" cellspacing=\"5\" cellpadding=\"0\"><tbody><tr><td bgcolor=\"e6e6e6\"><table bgcolor=\"ffffff\" border=\"0\" cellspacing=\"5\" cellpadding=\"0\"><tbody><tr><td><a href=\"http://project2.goldengif.com/free.asp?kind=eda_htsnews2929_s\" target=\"_blank\"><img src=\"http://image.edaily.co.kr/images/photo/files/NP/S/2019/07/PS19072300679.JPG\" border=\"0\"></a></td></tr></tbody></table></td></tr></tbody></table><a href=\"http://project2.goldengif.com/free.asp?kind=eda_htsnews2929_s\" target=\"_blank\"><strong><font color=\"rgb(255,255,255)\" style=\"background-color: rgb(51, 102, 255);\">성공 투자 지원 패키지 【오늘 급등 유망주+고급 증권 정보】 무료 체험하기 (클릭)</font></strong></a>\r\n",
      "\r\n",
      "<a href=\"http://stock1.goldengif.com/free.asp?type=989&kind=eda_htsnews2929_989\" target=\"_blank\"><strong><font color=\"rgb(153,51,102)\">[특징주 심층 분석] 한국유니온제약(080720) 살까? 팔까? ☞ 상세 내용 확인하기 (클릭)</font></strong></a>\r\n",
      "<a href=\"http://stock1.goldengif.com/free.asp?type=1062&kind=eda_htsnews2929_1062\" target=\"_blank\"><strong><font color=\"rgb(153,51,102)\">[상한가 종목분석] 셀트리온헬스케어 (091990) 또 갈까? 말까? ☞ 분석 영상 바로보기 (클릭)</font></strong></a>\r\n",
      "<a href=\"http://stock1.goldengif.com/free.asp?type=1005&kind=eda_htsnews2929_1005\" target=\"_blank\"><strong><font color=\"rgb(153,51,102)\">[특징주 심층 분석] 진원생명과학(011000) 살까? 팔까? ☞ 상세 내용 확인하기 (클릭)</font></strong></a>\r\n",
      "<a href=\"http://stock1.goldengif.com/free.asp?type=1076&kind=eda_htsnews2929_1076\" target=\"_blank\"><strong><font color=\"rgb(153,51,102)\">[상한가 종목분석] 녹십자랩셀(144510) 또 갈까? 말까? ☞ 분석 영상 바로보기 (클릭)</font></strong></a>\r\n",
      "<a href=\"http://stock1.goldengif.com/free.asp?type=931&kind=eda_htsnews2929_931\" target=\"_blank\"><strong><font color=\"rgb(153,51,102)\">[특징주 심층 분석] 현대차(005380) 살까? 팔까? ☞ 상세 내용 확인하기 (클릭)</font></strong></a>\r\n",
      "<a href=\"http://stock1.goldengif.com/free.asp?type=1054&kind=eda_htsnews2929_1054\" target=\"_blank\"><strong><font color=\"rgb(153,51,102)\">[상한가 종목분석] EDGC(245620) 또 갈까? 말까? ☞ 분석 영상 바로보기 (클릭)</font></strong></a>\r\n",
      "<a href=\"http://stock1.goldengif.com/free.asp?type=1029&kind=eda_htsnews2929_1029\" target=\"_blank\"><strong><font color=\"rgb(153,51,102)\">[특징주 심층 분석] 녹십자셀(031390) 살까? 팔까? ☞ 상세 내용 확인하기 (클릭)</font></strong></a>\r\n",
      "<table width=\"305\" align=\"center\" bgcolor=\"ffffff\" border=\"0\" cellspacing=\"5\" cellpadding=\"0\"><tbody><tr><td bgcolor=\"e6e6e6\"><table bgcolor=\"ffffff\" border=\"0\" cellspacing=\"5\" cellpadding=\"0\"><tbody><tr><td><a href=\"http://www.goldengif.com:8080/item.do?gid=1571&key=MH282&kind=eda_htsnews2929_gs\" target=\"_blank\"><img src=\"http://image.edaily.co.kr/images/photo/files/NP/S/2020/01/PS20011400803.jpg\" border=\"0\"></a></td></tr></tbody></table></td></tr></tbody></table><a href=\"http://www.goldengif.com:8080/item.do?gid=1571&key=MH282&kind=eda_htsnews2929_gs\" target=\"_blank\"><font color=\"rgb(255,0,0)\"><strong>임팩트 있는 증권 정보, 라이트한 가격에 만나보세요! [핵심유력정보 압축문자서비스] -Click-</strong></font>\r\n",
      "</a>\r\n",
      "\r\n",
      "[본 글은 투자 참고용으로 이를 근거로 한 투자 손실에 대해 책임을 지지 않습니다. 해당 홍보용 기사는 이데일리와 무관합니다.]\r\n",
      "<p style='clear:both;'>\r\n",
      "＜ⓒ종합 경제정보 미디어 이데일리 - 무단전재 & 재배포 금지＞</p>\r\n",
      "\n"
     ],
     "output_type": "stream"
    }
   ],
   "source": [
    "print(newses[1].content)\n",
    "# for news in newses:\n",
    "    # print(news)\n",
    "    # ..."
   ],
   "metadata": {
    "collapsed": false,
    "pycharm": {
     "name": "#%%\n",
     "is_executing": false
    }
   }
  },
  {
   "cell_type": "code",
   "execution_count": null,
   "outputs": [],
   "source": [
    "\n"
   ],
   "metadata": {
    "collapsed": false,
    "pycharm": {
     "name": "#%%\n"
    }
   }
  }
 ],
 "metadata": {
  "kernelspec": {
   "display_name": "Python 3",
   "language": "python",
   "name": "python3"
  },
  "language_info": {
   "codemirror_mode": {
    "name": "ipython",
    "version": 2
   },
   "file_extension": ".py",
   "mimetype": "text/x-python",
   "name": "python",
   "nbconvert_exporter": "python",
   "pygments_lexer": "ipython2",
   "version": "2.7.6"
  },
  "pycharm": {
   "stem_cell": {
    "cell_type": "raw",
    "source": [],
    "metadata": {
     "collapsed": false
    }
   }
  }
 },
 "nbformat": 4,
 "nbformat_minor": 0
}