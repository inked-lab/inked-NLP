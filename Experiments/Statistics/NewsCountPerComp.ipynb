{
 "cells": [
  {
   "cell_type": "code",
   "execution_count": 2,
   "metadata": {
    "collapsed": true
   },
   "outputs": [],
   "source": [
    "from Utils.StockCompanyExtractor.StockCompanyExtractor import FetchAllCompCode\n",
    "\n",
    "allCompList = FetchAllCompCode()"
   ]
  },
  {
   "cell_type": "code",
   "execution_count": 3,
   "metadata": {},
   "outputs": [
    {
     "name": "stdout",
     "output_type": "stream",
     "text": [
      "\rPROCESS: CountNews 0.000000 % ETA: 09:00:00"
     ]
    },
    {
     "name": "stdout",
     "output_type": "stream",
     "text": [
      "\rPROCESS: CountNews 0.000000 % ETA: 09:00:00"
     ]
    },
    {
     "name": "stdout",
     "output_type": "stream",
     "text": [
      "\rPROCESS: CountNews 0.100000 % ETA: 09:00:00"
     ]
    },
    {
     "name": "stdout",
     "output_type": "stream",
     "text": [
      "\rPROCESS: CountNews 0.100000 % ETA: 09:00:00"
     ]
    },
    {
     "name": "stdout",
     "output_type": "stream",
     "text": [
      "\rPROCESS: CountNews 0.200000 % ETA: 09:00:00"
     ]
    },
    {
     "name": "stdout",
     "output_type": "stream",
     "text": [
      "\rPROCESS: CountNews 0.200000 % ETA: 09:07:42"
     ]
    },
    {
     "name": "stdout",
     "output_type": "stream",
     "text": [
      "\rPROCESS: CountNews 0.300000 % ETA: 09:06:25"
     ]
    },
    {
     "name": "stdout",
     "output_type": "stream",
     "text": [
      "\rPROCESS: CountNews 0.300000 % ETA: 09:05:30"
     ]
    },
    {
     "name": "stdout",
     "output_type": "stream",
     "text": [
      "\rPROCESS: CountNews 0.300000 % ETA: 09:04:48"
     ]
    },
    {
     "name": "stdout",
     "output_type": "stream",
     "text": [
      "\rPROCESS: CountNews 0.400000 % ETA: 09:04:16"
     ]
    },
    {
     "name": "stdout",
     "output_type": "stream",
     "text": [
      "\rPROCESS: CountNews 0.400000 % ETA: 09:03:51"
     ]
    },
    {
     "name": "stdout",
     "output_type": "stream",
     "text": [
      "\rPROCESS: CountNews 0.500000 % ETA: 09:03:30"
     ]
    },
    {
     "name": "stdout",
     "output_type": "stream",
     "text": [
      "\rPROCESS: CountNews 0.500000 % ETA: 09:03:12"
     ]
    },
    {
     "name": "stdout",
     "output_type": "stream",
     "text": [
      "\rPROCESS: CountNews 0.600000 % ETA: 09:02:57"
     ]
    },
    {
     "name": "stdout",
     "output_type": "stream",
     "text": [
      "\rPROCESS: CountNews 0.600000 % ETA: 09:05:30"
     ]
    },
    {
     "name": "stdout",
     "output_type": "stream",
     "text": [
      "\rPROCESS: CountNews 0.600000 % ETA: 09:05:08"
     ]
    },
    {
     "name": "stdout",
     "output_type": "stream",
     "text": [
      "\rPROCESS: CountNews 0.700000 % ETA: 09:04:48"
     ]
    },
    {
     "name": "stdout",
     "output_type": "stream",
     "text": [
      "\rPROCESS: CountNews 0.700000 % ETA: 09:04:31"
     ]
    },
    {
     "name": "stdout",
     "output_type": "stream",
     "text": [
      "\rPROCESS: CountNews 0.800000 % ETA: 09:04:16"
     ]
    },
    {
     "name": "stdout",
     "output_type": "stream",
     "text": [
      "\rPROCESS: CountNews 0.800000 % ETA: 09:04:03"
     ]
    },
    {
     "name": "stdout",
     "output_type": "stream",
     "text": [
      "\rPROCESS: CountNews 0.900000 % ETA: 09:03:51"
     ]
    },
    {
     "name": "stdout",
     "output_type": "stream",
     "text": [
      "\rPROCESS: CountNews 0.900000 % ETA: 09:03:40"
     ]
    },
    {
     "name": "stdout",
     "output_type": "stream",
     "text": [
      "\rPROCESS: CountNews 1.000000 % ETA: 09:03:30"
     ]
    },
    {
     "name": "stdout",
     "output_type": "stream",
     "text": [
      "\rPROCESS: CountNews 1.000000 % ETA: 09:05:01"
     ]
    },
    {
     "name": "stdout",
     "output_type": "stream",
     "text": [
      "\rPROCESS: CountNews 1.000000 % ETA: 09:04:48"
     ]
    },
    {
     "name": "stdout",
     "output_type": "stream",
     "text": [
      "\rPROCESS: CountNews 1.100000 % ETA: 09:04:37"
     ]
    },
    {
     "name": "stdout",
     "output_type": "stream",
     "text": [
      "\rPROCESS: CountNews 1.100000 % ETA: 09:04:26"
     ]
    },
    {
     "name": "stdout",
     "output_type": "stream",
     "text": [
      "\rPROCESS: CountNews 1.200000 % ETA: 09:04:16"
     ]
    },
    {
     "name": "stdout",
     "output_type": "stream",
     "text": [
      "\rPROCESS: CountNews 1.200000 % ETA: 09:04:07"
     ]
    },
    {
     "name": "stdout",
     "output_type": "stream",
     "text": [
      "\rPROCESS: CountNews 1.300000 % ETA: 09:03:59"
     ]
    },
    {
     "name": "stdout",
     "output_type": "stream",
     "text": [
      "\rPROCESS: CountNews 1.300000 % ETA: 09:03:51"
     ]
    },
    {
     "name": "stdout",
     "output_type": "stream",
     "text": [
      "\rPROCESS: CountNews 1.300000 % ETA: 09:04:58"
     ]
    },
    {
     "name": "stdout",
     "output_type": "stream",
     "text": [
      "\rPROCESS: CountNews 1.400000 % ETA: 09:04:48"
     ]
    },
    {
     "name": "stdout",
     "output_type": "stream",
     "text": [
      "\rPROCESS: CountNews 1.400000 % ETA: 09:04:40"
     ]
    },
    {
     "name": "stdout",
     "output_type": "stream",
     "text": [
      "\rPROCESS: CountNews 1.500000 % ETA: 09:04:31"
     ]
    },
    {
     "name": "stdout",
     "output_type": "stream",
     "text": [
      "\rPROCESS: CountNews 1.500000 % ETA: 09:04:24"
     ]
    },
    {
     "name": "stdout",
     "output_type": "stream",
     "text": [
      "\rPROCESS: CountNews 1.600000 % ETA: 09:04:16"
     ]
    },
    {
     "name": "stdout",
     "output_type": "stream",
     "text": [
      "\rPROCESS: CountNews 1.600000 % ETA: 09:04:09"
     ]
    },
    {
     "name": "stdout",
     "output_type": "stream",
     "text": [
      "\rPROCESS: CountNews 1.600000 % ETA: 09:04:03"
     ]
    },
    {
     "name": "stdout",
     "output_type": "stream",
     "text": [
      "\rPROCESS: CountNews 1.700000 % ETA: 09:03:57"
     ]
    },
    {
     "name": "stdout",
     "output_type": "stream",
     "text": [
      "\rPROCESS: CountNews 1.700000 % ETA: 09:04:48"
     ]
    },
    {
     "name": "stdout",
     "output_type": "stream",
     "text": [
      "\rPROCESS: CountNews 1.800000 % ETA: 09:04:41"
     ]
    },
    {
     "name": "stdout",
     "output_type": "stream",
     "text": [
      "\rPROCESS: CountNews 1.800000 % ETA: 09:04:35"
     ]
    },
    {
     "name": "stdout",
     "output_type": "stream",
     "text": [
      "\rPROCESS: CountNews 1.900000 % ETA: 09:04:28"
     ]
    },
    {
     "name": "stdout",
     "output_type": "stream",
     "text": [
      "\rPROCESS: CountNews 1.900000 % ETA: 09:04:22"
     ]
    },
    {
     "name": "stdout",
     "output_type": "stream",
     "text": [
      "\rPROCESS: CountNews 1.900000 % ETA: 09:04:16"
     ]
    },
    {
     "name": "stdout",
     "output_type": "stream",
     "text": [
      "\rPROCESS: CountNews 2.000000 % ETA: 09:04:11"
     ]
    },
    {
     "name": "stdout",
     "output_type": "stream",
     "text": [
      "\rPROCESS: CountNews 2.000000 % ETA: 09:04:05"
     ]
    },
    {
     "name": "stdout",
     "output_type": "stream",
     "text": [
      "\rPROCESS: CountNews 2.100000 % ETA: 09:04:00"
     ]
    },
    {
     "name": "stdout",
     "output_type": "stream",
     "text": [
      "\rPROCESS: CountNews 2.100000 % ETA: 09:03:55"
     ]
    },
    {
     "name": "stdout",
     "output_type": "stream",
     "text": [
      "\rPROCESS: CountNews 2.200000 % ETA: 09:04:37"
     ]
    },
    {
     "name": "stdout",
     "output_type": "stream",
     "text": [
      "\rPROCESS: CountNews 2.200000 % ETA: 09:04:31"
     ]
    },
    {
     "name": "stdout",
     "output_type": "stream",
     "text": [
      "\rPROCESS: CountNews 2.300000 % ETA: 09:04:26"
     ]
    },
    {
     "name": "stdout",
     "output_type": "stream",
     "text": [
      "\rPROCESS: CountNews 2.300000 % ETA: 09:04:21"
     ]
    },
    {
     "name": "stdout",
     "output_type": "stream",
     "text": [
      "\rPROCESS: CountNews 2.300000 % ETA: 09:04:16"
     ]
    },
    {
     "name": "stdout",
     "output_type": "stream",
     "text": [
      "\rPROCESS: CountNews 2.400000 % ETA: 09:04:12"
     ]
    },
    {
     "name": "stdout",
     "output_type": "stream",
     "text": [
      "\rPROCESS: CountNews 2.400000 % ETA: 09:04:07"
     ]
    },
    {
     "name": "stdout",
     "output_type": "stream",
     "text": [
      "\rPROCESS: CountNews 2.500000 % ETA: 09:04:03"
     ]
    },
    {
     "name": "stdout",
     "output_type": "stream",
     "text": [
      "\rPROCESS: CountNews 2.500000 % ETA: 09:03:59"
     ]
    },
    {
     "name": "stdout",
     "output_type": "stream",
     "text": [
      "\rPROCESS: CountNews 2.600000 % ETA: 09:04:34"
     ]
    },
    {
     "name": "stdout",
     "output_type": "stream",
     "text": [
      "\rPROCESS: CountNews 2.600000 % ETA: 09:04:29"
     ]
    },
    {
     "name": "stdout",
     "output_type": "stream",
     "text": [
      "\rPROCESS: CountNews 2.600000 % ETA: 09:04:25"
     ]
    },
    {
     "name": "stdout",
     "output_type": "stream",
     "text": [
      "\rPROCESS: CountNews 2.700000 % ETA: 09:04:20"
     ]
    },
    {
     "name": "stdout",
     "output_type": "stream",
     "text": [
      "\rPROCESS: CountNews 2.700000 % ETA: 09:04:16"
     ]
    },
    {
     "name": "stdout",
     "output_type": "stream",
     "text": [
      "\rPROCESS: CountNews 2.800000 % ETA: 09:04:12"
     ]
    },
    {
     "name": "stdout",
     "output_type": "stream",
     "text": [
      "\rPROCESS: CountNews 2.800000 % ETA: 09:04:08"
     ]
    },
    {
     "name": "stdout",
     "output_type": "stream",
     "text": [
      "\rPROCESS: CountNews 2.900000 % ETA: 09:04:05"
     ]
    },
    {
     "name": "stdout",
     "output_type": "stream",
     "text": [
      "\rPROCESS: CountNews 2.900000 % ETA: 09:04:01"
     ]
    },
    {
     "name": "stdout",
     "output_type": "stream",
     "text": [
      "\rPROCESS: CountNews 2.900000 % ETA: 09:04:31"
     ]
    },
    {
     "name": "stdout",
     "output_type": "stream",
     "text": [
      "\rPROCESS: CountNews 3.000000 % ETA: 09:04:27"
     ]
    },
    {
     "name": "stdout",
     "output_type": "stream",
     "text": [
      "\rPROCESS: CountNews 3.000000 % ETA: 09:04:24"
     ]
    },
    {
     "name": "stdout",
     "output_type": "stream",
     "text": [
      "\rPROCESS: CountNews 3.100000 % ETA: 09:04:20"
     ]
    },
    {
     "name": "stdout",
     "output_type": "stream",
     "text": [
      "\rPROCESS: CountNews 3.100000 % ETA: 09:04:16"
     ]
    },
    {
     "name": "stdout",
     "output_type": "stream",
     "text": [
      "\rPROCESS: CountNews 3.200000 % ETA: 09:04:13"
     ]
    },
    {
     "name": "stdout",
     "output_type": "stream",
     "text": [
      "\rPROCESS: CountNews 3.200000 % ETA: 09:04:09"
     ]
    },
    {
     "name": "stdout",
     "output_type": "stream",
     "text": [
      "\rPROCESS: CountNews 3.200000 % ETA: 09:04:06"
     ]
    },
    {
     "name": "stdout",
     "output_type": "stream",
     "text": [
      "\rPROCESS: CountNews 3.300000 % ETA: 09:04:03"
     ]
    },
    {
     "name": "stdout",
     "output_type": "stream",
     "text": [
      "\rPROCESS: CountNews 3.300000 % ETA: 09:04:00"
     ]
    },
    {
     "name": "stdout",
     "output_type": "stream",
     "text": [
      "\rPROCESS: CountNews 3.400000 % ETA: 09:04:26"
     ]
    },
    {
     "name": "stdout",
     "output_type": "stream",
     "text": [
      "\rPROCESS: CountNews 3.400000 % ETA: 09:04:23"
     ]
    },
    {
     "name": "stdout",
     "output_type": "stream",
     "text": [
      "\rPROCESS: CountNews 3.500000 % ETA: 09:04:19"
     ]
    },
    {
     "name": "stdout",
     "output_type": "stream",
     "text": [
      "\rPROCESS: CountNews 3.500000 % ETA: 09:04:16"
     ]
    },
    {
     "name": "stdout",
     "output_type": "stream",
     "text": [
      "\rPROCESS: CountNews 3.500000 % ETA: 09:04:13"
     ]
    },
    {
     "name": "stdout",
     "output_type": "stream",
     "text": [
      "\rPROCESS: CountNews 3.600000 % ETA: 09:04:10"
     ]
    },
    {
     "name": "stdout",
     "output_type": "stream",
     "text": [
      "\rPROCESS: CountNews 3.600000 % ETA: 09:04:07"
     ]
    },
    {
     "name": "stdout",
     "output_type": "stream",
     "text": [
      "\rPROCESS: CountNews 3.700000 % ETA: 09:04:04"
     ]
    },
    {
     "name": "stdout",
     "output_type": "stream",
     "text": [
      "\rPROCESS: CountNews 3.700000 % ETA: 09:04:01"
     ]
    },
    {
     "name": "stdout",
     "output_type": "stream",
     "text": [
      "\rPROCESS: CountNews 3.800000 % ETA: 09:04:25"
     ]
    },
    {
     "name": "stdout",
     "output_type": "stream",
     "text": [
      "\rPROCESS: CountNews 3.800000 % ETA: 09:04:22"
     ]
    },
    {
     "name": "stdout",
     "output_type": "stream",
     "text": [
      "\rPROCESS: CountNews 3.900000 % ETA: 09:04:19"
     ]
    },
    {
     "name": "stdout",
     "output_type": "stream",
     "text": [
      "\rPROCESS: CountNews 3.900000 % ETA: 09:04:16"
     ]
    },
    {
     "name": "stdout",
     "output_type": "stream",
     "text": [
      "\rPROCESS: CountNews 3.900000 % ETA: 09:04:13"
     ]
    },
    {
     "name": "stdout",
     "output_type": "stream",
     "text": [
      "\rPROCESS: CountNews 4.000000 % ETA: 09:04:11"
     ]
    },
    {
     "name": "stdout",
     "output_type": "stream",
     "text": [
      "\rPROCESS: CountNews 4.000000 % ETA: 09:04:08"
     ]
    },
    {
     "name": "stdout",
     "output_type": "stream",
     "text": [
      "\rPROCESS: CountNews 4.100000 % ETA: 09:04:05"
     ]
    },
    {
     "name": "stdout",
     "output_type": "stream",
     "text": [
      "\rPROCESS: CountNews 4.100000 % ETA: 09:04:03"
     ]
    },
    {
     "name": "stdout",
     "output_type": "stream",
     "text": [
      "\rPROCESS: CountNews 4.200000 % ETA: 09:04:00"
     ]
    },
    {
     "name": "stdout",
     "output_type": "stream",
     "text": [
      "\rPROCESS: CountNews 4.200000 % ETA: 09:04:22"
     ]
    },
    {
     "name": "stdout",
     "output_type": "stream",
     "text": [
      "\rPROCESS: CountNews 4.200000 % ETA: 09:04:19"
     ]
    },
    {
     "name": "stdout",
     "output_type": "stream",
     "text": [
      "\rPROCESS: CountNews 4.300000 % ETA: 09:04:16"
     ]
    },
    {
     "name": "stdout",
     "output_type": "stream",
     "text": [
      "\rPROCESS: CountNews 4.300000 % ETA: 09:04:14"
     ]
    },
    {
     "name": "stdout",
     "output_type": "stream",
     "text": [
      "\rPROCESS: CountNews 4.400000 % ETA: 09:04:11"
     ]
    },
    {
     "name": "stdout",
     "output_type": "stream",
     "text": [
      "\rPROCESS: CountNews 4.400000 % ETA: 09:04:09"
     ]
    },
    {
     "name": "stdout",
     "output_type": "stream",
     "text": [
      "\rPROCESS: CountNews 4.500000 % ETA: 09:04:06"
     ]
    },
    {
     "name": "stdout",
     "output_type": "stream",
     "text": [
      "\rPROCESS: CountNews 4.500000 % ETA: 09:04:04"
     ]
    },
    {
     "name": "stdout",
     "output_type": "stream",
     "text": [
      "\rPROCESS: CountNews 4.500000 % ETA: 09:04:24"
     ]
    },
    {
     "name": "stdout",
     "output_type": "stream",
     "text": [
      "\rPROCESS: CountNews 4.600000 % ETA: 09:04:21"
     ]
    },
    {
     "name": "stdout",
     "output_type": "stream",
     "text": [
      "\rPROCESS: CountNews 4.600000 % ETA: 09:04:19"
     ]
    },
    {
     "name": "stdout",
     "output_type": "stream",
     "text": [
      "\rPROCESS: CountNews 4.700000 % ETA: 09:04:16"
     ]
    },
    {
     "name": "stdout",
     "output_type": "stream",
     "text": [
      "\rPROCESS: CountNews 4.700000 % ETA: 09:04:14"
     ]
    },
    {
     "name": "stdout",
     "output_type": "stream",
     "text": [
      "\rPROCESS: CountNews 4.800000 % ETA: 09:04:12"
     ]
    },
    {
     "name": "stdout",
     "output_type": "stream",
     "text": [
      "\rPROCESS: CountNews 4.800000 % ETA: 09:04:09"
     ]
    },
    {
     "name": "stdout",
     "output_type": "stream",
     "text": [
      "\rPROCESS: CountNews 4.800000 % ETA: 09:04:07"
     ]
    },
    {
     "name": "stdout",
     "output_type": "stream",
     "text": [
      "\rPROCESS: CountNews 4.900000 % ETA: 09:04:25"
     ]
    },
    {
     "name": "stdout",
     "output_type": "stream",
     "text": [
      "\rPROCESS: CountNews 4.900000 % ETA: 09:04:23"
     ]
    },
    {
     "name": "stdout",
     "output_type": "stream",
     "text": [
      "\rPROCESS: CountNews 5.000000 % ETA: 09:04:21"
     ]
    },
    {
     "name": "stdout",
     "output_type": "stream",
     "text": [
      "\rPROCESS: CountNews 5.000000 % ETA: 09:04:18"
     ]
    },
    {
     "name": "stdout",
     "output_type": "stream",
     "text": [
      "\rPROCESS: CountNews 5.100000 % ETA: 09:04:16"
     ]
    },
    {
     "name": "stdout",
     "output_type": "stream",
     "text": [
      "\rPROCESS: CountNews 5.100000 % ETA: 09:04:14"
     ]
    },
    {
     "name": "stdout",
     "output_type": "stream",
     "text": [
      "\rPROCESS: CountNews 5.100000 % ETA: 09:04:12"
     ]
    },
    {
     "name": "stdout",
     "output_type": "stream",
     "text": [
      "\rPROCESS: CountNews 5.200000 % ETA: 09:04:10"
     ]
    },
    {
     "name": "stdout",
     "output_type": "stream",
     "text": [
      "\rPROCESS: CountNews 5.200000 % ETA: 09:04:08"
     ]
    },
    {
     "name": "stdout",
     "output_type": "stream",
     "text": [
      "\rPROCESS: CountNews 5.300000 % ETA: 09:04:25"
     ]
    },
    {
     "name": "stdout",
     "output_type": "stream",
     "text": [
      "\rPROCESS: CountNews 5.300000 % ETA: 09:04:23"
     ]
    },
    {
     "name": "stdout",
     "output_type": "stream",
     "text": [
      "\rPROCESS: CountNews 5.400000 % ETA: 09:04:20"
     ]
    },
    {
     "name": "stdout",
     "output_type": "stream",
     "text": [
      "\rPROCESS: CountNews 5.400000 % ETA: 09:04:18"
     ]
    },
    {
     "name": "stdout",
     "output_type": "stream",
     "text": [
      "\rPROCESS: CountNews 5.500000 % ETA: 09:04:16"
     ]
    },
    {
     "name": "stdout",
     "output_type": "stream",
     "text": [
      "\rPROCESS: CountNews 5.500000 % ETA: 09:04:14"
     ]
    },
    {
     "name": "stdout",
     "output_type": "stream",
     "text": [
      "\rPROCESS: CountNews 5.500000 % ETA: 09:04:12"
     ]
    },
    {
     "name": "stdout",
     "output_type": "stream",
     "text": [
      "\rPROCESS: CountNews 5.600000 % ETA: 09:04:10"
     ]
    },
    {
     "name": "stdout",
     "output_type": "stream",
     "text": [
      "\rPROCESS: CountNews 5.600000 % ETA: 09:04:08"
     ]
    },
    {
     "name": "stdout",
     "output_type": "stream",
     "text": [
      "\rPROCESS: CountNews 5.700000 % ETA: 09:04:24"
     ]
    },
    {
     "name": "stdout",
     "output_type": "stream",
     "text": [
      "\rPROCESS: CountNews 5.700000 % ETA: 09:04:22"
     ]
    },
    {
     "name": "stdout",
     "output_type": "stream",
     "text": [
      "\rPROCESS: CountNews 5.800000 % ETA: 09:04:20"
     ]
    },
    {
     "name": "stdout",
     "output_type": "stream",
     "text": [
      "\rPROCESS: CountNews 5.800000 % ETA: 09:04:18"
     ]
    },
    {
     "name": "stdout",
     "output_type": "stream",
     "text": [
      "\rPROCESS: CountNews 5.800000 % ETA: 09:04:16"
     ]
    },
    {
     "name": "stdout",
     "output_type": "stream",
     "text": [
      "\rPROCESS: CountNews 5.900000 % ETA: 09:04:14"
     ]
    },
    {
     "name": "stdout",
     "output_type": "stream",
     "text": [
      "\rPROCESS: CountNews 5.900000 % ETA: 09:04:13"
     ]
    },
    {
     "name": "stdout",
     "output_type": "stream",
     "text": [
      "\rPROCESS: CountNews 6.000000 % ETA: 09:04:11"
     ]
    },
    {
     "name": "stdout",
     "output_type": "stream",
     "text": [
      "\rPROCESS: CountNews 6.000000 % ETA: 09:04:09"
     ]
    },
    {
     "name": "stdout",
     "output_type": "stream",
     "text": [
      "\rPROCESS: CountNews 6.100000 % ETA: 09:04:07"
     ]
    },
    {
     "name": "stdout",
     "output_type": "stream",
     "text": [
      "\rPROCESS: CountNews 6.100000 % ETA: 09:04:22"
     ]
    },
    {
     "name": "stdout",
     "output_type": "stream",
     "text": [
      "\rPROCESS: CountNews 6.100000 % ETA: 09:04:20"
     ]
    },
    {
     "name": "stdout",
     "output_type": "stream",
     "text": [
      "\rPROCESS: CountNews 6.200000 % ETA: 09:04:18"
     ]
    },
    {
     "name": "stdout",
     "output_type": "stream",
     "text": [
      "\rPROCESS: CountNews 6.200000 % ETA: 09:04:16"
     ]
    },
    {
     "name": "stdout",
     "output_type": "stream",
     "text": [
      "\rPROCESS: CountNews 6.300000 % ETA: 09:04:15"
     ]
    },
    {
     "name": "stdout",
     "output_type": "stream",
     "text": [
      "\rPROCESS: CountNews 6.300000 % ETA: 09:04:13"
     ]
    },
    {
     "name": "stdout",
     "output_type": "stream",
     "text": [
      "\rPROCESS: CountNews 6.400000 % ETA: 09:04:11"
     ]
    },
    {
     "name": "stdout",
     "output_type": "stream",
     "text": [
      "\rPROCESS: CountNews 6.400000 % ETA: 09:04:09"
     ]
    },
    {
     "name": "stdout",
     "output_type": "stream",
     "text": [
      "\rPROCESS: CountNews 6.400000 % ETA: 09:04:08"
     ]
    },
    {
     "name": "stdout",
     "output_type": "stream",
     "text": [
      "\rPROCESS: CountNews 6.500000 % ETA: 09:04:21"
     ]
    },
    {
     "name": "stdout",
     "output_type": "stream",
     "text": [
      "\rPROCESS: CountNews 6.500000 % ETA: 09:04:20"
     ]
    },
    {
     "name": "stdout",
     "output_type": "stream",
     "text": [
      "\rPROCESS: CountNews 6.600000 % ETA: 09:04:18"
     ]
    },
    {
     "name": "stdout",
     "output_type": "stream",
     "text": [
      "\rPROCESS: CountNews 6.600000 % ETA: 09:04:16"
     ]
    },
    {
     "name": "stdout",
     "output_type": "stream",
     "text": [
      "\rPROCESS: CountNews 6.700000 % ETA: 09:04:15"
     ]
    },
    {
     "name": "stdout",
     "output_type": "stream",
     "text": [
      "\rPROCESS: CountNews 6.700000 % ETA: 09:04:13"
     ]
    },
    {
     "name": "stdout",
     "output_type": "stream",
     "text": [
      "\rPROCESS: CountNews 6.800000 % ETA: 09:04:11"
     ]
    },
    {
     "name": "stdout",
     "output_type": "stream",
     "text": [
      "\rPROCESS: CountNews 6.800000 % ETA: 09:04:10"
     ]
    },
    {
     "name": "stdout",
     "output_type": "stream",
     "text": [
      "\rPROCESS: CountNews 6.800000 % ETA: 09:04:08"
     ]
    },
    {
     "name": "stdout",
     "output_type": "stream",
     "text": [
      "\rPROCESS: CountNews 6.900000 % ETA: 09:04:21"
     ]
    },
    {
     "name": "stdout",
     "output_type": "stream",
     "text": [
      "\rPROCESS: CountNews 6.900000 % ETA: 09:04:19"
     ]
    },
    {
     "name": "stdout",
     "output_type": "stream",
     "text": [
      "\rPROCESS: CountNews 7.000000 % ETA: 09:04:18"
     ]
    },
    {
     "name": "stdout",
     "output_type": "stream",
     "text": [
      "\rPROCESS: CountNews 7.000000 % ETA: 09:04:16"
     ]
    },
    {
     "name": "stdout",
     "output_type": "stream",
     "text": [
      "\rPROCESS: CountNews 7.100000 % ETA: 09:04:15"
     ]
    },
    {
     "name": "stdout",
     "output_type": "stream",
     "text": [
      "\rPROCESS: CountNews 7.100000 % ETA: 09:04:13"
     ]
    },
    {
     "name": "stdout",
     "output_type": "stream",
     "text": [
      "\rPROCESS: CountNews 7.100000 % ETA: 09:04:12"
     ]
    },
    {
     "name": "stdout",
     "output_type": "stream",
     "text": [
      "\rPROCESS: CountNews 7.200000 % ETA: 09:04:10"
     ]
    },
    {
     "name": "stdout",
     "output_type": "stream",
     "text": [
      "\rPROCESS: CountNews 7.200000 % ETA: 09:04:09"
     ]
    },
    {
     "name": "stdout",
     "output_type": "stream",
     "text": [
      "\rPROCESS: CountNews 7.300000 % ETA: 09:04:07"
     ]
    },
    {
     "name": "stdout",
     "output_type": "stream",
     "text": [
      "\rPROCESS: CountNews 7.300000 % ETA: 09:04:19"
     ]
    },
    {
     "name": "stdout",
     "output_type": "stream",
     "text": [
      "\rPROCESS: CountNews 7.400000 % ETA: 09:04:18"
     ]
    },
    {
     "name": "stdout",
     "output_type": "stream",
     "text": [
      "\rPROCESS: CountNews 7.400000 % ETA: 09:04:16"
     ]
    },
    {
     "name": "stdout",
     "output_type": "stream",
     "text": [
      "\rPROCESS: CountNews 7.400000 % ETA: 09:04:15"
     ]
    },
    {
     "name": "stdout",
     "output_type": "stream",
     "text": [
      "\rPROCESS: CountNews 7.500000 % ETA: 09:04:13"
     ]
    },
    {
     "name": "stdout",
     "output_type": "stream",
     "text": [
      "\rPROCESS: CountNews 7.500000 % ETA: 09:04:12"
     ]
    },
    {
     "name": "stdout",
     "output_type": "stream",
     "text": [
      "\rPROCESS: CountNews 7.600000 % ETA: 09:04:10"
     ]
    },
    {
     "name": "stdout",
     "output_type": "stream",
     "text": [
      "\rPROCESS: CountNews 7.600000 % ETA: 09:04:09"
     ]
    },
    {
     "name": "stdout",
     "output_type": "stream",
     "text": [
      "\rPROCESS: CountNews 7.700000 % ETA: 09:04:21"
     ]
    },
    {
     "name": "stdout",
     "output_type": "stream",
     "text": [
      "\rPROCESS: CountNews 7.700000 % ETA: 09:04:19"
     ]
    },
    {
     "name": "stdout",
     "output_type": "stream",
     "text": [
      "\rPROCESS: CountNews 7.700000 % ETA: 09:04:18"
     ]
    },
    {
     "name": "stdout",
     "output_type": "stream",
     "text": [
      "\rPROCESS: CountNews 7.800000 % ETA: 09:04:16"
     ]
    },
    {
     "name": "stdout",
     "output_type": "stream",
     "text": [
      "\rPROCESS: CountNews 7.800000 % ETA: 09:04:15"
     ]
    },
    {
     "name": "stdout",
     "output_type": "stream",
     "text": [
      "\rPROCESS: CountNews 7.900000 % ETA: 09:04:13"
     ]
    },
    {
     "name": "stdout",
     "output_type": "stream",
     "text": [
      "\rPROCESS: CountNews 7.900000 % ETA: 09:04:12"
     ]
    },
    {
     "name": "stdout",
     "output_type": "stream",
     "text": [
      "\rPROCESS: CountNews 8.000000 % ETA: 09:04:11"
     ]
    },
    {
     "name": "stdout",
     "output_type": "stream",
     "text": [
      "\rPROCESS: CountNews 8.000000 % ETA: 09:04:09"
     ]
    },
    {
     "name": "stdout",
     "output_type": "stream",
     "text": [
      "\rPROCESS: CountNews 8.000000 % ETA: 09:04:20"
     ]
    },
    {
     "name": "stdout",
     "output_type": "stream",
     "text": [
      "\rPROCESS: CountNews 8.100000 % ETA: 09:04:19"
     ]
    },
    {
     "name": "stdout",
     "output_type": "stream",
     "text": [
      "\rPROCESS: CountNews 8.100000 % ETA: 09:04:18"
     ]
    },
    {
     "name": "stdout",
     "output_type": "stream",
     "text": [
      "\rPROCESS: CountNews 8.200000 % ETA: 09:04:16"
     ]
    },
    {
     "name": "stdout",
     "output_type": "stream",
     "text": [
      "\rPROCESS: CountNews 8.200000 % ETA: 09:04:15"
     ]
    },
    {
     "name": "stdout",
     "output_type": "stream",
     "text": [
      "\rPROCESS: CountNews 8.300000 % ETA: 09:04:14"
     ]
    },
    {
     "name": "stdout",
     "output_type": "stream",
     "text": [
      "\rPROCESS: CountNews 8.300000 % ETA: 09:04:12"
     ]
    },
    {
     "name": "stdout",
     "output_type": "stream",
     "text": [
      "\rPROCESS: CountNews 8.400000 % ETA: 09:04:11"
     ]
    },
    {
     "name": "stdout",
     "output_type": "stream",
     "text": [
      "\rPROCESS: CountNews 8.400000 % ETA: 09:04:10"
     ]
    },
    {
     "name": "stdout",
     "output_type": "stream",
     "text": [
      "\rPROCESS: CountNews 8.400000 % ETA: 09:04:08"
     ]
    },
    {
     "name": "stdout",
     "output_type": "stream",
     "text": [
      "\rPROCESS: CountNews 8.500000 % ETA: 09:04:19"
     ]
    },
    {
     "name": "stdout",
     "output_type": "stream",
     "text": [
      "\rPROCESS: CountNews 8.500000 % ETA: 09:04:18"
     ]
    },
    {
     "name": "stdout",
     "output_type": "stream",
     "text": [
      "\rPROCESS: CountNews 8.600000 % ETA: 09:04:16"
     ]
    },
    {
     "name": "stdout",
     "output_type": "stream",
     "text": [
      "\rPROCESS: CountNews 8.600000 % ETA: 09:04:15"
     ]
    },
    {
     "name": "stdout",
     "output_type": "stream",
     "text": [
      "\rPROCESS: CountNews 8.700000 % ETA: 09:04:14"
     ]
    },
    {
     "name": "stdout",
     "output_type": "stream",
     "text": [
      "\rPROCESS: CountNews 8.700000 % ETA: 09:04:12"
     ]
    },
    {
     "name": "stdout",
     "output_type": "stream",
     "text": [
      "\rPROCESS: CountNews 8.700000 % ETA: 09:04:11"
     ]
    },
    {
     "name": "stdout",
     "output_type": "stream",
     "text": [
      "\rPROCESS: CountNews 8.800000 % ETA: 09:04:10"
     ]
    },
    {
     "name": "stdout",
     "output_type": "stream",
     "text": [
      "\rPROCESS: CountNews 8.800000 % ETA: 09:04:20"
     ]
    },
    {
     "name": "stdout",
     "output_type": "stream",
     "text": [
      "\rPROCESS: CountNews 8.900000 % ETA: 09:04:19"
     ]
    },
    {
     "name": "stdout",
     "output_type": "stream",
     "text": [
      "\rPROCESS: CountNews 8.900000 % ETA: 09:04:18"
     ]
    },
    {
     "name": "stdout",
     "output_type": "stream",
     "text": [
      "\rPROCESS: CountNews 9.000000 % ETA: 09:04:16"
     ]
    },
    {
     "name": "stdout",
     "output_type": "stream",
     "text": [
      "\rPROCESS: CountNews 9.000000 % ETA: 09:04:15"
     ]
    },
    {
     "name": "stdout",
     "output_type": "stream",
     "text": [
      "\rPROCESS: CountNews 9.000000 % ETA: 09:04:14"
     ]
    },
    {
     "name": "stdout",
     "output_type": "stream",
     "text": [
      "\rPROCESS: CountNews 9.100000 % ETA: 09:04:13"
     ]
    },
    {
     "name": "stdout",
     "output_type": "stream",
     "text": [
      "\rPROCESS: CountNews 9.100000 % ETA: 09:04:11"
     ]
    },
    {
     "name": "stdout",
     "output_type": "stream",
     "text": [
      "\rPROCESS: CountNews 9.200000 % ETA: 09:04:10"
     ]
    },
    {
     "name": "stdout",
     "output_type": "stream",
     "text": [
      "\rPROCESS: CountNews 9.200000 % ETA: 09:04:09"
     ]
    },
    {
     "name": "stdout",
     "output_type": "stream",
     "text": [
      "\rPROCESS: CountNews 9.300000 % ETA: 09:04:19"
     ]
    },
    {
     "name": "stdout",
     "output_type": "stream",
     "text": [
      "\rPROCESS: CountNews 9.300000 % ETA: 09:04:17"
     ]
    },
    {
     "name": "stdout",
     "output_type": "stream",
     "text": [
      "\rPROCESS: CountNews 9.300000 % ETA: 09:04:16"
     ]
    },
    {
     "name": "stdout",
     "output_type": "stream",
     "text": [
      "\rPROCESS: CountNews 9.400000 % ETA: 09:04:15"
     ]
    },
    {
     "name": "stdout",
     "output_type": "stream",
     "text": [
      "\rPROCESS: CountNews 9.400000 % ETA: 09:04:14"
     ]
    },
    {
     "name": "stdout",
     "output_type": "stream",
     "text": [
      "\rPROCESS: CountNews 9.500000 % ETA: 09:04:13"
     ]
    },
    {
     "name": "stdout",
     "output_type": "stream",
     "text": [
      "\rPROCESS: CountNews 9.500000 % ETA: 09:04:12"
     ]
    },
    {
     "name": "stdout",
     "output_type": "stream",
     "text": [
      "\rPROCESS: CountNews 9.600000 % ETA: 09:04:10"
     ]
    },
    {
     "name": "stdout",
     "output_type": "stream",
     "text": [
      "\rPROCESS: CountNews 9.600000 % ETA: 09:04:09"
     ]
    },
    {
     "name": "stdout",
     "output_type": "stream",
     "text": [
      "\rPROCESS: CountNews 9.600000 % ETA: 09:04:08"
     ]
    },
    {
     "name": "stdout",
     "output_type": "stream",
     "text": [
      "\rPROCESS: CountNews 9.700000 % ETA: 09:04:17"
     ]
    },
    {
     "name": "stdout",
     "output_type": "stream",
     "text": [
      "\rPROCESS: CountNews 9.700000 % ETA: 09:04:16"
     ]
    },
    {
     "name": "stdout",
     "output_type": "stream",
     "text": [
      "\rPROCESS: CountNews 9.800000 % ETA: 09:04:15"
     ]
    },
    {
     "name": "stdout",
     "output_type": "stream",
     "text": [
      "\rPROCESS: CountNews 9.800000 % ETA: 09:04:14"
     ]
    },
    {
     "name": "stdout",
     "output_type": "stream",
     "text": [
      "\rPROCESS: CountNews 9.900000 % ETA: 09:04:13"
     ]
    },
    {
     "name": "stdout",
     "output_type": "stream",
     "text": [
      "\rPROCESS: CountNews 9.900000 % ETA: 09:04:12"
     ]
    },
    {
     "name": "stdout",
     "output_type": "stream",
     "text": [
      "\rPROCESS: CountNews 10.000000 % ETA: 09:04:11"
     ]
    },
    {
     "name": "stdout",
     "output_type": "stream",
     "text": [
      "\rPROCESS: CountNews 10.000000 % ETA: 09:04:10"
     ]
    },
    {
     "name": "stdout",
     "output_type": "stream",
     "text": [
      "\rPROCESS: CountNews 10.000000 % ETA: 09:04:09"
     ]
    },
    {
     "name": "stdout",
     "output_type": "stream",
     "text": [
      "\rPROCESS: CountNews 10.100000 % ETA: 09:04:07"
     ]
    },
    {
     "name": "stdout",
     "output_type": "stream",
     "text": [
      "\rPROCESS: CountNews 10.100000 % ETA: 09:04:16"
     ]
    },
    {
     "name": "stdout",
     "output_type": "stream",
     "text": [
      "\rPROCESS: CountNews 10.200000 % ETA: 09:04:15"
     ]
    },
    {
     "name": "stdout",
     "output_type": "stream",
     "text": [
      "\rPROCESS: CountNews 10.200000 % ETA: 09:04:14"
     ]
    },
    {
     "name": "stdout",
     "output_type": "stream",
     "text": [
      "\rPROCESS: CountNews 10.300000 % ETA: 09:04:13"
     ]
    },
    {
     "name": "stdout",
     "output_type": "stream",
     "text": [
      "\rPROCESS: CountNews 10.300000 % ETA: 09:04:12"
     ]
    },
    {
     "name": "stdout",
     "output_type": "stream",
     "text": [
      "\rPROCESS: CountNews 10.300000 % ETA: 09:04:11"
     ]
    },
    {
     "name": "stdout",
     "output_type": "stream",
     "text": [
      "\rPROCESS: CountNews 10.400000 % ETA: 09:04:10"
     ]
    },
    {
     "name": "stdout",
     "output_type": "stream",
     "text": [
      "\rPROCESS: CountNews 10.400000 % ETA: 09:04:09"
     ]
    },
    {
     "name": "stdout",
     "output_type": "stream",
     "text": [
      "\rPROCESS: CountNews 10.500000 % ETA: 09:04:08"
     ]
    },
    {
     "name": "stdout",
     "output_type": "stream",
     "text": [
      "\rPROCESS: CountNews 10.500000 % ETA: 09:04:16"
     ]
    },
    {
     "name": "stdout",
     "output_type": "stream",
     "text": [
      "\rPROCESS: CountNews 10.600000 % ETA: 09:04:15"
     ]
    },
    {
     "name": "stdout",
     "output_type": "stream",
     "text": [
      "\rPROCESS: CountNews 10.600000 % ETA: 09:04:14"
     ]
    },
    {
     "name": "stdout",
     "output_type": "stream",
     "text": [
      "\rPROCESS: CountNews 10.600000 % ETA: 09:04:13"
     ]
    },
    {
     "name": "stdout",
     "output_type": "stream",
     "text": [
      "\rPROCESS: CountNews 10.700000 % ETA: 09:04:12"
     ]
    },
    {
     "name": "stdout",
     "output_type": "stream",
     "text": [
      "\rPROCESS: CountNews 10.700000 % ETA: 09:04:11"
     ]
    },
    {
     "name": "stdout",
     "output_type": "stream",
     "text": [
      "\rPROCESS: CountNews 10.800000 % ETA: 09:04:10"
     ]
    },
    {
     "name": "stdout",
     "output_type": "stream",
     "text": [
      "\rPROCESS: CountNews 10.800000 % ETA: 09:04:09"
     ]
    },
    {
     "name": "stdout",
     "output_type": "stream",
     "text": [
      "\rPROCESS: CountNews 10.900000 % ETA: 09:04:08"
     ]
    },
    {
     "name": "stdout",
     "output_type": "stream",
     "text": [
      "\rPROCESS: CountNews 10.900000 % ETA: 09:04:07"
     ]
    },
    {
     "name": "stdout",
     "output_type": "stream",
     "text": [
      "\rPROCESS: CountNews 10.900000 % ETA: 09:04:15"
     ]
    },
    {
     "name": "stdout",
     "output_type": "stream",
     "text": [
      "\rPROCESS: CountNews 11.000000 % ETA: 09:04:14"
     ]
    },
    {
     "name": "stdout",
     "output_type": "stream",
     "text": [
      "\rPROCESS: CountNews 11.000000 % ETA: 09:04:13"
     ]
    },
    {
     "name": "stdout",
     "output_type": "stream",
     "text": [
      "\rPROCESS: CountNews 11.100000 % ETA: 09:04:12"
     ]
    },
    {
     "name": "stdout",
     "output_type": "stream",
     "text": [
      "\rPROCESS: CountNews 11.100000 % ETA: 09:04:11"
     ]
    },
    {
     "name": "stdout",
     "output_type": "stream",
     "text": [
      "\rPROCESS: CountNews 11.200000 % ETA: 09:04:10"
     ]
    },
    {
     "name": "stdout",
     "output_type": "stream",
     "text": [
      "\rPROCESS: CountNews 11.200000 % ETA: 09:04:09"
     ]
    },
    {
     "name": "stdout",
     "output_type": "stream",
     "text": [
      "\rPROCESS: CountNews 11.300000 % ETA: 09:04:08"
     ]
    },
    {
     "name": "stdout",
     "output_type": "stream",
     "text": [
      "\rPROCESS: CountNews 11.300000 % ETA: 09:04:07"
     ]
    },
    {
     "name": "stdout",
     "output_type": "stream",
     "text": [
      "\rPROCESS: CountNews 11.300000 % ETA: 09:04:06"
     ]
    },
    {
     "name": "stdout",
     "output_type": "stream",
     "text": [
      "\rPROCESS: CountNews 11.400000 % ETA: 09:04:14"
     ]
    },
    {
     "name": "stdout",
     "output_type": "stream",
     "text": [
      "\rPROCESS: CountNews 11.400000 % ETA: 09:04:13"
     ]
    },
    {
     "name": "stdout",
     "output_type": "stream",
     "text": [
      "\rPROCESS: CountNews 11.500000 % ETA: 09:04:12"
     ]
    },
    {
     "name": "stdout",
     "output_type": "stream",
     "text": [
      "\rPROCESS: CountNews 11.500000 % ETA: 09:04:11"
     ]
    },
    {
     "name": "stdout",
     "output_type": "stream",
     "text": [
      "\rPROCESS: CountNews 11.600000 % ETA: 09:04:11"
     ]
    },
    {
     "name": "stdout",
     "output_type": "stream",
     "text": [
      "\rPROCESS: CountNews 11.600000 % ETA: 09:04:10"
     ]
    },
    {
     "name": "stdout",
     "output_type": "stream",
     "text": [
      "\rPROCESS: CountNews 11.600000 % ETA: 09:04:09"
     ]
    },
    {
     "name": "stdout",
     "output_type": "stream",
     "text": [
      "\rPROCESS: CountNews 11.700000 % ETA: 09:04:08"
     ]
    },
    {
     "name": "stdout",
     "output_type": "stream",
     "text": [
      "\rPROCESS: CountNews 11.700000 % ETA: 09:04:07"
     ]
    },
    {
     "name": "stdout",
     "output_type": "stream",
     "text": [
      "\rPROCESS: CountNews 11.800000 % ETA: 09:04:14"
     ]
    },
    {
     "name": "stdout",
     "output_type": "stream",
     "text": [
      "\rPROCESS: CountNews 11.800000 % ETA: 09:04:13"
     ]
    },
    {
     "name": "stdout",
     "output_type": "stream",
     "text": [
      "\rPROCESS: CountNews 11.900000 % ETA: 09:04:13"
     ]
    },
    {
     "name": "stdout",
     "output_type": "stream",
     "text": [
      "\rPROCESS: CountNews 11.900000 % ETA: 09:04:12"
     ]
    },
    {
     "name": "stdout",
     "output_type": "stream",
     "text": [
      "\rPROCESS: CountNews 11.900000 % ETA: 09:04:11"
     ]
    },
    {
     "name": "stdout",
     "output_type": "stream",
     "text": [
      "\rPROCESS: CountNews 12.000000 % ETA: 09:04:10"
     ]
    },
    {
     "name": "stdout",
     "output_type": "stream",
     "text": [
      "\rPROCESS: CountNews 12.000000 % ETA: 09:04:09"
     ]
    },
    {
     "name": "stdout",
     "output_type": "stream",
     "text": [
      "\rPROCESS: CountNews 12.100000 % ETA: 09:04:08"
     ]
    },
    {
     "name": "stdout",
     "output_type": "stream",
     "text": [
      "\rPROCESS: CountNews 12.100000 % ETA: 09:04:07"
     ]
    },
    {
     "name": "stdout",
     "output_type": "stream",
     "text": [
      "\rPROCESS: CountNews 12.200000 % ETA: 09:04:06"
     ]
    },
    {
     "name": "stdout",
     "output_type": "stream",
     "text": [
      "\rPROCESS: CountNews 12.200000 % ETA: 09:04:14"
     ]
    },
    {
     "name": "stdout",
     "output_type": "stream",
     "text": [
      "\rPROCESS: CountNews 12.200000 % ETA: 09:04:13"
     ]
    },
    {
     "name": "stdout",
     "output_type": "stream",
     "text": [
      "\rPROCESS: CountNews 12.300000 % ETA: 09:04:12"
     ]
    },
    {
     "name": "stdout",
     "output_type": "stream",
     "text": [
      "\rPROCESS: CountNews 12.300000 % ETA: 09:04:11"
     ]
    },
    {
     "name": "stdout",
     "output_type": "stream",
     "text": [
      "\rPROCESS: CountNews 12.400000 % ETA: 09:04:10"
     ]
    },
    {
     "name": "stdout",
     "output_type": "stream",
     "text": [
      "\rPROCESS: CountNews 12.400000 % ETA: 09:04:09"
     ]
    },
    {
     "name": "stdout",
     "output_type": "stream",
     "text": [
      "\rPROCESS: CountNews 12.500000 % ETA: 09:04:08"
     ]
    },
    {
     "name": "stdout",
     "output_type": "stream",
     "text": [
      "\rPROCESS: CountNews 12.500000 % ETA: 09:04:07"
     ]
    },
    {
     "name": "stdout",
     "output_type": "stream",
     "text": [
      "\rPROCESS: CountNews 12.500000 % ETA: 09:04:07"
     ]
    },
    {
     "name": "stdout",
     "output_type": "stream",
     "text": [
      "\rPROCESS: CountNews 12.600000 % ETA: 09:04:06"
     ]
    },
    {
     "name": "stdout",
     "output_type": "stream",
     "text": [
      "\rPROCESS: CountNews 12.600000 % ETA: 09:04:13"
     ]
    },
    {
     "name": "stdout",
     "output_type": "stream",
     "text": [
      "\rPROCESS: CountNews 12.700000 % ETA: 09:04:12"
     ]
    },
    {
     "name": "stdout",
     "output_type": "stream",
     "text": [
      "\rPROCESS: CountNews 12.700000 % ETA: 09:04:11"
     ]
    },
    {
     "name": "stdout",
     "output_type": "stream",
     "text": [
      "\rPROCESS: CountNews 12.800000 % ETA: 09:04:10"
     ]
    },
    {
     "name": "stdout",
     "output_type": "stream",
     "text": [
      "\rPROCESS: CountNews 12.800000 % ETA: 09:04:09"
     ]
    },
    {
     "name": "stdout",
     "output_type": "stream",
     "text": [
      "\rPROCESS: CountNews 12.900000 % ETA: 09:04:08"
     ]
    },
    {
     "name": "stdout",
     "output_type": "stream",
     "text": [
      "\rPROCESS: CountNews 12.900000 % ETA: 09:04:08"
     ]
    },
    {
     "name": "stdout",
     "output_type": "stream",
     "text": [
      "\rPROCESS: CountNews 12.900000 % ETA: 09:04:07"
     ]
    },
    {
     "name": "stdout",
     "output_type": "stream",
     "text": [
      "\rPROCESS: CountNews 13.000000 % ETA: 09:04:06"
     ]
    },
    {
     "name": "stdout",
     "output_type": "stream",
     "text": [
      "\rPROCESS: CountNews 13.000000 % ETA: 09:04:13"
     ]
    },
    {
     "name": "stdout",
     "output_type": "stream",
     "text": [
      "\rPROCESS: CountNews 13.100000 % ETA: 09:04:12"
     ]
    },
    {
     "name": "stdout",
     "output_type": "stream",
     "text": [
      "\rPROCESS: CountNews 13.100000 % ETA: 09:04:11"
     ]
    },
    {
     "name": "stdout",
     "output_type": "stream",
     "text": [
      "\rPROCESS: CountNews 13.200000 % ETA: 09:04:10"
     ]
    },
    {
     "name": "stdout",
     "output_type": "stream",
     "text": [
      "\rPROCESS: CountNews 13.200000 % ETA: 09:04:10"
     ]
    },
    {
     "name": "stdout",
     "output_type": "stream",
     "text": [
      "\rPROCESS: CountNews 13.200000 % ETA: 09:04:09"
     ]
    },
    {
     "name": "stdout",
     "output_type": "stream",
     "text": [
      "\rPROCESS: CountNews 13.300000 % ETA: 09:04:08"
     ]
    },
    {
     "name": "stdout",
     "output_type": "stream",
     "text": [
      "\rPROCESS: CountNews 13.300000 % ETA: 09:04:07"
     ]
    },
    {
     "name": "stdout",
     "output_type": "stream",
     "text": [
      "\rPROCESS: CountNews 13.400000 % ETA: 09:04:14"
     ]
    },
    {
     "name": "stdout",
     "output_type": "stream",
     "text": [
      "\rPROCESS: CountNews 13.400000 % ETA: 09:04:13"
     ]
    },
    {
     "name": "stdout",
     "output_type": "stream",
     "text": [
      "\rPROCESS: CountNews 13.500000 % ETA: 09:04:12"
     ]
    },
    {
     "name": "stdout",
     "output_type": "stream",
     "text": [
      "\rPROCESS: CountNews 13.500000 % ETA: 09:04:11"
     ]
    },
    {
     "name": "stdout",
     "output_type": "stream",
     "text": [
      "\rPROCESS: CountNews 13.500000 % ETA: 09:04:11"
     ]
    },
    {
     "name": "stdout",
     "output_type": "stream",
     "text": [
      "\rPROCESS: CountNews 13.600000 % ETA: 09:04:10"
     ]
    },
    {
     "name": "stdout",
     "output_type": "stream",
     "text": [
      "\rPROCESS: CountNews 13.600000 % ETA: 09:04:09"
     ]
    },
    {
     "name": "stdout",
     "output_type": "stream",
     "text": [
      "\rPROCESS: CountNews 13.700000 % ETA: 09:04:08"
     ]
    },
    {
     "name": "stdout",
     "output_type": "stream",
     "text": [
      "\rPROCESS: CountNews 13.700000 % ETA: 09:04:07"
     ]
    },
    {
     "name": "stdout",
     "output_type": "stream",
     "text": [
      "\rPROCESS: CountNews 13.800000 % ETA: 09:04:07"
     ]
    },
    {
     "name": "stdout",
     "output_type": "stream",
     "text": [
      "\rPROCESS: CountNews 13.800000 % ETA: 09:04:13"
     ]
    },
    {
     "name": "stdout",
     "output_type": "stream",
     "text": [
      "\rPROCESS: CountNews 13.800000 % ETA: 09:04:12"
     ]
    },
    {
     "name": "stdout",
     "output_type": "stream",
     "text": [
      "\rPROCESS: CountNews 13.900000 % ETA: 09:04:11"
     ]
    },
    {
     "name": "stdout",
     "output_type": "stream",
     "text": [
      "\rPROCESS: CountNews 13.900000 % ETA: 09:04:11"
     ]
    },
    {
     "name": "stdout",
     "output_type": "stream",
     "text": [
      "\rPROCESS: CountNews 14.000000 % ETA: 09:04:10"
     ]
    },
    {
     "name": "stdout",
     "output_type": "stream",
     "text": [
      "\rPROCESS: CountNews 14.000000 % ETA: 09:04:09"
     ]
    },
    {
     "name": "stdout",
     "output_type": "stream",
     "text": [
      "\rPROCESS: CountNews 14.100000 % ETA: 09:04:08"
     ]
    },
    {
     "name": "stdout",
     "output_type": "stream",
     "text": [
      "\rPROCESS: CountNews 14.100000 % ETA: 09:04:08"
     ]
    },
    {
     "name": "stdout",
     "output_type": "stream",
     "text": [
      "\rPROCESS: CountNews 14.100000 % ETA: 09:04:07"
     ]
    },
    {
     "name": "stdout",
     "output_type": "stream",
     "text": [
      "\rPROCESS: CountNews 14.200000 % ETA: 09:04:13"
     ]
    },
    {
     "name": "stdout",
     "output_type": "stream",
     "text": [
      "\rPROCESS: CountNews 14.200000 % ETA: 09:04:12"
     ]
    },
    {
     "name": "stdout",
     "output_type": "stream",
     "text": [
      "\rPROCESS: CountNews 14.300000 % ETA: 09:04:12"
     ]
    },
    {
     "name": "stdout",
     "output_type": "stream",
     "text": [
      "\rPROCESS: CountNews 14.300000 % ETA: 09:04:11"
     ]
    },
    {
     "name": "stdout",
     "output_type": "stream",
     "text": [
      "\rPROCESS: CountNews 14.400000 % ETA: 09:04:10"
     ]
    },
    {
     "name": "stdout",
     "output_type": "stream",
     "text": [
      "\rPROCESS: CountNews 14.400000 % ETA: 09:04:09"
     ]
    },
    {
     "name": "stdout",
     "output_type": "stream",
     "text": [
      "\rPROCESS: CountNews 14.500000 % ETA: 09:04:09"
     ]
    },
    {
     "name": "stdout",
     "output_type": "stream",
     "text": [
      "\rPROCESS: CountNews 14.500000 % ETA: 09:04:08"
     ]
    },
    {
     "name": "stdout",
     "output_type": "stream",
     "text": [
      "\rPROCESS: CountNews 14.500000 % ETA: 09:04:07"
     ]
    },
    {
     "name": "stdout",
     "output_type": "stream",
     "text": [
      "\rPROCESS: CountNews 14.600000 % ETA: 09:04:13"
     ]
    },
    {
     "name": "stdout",
     "output_type": "stream",
     "text": [
      "\rPROCESS: CountNews 14.600000 % ETA: 09:04:12"
     ]
    },
    {
     "name": "stdout",
     "output_type": "stream",
     "text": [
      "\rPROCESS: CountNews 14.700000 % ETA: 09:04:12"
     ]
    },
    {
     "name": "stdout",
     "output_type": "stream",
     "text": [
      "\rPROCESS: CountNews 14.700000 % ETA: 09:04:11"
     ]
    },
    {
     "name": "stdout",
     "output_type": "stream",
     "text": [
      "\rPROCESS: CountNews 14.800000 % ETA: 09:04:10"
     ]
    },
    {
     "name": "stdout",
     "output_type": "stream",
     "text": [
      "\rPROCESS: CountNews 14.800000 % ETA: 09:04:10"
     ]
    },
    {
     "name": "stdout",
     "output_type": "stream",
     "text": [
      "\rPROCESS: CountNews 14.800000 % ETA: 09:04:09"
     ]
    },
    {
     "name": "stdout",
     "output_type": "stream",
     "text": [
      "\rPROCESS: CountNews 14.900000 % ETA: 09:04:08"
     ]
    },
    {
     "name": "stdout",
     "output_type": "stream",
     "text": [
      "\rPROCESS: CountNews 14.900000 % ETA: 09:04:07"
     ]
    },
    {
     "name": "stdout",
     "output_type": "stream",
     "text": [
      "\rPROCESS: CountNews 15.000000 % ETA: 09:04:13"
     ]
    },
    {
     "name": "stdout",
     "output_type": "stream",
     "text": [
      "\rPROCESS: CountNews 15.000000 % ETA: 09:04:13"
     ]
    },
    {
     "name": "stdout",
     "output_type": "stream",
     "text": [
      "\rPROCESS: CountNews 15.100000 % ETA: 09:04:12"
     ]
    },
    {
     "name": "stdout",
     "output_type": "stream",
     "text": [
      "\rPROCESS: CountNews 15.100000 % ETA: 09:04:11"
     ]
    },
    {
     "name": "stdout",
     "output_type": "stream",
     "text": [
      "\rPROCESS: CountNews 15.100000 % ETA: 09:04:10"
     ]
    },
    {
     "name": "stdout",
     "output_type": "stream",
     "text": [
      "\rPROCESS: CountNews 15.200000 % ETA: 09:04:10"
     ]
    },
    {
     "name": "stdout",
     "output_type": "stream",
     "text": [
      "\rPROCESS: CountNews 15.200000 % ETA: 09:04:09"
     ]
    },
    {
     "name": "stdout",
     "output_type": "stream",
     "text": [
      "\rPROCESS: CountNews 15.300000 % ETA: 09:04:08"
     ]
    },
    {
     "name": "stdout",
     "output_type": "stream",
     "text": [
      "\rPROCESS: CountNews 15.300000 % ETA: 09:04:08"
     ]
    },
    {
     "name": "stdout",
     "output_type": "stream",
     "text": [
      "\rPROCESS: CountNews 15.400000 % ETA: 09:04:07"
     ]
    },
    {
     "name": "stdout",
     "output_type": "stream",
     "text": [
      "\rPROCESS: CountNews 15.400000 % ETA: 09:04:13"
     ]
    },
    {
     "name": "stdout",
     "output_type": "stream",
     "text": [
      "\rPROCESS: CountNews 15.400000 % ETA: 09:04:12"
     ]
    },
    {
     "name": "stdout",
     "output_type": "stream",
     "text": [
      "\rPROCESS: CountNews 15.500000 % ETA: 09:04:11"
     ]
    },
    {
     "name": "stdout",
     "output_type": "stream",
     "text": [
      "\rPROCESS: CountNews 15.500000 % ETA: 09:04:11"
     ]
    },
    {
     "name": "stdout",
     "output_type": "stream",
     "text": [
      "\rPROCESS: CountNews 15.600000 % ETA: 09:04:10"
     ]
    },
    {
     "name": "stdout",
     "output_type": "stream",
     "text": [
      "\rPROCESS: CountNews 15.600000 % ETA: 09:04:09"
     ]
    },
    {
     "name": "stdout",
     "output_type": "stream",
     "text": [
      "\rPROCESS: CountNews 15.700000 % ETA: 09:04:08"
     ]
    },
    {
     "name": "stdout",
     "output_type": "stream",
     "text": [
      "\rPROCESS: CountNews 15.700000 % ETA: 09:04:08"
     ]
    },
    {
     "name": "stdout",
     "output_type": "stream",
     "text": [
      "\rPROCESS: CountNews 15.800000 % ETA: 09:04:07"
     ]
    },
    {
     "name": "stdout",
     "output_type": "stream",
     "text": [
      "\rPROCESS: CountNews 15.800000 % ETA: 09:04:06"
     ]
    },
    {
     "name": "stdout",
     "output_type": "stream",
     "text": [
      "\rPROCESS: CountNews 15.800000 % ETA: 09:04:12"
     ]
    },
    {
     "name": "stdout",
     "output_type": "stream",
     "text": [
      "\rPROCESS: CountNews 15.900000 % ETA: 09:04:11"
     ]
    },
    {
     "name": "stdout",
     "output_type": "stream",
     "text": [
      "\rPROCESS: CountNews 15.900000 % ETA: 09:04:11"
     ]
    },
    {
     "name": "stdout",
     "output_type": "stream",
     "text": [
      "\rPROCESS: CountNews 16.000000 % ETA: 09:04:10"
     ]
    },
    {
     "name": "stdout",
     "output_type": "stream",
     "text": [
      "\rPROCESS: CountNews 16.000000 % ETA: 09:04:09"
     ]
    },
    {
     "name": "stdout",
     "output_type": "stream",
     "text": [
      "\rPROCESS: CountNews 16.100000 % ETA: 09:04:09"
     ]
    },
    {
     "name": "stdout",
     "output_type": "stream",
     "text": [
      "\rPROCESS: CountNews 16.100000 % ETA: 09:04:08"
     ]
    },
    {
     "name": "stdout",
     "output_type": "stream",
     "text": [
      "\rPROCESS: CountNews 16.100000 % ETA: 09:04:07"
     ]
    },
    {
     "name": "stdout",
     "output_type": "stream",
     "text": [
      "\rPROCESS: CountNews 16.200000 % ETA: 09:04:07"
     ]
    },
    {
     "name": "stdout",
     "output_type": "stream",
     "text": [
      "\rPROCESS: CountNews 16.200000 % ETA: 09:04:12"
     ]
    },
    {
     "name": "stdout",
     "output_type": "stream",
     "text": [
      "\rPROCESS: CountNews 16.300000 % ETA: 09:04:11"
     ]
    },
    {
     "name": "stdout",
     "output_type": "stream",
     "text": [
      "\rPROCESS: CountNews 16.300000 % ETA: 09:04:11"
     ]
    },
    {
     "name": "stdout",
     "output_type": "stream",
     "text": [
      "\rPROCESS: CountNews 16.400000 % ETA: 09:04:10"
     ]
    },
    {
     "name": "stdout",
     "output_type": "stream",
     "text": [
      "\rPROCESS: CountNews 16.400000 % ETA: 09:04:10"
     ]
    },
    {
     "name": "stdout",
     "output_type": "stream",
     "text": [
      "\rPROCESS: CountNews 16.400000 % ETA: 09:04:09"
     ]
    },
    {
     "name": "stdout",
     "output_type": "stream",
     "text": [
      "\rPROCESS: CountNews 16.500000 % ETA: 09:04:08"
     ]
    },
    {
     "name": "stdout",
     "output_type": "stream",
     "text": [
      "\rPROCESS: CountNews 16.500000 % ETA: 09:04:08"
     ]
    },
    {
     "name": "stdout",
     "output_type": "stream",
     "text": [
      "\rPROCESS: CountNews 16.600000 % ETA: 09:04:07"
     ]
    },
    {
     "name": "stdout",
     "output_type": "stream",
     "text": [
      "\rPROCESS: CountNews 16.600000 % ETA: 09:04:12"
     ]
    },
    {
     "name": "stdout",
     "output_type": "stream",
     "text": [
      "\rPROCESS: CountNews 16.700000 % ETA: 09:04:12"
     ]
    },
    {
     "name": "stdout",
     "output_type": "stream",
     "text": [
      "\rPROCESS: CountNews 16.700000 % ETA: 09:04:11"
     ]
    },
    {
     "name": "stdout",
     "output_type": "stream",
     "text": [
      "\rPROCESS: CountNews 16.700000 % ETA: 09:04:10"
     ]
    },
    {
     "name": "stdout",
     "output_type": "stream",
     "text": [
      "\rPROCESS: CountNews 16.800000 % ETA: 09:04:10"
     ]
    },
    {
     "name": "stdout",
     "output_type": "stream",
     "text": [
      "\rPROCESS: CountNews 16.800000 % ETA: 09:04:09"
     ]
    },
    {
     "name": "stdout",
     "output_type": "stream",
     "text": [
      "\rPROCESS: CountNews 16.900000 % ETA: 09:04:08"
     ]
    },
    {
     "name": "stdout",
     "output_type": "stream",
     "text": [
      "\rPROCESS: CountNews 16.900000 % ETA: 09:04:08"
     ]
    },
    {
     "name": "stdout",
     "output_type": "stream",
     "text": [
      "\rPROCESS: CountNews 17.000000 % ETA: 09:04:07"
     ]
    },
    {
     "name": "stdout",
     "output_type": "stream",
     "text": [
      "\rPROCESS: CountNews 17.000000 % ETA: 09:04:06"
     ]
    },
    {
     "name": "stdout",
     "output_type": "stream",
     "text": [
      "\rPROCESS: CountNews 17.000000 % ETA: 09:04:12"
     ]
    },
    {
     "name": "stdout",
     "output_type": "stream",
     "text": [
      "\rPROCESS: CountNews 17.100000 % ETA: 09:04:11"
     ]
    },
    {
     "name": "stdout",
     "output_type": "stream",
     "text": [
      "\rPROCESS: CountNews 17.100000 % ETA: 09:04:10"
     ]
    },
    {
     "name": "stdout",
     "output_type": "stream",
     "text": [
      "\rPROCESS: CountNews 17.200000 % ETA: 09:04:10"
     ]
    },
    {
     "name": "stdout",
     "output_type": "stream",
     "text": [
      "\rPROCESS: CountNews 17.200000 % ETA: 09:04:09"
     ]
    },
    {
     "name": "stdout",
     "output_type": "stream",
     "text": [
      "\rPROCESS: CountNews 17.300000 % ETA: 09:04:09"
     ]
    },
    {
     "name": "stdout",
     "output_type": "stream",
     "text": [
      "\rPROCESS: CountNews 17.300000 % ETA: 09:04:08"
     ]
    },
    {
     "name": "stdout",
     "output_type": "stream",
     "text": [
      "\rPROCESS: CountNews 17.400000 % ETA: 09:04:07"
     ]
    },
    {
     "name": "stdout",
     "output_type": "stream",
     "text": [
      "\rPROCESS: CountNews 17.400000 % ETA: 09:04:07"
     ]
    },
    {
     "name": "stdout",
     "output_type": "stream",
     "text": [
      "\rPROCESS: CountNews 17.400000 % ETA: 09:04:12"
     ]
    },
    {
     "name": "stdout",
     "output_type": "stream",
     "text": [
      "\rPROCESS: CountNews 17.500000 % ETA: 09:04:11"
     ]
    },
    {
     "name": "stdout",
     "output_type": "stream",
     "text": [
      "\rPROCESS: CountNews 17.500000 % ETA: 09:04:11"
     ]
    },
    {
     "name": "stdout",
     "output_type": "stream",
     "text": [
      "\rPROCESS: CountNews 17.600000 % ETA: 09:04:10"
     ]
    },
    {
     "name": "stdout",
     "output_type": "stream",
     "text": [
      "\rPROCESS: CountNews 17.600000 % ETA: 09:04:09"
     ]
    },
    {
     "name": "stdout",
     "output_type": "stream",
     "text": [
      "\rPROCESS: CountNews 17.700000 % ETA: 09:04:09"
     ]
    },
    {
     "name": "stdout",
     "output_type": "stream",
     "text": [
      "\rPROCESS: CountNews 17.700000 % ETA: 09:04:08"
     ]
    },
    {
     "name": "stdout",
     "output_type": "stream",
     "text": [
      "\rPROCESS: CountNews 17.700000 % ETA: 09:04:08"
     ]
    },
    {
     "name": "stdout",
     "output_type": "stream",
     "text": [
      "\rPROCESS: CountNews 17.800000 % ETA: 09:04:07"
     ]
    },
    {
     "name": "stdout",
     "output_type": "stream",
     "text": [
      "\rPROCESS: CountNews 17.800000 % ETA: 09:04:06"
     ]
    },
    {
     "name": "stdout",
     "output_type": "stream",
     "text": [
      "\rPROCESS: CountNews 17.900000 % ETA: 09:04:11"
     ]
    },
    {
     "name": "stdout",
     "output_type": "stream",
     "text": [
      "\rPROCESS: CountNews 17.900000 % ETA: 09:04:11"
     ]
    },
    {
     "name": "stdout",
     "output_type": "stream",
     "text": [
      "\rPROCESS: CountNews 18.000000 % ETA: 09:04:10"
     ]
    },
    {
     "name": "stdout",
     "output_type": "stream",
     "text": [
      "\rPROCESS: CountNews 18.000000 % ETA: 09:04:15"
     ]
    },
    {
     "name": "stdout",
     "output_type": "stream",
     "text": [
      "\rPROCESS: CountNews 18.000000 % ETA: 09:04:14"
     ]
    },
    {
     "name": "stdout",
     "output_type": "stream",
     "text": [
      "\rPROCESS: CountNews 18.100000 % ETA: 09:04:14"
     ]
    },
    {
     "name": "stdout",
     "output_type": "stream",
     "text": [
      "\rPROCESS: CountNews 18.100000 % ETA: 09:04:13"
     ]
    },
    {
     "name": "stdout",
     "output_type": "stream",
     "text": [
      "\rPROCESS: CountNews 18.200000 % ETA: 09:04:13"
     ]
    },
    {
     "name": "stdout",
     "output_type": "stream",
     "text": [
      "\rPROCESS: CountNews 18.200000 % ETA: 09:04:12"
     ]
    },
    {
     "name": "stdout",
     "output_type": "stream",
     "text": [
      "\rPROCESS: CountNews 18.300000 % ETA: 09:04:11"
     ]
    },
    {
     "name": "stdout",
     "output_type": "stream",
     "text": [
      "\rPROCESS: CountNews 18.300000 % ETA: 09:04:11"
     ]
    },
    {
     "name": "stdout",
     "output_type": "stream",
     "text": [
      "\rPROCESS: CountNews 18.300000 % ETA: 09:04:10"
     ]
    },
    {
     "name": "stdout",
     "output_type": "stream",
     "text": [
      "\rPROCESS: CountNews 18.400000 % ETA: 09:04:10"
     ]
    },
    {
     "name": "stdout",
     "output_type": "stream",
     "text": [
      "\rPROCESS: CountNews 18.400000 % ETA: 09:04:14"
     ]
    },
    {
     "name": "stdout",
     "output_type": "stream",
     "text": [
      "\rPROCESS: CountNews 18.500000 % ETA: 09:04:14"
     ]
    },
    {
     "name": "stdout",
     "output_type": "stream",
     "text": [
      "\rPROCESS: CountNews 18.500000 % ETA: 09:04:13"
     ]
    },
    {
     "name": "stdout",
     "output_type": "stream",
     "text": [
      "\rPROCESS: CountNews 18.600000 % ETA: 09:04:13"
     ]
    },
    {
     "name": "stdout",
     "output_type": "stream",
     "text": [
      "\rPROCESS: CountNews 18.600000 % ETA: 09:04:12"
     ]
    },
    {
     "name": "stdout",
     "output_type": "stream",
     "text": [
      "\rPROCESS: CountNews 18.600000 % ETA: 09:04:12"
     ]
    },
    {
     "name": "stdout",
     "output_type": "stream",
     "text": [
      "\rPROCESS: CountNews 18.700000 % ETA: 09:04:11"
     ]
    },
    {
     "name": "stdout",
     "output_type": "stream",
     "text": [
      "\rPROCESS: CountNews 18.700000 % ETA: 09:04:10"
     ]
    },
    {
     "name": "stdout",
     "output_type": "stream",
     "text": [
      "\rPROCESS: CountNews 18.800000 % ETA: 09:04:10"
     ]
    },
    {
     "name": "stdout",
     "output_type": "stream",
     "text": [
      "\rPROCESS: CountNews 18.800000 % ETA: 09:04:09"
     ]
    },
    {
     "name": "stdout",
     "output_type": "stream",
     "text": [
      "\rPROCESS: CountNews 18.900000 % ETA: 09:04:14"
     ]
    },
    {
     "name": "stdout",
     "output_type": "stream",
     "text": [
      "\rPROCESS: CountNews 18.900000 % ETA: 09:04:13"
     ]
    },
    {
     "name": "stdout",
     "output_type": "stream",
     "text": [
      "\rPROCESS: CountNews 19.000000 % ETA: 09:04:13"
     ]
    },
    {
     "name": "stdout",
     "output_type": "stream",
     "text": [
      "\rPROCESS: CountNews 19.000000 % ETA: 09:04:12"
     ]
    },
    {
     "name": "stdout",
     "output_type": "stream",
     "text": [
      "\rPROCESS: CountNews 19.000000 % ETA: 09:04:12"
     ]
    },
    {
     "name": "stdout",
     "output_type": "stream",
     "text": [
      "\rPROCESS: CountNews 19.100000 % ETA: 09:04:11"
     ]
    },
    {
     "name": "stdout",
     "output_type": "stream",
     "text": [
      "\rPROCESS: CountNews 19.100000 % ETA: 09:04:10"
     ]
    },
    {
     "name": "stdout",
     "output_type": "stream",
     "text": [
      "\rPROCESS: CountNews 19.200000 % ETA: 09:04:10"
     ]
    },
    {
     "name": "stdout",
     "output_type": "stream",
     "text": [
      "\rPROCESS: CountNews 19.200000 % ETA: 09:04:15"
     ]
    },
    {
     "name": "stdout",
     "output_type": "stream",
     "text": [
      "\rPROCESS: CountNews 19.300000 % ETA: 09:04:14"
     ]
    },
    {
     "name": "stdout",
     "output_type": "stream",
     "text": [
      "\rPROCESS: CountNews 19.300000 % ETA: 09:04:13"
     ]
    },
    {
     "name": "stdout",
     "output_type": "stream",
     "text": [
      "\rPROCESS: CountNews 19.300000 % ETA: 09:04:13"
     ]
    },
    {
     "name": "stdout",
     "output_type": "stream",
     "text": [
      "\rPROCESS: CountNews 19.400000 % ETA: 09:04:12"
     ]
    },
    {
     "name": "stdout",
     "output_type": "stream",
     "text": [
      "\rPROCESS: CountNews 19.400000 % ETA: 09:04:12"
     ]
    },
    {
     "name": "stdout",
     "output_type": "stream",
     "text": [
      "\rPROCESS: CountNews 19.500000 % ETA: 09:04:11"
     ]
    },
    {
     "name": "stdout",
     "output_type": "stream",
     "text": [
      "\rPROCESS: CountNews 19.500000 % ETA: 09:04:11"
     ]
    },
    {
     "name": "stdout",
     "output_type": "stream",
     "text": [
      "\rPROCESS: CountNews 19.600000 % ETA: 09:04:10"
     ]
    },
    {
     "name": "stdout",
     "output_type": "stream",
     "text": [
      "\rPROCESS: CountNews 19.600000 % ETA: 09:04:09"
     ]
    },
    {
     "name": "stdout",
     "output_type": "stream",
     "text": [
      "\rPROCESS: CountNews 19.600000 % ETA: 09:04:14"
     ]
    },
    {
     "name": "stdout",
     "output_type": "stream",
     "text": [
      "\rPROCESS: CountNews 19.700000 % ETA: 09:04:13"
     ]
    },
    {
     "name": "stdout",
     "output_type": "stream",
     "text": [
      "\rPROCESS: CountNews 19.700000 % ETA: 09:04:13"
     ]
    },
    {
     "name": "stdout",
     "output_type": "stream",
     "text": [
      "\rPROCESS: CountNews 19.800000 % ETA: 09:04:12"
     ]
    },
    {
     "name": "stdout",
     "output_type": "stream",
     "text": [
      "\rPROCESS: CountNews 19.800000 % ETA: 09:04:12"
     ]
    },
    {
     "name": "stdout",
     "output_type": "stream",
     "text": [
      "\rPROCESS: CountNews 19.900000 % ETA: 09:04:11"
     ]
    },
    {
     "name": "stdout",
     "output_type": "stream",
     "text": [
      "\rPROCESS: CountNews 19.900000 % ETA: 09:04:11"
     ]
    },
    {
     "name": "stdout",
     "output_type": "stream",
     "text": [
      "\rPROCESS: CountNews 19.900000 % ETA: 09:04:10"
     ]
    },
    {
     "name": "stdout",
     "output_type": "stream",
     "text": [
      "\rPROCESS: CountNews 20.000000 % ETA: 09:04:10"
     ]
    },
    {
     "name": "stdout",
     "output_type": "stream",
     "text": [
      "\rPROCESS: CountNews 20.000000 % ETA: 09:04:09"
     ]
    },
    {
     "name": "stdout",
     "output_type": "stream",
     "text": [
      "\rPROCESS: CountNews 20.100000 % ETA: 09:04:14"
     ]
    },
    {
     "name": "stdout",
     "output_type": "stream",
     "text": [
      "\rPROCESS: CountNews 20.100000 % ETA: 09:04:13"
     ]
    },
    {
     "name": "stdout",
     "output_type": "stream",
     "text": [
      "\rPROCESS: CountNews 20.200000 % ETA: 09:04:12"
     ]
    },
    {
     "name": "stdout",
     "output_type": "stream",
     "text": [
      "\rPROCESS: CountNews 20.200000 % ETA: 09:04:12"
     ]
    },
    {
     "name": "stdout",
     "output_type": "stream",
     "text": [
      "\rPROCESS: CountNews 20.300000 % ETA: 09:04:11"
     ]
    },
    {
     "name": "stdout",
     "output_type": "stream",
     "text": [
      "\rPROCESS: CountNews 20.300000 % ETA: 09:04:11"
     ]
    },
    {
     "name": "stdout",
     "output_type": "stream",
     "text": [
      "\rPROCESS: CountNews 20.300000 % ETA: 09:04:10"
     ]
    },
    {
     "name": "stdout",
     "output_type": "stream",
     "text": [
      "\rPROCESS: CountNews 20.400000 % ETA: 09:04:10"
     ]
    },
    {
     "name": "stdout",
     "output_type": "stream",
     "text": [
      "\rPROCESS: CountNews 20.400000 % ETA: 09:04:09"
     ]
    },
    {
     "name": "stdout",
     "output_type": "stream",
     "text": [
      "\rPROCESS: CountNews 20.500000 % ETA: 09:04:14"
     ]
    },
    {
     "name": "stdout",
     "output_type": "stream",
     "text": [
      "\rPROCESS: CountNews 20.500000 % ETA: 09:04:13"
     ]
    },
    {
     "name": "stdout",
     "output_type": "stream",
     "text": [
      "\rPROCESS: CountNews 20.600000 % ETA: 09:04:12"
     ]
    },
    {
     "name": "stdout",
     "output_type": "stream",
     "text": [
      "\rPROCESS: CountNews 20.600000 % ETA: 09:04:12"
     ]
    },
    {
     "name": "stdout",
     "output_type": "stream",
     "text": [
      "\rPROCESS: CountNews 20.600000 % ETA: 09:04:11"
     ]
    },
    {
     "name": "stdout",
     "output_type": "stream",
     "text": [
      "\rPROCESS: CountNews 20.700000 % ETA: 09:04:11"
     ]
    },
    {
     "name": "stdout",
     "output_type": "stream",
     "text": [
      "\rPROCESS: CountNews 20.700000 % ETA: 09:04:10"
     ]
    },
    {
     "name": "stdout",
     "output_type": "stream",
     "text": [
      "\rPROCESS: CountNews 20.800000 % ETA: 09:04:10"
     ]
    },
    {
     "name": "stdout",
     "output_type": "stream",
     "text": [
      "\rPROCESS: CountNews 20.800000 % ETA: 09:04:09"
     ]
    },
    {
     "name": "stdout",
     "output_type": "stream",
     "text": [
      "\rPROCESS: CountNews 20.900000 % ETA: 09:04:09"
     ]
    },
    {
     "name": "stdout",
     "output_type": "stream",
     "text": [
      "\rPROCESS: CountNews 20.900000 % ETA: 09:04:13"
     ]
    },
    {
     "name": "stdout",
     "output_type": "stream",
     "text": [
      "\rPROCESS: CountNews 20.900000 % ETA: 09:04:13"
     ]
    },
    {
     "name": "stdout",
     "output_type": "stream",
     "text": [
      "\rPROCESS: CountNews 21.000000 % ETA: 09:04:12"
     ]
    },
    {
     "name": "stdout",
     "output_type": "stream",
     "text": [
      "\rPROCESS: CountNews 21.000000 % ETA: 09:04:12"
     ]
    },
    {
     "name": "stdout",
     "output_type": "stream",
     "text": [
      "\rPROCESS: CountNews 21.100000 % ETA: 09:04:11"
     ]
    },
    {
     "name": "stdout",
     "output_type": "stream",
     "text": [
      "\rPROCESS: CountNews 21.100000 % ETA: 09:04:10"
     ]
    },
    {
     "name": "stdout",
     "output_type": "stream",
     "text": [
      "\rPROCESS: CountNews 21.200000 % ETA: 09:04:10"
     ]
    },
    {
     "name": "stdout",
     "output_type": "stream",
     "text": [
      "\rPROCESS: CountNews 21.200000 % ETA: 09:04:09"
     ]
    },
    {
     "name": "stdout",
     "output_type": "stream",
     "text": [
      "\rPROCESS: CountNews 21.200000 % ETA: 09:04:09"
     ]
    },
    {
     "name": "stdout",
     "output_type": "stream",
     "text": [
      "\rPROCESS: CountNews 21.300000 % ETA: 09:04:13"
     ]
    },
    {
     "name": "stdout",
     "output_type": "stream",
     "text": [
      "\rPROCESS: CountNews 21.300000 % ETA: 09:04:13"
     ]
    },
    {
     "name": "stdout",
     "output_type": "stream",
     "text": [
      "\rPROCESS: CountNews 21.400000 % ETA: 09:04:12"
     ]
    },
    {
     "name": "stdout",
     "output_type": "stream",
     "text": [
      "\rPROCESS: CountNews 21.400000 % ETA: 09:04:12"
     ]
    },
    {
     "name": "stdout",
     "output_type": "stream",
     "text": [
      "\rPROCESS: CountNews 21.500000 % ETA: 09:04:11"
     ]
    },
    {
     "name": "stdout",
     "output_type": "stream",
     "text": [
      "\rPROCESS: CountNews 21.500000 % ETA: 09:04:11"
     ]
    },
    {
     "name": "stdout",
     "output_type": "stream",
     "text": [
      "\rPROCESS: CountNews 21.500000 % ETA: 09:04:10"
     ]
    },
    {
     "name": "stdout",
     "output_type": "stream",
     "text": [
      "\rPROCESS: CountNews 21.600000 % ETA: 09:04:10"
     ]
    },
    {
     "name": "stdout",
     "output_type": "stream",
     "text": [
      "\rPROCESS: CountNews 21.600000 % ETA: 09:04:09"
     ]
    },
    {
     "name": "stdout",
     "output_type": "stream",
     "text": [
      "\rPROCESS: CountNews 21.700000 % ETA: 09:04:09"
     ]
    },
    {
     "name": "stdout",
     "output_type": "stream",
     "text": [
      "\rPROCESS: CountNews 21.700000 % ETA: 09:04:13"
     ]
    },
    {
     "name": "stdout",
     "output_type": "stream",
     "text": [
      "\rPROCESS: CountNews 21.800000 % ETA: 09:04:12"
     ]
    },
    {
     "name": "stdout",
     "output_type": "stream",
     "text": [
      "\rPROCESS: CountNews 21.800000 % ETA: 09:04:12"
     ]
    },
    {
     "name": "stdout",
     "output_type": "stream",
     "text": [
      "\rPROCESS: CountNews 21.900000 % ETA: 09:04:11"
     ]
    },
    {
     "name": "stdout",
     "output_type": "stream",
     "text": [
      "\rPROCESS: CountNews 21.900000 % ETA: 09:04:11"
     ]
    },
    {
     "name": "stdout",
     "output_type": "stream",
     "text": [
      "\rPROCESS: CountNews 21.900000 % ETA: 09:04:10"
     ]
    },
    {
     "name": "stdout",
     "output_type": "stream",
     "text": [
      "\rPROCESS: CountNews 22.000000 % ETA: 09:04:10"
     ]
    },
    {
     "name": "stdout",
     "output_type": "stream",
     "text": [
      "\rPROCESS: CountNews 22.000000 % ETA: 09:04:09"
     ]
    },
    {
     "name": "stdout",
     "output_type": "stream",
     "text": [
      "\rPROCESS: CountNews 22.100000 % ETA: 09:04:09"
     ]
    },
    {
     "name": "stdout",
     "output_type": "stream",
     "text": [
      "\rPROCESS: CountNews 22.100000 % ETA: 09:04:13"
     ]
    },
    {
     "name": "stdout",
     "output_type": "stream",
     "text": [
      "\rPROCESS: CountNews 22.200000 % ETA: 09:04:12"
     ]
    },
    {
     "name": "stdout",
     "output_type": "stream",
     "text": [
      "\rPROCESS: CountNews 22.200000 % ETA: 09:04:12"
     ]
    },
    {
     "name": "stdout",
     "output_type": "stream",
     "text": [
      "\rPROCESS: CountNews 22.200000 % ETA: 09:04:11"
     ]
    },
    {
     "name": "stdout",
     "output_type": "stream",
     "text": [
      "\rPROCESS: CountNews 22.300000 % ETA: 09:04:11"
     ]
    },
    {
     "name": "stdout",
     "output_type": "stream",
     "text": [
      "\rPROCESS: CountNews 22.300000 % ETA: 09:04:10"
     ]
    },
    {
     "name": "stdout",
     "output_type": "stream",
     "text": [
      "\rPROCESS: CountNews 22.400000 % ETA: 09:04:10"
     ]
    },
    {
     "name": "stdout",
     "output_type": "stream",
     "text": [
      "\rPROCESS: CountNews 22.400000 % ETA: 09:04:09"
     ]
    },
    {
     "name": "stdout",
     "output_type": "stream",
     "text": [
      "\rPROCESS: CountNews 22.500000 % ETA: 09:04:09"
     ]
    },
    {
     "name": "stdout",
     "output_type": "stream",
     "text": [
      "\rPROCESS: CountNews 22.500000 % ETA: 09:04:08"
     ]
    },
    {
     "name": "stdout",
     "output_type": "stream",
     "text": [
      "\rPROCESS: CountNews 22.500000 % ETA: 09:04:12"
     ]
    },
    {
     "name": "stdout",
     "output_type": "stream",
     "text": [
      "\rPROCESS: CountNews 22.600000 % ETA: 09:04:12"
     ]
    },
    {
     "name": "stdout",
     "output_type": "stream",
     "text": [
      "\rPROCESS: CountNews 22.600000 % ETA: 09:04:11"
     ]
    },
    {
     "name": "stdout",
     "output_type": "stream",
     "text": [
      "\rPROCESS: CountNews 22.700000 % ETA: 09:04:11"
     ]
    },
    {
     "name": "stdout",
     "output_type": "stream",
     "text": [
      "\rPROCESS: CountNews 22.700000 % ETA: 09:04:10"
     ]
    },
    {
     "name": "stdout",
     "output_type": "stream",
     "text": [
      "\rPROCESS: CountNews 22.800000 % ETA: 09:04:10"
     ]
    },
    {
     "name": "stdout",
     "output_type": "stream",
     "text": [
      "\rPROCESS: CountNews 22.800000 % ETA: 09:04:09"
     ]
    },
    {
     "name": "stdout",
     "output_type": "stream",
     "text": [
      "\rPROCESS: CountNews 22.800000 % ETA: 09:04:09"
     ]
    },
    {
     "name": "stdout",
     "output_type": "stream",
     "text": [
      "\rPROCESS: CountNews 22.900000 % ETA: 09:04:09"
     ]
    },
    {
     "name": "stdout",
     "output_type": "stream",
     "text": [
      "\rPROCESS: CountNews 22.900000 % ETA: 09:04:08"
     ]
    },
    {
     "name": "stdout",
     "output_type": "stream",
     "text": [
      "\rPROCESS: CountNews 23.000000 % ETA: 09:04:12"
     ]
    },
    {
     "name": "stdout",
     "output_type": "stream",
     "text": [
      "\rPROCESS: CountNews 23.000000 % ETA: 09:04:11"
     ]
    },
    {
     "name": "stdout",
     "output_type": "stream",
     "text": [
      "\rPROCESS: CountNews 23.100000 % ETA: 09:04:11"
     ]
    },
    {
     "name": "stdout",
     "output_type": "stream",
     "text": [
      "\rPROCESS: CountNews 23.100000 % ETA: 09:04:11"
     ]
    },
    {
     "name": "stdout",
     "output_type": "stream",
     "text": [
      "\rPROCESS: CountNews 23.200000 % ETA: 09:04:10"
     ]
    },
    {
     "name": "stdout",
     "output_type": "stream",
     "text": [
      "\rPROCESS: CountNews 23.200000 % ETA: 09:04:10"
     ]
    },
    {
     "name": "stdout",
     "output_type": "stream",
     "text": [
      "\rPROCESS: CountNews 23.200000 % ETA: 09:04:09"
     ]
    },
    {
     "name": "stdout",
     "output_type": "stream",
     "text": [
      "\rPROCESS: CountNews 23.300000 % ETA: 09:04:09"
     ]
    },
    {
     "name": "stdout",
     "output_type": "stream",
     "text": [
      "\rPROCESS: CountNews 23.300000 % ETA: 09:04:08"
     ]
    },
    {
     "name": "stdout",
     "output_type": "stream",
     "text": [
      "\rPROCESS: CountNews 23.400000 % ETA: 09:04:12"
     ]
    },
    {
     "name": "stdout",
     "output_type": "stream",
     "text": [
      "\rPROCESS: CountNews 23.400000 % ETA: 09:04:12"
     ]
    },
    {
     "name": "stdout",
     "output_type": "stream",
     "text": [
      "\rPROCESS: CountNews 23.500000 % ETA: 09:04:11"
     ]
    },
    {
     "name": "stdout",
     "output_type": "stream",
     "text": [
      "\rPROCESS: CountNews 23.500000 % ETA: 09:04:11"
     ]
    },
    {
     "name": "stdout",
     "output_type": "stream",
     "text": [
      "\rPROCESS: CountNews 23.500000 % ETA: 09:04:10"
     ]
    },
    {
     "name": "stdout",
     "output_type": "stream",
     "text": [
      "\rPROCESS: CountNews 23.600000 % ETA: 09:04:10"
     ]
    },
    {
     "name": "stdout",
     "output_type": "stream",
     "text": [
      "\rPROCESS: CountNews 23.600000 % ETA: 09:04:09"
     ]
    },
    {
     "name": "stdout",
     "output_type": "stream",
     "text": [
      "\rPROCESS: CountNews 23.700000 % ETA: 09:04:09"
     ]
    },
    {
     "name": "stdout",
     "output_type": "stream",
     "text": [
      "\rPROCESS: CountNews 23.700000 % ETA: 09:04:08"
     ]
    },
    {
     "name": "stdout",
     "output_type": "stream",
     "text": [
      "\rPROCESS: CountNews 23.800000 % ETA: 09:04:08"
     ]
    },
    {
     "name": "stdout",
     "output_type": "stream",
     "text": [
      "\rPROCESS: CountNews 23.800000 % ETA: 09:04:12"
     ]
    },
    {
     "name": "stdout",
     "output_type": "stream",
     "text": [
      "\rPROCESS: CountNews 23.800000 % ETA: 09:04:11"
     ]
    },
    {
     "name": "stdout",
     "output_type": "stream",
     "text": [
      "\rPROCESS: CountNews 23.900000 % ETA: 09:04:11"
     ]
    },
    {
     "name": "stdout",
     "output_type": "stream",
     "text": [
      "\rPROCESS: CountNews 23.900000 % ETA: 09:04:10"
     ]
    },
    {
     "name": "stdout",
     "output_type": "stream",
     "text": [
      "\rPROCESS: CountNews 24.000000 % ETA: 09:04:10"
     ]
    },
    {
     "name": "stdout",
     "output_type": "stream",
     "text": [
      "\rPROCESS: CountNews 24.000000 % ETA: 09:04:09"
     ]
    },
    {
     "name": "stdout",
     "output_type": "stream",
     "text": [
      "\rPROCESS: CountNews 24.100000 % ETA: 09:04:09"
     ]
    },
    {
     "name": "stdout",
     "output_type": "stream",
     "text": [
      "\rPROCESS: CountNews 24.100000 % ETA: 09:04:08"
     ]
    },
    {
     "name": "stdout",
     "output_type": "stream",
     "text": [
      "\rPROCESS: CountNews 24.100000 % ETA: 09:04:08"
     ]
    },
    {
     "name": "stdout",
     "output_type": "stream",
     "text": [
      "\rPROCESS: CountNews 24.200000 % ETA: 09:04:12"
     ]
    },
    {
     "name": "stdout",
     "output_type": "stream",
     "text": [
      "\rPROCESS: CountNews 24.200000 % ETA: 09:04:11"
     ]
    },
    {
     "name": "stdout",
     "output_type": "stream",
     "text": [
      "\rPROCESS: CountNews 24.300000 % ETA: 09:04:11"
     ]
    },
    {
     "name": "stdout",
     "output_type": "stream",
     "text": [
      "\rPROCESS: CountNews 24.300000 % ETA: 09:04:10"
     ]
    },
    {
     "name": "stdout",
     "output_type": "stream",
     "text": [
      "\rPROCESS: CountNews 24.400000 % ETA: 09:04:10"
     ]
    },
    {
     "name": "stdout",
     "output_type": "stream",
     "text": [
      "\rPROCESS: CountNews 24.400000 % ETA: 09:04:09"
     ]
    },
    {
     "name": "stdout",
     "output_type": "stream",
     "text": [
      "\rPROCESS: CountNews 24.400000 % ETA: 09:04:09"
     ]
    },
    {
     "name": "stdout",
     "output_type": "stream",
     "text": [
      "\rPROCESS: CountNews 24.500000 % ETA: 09:04:09"
     ]
    },
    {
     "name": "stdout",
     "output_type": "stream",
     "text": [
      "\rPROCESS: CountNews 24.500000 % ETA: 09:04:08"
     ]
    },
    {
     "name": "stdout",
     "output_type": "stream",
     "text": [
      "\rPROCESS: CountNews 24.600000 % ETA: 09:04:08"
     ]
    },
    {
     "name": "stdout",
     "output_type": "stream",
     "text": [
      "\rPROCESS: CountNews 24.600000 % ETA: 09:04:11"
     ]
    },
    {
     "name": "stdout",
     "output_type": "stream",
     "text": [
      "\rPROCESS: CountNews 24.700000 % ETA: 09:04:11"
     ]
    },
    {
     "name": "stdout",
     "output_type": "stream",
     "text": [
      "\rPROCESS: CountNews 24.700000 % ETA: 09:04:10"
     ]
    },
    {
     "name": "stdout",
     "output_type": "stream",
     "text": [
      "\rPROCESS: CountNews 24.800000 % ETA: 09:04:10"
     ]
    },
    {
     "name": "stdout",
     "output_type": "stream",
     "text": [
      "\rPROCESS: CountNews 24.800000 % ETA: 09:04:10"
     ]
    },
    {
     "name": "stdout",
     "output_type": "stream",
     "text": [
      "\rPROCESS: CountNews 24.800000 % ETA: 09:04:09"
     ]
    },
    {
     "name": "stdout",
     "output_type": "stream",
     "text": [
      "\rPROCESS: CountNews 24.900000 % ETA: 09:04:09"
     ]
    },
    {
     "name": "stdout",
     "output_type": "stream",
     "text": [
      "\rPROCESS: CountNews 24.900000 % ETA: 09:04:08"
     ]
    },
    {
     "name": "stdout",
     "output_type": "stream",
     "text": [
      "\rPROCESS: CountNews 25.000000 % ETA: 09:04:08"
     ]
    },
    {
     "name": "stdout",
     "output_type": "stream",
     "text": [
      "\rPROCESS: CountNews 25.000000 % ETA: 09:04:11"
     ]
    },
    {
     "name": "stdout",
     "output_type": "stream",
     "text": [
      "\rPROCESS: CountNews 25.100000 % ETA: 09:04:11"
     ]
    },
    {
     "name": "stdout",
     "output_type": "stream",
     "text": [
      "\rPROCESS: CountNews 25.100000 % ETA: 09:04:11"
     ]
    },
    {
     "name": "stdout",
     "output_type": "stream",
     "text": [
      "\rPROCESS: CountNews 25.100000 % ETA: 09:04:10"
     ]
    },
    {
     "name": "stdout",
     "output_type": "stream",
     "text": [
      "\rPROCESS: CountNews 25.200000 % ETA: 09:04:10"
     ]
    },
    {
     "name": "stdout",
     "output_type": "stream",
     "text": [
      "\rPROCESS: CountNews 25.200000 % ETA: 09:04:09"
     ]
    },
    {
     "name": "stdout",
     "output_type": "stream",
     "text": [
      "\rPROCESS: CountNews 25.300000 % ETA: 09:04:09"
     ]
    },
    {
     "name": "stdout",
     "output_type": "stream",
     "text": [
      "\rPROCESS: CountNews 25.300000 % ETA: 09:04:08"
     ]
    },
    {
     "name": "stdout",
     "output_type": "stream",
     "text": [
      "\rPROCESS: CountNews 25.400000 % ETA: 09:04:08"
     ]
    },
    {
     "name": "stdout",
     "output_type": "stream",
     "text": [
      "\rPROCESS: CountNews 25.400000 % ETA: 09:04:08"
     ]
    },
    {
     "name": "stdout",
     "output_type": "stream",
     "text": [
      "\rPROCESS: CountNews 25.400000 % ETA: 09:04:11"
     ]
    },
    {
     "name": "stdout",
     "output_type": "stream",
     "text": [
      "\rPROCESS: CountNews 25.500000 % ETA: 09:04:11"
     ]
    },
    {
     "name": "stdout",
     "output_type": "stream",
     "text": [
      "\rPROCESS: CountNews 25.500000 % ETA: 09:04:10"
     ]
    },
    {
     "name": "stdout",
     "output_type": "stream",
     "text": [
      "\rPROCESS: CountNews 25.600000 % ETA: 09:04:10"
     ]
    },
    {
     "name": "stdout",
     "output_type": "stream",
     "text": [
      "\rPROCESS: CountNews 25.600000 % ETA: 09:04:09"
     ]
    },
    {
     "name": "stdout",
     "output_type": "stream",
     "text": [
      "\rPROCESS: CountNews 25.700000 % ETA: 09:04:09"
     ]
    },
    {
     "name": "stdout",
     "output_type": "stream",
     "text": [
      "\rPROCESS: CountNews 25.700000 % ETA: 09:04:08"
     ]
    },
    {
     "name": "stdout",
     "output_type": "stream",
     "text": [
      "\rPROCESS: CountNews 25.700000 % ETA: 09:04:08"
     ]
    },
    {
     "name": "stdout",
     "output_type": "stream",
     "text": [
      "\rPROCESS: CountNews 25.800000 % ETA: 09:04:08"
     ]
    },
    {
     "name": "stdout",
     "output_type": "stream",
     "text": [
      "\rPROCESS: CountNews 25.800000 % ETA: 09:04:11"
     ]
    },
    {
     "name": "stdout",
     "output_type": "stream",
     "text": [
      "\rPROCESS: CountNews 25.900000 % ETA: 09:04:11"
     ]
    },
    {
     "name": "stdout",
     "output_type": "stream",
     "text": [
      "\rPROCESS: CountNews 25.900000 % ETA: 09:04:10"
     ]
    },
    {
     "name": "stdout",
     "output_type": "stream",
     "text": [
      "\rPROCESS: CountNews 26.000000 % ETA: 09:04:10"
     ]
    },
    {
     "name": "stdout",
     "output_type": "stream",
     "text": [
      "\rPROCESS: CountNews 26.000000 % ETA: 09:04:09"
     ]
    },
    {
     "name": "stdout",
     "output_type": "stream",
     "text": [
      "\rPROCESS: CountNews 26.000000 % ETA: 09:04:09"
     ]
    },
    {
     "name": "stdout",
     "output_type": "stream",
     "text": [
      "\rPROCESS: CountNews 26.100000 % ETA: 09:04:09"
     ]
    },
    {
     "name": "stdout",
     "output_type": "stream",
     "text": [
      "\rPROCESS: CountNews 26.100000 % ETA: 09:04:08"
     ]
    },
    {
     "name": "stdout",
     "output_type": "stream",
     "text": [
      "\rPROCESS: CountNews 26.200000 % ETA: 09:04:08"
     ]
    },
    {
     "name": "stdout",
     "output_type": "stream",
     "text": [
      "\rPROCESS: CountNews 26.200000 % ETA: 09:04:11"
     ]
    },
    {
     "name": "stdout",
     "output_type": "stream",
     "text": [
      "\rPROCESS: CountNews 26.300000 % ETA: 09:04:11"
     ]
    },
    {
     "name": "stdout",
     "output_type": "stream",
     "text": [
      "\rPROCESS: CountNews 26.300000 % ETA: 09:04:10"
     ]
    },
    {
     "name": "stdout",
     "output_type": "stream",
     "text": [
      "\rPROCESS: CountNews 26.400000 % ETA: 09:04:10"
     ]
    },
    {
     "name": "stdout",
     "output_type": "stream",
     "text": [
      "\rPROCESS: CountNews 26.400000 % ETA: 09:04:10"
     ]
    },
    {
     "name": "stdout",
     "output_type": "stream",
     "text": [
      "\rPROCESS: CountNews 26.400000 % ETA: 09:04:09"
     ]
    },
    {
     "name": "stdout",
     "output_type": "stream",
     "text": [
      "\rPROCESS: CountNews 26.500000 % ETA: 09:04:09"
     ]
    },
    {
     "name": "stdout",
     "output_type": "stream",
     "text": [
      "\rPROCESS: CountNews 26.500000 % ETA: 09:04:08"
     ]
    },
    {
     "name": "stdout",
     "output_type": "stream",
     "text": [
      "\rPROCESS: CountNews 26.600000 % ETA: 09:04:08"
     ]
    },
    {
     "name": "stdout",
     "output_type": "stream",
     "text": [
      "\rPROCESS: CountNews 26.600000 % ETA: 09:04:08"
     ]
    },
    {
     "name": "stdout",
     "output_type": "stream",
     "text": [
      "\rPROCESS: CountNews 26.700000 % ETA: 09:04:11"
     ]
    },
    {
     "name": "stdout",
     "output_type": "stream",
     "text": [
      "\rPROCESS: CountNews 26.700000 % ETA: 09:04:10"
     ]
    },
    {
     "name": "stdout",
     "output_type": "stream",
     "text": [
      "\rPROCESS: CountNews 26.700000 % ETA: 09:04:10"
     ]
    },
    {
     "name": "stdout",
     "output_type": "stream",
     "text": [
      "\rPROCESS: CountNews 26.800000 % ETA: 09:04:10"
     ]
    },
    {
     "name": "stdout",
     "output_type": "stream",
     "text": [
      "\rPROCESS: CountNews 26.800000 % ETA: 09:04:09"
     ]
    },
    {
     "name": "stdout",
     "output_type": "stream",
     "text": [
      "\rPROCESS: CountNews 26.900000 % ETA: 09:04:09"
     ]
    },
    {
     "name": "stdout",
     "output_type": "stream",
     "text": [
      "\rPROCESS: CountNews 26.900000 % ETA: 09:04:08"
     ]
    },
    {
     "name": "stdout",
     "output_type": "stream",
     "text": [
      "\rPROCESS: CountNews 27.000000 % ETA: 09:04:08"
     ]
    },
    {
     "name": "stdout",
     "output_type": "stream",
     "text": [
      "\rPROCESS: CountNews 27.000000 % ETA: 09:04:08"
     ]
    },
    {
     "name": "stdout",
     "output_type": "stream",
     "text": [
      "\rPROCESS: CountNews 27.000000 % ETA: 09:04:07"
     ]
    },
    {
     "name": "stdout",
     "output_type": "stream",
     "text": [
      "\rPROCESS: CountNews 27.100000 % ETA: 09:04:11"
     ]
    },
    {
     "name": "stdout",
     "output_type": "stream",
     "text": [
      "\rPROCESS: CountNews 27.100000 % ETA: 09:04:10"
     ]
    },
    {
     "name": "stdout",
     "output_type": "stream",
     "text": [
      "\rPROCESS: CountNews 27.200000 % ETA: 09:04:10"
     ]
    },
    {
     "name": "stdout",
     "output_type": "stream",
     "text": [
      "\rPROCESS: CountNews 27.200000 % ETA: 09:04:09"
     ]
    },
    {
     "name": "stdout",
     "output_type": "stream",
     "text": [
      "\rPROCESS: CountNews 27.300000 % ETA: 09:04:09"
     ]
    },
    {
     "name": "stdout",
     "output_type": "stream",
     "text": [
      "\rPROCESS: CountNews 27.300000 % ETA: 09:04:09"
     ]
    },
    {
     "name": "stdout",
     "output_type": "stream",
     "text": [
      "\rPROCESS: CountNews 27.300000 % ETA: 09:04:08"
     ]
    },
    {
     "name": "stdout",
     "output_type": "stream",
     "text": [
      "\rPROCESS: CountNews 27.400000 % ETA: 09:04:08"
     ]
    },
    {
     "name": "stdout",
     "output_type": "stream",
     "text": [
      "\rPROCESS: CountNews 27.400000 % ETA: 09:04:07"
     ]
    },
    {
     "name": "stdout",
     "output_type": "stream",
     "text": [
      "\rPROCESS: CountNews 27.500000 % ETA: 09:04:11"
     ]
    },
    {
     "name": "stdout",
     "output_type": "stream",
     "text": [
      "\rPROCESS: CountNews 27.500000 % ETA: 09:04:10"
     ]
    },
    {
     "name": "stdout",
     "output_type": "stream",
     "text": [
      "\rPROCESS: CountNews 27.600000 % ETA: 09:04:10"
     ]
    },
    {
     "name": "stdout",
     "output_type": "stream",
     "text": [
      "\rPROCESS: CountNews 27.600000 % ETA: 09:04:09"
     ]
    },
    {
     "name": "stdout",
     "output_type": "stream",
     "text": [
      "\rPROCESS: CountNews 27.700000 % ETA: 09:04:09"
     ]
    },
    {
     "name": "stdout",
     "output_type": "stream",
     "text": [
      "\rPROCESS: CountNews 27.700000 % ETA: 09:04:09"
     ]
    },
    {
     "name": "stdout",
     "output_type": "stream",
     "text": [
      "\rPROCESS: CountNews 27.700000 % ETA: 09:04:08"
     ]
    },
    {
     "name": "stdout",
     "output_type": "stream",
     "text": [
      "\rPROCESS: CountNews 27.800000 % ETA: 09:04:08"
     ]
    },
    {
     "name": "stdout",
     "output_type": "stream",
     "text": [
      "\rPROCESS: CountNews 27.800000 % ETA: 09:04:07"
     ]
    },
    {
     "name": "stdout",
     "output_type": "stream",
     "text": [
      "\rPROCESS: CountNews 27.900000 % ETA: 09:04:07"
     ]
    },
    {
     "name": "stdout",
     "output_type": "stream",
     "text": [
      "\rPROCESS: CountNews 27.900000 % ETA: 09:04:10"
     ]
    },
    {
     "name": "stdout",
     "output_type": "stream",
     "text": [
      "\rPROCESS: CountNews 28.000000 % ETA: 09:04:10"
     ]
    },
    {
     "name": "stdout",
     "output_type": "stream",
     "text": [
      "\rPROCESS: CountNews 28.000000 % ETA: 09:04:10"
     ]
    },
    {
     "name": "stdout",
     "output_type": "stream",
     "text": [
      "\rPROCESS: CountNews 28.000000 % ETA: 09:04:09"
     ]
    },
    {
     "name": "stdout",
     "output_type": "stream",
     "text": [
      "\rPROCESS: CountNews 28.100000 % ETA: 09:04:09"
     ]
    },
    {
     "name": "stdout",
     "output_type": "stream",
     "text": [
      "\rPROCESS: CountNews 28.100000 % ETA: 09:04:08"
     ]
    },
    {
     "name": "stdout",
     "output_type": "stream",
     "text": [
      "\rPROCESS: CountNews 28.200000 % ETA: 09:04:08"
     ]
    },
    {
     "name": "stdout",
     "output_type": "stream",
     "text": [
      "\rPROCESS: CountNews 28.200000 % ETA: 09:04:08"
     ]
    },
    {
     "name": "stdout",
     "output_type": "stream",
     "text": [
      "\rPROCESS: CountNews 28.300000 % ETA: 09:04:07"
     ]
    },
    {
     "name": "stdout",
     "output_type": "stream",
     "text": [
      "\rPROCESS: CountNews 28.300000 % ETA: 09:04:10"
     ]
    },
    {
     "name": "stdout",
     "output_type": "stream",
     "text": [
      "\rPROCESS: CountNews 28.300000 % ETA: 09:04:10"
     ]
    },
    {
     "name": "stdout",
     "output_type": "stream",
     "text": [
      "\rPROCESS: CountNews 28.400000 % ETA: 09:04:10"
     ]
    },
    {
     "name": "stdout",
     "output_type": "stream",
     "text": [
      "\rPROCESS: CountNews 28.400000 % ETA: 09:04:09"
     ]
    },
    {
     "name": "stdout",
     "output_type": "stream",
     "text": [
      "\rPROCESS: CountNews 28.500000 % ETA: 09:04:09"
     ]
    },
    {
     "name": "stdout",
     "output_type": "stream",
     "text": [
      "\rPROCESS: CountNews 28.500000 % ETA: 09:04:08"
     ]
    },
    {
     "name": "stdout",
     "output_type": "stream",
     "text": [
      "\rPROCESS: CountNews 28.600000 % ETA: 09:04:08"
     ]
    },
    {
     "name": "stdout",
     "output_type": "stream",
     "text": [
      "\rPROCESS: CountNews 28.600000 % ETA: 09:04:08"
     ]
    },
    {
     "name": "stdout",
     "output_type": "stream",
     "text": [
      "\rPROCESS: CountNews 28.600000 % ETA: 09:04:07"
     ]
    },
    {
     "name": "stdout",
     "output_type": "stream",
     "text": [
      "\rPROCESS: CountNews 28.700000 % ETA: 09:04:10"
     ]
    },
    {
     "name": "stdout",
     "output_type": "stream",
     "text": [
      "\rPROCESS: CountNews 28.700000 % ETA: 09:04:10"
     ]
    },
    {
     "name": "stdout",
     "output_type": "stream",
     "text": [
      "\rPROCESS: CountNews 28.800000 % ETA: 09:04:10"
     ]
    },
    {
     "name": "stdout",
     "output_type": "stream",
     "text": [
      "\rPROCESS: CountNews 28.800000 % ETA: 09:04:09"
     ]
    },
    {
     "name": "stdout",
     "output_type": "stream",
     "text": [
      "\rPROCESS: CountNews 28.900000 % ETA: 09:04:09"
     ]
    },
    {
     "name": "stdout",
     "output_type": "stream",
     "text": [
      "\rPROCESS: CountNews 28.900000 % ETA: 09:04:09"
     ]
    },
    {
     "name": "stdout",
     "output_type": "stream",
     "text": [
      "\rPROCESS: CountNews 28.900000 % ETA: 09:04:08"
     ]
    },
    {
     "name": "stdout",
     "output_type": "stream",
     "text": [
      "\rPROCESS: CountNews 29.000000 % ETA: 09:04:08"
     ]
    },
    {
     "name": "stdout",
     "output_type": "stream",
     "text": [
      "\rPROCESS: CountNews 29.000000 % ETA: 09:04:07"
     ]
    },
    {
     "name": "stdout",
     "output_type": "stream",
     "text": [
      "\rPROCESS: CountNews 29.100000 % ETA: 09:04:07"
     ]
    },
    {
     "name": "stdout",
     "output_type": "stream",
     "text": [
      "\rPROCESS: CountNews 29.100000 % ETA: 09:04:10"
     ]
    },
    {
     "name": "stdout",
     "output_type": "stream",
     "text": [
      "\rPROCESS: CountNews 29.200000 % ETA: 09:04:10"
     ]
    },
    {
     "name": "stdout",
     "output_type": "stream",
     "text": [
      "\rPROCESS: CountNews 29.200000 % ETA: 09:04:09"
     ]
    },
    {
     "name": "stdout",
     "output_type": "stream",
     "text": [
      "\rPROCESS: CountNews 29.300000 % ETA: 09:04:09"
     ]
    },
    {
     "name": "stdout",
     "output_type": "stream",
     "text": [
      "\rPROCESS: CountNews 29.300000 % ETA: 09:04:09"
     ]
    },
    {
     "name": "stdout",
     "output_type": "stream",
     "text": [
      "\rPROCESS: CountNews 29.300000 % ETA: 09:04:08"
     ]
    },
    {
     "name": "stdout",
     "output_type": "stream",
     "text": [
      "\rPROCESS: CountNews 29.400000 % ETA: 09:04:08"
     ]
    },
    {
     "name": "stdout",
     "output_type": "stream",
     "text": [
      "\rPROCESS: CountNews 29.400000 % ETA: 09:04:08"
     ]
    },
    {
     "name": "stdout",
     "output_type": "stream",
     "text": [
      "\rPROCESS: CountNews 29.500000 % ETA: 09:04:07"
     ]
    },
    {
     "name": "stdout",
     "output_type": "stream",
     "text": [
      "\rPROCESS: CountNews 29.500000 % ETA: 09:04:10"
     ]
    },
    {
     "name": "stdout",
     "output_type": "stream",
     "text": [
      "\rPROCESS: CountNews 29.600000 % ETA: 09:04:10"
     ]
    },
    {
     "name": "stdout",
     "output_type": "stream",
     "text": [
      "\rPROCESS: CountNews 29.600000 % ETA: 09:04:10"
     ]
    },
    {
     "name": "stdout",
     "output_type": "stream",
     "text": [
      "\rPROCESS: CountNews 29.600000 % ETA: 09:04:09"
     ]
    },
    {
     "name": "stdout",
     "output_type": "stream",
     "text": [
      "\rPROCESS: CountNews 29.700000 % ETA: 09:04:09"
     ]
    },
    {
     "name": "stdout",
     "output_type": "stream",
     "text": [
      "\rPROCESS: CountNews 29.700000 % ETA: 09:04:08"
     ]
    },
    {
     "name": "stdout",
     "output_type": "stream",
     "text": [
      "\rPROCESS: CountNews 29.800000 % ETA: 09:04:08"
     ]
    },
    {
     "name": "stdout",
     "output_type": "stream",
     "text": [
      "\rPROCESS: CountNews 29.800000 % ETA: 09:04:08"
     ]
    },
    {
     "name": "stdout",
     "output_type": "stream",
     "text": [
      "\rPROCESS: CountNews 29.900000 % ETA: 09:04:07"
     ]
    },
    {
     "name": "stdout",
     "output_type": "stream",
     "text": [
      "\rPROCESS: CountNews 29.900000 % ETA: 09:04:10"
     ]
    },
    {
     "name": "stdout",
     "output_type": "stream",
     "text": [
      "\rPROCESS: CountNews 29.900000 % ETA: 09:04:10"
     ]
    },
    {
     "name": "stdout",
     "output_type": "stream",
     "text": [
      "\rPROCESS: CountNews 30.000000 % ETA: 09:04:10"
     ]
    },
    {
     "name": "stdout",
     "output_type": "stream",
     "text": [
      "\rPROCESS: CountNews 30.000000 % ETA: 09:04:09"
     ]
    },
    {
     "name": "stdout",
     "output_type": "stream",
     "text": [
      "\rPROCESS: CountNews 30.100000 % ETA: 09:04:09"
     ]
    },
    {
     "name": "stdout",
     "output_type": "stream",
     "text": [
      "\rPROCESS: CountNews 30.100000 % ETA: 09:04:09"
     ]
    },
    {
     "name": "stdout",
     "output_type": "stream",
     "text": [
      "\rPROCESS: CountNews 30.200000 % ETA: 09:04:08"
     ]
    },
    {
     "name": "stdout",
     "output_type": "stream",
     "text": [
      "\rPROCESS: CountNews 30.200000 % ETA: 09:04:08"
     ]
    },
    {
     "name": "stdout",
     "output_type": "stream",
     "text": [
      "\rPROCESS: CountNews 30.200000 % ETA: 09:04:07"
     ]
    },
    {
     "name": "stdout",
     "output_type": "stream",
     "text": [
      "\rPROCESS: CountNews 30.300000 % ETA: 09:04:10"
     ]
    },
    {
     "name": "stdout",
     "output_type": "stream",
     "text": [
      "\rPROCESS: CountNews 30.300000 % ETA: 09:04:10"
     ]
    },
    {
     "name": "stdout",
     "output_type": "stream",
     "text": [
      "\rPROCESS: CountNews 30.400000 % ETA: 09:04:10"
     ]
    },
    {
     "name": "stdout",
     "output_type": "stream",
     "text": [
      "\rPROCESS: CountNews 30.400000 % ETA: 09:04:09"
     ]
    },
    {
     "name": "stdout",
     "output_type": "stream",
     "text": [
      "\rPROCESS: CountNews 30.500000 % ETA: 09:04:09"
     ]
    },
    {
     "name": "stdout",
     "output_type": "stream",
     "text": [
      "\rPROCESS: CountNews 30.500000 % ETA: 09:04:09"
     ]
    },
    {
     "name": "stdout",
     "output_type": "stream",
     "text": [
      "\rPROCESS: CountNews 30.500000 % ETA: 09:04:08"
     ]
    },
    {
     "name": "stdout",
     "output_type": "stream",
     "text": [
      "\rPROCESS: CountNews 30.600000 % ETA: 09:04:08"
     ]
    },
    {
     "name": "stdout",
     "output_type": "stream",
     "text": [
      "\rPROCESS: CountNews 30.600000 % ETA: 09:04:08"
     ]
    },
    {
     "name": "stdout",
     "output_type": "stream",
     "text": [
      "\rPROCESS: CountNews 30.700000 % ETA: 09:04:10"
     ]
    },
    {
     "name": "stdout",
     "output_type": "stream",
     "text": [
      "\rPROCESS: CountNews 30.700000 % ETA: 09:04:10"
     ]
    },
    {
     "name": "stdout",
     "output_type": "stream",
     "text": [
      "\rPROCESS: CountNews 30.800000 % ETA: 09:04:10"
     ]
    },
    {
     "name": "stdout",
     "output_type": "stream",
     "text": [
      "\rPROCESS: CountNews 30.800000 % ETA: 09:04:09"
     ]
    },
    {
     "name": "stdout",
     "output_type": "stream",
     "text": [
      "\rPROCESS: CountNews 30.900000 % ETA: 09:04:09"
     ]
    },
    {
     "name": "stdout",
     "output_type": "stream",
     "text": [
      "\rPROCESS: CountNews 30.900000 % ETA: 09:04:09"
     ]
    },
    {
     "name": "stdout",
     "output_type": "stream",
     "text": [
      "\rPROCESS: CountNews 30.900000 % ETA: 09:04:08"
     ]
    },
    {
     "name": "stdout",
     "output_type": "stream",
     "text": [
      "\rPROCESS: CountNews 31.000000 % ETA: 09:04:08"
     ]
    },
    {
     "name": "stdout",
     "output_type": "stream",
     "text": [
      "\rPROCESS: CountNews 31.000000 % ETA: 09:04:11"
     ]
    },
    {
     "name": "stdout",
     "output_type": "stream",
     "text": [
      "\rPROCESS: CountNews 31.100000 % ETA: 09:04:11"
     ]
    },
    {
     "name": "stdout",
     "output_type": "stream",
     "text": [
      "\rPROCESS: CountNews 31.100000 % ETA: 09:04:10"
     ]
    },
    {
     "name": "stdout",
     "output_type": "stream",
     "text": [
      "\rPROCESS: CountNews 31.200000 % ETA: 09:04:10"
     ]
    },
    {
     "name": "stdout",
     "output_type": "stream",
     "text": [
      "\rPROCESS: CountNews 31.200000 % ETA: 09:04:10"
     ]
    },
    {
     "name": "stdout",
     "output_type": "stream",
     "text": [
      "\rPROCESS: CountNews 31.200000 % ETA: 09:04:09"
     ]
    },
    {
     "name": "stdout",
     "output_type": "stream",
     "text": [
      "\rPROCESS: CountNews 31.300000 % ETA: 09:04:09"
     ]
    },
    {
     "name": "stdout",
     "output_type": "stream",
     "text": [
      "\rPROCESS: CountNews 31.300000 % ETA: 09:04:08"
     ]
    },
    {
     "name": "stdout",
     "output_type": "stream",
     "text": [
      "\rPROCESS: CountNews 31.400000 % ETA: 09:04:08"
     ]
    },
    {
     "name": "stdout",
     "output_type": "stream",
     "text": [
      "\rPROCESS: CountNews 31.400000 % ETA: 09:04:08"
     ]
    },
    {
     "name": "stdout",
     "output_type": "stream",
     "text": [
      "\rPROCESS: CountNews 31.500000 % ETA: 09:04:11"
     ]
    },
    {
     "name": "stdout",
     "output_type": "stream",
     "text": [
      "\rPROCESS: CountNews 31.500000 % ETA: 09:04:10"
     ]
    },
    {
     "name": "stdout",
     "output_type": "stream",
     "text": [
      "\rPROCESS: CountNews 31.500000 % ETA: 09:04:10"
     ]
    },
    {
     "name": "stdout",
     "output_type": "stream",
     "text": [
      "\rPROCESS: CountNews 31.600000 % ETA: 09:04:10"
     ]
    },
    {
     "name": "stdout",
     "output_type": "stream",
     "text": [
      "\rPROCESS: CountNews 31.600000 % ETA: 09:04:09"
     ]
    },
    {
     "name": "stdout",
     "output_type": "stream",
     "text": [
      "\rPROCESS: CountNews 31.700000 % ETA: 09:04:09"
     ]
    },
    {
     "name": "stdout",
     "output_type": "stream",
     "text": [
      "\rPROCESS: CountNews 31.700000 % ETA: 09:04:09"
     ]
    },
    {
     "name": "stdout",
     "output_type": "stream",
     "text": [
      "\rPROCESS: CountNews 31.800000 % ETA: 09:04:08"
     ]
    },
    {
     "name": "stdout",
     "output_type": "stream",
     "text": [
      "\rPROCESS: CountNews 31.800000 % ETA: 09:04:08"
     ]
    },
    {
     "name": "stdout",
     "output_type": "stream",
     "text": [
      "\rPROCESS: CountNews 31.800000 % ETA: 09:04:11"
     ]
    },
    {
     "name": "stdout",
     "output_type": "stream",
     "text": [
      "\rPROCESS: CountNews 31.900000 % ETA: 09:04:10"
     ]
    },
    {
     "name": "stdout",
     "output_type": "stream",
     "text": [
      "\rPROCESS: CountNews 31.900000 % ETA: 09:04:10"
     ]
    },
    {
     "name": "stdout",
     "output_type": "stream",
     "text": [
      "\rPROCESS: CountNews 32.000000 % ETA: 09:04:10"
     ]
    },
    {
     "name": "stdout",
     "output_type": "stream",
     "text": [
      "\rPROCESS: CountNews 32.000000 % ETA: 09:04:09"
     ]
    },
    {
     "name": "stdout",
     "output_type": "stream",
     "text": [
      "\rPROCESS: CountNews 32.100000 % ETA: 09:04:09"
     ]
    },
    {
     "name": "stdout",
     "output_type": "stream",
     "text": [
      "\rPROCESS: CountNews 32.100000 % ETA: 09:04:09"
     ]
    },
    {
     "name": "stdout",
     "output_type": "stream",
     "text": [
      "\rPROCESS: CountNews 32.200000 % ETA: 09:04:08"
     ]
    },
    {
     "name": "stdout",
     "output_type": "stream",
     "text": [
      "\rPROCESS: CountNews 32.200000 % ETA: 09:04:08"
     ]
    },
    {
     "name": "stdout",
     "output_type": "stream",
     "text": [
      "\rPROCESS: CountNews 32.200000 % ETA: 09:04:08"
     ]
    },
    {
     "name": "stdout",
     "output_type": "stream",
     "text": [
      "\rPROCESS: CountNews 32.300000 % ETA: 09:04:10"
     ]
    },
    {
     "name": "stdout",
     "output_type": "stream",
     "text": [
      "\rPROCESS: CountNews 32.300000 % ETA: 09:04:10"
     ]
    },
    {
     "name": "stdout",
     "output_type": "stream",
     "text": [
      "\rPROCESS: CountNews 32.400000 % ETA: 09:04:10"
     ]
    },
    {
     "name": "stdout",
     "output_type": "stream",
     "text": [
      "\rPROCESS: CountNews 32.400000 % ETA: 09:04:09"
     ]
    },
    {
     "name": "stdout",
     "output_type": "stream",
     "text": [
      "\rPROCESS: CountNews 32.500000 % ETA: 09:04:09"
     ]
    },
    {
     "name": "stdout",
     "output_type": "stream",
     "text": [
      "\rPROCESS: CountNews 32.500000 % ETA: 09:04:09"
     ]
    },
    {
     "name": "stdout",
     "output_type": "stream",
     "text": [
      "\rPROCESS: CountNews 32.500000 % ETA: 09:04:08"
     ]
    },
    {
     "name": "stdout",
     "output_type": "stream",
     "text": [
      "\rPROCESS: CountNews 32.600000 % ETA: 09:04:08"
     ]
    },
    {
     "name": "stdout",
     "output_type": "stream",
     "text": [
      "\rPROCESS: CountNews 32.600000 % ETA: 09:04:08"
     ]
    },
    {
     "name": "stdout",
     "output_type": "stream",
     "text": [
      "\rPROCESS: CountNews 32.700000 % ETA: 09:04:10"
     ]
    },
    {
     "name": "stdout",
     "output_type": "stream",
     "text": [
      "\rPROCESS: CountNews 32.700000 % ETA: 09:04:10"
     ]
    },
    {
     "name": "stdout",
     "output_type": "stream",
     "text": [
      "\rPROCESS: CountNews 32.800000 % ETA: 09:04:10"
     ]
    },
    {
     "name": "stdout",
     "output_type": "stream",
     "text": [
      "\rPROCESS: CountNews 32.800000 % ETA: 09:04:10"
     ]
    },
    {
     "name": "stdout",
     "output_type": "stream",
     "text": [
      "\rPROCESS: CountNews 32.800000 % ETA: 09:04:09"
     ]
    },
    {
     "name": "stdout",
     "output_type": "stream",
     "text": [
      "\rPROCESS: CountNews 32.900000 % ETA: 09:04:09"
     ]
    },
    {
     "name": "stdout",
     "output_type": "stream",
     "text": [
      "\rPROCESS: CountNews 32.900000 % ETA: 09:04:09"
     ]
    },
    {
     "name": "stdout",
     "output_type": "stream",
     "text": [
      "\rPROCESS: CountNews 33.000000 % ETA: 09:04:08"
     ]
    },
    {
     "name": "stdout",
     "output_type": "stream",
     "text": [
      "\rPROCESS: CountNews 33.000000 % ETA: 09:04:08"
     ]
    },
    {
     "name": "stdout",
     "output_type": "stream",
     "text": [
      "\rPROCESS: CountNews 33.100000 % ETA: 09:04:08"
     ]
    },
    {
     "name": "stdout",
     "output_type": "stream",
     "text": [
      "\rPROCESS: CountNews 33.100000 % ETA: 09:04:10"
     ]
    },
    {
     "name": "stdout",
     "output_type": "stream",
     "text": [
      "\rPROCESS: CountNews 33.100000 % ETA: 09:04:10"
     ]
    },
    {
     "name": "stdout",
     "output_type": "stream",
     "text": [
      "\rPROCESS: CountNews 33.200000 % ETA: 09:04:10"
     ]
    },
    {
     "name": "stdout",
     "output_type": "stream",
     "text": [
      "\rPROCESS: CountNews 33.200000 % ETA: 09:04:09"
     ]
    },
    {
     "name": "stdout",
     "output_type": "stream",
     "text": [
      "\rPROCESS: CountNews 33.300000 % ETA: 09:04:09"
     ]
    },
    {
     "name": "stdout",
     "output_type": "stream",
     "text": [
      "\rPROCESS: CountNews 33.300000 % ETA: 09:04:09"
     ]
    },
    {
     "name": "stdout",
     "output_type": "stream",
     "text": [
      "\rPROCESS: CountNews 33.400000 % ETA: 09:04:08"
     ]
    },
    {
     "name": "stdout",
     "output_type": "stream",
     "text": [
      "\rPROCESS: CountNews 33.400000 % ETA: 09:04:08"
     ]
    },
    {
     "name": "stdout",
     "output_type": "stream",
     "text": [
      "\rPROCESS: CountNews 33.400000 % ETA: 09:04:08"
     ]
    },
    {
     "name": "stdout",
     "output_type": "stream",
     "text": [
      "\rPROCESS: CountNews 33.500000 % ETA: 09:04:10"
     ]
    },
    {
     "name": "stdout",
     "output_type": "stream",
     "text": [
      "\rPROCESS: CountNews 33.500000 % ETA: 09:04:10"
     ]
    },
    {
     "name": "stdout",
     "output_type": "stream",
     "text": [
      "\rPROCESS: CountNews 33.600000 % ETA: 09:04:10"
     ]
    },
    {
     "name": "stdout",
     "output_type": "stream",
     "text": [
      "\rPROCESS: CountNews 33.600000 % ETA: 09:04:09"
     ]
    },
    {
     "name": "stdout",
     "output_type": "stream",
     "text": [
      "\rPROCESS: CountNews 33.700000 % ETA: 09:04:09"
     ]
    },
    {
     "name": "stdout",
     "output_type": "stream",
     "text": [
      "\rPROCESS: CountNews 33.700000 % ETA: 09:04:09"
     ]
    },
    {
     "name": "stdout",
     "output_type": "stream",
     "text": [
      "\rPROCESS: CountNews 33.800000 % ETA: 09:04:08"
     ]
    },
    {
     "name": "stdout",
     "output_type": "stream",
     "text": [
      "\rPROCESS: CountNews 33.800000 % ETA: 09:04:08"
     ]
    },
    {
     "name": "stdout",
     "output_type": "stream",
     "text": [
      "\rPROCESS: CountNews 33.800000 % ETA: 09:04:08"
     ]
    },
    {
     "name": "stdout",
     "output_type": "stream",
     "text": [
      "\rPROCESS: CountNews 33.900000 % ETA: 09:04:07"
     ]
    },
    {
     "name": "stdout",
     "output_type": "stream",
     "text": [
      "\rPROCESS: CountNews 33.900000 % ETA: 09:04:10"
     ]
    },
    {
     "name": "stdout",
     "output_type": "stream",
     "text": [
      "\rPROCESS: CountNews 34.000000 % ETA: 09:04:10"
     ]
    },
    {
     "name": "stdout",
     "output_type": "stream",
     "text": [
      "\rPROCESS: CountNews 34.000000 % ETA: 09:04:09"
     ]
    },
    {
     "name": "stdout",
     "output_type": "stream",
     "text": [
      "\rPROCESS: CountNews 34.100000 % ETA: 09:04:09"
     ]
    },
    {
     "name": "stdout",
     "output_type": "stream",
     "text": [
      "\rPROCESS: CountNews 34.100000 % ETA: 09:04:09"
     ]
    },
    {
     "name": "stdout",
     "output_type": "stream",
     "text": [
      "\rPROCESS: CountNews 34.100000 % ETA: 09:04:08"
     ]
    },
    {
     "name": "stdout",
     "output_type": "stream",
     "text": [
      "\rPROCESS: CountNews 34.200000 % ETA: 09:04:08"
     ]
    },
    {
     "name": "stdout",
     "output_type": "stream",
     "text": [
      "\rPROCESS: CountNews 34.200000 % ETA: 09:04:08"
     ]
    },
    {
     "name": "stdout",
     "output_type": "stream",
     "text": [
      "\rPROCESS: CountNews 34.300000 % ETA: 09:04:08"
     ]
    },
    {
     "name": "stdout",
     "output_type": "stream",
     "text": [
      "\rPROCESS: CountNews 34.300000 % ETA: 09:04:10"
     ]
    },
    {
     "name": "stdout",
     "output_type": "stream",
     "text": [
      "\rPROCESS: CountNews 34.400000 % ETA: 09:04:10"
     ]
    },
    {
     "name": "stdout",
     "output_type": "stream",
     "text": [
      "\rPROCESS: CountNews 34.400000 % ETA: 09:04:09"
     ]
    },
    {
     "name": "stdout",
     "output_type": "stream",
     "text": [
      "\rPROCESS: CountNews 34.400000 % ETA: 09:04:09"
     ]
    },
    {
     "name": "stdout",
     "output_type": "stream",
     "text": [
      "\rPROCESS: CountNews 34.500000 % ETA: 09:04:09"
     ]
    },
    {
     "name": "stdout",
     "output_type": "stream",
     "text": [
      "\rPROCESS: CountNews 34.500000 % ETA: 09:04:09"
     ]
    },
    {
     "name": "stdout",
     "output_type": "stream",
     "text": [
      "\rPROCESS: CountNews 34.600000 % ETA: 09:04:08"
     ]
    },
    {
     "name": "stdout",
     "output_type": "stream",
     "text": [
      "\rPROCESS: CountNews 34.600000 % ETA: 09:04:08"
     ]
    },
    {
     "name": "stdout",
     "output_type": "stream",
     "text": [
      "\rPROCESS: CountNews 34.700000 % ETA: 09:04:08"
     ]
    },
    {
     "name": "stdout",
     "output_type": "stream",
     "text": [
      "\rPROCESS: CountNews 34.700000 % ETA: 09:04:07"
     ]
    },
    {
     "name": "stdout",
     "output_type": "stream",
     "text": [
      "\rPROCESS: CountNews 34.700000 % ETA: 09:04:10"
     ]
    },
    {
     "name": "stdout",
     "output_type": "stream",
     "text": [
      "\rPROCESS: CountNews 34.800000 % ETA: 09:04:10"
     ]
    },
    {
     "name": "stdout",
     "output_type": "stream",
     "text": [
      "\rPROCESS: CountNews 34.800000 % ETA: 09:04:09"
     ]
    },
    {
     "name": "stdout",
     "output_type": "stream",
     "text": [
      "\rPROCESS: CountNews 34.900000 % ETA: 09:04:09"
     ]
    },
    {
     "name": "stdout",
     "output_type": "stream",
     "text": [
      "\rPROCESS: CountNews 34.900000 % ETA: 09:04:09"
     ]
    },
    {
     "name": "stdout",
     "output_type": "stream",
     "text": [
      "\rPROCESS: CountNews 35.000000 % ETA: 09:04:08"
     ]
    },
    {
     "name": "stdout",
     "output_type": "stream",
     "text": [
      "\rPROCESS: CountNews 35.000000 % ETA: 09:04:08"
     ]
    },
    {
     "name": "stdout",
     "output_type": "stream",
     "text": [
      "\rPROCESS: CountNews 35.000000 % ETA: 09:04:08"
     ]
    },
    {
     "name": "stdout",
     "output_type": "stream",
     "text": [
      "\rPROCESS: CountNews 35.100000 % ETA: 09:04:07"
     ]
    },
    {
     "name": "stdout",
     "output_type": "stream",
     "text": [
      "\rPROCESS: CountNews 35.100000 % ETA: 09:04:07"
     ]
    },
    {
     "name": "stdout",
     "output_type": "stream",
     "text": [
      "\rPROCESS: CountNews 35.200000 % ETA: 09:04:10"
     ]
    },
    {
     "name": "stdout",
     "output_type": "stream",
     "text": [
      "\rPROCESS: CountNews 35.200000 % ETA: 09:04:09"
     ]
    },
    {
     "name": "stdout",
     "output_type": "stream",
     "text": [
      "\rPROCESS: CountNews 35.300000 % ETA: 09:04:09"
     ]
    },
    {
     "name": "stdout",
     "output_type": "stream",
     "text": [
      "\rPROCESS: CountNews 35.300000 % ETA: 09:04:09"
     ]
    },
    {
     "name": "stdout",
     "output_type": "stream",
     "text": [
      "\rPROCESS: CountNews 35.400000 % ETA: 09:04:08"
     ]
    },
    {
     "name": "stdout",
     "output_type": "stream",
     "text": [
      "\rPROCESS: CountNews 35.400000 % ETA: 09:04:08"
     ]
    },
    {
     "name": "stdout",
     "output_type": "stream",
     "text": [
      "\rPROCESS: CountNews 35.400000 % ETA: 09:04:08"
     ]
    },
    {
     "name": "stdout",
     "output_type": "stream",
     "text": [
      "\rPROCESS: CountNews 35.500000 % ETA: 09:04:08"
     ]
    },
    {
     "name": "stdout",
     "output_type": "stream",
     "text": [
      "\rPROCESS: CountNews 35.500000 % ETA: 09:04:07"
     ]
    },
    {
     "name": "stdout",
     "output_type": "stream",
     "text": [
      "\rPROCESS: CountNews 35.600000 % ETA: 09:04:10"
     ]
    },
    {
     "name": "stdout",
     "output_type": "stream",
     "text": [
      "\rPROCESS: CountNews 35.600000 % ETA: 09:04:09"
     ]
    },
    {
     "name": "stdout",
     "output_type": "stream",
     "text": [
      "\rPROCESS: CountNews 35.700000 % ETA: 09:04:09"
     ]
    },
    {
     "name": "stdout",
     "output_type": "stream",
     "text": [
      "\rPROCESS: CountNews 35.700000 % ETA: 09:04:09"
     ]
    },
    {
     "name": "stdout",
     "output_type": "stream",
     "text": [
      "\rPROCESS: CountNews 35.700000 % ETA: 09:04:09"
     ]
    },
    {
     "name": "stdout",
     "output_type": "stream",
     "text": [
      "\rPROCESS: CountNews 35.800000 % ETA: 09:04:08"
     ]
    },
    {
     "name": "stdout",
     "output_type": "stream",
     "text": [
      "\rPROCESS: CountNews 35.800000 % ETA: 09:04:08"
     ]
    },
    {
     "name": "stdout",
     "output_type": "stream",
     "text": [
      "\rPROCESS: CountNews 35.900000 % ETA: 09:04:08"
     ]
    },
    {
     "name": "stdout",
     "output_type": "stream",
     "text": [
      "\rPROCESS: CountNews 35.900000 % ETA: 09:04:07"
     ]
    },
    {
     "name": "stdout",
     "output_type": "stream",
     "text": [
      "\rPROCESS: CountNews 36.000000 % ETA: 09:04:07"
     ]
    },
    {
     "name": "stdout",
     "output_type": "stream",
     "text": [
      "\rPROCESS: CountNews 36.000000 % ETA: 09:04:09"
     ]
    },
    {
     "name": "stdout",
     "output_type": "stream",
     "text": [
      "\rPROCESS: CountNews 36.000000 % ETA: 09:04:09"
     ]
    },
    {
     "name": "stdout",
     "output_type": "stream",
     "text": [
      "\rPROCESS: CountNews 36.100000 % ETA: 09:04:09"
     ]
    },
    {
     "name": "stdout",
     "output_type": "stream",
     "text": [
      "\rPROCESS: CountNews 36.100000 % ETA: 09:04:09"
     ]
    },
    {
     "name": "stdout",
     "output_type": "stream",
     "text": [
      "\rPROCESS: CountNews 36.200000 % ETA: 09:04:08"
     ]
    },
    {
     "name": "stdout",
     "output_type": "stream",
     "text": [
      "\rPROCESS: CountNews 36.200000 % ETA: 09:04:08"
     ]
    },
    {
     "name": "stdout",
     "output_type": "stream",
     "text": [
      "\rPROCESS: CountNews 36.300000 % ETA: 09:04:08"
     ]
    },
    {
     "name": "stdout",
     "output_type": "stream",
     "text": [
      "\rPROCESS: CountNews 36.300000 % ETA: 09:04:07"
     ]
    },
    {
     "name": "stdout",
     "output_type": "stream",
     "text": [
      "\rPROCESS: CountNews 36.300000 % ETA: 09:04:07"
     ]
    },
    {
     "name": "stdout",
     "output_type": "stream",
     "text": [
      "\rPROCESS: CountNews 36.400000 % ETA: 09:04:07"
     ]
    },
    {
     "name": "stdout",
     "output_type": "stream",
     "text": [
      "\rPROCESS: CountNews 36.400000 % ETA: 09:04:09"
     ]
    },
    {
     "name": "stdout",
     "output_type": "stream",
     "text": [
      "\rPROCESS: CountNews 36.500000 % ETA: 09:04:09"
     ]
    },
    {
     "name": "stdout",
     "output_type": "stream",
     "text": [
      "\rPROCESS: CountNews 36.500000 % ETA: 09:04:09"
     ]
    },
    {
     "name": "stdout",
     "output_type": "stream",
     "text": [
      "\rPROCESS: CountNews 36.600000 % ETA: 09:04:08"
     ]
    },
    {
     "name": "stdout",
     "output_type": "stream",
     "text": [
      "\rPROCESS: CountNews 36.600000 % ETA: 09:04:08"
     ]
    },
    {
     "name": "stdout",
     "output_type": "stream",
     "text": [
      "\rPROCESS: CountNews 36.700000 % ETA: 09:04:08"
     ]
    },
    {
     "name": "stdout",
     "output_type": "stream",
     "text": [
      "\rPROCESS: CountNews 36.700000 % ETA: 09:04:07"
     ]
    },
    {
     "name": "stdout",
     "output_type": "stream",
     "text": [
      "\rPROCESS: CountNews 36.700000 % ETA: 09:04:07"
     ]
    },
    {
     "name": "stdout",
     "output_type": "stream",
     "text": [
      "\rPROCESS: CountNews 36.800000 % ETA: 09:04:07"
     ]
    },
    {
     "name": "stdout",
     "output_type": "stream",
     "text": [
      "\rPROCESS: CountNews 36.800000 % ETA: 09:04:09"
     ]
    },
    {
     "name": "stdout",
     "output_type": "stream",
     "text": [
      "\rPROCESS: CountNews 36.900000 % ETA: 09:04:09"
     ]
    },
    {
     "name": "stdout",
     "output_type": "stream",
     "text": [
      "\rPROCESS: CountNews 36.900000 % ETA: 09:04:09"
     ]
    },
    {
     "name": "stdout",
     "output_type": "stream",
     "text": [
      "\rPROCESS: CountNews 37.000000 % ETA: 09:04:08"
     ]
    },
    {
     "name": "stdout",
     "output_type": "stream",
     "text": [
      "\rPROCESS: CountNews 37.000000 % ETA: 09:04:08"
     ]
    },
    {
     "name": "stdout",
     "output_type": "stream",
     "text": [
      "\rPROCESS: CountNews 37.000000 % ETA: 09:04:08"
     ]
    },
    {
     "name": "stdout",
     "output_type": "stream",
     "text": [
      "\rPROCESS: CountNews 37.100000 % ETA: 09:04:08"
     ]
    },
    {
     "name": "stdout",
     "output_type": "stream",
     "text": [
      "\rPROCESS: CountNews 37.100000 % ETA: 09:04:07"
     ]
    },
    {
     "name": "stdout",
     "output_type": "stream",
     "text": [
      "\rPROCESS: CountNews 37.200000 % ETA: 09:04:10"
     ]
    },
    {
     "name": "stdout",
     "output_type": "stream",
     "text": [
      "\rPROCESS: CountNews 37.200000 % ETA: 09:04:09"
     ]
    },
    {
     "name": "stdout",
     "output_type": "stream",
     "text": [
      "\rPROCESS: CountNews 37.300000 % ETA: 09:04:09"
     ]
    },
    {
     "name": "stdout",
     "output_type": "stream",
     "text": [
      "\rPROCESS: CountNews 37.300000 % ETA: 09:04:09"
     ]
    },
    {
     "name": "stdout",
     "output_type": "stream",
     "text": [
      "\rPROCESS: CountNews 37.300000 % ETA: 09:04:09"
     ]
    },
    {
     "name": "stdout",
     "output_type": "stream",
     "text": [
      "\rPROCESS: CountNews 37.400000 % ETA: 09:04:08"
     ]
    },
    {
     "name": "stdout",
     "output_type": "stream",
     "text": [
      "\rPROCESS: CountNews 37.400000 % ETA: 09:04:08"
     ]
    },
    {
     "name": "stdout",
     "output_type": "stream",
     "text": [
      "\rPROCESS: CountNews 37.500000 % ETA: 09:04:08"
     ]
    },
    {
     "name": "stdout",
     "output_type": "stream",
     "text": [
      "\rPROCESS: CountNews 37.500000 % ETA: 09:04:07"
     ]
    },
    {
     "name": "stdout",
     "output_type": "stream",
     "text": [
      "\rPROCESS: CountNews 37.600000 % ETA: 09:04:10"
     ]
    },
    {
     "name": "stdout",
     "output_type": "stream",
     "text": [
      "\rPROCESS: CountNews 37.600000 % ETA: 09:04:09"
     ]
    },
    {
     "name": "stdout",
     "output_type": "stream",
     "text": [
      "\rPROCESS: CountNews 37.600000 % ETA: 09:04:09"
     ]
    },
    {
     "name": "stdout",
     "output_type": "stream",
     "text": [
      "\rPROCESS: CountNews 37.700000 % ETA: 09:04:09"
     ]
    },
    {
     "name": "stdout",
     "output_type": "stream",
     "text": [
      "\rPROCESS: CountNews 37.700000 % ETA: 09:04:09"
     ]
    },
    {
     "name": "stdout",
     "output_type": "stream",
     "text": [
      "\rPROCESS: CountNews 37.800000 % ETA: 09:04:08"
     ]
    },
    {
     "name": "stdout",
     "output_type": "stream",
     "text": [
      "\rPROCESS: CountNews 37.800000 % ETA: 09:04:08"
     ]
    },
    {
     "name": "stdout",
     "output_type": "stream",
     "text": [
      "\rPROCESS: CountNews 37.900000 % ETA: 09:04:08"
     ]
    },
    {
     "name": "stdout",
     "output_type": "stream",
     "text": [
      "\rPROCESS: CountNews 37.900000 % ETA: 09:04:10"
     ]
    },
    {
     "name": "stdout",
     "output_type": "stream",
     "text": [
      "\rPROCESS: CountNews 37.900000 % ETA: 09:04:10"
     ]
    },
    {
     "name": "stdout",
     "output_type": "stream",
     "text": [
      "\rPROCESS: CountNews 38.000000 % ETA: 09:04:10"
     ]
    },
    {
     "name": "stdout",
     "output_type": "stream",
     "text": [
      "\rPROCESS: CountNews 38.000000 % ETA: 09:04:09"
     ]
    },
    {
     "name": "stdout",
     "output_type": "stream",
     "text": [
      "\rPROCESS: CountNews 38.100000 % ETA: 09:04:09"
     ]
    },
    {
     "name": "stdout",
     "output_type": "stream",
     "text": [
      "\rPROCESS: CountNews 38.100000 % ETA: 09:04:09"
     ]
    },
    {
     "name": "stdout",
     "output_type": "stream",
     "text": [
      "\rPROCESS: CountNews 38.200000 % ETA: 09:04:08"
     ]
    },
    {
     "name": "stdout",
     "output_type": "stream",
     "text": [
      "\rPROCESS: CountNews 38.200000 % ETA: 09:04:08"
     ]
    },
    {
     "name": "stdout",
     "output_type": "stream",
     "text": [
      "\rPROCESS: CountNews 38.300000 % ETA: 09:04:08"
     ]
    },
    {
     "name": "stdout",
     "output_type": "stream",
     "text": [
      "\rPROCESS: CountNews 38.300000 % ETA: 09:04:10"
     ]
    },
    {
     "name": "stdout",
     "output_type": "stream",
     "text": [
      "\rPROCESS: CountNews 38.300000 % ETA: 09:04:10"
     ]
    },
    {
     "name": "stdout",
     "output_type": "stream",
     "text": [
      "\rPROCESS: CountNews 38.400000 % ETA: 09:04:10"
     ]
    },
    {
     "name": "stdout",
     "output_type": "stream",
     "text": [
      "\rPROCESS: CountNews 38.400000 % ETA: 09:04:09"
     ]
    },
    {
     "name": "stdout",
     "output_type": "stream",
     "text": [
      "\rPROCESS: CountNews 38.500000 % ETA: 09:04:09"
     ]
    },
    {
     "name": "stdout",
     "output_type": "stream",
     "text": [
      "\rPROCESS: CountNews 38.500000 % ETA: 09:04:09"
     ]
    },
    {
     "name": "stdout",
     "output_type": "stream",
     "text": [
      "\rPROCESS: CountNews 38.600000 % ETA: 09:04:08"
     ]
    },
    {
     "name": "stdout",
     "output_type": "stream",
     "text": [
      "\rPROCESS: CountNews 38.600000 % ETA: 09:04:08"
     ]
    },
    {
     "name": "stdout",
     "output_type": "stream",
     "text": [
      "\rPROCESS: CountNews 38.600000 % ETA: 09:04:08"
     ]
    },
    {
     "name": "stdout",
     "output_type": "stream",
     "text": [
      "\rPROCESS: CountNews 38.700000 % ETA: 09:04:10"
     ]
    },
    {
     "name": "stdout",
     "output_type": "stream",
     "text": [
      "\rPROCESS: CountNews 38.700000 % ETA: 09:04:10"
     ]
    },
    {
     "name": "stdout",
     "output_type": "stream",
     "text": [
      "\rPROCESS: CountNews 38.800000 % ETA: 09:04:10"
     ]
    },
    {
     "name": "stdout",
     "output_type": "stream",
     "text": [
      "\rPROCESS: CountNews 38.800000 % ETA: 09:04:09"
     ]
    },
    {
     "name": "stdout",
     "output_type": "stream",
     "text": [
      "\rPROCESS: CountNews 38.900000 % ETA: 09:04:09"
     ]
    },
    {
     "name": "stdout",
     "output_type": "stream",
     "text": [
      "\rPROCESS: CountNews 38.900000 % ETA: 09:04:09"
     ]
    },
    {
     "name": "stdout",
     "output_type": "stream",
     "text": [
      "\rPROCESS: CountNews 38.900000 % ETA: 09:04:09"
     ]
    },
    {
     "name": "stdout",
     "output_type": "stream",
     "text": [
      "\rPROCESS: CountNews 39.000000 % ETA: 09:04:08"
     ]
    },
    {
     "name": "stdout",
     "output_type": "stream",
     "text": [
      "\rPROCESS: CountNews 39.000000 % ETA: 09:04:08"
     ]
    },
    {
     "name": "stdout",
     "output_type": "stream",
     "text": [
      "\rPROCESS: CountNews 39.100000 % ETA: 09:04:08"
     ]
    },
    {
     "name": "stdout",
     "output_type": "stream",
     "text": [
      "\rPROCESS: CountNews 39.100000 % ETA: 09:04:10"
     ]
    },
    {
     "name": "stdout",
     "output_type": "stream",
     "text": [
      "\rPROCESS: CountNews 39.200000 % ETA: 09:04:10"
     ]
    },
    {
     "name": "stdout",
     "output_type": "stream",
     "text": [
      "\rPROCESS: CountNews 39.200000 % ETA: 09:04:09"
     ]
    },
    {
     "name": "stdout",
     "output_type": "stream",
     "text": [
      "\rPROCESS: CountNews 39.200000 % ETA: 09:04:09"
     ]
    },
    {
     "name": "stdout",
     "output_type": "stream",
     "text": [
      "\rPROCESS: CountNews 39.300000 % ETA: 09:04:09"
     ]
    },
    {
     "name": "stdout",
     "output_type": "stream",
     "text": [
      "\rPROCESS: CountNews 39.300000 % ETA: 09:04:09"
     ]
    },
    {
     "name": "stdout",
     "output_type": "stream",
     "text": [
      "\rPROCESS: CountNews 39.400000 % ETA: 09:04:08"
     ]
    },
    {
     "name": "stdout",
     "output_type": "stream",
     "text": [
      "\rPROCESS: CountNews 39.400000 % ETA: 09:04:08"
     ]
    },
    {
     "name": "stdout",
     "output_type": "stream",
     "text": [
      "\rPROCESS: CountNews 39.500000 % ETA: 09:04:08"
     ]
    },
    {
     "name": "stdout",
     "output_type": "stream",
     "text": [
      "\rPROCESS: CountNews 39.500000 % ETA: 09:04:10"
     ]
    },
    {
     "name": "stdout",
     "output_type": "stream",
     "text": [
      "\rPROCESS: CountNews 39.500000 % ETA: 09:04:10"
     ]
    },
    {
     "name": "stdout",
     "output_type": "stream",
     "text": [
      "\rPROCESS: CountNews 39.600000 % ETA: 09:04:10"
     ]
    },
    {
     "name": "stdout",
     "output_type": "stream",
     "text": [
      "\rPROCESS: CountNews 39.600000 % ETA: 09:04:09"
     ]
    },
    {
     "name": "stdout",
     "output_type": "stream",
     "text": [
      "\rPROCESS: CountNews 39.700000 % ETA: 09:04:09"
     ]
    },
    {
     "name": "stdout",
     "output_type": "stream",
     "text": [
      "\rPROCESS: CountNews 39.700000 % ETA: 09:04:09"
     ]
    },
    {
     "name": "stdout",
     "output_type": "stream",
     "text": [
      "\rPROCESS: CountNews 39.800000 % ETA: 09:04:08"
     ]
    },
    {
     "name": "stdout",
     "output_type": "stream",
     "text": [
      "\rPROCESS: CountNews 39.800000 % ETA: 09:04:08"
     ]
    },
    {
     "name": "stdout",
     "output_type": "stream",
     "text": [
      "\rPROCESS: CountNews 39.900000 % ETA: 09:04:08"
     ]
    },
    {
     "name": "stdout",
     "output_type": "stream",
     "text": [
      "\rPROCESS: CountNews 39.900000 % ETA: 09:04:08"
     ]
    },
    {
     "name": "stdout",
     "output_type": "stream",
     "text": [
      "\rPROCESS: CountNews 39.900000 % ETA: 09:04:10"
     ]
    },
    {
     "name": "stdout",
     "output_type": "stream",
     "text": [
      "\rPROCESS: CountNews 40.000000 % ETA: 09:04:10"
     ]
    },
    {
     "name": "stdout",
     "output_type": "stream",
     "text": [
      "\rPROCESS: CountNews 40.000000 % ETA: 09:04:09"
     ]
    },
    {
     "name": "stdout",
     "output_type": "stream",
     "text": [
      "\rPROCESS: CountNews 40.100000 % ETA: 09:04:09"
     ]
    },
    {
     "name": "stdout",
     "output_type": "stream",
     "text": [
      "\rPROCESS: CountNews 40.100000 % ETA: 09:04:09"
     ]
    },
    {
     "name": "stdout",
     "output_type": "stream",
     "text": [
      "\rPROCESS: CountNews 40.200000 % ETA: 09:04:09"
     ]
    },
    {
     "name": "stdout",
     "output_type": "stream",
     "text": [
      "\rPROCESS: CountNews 40.200000 % ETA: 09:04:08"
     ]
    },
    {
     "name": "stdout",
     "output_type": "stream",
     "text": [
      "\rPROCESS: CountNews 40.200000 % ETA: 09:04:08"
     ]
    },
    {
     "name": "stdout",
     "output_type": "stream",
     "text": [
      "\rPROCESS: CountNews 40.300000 % ETA: 09:04:08"
     ]
    },
    {
     "name": "stdout",
     "output_type": "stream",
     "text": [
      "\rPROCESS: CountNews 40.300000 % ETA: 09:04:07"
     ]
    },
    {
     "name": "stdout",
     "output_type": "stream",
     "text": [
      "\rPROCESS: CountNews 40.400000 % ETA: 09:04:10"
     ]
    },
    {
     "name": "stdout",
     "output_type": "stream",
     "text": [
      "\rPROCESS: CountNews 40.400000 % ETA: 09:04:09"
     ]
    },
    {
     "name": "stdout",
     "output_type": "stream",
     "text": [
      "\rPROCESS: CountNews 40.500000 % ETA: 09:04:09"
     ]
    },
    {
     "name": "stdout",
     "output_type": "stream",
     "text": [
      "\rPROCESS: CountNews 40.500000 % ETA: 09:04:09"
     ]
    },
    {
     "name": "stdout",
     "output_type": "stream",
     "text": [
      "\rPROCESS: CountNews 40.500000 % ETA: 09:04:09"
     ]
    },
    {
     "name": "stdout",
     "output_type": "stream",
     "text": [
      "\rPROCESS: CountNews 40.600000 % ETA: 09:04:08"
     ]
    },
    {
     "name": "stdout",
     "output_type": "stream",
     "text": [
      "\rPROCESS: CountNews 40.600000 % ETA: 09:04:08"
     ]
    },
    {
     "name": "stdout",
     "output_type": "stream",
     "text": [
      "\rPROCESS: CountNews 40.700000 % ETA: 09:04:08"
     ]
    },
    {
     "name": "stdout",
     "output_type": "stream",
     "text": [
      "\rPROCESS: CountNews 40.700000 % ETA: 09:04:08"
     ]
    },
    {
     "name": "stdout",
     "output_type": "stream",
     "text": [
      "\rPROCESS: CountNews 40.800000 % ETA: 09:04:10"
     ]
    },
    {
     "name": "stdout",
     "output_type": "stream",
     "text": [
      "\rPROCESS: CountNews 40.800000 % ETA: 09:04:09"
     ]
    },
    {
     "name": "stdout",
     "output_type": "stream",
     "text": [
      "\rPROCESS: CountNews 40.800000 % ETA: 09:04:09"
     ]
    },
    {
     "name": "stdout",
     "output_type": "stream",
     "text": [
      "\rPROCESS: CountNews 40.900000 % ETA: 09:04:09"
     ]
    },
    {
     "name": "stdout",
     "output_type": "stream",
     "text": [
      "\rPROCESS: CountNews 40.900000 % ETA: 09:04:09"
     ]
    },
    {
     "name": "stdout",
     "output_type": "stream",
     "text": [
      "\rPROCESS: CountNews 41.000000 % ETA: 09:04:08"
     ]
    },
    {
     "name": "stdout",
     "output_type": "stream",
     "text": [
      "\rPROCESS: CountNews 41.000000 % ETA: 09:04:08"
     ]
    },
    {
     "name": "stdout",
     "output_type": "stream",
     "text": [
      "\rPROCESS: CountNews 41.100000 % ETA: 09:04:08"
     ]
    },
    {
     "name": "stdout",
     "output_type": "stream",
     "text": [
      "\rPROCESS: CountNews 41.100000 % ETA: 09:04:08"
     ]
    },
    {
     "name": "stdout",
     "output_type": "stream",
     "text": [
      "\rPROCESS: CountNews 41.200000 % ETA: 09:04:07"
     ]
    },
    {
     "name": "stdout",
     "output_type": "stream",
     "text": [
      "\rPROCESS: CountNews 41.200000 % ETA: 09:04:10"
     ]
    },
    {
     "name": "stdout",
     "output_type": "stream",
     "text": [
      "\rPROCESS: CountNews 41.200000 % ETA: 09:04:09"
     ]
    },
    {
     "name": "stdout",
     "output_type": "stream",
     "text": [
      "\rPROCESS: CountNews 41.300000 % ETA: 09:04:09"
     ]
    },
    {
     "name": "stdout",
     "output_type": "stream",
     "text": [
      "\rPROCESS: CountNews 41.300000 % ETA: 09:04:09"
     ]
    },
    {
     "name": "stdout",
     "output_type": "stream",
     "text": [
      "\rPROCESS: CountNews 41.400000 % ETA: 09:04:08"
     ]
    },
    {
     "name": "stdout",
     "output_type": "stream",
     "text": [
      "\rPROCESS: CountNews 41.400000 % ETA: 09:04:08"
     ]
    },
    {
     "name": "stdout",
     "output_type": "stream",
     "text": [
      "\rPROCESS: CountNews 41.500000 % ETA: 09:04:08"
     ]
    },
    {
     "name": "stdout",
     "output_type": "stream",
     "text": [
      "\rPROCESS: CountNews 41.500000 % ETA: 09:04:08"
     ]
    },
    {
     "name": "stdout",
     "output_type": "stream",
     "text": [
      "\rPROCESS: CountNews 41.500000 % ETA: 09:04:07"
     ]
    },
    {
     "name": "stdout",
     "output_type": "stream",
     "text": [
      "\rPROCESS: CountNews 41.600000 % ETA: 09:04:10"
     ]
    },
    {
     "name": "stdout",
     "output_type": "stream",
     "text": [
      "\rPROCESS: CountNews 41.600000 % ETA: 09:04:09"
     ]
    },
    {
     "name": "stdout",
     "output_type": "stream",
     "text": [
      "\rPROCESS: CountNews 41.700000 % ETA: 09:04:09"
     ]
    },
    {
     "name": "stdout",
     "output_type": "stream",
     "text": [
      "\rPROCESS: CountNews 41.700000 % ETA: 09:04:09"
     ]
    },
    {
     "name": "stdout",
     "output_type": "stream",
     "text": [
      "\rPROCESS: CountNews 41.800000 % ETA: 09:04:09"
     ]
    },
    {
     "name": "stdout",
     "output_type": "stream",
     "text": [
      "\rPROCESS: CountNews 41.800000 % ETA: 09:04:08"
     ]
    },
    {
     "name": "stdout",
     "output_type": "stream",
     "text": [
      "\rPROCESS: CountNews 41.800000 % ETA: 09:04:08"
     ]
    },
    {
     "name": "stdout",
     "output_type": "stream",
     "text": [
      "\rPROCESS: CountNews 41.900000 % ETA: 09:04:08"
     ]
    },
    {
     "name": "stdout",
     "output_type": "stream",
     "text": [
      "\rPROCESS: CountNews 41.900000 % ETA: 09:04:08"
     ]
    },
    {
     "name": "stdout",
     "output_type": "stream",
     "text": [
      "\rPROCESS: CountNews 42.000000 % ETA: 09:04:10"
     ]
    },
    {
     "name": "stdout",
     "output_type": "stream",
     "text": [
      "\rPROCESS: CountNews 42.000000 % ETA: 09:04:09"
     ]
    },
    {
     "name": "stdout",
     "output_type": "stream",
     "text": [
      "\rPROCESS: CountNews 42.100000 % ETA: 09:04:09"
     ]
    },
    {
     "name": "stdout",
     "output_type": "stream",
     "text": [
      "\rPROCESS: CountNews 42.100000 % ETA: 09:04:09"
     ]
    },
    {
     "name": "stdout",
     "output_type": "stream",
     "text": [
      "\rPROCESS: CountNews 42.100000 % ETA: 09:04:09"
     ]
    },
    {
     "name": "stdout",
     "output_type": "stream",
     "text": [
      "\rPROCESS: CountNews 42.200000 % ETA: 09:04:08"
     ]
    },
    {
     "name": "stdout",
     "output_type": "stream",
     "text": [
      "\rPROCESS: CountNews 42.200000 % ETA: 09:04:08"
     ]
    },
    {
     "name": "stdout",
     "output_type": "stream",
     "text": [
      "\rPROCESS: CountNews 42.300000 % ETA: 09:04:08"
     ]
    },
    {
     "name": "stdout",
     "output_type": "stream",
     "text": [
      "\rPROCESS: CountNews 42.300000 % ETA: 09:04:08"
     ]
    },
    {
     "name": "stdout",
     "output_type": "stream",
     "text": [
      "\rPROCESS: CountNews 42.400000 % ETA: 09:04:07"
     ]
    },
    {
     "name": "stdout",
     "output_type": "stream",
     "text": [
      "\rPROCESS: CountNews 42.400000 % ETA: 09:04:09"
     ]
    },
    {
     "name": "stdout",
     "output_type": "stream",
     "text": [
      "\rPROCESS: CountNews 42.400000 % ETA: 09:04:09"
     ]
    },
    {
     "name": "stdout",
     "output_type": "stream",
     "text": [
      "\rPROCESS: CountNews 42.500000 % ETA: 09:04:09"
     ]
    },
    {
     "name": "stdout",
     "output_type": "stream",
     "text": [
      "\rPROCESS: CountNews 42.500000 % ETA: 09:04:09"
     ]
    },
    {
     "name": "stdout",
     "output_type": "stream",
     "text": [
      "\rPROCESS: CountNews 42.600000 % ETA: 09:04:08"
     ]
    },
    {
     "name": "stdout",
     "output_type": "stream",
     "text": [
      "\rPROCESS: CountNews 42.600000 % ETA: 09:04:08"
     ]
    },
    {
     "name": "stdout",
     "output_type": "stream",
     "text": [
      "\rPROCESS: CountNews 42.700000 % ETA: 09:04:08"
     ]
    },
    {
     "name": "stdout",
     "output_type": "stream",
     "text": [
      "\rPROCESS: CountNews 42.700000 % ETA: 09:04:08"
     ]
    },
    {
     "name": "stdout",
     "output_type": "stream",
     "text": [
      "\rPROCESS: CountNews 42.800000 % ETA: 09:04:07"
     ]
    },
    {
     "name": "stdout",
     "output_type": "stream",
     "text": [
      "\rPROCESS: CountNews 42.800000 % ETA: 09:04:10"
     ]
    },
    {
     "name": "stdout",
     "output_type": "stream",
     "text": [
      "\rPROCESS: CountNews 42.800000 % ETA: 09:04:09"
     ]
    },
    {
     "name": "stdout",
     "output_type": "stream",
     "text": [
      "\rPROCESS: CountNews 42.900000 % ETA: 09:04:09"
     ]
    },
    {
     "name": "stdout",
     "output_type": "stream",
     "text": [
      "\rPROCESS: CountNews 42.900000 % ETA: 09:04:09"
     ]
    },
    {
     "name": "stdout",
     "output_type": "stream",
     "text": [
      "\rPROCESS: CountNews 43.000000 % ETA: 09:04:09"
     ]
    },
    {
     "name": "stdout",
     "output_type": "stream",
     "text": [
      "\rPROCESS: CountNews 43.000000 % ETA: 09:04:08"
     ]
    },
    {
     "name": "stdout",
     "output_type": "stream",
     "text": [
      "\rPROCESS: CountNews 43.100000 % ETA: 09:04:08"
     ]
    },
    {
     "name": "stdout",
     "output_type": "stream",
     "text": [
      "\rPROCESS: CountNews 43.100000 % ETA: 09:04:08"
     ]
    },
    {
     "name": "stdout",
     "output_type": "stream",
     "text": [
      "\rPROCESS: CountNews 43.100000 % ETA: 09:04:08"
     ]
    },
    {
     "name": "stdout",
     "output_type": "stream",
     "text": [
      "\rPROCESS: CountNews 43.200000 % ETA: 09:04:10"
     ]
    },
    {
     "name": "stdout",
     "output_type": "stream",
     "text": [
      "\rPROCESS: CountNews 43.200000 % ETA: 09:04:09"
     ]
    },
    {
     "name": "stdout",
     "output_type": "stream",
     "text": [
      "\rPROCESS: CountNews 43.300000 % ETA: 09:04:09"
     ]
    },
    {
     "name": "stdout",
     "output_type": "stream",
     "text": [
      "\rPROCESS: CountNews 43.300000 % ETA: 09:04:09"
     ]
    },
    {
     "name": "stdout",
     "output_type": "stream",
     "text": [
      "\rPROCESS: CountNews 43.400000 % ETA: 09:04:09"
     ]
    },
    {
     "name": "stdout",
     "output_type": "stream",
     "text": [
      "\rPROCESS: CountNews 43.400000 % ETA: 09:04:08"
     ]
    },
    {
     "name": "stdout",
     "output_type": "stream",
     "text": [
      "\rPROCESS: CountNews 43.400000 % ETA: 09:04:08"
     ]
    },
    {
     "name": "stdout",
     "output_type": "stream",
     "text": [
      "\rPROCESS: CountNews 43.500000 % ETA: 09:04:08"
     ]
    },
    {
     "name": "stdout",
     "output_type": "stream",
     "text": [
      "\rPROCESS: CountNews 43.500000 % ETA: 09:04:08"
     ]
    },
    {
     "name": "stdout",
     "output_type": "stream",
     "text": [
      "\rPROCESS: CountNews 43.600000 % ETA: 09:04:10"
     ]
    },
    {
     "name": "stdout",
     "output_type": "stream",
     "text": [
      "\rPROCESS: CountNews 43.600000 % ETA: 09:04:09"
     ]
    },
    {
     "name": "stdout",
     "output_type": "stream",
     "text": [
      "\rPROCESS: CountNews 43.700000 % ETA: 09:04:09"
     ]
    },
    {
     "name": "stdout",
     "output_type": "stream",
     "text": [
      "\rPROCESS: CountNews 43.700000 % ETA: 09:04:09"
     ]
    },
    {
     "name": "stdout",
     "output_type": "stream",
     "text": [
      "\rPROCESS: CountNews 43.700000 % ETA: 09:04:09"
     ]
    },
    {
     "name": "stdout",
     "output_type": "stream",
     "text": [
      "\rPROCESS: CountNews 43.800000 % ETA: 09:04:08"
     ]
    },
    {
     "name": "stdout",
     "output_type": "stream",
     "text": [
      "\rPROCESS: CountNews 43.800000 % ETA: 09:04:08"
     ]
    },
    {
     "name": "stdout",
     "output_type": "stream",
     "text": [
      "\rPROCESS: CountNews 43.900000 % ETA: 09:04:08"
     ]
    },
    {
     "name": "stdout",
     "output_type": "stream",
     "text": [
      "\rPROCESS: CountNews 43.900000 % ETA: 09:04:08"
     ]
    },
    {
     "name": "stdout",
     "output_type": "stream",
     "text": [
      "\rPROCESS: CountNews 44.000000 % ETA: 09:04:10"
     ]
    },
    {
     "name": "stdout",
     "output_type": "stream",
     "text": [
      "\rPROCESS: CountNews 44.000000 % ETA: 09:04:09"
     ]
    },
    {
     "name": "stdout",
     "output_type": "stream",
     "text": [
      "\rPROCESS: CountNews 44.100000 % ETA: 09:04:09"
     ]
    },
    {
     "name": "stdout",
     "output_type": "stream",
     "text": [
      "\rPROCESS: CountNews 44.100000 % ETA: 09:04:09"
     ]
    },
    {
     "name": "stdout",
     "output_type": "stream",
     "text": [
      "\rPROCESS: CountNews 44.100000 % ETA: 09:04:09"
     ]
    },
    {
     "name": "stdout",
     "output_type": "stream",
     "text": [
      "\rPROCESS: CountNews 44.200000 % ETA: 09:04:08"
     ]
    },
    {
     "name": "stdout",
     "output_type": "stream",
     "text": [
      "\rPROCESS: CountNews 44.200000 % ETA: 09:04:08"
     ]
    },
    {
     "name": "stdout",
     "output_type": "stream",
     "text": [
      "\rPROCESS: CountNews 44.300000 % ETA: 09:04:08"
     ]
    },
    {
     "name": "stdout",
     "output_type": "stream",
     "text": [
      "\rPROCESS: CountNews 44.300000 % ETA: 09:04:08"
     ]
    },
    {
     "name": "stdout",
     "output_type": "stream",
     "text": [
      "\rPROCESS: CountNews 44.400000 % ETA: 09:04:08"
     ]
    },
    {
     "name": "stdout",
     "output_type": "stream",
     "text": [
      "\rPROCESS: CountNews 44.400000 % ETA: 09:04:10"
     ]
    },
    {
     "name": "stdout",
     "output_type": "stream",
     "text": [
      "\rPROCESS: CountNews 44.400000 % ETA: 09:04:09"
     ]
    },
    {
     "name": "stdout",
     "output_type": "stream",
     "text": [
      "\rPROCESS: CountNews 44.500000 % ETA: 09:04:09"
     ]
    },
    {
     "name": "stdout",
     "output_type": "stream",
     "text": [
      "\rPROCESS: CountNews 44.500000 % ETA: 09:04:09"
     ]
    },
    {
     "name": "stdout",
     "output_type": "stream",
     "text": [
      "\rPROCESS: CountNews 44.600000 % ETA: 09:04:09"
     ]
    },
    {
     "name": "stdout",
     "output_type": "stream",
     "text": [
      "\rPROCESS: CountNews 44.600000 % ETA: 09:04:08"
     ]
    },
    {
     "name": "stdout",
     "output_type": "stream",
     "text": [
      "\rPROCESS: CountNews 44.700000 % ETA: 09:04:08"
     ]
    },
    {
     "name": "stdout",
     "output_type": "stream",
     "text": [
      "\rPROCESS: CountNews 44.700000 % ETA: 09:04:08"
     ]
    },
    {
     "name": "stdout",
     "output_type": "stream",
     "text": [
      "\rPROCESS: CountNews 44.700000 % ETA: 09:04:08"
     ]
    },
    {
     "name": "stdout",
     "output_type": "stream",
     "text": [
      "\rPROCESS: CountNews 44.800000 % ETA: 09:04:10"
     ]
    },
    {
     "name": "stdout",
     "output_type": "stream",
     "text": [
      "\rPROCESS: CountNews 44.800000 % ETA: 09:04:09"
     ]
    },
    {
     "name": "stdout",
     "output_type": "stream",
     "text": [
      "\rPROCESS: CountNews 44.900000 % ETA: 09:04:09"
     ]
    },
    {
     "name": "stdout",
     "output_type": "stream",
     "text": [
      "\rPROCESS: CountNews 44.900000 % ETA: 09:04:09"
     ]
    },
    {
     "name": "stdout",
     "output_type": "stream",
     "text": [
      "\rPROCESS: CountNews 45.000000 % ETA: 09:04:09"
     ]
    },
    {
     "name": "stdout",
     "output_type": "stream",
     "text": [
      "\rPROCESS: CountNews 45.000000 % ETA: 09:04:08"
     ]
    },
    {
     "name": "stdout",
     "output_type": "stream",
     "text": [
      "\rPROCESS: CountNews 45.000000 % ETA: 09:04:08"
     ]
    },
    {
     "name": "stdout",
     "output_type": "stream",
     "text": [
      "\rPROCESS: CountNews 45.100000 % ETA: 09:04:08"
     ]
    },
    {
     "name": "stdout",
     "output_type": "stream",
     "text": [
      "\rPROCESS: CountNews 45.100000 % ETA: 09:04:08"
     ]
    },
    {
     "name": "stdout",
     "output_type": "stream",
     "text": [
      "\rPROCESS: CountNews 45.200000 % ETA: 09:04:07"
     ]
    },
    {
     "name": "stdout",
     "output_type": "stream",
     "text": [
      "\rPROCESS: CountNews 45.200000 % ETA: 09:04:09"
     ]
    },
    {
     "name": "stdout",
     "output_type": "stream",
     "text": [
      "\rPROCESS: CountNews 45.300000 % ETA: 09:04:09"
     ]
    },
    {
     "name": "stdout",
     "output_type": "stream",
     "text": [
      "\rPROCESS: CountNews 45.300000 % ETA: 09:04:09"
     ]
    },
    {
     "name": "stdout",
     "output_type": "stream",
     "text": [
      "\rPROCESS: CountNews 45.300000 % ETA: 09:04:09"
     ]
    },
    {
     "name": "stdout",
     "output_type": "stream",
     "text": [
      "\rPROCESS: CountNews 45.400000 % ETA: 09:04:08"
     ]
    },
    {
     "name": "stdout",
     "output_type": "stream",
     "text": [
      "\rPROCESS: CountNews 45.400000 % ETA: 09:04:08"
     ]
    },
    {
     "name": "stdout",
     "output_type": "stream",
     "text": [
      "\rPROCESS: CountNews 45.500000 % ETA: 09:04:08"
     ]
    },
    {
     "name": "stdout",
     "output_type": "stream",
     "text": [
      "\rPROCESS: CountNews 45.500000 % ETA: 09:04:10"
     ]
    },
    {
     "name": "stdout",
     "output_type": "stream",
     "text": [
      "\rPROCESS: CountNews 45.600000 % ETA: 09:04:10"
     ]
    },
    {
     "name": "stdout",
     "output_type": "stream",
     "text": [
      "\rPROCESS: CountNews 45.600000 % ETA: 09:04:09"
     ]
    },
    {
     "name": "stdout",
     "output_type": "stream",
     "text": [
      "\rPROCESS: CountNews 45.700000 % ETA: 09:04:09"
     ]
    },
    {
     "name": "stdout",
     "output_type": "stream",
     "text": [
      "\rPROCESS: CountNews 45.700000 % ETA: 09:04:09"
     ]
    },
    {
     "name": "stdout",
     "output_type": "stream",
     "text": [
      "\rPROCESS: CountNews 45.700000 % ETA: 09:04:09"
     ]
    },
    {
     "name": "stdout",
     "output_type": "stream",
     "text": [
      "\rPROCESS: CountNews 45.800000 % ETA: 09:04:09"
     ]
    },
    {
     "name": "stdout",
     "output_type": "stream",
     "text": [
      "\rPROCESS: CountNews 45.800000 % ETA: 09:04:10"
     ]
    },
    {
     "name": "stdout",
     "output_type": "stream",
     "text": [
      "\rPROCESS: CountNews 45.900000 % ETA: 09:04:10"
     ]
    },
    {
     "name": "stdout",
     "output_type": "stream",
     "text": [
      "\rPROCESS: CountNews 45.900000 % ETA: 09:04:10"
     ]
    },
    {
     "name": "stdout",
     "output_type": "stream",
     "text": [
      "\rPROCESS: CountNews 46.000000 % ETA: 09:04:10"
     ]
    },
    {
     "name": "stdout",
     "output_type": "stream",
     "text": [
      "\rPROCESS: CountNews 46.000000 % ETA: 09:04:10"
     ]
    },
    {
     "name": "stdout",
     "output_type": "stream",
     "text": [
      "\rPROCESS: CountNews 46.000000 % ETA: 09:04:09"
     ]
    },
    {
     "name": "stdout",
     "output_type": "stream",
     "text": [
      "\rPROCESS: CountNews 46.100000 % ETA: 09:04:09"
     ]
    },
    {
     "name": "stdout",
     "output_type": "stream",
     "text": [
      "\rPROCESS: CountNews 46.100000 % ETA: 09:04:11"
     ]
    },
    {
     "name": "stdout",
     "output_type": "stream",
     "text": [
      "\rPROCESS: CountNews 46.200000 % ETA: 09:04:11"
     ]
    },
    {
     "name": "stdout",
     "output_type": "stream",
     "text": [
      "\rPROCESS: CountNews 46.200000 % ETA: 09:04:11"
     ]
    },
    {
     "name": "stdout",
     "output_type": "stream",
     "text": [
      "\rPROCESS: CountNews 46.300000 % ETA: 09:04:10"
     ]
    },
    {
     "name": "stdout",
     "output_type": "stream",
     "text": [
      "\rPROCESS: CountNews 46.300000 % ETA: 09:04:10"
     ]
    },
    {
     "name": "stdout",
     "output_type": "stream",
     "text": [
      "\rPROCESS: CountNews 46.300000 % ETA: 09:04:10"
     ]
    },
    {
     "name": "stdout",
     "output_type": "stream",
     "text": [
      "\rPROCESS: CountNews 46.400000 % ETA: 09:04:10"
     ]
    },
    {
     "name": "stdout",
     "output_type": "stream",
     "text": [
      "\rPROCESS: CountNews 46.400000 % ETA: 09:04:09"
     ]
    },
    {
     "name": "stdout",
     "output_type": "stream",
     "text": [
      "\rPROCESS: CountNews 46.500000 % ETA: 09:04:09"
     ]
    },
    {
     "name": "stdout",
     "output_type": "stream",
     "text": [
      "\rPROCESS: CountNews 46.500000 % ETA: 09:04:11"
     ]
    },
    {
     "name": "stdout",
     "output_type": "stream",
     "text": [
      "\rPROCESS: CountNews 46.600000 % ETA: 09:04:11"
     ]
    },
    {
     "name": "stdout",
     "output_type": "stream",
     "text": [
      "\rPROCESS: CountNews 46.600000 % ETA: 09:04:11"
     ]
    },
    {
     "name": "stdout",
     "output_type": "stream",
     "text": [
      "\rPROCESS: CountNews 46.600000 % ETA: 09:04:10"
     ]
    },
    {
     "name": "stdout",
     "output_type": "stream",
     "text": [
      "\rPROCESS: CountNews 46.700000 % ETA: 09:04:10"
     ]
    },
    {
     "name": "stdout",
     "output_type": "stream",
     "text": [
      "\rPROCESS: CountNews 46.700000 % ETA: 09:04:10"
     ]
    },
    {
     "name": "stdout",
     "output_type": "stream",
     "text": [
      "\rPROCESS: CountNews 46.800000 % ETA: 09:04:10"
     ]
    },
    {
     "name": "stdout",
     "output_type": "stream",
     "text": [
      "\rPROCESS: CountNews 46.800000 % ETA: 09:04:09"
     ]
    },
    {
     "name": "stdout",
     "output_type": "stream",
     "text": [
      "\rPROCESS: CountNews 46.900000 % ETA: 09:04:11"
     ]
    },
    {
     "name": "stdout",
     "output_type": "stream",
     "text": [
      "\rPROCESS: CountNews 46.900000 % ETA: 09:04:11"
     ]
    },
    {
     "name": "stdout",
     "output_type": "stream",
     "text": [
      "\rPROCESS: CountNews 46.900000 % ETA: 09:04:11"
     ]
    },
    {
     "name": "stdout",
     "output_type": "stream",
     "text": [
      "\rPROCESS: CountNews 47.000000 % ETA: 09:04:11"
     ]
    },
    {
     "name": "stdout",
     "output_type": "stream",
     "text": [
      "\rPROCESS: CountNews 47.000000 % ETA: 09:04:10"
     ]
    },
    {
     "name": "stdout",
     "output_type": "stream",
     "text": [
      "\rPROCESS: CountNews 47.100000 % ETA: 09:04:10"
     ]
    },
    {
     "name": "stdout",
     "output_type": "stream",
     "text": [
      "\rPROCESS: CountNews 47.100000 % ETA: 09:04:10"
     ]
    },
    {
     "name": "stdout",
     "output_type": "stream",
     "text": [
      "\rPROCESS: CountNews 47.200000 % ETA: 09:04:10"
     ]
    },
    {
     "name": "stdout",
     "output_type": "stream",
     "text": [
      "\rPROCESS: CountNews 47.200000 % ETA: 09:04:09"
     ]
    },
    {
     "name": "stdout",
     "output_type": "stream",
     "text": [
      "\rPROCESS: CountNews 47.300000 % ETA: 09:04:09"
     ]
    },
    {
     "name": "stdout",
     "output_type": "stream",
     "text": [
      "\rPROCESS: CountNews 47.300000 % ETA: 09:04:11"
     ]
    },
    {
     "name": "stdout",
     "output_type": "stream",
     "text": [
      "\rPROCESS: CountNews 47.300000 % ETA: 09:04:11"
     ]
    },
    {
     "name": "stdout",
     "output_type": "stream",
     "text": [
      "\rPROCESS: CountNews 47.400000 % ETA: 09:04:11"
     ]
    },
    {
     "name": "stdout",
     "output_type": "stream",
     "text": [
      "\rPROCESS: CountNews 47.400000 % ETA: 09:04:10"
     ]
    },
    {
     "name": "stdout",
     "output_type": "stream",
     "text": [
      "\rPROCESS: CountNews 47.500000 % ETA: 09:04:10"
     ]
    },
    {
     "name": "stdout",
     "output_type": "stream",
     "text": [
      "\rPROCESS: CountNews 47.500000 % ETA: 09:04:10"
     ]
    },
    {
     "name": "stdout",
     "output_type": "stream",
     "text": [
      "\rPROCESS: CountNews 47.600000 % ETA: 09:04:10"
     ]
    },
    {
     "name": "stdout",
     "output_type": "stream",
     "text": [
      "\rPROCESS: CountNews 47.600000 % ETA: 09:04:10"
     ]
    },
    {
     "name": "stdout",
     "output_type": "stream",
     "text": [
      "\rPROCESS: CountNews 47.600000 % ETA: 09:04:11"
     ]
    },
    {
     "name": "stdout",
     "output_type": "stream",
     "text": [
      "\rPROCESS: CountNews 47.700000 % ETA: 09:04:11"
     ]
    },
    {
     "name": "stdout",
     "output_type": "stream",
     "text": [
      "\rPROCESS: CountNews 47.700000 % ETA: 09:04:11"
     ]
    },
    {
     "name": "stdout",
     "output_type": "stream",
     "text": [
      "\rPROCESS: CountNews 47.800000 % ETA: 09:04:11"
     ]
    },
    {
     "name": "stdout",
     "output_type": "stream",
     "text": [
      "\rPROCESS: CountNews 47.800000 % ETA: 09:04:10"
     ]
    },
    {
     "name": "stdout",
     "output_type": "stream",
     "text": [
      "\rPROCESS: CountNews 47.900000 % ETA: 09:04:10"
     ]
    },
    {
     "name": "stdout",
     "output_type": "stream",
     "text": [
      "\rPROCESS: CountNews 47.900000 % ETA: 09:04:10"
     ]
    },
    {
     "name": "stdout",
     "output_type": "stream",
     "text": [
      "\rPROCESS: CountNews 47.900000 % ETA: 09:04:10"
     ]
    },
    {
     "name": "stdout",
     "output_type": "stream",
     "text": [
      "\rPROCESS: CountNews 48.000000 % ETA: 09:04:10"
     ]
    },
    {
     "name": "stdout",
     "output_type": "stream",
     "text": [
      "\rPROCESS: CountNews 48.000000 % ETA: 09:04:09"
     ]
    },
    {
     "name": "stdout",
     "output_type": "stream",
     "text": [
      "\rPROCESS: CountNews 48.100000 % ETA: 09:04:11"
     ]
    },
    {
     "name": "stdout",
     "output_type": "stream",
     "text": [
      "\rPROCESS: CountNews 48.100000 % ETA: 09:04:11"
     ]
    },
    {
     "name": "stdout",
     "output_type": "stream",
     "text": [
      "\rPROCESS: CountNews 48.200000 % ETA: 09:04:11"
     ]
    },
    {
     "name": "stdout",
     "output_type": "stream",
     "text": [
      "\rPROCESS: CountNews 48.200000 % ETA: 09:04:11"
     ]
    },
    {
     "name": "stdout",
     "output_type": "stream",
     "text": [
      "\rPROCESS: CountNews 48.200000 % ETA: 09:04:10"
     ]
    },
    {
     "name": "stdout",
     "output_type": "stream",
     "text": [
      "\rPROCESS: CountNews 48.300000 % ETA: 09:04:10"
     ]
    },
    {
     "name": "stdout",
     "output_type": "stream",
     "text": [
      "\rPROCESS: CountNews 48.300000 % ETA: 09:04:10"
     ]
    },
    {
     "name": "stdout",
     "output_type": "stream",
     "text": [
      "\rPROCESS: CountNews 48.400000 % ETA: 09:04:10"
     ]
    },
    {
     "name": "stdout",
     "output_type": "stream",
     "text": [
      "\rPROCESS: CountNews 48.400000 % ETA: 09:04:09"
     ]
    },
    {
     "name": "stdout",
     "output_type": "stream",
     "text": [
      "\rPROCESS: CountNews 48.500000 % ETA: 09:04:09"
     ]
    },
    {
     "name": "stdout",
     "output_type": "stream",
     "text": [
      "\rPROCESS: CountNews 48.500000 % ETA: 09:04:11"
     ]
    },
    {
     "name": "stdout",
     "output_type": "stream",
     "text": [
      "\rPROCESS: CountNews 48.600000 % ETA: 09:04:11"
     ]
    },
    {
     "name": "stdout",
     "output_type": "stream",
     "text": [
      "\rPROCESS: CountNews 48.600000 % ETA: 09:04:11"
     ]
    },
    {
     "name": "stdout",
     "output_type": "stream",
     "text": [
      "\rPROCESS: CountNews 48.600000 % ETA: 09:04:10"
     ]
    },
    {
     "name": "stdout",
     "output_type": "stream",
     "text": [
      "\rPROCESS: CountNews 48.700000 % ETA: 09:04:10"
     ]
    },
    {
     "name": "stdout",
     "output_type": "stream",
     "text": [
      "\rPROCESS: CountNews 48.700000 % ETA: 09:04:10"
     ]
    },
    {
     "name": "stdout",
     "output_type": "stream",
     "text": [
      "\rPROCESS: CountNews 48.800000 % ETA: 09:04:10"
     ]
    },
    {
     "name": "stdout",
     "output_type": "stream",
     "text": [
      "\rPROCESS: CountNews 48.800000 % ETA: 09:04:09"
     ]
    },
    {
     "name": "stdout",
     "output_type": "stream",
     "text": [
      "\rPROCESS: CountNews 48.900000 % ETA: 09:04:09"
     ]
    },
    {
     "name": "stdout",
     "output_type": "stream",
     "text": [
      "\rPROCESS: CountNews 48.900000 % ETA: 09:04:11"
     ]
    },
    {
     "name": "stdout",
     "output_type": "stream",
     "text": [
      "\rPROCESS: CountNews 48.900000 % ETA: 09:04:11"
     ]
    },
    {
     "name": "stdout",
     "output_type": "stream",
     "text": [
      "\rPROCESS: CountNews 49.000000 % ETA: 09:04:11"
     ]
    },
    {
     "name": "stdout",
     "output_type": "stream",
     "text": [
      "\rPROCESS: CountNews 49.000000 % ETA: 09:04:10"
     ]
    },
    {
     "name": "stdout",
     "output_type": "stream",
     "text": [
      "\rPROCESS: CountNews 49.100000 % ETA: 09:04:10"
     ]
    },
    {
     "name": "stdout",
     "output_type": "stream",
     "text": [
      "\rPROCESS: CountNews 49.100000 % ETA: 09:04:10"
     ]
    },
    {
     "name": "stdout",
     "output_type": "stream",
     "text": [
      "\rPROCESS: CountNews 49.200000 % ETA: 09:04:10"
     ]
    },
    {
     "name": "stdout",
     "output_type": "stream",
     "text": [
      "\rPROCESS: CountNews 49.200000 % ETA: 09:04:10"
     ]
    },
    {
     "name": "stdout",
     "output_type": "stream",
     "text": [
      "\rPROCESS: CountNews 49.200000 % ETA: 09:04:09"
     ]
    },
    {
     "name": "stdout",
     "output_type": "stream",
     "text": [
      "\rPROCESS: CountNews 49.300000 % ETA: 09:04:11"
     ]
    },
    {
     "name": "stdout",
     "output_type": "stream",
     "text": [
      "\rPROCESS: CountNews 49.300000 % ETA: 09:04:11"
     ]
    },
    {
     "name": "stdout",
     "output_type": "stream",
     "text": [
      "\rPROCESS: CountNews 49.400000 % ETA: 09:04:11"
     ]
    },
    {
     "name": "stdout",
     "output_type": "stream",
     "text": [
      "\rPROCESS: CountNews 49.400000 % ETA: 09:04:10"
     ]
    },
    {
     "name": "stdout",
     "output_type": "stream",
     "text": [
      "\rPROCESS: CountNews 49.500000 % ETA: 09:04:10"
     ]
    },
    {
     "name": "stdout",
     "output_type": "stream",
     "text": [
      "\rPROCESS: CountNews 49.500000 % ETA: 09:04:10"
     ]
    },
    {
     "name": "stdout",
     "output_type": "stream",
     "text": [
      "\rPROCESS: CountNews 49.500000 % ETA: 09:04:10"
     ]
    },
    {
     "name": "stdout",
     "output_type": "stream",
     "text": [
      "\rPROCESS: CountNews 49.600000 % ETA: 09:04:10"
     ]
    },
    {
     "name": "stdout",
     "output_type": "stream",
     "text": [
      "\rPROCESS: CountNews 49.600000 % ETA: 09:04:11"
     ]
    },
    {
     "name": "stdout",
     "output_type": "stream",
     "text": [
      "\rPROCESS: CountNews 49.700000 % ETA: 09:04:11"
     ]
    },
    {
     "name": "stdout",
     "output_type": "stream",
     "text": [
      "\rPROCESS: CountNews 49.700000 % ETA: 09:04:11"
     ]
    },
    {
     "name": "stdout",
     "output_type": "stream",
     "text": [
      "\rPROCESS: CountNews 49.800000 % ETA: 09:04:11"
     ]
    },
    {
     "name": "stdout",
     "output_type": "stream",
     "text": [
      "\rPROCESS: CountNews 49.800000 % ETA: 09:04:12"
     ]
    },
    {
     "name": "stdout",
     "output_type": "stream",
     "text": [
      "\rPROCESS: CountNews 49.800000 % ETA: 09:04:12"
     ]
    },
    {
     "name": "stdout",
     "output_type": "stream",
     "text": [
      "\rPROCESS: CountNews 49.900000 % ETA: 09:04:12"
     ]
    },
    {
     "name": "stdout",
     "output_type": "stream",
     "text": [
      "\rPROCESS: CountNews 49.900000 % ETA: 09:04:12"
     ]
    },
    {
     "name": "stdout",
     "output_type": "stream",
     "text": [
      "\rPROCESS: CountNews 50.000000 % ETA: 09:04:12"
     ]
    },
    {
     "name": "stdout",
     "output_type": "stream",
     "text": [
      "\rPROCESS: CountNews 50.000000 % ETA: 09:04:11"
     ]
    },
    {
     "name": "stdout",
     "output_type": "stream",
     "text": [
      "\rPROCESS: CountNews 50.100000 % ETA: 09:04:13"
     ]
    },
    {
     "name": "stdout",
     "output_type": "stream",
     "text": [
      "\rPROCESS: CountNews 50.100000 % ETA: 09:04:13"
     ]
    },
    {
     "name": "stdout",
     "output_type": "stream",
     "text": [
      "\rPROCESS: CountNews 50.200000 % ETA: 09:04:13"
     ]
    },
    {
     "name": "stdout",
     "output_type": "stream",
     "text": [
      "\rPROCESS: CountNews 50.200000 % ETA: 09:04:13"
     ]
    },
    {
     "name": "stdout",
     "output_type": "stream",
     "text": [
      "\rPROCESS: CountNews 50.200000 % ETA: 09:04:14"
     ]
    },
    {
     "name": "stdout",
     "output_type": "stream",
     "text": [
      "\rPROCESS: CountNews 50.300000 % ETA: 09:04:14"
     ]
    },
    {
     "name": "stdout",
     "output_type": "stream",
     "text": [
      "\rPROCESS: CountNews 50.300000 % ETA: 09:04:14"
     ]
    },
    {
     "name": "stdout",
     "output_type": "stream",
     "text": [
      "\rPROCESS: CountNews 50.400000 % ETA: 09:04:14"
     ]
    },
    {
     "name": "stdout",
     "output_type": "stream",
     "text": [
      "\rPROCESS: CountNews 50.400000 % ETA: 09:04:15"
     ]
    },
    {
     "name": "stdout",
     "output_type": "stream",
     "text": [
      "\rPROCESS: CountNews 50.500000 % ETA: 09:04:15"
     ]
    },
    {
     "name": "stdout",
     "output_type": "stream",
     "text": [
      "\rPROCESS: CountNews 50.500000 % ETA: 09:04:15"
     ]
    },
    {
     "name": "stdout",
     "output_type": "stream",
     "text": [
      "\rPROCESS: CountNews 50.500000 % ETA: 09:04:15"
     ]
    },
    {
     "name": "stdout",
     "output_type": "stream",
     "text": [
      "\rPROCESS: CountNews 50.600000 % ETA: 09:04:15"
     ]
    },
    {
     "name": "stdout",
     "output_type": "stream",
     "text": [
      "\rPROCESS: CountNews 50.600000 % ETA: 09:04:14"
     ]
    },
    {
     "name": "stdout",
     "output_type": "stream",
     "text": [
      "\rPROCESS: CountNews 50.700000 % ETA: 09:04:16"
     ]
    },
    {
     "name": "stdout",
     "output_type": "stream",
     "text": [
      "\rPROCESS: CountNews 50.700000 % ETA: 09:04:16"
     ]
    },
    {
     "name": "stdout",
     "output_type": "stream",
     "text": [
      "\rPROCESS: CountNews 50.800000 % ETA: 09:04:16"
     ]
    },
    {
     "name": "stdout",
     "output_type": "stream",
     "text": [
      "\rPROCESS: CountNews 50.800000 % ETA: 09:04:15"
     ]
    },
    {
     "name": "stdout",
     "output_type": "stream",
     "text": [
      "\rPROCESS: CountNews 50.800000 % ETA: 09:04:15"
     ]
    },
    {
     "name": "stdout",
     "output_type": "stream",
     "text": [
      "\rPROCESS: CountNews 50.900000 % ETA: 09:04:15"
     ]
    },
    {
     "name": "stdout",
     "output_type": "stream",
     "text": [
      "\rPROCESS: CountNews 50.900000 % ETA: 09:04:15"
     ]
    },
    {
     "name": "stdout",
     "output_type": "stream",
     "text": [
      "\rPROCESS: CountNews 51.000000 % ETA: 09:04:16"
     ]
    },
    {
     "name": "stdout",
     "output_type": "stream",
     "text": [
      "\rPROCESS: CountNews 51.000000 % ETA: 09:04:16"
     ]
    },
    {
     "name": "stdout",
     "output_type": "stream",
     "text": [
      "\rPROCESS: CountNews 51.100000 % ETA: 09:04:16"
     ]
    },
    {
     "name": "stdout",
     "output_type": "stream",
     "text": [
      "\rPROCESS: CountNews 51.100000 % ETA: 09:04:16"
     ]
    },
    {
     "name": "stdout",
     "output_type": "stream",
     "text": [
      "\rPROCESS: CountNews 51.100000 % ETA: 09:04:16"
     ]
    },
    {
     "name": "stdout",
     "output_type": "stream",
     "text": [
      "\rPROCESS: CountNews 51.200000 % ETA: 09:04:17"
     ]
    },
    {
     "name": "stdout",
     "output_type": "stream",
     "text": [
      "\rPROCESS: CountNews 51.200000 % ETA: 09:04:17"
     ]
    },
    {
     "name": "stdout",
     "output_type": "stream",
     "text": [
      "\rPROCESS: CountNews 51.300000 % ETA: 09:04:17"
     ]
    },
    {
     "name": "stdout",
     "output_type": "stream",
     "text": [
      "\rPROCESS: CountNews 51.300000 % ETA: 09:04:17"
     ]
    },
    {
     "name": "stdout",
     "output_type": "stream",
     "text": [
      "\rPROCESS: CountNews 51.400000 % ETA: 09:04:16"
     ]
    },
    {
     "name": "stdout",
     "output_type": "stream",
     "text": [
      "\rPROCESS: CountNews 51.400000 % ETA: 09:04:16"
     ]
    },
    {
     "name": "stdout",
     "output_type": "stream",
     "text": [
      "\rPROCESS: CountNews 51.400000 % ETA: 09:04:16"
     ]
    },
    {
     "name": "stdout",
     "output_type": "stream",
     "text": [
      "\rPROCESS: CountNews 51.500000 % ETA: 09:04:16"
     ]
    },
    {
     "name": "stdout",
     "output_type": "stream",
     "text": [
      "\rPROCESS: CountNews 51.500000 % ETA: 09:04:18"
     ]
    },
    {
     "name": "stdout",
     "output_type": "stream",
     "text": [
      "\rPROCESS: CountNews 51.600000 % ETA: 09:04:17"
     ]
    },
    {
     "name": "stdout",
     "output_type": "stream",
     "text": [
      "\rPROCESS: CountNews 51.600000 % ETA: 09:04:17"
     ]
    },
    {
     "name": "stdout",
     "output_type": "stream",
     "text": [
      "\rPROCESS: CountNews 51.700000 % ETA: 09:04:17"
     ]
    },
    {
     "name": "stdout",
     "output_type": "stream",
     "text": [
      "\rPROCESS: CountNews 51.700000 % ETA: 09:04:19"
     ]
    },
    {
     "name": "stdout",
     "output_type": "stream",
     "text": [
      "\rPROCESS: CountNews 51.800000 % ETA: 09:04:18"
     ]
    },
    {
     "name": "stdout",
     "output_type": "stream",
     "text": [
      "\rPROCESS: CountNews 51.800000 % ETA: 09:04:18"
     ]
    },
    {
     "name": "stdout",
     "output_type": "stream",
     "text": [
      "\rPROCESS: CountNews 51.800000 % ETA: 09:04:18"
     ]
    },
    {
     "name": "stdout",
     "output_type": "stream",
     "text": [
      "\rPROCESS: CountNews 51.900000 % ETA: 09:04:18"
     ]
    },
    {
     "name": "stdout",
     "output_type": "stream",
     "text": [
      "\rPROCESS: CountNews 51.900000 % ETA: 09:04:18"
     ]
    },
    {
     "name": "stdout",
     "output_type": "stream",
     "text": [
      "\rPROCESS: CountNews 52.000000 % ETA: 09:04:19"
     ]
    },
    {
     "name": "stdout",
     "output_type": "stream",
     "text": [
      "\rPROCESS: CountNews 52.000000 % ETA: 09:04:19"
     ]
    },
    {
     "name": "stdout",
     "output_type": "stream",
     "text": [
      "\rPROCESS: CountNews 52.100000 % ETA: 09:04:19"
     ]
    },
    {
     "name": "stdout",
     "output_type": "stream",
     "text": [
      "\rPROCESS: CountNews 52.100000 % ETA: 09:04:19"
     ]
    },
    {
     "name": "stdout",
     "output_type": "stream",
     "text": [
      "\rPROCESS: CountNews 52.100000 % ETA: 09:04:18"
     ]
    },
    {
     "name": "stdout",
     "output_type": "stream",
     "text": [
      "\rPROCESS: CountNews 52.200000 % ETA: 09:04:18"
     ]
    },
    {
     "name": "stdout",
     "output_type": "stream",
     "text": [
      "\rPROCESS: CountNews 52.200000 % ETA: 09:04:18"
     ]
    },
    {
     "name": "stdout",
     "output_type": "stream",
     "text": [
      "\rPROCESS: CountNews 52.300000 % ETA: 09:04:18"
     ]
    },
    {
     "name": "stdout",
     "output_type": "stream",
     "text": [
      "\rPROCESS: CountNews 52.300000 % ETA: 09:04:19"
     ]
    },
    {
     "name": "stdout",
     "output_type": "stream",
     "text": [
      "\rPROCESS: CountNews 52.400000 % ETA: 09:04:19"
     ]
    },
    {
     "name": "stdout",
     "output_type": "stream",
     "text": [
      "\rPROCESS: CountNews 52.400000 % ETA: 09:04:19"
     ]
    },
    {
     "name": "stdout",
     "output_type": "stream",
     "text": [
      "\rPROCESS: CountNews 52.400000 % ETA: 09:04:19"
     ]
    },
    {
     "name": "stdout",
     "output_type": "stream",
     "text": [
      "\rPROCESS: CountNews 52.500000 % ETA: 09:04:19"
     ]
    },
    {
     "name": "stdout",
     "output_type": "stream",
     "text": [
      "\rPROCESS: CountNews 52.500000 % ETA: 09:04:18"
     ]
    },
    {
     "name": "stdout",
     "output_type": "stream",
     "text": [
      "\rPROCESS: CountNews 52.600000 % ETA: 09:04:18"
     ]
    },
    {
     "name": "stdout",
     "output_type": "stream",
     "text": [
      "\rPROCESS: CountNews 52.600000 % ETA: 09:04:20"
     ]
    },
    {
     "name": "stdout",
     "output_type": "stream",
     "text": [
      "\rPROCESS: CountNews 52.700000 % ETA: 09:04:20"
     ]
    },
    {
     "name": "stdout",
     "output_type": "stream",
     "text": [
      "\rPROCESS: CountNews 52.700000 % ETA: 09:04:19"
     ]
    },
    {
     "name": "stdout",
     "output_type": "stream",
     "text": [
      "\rPROCESS: CountNews 52.700000 % ETA: 09:04:19"
     ]
    },
    {
     "name": "stdout",
     "output_type": "stream",
     "text": [
      "\rPROCESS: CountNews 52.800000 % ETA: 09:04:19"
     ]
    },
    {
     "name": "stdout",
     "output_type": "stream",
     "text": [
      "\rPROCESS: CountNews 52.800000 % ETA: 09:04:19"
     ]
    },
    {
     "name": "stdout",
     "output_type": "stream",
     "text": [
      "\rPROCESS: CountNews 52.900000 % ETA: 09:04:19"
     ]
    },
    {
     "name": "stdout",
     "output_type": "stream",
     "text": [
      "\rPROCESS: CountNews 52.900000 % ETA: 09:04:20"
     ]
    },
    {
     "name": "stdout",
     "output_type": "stream",
     "text": [
      "\rPROCESS: CountNews 53.000000 % ETA: 09:04:20"
     ]
    },
    {
     "name": "stdout",
     "output_type": "stream",
     "text": [
      "\rPROCESS: CountNews 53.000000 % ETA: 09:04:20"
     ]
    },
    {
     "name": "stdout",
     "output_type": "stream",
     "text": [
      "\rPROCESS: CountNews 53.100000 % ETA: 09:04:20"
     ]
    },
    {
     "name": "stdout",
     "output_type": "stream",
     "text": [
      "\rPROCESS: CountNews 53.100000 % ETA: 09:04:19"
     ]
    },
    {
     "name": "stdout",
     "output_type": "stream",
     "text": [
      "\rPROCESS: CountNews 53.100000 % ETA: 09:04:19"
     ]
    },
    {
     "name": "stdout",
     "output_type": "stream",
     "text": [
      "\rPROCESS: CountNews 53.200000 % ETA: 09:04:19"
     ]
    },
    {
     "name": "stdout",
     "output_type": "stream",
     "text": [
      "\rPROCESS: CountNews 53.200000 % ETA: 09:04:21"
     ]
    },
    {
     "name": "stdout",
     "output_type": "stream",
     "text": [
      "\rPROCESS: CountNews 53.300000 % ETA: 09:04:20"
     ]
    },
    {
     "name": "stdout",
     "output_type": "stream",
     "text": [
      "\rPROCESS: CountNews 53.300000 % ETA: 09:04:20"
     ]
    },
    {
     "name": "stdout",
     "output_type": "stream",
     "text": [
      "\rPROCESS: CountNews 53.400000 % ETA: 09:04:20"
     ]
    },
    {
     "name": "stdout",
     "output_type": "stream",
     "text": [
      "\rPROCESS: CountNews 53.400000 % ETA: 09:04:20"
     ]
    },
    {
     "name": "stdout",
     "output_type": "stream",
     "text": [
      "\rPROCESS: CountNews 53.400000 % ETA: 09:04:20"
     ]
    },
    {
     "name": "stdout",
     "output_type": "stream",
     "text": [
      "\rPROCESS: CountNews 53.500000 % ETA: 09:04:19"
     ]
    },
    {
     "name": "stdout",
     "output_type": "stream",
     "text": [
      "\rPROCESS: CountNews 53.500000 % ETA: 09:04:19"
     ]
    },
    {
     "name": "stdout",
     "output_type": "stream",
     "text": [
      "\rPROCESS: CountNews 53.600000 % ETA: 09:04:21"
     ]
    },
    {
     "name": "stdout",
     "output_type": "stream",
     "text": [
      "\rPROCESS: CountNews 53.600000 % ETA: 09:04:21"
     ]
    },
    {
     "name": "stdout",
     "output_type": "stream",
     "text": [
      "\rPROCESS: CountNews 53.700000 % ETA: 09:04:20"
     ]
    },
    {
     "name": "stdout",
     "output_type": "stream",
     "text": [
      "\rPROCESS: CountNews 53.700000 % ETA: 09:04:20"
     ]
    },
    {
     "name": "stdout",
     "output_type": "stream",
     "text": [
      "\rPROCESS: CountNews 53.700000 % ETA: 09:04:20"
     ]
    },
    {
     "name": "stdout",
     "output_type": "stream",
     "text": [
      "\rPROCESS: CountNews 53.800000 % ETA: 09:04:20"
     ]
    },
    {
     "name": "stdout",
     "output_type": "stream",
     "text": [
      "\rPROCESS: CountNews 53.800000 % ETA: 09:04:20"
     ]
    },
    {
     "name": "stdout",
     "output_type": "stream",
     "text": [
      "\rPROCESS: CountNews 53.900000 % ETA: 09:04:19"
     ]
    },
    {
     "name": "stdout",
     "output_type": "stream",
     "text": [
      "\rPROCESS: CountNews 53.900000 % ETA: 09:04:19"
     ]
    },
    {
     "name": "stdout",
     "output_type": "stream",
     "text": [
      "\rPROCESS: CountNews 54.000000 % ETA: 09:04:21"
     ]
    },
    {
     "name": "stdout",
     "output_type": "stream",
     "text": [
      "\rPROCESS: CountNews 54.000000 % ETA: 09:04:21"
     ]
    },
    {
     "name": "stdout",
     "output_type": "stream",
     "text": [
      "\rPROCESS: CountNews 54.000000 % ETA: 09:04:20"
     ]
    },
    {
     "name": "stdout",
     "output_type": "stream",
     "text": [
      "\rPROCESS: CountNews 54.100000 % ETA: 09:04:20"
     ]
    },
    {
     "name": "stdout",
     "output_type": "stream",
     "text": [
      "\rPROCESS: CountNews 54.100000 % ETA: 09:04:20"
     ]
    },
    {
     "name": "stdout",
     "output_type": "stream",
     "text": [
      "\rPROCESS: CountNews 54.200000 % ETA: 09:04:20"
     ]
    },
    {
     "name": "stdout",
     "output_type": "stream",
     "text": [
      "\rPROCESS: CountNews 54.200000 % ETA: 09:04:20"
     ]
    },
    {
     "name": "stdout",
     "output_type": "stream",
     "text": [
      "\rPROCESS: CountNews 54.300000 % ETA: 09:04:19"
     ]
    },
    {
     "name": "stdout",
     "output_type": "stream",
     "text": [
      "\rPROCESS: CountNews 54.300000 % ETA: 09:04:19"
     ]
    },
    {
     "name": "stdout",
     "output_type": "stream",
     "text": [
      "\rPROCESS: CountNews 54.300000 % ETA: 09:04:19"
     ]
    },
    {
     "name": "stdout",
     "output_type": "stream",
     "text": [
      "\rPROCESS: CountNews 54.400000 % ETA: 09:04:21"
     ]
    },
    {
     "name": "stdout",
     "output_type": "stream",
     "text": [
      "\rPROCESS: CountNews 54.400000 % ETA: 09:04:20"
     ]
    },
    {
     "name": "stdout",
     "output_type": "stream",
     "text": [
      "\rPROCESS: CountNews 54.500000 % ETA: 09:04:20"
     ]
    },
    {
     "name": "stdout",
     "output_type": "stream",
     "text": [
      "\rPROCESS: CountNews 54.500000 % ETA: 09:04:20"
     ]
    },
    {
     "name": "stdout",
     "output_type": "stream",
     "text": [
      "\rPROCESS: CountNews 54.600000 % ETA: 09:04:20"
     ]
    },
    {
     "name": "stdout",
     "output_type": "stream",
     "text": [
      "\rPROCESS: CountNews 54.600000 % ETA: 09:04:20"
     ]
    },
    {
     "name": "stdout",
     "output_type": "stream",
     "text": [
      "\rPROCESS: CountNews 54.700000 % ETA: 09:04:19"
     ]
    },
    {
     "name": "stdout",
     "output_type": "stream",
     "text": [
      "\rPROCESS: CountNews 54.700000 % ETA: 09:04:19"
     ]
    },
    {
     "name": "stdout",
     "output_type": "stream",
     "text": [
      "\rPROCESS: CountNews 54.700000 % ETA: 09:04:19"
     ]
    },
    {
     "name": "stdout",
     "output_type": "stream",
     "text": [
      "\rPROCESS: CountNews 54.800000 % ETA: 09:04:21"
     ]
    },
    {
     "name": "stdout",
     "output_type": "stream",
     "text": [
      "\rPROCESS: CountNews 54.800000 % ETA: 09:04:20"
     ]
    },
    {
     "name": "stdout",
     "output_type": "stream",
     "text": [
      "\rPROCESS: CountNews 54.900000 % ETA: 09:04:20"
     ]
    },
    {
     "name": "stdout",
     "output_type": "stream",
     "text": [
      "\rPROCESS: CountNews 54.900000 % ETA: 09:04:20"
     ]
    },
    {
     "name": "stdout",
     "output_type": "stream",
     "text": [
      "\rPROCESS: CountNews 55.000000 % ETA: 09:04:20"
     ]
    },
    {
     "name": "stdout",
     "output_type": "stream",
     "text": [
      "\rPROCESS: CountNews 55.000000 % ETA: 09:04:20"
     ]
    },
    {
     "name": "stdout",
     "output_type": "stream",
     "text": [
      "\rPROCESS: CountNews 55.000000 % ETA: 09:04:19"
     ]
    },
    {
     "name": "stdout",
     "output_type": "stream",
     "text": [
      "\rPROCESS: CountNews 55.100000 % ETA: 09:04:19"
     ]
    },
    {
     "name": "stdout",
     "output_type": "stream",
     "text": [
      "\rPROCESS: CountNews 55.100000 % ETA: 09:04:19"
     ]
    },
    {
     "name": "stdout",
     "output_type": "stream",
     "text": [
      "\rPROCESS: CountNews 55.200000 % ETA: 09:04:21"
     ]
    },
    {
     "name": "stdout",
     "output_type": "stream",
     "text": [
      "\rPROCESS: CountNews 55.200000 % ETA: 09:04:20"
     ]
    },
    {
     "name": "stdout",
     "output_type": "stream",
     "text": [
      "\rPROCESS: CountNews 55.300000 % ETA: 09:04:20"
     ]
    },
    {
     "name": "stdout",
     "output_type": "stream",
     "text": [
      "\rPROCESS: CountNews 55.300000 % ETA: 09:04:20"
     ]
    },
    {
     "name": "stdout",
     "output_type": "stream",
     "text": [
      "\rPROCESS: CountNews 55.300000 % ETA: 09:04:20"
     ]
    },
    {
     "name": "stdout",
     "output_type": "stream",
     "text": [
      "\rPROCESS: CountNews 55.400000 % ETA: 09:04:19"
     ]
    },
    {
     "name": "stdout",
     "output_type": "stream",
     "text": [
      "\rPROCESS: CountNews 55.400000 % ETA: 09:04:19"
     ]
    },
    {
     "name": "stdout",
     "output_type": "stream",
     "text": [
      "\rPROCESS: CountNews 55.500000 % ETA: 09:04:19"
     ]
    },
    {
     "name": "stdout",
     "output_type": "stream",
     "text": [
      "\rPROCESS: CountNews 55.500000 % ETA: 09:04:19"
     ]
    },
    {
     "name": "stdout",
     "output_type": "stream",
     "text": [
      "\rPROCESS: CountNews 55.600000 % ETA: 09:04:20"
     ]
    },
    {
     "name": "stdout",
     "output_type": "stream",
     "text": [
      "\rPROCESS: CountNews 55.600000 % ETA: 09:04:20"
     ]
    },
    {
     "name": "stdout",
     "output_type": "stream",
     "text": [
      "\rPROCESS: CountNews 55.600000 % ETA: 09:04:20"
     ]
    },
    {
     "name": "stdout",
     "output_type": "stream",
     "text": [
      "\rPROCESS: CountNews 55.700000 % ETA: 09:04:20"
     ]
    },
    {
     "name": "stdout",
     "output_type": "stream",
     "text": [
      "\rPROCESS: CountNews 55.700000 % ETA: 09:04:20"
     ]
    },
    {
     "name": "stdout",
     "output_type": "stream",
     "text": [
      "\rPROCESS: CountNews 55.800000 % ETA: 09:04:19"
     ]
    },
    {
     "name": "stdout",
     "output_type": "stream",
     "text": [
      "\rPROCESS: CountNews 55.800000 % ETA: 09:04:19"
     ]
    },
    {
     "name": "stdout",
     "output_type": "stream",
     "text": [
      "\rPROCESS: CountNews 55.900000 % ETA: 09:04:19"
     ]
    },
    {
     "name": "stdout",
     "output_type": "stream",
     "text": [
      "\rPROCESS: CountNews 55.900000 % ETA: 09:04:19"
     ]
    },
    {
     "name": "stdout",
     "output_type": "stream",
     "text": [
      "\rPROCESS: CountNews 55.900000 % ETA: 09:04:20"
     ]
    },
    {
     "name": "stdout",
     "output_type": "stream",
     "text": [
      "\rPROCESS: CountNews 56.000000 % ETA: 09:04:20"
     ]
    },
    {
     "name": "stdout",
     "output_type": "stream",
     "text": [
      "\rPROCESS: CountNews 56.000000 % ETA: 09:04:20"
     ]
    },
    {
     "name": "stdout",
     "output_type": "stream",
     "text": [
      "\rPROCESS: CountNews 56.100000 % ETA: 09:04:20"
     ]
    },
    {
     "name": "stdout",
     "output_type": "stream",
     "text": [
      "\rPROCESS: CountNews 56.100000 % ETA: 09:04:20"
     ]
    },
    {
     "name": "stdout",
     "output_type": "stream",
     "text": [
      "\rPROCESS: CountNews 56.200000 % ETA: 09:04:19"
     ]
    },
    {
     "name": "stdout",
     "output_type": "stream",
     "text": [
      "\rPROCESS: CountNews 56.200000 % ETA: 09:04:19"
     ]
    },
    {
     "name": "stdout",
     "output_type": "stream",
     "text": [
      "\rPROCESS: CountNews 56.300000 % ETA: 09:04:19"
     ]
    },
    {
     "name": "stdout",
     "output_type": "stream",
     "text": [
      "\rPROCESS: CountNews 56.300000 % ETA: 09:04:19"
     ]
    },
    {
     "name": "stdout",
     "output_type": "stream",
     "text": [
      "\rPROCESS: CountNews 56.300000 % ETA: 09:04:19"
     ]
    },
    {
     "name": "stdout",
     "output_type": "stream",
     "text": [
      "\rPROCESS: CountNews 56.400000 % ETA: 09:04:20"
     ]
    },
    {
     "name": "stdout",
     "output_type": "stream",
     "text": [
      "\rPROCESS: CountNews 56.400000 % ETA: 09:04:20"
     ]
    },
    {
     "name": "stdout",
     "output_type": "stream",
     "text": [
      "\rPROCESS: CountNews 56.500000 % ETA: 09:04:20"
     ]
    },
    {
     "name": "stdout",
     "output_type": "stream",
     "text": [
      "\rPROCESS: CountNews 56.500000 % ETA: 09:04:20"
     ]
    },
    {
     "name": "stdout",
     "output_type": "stream",
     "text": [
      "\rPROCESS: CountNews 56.600000 % ETA: 09:04:19"
     ]
    },
    {
     "name": "stdout",
     "output_type": "stream",
     "text": [
      "\rPROCESS: CountNews 56.600000 % ETA: 09:04:19"
     ]
    },
    {
     "name": "stdout",
     "output_type": "stream",
     "text": [
      "\rPROCESS: CountNews 56.600000 % ETA: 09:04:19"
     ]
    },
    {
     "name": "stdout",
     "output_type": "stream",
     "text": [
      "\rPROCESS: CountNews 56.700000 % ETA: 09:04:19"
     ]
    },
    {
     "name": "stdout",
     "output_type": "stream",
     "text": [
      "\rPROCESS: CountNews 56.700000 % ETA: 09:04:19"
     ]
    },
    {
     "name": "stdout",
     "output_type": "stream",
     "text": [
      "\rPROCESS: CountNews 56.800000 % ETA: 09:04:18"
     ]
    },
    {
     "name": "stdout",
     "output_type": "stream",
     "text": [
      "\rPROCESS: CountNews 56.800000 % ETA: 09:04:20"
     ]
    },
    {
     "name": "stdout",
     "output_type": "stream",
     "text": [
      "\rPROCESS: CountNews 56.900000 % ETA: 09:04:20"
     ]
    },
    {
     "name": "stdout",
     "output_type": "stream",
     "text": [
      "\rPROCESS: CountNews 56.900000 % ETA: 09:04:20"
     ]
    },
    {
     "name": "stdout",
     "output_type": "stream",
     "text": [
      "\rPROCESS: CountNews 56.900000 % ETA: 09:04:19"
     ]
    },
    {
     "name": "stdout",
     "output_type": "stream",
     "text": [
      "\rPROCESS: CountNews 57.000000 % ETA: 09:04:19"
     ]
    },
    {
     "name": "stdout",
     "output_type": "stream",
     "text": [
      "\rPROCESS: CountNews 57.000000 % ETA: 09:04:19"
     ]
    },
    {
     "name": "stdout",
     "output_type": "stream",
     "text": [
      "\rPROCESS: CountNews 57.100000 % ETA: 09:04:19"
     ]
    },
    {
     "name": "stdout",
     "output_type": "stream",
     "text": [
      "\rPROCESS: CountNews 57.100000 % ETA: 09:04:19"
     ]
    },
    {
     "name": "stdout",
     "output_type": "stream",
     "text": [
      "\rPROCESS: CountNews 57.200000 % ETA: 09:04:18"
     ]
    },
    {
     "name": "stdout",
     "output_type": "stream",
     "text": [
      "\rPROCESS: CountNews 57.200000 % ETA: 09:04:20"
     ]
    },
    {
     "name": "stdout",
     "output_type": "stream",
     "text": [
      "\rPROCESS: CountNews 57.200000 % ETA: 09:04:20"
     ]
    },
    {
     "name": "stdout",
     "output_type": "stream",
     "text": [
      "\rPROCESS: CountNews 57.300000 % ETA: 09:04:20"
     ]
    },
    {
     "name": "stdout",
     "output_type": "stream",
     "text": [
      "\rPROCESS: CountNews 57.300000 % ETA: 09:04:19"
     ]
    },
    {
     "name": "stdout",
     "output_type": "stream",
     "text": [
      "\rPROCESS: CountNews 57.400000 % ETA: 09:04:19"
     ]
    },
    {
     "name": "stdout",
     "output_type": "stream",
     "text": [
      "\rPROCESS: CountNews 57.400000 % ETA: 09:04:19"
     ]
    },
    {
     "name": "stdout",
     "output_type": "stream",
     "text": [
      "\rPROCESS: CountNews 57.500000 % ETA: 09:04:19"
     ]
    },
    {
     "name": "stdout",
     "output_type": "stream",
     "text": [
      "\rPROCESS: CountNews 57.500000 % ETA: 09:04:19"
     ]
    },
    {
     "name": "stdout",
     "output_type": "stream",
     "text": [
      "\rPROCESS: CountNews 57.600000 % ETA: 09:04:18"
     ]
    },
    {
     "name": "stdout",
     "output_type": "stream",
     "text": [
      "\rPROCESS: CountNews 57.600000 % ETA: 09:04:18"
     ]
    },
    {
     "name": "stdout",
     "output_type": "stream",
     "text": [
      "\rPROCESS: CountNews 57.600000 % ETA: 09:04:20"
     ]
    },
    {
     "name": "stdout",
     "output_type": "stream",
     "text": [
      "\rPROCESS: CountNews 57.700000 % ETA: 09:04:20"
     ]
    },
    {
     "name": "stdout",
     "output_type": "stream",
     "text": [
      "\rPROCESS: CountNews 57.700000 % ETA: 09:04:19"
     ]
    },
    {
     "name": "stdout",
     "output_type": "stream",
     "text": [
      "\rPROCESS: CountNews 57.800000 % ETA: 09:04:19"
     ]
    },
    {
     "name": "stdout",
     "output_type": "stream",
     "text": [
      "\rPROCESS: CountNews 57.800000 % ETA: 09:04:19"
     ]
    },
    {
     "name": "stdout",
     "output_type": "stream",
     "text": [
      "\rPROCESS: CountNews 57.900000 % ETA: 09:04:19"
     ]
    },
    {
     "name": "stdout",
     "output_type": "stream",
     "text": [
      "\rPROCESS: CountNews 57.900000 % ETA: 09:04:19"
     ]
    },
    {
     "name": "stdout",
     "output_type": "stream",
     "text": [
      "\rPROCESS: CountNews 57.900000 % ETA: 09:04:18"
     ]
    },
    {
     "name": "stdout",
     "output_type": "stream",
     "text": [
      "\rPROCESS: CountNews 58.000000 % ETA: 09:04:18"
     ]
    },
    {
     "name": "stdout",
     "output_type": "stream",
     "text": [
      "\rPROCESS: CountNews 58.000000 % ETA: 09:04:18"
     ]
    },
    {
     "name": "stdout",
     "output_type": "stream",
     "text": [
      "\rPROCESS: CountNews 58.100000 % ETA: 09:04:20"
     ]
    },
    {
     "name": "stdout",
     "output_type": "stream",
     "text": [
      "\rPROCESS: CountNews 58.100000 % ETA: 09:04:19"
     ]
    },
    {
     "name": "stdout",
     "output_type": "stream",
     "text": [
      "\rPROCESS: CountNews 58.200000 % ETA: 09:04:19"
     ]
    },
    {
     "name": "stdout",
     "output_type": "stream",
     "text": [
      "\rPROCESS: CountNews 58.200000 % ETA: 09:04:19"
     ]
    },
    {
     "name": "stdout",
     "output_type": "stream",
     "text": [
      "\rPROCESS: CountNews 58.200000 % ETA: 09:04:19"
     ]
    },
    {
     "name": "stdout",
     "output_type": "stream",
     "text": [
      "\rPROCESS: CountNews 58.300000 % ETA: 09:04:19"
     ]
    },
    {
     "name": "stdout",
     "output_type": "stream",
     "text": [
      "\rPROCESS: CountNews 58.300000 % ETA: 09:04:18"
     ]
    },
    {
     "name": "stdout",
     "output_type": "stream",
     "text": [
      "\rPROCESS: CountNews 58.400000 % ETA: 09:04:18"
     ]
    },
    {
     "name": "stdout",
     "output_type": "stream",
     "text": [
      "\rPROCESS: CountNews 58.400000 % ETA: 09:04:18"
     ]
    },
    {
     "name": "stdout",
     "output_type": "stream",
     "text": [
      "\rPROCESS: CountNews 58.500000 % ETA: 09:04:20"
     ]
    },
    {
     "name": "stdout",
     "output_type": "stream",
     "text": [
      "\rPROCESS: CountNews 58.500000 % ETA: 09:04:19"
     ]
    },
    {
     "name": "stdout",
     "output_type": "stream",
     "text": [
      "\rPROCESS: CountNews 58.500000 % ETA: 09:04:19"
     ]
    },
    {
     "name": "stdout",
     "output_type": "stream",
     "text": [
      "\rPROCESS: CountNews 58.600000 % ETA: 09:04:19"
     ]
    },
    {
     "name": "stdout",
     "output_type": "stream",
     "text": [
      "\rPROCESS: CountNews 58.600000 % ETA: 09:04:19"
     ]
    },
    {
     "name": "stdout",
     "output_type": "stream",
     "text": [
      "\rPROCESS: CountNews 58.700000 % ETA: 09:04:19"
     ]
    },
    {
     "name": "stdout",
     "output_type": "stream",
     "text": [
      "\rPROCESS: CountNews 58.700000 % ETA: 09:04:18"
     ]
    },
    {
     "name": "stdout",
     "output_type": "stream",
     "text": [
      "\rPROCESS: CountNews 58.800000 % ETA: 09:04:18"
     ]
    },
    {
     "name": "stdout",
     "output_type": "stream",
     "text": [
      "\rPROCESS: CountNews 58.800000 % ETA: 09:04:18"
     ]
    },
    {
     "name": "stdout",
     "output_type": "stream",
     "text": [
      "\rPROCESS: CountNews 58.800000 % ETA: 09:04:18"
     ]
    },
    {
     "name": "stdout",
     "output_type": "stream",
     "text": [
      "\rPROCESS: CountNews 58.900000 % ETA: 09:04:19"
     ]
    },
    {
     "name": "stdout",
     "output_type": "stream",
     "text": [
      "\rPROCESS: CountNews 58.900000 % ETA: 09:04:19"
     ]
    },
    {
     "name": "stdout",
     "output_type": "stream",
     "text": [
      "\rPROCESS: CountNews 59.000000 % ETA: 09:04:19"
     ]
    },
    {
     "name": "stdout",
     "output_type": "stream",
     "text": [
      "\rPROCESS: CountNews 59.000000 % ETA: 09:04:19"
     ]
    },
    {
     "name": "stdout",
     "output_type": "stream",
     "text": [
      "\rPROCESS: CountNews 59.100000 % ETA: 09:04:19"
     ]
    },
    {
     "name": "stdout",
     "output_type": "stream",
     "text": [
      "\rPROCESS: CountNews 59.100000 % ETA: 09:04:18"
     ]
    },
    {
     "name": "stdout",
     "output_type": "stream",
     "text": [
      "\rPROCESS: CountNews 59.200000 % ETA: 09:04:18"
     ]
    },
    {
     "name": "stdout",
     "output_type": "stream",
     "text": [
      "\rPROCESS: CountNews 59.200000 % ETA: 09:04:18"
     ]
    },
    {
     "name": "stdout",
     "output_type": "stream",
     "text": [
      "\rPROCESS: CountNews 59.200000 % ETA: 09:04:18"
     ]
    },
    {
     "name": "stdout",
     "output_type": "stream",
     "text": [
      "\rPROCESS: CountNews 59.300000 % ETA: 09:04:18"
     ]
    },
    {
     "name": "stdout",
     "output_type": "stream",
     "text": [
      "\rPROCESS: CountNews 59.300000 % ETA: 09:04:19"
     ]
    },
    {
     "name": "stdout",
     "output_type": "stream",
     "text": [
      "\rPROCESS: CountNews 59.400000 % ETA: 09:04:19"
     ]
    },
    {
     "name": "stdout",
     "output_type": "stream",
     "text": [
      "\rPROCESS: CountNews 59.400000 % ETA: 09:04:19"
     ]
    },
    {
     "name": "stdout",
     "output_type": "stream",
     "text": [
      "\rPROCESS: CountNews 59.500000 % ETA: 09:04:19"
     ]
    },
    {
     "name": "stdout",
     "output_type": "stream",
     "text": [
      "\rPROCESS: CountNews 59.500000 % ETA: 09:04:18"
     ]
    },
    {
     "name": "stdout",
     "output_type": "stream",
     "text": [
      "\rPROCESS: CountNews 59.500000 % ETA: 09:04:18"
     ]
    },
    {
     "name": "stdout",
     "output_type": "stream",
     "text": [
      "\rPROCESS: CountNews 59.600000 % ETA: 09:04:18"
     ]
    },
    {
     "name": "stdout",
     "output_type": "stream",
     "text": [
      "\rPROCESS: CountNews 59.600000 % ETA: 09:04:18"
     ]
    },
    {
     "name": "stdout",
     "output_type": "stream",
     "text": [
      "\rPROCESS: CountNews 59.700000 % ETA: 09:04:18"
     ]
    },
    {
     "name": "stdout",
     "output_type": "stream",
     "text": [
      "\rPROCESS: CountNews 59.700000 % ETA: 09:04:19"
     ]
    },
    {
     "name": "stdout",
     "output_type": "stream",
     "text": [
      "\rPROCESS: CountNews 59.800000 % ETA: 09:04:19"
     ]
    },
    {
     "name": "stdout",
     "output_type": "stream",
     "text": [
      "\rPROCESS: CountNews 59.800000 % ETA: 09:04:19"
     ]
    },
    {
     "name": "stdout",
     "output_type": "stream",
     "text": [
      "\rPROCESS: CountNews 59.800000 % ETA: 09:04:19"
     ]
    },
    {
     "name": "stdout",
     "output_type": "stream",
     "text": [
      "\rPROCESS: CountNews 59.900000 % ETA: 09:04:18"
     ]
    },
    {
     "name": "stdout",
     "output_type": "stream",
     "text": [
      "\rPROCESS: CountNews 59.900000 % ETA: 09:04:18"
     ]
    },
    {
     "name": "stdout",
     "output_type": "stream",
     "text": [
      "\rPROCESS: CountNews 60.000000 % ETA: 09:04:18"
     ]
    },
    {
     "name": "stdout",
     "output_type": "stream",
     "text": [
      "\rPROCESS: CountNews 60.000000 % ETA: 09:04:18"
     ]
    },
    {
     "name": "stdout",
     "output_type": "stream",
     "text": [
      "\rPROCESS: CountNews 60.100000 % ETA: 09:04:18"
     ]
    },
    {
     "name": "stdout",
     "output_type": "stream",
     "text": [
      "\rPROCESS: CountNews 60.100000 % ETA: 09:04:17"
     ]
    },
    {
     "name": "stdout",
     "output_type": "stream",
     "text": [
      "\rPROCESS: CountNews 60.100000 % ETA: 09:04:19"
     ]
    },
    {
     "name": "stdout",
     "output_type": "stream",
     "text": [
      "\rPROCESS: CountNews 60.200000 % ETA: 09:04:19"
     ]
    },
    {
     "name": "stdout",
     "output_type": "stream",
     "text": [
      "\rPROCESS: CountNews 60.200000 % ETA: 09:04:18"
     ]
    },
    {
     "name": "stdout",
     "output_type": "stream",
     "text": [
      "\rPROCESS: CountNews 60.300000 % ETA: 09:04:18"
     ]
    },
    {
     "name": "stdout",
     "output_type": "stream",
     "text": [
      "\rPROCESS: CountNews 60.300000 % ETA: 09:04:18"
     ]
    },
    {
     "name": "stdout",
     "output_type": "stream",
     "text": [
      "\rPROCESS: CountNews 60.400000 % ETA: 09:04:18"
     ]
    },
    {
     "name": "stdout",
     "output_type": "stream",
     "text": [
      "\rPROCESS: CountNews 60.400000 % ETA: 09:04:18"
     ]
    },
    {
     "name": "stdout",
     "output_type": "stream",
     "text": [
      "\rPROCESS: CountNews 60.500000 % ETA: 09:04:18"
     ]
    },
    {
     "name": "stdout",
     "output_type": "stream",
     "text": [
      "\rPROCESS: CountNews 60.500000 % ETA: 09:04:17"
     ]
    },
    {
     "name": "stdout",
     "output_type": "stream",
     "text": [
      "\rPROCESS: CountNews 60.500000 % ETA: 09:04:19"
     ]
    },
    {
     "name": "stdout",
     "output_type": "stream",
     "text": [
      "\rPROCESS: CountNews 60.600000 % ETA: 09:04:19"
     ]
    },
    {
     "name": "stdout",
     "output_type": "stream",
     "text": [
      "\rPROCESS: CountNews 60.600000 % ETA: 09:04:18"
     ]
    },
    {
     "name": "stdout",
     "output_type": "stream",
     "text": [
      "\rPROCESS: CountNews 60.700000 % ETA: 09:04:18"
     ]
    },
    {
     "name": "stdout",
     "output_type": "stream",
     "text": [
      "\rPROCESS: CountNews 60.700000 % ETA: 09:04:18"
     ]
    },
    {
     "name": "stdout",
     "output_type": "stream",
     "text": [
      "\rPROCESS: CountNews 60.800000 % ETA: 09:04:18"
     ]
    },
    {
     "name": "stdout",
     "output_type": "stream",
     "text": [
      "\rPROCESS: CountNews 60.800000 % ETA: 09:04:18"
     ]
    },
    {
     "name": "stdout",
     "output_type": "stream",
     "text": [
      "\rPROCESS: CountNews 60.800000 % ETA: 09:04:18"
     ]
    },
    {
     "name": "stdout",
     "output_type": "stream",
     "text": [
      "\rPROCESS: CountNews 60.900000 % ETA: 09:04:17"
     ]
    },
    {
     "name": "stdout",
     "output_type": "stream",
     "text": [
      "\rPROCESS: CountNews 60.900000 % ETA: 09:04:19"
     ]
    },
    {
     "name": "stdout",
     "output_type": "stream",
     "text": [
      "\rPROCESS: CountNews 61.000000 % ETA: 09:04:19"
     ]
    },
    {
     "name": "stdout",
     "output_type": "stream",
     "text": [
      "\rPROCESS: CountNews 61.000000 % ETA: 09:04:18"
     ]
    },
    {
     "name": "stdout",
     "output_type": "stream",
     "text": [
      "\rPROCESS: CountNews 61.100000 % ETA: 09:04:18"
     ]
    },
    {
     "name": "stdout",
     "output_type": "stream",
     "text": [
      "\rPROCESS: CountNews 61.100000 % ETA: 09:04:18"
     ]
    },
    {
     "name": "stdout",
     "output_type": "stream",
     "text": [
      "\rPROCESS: CountNews 61.100000 % ETA: 09:04:18"
     ]
    },
    {
     "name": "stdout",
     "output_type": "stream",
     "text": [
      "\rPROCESS: CountNews 61.200000 % ETA: 09:04:18"
     ]
    },
    {
     "name": "stdout",
     "output_type": "stream",
     "text": [
      "\rPROCESS: CountNews 61.200000 % ETA: 09:04:18"
     ]
    },
    {
     "name": "stdout",
     "output_type": "stream",
     "text": [
      "\rPROCESS: CountNews 61.300000 % ETA: 09:04:17"
     ]
    },
    {
     "name": "stdout",
     "output_type": "stream",
     "text": [
      "\rPROCESS: CountNews 61.300000 % ETA: 09:04:17"
     ]
    },
    {
     "name": "stdout",
     "output_type": "stream",
     "text": [
      "\rPROCESS: CountNews 61.400000 % ETA: 09:04:19"
     ]
    },
    {
     "name": "stdout",
     "output_type": "stream",
     "text": [
      "\rPROCESS: CountNews 61.400000 % ETA: 09:04:18"
     ]
    },
    {
     "name": "stdout",
     "output_type": "stream",
     "text": [
      "\rPROCESS: CountNews 61.400000 % ETA: 09:04:18"
     ]
    },
    {
     "name": "stdout",
     "output_type": "stream",
     "text": [
      "\rPROCESS: CountNews 61.500000 % ETA: 09:04:18"
     ]
    },
    {
     "name": "stdout",
     "output_type": "stream",
     "text": [
      "\rPROCESS: CountNews 61.500000 % ETA: 09:04:18"
     ]
    },
    {
     "name": "stdout",
     "output_type": "stream",
     "text": [
      "\rPROCESS: CountNews 61.600000 % ETA: 09:04:18"
     ]
    },
    {
     "name": "stdout",
     "output_type": "stream",
     "text": [
      "\rPROCESS: CountNews 61.600000 % ETA: 09:04:18"
     ]
    },
    {
     "name": "stdout",
     "output_type": "stream",
     "text": [
      "\rPROCESS: CountNews 61.700000 % ETA: 09:04:17"
     ]
    },
    {
     "name": "stdout",
     "output_type": "stream",
     "text": [
      "\rPROCESS: CountNews 61.700000 % ETA: 09:04:17"
     ]
    },
    {
     "name": "stdout",
     "output_type": "stream",
     "text": [
      "\rPROCESS: CountNews 61.700000 % ETA: 09:04:19"
     ]
    },
    {
     "name": "stdout",
     "output_type": "stream",
     "text": [
      "\rPROCESS: CountNews 61.800000 % ETA: 09:04:18"
     ]
    },
    {
     "name": "stdout",
     "output_type": "stream",
     "text": [
      "\rPROCESS: CountNews 61.800000 % ETA: 09:04:18"
     ]
    },
    {
     "name": "stdout",
     "output_type": "stream",
     "text": [
      "\rPROCESS: CountNews 61.900000 % ETA: 09:04:18"
     ]
    },
    {
     "name": "stdout",
     "output_type": "stream",
     "text": [
      "\rPROCESS: CountNews 61.900000 % ETA: 09:04:18"
     ]
    },
    {
     "name": "stdout",
     "output_type": "stream",
     "text": [
      "\rPROCESS: CountNews 62.000000 % ETA: 09:04:18"
     ]
    },
    {
     "name": "stdout",
     "output_type": "stream",
     "text": [
      "\rPROCESS: CountNews 62.000000 % ETA: 09:04:18"
     ]
    },
    {
     "name": "stdout",
     "output_type": "stream",
     "text": [
      "\rPROCESS: CountNews 62.100000 % ETA: 09:04:17"
     ]
    },
    {
     "name": "stdout",
     "output_type": "stream",
     "text": [
      "\rPROCESS: CountNews 62.100000 % ETA: 09:04:17"
     ]
    },
    {
     "name": "stdout",
     "output_type": "stream",
     "text": [
      "\rPROCESS: CountNews 62.100000 % ETA: 09:04:17"
     ]
    },
    {
     "name": "stdout",
     "output_type": "stream",
     "text": [
      "\rPROCESS: CountNews 62.200000 % ETA: 09:04:18"
     ]
    },
    {
     "name": "stdout",
     "output_type": "stream",
     "text": [
      "\rPROCESS: CountNews 62.200000 % ETA: 09:04:18"
     ]
    },
    {
     "name": "stdout",
     "output_type": "stream",
     "text": [
      "\rPROCESS: CountNews 62.300000 % ETA: 09:04:18"
     ]
    },
    {
     "name": "stdout",
     "output_type": "stream",
     "text": [
      "\rPROCESS: CountNews 62.300000 % ETA: 09:04:18"
     ]
    },
    {
     "name": "stdout",
     "output_type": "stream",
     "text": [
      "\rPROCESS: CountNews 62.400000 % ETA: 09:04:18"
     ]
    },
    {
     "name": "stdout",
     "output_type": "stream",
     "text": [
      "\rPROCESS: CountNews 62.400000 % ETA: 09:04:18"
     ]
    },
    {
     "name": "stdout",
     "output_type": "stream",
     "text": [
      "\rPROCESS: CountNews 62.400000 % ETA: 09:04:17"
     ]
    },
    {
     "name": "stdout",
     "output_type": "stream",
     "text": [
      "\rPROCESS: CountNews 62.500000 % ETA: 09:04:17"
     ]
    },
    {
     "name": "stdout",
     "output_type": "stream",
     "text": [
      "\rPROCESS: CountNews 62.500000 % ETA: 09:04:17"
     ]
    },
    {
     "name": "stdout",
     "output_type": "stream",
     "text": [
      "\rPROCESS: CountNews 62.600000 % ETA: 09:04:18"
     ]
    },
    {
     "name": "stdout",
     "output_type": "stream",
     "text": [
      "\rPROCESS: CountNews 62.600000 % ETA: 09:04:18"
     ]
    },
    {
     "name": "stdout",
     "output_type": "stream",
     "text": [
      "\rPROCESS: CountNews 62.700000 % ETA: 09:04:18"
     ]
    },
    {
     "name": "stdout",
     "output_type": "stream",
     "text": [
      "\rPROCESS: CountNews 62.700000 % ETA: 09:04:18"
     ]
    },
    {
     "name": "stdout",
     "output_type": "stream",
     "text": [
      "\rPROCESS: CountNews 62.700000 % ETA: 09:04:18"
     ]
    },
    {
     "name": "stdout",
     "output_type": "stream",
     "text": [
      "\rPROCESS: CountNews 62.800000 % ETA: 09:04:18"
     ]
    },
    {
     "name": "stdout",
     "output_type": "stream",
     "text": [
      "\rPROCESS: CountNews 62.800000 % ETA: 09:04:17"
     ]
    },
    {
     "name": "stdout",
     "output_type": "stream",
     "text": [
      "\rPROCESS: CountNews 62.900000 % ETA: 09:04:17"
     ]
    },
    {
     "name": "stdout",
     "output_type": "stream",
     "text": [
      "\rPROCESS: CountNews 62.900000 % ETA: 09:04:17"
     ]
    },
    {
     "name": "stdout",
     "output_type": "stream",
     "text": [
      "\rPROCESS: CountNews 63.000000 % ETA: 09:04:17"
     ]
    },
    {
     "name": "stdout",
     "output_type": "stream",
     "text": [
      "\rPROCESS: CountNews 63.000000 % ETA: 09:04:18"
     ]
    },
    {
     "name": "stdout",
     "output_type": "stream",
     "text": [
      "\rPROCESS: CountNews 63.000000 % ETA: 09:04:18"
     ]
    },
    {
     "name": "stdout",
     "output_type": "stream",
     "text": [
      "\rPROCESS: CountNews 63.100000 % ETA: 09:04:18"
     ]
    },
    {
     "name": "stdout",
     "output_type": "stream",
     "text": [
      "\rPROCESS: CountNews 63.100000 % ETA: 09:04:18"
     ]
    },
    {
     "name": "stdout",
     "output_type": "stream",
     "text": [
      "\rPROCESS: CountNews 63.200000 % ETA: 09:04:18"
     ]
    },
    {
     "name": "stdout",
     "output_type": "stream",
     "text": [
      "\rPROCESS: CountNews 63.200000 % ETA: 09:04:17"
     ]
    },
    {
     "name": "stdout",
     "output_type": "stream",
     "text": [
      "\rPROCESS: CountNews 63.300000 % ETA: 09:04:17"
     ]
    },
    {
     "name": "stdout",
     "output_type": "stream",
     "text": [
      "\rPROCESS: CountNews 63.300000 % ETA: 09:04:17"
     ]
    },
    {
     "name": "stdout",
     "output_type": "stream",
     "text": [
      "\rPROCESS: CountNews 63.300000 % ETA: 09:04:17"
     ]
    },
    {
     "name": "stdout",
     "output_type": "stream",
     "text": [
      "\rPROCESS: CountNews 63.400000 % ETA: 09:04:18"
     ]
    },
    {
     "name": "stdout",
     "output_type": "stream",
     "text": [
      "\rPROCESS: CountNews 63.400000 % ETA: 09:04:18"
     ]
    },
    {
     "name": "stdout",
     "output_type": "stream",
     "text": [
      "\rPROCESS: CountNews 63.500000 % ETA: 09:04:18"
     ]
    },
    {
     "name": "stdout",
     "output_type": "stream",
     "text": [
      "\rPROCESS: CountNews 63.500000 % ETA: 09:04:18"
     ]
    },
    {
     "name": "stdout",
     "output_type": "stream",
     "text": [
      "\rPROCESS: CountNews 63.600000 % ETA: 09:04:18"
     ]
    },
    {
     "name": "stdout",
     "output_type": "stream",
     "text": [
      "\rPROCESS: CountNews 63.600000 % ETA: 09:04:17"
     ]
    },
    {
     "name": "stdout",
     "output_type": "stream",
     "text": [
      "\rPROCESS: CountNews 63.700000 % ETA: 09:04:17"
     ]
    },
    {
     "name": "stdout",
     "output_type": "stream",
     "text": [
      "\rPROCESS: CountNews 63.700000 % ETA: 09:04:17"
     ]
    },
    {
     "name": "stdout",
     "output_type": "stream",
     "text": [
      "\rPROCESS: CountNews 63.700000 % ETA: 09:04:17"
     ]
    },
    {
     "name": "stdout",
     "output_type": "stream",
     "text": [
      "\rPROCESS: CountNews 63.800000 % ETA: 09:04:17"
     ]
    },
    {
     "name": "stdout",
     "output_type": "stream",
     "text": [
      "\rPROCESS: CountNews 63.800000 % ETA: 09:04:18"
     ]
    },
    {
     "name": "stdout",
     "output_type": "stream",
     "text": [
      "\rPROCESS: CountNews 63.900000 % ETA: 09:04:18"
     ]
    },
    {
     "name": "stdout",
     "output_type": "stream",
     "text": [
      "\rPROCESS: CountNews 63.900000 % ETA: 09:04:18"
     ]
    },
    {
     "name": "stdout",
     "output_type": "stream",
     "text": [
      "\rPROCESS: CountNews 64.000000 % ETA: 09:04:17"
     ]
    },
    {
     "name": "stdout",
     "output_type": "stream",
     "text": [
      "\rPROCESS: CountNews 64.000000 % ETA: 09:04:17"
     ]
    },
    {
     "name": "stdout",
     "output_type": "stream",
     "text": [
      "\rPROCESS: CountNews 64.000000 % ETA: 09:04:17"
     ]
    },
    {
     "name": "stdout",
     "output_type": "stream",
     "text": [
      "\rPROCESS: CountNews 64.100000 % ETA: 09:04:17"
     ]
    },
    {
     "name": "stdout",
     "output_type": "stream",
     "text": [
      "\rPROCESS: CountNews 64.100000 % ETA: 09:04:17"
     ]
    },
    {
     "name": "stdout",
     "output_type": "stream",
     "text": [
      "\rPROCESS: CountNews 64.200000 % ETA: 09:04:17"
     ]
    },
    {
     "name": "stdout",
     "output_type": "stream",
     "text": [
      "\rPROCESS: CountNews 64.200000 % ETA: 09:04:16"
     ]
    },
    {
     "name": "stdout",
     "output_type": "stream",
     "text": [
      "\rPROCESS: CountNews 64.300000 % ETA: 09:04:18"
     ]
    },
    {
     "name": "stdout",
     "output_type": "stream",
     "text": [
      "\rPROCESS: CountNews 64.300000 % ETA: 09:04:18"
     ]
    },
    {
     "name": "stdout",
     "output_type": "stream",
     "text": [
      "\rPROCESS: CountNews 64.300000 % ETA: 09:04:17"
     ]
    },
    {
     "name": "stdout",
     "output_type": "stream",
     "text": [
      "\rPROCESS: CountNews 64.400000 % ETA: 09:04:17"
     ]
    },
    {
     "name": "stdout",
     "output_type": "stream",
     "text": [
      "\rPROCESS: CountNews 64.400000 % ETA: 09:04:17"
     ]
    },
    {
     "name": "stdout",
     "output_type": "stream",
     "text": [
      "\rPROCESS: CountNews 64.500000 % ETA: 09:04:17"
     ]
    },
    {
     "name": "stdout",
     "output_type": "stream",
     "text": [
      "\rPROCESS: CountNews 64.500000 % ETA: 09:04:17"
     ]
    },
    {
     "name": "stdout",
     "output_type": "stream",
     "text": [
      "\rPROCESS: CountNews 64.600000 % ETA: 09:04:17"
     ]
    },
    {
     "name": "stdout",
     "output_type": "stream",
     "text": [
      "\rPROCESS: CountNews 64.600000 % ETA: 09:04:16"
     ]
    },
    {
     "name": "stdout",
     "output_type": "stream",
     "text": [
      "\rPROCESS: CountNews 64.600000 % ETA: 09:04:18"
     ]
    },
    {
     "name": "stdout",
     "output_type": "stream",
     "text": [
      "\rPROCESS: CountNews 64.700000 % ETA: 09:04:18"
     ]
    },
    {
     "name": "stdout",
     "output_type": "stream",
     "text": [
      "\rPROCESS: CountNews 64.700000 % ETA: 09:04:17"
     ]
    },
    {
     "name": "stdout",
     "output_type": "stream",
     "text": [
      "\rPROCESS: CountNews 64.800000 % ETA: 09:04:17"
     ]
    },
    {
     "name": "stdout",
     "output_type": "stream",
     "text": [
      "\rPROCESS: CountNews 64.800000 % ETA: 09:04:17"
     ]
    },
    {
     "name": "stdout",
     "output_type": "stream",
     "text": [
      "\rPROCESS: CountNews 64.900000 % ETA: 09:04:17"
     ]
    },
    {
     "name": "stdout",
     "output_type": "stream",
     "text": [
      "\rPROCESS: CountNews 64.900000 % ETA: 09:04:17"
     ]
    },
    {
     "name": "stdout",
     "output_type": "stream",
     "text": [
      "\rPROCESS: CountNews 65.000000 % ETA: 09:04:17"
     ]
    },
    {
     "name": "stdout",
     "output_type": "stream",
     "text": [
      "\rPROCESS: CountNews 65.000000 % ETA: 09:04:16"
     ]
    },
    {
     "name": "stdout",
     "output_type": "stream",
     "text": [
      "\rPROCESS: CountNews 65.000000 % ETA: 09:04:16"
     ]
    },
    {
     "name": "stdout",
     "output_type": "stream",
     "text": [
      "\rPROCESS: CountNews 65.100000 % ETA: 09:04:18"
     ]
    },
    {
     "name": "stdout",
     "output_type": "stream",
     "text": [
      "\rPROCESS: CountNews 65.100000 % ETA: 09:04:17"
     ]
    },
    {
     "name": "stdout",
     "output_type": "stream",
     "text": [
      "\rPROCESS: CountNews 65.200000 % ETA: 09:04:17"
     ]
    },
    {
     "name": "stdout",
     "output_type": "stream",
     "text": [
      "\rPROCESS: CountNews 65.200000 % ETA: 09:04:17"
     ]
    },
    {
     "name": "stdout",
     "output_type": "stream",
     "text": [
      "\rPROCESS: CountNews 65.300000 % ETA: 09:04:17"
     ]
    },
    {
     "name": "stdout",
     "output_type": "stream",
     "text": [
      "\rPROCESS: CountNews 65.300000 % ETA: 09:04:17"
     ]
    },
    {
     "name": "stdout",
     "output_type": "stream",
     "text": [
      "\rPROCESS: CountNews 65.300000 % ETA: 09:04:17"
     ]
    },
    {
     "name": "stdout",
     "output_type": "stream",
     "text": [
      "\rPROCESS: CountNews 65.400000 % ETA: 09:04:16"
     ]
    },
    {
     "name": "stdout",
     "output_type": "stream",
     "text": [
      "\rPROCESS: CountNews 65.400000 % ETA: 09:04:16"
     ]
    },
    {
     "name": "stdout",
     "output_type": "stream",
     "text": [
      "\rPROCESS: CountNews 65.500000 % ETA: 09:04:18"
     ]
    },
    {
     "name": "stdout",
     "output_type": "stream",
     "text": [
      "\rPROCESS: CountNews 65.500000 % ETA: 09:04:17"
     ]
    },
    {
     "name": "stdout",
     "output_type": "stream",
     "text": [
      "\rPROCESS: CountNews 65.600000 % ETA: 09:04:17"
     ]
    },
    {
     "name": "stdout",
     "output_type": "stream",
     "text": [
      "\rPROCESS: CountNews 65.600000 % ETA: 09:04:17"
     ]
    },
    {
     "name": "stdout",
     "output_type": "stream",
     "text": [
      "\rPROCESS: CountNews 65.600000 % ETA: 09:04:17"
     ]
    },
    {
     "name": "stdout",
     "output_type": "stream",
     "text": [
      "\rPROCESS: CountNews 65.700000 % ETA: 09:04:17"
     ]
    },
    {
     "name": "stdout",
     "output_type": "stream",
     "text": [
      "\rPROCESS: CountNews 65.700000 % ETA: 09:04:17"
     ]
    },
    {
     "name": "stdout",
     "output_type": "stream",
     "text": [
      "\rPROCESS: CountNews 65.800000 % ETA: 09:04:16"
     ]
    },
    {
     "name": "stdout",
     "output_type": "stream",
     "text": [
      "\rPROCESS: CountNews 65.800000 % ETA: 09:04:16"
     ]
    },
    {
     "name": "stdout",
     "output_type": "stream",
     "text": [
      "\rPROCESS: CountNews 65.900000 % ETA: 09:04:16"
     ]
    },
    {
     "name": "stdout",
     "output_type": "stream",
     "text": [
      "\rPROCESS: CountNews 65.900000 % ETA: 09:04:17"
     ]
    },
    {
     "name": "stdout",
     "output_type": "stream",
     "text": [
      "\rPROCESS: CountNews 65.900000 % ETA: 09:04:17"
     ]
    },
    {
     "name": "stdout",
     "output_type": "stream",
     "text": [
      "\rPROCESS: CountNews 66.000000 % ETA: 09:04:17"
     ]
    },
    {
     "name": "stdout",
     "output_type": "stream",
     "text": [
      "\rPROCESS: CountNews 66.000000 % ETA: 09:04:17"
     ]
    },
    {
     "name": "stdout",
     "output_type": "stream",
     "text": [
      "\rPROCESS: CountNews 66.100000 % ETA: 09:04:17"
     ]
    },
    {
     "name": "stdout",
     "output_type": "stream",
     "text": [
      "\rPROCESS: CountNews 66.100000 % ETA: 09:04:17"
     ]
    },
    {
     "name": "stdout",
     "output_type": "stream",
     "text": [
      "\rPROCESS: CountNews 66.200000 % ETA: 09:04:16"
     ]
    },
    {
     "name": "stdout",
     "output_type": "stream",
     "text": [
      "\rPROCESS: CountNews 66.200000 % ETA: 09:04:16"
     ]
    },
    {
     "name": "stdout",
     "output_type": "stream",
     "text": [
      "\rPROCESS: CountNews 66.200000 % ETA: 09:04:16"
     ]
    },
    {
     "name": "stdout",
     "output_type": "stream",
     "text": [
      "\rPROCESS: CountNews 66.300000 % ETA: 09:04:17"
     ]
    },
    {
     "name": "stdout",
     "output_type": "stream",
     "text": [
      "\rPROCESS: CountNews 66.300000 % ETA: 09:04:17"
     ]
    },
    {
     "name": "stdout",
     "output_type": "stream",
     "text": [
      "\rPROCESS: CountNews 66.400000 % ETA: 09:04:17"
     ]
    },
    {
     "name": "stdout",
     "output_type": "stream",
     "text": [
      "\rPROCESS: CountNews 66.400000 % ETA: 09:04:17"
     ]
    },
    {
     "name": "stdout",
     "output_type": "stream",
     "text": [
      "\rPROCESS: CountNews 66.500000 % ETA: 09:04:17"
     ]
    },
    {
     "name": "stdout",
     "output_type": "stream",
     "text": [
      "\rPROCESS: CountNews 66.500000 % ETA: 09:04:17"
     ]
    },
    {
     "name": "stdout",
     "output_type": "stream",
     "text": [
      "\rPROCESS: CountNews 66.600000 % ETA: 09:04:16"
     ]
    },
    {
     "name": "stdout",
     "output_type": "stream",
     "text": [
      "\rPROCESS: CountNews 66.600000 % ETA: 09:04:16"
     ]
    },
    {
     "name": "stdout",
     "output_type": "stream",
     "text": [
      "\rPROCESS: CountNews 66.600000 % ETA: 09:04:16"
     ]
    },
    {
     "name": "stdout",
     "output_type": "stream",
     "text": [
      "\rPROCESS: CountNews 66.700000 % ETA: 09:04:17"
     ]
    },
    {
     "name": "stdout",
     "output_type": "stream",
     "text": [
      "\rPROCESS: CountNews 66.700000 % ETA: 09:04:17"
     ]
    },
    {
     "name": "stdout",
     "output_type": "stream",
     "text": [
      "\rPROCESS: CountNews 66.800000 % ETA: 09:04:17"
     ]
    },
    {
     "name": "stdout",
     "output_type": "stream",
     "text": [
      "\rPROCESS: CountNews 66.800000 % ETA: 09:04:17"
     ]
    },
    {
     "name": "stdout",
     "output_type": "stream",
     "text": [
      "\rPROCESS: CountNews 66.900000 % ETA: 09:04:17"
     ]
    },
    {
     "name": "stdout",
     "output_type": "stream",
     "text": [
      "\rPROCESS: CountNews 66.900000 % ETA: 09:04:17"
     ]
    },
    {
     "name": "stdout",
     "output_type": "stream",
     "text": [
      "\rPROCESS: CountNews 66.900000 % ETA: 09:04:16"
     ]
    },
    {
     "name": "stdout",
     "output_type": "stream",
     "text": [
      "\rPROCESS: CountNews 67.000000 % ETA: 09:04:16"
     ]
    },
    {
     "name": "stdout",
     "output_type": "stream",
     "text": [
      "\rPROCESS: CountNews 67.000000 % ETA: 09:04:16"
     ]
    },
    {
     "name": "stdout",
     "output_type": "stream",
     "text": [
      "\rPROCESS: CountNews 67.100000 % ETA: 09:04:16"
     ]
    },
    {
     "name": "stdout",
     "output_type": "stream",
     "text": [
      "\rPROCESS: CountNews 67.100000 % ETA: 09:04:17"
     ]
    },
    {
     "name": "stdout",
     "output_type": "stream",
     "text": [
      "\rPROCESS: CountNews 67.200000 % ETA: 09:04:17"
     ]
    },
    {
     "name": "stdout",
     "output_type": "stream",
     "text": [
      "\rPROCESS: CountNews 67.200000 % ETA: 09:04:17"
     ]
    },
    {
     "name": "stdout",
     "output_type": "stream",
     "text": [
      "\rPROCESS: CountNews 67.200000 % ETA: 09:04:17"
     ]
    },
    {
     "name": "stdout",
     "output_type": "stream",
     "text": [
      "\rPROCESS: CountNews 67.300000 % ETA: 09:04:17"
     ]
    },
    {
     "name": "stdout",
     "output_type": "stream",
     "text": [
      "\rPROCESS: CountNews 67.300000 % ETA: 09:04:16"
     ]
    },
    {
     "name": "stdout",
     "output_type": "stream",
     "text": [
      "\rPROCESS: CountNews 67.400000 % ETA: 09:04:16"
     ]
    },
    {
     "name": "stdout",
     "output_type": "stream",
     "text": [
      "\rPROCESS: CountNews 67.400000 % ETA: 09:04:16"
     ]
    },
    {
     "name": "stdout",
     "output_type": "stream",
     "text": [
      "\rPROCESS: CountNews 67.500000 % ETA: 09:04:16"
     ]
    },
    {
     "name": "stdout",
     "output_type": "stream",
     "text": [
      "\rPROCESS: CountNews 67.500000 % ETA: 09:04:17"
     ]
    },
    {
     "name": "stdout",
     "output_type": "stream",
     "text": [
      "\rPROCESS: CountNews 67.500000 % ETA: 09:04:17"
     ]
    },
    {
     "name": "stdout",
     "output_type": "stream",
     "text": [
      "\rPROCESS: CountNews 67.600000 % ETA: 09:04:17"
     ]
    },
    {
     "name": "stdout",
     "output_type": "stream",
     "text": [
      "\rPROCESS: CountNews 67.600000 % ETA: 09:04:17"
     ]
    },
    {
     "name": "stdout",
     "output_type": "stream",
     "text": [
      "\rPROCESS: CountNews 67.700000 % ETA: 09:04:17"
     ]
    },
    {
     "name": "stdout",
     "output_type": "stream",
     "text": [
      "\rPROCESS: CountNews 67.700000 % ETA: 09:04:16"
     ]
    },
    {
     "name": "stdout",
     "output_type": "stream",
     "text": [
      "\rPROCESS: CountNews 67.800000 % ETA: 09:04:16"
     ]
    },
    {
     "name": "stdout",
     "output_type": "stream",
     "text": [
      "\rPROCESS: CountNews 67.800000 % ETA: 09:04:16"
     ]
    },
    {
     "name": "stdout",
     "output_type": "stream",
     "text": [
      "\rPROCESS: CountNews 67.800000 % ETA: 09:04:16"
     ]
    },
    {
     "name": "stdout",
     "output_type": "stream",
     "text": [
      "\rPROCESS: CountNews 67.900000 % ETA: 09:04:16"
     ]
    },
    {
     "name": "stdout",
     "output_type": "stream",
     "text": [
      "\rPROCESS: CountNews 67.900000 % ETA: 09:04:17"
     ]
    },
    {
     "name": "stdout",
     "output_type": "stream",
     "text": [
      "\rPROCESS: CountNews 68.000000 % ETA: 09:04:17"
     ]
    },
    {
     "name": "stdout",
     "output_type": "stream",
     "text": [
      "\rPROCESS: CountNews 68.000000 % ETA: 09:04:17"
     ]
    },
    {
     "name": "stdout",
     "output_type": "stream",
     "text": [
      "\rPROCESS: CountNews 68.100000 % ETA: 09:04:17"
     ]
    },
    {
     "name": "stdout",
     "output_type": "stream",
     "text": [
      "\rPROCESS: CountNews 68.100000 % ETA: 09:04:16"
     ]
    },
    {
     "name": "stdout",
     "output_type": "stream",
     "text": [
      "\rPROCESS: CountNews 68.200000 % ETA: 09:04:16"
     ]
    },
    {
     "name": "stdout",
     "output_type": "stream",
     "text": [
      "\rPROCESS: CountNews 68.200000 % ETA: 09:04:16"
     ]
    },
    {
     "name": "stdout",
     "output_type": "stream",
     "text": [
      "\rPROCESS: CountNews 68.200000 % ETA: 09:04:16"
     ]
    },
    {
     "name": "stdout",
     "output_type": "stream",
     "text": [
      "\rPROCESS: CountNews 68.300000 % ETA: 09:04:16"
     ]
    },
    {
     "name": "stdout",
     "output_type": "stream",
     "text": [
      "\rPROCESS: CountNews 68.300000 % ETA: 09:04:17"
     ]
    },
    {
     "name": "stdout",
     "output_type": "stream",
     "text": [
      "\rPROCESS: CountNews 68.400000 % ETA: 09:04:17"
     ]
    },
    {
     "name": "stdout",
     "output_type": "stream",
     "text": [
      "\rPROCESS: CountNews 68.400000 % ETA: 09:04:17"
     ]
    },
    {
     "name": "stdout",
     "output_type": "stream",
     "text": [
      "\rPROCESS: CountNews 68.500000 % ETA: 09:04:17"
     ]
    },
    {
     "name": "stdout",
     "output_type": "stream",
     "text": [
      "\rPROCESS: CountNews 68.500000 % ETA: 09:04:16"
     ]
    },
    {
     "name": "stdout",
     "output_type": "stream",
     "text": [
      "\rPROCESS: CountNews 68.500000 % ETA: 09:04:16"
     ]
    },
    {
     "name": "stdout",
     "output_type": "stream",
     "text": [
      "\rPROCESS: CountNews 68.600000 % ETA: 09:04:16"
     ]
    },
    {
     "name": "stdout",
     "output_type": "stream",
     "text": [
      "\rPROCESS: CountNews 68.600000 % ETA: 09:04:16"
     ]
    },
    {
     "name": "stdout",
     "output_type": "stream",
     "text": [
      "\rPROCESS: CountNews 68.700000 % ETA: 09:04:16"
     ]
    },
    {
     "name": "stdout",
     "output_type": "stream",
     "text": [
      "\rPROCESS: CountNews 68.700000 % ETA: 09:04:17"
     ]
    },
    {
     "name": "stdout",
     "output_type": "stream",
     "text": [
      "\rPROCESS: CountNews 68.800000 % ETA: 09:04:17"
     ]
    },
    {
     "name": "stdout",
     "output_type": "stream",
     "text": [
      "\rPROCESS: CountNews 68.800000 % ETA: 09:04:17"
     ]
    },
    {
     "name": "stdout",
     "output_type": "stream",
     "text": [
      "\rPROCESS: CountNews 68.800000 % ETA: 09:04:17"
     ]
    },
    {
     "name": "stdout",
     "output_type": "stream",
     "text": [
      "\rPROCESS: CountNews 68.900000 % ETA: 09:04:16"
     ]
    },
    {
     "name": "stdout",
     "output_type": "stream",
     "text": [
      "\rPROCESS: CountNews 68.900000 % ETA: 09:04:16"
     ]
    },
    {
     "name": "stdout",
     "output_type": "stream",
     "text": [
      "\rPROCESS: CountNews 69.000000 % ETA: 09:04:16"
     ]
    },
    {
     "name": "stdout",
     "output_type": "stream",
     "text": [
      "\rPROCESS: CountNews 69.000000 % ETA: 09:04:16"
     ]
    },
    {
     "name": "stdout",
     "output_type": "stream",
     "text": [
      "\rPROCESS: CountNews 69.100000 % ETA: 09:04:16"
     ]
    },
    {
     "name": "stdout",
     "output_type": "stream",
     "text": [
      "\rPROCESS: CountNews 69.100000 % ETA: 09:04:16"
     ]
    },
    {
     "name": "stdout",
     "output_type": "stream",
     "text": [
      "\rPROCESS: CountNews 69.100000 % ETA: 09:04:17"
     ]
    },
    {
     "name": "stdout",
     "output_type": "stream",
     "text": [
      "\rPROCESS: CountNews 69.200000 % ETA: 09:04:17"
     ]
    },
    {
     "name": "stdout",
     "output_type": "stream",
     "text": [
      "\rPROCESS: CountNews 69.200000 % ETA: 09:04:17"
     ]
    },
    {
     "name": "stdout",
     "output_type": "stream",
     "text": [
      "\rPROCESS: CountNews 69.300000 % ETA: 09:04:16"
     ]
    },
    {
     "name": "stdout",
     "output_type": "stream",
     "text": [
      "\rPROCESS: CountNews 69.300000 % ETA: 09:04:16"
     ]
    },
    {
     "name": "stdout",
     "output_type": "stream",
     "text": [
      "\rPROCESS: CountNews 69.400000 % ETA: 09:04:16"
     ]
    },
    {
     "name": "stdout",
     "output_type": "stream",
     "text": [
      "\rPROCESS: CountNews 69.400000 % ETA: 09:04:16"
     ]
    },
    {
     "name": "stdout",
     "output_type": "stream",
     "text": [
      "\rPROCESS: CountNews 69.500000 % ETA: 09:04:16"
     ]
    },
    {
     "name": "stdout",
     "output_type": "stream",
     "text": [
      "\rPROCESS: CountNews 69.500000 % ETA: 09:04:16"
     ]
    },
    {
     "name": "stdout",
     "output_type": "stream",
     "text": [
      "\rPROCESS: CountNews 69.500000 % ETA: 09:04:17"
     ]
    },
    {
     "name": "stdout",
     "output_type": "stream",
     "text": [
      "\rPROCESS: CountNews 69.600000 % ETA: 09:04:17"
     ]
    },
    {
     "name": "stdout",
     "output_type": "stream",
     "text": [
      "\rPROCESS: CountNews 69.600000 % ETA: 09:04:17"
     ]
    },
    {
     "name": "stdout",
     "output_type": "stream",
     "text": [
      "\rPROCESS: CountNews 69.700000 % ETA: 09:04:16"
     ]
    },
    {
     "name": "stdout",
     "output_type": "stream",
     "text": [
      "\rPROCESS: CountNews 69.700000 % ETA: 09:04:16"
     ]
    },
    {
     "name": "stdout",
     "output_type": "stream",
     "text": [
      "\rPROCESS: CountNews 69.800000 % ETA: 09:04:16"
     ]
    },
    {
     "name": "stdout",
     "output_type": "stream",
     "text": [
      "\rPROCESS: CountNews 69.800000 % ETA: 09:04:16"
     ]
    },
    {
     "name": "stdout",
     "output_type": "stream",
     "text": [
      "\rPROCESS: CountNews 69.800000 % ETA: 09:04:16"
     ]
    },
    {
     "name": "stdout",
     "output_type": "stream",
     "text": [
      "\rPROCESS: CountNews 69.900000 % ETA: 09:04:16"
     ]
    },
    {
     "name": "stdout",
     "output_type": "stream",
     "text": [
      "\rPROCESS: CountNews 69.900000 % ETA: 09:04:15"
     ]
    },
    {
     "name": "stdout",
     "output_type": "stream",
     "text": [
      "\rPROCESS: CountNews 70.000000 % ETA: 09:04:17"
     ]
    },
    {
     "name": "stdout",
     "output_type": "stream",
     "text": [
      "\rPROCESS: CountNews 70.000000 % ETA: 09:04:17"
     ]
    },
    {
     "name": "stdout",
     "output_type": "stream",
     "text": [
      "\rPROCESS: CountNews 70.100000 % ETA: 09:04:16"
     ]
    },
    {
     "name": "stdout",
     "output_type": "stream",
     "text": [
      "\rPROCESS: CountNews 70.100000 % ETA: 09:04:16"
     ]
    },
    {
     "name": "stdout",
     "output_type": "stream",
     "text": [
      "\rPROCESS: CountNews 70.100000 % ETA: 09:04:16"
     ]
    },
    {
     "name": "stdout",
     "output_type": "stream",
     "text": [
      "\rPROCESS: CountNews 70.200000 % ETA: 09:04:16"
     ]
    },
    {
     "name": "stdout",
     "output_type": "stream",
     "text": [
      "\rPROCESS: CountNews 70.200000 % ETA: 09:04:16"
     ]
    },
    {
     "name": "stdout",
     "output_type": "stream",
     "text": [
      "\rPROCESS: CountNews 70.300000 % ETA: 09:04:16"
     ]
    },
    {
     "name": "stdout",
     "output_type": "stream",
     "text": [
      "\rPROCESS: CountNews 70.300000 % ETA: 09:04:15"
     ]
    },
    {
     "name": "stdout",
     "output_type": "stream",
     "text": [
      "\rPROCESS: CountNews 70.400000 % ETA: 09:04:17"
     ]
    },
    {
     "name": "stdout",
     "output_type": "stream",
     "text": [
      "\rPROCESS: CountNews 70.400000 % ETA: 09:04:17"
     ]
    },
    {
     "name": "stdout",
     "output_type": "stream",
     "text": [
      "\rPROCESS: CountNews 70.400000 % ETA: 09:04:16"
     ]
    },
    {
     "name": "stdout",
     "output_type": "stream",
     "text": [
      "\rPROCESS: CountNews 70.500000 % ETA: 09:04:16"
     ]
    },
    {
     "name": "stdout",
     "output_type": "stream",
     "text": [
      "\rPROCESS: CountNews 70.500000 % ETA: 09:04:16"
     ]
    },
    {
     "name": "stdout",
     "output_type": "stream",
     "text": [
      "\rPROCESS: CountNews 70.600000 % ETA: 09:04:16"
     ]
    },
    {
     "name": "stdout",
     "output_type": "stream",
     "text": [
      "\rPROCESS: CountNews 70.600000 % ETA: 09:04:16"
     ]
    },
    {
     "name": "stdout",
     "output_type": "stream",
     "text": [
      "\rPROCESS: CountNews 70.700000 % ETA: 09:04:16"
     ]
    },
    {
     "name": "stdout",
     "output_type": "stream",
     "text": [
      "\rPROCESS: CountNews 70.700000 % ETA: 09:04:15"
     ]
    },
    {
     "name": "stdout",
     "output_type": "stream",
     "text": [
      "\rPROCESS: CountNews 70.700000 % ETA: 09:04:15"
     ]
    },
    {
     "name": "stdout",
     "output_type": "stream",
     "text": [
      "\rPROCESS: CountNews 70.800000 % ETA: 09:04:17"
     ]
    },
    {
     "name": "stdout",
     "output_type": "stream",
     "text": [
      "\rPROCESS: CountNews 70.800000 % ETA: 09:04:16"
     ]
    },
    {
     "name": "stdout",
     "output_type": "stream",
     "text": [
      "\rPROCESS: CountNews 70.900000 % ETA: 09:04:16"
     ]
    },
    {
     "name": "stdout",
     "output_type": "stream",
     "text": [
      "\rPROCESS: CountNews 70.900000 % ETA: 09:04:16"
     ]
    },
    {
     "name": "stdout",
     "output_type": "stream",
     "text": [
      "\rPROCESS: CountNews 71.000000 % ETA: 09:04:16"
     ]
    },
    {
     "name": "stdout",
     "output_type": "stream",
     "text": [
      "\rPROCESS: CountNews 71.000000 % ETA: 09:04:16"
     ]
    },
    {
     "name": "stdout",
     "output_type": "stream",
     "text": [
      "\rPROCESS: CountNews 71.100000 % ETA: 09:04:16"
     ]
    },
    {
     "name": "stdout",
     "output_type": "stream",
     "text": [
      "\rPROCESS: CountNews 71.100000 % ETA: 09:04:15"
     ]
    },
    {
     "name": "stdout",
     "output_type": "stream",
     "text": [
      "\rPROCESS: CountNews 71.100000 % ETA: 09:04:15"
     ]
    },
    {
     "name": "stdout",
     "output_type": "stream",
     "text": [
      "\rPROCESS: CountNews 71.200000 % ETA: 09:04:15"
     ]
    },
    {
     "name": "stdout",
     "output_type": "stream",
     "text": [
      "\rPROCESS: CountNews 71.200000 % ETA: 09:04:16"
     ]
    },
    {
     "name": "stdout",
     "output_type": "stream",
     "text": [
      "\rPROCESS: CountNews 71.300000 % ETA: 09:04:16"
     ]
    },
    {
     "name": "stdout",
     "output_type": "stream",
     "text": [
      "\rPROCESS: CountNews 71.300000 % ETA: 09:04:16"
     ]
    },
    {
     "name": "stdout",
     "output_type": "stream",
     "text": [
      "\rPROCESS: CountNews 71.400000 % ETA: 09:04:16"
     ]
    },
    {
     "name": "stdout",
     "output_type": "stream",
     "text": [
      "\rPROCESS: CountNews 71.400000 % ETA: 09:04:16"
     ]
    },
    {
     "name": "stdout",
     "output_type": "stream",
     "text": [
      "\rPROCESS: CountNews 71.400000 % ETA: 09:04:16"
     ]
    },
    {
     "name": "stdout",
     "output_type": "stream",
     "text": [
      "\rPROCESS: CountNews 71.500000 % ETA: 09:04:16"
     ]
    },
    {
     "name": "stdout",
     "output_type": "stream",
     "text": [
      "\rPROCESS: CountNews 71.500000 % ETA: 09:04:15"
     ]
    },
    {
     "name": "stdout",
     "output_type": "stream",
     "text": [
      "\rPROCESS: CountNews 71.600000 % ETA: 09:04:15"
     ]
    },
    {
     "name": "stdout",
     "output_type": "stream",
     "text": [
      "\rPROCESS: CountNews 71.600000 % ETA: 09:04:16"
     ]
    },
    {
     "name": "stdout",
     "output_type": "stream",
     "text": [
      "\rPROCESS: CountNews 71.700000 % ETA: 09:04:16"
     ]
    },
    {
     "name": "stdout",
     "output_type": "stream",
     "text": [
      "\rPROCESS: CountNews 71.700000 % ETA: 09:04:16"
     ]
    },
    {
     "name": "stdout",
     "output_type": "stream",
     "text": [
      "\rPROCESS: CountNews 71.700000 % ETA: 09:04:16"
     ]
    },
    {
     "name": "stdout",
     "output_type": "stream",
     "text": [
      "\rPROCESS: CountNews 71.800000 % ETA: 09:04:16"
     ]
    },
    {
     "name": "stdout",
     "output_type": "stream",
     "text": [
      "\rPROCESS: CountNews 71.800000 % ETA: 09:04:16"
     ]
    },
    {
     "name": "stdout",
     "output_type": "stream",
     "text": [
      "\rPROCESS: CountNews 71.900000 % ETA: 09:04:16"
     ]
    },
    {
     "name": "stdout",
     "output_type": "stream",
     "text": [
      "\rPROCESS: CountNews 71.900000 % ETA: 09:04:15"
     ]
    },
    {
     "name": "stdout",
     "output_type": "stream",
     "text": [
      "\rPROCESS: CountNews 72.000000 % ETA: 09:04:15"
     ]
    },
    {
     "name": "stdout",
     "output_type": "stream",
     "text": [
      "\rPROCESS: CountNews 72.000000 % ETA: 09:04:16"
     ]
    },
    {
     "name": "stdout",
     "output_type": "stream",
     "text": [
      "\rPROCESS: CountNews 72.000000 % ETA: 09:04:16"
     ]
    },
    {
     "name": "stdout",
     "output_type": "stream",
     "text": [
      "\rPROCESS: CountNews 72.100000 % ETA: 09:04:16"
     ]
    },
    {
     "name": "stdout",
     "output_type": "stream",
     "text": [
      "\rPROCESS: CountNews 72.100000 % ETA: 09:04:16"
     ]
    },
    {
     "name": "stdout",
     "output_type": "stream",
     "text": [
      "\rPROCESS: CountNews 72.200000 % ETA: 09:04:16"
     ]
    },
    {
     "name": "stdout",
     "output_type": "stream",
     "text": [
      "\rPROCESS: CountNews 72.200000 % ETA: 09:04:16"
     ]
    },
    {
     "name": "stdout",
     "output_type": "stream",
     "text": [
      "\rPROCESS: CountNews 72.300000 % ETA: 09:04:16"
     ]
    },
    {
     "name": "stdout",
     "output_type": "stream",
     "text": [
      "\rPROCESS: CountNews 72.300000 % ETA: 09:04:15"
     ]
    },
    {
     "name": "stdout",
     "output_type": "stream",
     "text": [
      "\rPROCESS: CountNews 72.300000 % ETA: 09:04:15"
     ]
    },
    {
     "name": "stdout",
     "output_type": "stream",
     "text": [
      "\rPROCESS: CountNews 72.400000 % ETA: 09:04:15"
     ]
    },
    {
     "name": "stdout",
     "output_type": "stream",
     "text": [
      "\rPROCESS: CountNews 72.400000 % ETA: 09:04:16"
     ]
    },
    {
     "name": "stdout",
     "output_type": "stream",
     "text": [
      "\rPROCESS: CountNews 72.500000 % ETA: 09:04:16"
     ]
    },
    {
     "name": "stdout",
     "output_type": "stream",
     "text": [
      "\rPROCESS: CountNews 72.500000 % ETA: 09:04:16"
     ]
    },
    {
     "name": "stdout",
     "output_type": "stream",
     "text": [
      "\rPROCESS: CountNews 72.600000 % ETA: 09:04:16"
     ]
    },
    {
     "name": "stdout",
     "output_type": "stream",
     "text": [
      "\rPROCESS: CountNews 72.600000 % ETA: 09:04:16"
     ]
    },
    {
     "name": "stdout",
     "output_type": "stream",
     "text": [
      "\rPROCESS: CountNews 72.700000 % ETA: 09:04:16"
     ]
    },
    {
     "name": "stdout",
     "output_type": "stream",
     "text": [
      "\rPROCESS: CountNews 72.700000 % ETA: 09:04:15"
     ]
    },
    {
     "name": "stdout",
     "output_type": "stream",
     "text": [
      "\rPROCESS: CountNews 72.700000 % ETA: 09:04:15"
     ]
    },
    {
     "name": "stdout",
     "output_type": "stream",
     "text": [
      "\rPROCESS: CountNews 72.800000 % ETA: 09:04:15"
     ]
    },
    {
     "name": "stdout",
     "output_type": "stream",
     "text": [
      "\rPROCESS: CountNews 72.800000 % ETA: 09:04:15"
     ]
    },
    {
     "name": "stdout",
     "output_type": "stream",
     "text": [
      "\rPROCESS: CountNews 72.900000 % ETA: 09:04:16"
     ]
    },
    {
     "name": "stdout",
     "output_type": "stream",
     "text": [
      "\rPROCESS: CountNews 72.900000 % ETA: 09:04:16"
     ]
    },
    {
     "name": "stdout",
     "output_type": "stream",
     "text": [
      "\rPROCESS: CountNews 73.000000 % ETA: 09:04:16"
     ]
    },
    {
     "name": "stdout",
     "output_type": "stream",
     "text": [
      "\rPROCESS: CountNews 73.000000 % ETA: 09:04:16"
     ]
    },
    {
     "name": "stdout",
     "output_type": "stream",
     "text": [
      "\rPROCESS: CountNews 73.000000 % ETA: 09:04:16"
     ]
    },
    {
     "name": "stdout",
     "output_type": "stream",
     "text": [
      "\rPROCESS: CountNews 73.100000 % ETA: 09:04:15"
     ]
    },
    {
     "name": "stdout",
     "output_type": "stream",
     "text": [
      "\rPROCESS: CountNews 73.100000 % ETA: 09:04:15"
     ]
    },
    {
     "name": "stdout",
     "output_type": "stream",
     "text": [
      "\rPROCESS: CountNews 73.200000 % ETA: 09:04:15"
     ]
    },
    {
     "name": "stdout",
     "output_type": "stream",
     "text": [
      "\rPROCESS: CountNews 73.200000 % ETA: 09:04:15"
     ]
    },
    {
     "name": "stdout",
     "output_type": "stream",
     "text": [
      "\rPROCESS: CountNews 73.300000 % ETA: 09:04:16"
     ]
    },
    {
     "name": "stdout",
     "output_type": "stream",
     "text": [
      "\rPROCESS: CountNews 73.300000 % ETA: 09:04:16"
     ]
    },
    {
     "name": "stdout",
     "output_type": "stream",
     "text": [
      "\rPROCESS: CountNews 73.300000 % ETA: 09:04:16"
     ]
    },
    {
     "name": "stdout",
     "output_type": "stream",
     "text": [
      "\rPROCESS: CountNews 73.400000 % ETA: 09:04:16"
     ]
    },
    {
     "name": "stdout",
     "output_type": "stream",
     "text": [
      "\rPROCESS: CountNews 73.400000 % ETA: 09:04:16"
     ]
    },
    {
     "name": "stdout",
     "output_type": "stream",
     "text": [
      "\rPROCESS: CountNews 73.500000 % ETA: 09:04:15"
     ]
    },
    {
     "name": "stdout",
     "output_type": "stream",
     "text": [
      "\rPROCESS: CountNews 73.500000 % ETA: 09:04:15"
     ]
    },
    {
     "name": "stdout",
     "output_type": "stream",
     "text": [
      "\rPROCESS: CountNews 73.600000 % ETA: 09:04:15"
     ]
    },
    {
     "name": "stdout",
     "output_type": "stream",
     "text": [
      "\rPROCESS: CountNews 73.600000 % ETA: 09:04:15"
     ]
    },
    {
     "name": "stdout",
     "output_type": "stream",
     "text": [
      "\rPROCESS: CountNews 73.600000 % ETA: 09:04:15"
     ]
    },
    {
     "name": "stdout",
     "output_type": "stream",
     "text": [
      "\rPROCESS: CountNews 73.700000 % ETA: 09:04:16"
     ]
    },
    {
     "name": "stdout",
     "output_type": "stream",
     "text": [
      "\rPROCESS: CountNews 73.700000 % ETA: 09:04:16"
     ]
    },
    {
     "name": "stdout",
     "output_type": "stream",
     "text": [
      "\rPROCESS: CountNews 73.800000 % ETA: 09:04:16"
     ]
    },
    {
     "name": "stdout",
     "output_type": "stream",
     "text": [
      "\rPROCESS: CountNews 73.800000 % ETA: 09:04:16"
     ]
    },
    {
     "name": "stdout",
     "output_type": "stream",
     "text": [
      "\rPROCESS: CountNews 73.900000 % ETA: 09:04:15"
     ]
    },
    {
     "name": "stdout",
     "output_type": "stream",
     "text": [
      "\rPROCESS: CountNews 73.900000 % ETA: 09:04:15"
     ]
    },
    {
     "name": "stdout",
     "output_type": "stream",
     "text": [
      "\rPROCESS: CountNews 74.000000 % ETA: 09:04:15"
     ]
    },
    {
     "name": "stdout",
     "output_type": "stream",
     "text": [
      "\rPROCESS: CountNews 74.000000 % ETA: 09:04:15"
     ]
    },
    {
     "name": "stdout",
     "output_type": "stream",
     "text": [
      "\rPROCESS: CountNews 74.000000 % ETA: 09:04:15"
     ]
    },
    {
     "name": "stdout",
     "output_type": "stream",
     "text": [
      "\rPROCESS: CountNews 74.100000 % ETA: 09:04:15"
     ]
    },
    {
     "name": "stdout",
     "output_type": "stream",
     "text": [
      "\rPROCESS: CountNews 74.100000 % ETA: 09:04:16"
     ]
    },
    {
     "name": "stdout",
     "output_type": "stream",
     "text": [
      "\rPROCESS: CountNews 74.200000 % ETA: 09:04:16"
     ]
    },
    {
     "name": "stdout",
     "output_type": "stream",
     "text": [
      "\rPROCESS: CountNews 74.200000 % ETA: 09:04:16"
     ]
    },
    {
     "name": "stdout",
     "output_type": "stream",
     "text": [
      "\rPROCESS: CountNews 74.300000 % ETA: 09:04:15"
     ]
    },
    {
     "name": "stdout",
     "output_type": "stream",
     "text": [
      "\rPROCESS: CountNews 74.300000 % ETA: 09:04:15"
     ]
    },
    {
     "name": "stdout",
     "output_type": "stream",
     "text": [
      "\rPROCESS: CountNews 74.300000 % ETA: 09:04:15"
     ]
    },
    {
     "name": "stdout",
     "output_type": "stream",
     "text": [
      "\rPROCESS: CountNews 74.400000 % ETA: 09:04:15"
     ]
    },
    {
     "name": "stdout",
     "output_type": "stream",
     "text": [
      "\rPROCESS: CountNews 74.400000 % ETA: 09:04:15"
     ]
    },
    {
     "name": "stdout",
     "output_type": "stream",
     "text": [
      "\rPROCESS: CountNews 74.500000 % ETA: 09:04:15"
     ]
    },
    {
     "name": "stdout",
     "output_type": "stream",
     "text": [
      "\rPROCESS: CountNews 74.500000 % ETA: 09:04:16"
     ]
    },
    {
     "name": "stdout",
     "output_type": "stream",
     "text": [
      "\rPROCESS: CountNews 74.600000 % ETA: 09:04:16"
     ]
    },
    {
     "name": "stdout",
     "output_type": "stream",
     "text": [
      "\rPROCESS: CountNews 74.600000 % ETA: 09:04:16"
     ]
    },
    {
     "name": "stdout",
     "output_type": "stream",
     "text": [
      "\rPROCESS: CountNews 74.600000 % ETA: 09:04:15"
     ]
    },
    {
     "name": "stdout",
     "output_type": "stream",
     "text": [
      "\rPROCESS: CountNews 74.700000 % ETA: 09:04:15"
     ]
    },
    {
     "name": "stdout",
     "output_type": "stream",
     "text": [
      "\rPROCESS: CountNews 74.700000 % ETA: 09:04:15"
     ]
    },
    {
     "name": "stdout",
     "output_type": "stream",
     "text": [
      "\rPROCESS: CountNews 74.800000 % ETA: 09:04:15"
     ]
    },
    {
     "name": "stdout",
     "output_type": "stream",
     "text": [
      "\rPROCESS: CountNews 74.800000 % ETA: 09:04:15"
     ]
    },
    {
     "name": "stdout",
     "output_type": "stream",
     "text": [
      "\rPROCESS: CountNews 74.900000 % ETA: 09:04:15"
     ]
    },
    {
     "name": "stdout",
     "output_type": "stream",
     "text": [
      "\rPROCESS: CountNews 74.900000 % ETA: 09:04:14"
     ]
    },
    {
     "name": "stdout",
     "output_type": "stream",
     "text": [
      "\rPROCESS: CountNews 74.900000 % ETA: 09:04:16"
     ]
    },
    {
     "name": "stdout",
     "output_type": "stream",
     "text": [
      "\rPROCESS: CountNews 75.000000 % ETA: 09:04:16"
     ]
    },
    {
     "name": "stdout",
     "output_type": "stream",
     "text": [
      "\rPROCESS: CountNews 75.000000 % ETA: 09:04:15"
     ]
    },
    {
     "name": "stdout",
     "output_type": "stream",
     "text": [
      "\rPROCESS: CountNews 75.100000 % ETA: 09:04:15"
     ]
    },
    {
     "name": "stdout",
     "output_type": "stream",
     "text": [
      "\rPROCESS: CountNews 75.100000 % ETA: 09:04:15"
     ]
    },
    {
     "name": "stdout",
     "output_type": "stream",
     "text": [
      "\rPROCESS: CountNews 75.200000 % ETA: 09:04:15"
     ]
    },
    {
     "name": "stdout",
     "output_type": "stream",
     "text": [
      "\rPROCESS: CountNews 75.200000 % ETA: 09:04:15"
     ]
    },
    {
     "name": "stdout",
     "output_type": "stream",
     "text": [
      "\rPROCESS: CountNews 75.200000 % ETA: 09:04:15"
     ]
    },
    {
     "name": "stdout",
     "output_type": "stream",
     "text": [
      "\rPROCESS: CountNews 75.300000 % ETA: 09:04:15"
     ]
    },
    {
     "name": "stdout",
     "output_type": "stream",
     "text": [
      "\rPROCESS: CountNews 75.300000 % ETA: 09:04:14"
     ]
    },
    {
     "name": "stdout",
     "output_type": "stream",
     "text": [
      "\rPROCESS: CountNews 75.400000 % ETA: 09:04:16"
     ]
    },
    {
     "name": "stdout",
     "output_type": "stream",
     "text": [
      "\rPROCESS: CountNews 75.400000 % ETA: 09:04:15"
     ]
    },
    {
     "name": "stdout",
     "output_type": "stream",
     "text": [
      "\rPROCESS: CountNews 75.500000 % ETA: 09:04:15"
     ]
    },
    {
     "name": "stdout",
     "output_type": "stream",
     "text": [
      "\rPROCESS: CountNews 75.500000 % ETA: 09:04:15"
     ]
    },
    {
     "name": "stdout",
     "output_type": "stream",
     "text": [
      "\rPROCESS: CountNews 75.600000 % ETA: 09:04:15"
     ]
    },
    {
     "name": "stdout",
     "output_type": "stream",
     "text": [
      "\rPROCESS: CountNews 75.600000 % ETA: 09:04:15"
     ]
    },
    {
     "name": "stdout",
     "output_type": "stream",
     "text": [
      "\rPROCESS: CountNews 75.600000 % ETA: 09:04:15"
     ]
    },
    {
     "name": "stdout",
     "output_type": "stream",
     "text": [
      "\rPROCESS: CountNews 75.700000 % ETA: 09:04:15"
     ]
    },
    {
     "name": "stdout",
     "output_type": "stream",
     "text": [
      "\rPROCESS: CountNews 75.700000 % ETA: 09:04:14"
     ]
    },
    {
     "name": "stdout",
     "output_type": "stream",
     "text": [
      "\rPROCESS: CountNews 75.800000 % ETA: 09:04:16"
     ]
    },
    {
     "name": "stdout",
     "output_type": "stream",
     "text": [
      "\rPROCESS: CountNews 75.800000 % ETA: 09:04:15"
     ]
    },
    {
     "name": "stdout",
     "output_type": "stream",
     "text": [
      "\rPROCESS: CountNews 75.900000 % ETA: 09:04:15"
     ]
    },
    {
     "name": "stdout",
     "output_type": "stream",
     "text": [
      "\rPROCESS: CountNews 75.900000 % ETA: 09:04:15"
     ]
    },
    {
     "name": "stdout",
     "output_type": "stream",
     "text": [
      "\rPROCESS: CountNews 75.900000 % ETA: 09:04:15"
     ]
    },
    {
     "name": "stdout",
     "output_type": "stream",
     "text": [
      "\rPROCESS: CountNews 76.000000 % ETA: 09:04:15"
     ]
    },
    {
     "name": "stdout",
     "output_type": "stream",
     "text": [
      "\rPROCESS: CountNews 76.000000 % ETA: 09:04:15"
     ]
    },
    {
     "name": "stdout",
     "output_type": "stream",
     "text": [
      "\rPROCESS: CountNews 76.100000 % ETA: 09:04:15"
     ]
    },
    {
     "name": "stdout",
     "output_type": "stream",
     "text": [
      "\rPROCESS: CountNews 76.100000 % ETA: 09:04:14"
     ]
    },
    {
     "name": "stdout",
     "output_type": "stream",
     "text": [
      "\rPROCESS: CountNews 76.200000 % ETA: 09:04:14"
     ]
    },
    {
     "name": "stdout",
     "output_type": "stream",
     "text": [
      "\rPROCESS: CountNews 76.200000 % ETA: 09:04:15"
     ]
    },
    {
     "name": "stdout",
     "output_type": "stream",
     "text": [
      "\rPROCESS: CountNews 76.200000 % ETA: 09:04:15"
     ]
    },
    {
     "name": "stdout",
     "output_type": "stream",
     "text": [
      "\rPROCESS: CountNews 76.300000 % ETA: 09:04:15"
     ]
    },
    {
     "name": "stdout",
     "output_type": "stream",
     "text": [
      "\rPROCESS: CountNews 76.300000 % ETA: 09:04:15"
     ]
    },
    {
     "name": "stdout",
     "output_type": "stream",
     "text": [
      "\rPROCESS: CountNews 76.400000 % ETA: 09:04:15"
     ]
    },
    {
     "name": "stdout",
     "output_type": "stream",
     "text": [
      "\rPROCESS: CountNews 76.400000 % ETA: 09:04:15"
     ]
    },
    {
     "name": "stdout",
     "output_type": "stream",
     "text": [
      "\rPROCESS: CountNews 76.500000 % ETA: 09:04:15"
     ]
    },
    {
     "name": "stdout",
     "output_type": "stream",
     "text": [
      "\rPROCESS: CountNews 76.500000 % ETA: 09:04:14"
     ]
    },
    {
     "name": "stdout",
     "output_type": "stream",
     "text": [
      "\rPROCESS: CountNews 76.500000 % ETA: 09:04:14"
     ]
    },
    {
     "name": "stdout",
     "output_type": "stream",
     "text": [
      "\rPROCESS: CountNews 76.600000 % ETA: 09:04:14"
     ]
    },
    {
     "name": "stdout",
     "output_type": "stream",
     "text": [
      "\rPROCESS: CountNews 76.600000 % ETA: 09:04:15"
     ]
    },
    {
     "name": "stdout",
     "output_type": "stream",
     "text": [
      "\rPROCESS: CountNews 76.700000 % ETA: 09:04:15"
     ]
    },
    {
     "name": "stdout",
     "output_type": "stream",
     "text": [
      "\rPROCESS: CountNews 76.700000 % ETA: 09:04:15"
     ]
    },
    {
     "name": "stdout",
     "output_type": "stream",
     "text": [
      "\rPROCESS: CountNews 76.800000 % ETA: 09:04:15"
     ]
    },
    {
     "name": "stdout",
     "output_type": "stream",
     "text": [
      "\rPROCESS: CountNews 76.800000 % ETA: 09:04:15"
     ]
    },
    {
     "name": "stdout",
     "output_type": "stream",
     "text": [
      "\rPROCESS: CountNews 76.800000 % ETA: 09:04:15"
     ]
    },
    {
     "name": "stdout",
     "output_type": "stream",
     "text": [
      "\rPROCESS: CountNews 76.900000 % ETA: 09:04:14"
     ]
    },
    {
     "name": "stdout",
     "output_type": "stream",
     "text": [
      "\rPROCESS: CountNews 76.900000 % ETA: 09:04:14"
     ]
    },
    {
     "name": "stdout",
     "output_type": "stream",
     "text": [
      "\rPROCESS: CountNews 77.000000 % ETA: 09:04:15"
     ]
    },
    {
     "name": "stdout",
     "output_type": "stream",
     "text": [
      "\rPROCESS: CountNews 77.000000 % ETA: 09:04:15"
     ]
    },
    {
     "name": "stdout",
     "output_type": "stream",
     "text": [
      "\rPROCESS: CountNews 77.100000 % ETA: 09:04:15"
     ]
    },
    {
     "name": "stdout",
     "output_type": "stream",
     "text": [
      "\rPROCESS: CountNews 77.100000 % ETA: 09:04:15"
     ]
    },
    {
     "name": "stdout",
     "output_type": "stream",
     "text": [
      "\rPROCESS: CountNews 77.200000 % ETA: 09:04:15"
     ]
    },
    {
     "name": "stdout",
     "output_type": "stream",
     "text": [
      "\rPROCESS: CountNews 77.200000 % ETA: 09:04:15"
     ]
    },
    {
     "name": "stdout",
     "output_type": "stream",
     "text": [
      "\rPROCESS: CountNews 77.200000 % ETA: 09:04:15"
     ]
    },
    {
     "name": "stdout",
     "output_type": "stream",
     "text": [
      "\rPROCESS: CountNews 77.300000 % ETA: 09:04:14"
     ]
    },
    {
     "name": "stdout",
     "output_type": "stream",
     "text": [
      "\rPROCESS: CountNews 77.300000 % ETA: 09:04:14"
     ]
    },
    {
     "name": "stdout",
     "output_type": "stream",
     "text": [
      "\rPROCESS: CountNews 77.400000 % ETA: 09:04:15"
     ]
    },
    {
     "name": "stdout",
     "output_type": "stream",
     "text": [
      "\rPROCESS: CountNews 77.400000 % ETA: 09:04:15"
     ]
    },
    {
     "name": "stdout",
     "output_type": "stream",
     "text": [
      "\rPROCESS: CountNews 77.500000 % ETA: 09:04:15"
     ]
    },
    {
     "name": "stdout",
     "output_type": "stream",
     "text": [
      "\rPROCESS: CountNews 77.500000 % ETA: 09:04:15"
     ]
    },
    {
     "name": "stdout",
     "output_type": "stream",
     "text": [
      "\rPROCESS: CountNews 77.500000 % ETA: 09:04:15"
     ]
    },
    {
     "name": "stdout",
     "output_type": "stream",
     "text": [
      "\rPROCESS: CountNews 77.600000 % ETA: 09:04:15"
     ]
    },
    {
     "name": "stdout",
     "output_type": "stream",
     "text": [
      "\rPROCESS: CountNews 77.600000 % ETA: 09:04:15"
     ]
    },
    {
     "name": "stdout",
     "output_type": "stream",
     "text": [
      "\rPROCESS: CountNews 77.700000 % ETA: 09:04:14"
     ]
    },
    {
     "name": "stdout",
     "output_type": "stream",
     "text": [
      "\rPROCESS: CountNews 77.700000 % ETA: 09:04:14"
     ]
    },
    {
     "name": "stdout",
     "output_type": "stream",
     "text": [
      "\rPROCESS: CountNews 77.800000 % ETA: 09:04:14"
     ]
    },
    {
     "name": "stdout",
     "output_type": "stream",
     "text": [
      "\rPROCESS: CountNews 77.800000 % ETA: 09:04:15"
     ]
    },
    {
     "name": "stdout",
     "output_type": "stream",
     "text": [
      "\rPROCESS: CountNews 77.800000 % ETA: 09:04:15"
     ]
    },
    {
     "name": "stdout",
     "output_type": "stream",
     "text": [
      "\rPROCESS: CountNews 77.900000 % ETA: 09:04:15"
     ]
    },
    {
     "name": "stdout",
     "output_type": "stream",
     "text": [
      "\rPROCESS: CountNews 77.900000 % ETA: 09:04:15"
     ]
    },
    {
     "name": "stdout",
     "output_type": "stream",
     "text": [
      "\rPROCESS: CountNews 78.000000 % ETA: 09:04:15"
     ]
    },
    {
     "name": "stdout",
     "output_type": "stream",
     "text": [
      "\rPROCESS: CountNews 78.000000 % ETA: 09:04:15"
     ]
    },
    {
     "name": "stdout",
     "output_type": "stream",
     "text": [
      "\rPROCESS: CountNews 78.100000 % ETA: 09:04:14"
     ]
    },
    {
     "name": "stdout",
     "output_type": "stream",
     "text": [
      "\rPROCESS: CountNews 78.100000 % ETA: 09:04:14"
     ]
    },
    {
     "name": "stdout",
     "output_type": "stream",
     "text": [
      "\rPROCESS: CountNews 78.100000 % ETA: 09:04:14"
     ]
    },
    {
     "name": "stdout",
     "output_type": "stream",
     "text": [
      "\rPROCESS: CountNews 78.200000 % ETA: 09:04:15"
     ]
    },
    {
     "name": "stdout",
     "output_type": "stream",
     "text": [
      "\rPROCESS: CountNews 78.200000 % ETA: 09:04:15"
     ]
    },
    {
     "name": "stdout",
     "output_type": "stream",
     "text": [
      "\rPROCESS: CountNews 78.300000 % ETA: 09:04:15"
     ]
    },
    {
     "name": "stdout",
     "output_type": "stream",
     "text": [
      "\rPROCESS: CountNews 78.300000 % ETA: 09:04:15"
     ]
    },
    {
     "name": "stdout",
     "output_type": "stream",
     "text": [
      "\rPROCESS: CountNews 78.400000 % ETA: 09:04:15"
     ]
    },
    {
     "name": "stdout",
     "output_type": "stream",
     "text": [
      "\rPROCESS: CountNews 78.400000 % ETA: 09:04:15"
     ]
    },
    {
     "name": "stdout",
     "output_type": "stream",
     "text": [
      "\rPROCESS: CountNews 78.500000 % ETA: 09:04:14"
     ]
    },
    {
     "name": "stdout",
     "output_type": "stream",
     "text": [
      "\rPROCESS: CountNews 78.500000 % ETA: 09:04:14"
     ]
    },
    {
     "name": "stdout",
     "output_type": "stream",
     "text": [
      "\rPROCESS: CountNews 78.500000 % ETA: 09:04:14"
     ]
    },
    {
     "name": "stdout",
     "output_type": "stream",
     "text": [
      "\rPROCESS: CountNews 78.600000 % ETA: 09:04:14"
     ]
    },
    {
     "name": "stdout",
     "output_type": "stream",
     "text": [
      "\rPROCESS: CountNews 78.600000 % ETA: 09:04:15"
     ]
    },
    {
     "name": "stdout",
     "output_type": "stream",
     "text": [
      "\rPROCESS: CountNews 78.700000 % ETA: 09:04:15"
     ]
    },
    {
     "name": "stdout",
     "output_type": "stream",
     "text": [
      "\rPROCESS: CountNews 78.700000 % ETA: 09:04:15"
     ]
    },
    {
     "name": "stdout",
     "output_type": "stream",
     "text": [
      "\rPROCESS: CountNews 78.800000 % ETA: 09:04:15"
     ]
    },
    {
     "name": "stdout",
     "output_type": "stream",
     "text": [
      "\rPROCESS: CountNews 78.800000 % ETA: 09:04:15"
     ]
    },
    {
     "name": "stdout",
     "output_type": "stream",
     "text": [
      "\rPROCESS: CountNews 78.800000 % ETA: 09:04:14"
     ]
    },
    {
     "name": "stdout",
     "output_type": "stream",
     "text": [
      "\rPROCESS: CountNews 78.900000 % ETA: 09:04:14"
     ]
    },
    {
     "name": "stdout",
     "output_type": "stream",
     "text": [
      "\rPROCESS: CountNews 78.900000 % ETA: 09:04:14"
     ]
    },
    {
     "name": "stdout",
     "output_type": "stream",
     "text": [
      "\rPROCESS: CountNews 79.000000 % ETA: 09:04:14"
     ]
    },
    {
     "name": "stdout",
     "output_type": "stream",
     "text": [
      "\rPROCESS: CountNews 79.000000 % ETA: 09:04:15"
     ]
    },
    {
     "name": "stdout",
     "output_type": "stream",
     "text": [
      "\rPROCESS: CountNews 79.100000 % ETA: 09:04:15"
     ]
    },
    {
     "name": "stdout",
     "output_type": "stream",
     "text": [
      "\rPROCESS: CountNews 79.100000 % ETA: 09:04:15"
     ]
    },
    {
     "name": "stdout",
     "output_type": "stream",
     "text": [
      "\rPROCESS: CountNews 79.100000 % ETA: 09:04:15"
     ]
    },
    {
     "name": "stdout",
     "output_type": "stream",
     "text": [
      "\rPROCESS: CountNews 79.200000 % ETA: 09:04:15"
     ]
    },
    {
     "name": "stdout",
     "output_type": "stream",
     "text": [
      "\rPROCESS: CountNews 79.200000 % ETA: 09:04:14"
     ]
    },
    {
     "name": "stdout",
     "output_type": "stream",
     "text": [
      "\rPROCESS: CountNews 79.300000 % ETA: 09:04:14"
     ]
    },
    {
     "name": "stdout",
     "output_type": "stream",
     "text": [
      "\rPROCESS: CountNews 79.300000 % ETA: 09:04:14"
     ]
    },
    {
     "name": "stdout",
     "output_type": "stream",
     "text": [
      "\rPROCESS: CountNews 79.400000 % ETA: 09:04:14"
     ]
    },
    {
     "name": "stdout",
     "output_type": "stream",
     "text": [
      "\rPROCESS: CountNews 79.400000 % ETA: 09:04:14"
     ]
    },
    {
     "name": "stdout",
     "output_type": "stream",
     "text": [
      "\rPROCESS: CountNews 79.400000 % ETA: 09:04:15"
     ]
    },
    {
     "name": "stdout",
     "output_type": "stream",
     "text": [
      "\rPROCESS: CountNews 79.500000 % ETA: 09:04:15"
     ]
    },
    {
     "name": "stdout",
     "output_type": "stream",
     "text": [
      "\rPROCESS: CountNews 79.500000 % ETA: 09:04:15"
     ]
    },
    {
     "name": "stdout",
     "output_type": "stream",
     "text": [
      "\rPROCESS: CountNews 79.600000 % ETA: 09:04:15"
     ]
    },
    {
     "name": "stdout",
     "output_type": "stream",
     "text": [
      "\rPROCESS: CountNews 79.600000 % ETA: 09:04:14"
     ]
    },
    {
     "name": "stdout",
     "output_type": "stream",
     "text": [
      "\rPROCESS: CountNews 79.700000 % ETA: 09:04:14"
     ]
    },
    {
     "name": "stdout",
     "output_type": "stream",
     "text": [
      "\rPROCESS: CountNews 79.700000 % ETA: 09:04:14"
     ]
    },
    {
     "name": "stdout",
     "output_type": "stream",
     "text": [
      "\rPROCESS: CountNews 79.700000 % ETA: 09:04:14"
     ]
    },
    {
     "name": "stdout",
     "output_type": "stream",
     "text": [
      "\rPROCESS: CountNews 79.800000 % ETA: 09:04:14"
     ]
    },
    {
     "name": "stdout",
     "output_type": "stream",
     "text": [
      "\rPROCESS: CountNews 79.800000 % ETA: 09:04:15"
     ]
    },
    {
     "name": "stdout",
     "output_type": "stream",
     "text": [
      "\rPROCESS: CountNews 79.900000 % ETA: 09:04:15"
     ]
    },
    {
     "name": "stdout",
     "output_type": "stream",
     "text": [
      "\rPROCESS: CountNews 79.900000 % ETA: 09:04:15"
     ]
    },
    {
     "name": "stdout",
     "output_type": "stream",
     "text": [
      "\rPROCESS: CountNews 80.000000 % ETA: 09:04:15"
     ]
    },
    {
     "name": "stdout",
     "output_type": "stream",
     "text": [
      "\rPROCESS: CountNews 80.000000 % ETA: 09:04:14"
     ]
    },
    {
     "name": "stdout",
     "output_type": "stream",
     "text": [
      "\rPROCESS: CountNews 80.100000 % ETA: 09:04:14"
     ]
    },
    {
     "name": "stdout",
     "output_type": "stream",
     "text": [
      "\rPROCESS: CountNews 80.100000 % ETA: 09:04:14"
     ]
    },
    {
     "name": "stdout",
     "output_type": "stream",
     "text": [
      "\rPROCESS: CountNews 80.100000 % ETA: 09:04:14"
     ]
    },
    {
     "name": "stdout",
     "output_type": "stream",
     "text": [
      "\rPROCESS: CountNews 80.200000 % ETA: 09:04:14"
     ]
    },
    {
     "name": "stdout",
     "output_type": "stream",
     "text": [
      "\rPROCESS: CountNews 80.200000 % ETA: 09:04:14"
     ]
    },
    {
     "name": "stdout",
     "output_type": "stream",
     "text": [
      "\rPROCESS: CountNews 80.300000 % ETA: 09:04:15"
     ]
    },
    {
     "name": "stdout",
     "output_type": "stream",
     "text": [
      "\rPROCESS: CountNews 80.300000 % ETA: 09:04:15"
     ]
    },
    {
     "name": "stdout",
     "output_type": "stream",
     "text": [
      "\rPROCESS: CountNews 80.400000 % ETA: 09:04:15"
     ]
    },
    {
     "name": "stdout",
     "output_type": "stream",
     "text": [
      "\rPROCESS: CountNews 80.400000 % ETA: 09:04:14"
     ]
    },
    {
     "name": "stdout",
     "output_type": "stream",
     "text": [
      "\rPROCESS: CountNews 80.400000 % ETA: 09:04:14"
     ]
    },
    {
     "name": "stdout",
     "output_type": "stream",
     "text": [
      "\rPROCESS: CountNews 80.500000 % ETA: 09:04:14"
     ]
    },
    {
     "name": "stdout",
     "output_type": "stream",
     "text": [
      "\rPROCESS: CountNews 80.500000 % ETA: 09:04:14"
     ]
    },
    {
     "name": "stdout",
     "output_type": "stream",
     "text": [
      "\rPROCESS: CountNews 80.600000 % ETA: 09:04:14"
     ]
    },
    {
     "name": "stdout",
     "output_type": "stream",
     "text": [
      "\rPROCESS: CountNews 80.600000 % ETA: 09:04:14"
     ]
    },
    {
     "name": "stdout",
     "output_type": "stream",
     "text": [
      "\rPROCESS: CountNews 80.700000 % ETA: 09:04:15"
     ]
    },
    {
     "name": "stdout",
     "output_type": "stream",
     "text": [
      "\rPROCESS: CountNews 80.700000 % ETA: 09:04:15"
     ]
    },
    {
     "name": "stdout",
     "output_type": "stream",
     "text": [
      "\rPROCESS: CountNews 80.700000 % ETA: 09:04:15"
     ]
    },
    {
     "name": "stdout",
     "output_type": "stream",
     "text": [
      "\rPROCESS: CountNews 80.800000 % ETA: 09:04:14"
     ]
    },
    {
     "name": "stdout",
     "output_type": "stream",
     "text": [
      "\rPROCESS: CountNews 80.800000 % ETA: 09:04:14"
     ]
    },
    {
     "name": "stdout",
     "output_type": "stream",
     "text": [
      "\rPROCESS: CountNews 80.900000 % ETA: 09:04:14"
     ]
    },
    {
     "name": "stdout",
     "output_type": "stream",
     "text": [
      "\rPROCESS: CountNews 80.900000 % ETA: 09:04:14"
     ]
    },
    {
     "name": "stdout",
     "output_type": "stream",
     "text": [
      "\rPROCESS: CountNews 81.000000 % ETA: 09:04:14"
     ]
    },
    {
     "name": "stdout",
     "output_type": "stream",
     "text": [
      "\rPROCESS: CountNews 81.000000 % ETA: 09:04:14"
     ]
    },
    {
     "name": "stdout",
     "output_type": "stream",
     "text": [
      "\rPROCESS: CountNews 81.000000 % ETA: 09:04:14"
     ]
    },
    {
     "name": "stdout",
     "output_type": "stream",
     "text": [
      "\rPROCESS: CountNews 81.100000 % ETA: 09:04:15"
     ]
    },
    {
     "name": "stdout",
     "output_type": "stream",
     "text": [
      "\rPROCESS: CountNews 81.100000 % ETA: 09:04:15"
     ]
    },
    {
     "name": "stdout",
     "output_type": "stream",
     "text": [
      "\rPROCESS: CountNews 81.200000 % ETA: 09:04:14"
     ]
    },
    {
     "name": "stdout",
     "output_type": "stream",
     "text": [
      "\rPROCESS: CountNews 81.200000 % ETA: 09:04:14"
     ]
    },
    {
     "name": "stdout",
     "output_type": "stream",
     "text": [
      "\rPROCESS: CountNews 81.300000 % ETA: 09:04:14"
     ]
    },
    {
     "name": "stdout",
     "output_type": "stream",
     "text": [
      "\rPROCESS: CountNews 81.300000 % ETA: 09:04:14"
     ]
    },
    {
     "name": "stdout",
     "output_type": "stream",
     "text": [
      "\rPROCESS: CountNews 81.400000 % ETA: 09:04:14"
     ]
    },
    {
     "name": "stdout",
     "output_type": "stream",
     "text": [
      "\rPROCESS: CountNews 81.400000 % ETA: 09:04:14"
     ]
    },
    {
     "name": "stdout",
     "output_type": "stream",
     "text": [
      "\rPROCESS: CountNews 81.400000 % ETA: 09:04:14"
     ]
    },
    {
     "name": "stdout",
     "output_type": "stream",
     "text": [
      "\rPROCESS: CountNews 81.500000 % ETA: 09:04:14"
     ]
    },
    {
     "name": "stdout",
     "output_type": "stream",
     "text": [
      "\rPROCESS: CountNews 81.500000 % ETA: 09:04:15"
     ]
    },
    {
     "name": "stdout",
     "output_type": "stream",
     "text": [
      "\rPROCESS: CountNews 81.600000 % ETA: 09:04:15"
     ]
    },
    {
     "name": "stdout",
     "output_type": "stream",
     "text": [
      "\rPROCESS: CountNews 81.600000 % ETA: 09:04:14"
     ]
    },
    {
     "name": "stdout",
     "output_type": "stream",
     "text": [
      "\rPROCESS: CountNews 81.700000 % ETA: 09:04:14"
     ]
    },
    {
     "name": "stdout",
     "output_type": "stream",
     "text": [
      "\rPROCESS: CountNews 81.700000 % ETA: 09:04:14"
     ]
    },
    {
     "name": "stdout",
     "output_type": "stream",
     "text": [
      "\rPROCESS: CountNews 81.700000 % ETA: 09:04:14"
     ]
    },
    {
     "name": "stdout",
     "output_type": "stream",
     "text": [
      "\rPROCESS: CountNews 81.800000 % ETA: 09:04:14"
     ]
    },
    {
     "name": "stdout",
     "output_type": "stream",
     "text": [
      "\rPROCESS: CountNews 81.800000 % ETA: 09:04:14"
     ]
    },
    {
     "name": "stdout",
     "output_type": "stream",
     "text": [
      "\rPROCESS: CountNews 81.900000 % ETA: 09:04:14"
     ]
    },
    {
     "name": "stdout",
     "output_type": "stream",
     "text": [
      "\rPROCESS: CountNews 81.900000 % ETA: 09:04:15"
     ]
    },
    {
     "name": "stdout",
     "output_type": "stream",
     "text": [
      "\rPROCESS: CountNews 82.000000 % ETA: 09:04:15"
     ]
    },
    {
     "name": "stdout",
     "output_type": "stream",
     "text": [
      "\rPROCESS: CountNews 82.000000 % ETA: 09:04:14"
     ]
    },
    {
     "name": "stdout",
     "output_type": "stream",
     "text": [
      "\rPROCESS: CountNews 82.000000 % ETA: 09:04:14"
     ]
    },
    {
     "name": "stdout",
     "output_type": "stream",
     "text": [
      "\rPROCESS: CountNews 82.100000 % ETA: 09:04:14"
     ]
    },
    {
     "name": "stdout",
     "output_type": "stream",
     "text": [
      "\rPROCESS: CountNews 82.100000 % ETA: 09:04:14"
     ]
    },
    {
     "name": "stdout",
     "output_type": "stream",
     "text": [
      "\rPROCESS: CountNews 82.200000 % ETA: 09:04:14"
     ]
    },
    {
     "name": "stdout",
     "output_type": "stream",
     "text": [
      "\rPROCESS: CountNews 82.200000 % ETA: 09:04:14"
     ]
    },
    {
     "name": "stdout",
     "output_type": "stream",
     "text": [
      "\rPROCESS: CountNews 82.300000 % ETA: 09:04:14"
     ]
    },
    {
     "name": "stdout",
     "output_type": "stream",
     "text": [
      "\rPROCESS: CountNews 82.300000 % ETA: 09:04:13"
     ]
    },
    {
     "name": "stdout",
     "output_type": "stream",
     "text": [
      "\rPROCESS: CountNews 82.300000 % ETA: 09:04:15"
     ]
    },
    {
     "name": "stdout",
     "output_type": "stream",
     "text": [
      "\rPROCESS: CountNews 82.400000 % ETA: 09:04:14"
     ]
    },
    {
     "name": "stdout",
     "output_type": "stream",
     "text": [
      "\rPROCESS: CountNews 82.400000 % ETA: 09:04:14"
     ]
    },
    {
     "name": "stdout",
     "output_type": "stream",
     "text": [
      "\rPROCESS: CountNews 82.500000 % ETA: 09:04:14"
     ]
    },
    {
     "name": "stdout",
     "output_type": "stream",
     "text": [
      "\rPROCESS: CountNews 82.500000 % ETA: 09:04:14"
     ]
    },
    {
     "name": "stdout",
     "output_type": "stream",
     "text": [
      "\rPROCESS: CountNews 82.600000 % ETA: 09:04:14"
     ]
    },
    {
     "name": "stdout",
     "output_type": "stream",
     "text": [
      "\rPROCESS: CountNews 82.600000 % ETA: 09:04:14"
     ]
    },
    {
     "name": "stdout",
     "output_type": "stream",
     "text": [
      "\rPROCESS: CountNews 82.600000 % ETA: 09:04:14"
     ]
    },
    {
     "name": "stdout",
     "output_type": "stream",
     "text": [
      "\rPROCESS: CountNews 82.700000 % ETA: 09:04:13"
     ]
    },
    {
     "name": "stdout",
     "output_type": "stream",
     "text": [
      "\rPROCESS: CountNews 82.700000 % ETA: 09:04:15"
     ]
    },
    {
     "name": "stdout",
     "output_type": "stream",
     "text": [
      "\rPROCESS: CountNews 82.800000 % ETA: 09:04:14"
     ]
    },
    {
     "name": "stdout",
     "output_type": "stream",
     "text": [
      "\rPROCESS: CountNews 82.800000 % ETA: 09:04:14"
     ]
    },
    {
     "name": "stdout",
     "output_type": "stream",
     "text": [
      "\rPROCESS: CountNews 82.900000 % ETA: 09:04:14"
     ]
    },
    {
     "name": "stdout",
     "output_type": "stream",
     "text": [
      "\rPROCESS: CountNews 82.900000 % ETA: 09:04:14"
     ]
    },
    {
     "name": "stdout",
     "output_type": "stream",
     "text": [
      "\rPROCESS: CountNews 83.000000 % ETA: 09:04:14"
     ]
    },
    {
     "name": "stdout",
     "output_type": "stream",
     "text": [
      "\rPROCESS: CountNews 83.000000 % ETA: 09:04:14"
     ]
    },
    {
     "name": "stdout",
     "output_type": "stream",
     "text": [
      "\rPROCESS: CountNews 83.000000 % ETA: 09:04:14"
     ]
    },
    {
     "name": "stdout",
     "output_type": "stream",
     "text": [
      "\rPROCESS: CountNews 83.100000 % ETA: 09:04:13"
     ]
    },
    {
     "name": "stdout",
     "output_type": "stream",
     "text": [
      "\rPROCESS: CountNews 83.100000 % ETA: 09:04:15"
     ]
    },
    {
     "name": "stdout",
     "output_type": "stream",
     "text": [
      "\rPROCESS: CountNews 83.200000 % ETA: 09:04:14"
     ]
    },
    {
     "name": "stdout",
     "output_type": "stream",
     "text": [
      "\rPROCESS: CountNews 83.200000 % ETA: 09:04:14"
     ]
    },
    {
     "name": "stdout",
     "output_type": "stream",
     "text": [
      "\rPROCESS: CountNews 83.300000 % ETA: 09:04:14"
     ]
    },
    {
     "name": "stdout",
     "output_type": "stream",
     "text": [
      "\rPROCESS: CountNews 83.300000 % ETA: 09:04:14"
     ]
    },
    {
     "name": "stdout",
     "output_type": "stream",
     "text": [
      "\rPROCESS: CountNews 83.300000 % ETA: 09:04:14"
     ]
    },
    {
     "name": "stdout",
     "output_type": "stream",
     "text": [
      "\rPROCESS: CountNews 83.400000 % ETA: 09:04:14"
     ]
    },
    {
     "name": "stdout",
     "output_type": "stream",
     "text": [
      "\rPROCESS: CountNews 83.400000 % ETA: 09:04:14"
     ]
    },
    {
     "name": "stdout",
     "output_type": "stream",
     "text": [
      "\rPROCESS: CountNews 83.500000 % ETA: 09:04:13"
     ]
    },
    {
     "name": "stdout",
     "output_type": "stream",
     "text": [
      "\rPROCESS: CountNews 83.500000 % ETA: 09:04:13"
     ]
    },
    {
     "name": "stdout",
     "output_type": "stream",
     "text": [
      "\rPROCESS: CountNews 83.600000 % ETA: 09:04:14"
     ]
    },
    {
     "name": "stdout",
     "output_type": "stream",
     "text": [
      "\rPROCESS: CountNews 83.600000 % ETA: 09:04:14"
     ]
    },
    {
     "name": "stdout",
     "output_type": "stream",
     "text": [
      "\rPROCESS: CountNews 83.600000 % ETA: 09:04:14"
     ]
    },
    {
     "name": "stdout",
     "output_type": "stream",
     "text": [
      "\rPROCESS: CountNews 83.700000 % ETA: 09:04:14"
     ]
    },
    {
     "name": "stdout",
     "output_type": "stream",
     "text": [
      "\rPROCESS: CountNews 83.700000 % ETA: 09:04:14"
     ]
    },
    {
     "name": "stdout",
     "output_type": "stream",
     "text": [
      "\rPROCESS: CountNews 83.800000 % ETA: 09:04:14"
     ]
    },
    {
     "name": "stdout",
     "output_type": "stream",
     "text": [
      "\rPROCESS: CountNews 83.800000 % ETA: 09:04:14"
     ]
    },
    {
     "name": "stdout",
     "output_type": "stream",
     "text": [
      "\rPROCESS: CountNews 83.900000 % ETA: 09:04:13"
     ]
    },
    {
     "name": "stdout",
     "output_type": "stream",
     "text": [
      "\rPROCESS: CountNews 83.900000 % ETA: 09:04:13"
     ]
    },
    {
     "name": "stdout",
     "output_type": "stream",
     "text": [
      "\rPROCESS: CountNews 83.900000 % ETA: 09:04:13"
     ]
    },
    {
     "name": "stdout",
     "output_type": "stream",
     "text": [
      "\rPROCESS: CountNews 84.000000 % ETA: 09:04:14"
     ]
    },
    {
     "name": "stdout",
     "output_type": "stream",
     "text": [
      "\rPROCESS: CountNews 84.000000 % ETA: 09:04:14"
     ]
    },
    {
     "name": "stdout",
     "output_type": "stream",
     "text": [
      "\rPROCESS: CountNews 84.100000 % ETA: 09:04:14"
     ]
    },
    {
     "name": "stdout",
     "output_type": "stream",
     "text": [
      "\rPROCESS: CountNews 84.100000 % ETA: 09:04:14"
     ]
    },
    {
     "name": "stdout",
     "output_type": "stream",
     "text": [
      "\rPROCESS: CountNews 84.200000 % ETA: 09:04:14"
     ]
    },
    {
     "name": "stdout",
     "output_type": "stream",
     "text": [
      "\rPROCESS: CountNews 84.200000 % ETA: 09:04:14"
     ]
    },
    {
     "name": "stdout",
     "output_type": "stream",
     "text": [
      "\rPROCESS: CountNews 84.200000 % ETA: 09:04:14"
     ]
    },
    {
     "name": "stdout",
     "output_type": "stream",
     "text": [
      "\rPROCESS: CountNews 84.300000 % ETA: 09:04:13"
     ]
    },
    {
     "name": "stdout",
     "output_type": "stream",
     "text": [
      "\rPROCESS: CountNews 84.300000 % ETA: 09:04:13"
     ]
    },
    {
     "name": "stdout",
     "output_type": "stream",
     "text": [
      "\rPROCESS: CountNews 84.400000 % ETA: 09:04:14"
     ]
    },
    {
     "name": "stdout",
     "output_type": "stream",
     "text": [
      "\rPROCESS: CountNews 84.400000 % ETA: 09:04:14"
     ]
    },
    {
     "name": "stdout",
     "output_type": "stream",
     "text": [
      "\rPROCESS: CountNews 84.500000 % ETA: 09:04:14"
     ]
    },
    {
     "name": "stdout",
     "output_type": "stream",
     "text": [
      "\rPROCESS: CountNews 84.500000 % ETA: 09:04:14"
     ]
    },
    {
     "name": "stdout",
     "output_type": "stream",
     "text": [
      "\rPROCESS: CountNews 84.600000 % ETA: 09:04:14"
     ]
    },
    {
     "name": "stdout",
     "output_type": "stream",
     "text": [
      "\rPROCESS: CountNews 84.600000 % ETA: 09:04:14"
     ]
    },
    {
     "name": "stdout",
     "output_type": "stream",
     "text": [
      "\rPROCESS: CountNews 84.600000 % ETA: 09:04:14"
     ]
    },
    {
     "name": "stdout",
     "output_type": "stream",
     "text": [
      "\rPROCESS: CountNews 84.700000 % ETA: 09:04:13"
     ]
    },
    {
     "name": "stdout",
     "output_type": "stream",
     "text": [
      "\rPROCESS: CountNews 84.700000 % ETA: 09:04:13"
     ]
    },
    {
     "name": "stdout",
     "output_type": "stream",
     "text": [
      "\rPROCESS: CountNews 84.800000 % ETA: 09:04:13"
     ]
    },
    {
     "name": "stdout",
     "output_type": "stream",
     "text": [
      "\rPROCESS: CountNews 84.800000 % ETA: 09:04:14"
     ]
    },
    {
     "name": "stdout",
     "output_type": "stream",
     "text": [
      "\rPROCESS: CountNews 84.900000 % ETA: 09:04:14"
     ]
    },
    {
     "name": "stdout",
     "output_type": "stream",
     "text": [
      "\rPROCESS: CountNews 84.900000 % ETA: 09:04:14"
     ]
    },
    {
     "name": "stdout",
     "output_type": "stream",
     "text": [
      "\rPROCESS: CountNews 84.900000 % ETA: 09:04:14"
     ]
    },
    {
     "name": "stdout",
     "output_type": "stream",
     "text": [
      "\rPROCESS: CountNews 85.000000 % ETA: 09:04:14"
     ]
    },
    {
     "name": "stdout",
     "output_type": "stream",
     "text": [
      "\rPROCESS: CountNews 85.000000 % ETA: 09:04:14"
     ]
    },
    {
     "name": "stdout",
     "output_type": "stream",
     "text": [
      "\rPROCESS: CountNews 85.100000 % ETA: 09:04:13"
     ]
    },
    {
     "name": "stdout",
     "output_type": "stream",
     "text": [
      "\rPROCESS: CountNews 85.100000 % ETA: 09:04:13"
     ]
    },
    {
     "name": "stdout",
     "output_type": "stream",
     "text": [
      "\rPROCESS: CountNews 85.200000 % ETA: 09:04:13"
     ]
    },
    {
     "name": "stdout",
     "output_type": "stream",
     "text": [
      "\rPROCESS: CountNews 85.200000 % ETA: 09:04:14"
     ]
    },
    {
     "name": "stdout",
     "output_type": "stream",
     "text": [
      "\rPROCESS: CountNews 85.200000 % ETA: 09:04:14"
     ]
    },
    {
     "name": "stdout",
     "output_type": "stream",
     "text": [
      "\rPROCESS: CountNews 85.300000 % ETA: 09:04:14"
     ]
    },
    {
     "name": "stdout",
     "output_type": "stream",
     "text": [
      "\rPROCESS: CountNews 85.300000 % ETA: 09:04:14"
     ]
    },
    {
     "name": "stdout",
     "output_type": "stream",
     "text": [
      "\rPROCESS: CountNews 85.400000 % ETA: 09:04:14"
     ]
    },
    {
     "name": "stdout",
     "output_type": "stream",
     "text": [
      "\rPROCESS: CountNews 85.400000 % ETA: 09:04:14"
     ]
    },
    {
     "name": "stdout",
     "output_type": "stream",
     "text": [
      "\rPROCESS: CountNews 85.500000 % ETA: 09:04:13"
     ]
    },
    {
     "name": "stdout",
     "output_type": "stream",
     "text": [
      "\rPROCESS: CountNews 85.500000 % ETA: 09:04:13"
     ]
    },
    {
     "name": "stdout",
     "output_type": "stream",
     "text": [
      "\rPROCESS: CountNews 85.500000 % ETA: 09:04:13"
     ]
    },
    {
     "name": "stdout",
     "output_type": "stream",
     "text": [
      "\rPROCESS: CountNews 85.600000 % ETA: 09:04:13"
     ]
    },
    {
     "name": "stdout",
     "output_type": "stream",
     "text": [
      "\rPROCESS: CountNews 85.600000 % ETA: 09:04:14"
     ]
    },
    {
     "name": "stdout",
     "output_type": "stream",
     "text": [
      "\rPROCESS: CountNews 85.700000 % ETA: 09:04:14"
     ]
    },
    {
     "name": "stdout",
     "output_type": "stream",
     "text": [
      "\rPROCESS: CountNews 85.700000 % ETA: 09:04:14"
     ]
    },
    {
     "name": "stdout",
     "output_type": "stream",
     "text": [
      "\rPROCESS: CountNews 85.800000 % ETA: 09:04:14"
     ]
    },
    {
     "name": "stdout",
     "output_type": "stream",
     "text": [
      "\rPROCESS: CountNews 85.800000 % ETA: 09:04:14"
     ]
    },
    {
     "name": "stdout",
     "output_type": "stream",
     "text": [
      "\rPROCESS: CountNews 85.900000 % ETA: 09:04:13"
     ]
    },
    {
     "name": "stdout",
     "output_type": "stream",
     "text": [
      "\rPROCESS: CountNews 85.900000 % ETA: 09:04:13"
     ]
    },
    {
     "name": "stdout",
     "output_type": "stream",
     "text": [
      "\rPROCESS: CountNews 85.900000 % ETA: 09:04:13"
     ]
    },
    {
     "name": "stdout",
     "output_type": "stream",
     "text": [
      "\rPROCESS: CountNews 86.000000 % ETA: 09:04:13"
     ]
    },
    {
     "name": "stdout",
     "output_type": "stream",
     "text": [
      "\rPROCESS: CountNews 86.000000 % ETA: 09:04:13"
     ]
    },
    {
     "name": "stdout",
     "output_type": "stream",
     "text": [
      "\rPROCESS: CountNews 86.100000 % ETA: 09:04:14"
     ]
    },
    {
     "name": "stdout",
     "output_type": "stream",
     "text": [
      "\rPROCESS: CountNews 86.100000 % ETA: 09:04:14"
     ]
    },
    {
     "name": "stdout",
     "output_type": "stream",
     "text": [
      "\rPROCESS: CountNews 86.200000 % ETA: 09:04:14"
     ]
    },
    {
     "name": "stdout",
     "output_type": "stream",
     "text": [
      "\rPROCESS: CountNews 86.200000 % ETA: 09:04:14"
     ]
    },
    {
     "name": "stdout",
     "output_type": "stream",
     "text": [
      "\rPROCESS: CountNews 86.200000 % ETA: 09:04:13"
     ]
    },
    {
     "name": "stdout",
     "output_type": "stream",
     "text": [
      "\rPROCESS: CountNews 86.300000 % ETA: 09:04:13"
     ]
    },
    {
     "name": "stdout",
     "output_type": "stream",
     "text": [
      "\rPROCESS: CountNews 86.300000 % ETA: 09:04:13"
     ]
    },
    {
     "name": "stdout",
     "output_type": "stream",
     "text": [
      "\rPROCESS: CountNews 86.400000 % ETA: 09:04:13"
     ]
    },
    {
     "name": "stdout",
     "output_type": "stream",
     "text": [
      "\rPROCESS: CountNews 86.400000 % ETA: 09:04:13"
     ]
    },
    {
     "name": "stdout",
     "output_type": "stream",
     "text": [
      "\rPROCESS: CountNews 86.500000 % ETA: 09:04:14"
     ]
    },
    {
     "name": "stdout",
     "output_type": "stream",
     "text": [
      "\rPROCESS: CountNews 86.500000 % ETA: 09:04:14"
     ]
    },
    {
     "name": "stdout",
     "output_type": "stream",
     "text": [
      "\rPROCESS: CountNews 86.500000 % ETA: 09:04:14"
     ]
    },
    {
     "name": "stdout",
     "output_type": "stream",
     "text": [
      "\rPROCESS: CountNews 86.600000 % ETA: 09:04:14"
     ]
    },
    {
     "name": "stdout",
     "output_type": "stream",
     "text": [
      "\rPROCESS: CountNews 86.600000 % ETA: 09:04:13"
     ]
    },
    {
     "name": "stdout",
     "output_type": "stream",
     "text": [
      "\rPROCESS: CountNews 86.700000 % ETA: 09:04:13"
     ]
    },
    {
     "name": "stdout",
     "output_type": "stream",
     "text": [
      "\rPROCESS: CountNews 86.700000 % ETA: 09:04:13"
     ]
    },
    {
     "name": "stdout",
     "output_type": "stream",
     "text": [
      "\rPROCESS: CountNews 86.800000 % ETA: 09:04:13"
     ]
    },
    {
     "name": "stdout",
     "output_type": "stream",
     "text": [
      "\rPROCESS: CountNews 86.800000 % ETA: 09:04:13"
     ]
    },
    {
     "name": "stdout",
     "output_type": "stream",
     "text": [
      "\rPROCESS: CountNews 86.800000 % ETA: 09:04:14"
     ]
    },
    {
     "name": "stdout",
     "output_type": "stream",
     "text": [
      "\rPROCESS: CountNews 86.900000 % ETA: 09:04:14"
     ]
    },
    {
     "name": "stdout",
     "output_type": "stream",
     "text": [
      "\rPROCESS: CountNews 86.900000 % ETA: 09:04:14"
     ]
    },
    {
     "name": "stdout",
     "output_type": "stream",
     "text": [
      "\rPROCESS: CountNews 87.000000 % ETA: 09:04:14"
     ]
    },
    {
     "name": "stdout",
     "output_type": "stream",
     "text": [
      "\rPROCESS: CountNews 87.000000 % ETA: 09:04:13"
     ]
    },
    {
     "name": "stdout",
     "output_type": "stream",
     "text": [
      "\rPROCESS: CountNews 87.100000 % ETA: 09:04:13"
     ]
    },
    {
     "name": "stdout",
     "output_type": "stream",
     "text": [
      "\rPROCESS: CountNews 87.100000 % ETA: 09:04:13"
     ]
    },
    {
     "name": "stdout",
     "output_type": "stream",
     "text": [
      "\rPROCESS: CountNews 87.100000 % ETA: 09:04:13"
     ]
    },
    {
     "name": "stdout",
     "output_type": "stream",
     "text": [
      "\rPROCESS: CountNews 87.200000 % ETA: 09:04:13"
     ]
    },
    {
     "name": "stdout",
     "output_type": "stream",
     "text": [
      "\rPROCESS: CountNews 87.200000 % ETA: 09:04:13"
     ]
    },
    {
     "name": "stdout",
     "output_type": "stream",
     "text": [
      "\rPROCESS: CountNews 87.300000 % ETA: 09:04:14"
     ]
    },
    {
     "name": "stdout",
     "output_type": "stream",
     "text": [
      "\rPROCESS: CountNews 87.300000 % ETA: 09:04:14"
     ]
    },
    {
     "name": "stdout",
     "output_type": "stream",
     "text": [
      "\rPROCESS: CountNews 87.400000 % ETA: 09:04:14"
     ]
    },
    {
     "name": "stdout",
     "output_type": "stream",
     "text": [
      "\rPROCESS: CountNews 87.400000 % ETA: 09:04:13"
     ]
    },
    {
     "name": "stdout",
     "output_type": "stream",
     "text": [
      "\rPROCESS: CountNews 87.500000 % ETA: 09:04:13"
     ]
    },
    {
     "name": "stdout",
     "output_type": "stream",
     "text": [
      "\rPROCESS: CountNews 87.500000 % ETA: 09:04:13"
     ]
    },
    {
     "name": "stdout",
     "output_type": "stream",
     "text": [
      "\rPROCESS: CountNews 87.500000 % ETA: 09:04:13"
     ]
    },
    {
     "name": "stdout",
     "output_type": "stream",
     "text": [
      "\rPROCESS: CountNews 87.600000 % ETA: 09:04:13"
     ]
    },
    {
     "name": "stdout",
     "output_type": "stream",
     "text": [
      "\rPROCESS: CountNews 87.600000 % ETA: 09:04:13"
     ]
    },
    {
     "name": "stdout",
     "output_type": "stream",
     "text": [
      "\rPROCESS: CountNews 87.700000 % ETA: 09:04:13"
     ]
    },
    {
     "name": "stdout",
     "output_type": "stream",
     "text": [
      "\rPROCESS: CountNews 87.700000 % ETA: 09:04:14"
     ]
    },
    {
     "name": "stdout",
     "output_type": "stream",
     "text": [
      "\rPROCESS: CountNews 87.800000 % ETA: 09:04:14"
     ]
    },
    {
     "name": "stdout",
     "output_type": "stream",
     "text": [
      "\rPROCESS: CountNews 87.800000 % ETA: 09:04:13"
     ]
    },
    {
     "name": "stdout",
     "output_type": "stream",
     "text": [
      "\rPROCESS: CountNews 87.800000 % ETA: 09:04:13"
     ]
    },
    {
     "name": "stdout",
     "output_type": "stream",
     "text": [
      "\rPROCESS: CountNews 87.900000 % ETA: 09:04:13"
     ]
    },
    {
     "name": "stdout",
     "output_type": "stream",
     "text": [
      "\rPROCESS: CountNews 87.900000 % ETA: 09:04:13"
     ]
    },
    {
     "name": "stdout",
     "output_type": "stream",
     "text": [
      "\rPROCESS: CountNews 88.000000 % ETA: 09:04:13"
     ]
    },
    {
     "name": "stdout",
     "output_type": "stream",
     "text": [
      "\rPROCESS: CountNews 88.000000 % ETA: 09:04:13"
     ]
    },
    {
     "name": "stdout",
     "output_type": "stream",
     "text": [
      "\rPROCESS: CountNews 88.100000 % ETA: 09:04:13"
     ]
    },
    {
     "name": "stdout",
     "output_type": "stream",
     "text": [
      "\rPROCESS: CountNews 88.100000 % ETA: 09:04:13"
     ]
    },
    {
     "name": "stdout",
     "output_type": "stream",
     "text": [
      "\rPROCESS: CountNews 88.100000 % ETA: 09:04:14"
     ]
    },
    {
     "name": "stdout",
     "output_type": "stream",
     "text": [
      "\rPROCESS: CountNews 88.200000 % ETA: 09:04:14"
     ]
    },
    {
     "name": "stdout",
     "output_type": "stream",
     "text": [
      "\rPROCESS: CountNews 88.200000 % ETA: 09:04:13"
     ]
    },
    {
     "name": "stdout",
     "output_type": "stream",
     "text": [
      "\rPROCESS: CountNews 88.300000 % ETA: 09:04:13"
     ]
    },
    {
     "name": "stdout",
     "output_type": "stream",
     "text": [
      "\rPROCESS: CountNews 88.300000 % ETA: 09:04:13"
     ]
    },
    {
     "name": "stdout",
     "output_type": "stream",
     "text": [
      "\rPROCESS: CountNews 88.400000 % ETA: 09:04:13"
     ]
    },
    {
     "name": "stdout",
     "output_type": "stream",
     "text": [
      "\rPROCESS: CountNews 88.400000 % ETA: 09:04:13"
     ]
    },
    {
     "name": "stdout",
     "output_type": "stream",
     "text": [
      "\rPROCESS: CountNews 88.400000 % ETA: 09:04:13"
     ]
    },
    {
     "name": "stdout",
     "output_type": "stream",
     "text": [
      "\rPROCESS: CountNews 88.500000 % ETA: 09:04:13"
     ]
    },
    {
     "name": "stdout",
     "output_type": "stream",
     "text": [
      "\rPROCESS: CountNews 88.500000 % ETA: 09:04:14"
     ]
    },
    {
     "name": "stdout",
     "output_type": "stream",
     "text": [
      "\rPROCESS: CountNews 88.600000 % ETA: 09:04:14"
     ]
    },
    {
     "name": "stdout",
     "output_type": "stream",
     "text": [
      "\rPROCESS: CountNews 88.600000 % ETA: 09:04:13"
     ]
    },
    {
     "name": "stdout",
     "output_type": "stream",
     "text": [
      "\rPROCESS: CountNews 88.700000 % ETA: 09:04:13"
     ]
    },
    {
     "name": "stdout",
     "output_type": "stream",
     "text": [
      "\rPROCESS: CountNews 88.700000 % ETA: 09:04:13"
     ]
    },
    {
     "name": "stdout",
     "output_type": "stream",
     "text": [
      "\rPROCESS: CountNews 88.700000 % ETA: 09:04:13"
     ]
    },
    {
     "name": "stdout",
     "output_type": "stream",
     "text": [
      "\rPROCESS: CountNews 88.800000 % ETA: 09:04:13"
     ]
    },
    {
     "name": "stdout",
     "output_type": "stream",
     "text": [
      "\rPROCESS: CountNews 88.800000 % ETA: 09:04:13"
     ]
    },
    {
     "name": "stdout",
     "output_type": "stream",
     "text": [
      "\rPROCESS: CountNews 88.900000 % ETA: 09:04:13"
     ]
    },
    {
     "name": "stdout",
     "output_type": "stream",
     "text": [
      "\rPROCESS: CountNews 88.900000 % ETA: 09:04:13"
     ]
    },
    {
     "name": "stdout",
     "output_type": "stream",
     "text": [
      "\rPROCESS: CountNews 89.000000 % ETA: 09:04:14"
     ]
    },
    {
     "name": "stdout",
     "output_type": "stream",
     "text": [
      "\rPROCESS: CountNews 89.000000 % ETA: 09:04:13"
     ]
    },
    {
     "name": "stdout",
     "output_type": "stream",
     "text": [
      "\rPROCESS: CountNews 89.100000 % ETA: 09:04:13"
     ]
    },
    {
     "name": "stdout",
     "output_type": "stream",
     "text": [
      "\rPROCESS: CountNews 89.100000 % ETA: 09:04:13"
     ]
    },
    {
     "name": "stdout",
     "output_type": "stream",
     "text": [
      "\rPROCESS: CountNews 89.100000 % ETA: 09:04:13"
     ]
    },
    {
     "name": "stdout",
     "output_type": "stream",
     "text": [
      "\rPROCESS: CountNews 89.200000 % ETA: 09:04:13"
     ]
    },
    {
     "name": "stdout",
     "output_type": "stream",
     "text": [
      "\rPROCESS: CountNews 89.200000 % ETA: 09:04:13"
     ]
    },
    {
     "name": "stdout",
     "output_type": "stream",
     "text": [
      "\rPROCESS: CountNews 89.300000 % ETA: 09:04:13"
     ]
    },
    {
     "name": "stdout",
     "output_type": "stream",
     "text": [
      "\rPROCESS: CountNews 89.300000 % ETA: 09:04:13"
     ]
    },
    {
     "name": "stdout",
     "output_type": "stream",
     "text": [
      "\rPROCESS: CountNews 89.400000 % ETA: 09:04:14"
     ]
    },
    {
     "name": "stdout",
     "output_type": "stream",
     "text": [
      "\rPROCESS: CountNews 89.400000 % ETA: 09:04:13"
     ]
    },
    {
     "name": "stdout",
     "output_type": "stream",
     "text": [
      "\rPROCESS: CountNews 89.400000 % ETA: 09:04:13"
     ]
    },
    {
     "name": "stdout",
     "output_type": "stream",
     "text": [
      "\rPROCESS: CountNews 89.500000 % ETA: 09:04:13"
     ]
    },
    {
     "name": "stdout",
     "output_type": "stream",
     "text": [
      "\rPROCESS: CountNews 89.500000 % ETA: 09:04:13"
     ]
    },
    {
     "name": "stdout",
     "output_type": "stream",
     "text": [
      "\rPROCESS: CountNews 89.600000 % ETA: 09:04:13"
     ]
    },
    {
     "name": "stdout",
     "output_type": "stream",
     "text": [
      "\rPROCESS: CountNews 89.600000 % ETA: 09:04:13"
     ]
    },
    {
     "name": "stdout",
     "output_type": "stream",
     "text": [
      "\rPROCESS: CountNews 89.700000 % ETA: 09:04:13"
     ]
    },
    {
     "name": "stdout",
     "output_type": "stream",
     "text": [
      "\rPROCESS: CountNews 89.700000 % ETA: 09:04:13"
     ]
    },
    {
     "name": "stdout",
     "output_type": "stream",
     "text": [
      "\rPROCESS: CountNews 89.700000 % ETA: 09:04:12"
     ]
    },
    {
     "name": "stdout",
     "output_type": "stream",
     "text": [
      "\rPROCESS: CountNews 89.800000 % ETA: 09:04:13"
     ]
    },
    {
     "name": "stdout",
     "output_type": "stream",
     "text": [
      "\rPROCESS: CountNews 89.800000 % ETA: 09:04:13"
     ]
    },
    {
     "name": "stdout",
     "output_type": "stream",
     "text": [
      "\rPROCESS: CountNews 89.900000 % ETA: 09:04:13"
     ]
    },
    {
     "name": "stdout",
     "output_type": "stream",
     "text": [
      "\rPROCESS: CountNews 89.900000 % ETA: 09:04:13"
     ]
    },
    {
     "name": "stdout",
     "output_type": "stream",
     "text": [
      "\rPROCESS: CountNews 90.000000 % ETA: 09:04:13"
     ]
    },
    {
     "name": "stdout",
     "output_type": "stream",
     "text": [
      "\rPROCESS: CountNews 90.000000 % ETA: 09:04:13"
     ]
    },
    {
     "name": "stdout",
     "output_type": "stream",
     "text": [
      "\rPROCESS: CountNews 90.000000 % ETA: 09:04:13"
     ]
    },
    {
     "name": "stdout",
     "output_type": "stream",
     "text": [
      "\rPROCESS: CountNews 90.100000 % ETA: 09:04:13"
     ]
    },
    {
     "name": "stdout",
     "output_type": "stream",
     "text": [
      "\rPROCESS: CountNews 90.100000 % ETA: 09:04:12"
     ]
    },
    {
     "name": "stdout",
     "output_type": "stream",
     "text": [
      "\rPROCESS: CountNews 90.200000 % ETA: 09:04:12"
     ]
    },
    {
     "name": "stdout",
     "output_type": "stream",
     "text": [
      "\rPROCESS: CountNews 90.200000 % ETA: 09:04:13"
     ]
    },
    {
     "name": "stdout",
     "output_type": "stream",
     "text": [
      "\rPROCESS: CountNews 90.300000 % ETA: 09:04:13"
     ]
    },
    {
     "name": "stdout",
     "output_type": "stream",
     "text": [
      "\rPROCESS: CountNews 90.300000 % ETA: 09:04:13"
     ]
    },
    {
     "name": "stdout",
     "output_type": "stream",
     "text": [
      "\rPROCESS: CountNews 90.400000 % ETA: 09:04:13"
     ]
    },
    {
     "name": "stdout",
     "output_type": "stream",
     "text": [
      "\rPROCESS: CountNews 90.400000 % ETA: 09:04:13"
     ]
    },
    {
     "name": "stdout",
     "output_type": "stream",
     "text": [
      "\rPROCESS: CountNews 90.400000 % ETA: 09:04:13"
     ]
    },
    {
     "name": "stdout",
     "output_type": "stream",
     "text": [
      "\rPROCESS: CountNews 90.500000 % ETA: 09:04:13"
     ]
    },
    {
     "name": "stdout",
     "output_type": "stream",
     "text": [
      "\rPROCESS: CountNews 90.500000 % ETA: 09:04:12"
     ]
    },
    {
     "name": "stdout",
     "output_type": "stream",
     "text": [
      "\rPROCESS: CountNews 90.600000 % ETA: 09:04:12"
     ]
    },
    {
     "name": "stdout",
     "output_type": "stream",
     "text": [
      "\rPROCESS: CountNews 90.600000 % ETA: 09:04:13"
     ]
    },
    {
     "name": "stdout",
     "output_type": "stream",
     "text": [
      "\rPROCESS: CountNews 90.700000 % ETA: 09:04:13"
     ]
    },
    {
     "name": "stdout",
     "output_type": "stream",
     "text": [
      "\rPROCESS: CountNews 90.700000 % ETA: 09:04:13"
     ]
    },
    {
     "name": "stdout",
     "output_type": "stream",
     "text": [
      "\rPROCESS: CountNews 90.700000 % ETA: 09:04:13"
     ]
    },
    {
     "name": "stdout",
     "output_type": "stream",
     "text": [
      "\rPROCESS: CountNews 90.800000 % ETA: 09:04:13"
     ]
    },
    {
     "name": "stdout",
     "output_type": "stream",
     "text": [
      "\rPROCESS: CountNews 90.800000 % ETA: 09:04:13"
     ]
    },
    {
     "name": "stdout",
     "output_type": "stream",
     "text": [
      "\rPROCESS: CountNews 90.900000 % ETA: 09:04:13"
     ]
    },
    {
     "name": "stdout",
     "output_type": "stream",
     "text": [
      "\rPROCESS: CountNews 90.900000 % ETA: 09:04:12"
     ]
    },
    {
     "name": "stdout",
     "output_type": "stream",
     "text": [
      "\rPROCESS: CountNews 91.000000 % ETA: 09:04:12"
     ]
    },
    {
     "name": "stdout",
     "output_type": "stream",
     "text": [
      "\rPROCESS: CountNews 91.000000 % ETA: 09:04:12"
     ]
    },
    {
     "name": "stdout",
     "output_type": "stream",
     "text": [
      "\rPROCESS: CountNews 91.000000 % ETA: 09:04:13"
     ]
    },
    {
     "name": "stdout",
     "output_type": "stream",
     "text": [
      "\rPROCESS: CountNews 91.100000 % ETA: 09:04:13"
     ]
    },
    {
     "name": "stdout",
     "output_type": "stream",
     "text": [
      "\rPROCESS: CountNews 91.100000 % ETA: 09:04:13"
     ]
    },
    {
     "name": "stdout",
     "output_type": "stream",
     "text": [
      "\rPROCESS: CountNews 91.200000 % ETA: 09:04:13"
     ]
    },
    {
     "name": "stdout",
     "output_type": "stream",
     "text": [
      "\rPROCESS: CountNews 91.200000 % ETA: 09:04:13"
     ]
    },
    {
     "name": "stdout",
     "output_type": "stream",
     "text": [
      "\rPROCESS: CountNews 91.300000 % ETA: 09:04:13"
     ]
    },
    {
     "name": "stdout",
     "output_type": "stream",
     "text": [
      "\rPROCESS: CountNews 91.300000 % ETA: 09:04:13"
     ]
    },
    {
     "name": "stdout",
     "output_type": "stream",
     "text": [
      "\rPROCESS: CountNews 91.300000 % ETA: 09:04:12"
     ]
    },
    {
     "name": "stdout",
     "output_type": "stream",
     "text": [
      "\rPROCESS: CountNews 91.400000 % ETA: 09:04:12"
     ]
    },
    {
     "name": "stdout",
     "output_type": "stream",
     "text": [
      "\rPROCESS: CountNews 91.400000 % ETA: 09:04:13"
     ]
    },
    {
     "name": "stdout",
     "output_type": "stream",
     "text": [
      "\rPROCESS: CountNews 91.500000 % ETA: 09:04:13"
     ]
    },
    {
     "name": "stdout",
     "output_type": "stream",
     "text": [
      "\rPROCESS: CountNews 91.500000 % ETA: 09:04:13"
     ]
    },
    {
     "name": "stdout",
     "output_type": "stream",
     "text": [
      "\rPROCESS: CountNews 91.600000 % ETA: 09:04:13"
     ]
    },
    {
     "name": "stdout",
     "output_type": "stream",
     "text": [
      "\rPROCESS: CountNews 91.600000 % ETA: 09:04:13"
     ]
    },
    {
     "name": "stdout",
     "output_type": "stream",
     "text": [
      "\rPROCESS: CountNews 91.600000 % ETA: 09:04:13"
     ]
    },
    {
     "name": "stdout",
     "output_type": "stream",
     "text": [
      "\rPROCESS: CountNews 91.700000 % ETA: 09:04:13"
     ]
    },
    {
     "name": "stdout",
     "output_type": "stream",
     "text": [
      "\rPROCESS: CountNews 91.700000 % ETA: 09:04:12"
     ]
    },
    {
     "name": "stdout",
     "output_type": "stream",
     "text": [
      "\rPROCESS: CountNews 91.800000 % ETA: 09:04:12"
     ]
    },
    {
     "name": "stdout",
     "output_type": "stream",
     "text": [
      "\rPROCESS: CountNews 91.800000 % ETA: 09:04:12"
     ]
    },
    {
     "name": "stdout",
     "output_type": "stream",
     "text": [
      "\rPROCESS: CountNews 91.900000 % ETA: 09:04:13"
     ]
    },
    {
     "name": "stdout",
     "output_type": "stream",
     "text": [
      "\rPROCESS: CountNews 91.900000 % ETA: 09:04:13"
     ]
    },
    {
     "name": "stdout",
     "output_type": "stream",
     "text": [
      "\rPROCESS: CountNews 92.000000 % ETA: 09:04:13"
     ]
    },
    {
     "name": "stdout",
     "output_type": "stream",
     "text": [
      "\rPROCESS: CountNews 92.000000 % ETA: 09:04:13"
     ]
    },
    {
     "name": "stdout",
     "output_type": "stream",
     "text": [
      "\rPROCESS: CountNews 92.000000 % ETA: 09:04:13"
     ]
    },
    {
     "name": "stdout",
     "output_type": "stream",
     "text": [
      "\rPROCESS: CountNews 92.100000 % ETA: 09:04:13"
     ]
    },
    {
     "name": "stdout",
     "output_type": "stream",
     "text": [
      "\rPROCESS: CountNews 92.100000 % ETA: 09:04:12"
     ]
    },
    {
     "name": "stdout",
     "output_type": "stream",
     "text": [
      "\rPROCESS: CountNews 92.200000 % ETA: 09:04:12"
     ]
    },
    {
     "name": "stdout",
     "output_type": "stream",
     "text": [
      "\rPROCESS: CountNews 92.200000 % ETA: 09:04:12"
     ]
    },
    {
     "name": "stdout",
     "output_type": "stream",
     "text": [
      "\rPROCESS: CountNews 92.300000 % ETA: 09:04:12"
     ]
    },
    {
     "name": "stdout",
     "output_type": "stream",
     "text": [
      "\rPROCESS: CountNews 92.300000 % ETA: 09:04:13"
     ]
    },
    {
     "name": "stdout",
     "output_type": "stream",
     "text": [
      "\rPROCESS: CountNews 92.300000 % ETA: 09:04:13"
     ]
    },
    {
     "name": "stdout",
     "output_type": "stream",
     "text": [
      "\rPROCESS: CountNews 92.400000 % ETA: 09:04:13"
     ]
    },
    {
     "name": "stdout",
     "output_type": "stream",
     "text": [
      "\rPROCESS: CountNews 92.400000 % ETA: 09:04:13"
     ]
    },
    {
     "name": "stdout",
     "output_type": "stream",
     "text": [
      "\rPROCESS: CountNews 92.500000 % ETA: 09:04:13"
     ]
    },
    {
     "name": "stdout",
     "output_type": "stream",
     "text": [
      "\rPROCESS: CountNews 92.500000 % ETA: 09:04:12"
     ]
    },
    {
     "name": "stdout",
     "output_type": "stream",
     "text": [
      "\rPROCESS: CountNews 92.600000 % ETA: 09:04:12"
     ]
    },
    {
     "name": "stdout",
     "output_type": "stream",
     "text": [
      "\rPROCESS: CountNews 92.600000 % ETA: 09:04:12"
     ]
    },
    {
     "name": "stdout",
     "output_type": "stream",
     "text": [
      "\rPROCESS: CountNews 92.600000 % ETA: 09:04:12"
     ]
    },
    {
     "name": "stdout",
     "output_type": "stream",
     "text": [
      "\rPROCESS: CountNews 92.700000 % ETA: 09:04:13"
     ]
    },
    {
     "name": "stdout",
     "output_type": "stream",
     "text": [
      "\rPROCESS: CountNews 92.700000 % ETA: 09:04:13"
     ]
    },
    {
     "name": "stdout",
     "output_type": "stream",
     "text": [
      "\rPROCESS: CountNews 92.800000 % ETA: 09:04:13"
     ]
    },
    {
     "name": "stdout",
     "output_type": "stream",
     "text": [
      "\rPROCESS: CountNews 92.800000 % ETA: 09:04:13"
     ]
    },
    {
     "name": "stdout",
     "output_type": "stream",
     "text": [
      "\rPROCESS: CountNews 92.900000 % ETA: 09:04:13"
     ]
    },
    {
     "name": "stdout",
     "output_type": "stream",
     "text": [
      "\rPROCESS: CountNews 92.900000 % ETA: 09:04:12"
     ]
    },
    {
     "name": "stdout",
     "output_type": "stream",
     "text": [
      "\rPROCESS: CountNews 92.900000 % ETA: 09:04:12"
     ]
    },
    {
     "name": "stdout",
     "output_type": "stream",
     "text": [
      "\rPROCESS: CountNews 93.000000 % ETA: 09:04:12"
     ]
    },
    {
     "name": "stdout",
     "output_type": "stream",
     "text": [
      "\rPROCESS: CountNews 93.000000 % ETA: 09:04:12"
     ]
    },
    {
     "name": "stdout",
     "output_type": "stream",
     "text": [
      "\rPROCESS: CountNews 93.100000 % ETA: 09:04:12"
     ]
    },
    {
     "name": "stdout",
     "output_type": "stream",
     "text": [
      "\rPROCESS: CountNews 93.100000 % ETA: 09:04:13"
     ]
    },
    {
     "name": "stdout",
     "output_type": "stream",
     "text": [
      "\rPROCESS: CountNews 93.200000 % ETA: 09:04:13"
     ]
    },
    {
     "name": "stdout",
     "output_type": "stream",
     "text": [
      "\rPROCESS: CountNews 93.200000 % ETA: 09:04:13"
     ]
    },
    {
     "name": "stdout",
     "output_type": "stream",
     "text": [
      "\rPROCESS: CountNews 93.200000 % ETA: 09:04:13"
     ]
    },
    {
     "name": "stdout",
     "output_type": "stream",
     "text": [
      "\rPROCESS: CountNews 93.300000 % ETA: 09:04:12"
     ]
    },
    {
     "name": "stdout",
     "output_type": "stream",
     "text": [
      "\rPROCESS: CountNews 93.300000 % ETA: 09:04:12"
     ]
    },
    {
     "name": "stdout",
     "output_type": "stream",
     "text": [
      "\rPROCESS: CountNews 93.400000 % ETA: 09:04:12"
     ]
    },
    {
     "name": "stdout",
     "output_type": "stream",
     "text": [
      "\rPROCESS: CountNews 93.400000 % ETA: 09:04:12"
     ]
    },
    {
     "name": "stdout",
     "output_type": "stream",
     "text": [
      "\rPROCESS: CountNews 93.500000 % ETA: 09:04:12"
     ]
    },
    {
     "name": "stdout",
     "output_type": "stream",
     "text": [
      "\rPROCESS: CountNews 93.500000 % ETA: 09:04:13"
     ]
    },
    {
     "name": "stdout",
     "output_type": "stream",
     "text": [
      "\rPROCESS: CountNews 93.600000 % ETA: 09:04:13"
     ]
    },
    {
     "name": "stdout",
     "output_type": "stream",
     "text": [
      "\rPROCESS: CountNews 93.600000 % ETA: 09:04:13"
     ]
    },
    {
     "name": "stdout",
     "output_type": "stream",
     "text": [
      "\rPROCESS: CountNews 93.600000 % ETA: 09:04:13"
     ]
    },
    {
     "name": "stdout",
     "output_type": "stream",
     "text": [
      "\rPROCESS: CountNews 93.700000 % ETA: 09:04:12"
     ]
    },
    {
     "name": "stdout",
     "output_type": "stream",
     "text": [
      "\rPROCESS: CountNews 93.700000 % ETA: 09:04:12"
     ]
    },
    {
     "name": "stdout",
     "output_type": "stream",
     "text": [
      "\rPROCESS: CountNews 93.800000 % ETA: 09:04:12"
     ]
    },
    {
     "name": "stdout",
     "output_type": "stream",
     "text": [
      "\rPROCESS: CountNews 93.800000 % ETA: 09:04:12"
     ]
    },
    {
     "name": "stdout",
     "output_type": "stream",
     "text": [
      "\rPROCESS: CountNews 93.900000 % ETA: 09:04:12"
     ]
    },
    {
     "name": "stdout",
     "output_type": "stream",
     "text": [
      "\rPROCESS: CountNews 93.900000 % ETA: 09:04:12"
     ]
    },
    {
     "name": "stdout",
     "output_type": "stream",
     "text": [
      "\rPROCESS: CountNews 93.900000 % ETA: 09:04:13"
     ]
    },
    {
     "name": "stdout",
     "output_type": "stream",
     "text": [
      "\rPROCESS: CountNews 94.000000 % ETA: 09:04:13"
     ]
    },
    {
     "name": "stdout",
     "output_type": "stream",
     "text": [
      "\rPROCESS: CountNews 94.000000 % ETA: 09:04:13"
     ]
    },
    {
     "name": "stdout",
     "output_type": "stream",
     "text": [
      "\rPROCESS: CountNews 94.100000 % ETA: 09:04:12"
     ]
    },
    {
     "name": "stdout",
     "output_type": "stream",
     "text": [
      "\rPROCESS: CountNews 94.100000 % ETA: 09:04:12"
     ]
    },
    {
     "name": "stdout",
     "output_type": "stream",
     "text": [
      "\rPROCESS: CountNews 94.200000 % ETA: 09:04:12"
     ]
    },
    {
     "name": "stdout",
     "output_type": "stream",
     "text": [
      "\rPROCESS: CountNews 94.200000 % ETA: 09:04:12"
     ]
    },
    {
     "name": "stdout",
     "output_type": "stream",
     "text": [
      "\rPROCESS: CountNews 94.200000 % ETA: 09:04:12"
     ]
    },
    {
     "name": "stdout",
     "output_type": "stream",
     "text": [
      "\rPROCESS: CountNews 94.300000 % ETA: 09:04:12"
     ]
    },
    {
     "name": "stdout",
     "output_type": "stream",
     "text": [
      "\rPROCESS: CountNews 94.300000 % ETA: 09:04:12"
     ]
    },
    {
     "name": "stdout",
     "output_type": "stream",
     "text": [
      "\rPROCESS: CountNews 94.400000 % ETA: 09:04:13"
     ]
    },
    {
     "name": "stdout",
     "output_type": "stream",
     "text": [
      "\rPROCESS: CountNews 94.400000 % ETA: 09:04:13"
     ]
    },
    {
     "name": "stdout",
     "output_type": "stream",
     "text": [
      "\rPROCESS: CountNews 94.500000 % ETA: 09:04:13"
     ]
    },
    {
     "name": "stdout",
     "output_type": "stream",
     "text": [
      "\rPROCESS: CountNews 94.500000 % ETA: 09:04:12"
     ]
    },
    {
     "name": "stdout",
     "output_type": "stream",
     "text": [
      "\rPROCESS: CountNews 94.500000 % ETA: 09:04:12"
     ]
    },
    {
     "name": "stdout",
     "output_type": "stream",
     "text": [
      "\rPROCESS: CountNews 94.600000 % ETA: 09:04:12"
     ]
    },
    {
     "name": "stdout",
     "output_type": "stream",
     "text": [
      "\rPROCESS: CountNews 94.600000 % ETA: 09:04:12"
     ]
    },
    {
     "name": "stdout",
     "output_type": "stream",
     "text": [
      "\rPROCESS: CountNews 94.700000 % ETA: 09:04:12"
     ]
    },
    {
     "name": "stdout",
     "output_type": "stream",
     "text": [
      "\rPROCESS: CountNews 94.700000 % ETA: 09:04:12"
     ]
    },
    {
     "name": "stdout",
     "output_type": "stream",
     "text": [
      "\rPROCESS: CountNews 94.800000 % ETA: 09:04:13"
     ]
    },
    {
     "name": "stdout",
     "output_type": "stream",
     "text": [
      "\rPROCESS: CountNews 94.800000 % ETA: 09:04:13"
     ]
    },
    {
     "name": "stdout",
     "output_type": "stream",
     "text": [
      "\rPROCESS: CountNews 94.900000 % ETA: 09:04:13"
     ]
    },
    {
     "name": "stdout",
     "output_type": "stream",
     "text": [
      "\rPROCESS: CountNews 94.900000 % ETA: 09:04:12"
     ]
    },
    {
     "name": "stdout",
     "output_type": "stream",
     "text": [
      "\rPROCESS: CountNews 94.900000 % ETA: 09:04:12"
     ]
    },
    {
     "name": "stdout",
     "output_type": "stream",
     "text": [
      "\rPROCESS: CountNews 95.000000 % ETA: 09:04:12"
     ]
    },
    {
     "name": "stdout",
     "output_type": "stream",
     "text": [
      "\rPROCESS: CountNews 95.000000 % ETA: 09:04:12"
     ]
    },
    {
     "name": "stdout",
     "output_type": "stream",
     "text": [
      "\rPROCESS: CountNews 95.100000 % ETA: 09:04:12"
     ]
    },
    {
     "name": "stdout",
     "output_type": "stream",
     "text": [
      "\rPROCESS: CountNews 95.100000 % ETA: 09:04:13"
     ]
    },
    {
     "name": "stdout",
     "output_type": "stream",
     "text": [
      "\rPROCESS: CountNews 95.200000 % ETA: 09:04:13"
     ]
    },
    {
     "name": "stdout",
     "output_type": "stream",
     "text": [
      "\rPROCESS: CountNews 95.200000 % ETA: 09:04:13"
     ]
    },
    {
     "name": "stdout",
     "output_type": "stream",
     "text": [
      "\rPROCESS: CountNews 95.200000 % ETA: 09:04:13"
     ]
    },
    {
     "name": "stdout",
     "output_type": "stream",
     "text": [
      "\rPROCESS: CountNews 95.300000 % ETA: 09:04:12"
     ]
    },
    {
     "name": "stdout",
     "output_type": "stream",
     "text": [
      "\rPROCESS: CountNews 95.300000 % ETA: 09:04:12"
     ]
    },
    {
     "name": "stdout",
     "output_type": "stream",
     "text": [
      "\rPROCESS: CountNews 95.400000 % ETA: 09:04:12"
     ]
    },
    {
     "name": "stdout",
     "output_type": "stream",
     "text": [
      "\rPROCESS: CountNews 95.400000 % ETA: 09:04:12"
     ]
    },
    {
     "name": "stdout",
     "output_type": "stream",
     "text": [
      "\rPROCESS: CountNews 95.500000 % ETA: 09:04:12"
     ]
    },
    {
     "name": "stdout",
     "output_type": "stream",
     "text": [
      "\rPROCESS: CountNews 95.500000 % ETA: 09:04:12"
     ]
    },
    {
     "name": "stdout",
     "output_type": "stream",
     "text": [
      "\rPROCESS: CountNews 95.500000 % ETA: 09:04:13"
     ]
    },
    {
     "name": "stdout",
     "output_type": "stream",
     "text": [
      "\rPROCESS: CountNews 95.600000 % ETA: 09:04:13"
     ]
    },
    {
     "name": "stdout",
     "output_type": "stream",
     "text": [
      "\rPROCESS: CountNews 95.600000 % ETA: 09:04:13"
     ]
    },
    {
     "name": "stdout",
     "output_type": "stream",
     "text": [
      "\rPROCESS: CountNews 95.700000 % ETA: 09:04:12"
     ]
    },
    {
     "name": "stdout",
     "output_type": "stream",
     "text": [
      "\rPROCESS: CountNews 95.700000 % ETA: 09:04:12"
     ]
    },
    {
     "name": "stdout",
     "output_type": "stream",
     "text": [
      "\rPROCESS: CountNews 95.800000 % ETA: 09:04:12"
     ]
    },
    {
     "name": "stdout",
     "output_type": "stream",
     "text": [
      "\rPROCESS: CountNews 95.800000 % ETA: 09:04:12"
     ]
    },
    {
     "name": "stdout",
     "output_type": "stream",
     "text": [
      "\rPROCESS: CountNews 95.800000 % ETA: 09:04:12"
     ]
    },
    {
     "name": "stdout",
     "output_type": "stream",
     "text": [
      "\rPROCESS: CountNews 95.900000 % ETA: 09:04:12"
     ]
    },
    {
     "name": "stdout",
     "output_type": "stream",
     "text": [
      "\rPROCESS: CountNews 95.900000 % ETA: 09:04:12"
     ]
    },
    {
     "name": "stdout",
     "output_type": "stream",
     "text": [
      "\rPROCESS: CountNews 96.000000 % ETA: 09:04:13"
     ]
    },
    {
     "name": "stdout",
     "output_type": "stream",
     "text": [
      "\rPROCESS: CountNews 96.000000 % ETA: 09:04:13"
     ]
    },
    {
     "name": "stdout",
     "output_type": "stream",
     "text": [
      "\rPROCESS: CountNews 96.100000 % ETA: 09:04:12"
     ]
    },
    {
     "name": "stdout",
     "output_type": "stream",
     "text": [
      "\rPROCESS: CountNews 96.100000 % ETA: 09:04:12"
     ]
    },
    {
     "name": "stdout",
     "output_type": "stream",
     "text": [
      "\rPROCESS: CountNews 96.100000 % ETA: 09:04:12"
     ]
    },
    {
     "name": "stdout",
     "output_type": "stream",
     "text": [
      "\rPROCESS: CountNews 96.200000 % ETA: 09:04:12"
     ]
    },
    {
     "name": "stdout",
     "output_type": "stream",
     "text": [
      "\rPROCESS: CountNews 96.200000 % ETA: 09:04:12"
     ]
    },
    {
     "name": "stdout",
     "output_type": "stream",
     "text": [
      "\rPROCESS: CountNews 96.300000 % ETA: 09:04:12"
     ]
    },
    {
     "name": "stdout",
     "output_type": "stream",
     "text": [
      "\rPROCESS: CountNews 96.300000 % ETA: 09:04:12"
     ]
    },
    {
     "name": "stdout",
     "output_type": "stream",
     "text": [
      "\rPROCESS: CountNews 96.400000 % ETA: 09:04:13"
     ]
    },
    {
     "name": "stdout",
     "output_type": "stream",
     "text": [
      "\rPROCESS: CountNews 96.400000 % ETA: 09:04:13"
     ]
    },
    {
     "name": "stdout",
     "output_type": "stream",
     "text": [
      "\rPROCESS: CountNews 96.500000 % ETA: 09:04:12"
     ]
    },
    {
     "name": "stdout",
     "output_type": "stream",
     "text": [
      "\rPROCESS: CountNews 96.500000 % ETA: 09:04:12"
     ]
    },
    {
     "name": "stdout",
     "output_type": "stream",
     "text": [
      "\rPROCESS: CountNews 96.500000 % ETA: 09:04:12"
     ]
    },
    {
     "name": "stdout",
     "output_type": "stream",
     "text": [
      "\rPROCESS: CountNews 96.600000 % ETA: 09:04:12"
     ]
    },
    {
     "name": "stdout",
     "output_type": "stream",
     "text": [
      "\rPROCESS: CountNews 96.600000 % ETA: 09:04:12"
     ]
    },
    {
     "name": "stdout",
     "output_type": "stream",
     "text": [
      "\rPROCESS: CountNews 96.700000 % ETA: 09:04:12"
     ]
    },
    {
     "name": "stdout",
     "output_type": "stream",
     "text": [
      "\rPROCESS: CountNews 96.700000 % ETA: 09:04:13"
     ]
    },
    {
     "name": "stdout",
     "output_type": "stream",
     "text": [
      "\rPROCESS: CountNews 96.800000 % ETA: 09:04:13"
     ]
    },
    {
     "name": "stdout",
     "output_type": "stream",
     "text": [
      "\rPROCESS: CountNews 96.800000 % ETA: 09:04:13"
     ]
    },
    {
     "name": "stdout",
     "output_type": "stream",
     "text": [
      "\rPROCESS: CountNews 96.800000 % ETA: 09:04:12"
     ]
    },
    {
     "name": "stdout",
     "output_type": "stream",
     "text": [
      "\rPROCESS: CountNews 96.900000 % ETA: 09:04:12"
     ]
    },
    {
     "name": "stdout",
     "output_type": "stream",
     "text": [
      "\rPROCESS: CountNews 96.900000 % ETA: 09:04:12"
     ]
    },
    {
     "name": "stdout",
     "output_type": "stream",
     "text": [
      "\rPROCESS: CountNews 97.000000 % ETA: 09:04:12"
     ]
    },
    {
     "name": "stdout",
     "output_type": "stream",
     "text": [
      "\rPROCESS: CountNews 97.000000 % ETA: 09:04:12"
     ]
    },
    {
     "name": "stdout",
     "output_type": "stream",
     "text": [
      "\rPROCESS: CountNews 97.100000 % ETA: 09:04:12"
     ]
    },
    {
     "name": "stdout",
     "output_type": "stream",
     "text": [
      "\rPROCESS: CountNews 97.100000 % ETA: 09:04:13"
     ]
    },
    {
     "name": "stdout",
     "output_type": "stream",
     "text": [
      "\rPROCESS: CountNews 97.100000 % ETA: 09:04:13"
     ]
    },
    {
     "name": "stdout",
     "output_type": "stream",
     "text": [
      "\rPROCESS: CountNews 97.200000 % ETA: 09:04:13"
     ]
    },
    {
     "name": "stdout",
     "output_type": "stream",
     "text": [
      "\rPROCESS: CountNews 97.200000 % ETA: 09:04:13"
     ]
    },
    {
     "name": "stdout",
     "output_type": "stream",
     "text": [
      "\rPROCESS: CountNews 97.300000 % ETA: 09:04:12"
     ]
    },
    {
     "name": "stdout",
     "output_type": "stream",
     "text": [
      "\rPROCESS: CountNews 97.300000 % ETA: 09:04:12"
     ]
    },
    {
     "name": "stdout",
     "output_type": "stream",
     "text": [
      "\rPROCESS: CountNews 97.400000 % ETA: 09:04:12"
     ]
    },
    {
     "name": "stdout",
     "output_type": "stream",
     "text": [
      "\rPROCESS: CountNews 97.400000 % ETA: 09:04:13"
     ]
    },
    {
     "name": "stdout",
     "output_type": "stream",
     "text": [
      "\rPROCESS: CountNews 97.400000 % ETA: 09:04:13"
     ]
    },
    {
     "name": "stdout",
     "output_type": "stream",
     "text": [
      "\rPROCESS: CountNews 97.500000 % ETA: 09:04:13"
     ]
    },
    {
     "name": "stdout",
     "output_type": "stream",
     "text": [
      "\rPROCESS: CountNews 97.500000 % ETA: 09:04:13"
     ]
    },
    {
     "name": "stdout",
     "output_type": "stream",
     "text": [
      "\rPROCESS: CountNews 97.600000 % ETA: 09:04:13"
     ]
    },
    {
     "name": "stdout",
     "output_type": "stream",
     "text": [
      "\rPROCESS: CountNews 97.600000 % ETA: 09:04:13"
     ]
    },
    {
     "name": "stdout",
     "output_type": "stream",
     "text": [
      "\rPROCESS: CountNews 97.700000 % ETA: 09:04:12"
     ]
    },
    {
     "name": "stdout",
     "output_type": "stream",
     "text": [
      "\rPROCESS: CountNews 97.700000 % ETA: 09:04:12"
     ]
    },
    {
     "name": "stdout",
     "output_type": "stream",
     "text": [
      "\rPROCESS: CountNews 97.700000 % ETA: 09:04:12"
     ]
    },
    {
     "name": "stdout",
     "output_type": "stream",
     "text": [
      "\rPROCESS: CountNews 97.800000 % ETA: 09:04:13"
     ]
    },
    {
     "name": "stdout",
     "output_type": "stream",
     "text": [
      "\rPROCESS: CountNews 97.800000 % ETA: 09:04:13"
     ]
    },
    {
     "name": "stdout",
     "output_type": "stream",
     "text": [
      "\rPROCESS: CountNews 97.900000 % ETA: 09:04:13"
     ]
    },
    {
     "name": "stdout",
     "output_type": "stream",
     "text": [
      "\rPROCESS: CountNews 97.900000 % ETA: 09:04:13"
     ]
    },
    {
     "name": "stdout",
     "output_type": "stream",
     "text": [
      "\rPROCESS: CountNews 98.000000 % ETA: 09:04:13"
     ]
    },
    {
     "name": "stdout",
     "output_type": "stream",
     "text": [
      "\rPROCESS: CountNews 98.000000 % ETA: 09:04:13"
     ]
    },
    {
     "name": "stdout",
     "output_type": "stream",
     "text": [
      "\rPROCESS: CountNews 98.100000 % ETA: 09:04:12"
     ]
    },
    {
     "name": "stdout",
     "output_type": "stream",
     "text": [
      "\rPROCESS: CountNews 98.100000 % ETA: 09:04:12"
     ]
    },
    {
     "name": "stdout",
     "output_type": "stream",
     "text": [
      "\rPROCESS: CountNews 98.100000 % ETA: 09:04:12"
     ]
    },
    {
     "name": "stdout",
     "output_type": "stream",
     "text": [
      "\rPROCESS: CountNews 98.200000 % ETA: 09:04:13"
     ]
    },
    {
     "name": "stdout",
     "output_type": "stream",
     "text": [
      "\rPROCESS: CountNews 98.200000 % ETA: 09:04:13"
     ]
    },
    {
     "name": "stdout",
     "output_type": "stream",
     "text": [
      "\rPROCESS: CountNews 98.300000 % ETA: 09:04:13"
     ]
    },
    {
     "name": "stdout",
     "output_type": "stream",
     "text": [
      "\rPROCESS: CountNews 98.300000 % ETA: 09:04:13"
     ]
    },
    {
     "name": "stdout",
     "output_type": "stream",
     "text": [
      "\rPROCESS: CountNews 98.400000 % ETA: 09:04:13"
     ]
    },
    {
     "name": "stdout",
     "output_type": "stream",
     "text": [
      "\rPROCESS: CountNews 98.400000 % ETA: 09:04:13"
     ]
    },
    {
     "name": "stdout",
     "output_type": "stream",
     "text": [
      "\rPROCESS: CountNews 98.400000 % ETA: 09:04:12"
     ]
    },
    {
     "name": "stdout",
     "output_type": "stream",
     "text": [
      "\rPROCESS: CountNews 98.500000 % ETA: 09:04:12"
     ]
    },
    {
     "name": "stdout",
     "output_type": "stream",
     "text": [
      "\rPROCESS: CountNews 98.500000 % ETA: 09:04:12"
     ]
    },
    {
     "name": "stdout",
     "output_type": "stream",
     "text": [
      "\rPROCESS: CountNews 98.600000 % ETA: 09:04:12"
     ]
    },
    {
     "name": "stdout",
     "output_type": "stream",
     "text": [
      "\rPROCESS: CountNews 98.600000 % ETA: 09:04:13"
     ]
    },
    {
     "name": "stdout",
     "output_type": "stream",
     "text": [
      "\rPROCESS: CountNews 98.700000 % ETA: 09:04:13"
     ]
    },
    {
     "name": "stdout",
     "output_type": "stream",
     "text": [
      "\rPROCESS: CountNews 98.700000 % ETA: 09:04:13"
     ]
    },
    {
     "name": "stdout",
     "output_type": "stream",
     "text": [
      "\rPROCESS: CountNews 98.700000 % ETA: 09:04:13"
     ]
    },
    {
     "name": "stdout",
     "output_type": "stream",
     "text": [
      "\rPROCESS: CountNews 98.800000 % ETA: 09:04:13"
     ]
    },
    {
     "name": "stdout",
     "output_type": "stream",
     "text": [
      "\rPROCESS: CountNews 98.800000 % ETA: 09:04:12"
     ]
    },
    {
     "name": "stdout",
     "output_type": "stream",
     "text": [
      "\rPROCESS: CountNews 98.900000 % ETA: 09:04:12"
     ]
    },
    {
     "name": "stdout",
     "output_type": "stream",
     "text": [
      "\rPROCESS: CountNews 98.900000 % ETA: 09:04:12"
     ]
    },
    {
     "name": "stdout",
     "output_type": "stream",
     "text": [
      "\rPROCESS: CountNews 99.000000 % ETA: 09:04:12"
     ]
    },
    {
     "name": "stdout",
     "output_type": "stream",
     "text": [
      "\rPROCESS: CountNews 99.000000 % ETA: 09:04:13"
     ]
    },
    {
     "name": "stdout",
     "output_type": "stream",
     "text": [
      "\rPROCESS: CountNews 99.000000 % ETA: 09:04:13"
     ]
    },
    {
     "name": "stdout",
     "output_type": "stream",
     "text": [
      "\rPROCESS: CountNews 99.100000 % ETA: 09:04:13"
     ]
    },
    {
     "name": "stdout",
     "output_type": "stream",
     "text": [
      "\rPROCESS: CountNews 99.100000 % ETA: 09:04:13"
     ]
    },
    {
     "name": "stdout",
     "output_type": "stream",
     "text": [
      "\rPROCESS: CountNews 99.200000 % ETA: 09:04:13"
     ]
    },
    {
     "name": "stdout",
     "output_type": "stream",
     "text": [
      "\rPROCESS: CountNews 99.200000 % ETA: 09:04:12"
     ]
    },
    {
     "name": "stdout",
     "output_type": "stream",
     "text": [
      "\rPROCESS: CountNews 99.300000 % ETA: 09:04:12"
     ]
    },
    {
     "name": "stdout",
     "output_type": "stream",
     "text": [
      "\rPROCESS: CountNews 99.300000 % ETA: 09:04:12"
     ]
    },
    {
     "name": "stdout",
     "output_type": "stream",
     "text": [
      "\rPROCESS: CountNews 99.400000 % ETA: 09:04:12"
     ]
    },
    {
     "name": "stdout",
     "output_type": "stream",
     "text": [
      "\rPROCESS: CountNews 99.400000 % ETA: 09:04:13"
     ]
    },
    {
     "name": "stdout",
     "output_type": "stream",
     "text": [
      "\rPROCESS: CountNews 99.400000 % ETA: 09:04:13"
     ]
    },
    {
     "name": "stdout",
     "output_type": "stream",
     "text": [
      "\rPROCESS: CountNews 99.500000 % ETA: 09:04:13"
     ]
    },
    {
     "name": "stdout",
     "output_type": "stream",
     "text": [
      "\rPROCESS: CountNews 99.500000 % ETA: 09:04:13"
     ]
    },
    {
     "name": "stdout",
     "output_type": "stream",
     "text": [
      "\rPROCESS: CountNews 99.600000 % ETA: 09:04:13"
     ]
    },
    {
     "name": "stdout",
     "output_type": "stream",
     "text": [
      "\rPROCESS: CountNews 99.600000 % ETA: 09:04:12"
     ]
    },
    {
     "name": "stdout",
     "output_type": "stream",
     "text": [
      "\rPROCESS: CountNews 99.700000 % ETA: 09:04:12"
     ]
    },
    {
     "name": "stdout",
     "output_type": "stream",
     "text": [
      "\rPROCESS: CountNews 99.700000 % ETA: 09:04:12"
     ]
    },
    {
     "name": "stdout",
     "output_type": "stream",
     "text": [
      "\rPROCESS: CountNews 99.700000 % ETA: 09:04:12"
     ]
    },
    {
     "name": "stdout",
     "output_type": "stream",
     "text": [
      "\rPROCESS: CountNews 99.800000 % ETA: 09:04:12"
     ]
    },
    {
     "name": "stdout",
     "output_type": "stream",
     "text": [
      "\rPROCESS: CountNews 99.800000 % ETA: 09:04:13"
     ]
    },
    {
     "name": "stdout",
     "output_type": "stream",
     "text": [
      "\rPROCESS: CountNews 99.900000 % ETA: 09:04:13"
     ]
    },
    {
     "name": "stdout",
     "output_type": "stream",
     "text": [
      "\rPROCESS: CountNews 99.900000 % ETA: 09:04:13"
     ]
    },
    {
     "name": "stdout",
     "output_type": "stream",
     "text": [
      "\rPROCESS: CountNews 100.000000 % ETA: 09:04:13"
     ]
    }
   ],
   "source": [
    "import sys\n",
    "from datetime import datetime\n",
    "\n",
    "from Api.NewsDataService import NewsDataService\n",
    "from Utils.ETACalculator import LogETA\n",
    "\n",
    "st = datetime.now()\n",
    "compByNewsCount = []\n",
    "total = len(allCompList)\n",
    "i = 0\n",
    "for compCode in allCompList:\n",
    "    newsList = NewsDataService().FetchCompNews(compCode)\n",
    "    LogETA(\"CountNews\", st, total, i)\n",
    "\n",
    "    compByNewsCount.append([compCode, len(newsList)])\n",
    "    i += 1\n"
   ]
  },
  {
   "cell_type": "code",
   "execution_count": 11,
   "metadata": {
    "collapsed": false
   },
   "outputs": [
    {
     "data": {
      "text/html": [
       "<div>\n",
       "<style scoped>\n",
       "    .dataframe tbody tr th:only-of-type {\n",
       "        vertical-align: middle;\n",
       "    }\n",
       "\n",
       "    .dataframe tbody tr th {\n",
       "        vertical-align: top;\n",
       "    }\n",
       "\n",
       "    .dataframe thead th {\n",
       "        text-align: right;\n",
       "    }\n",
       "</style>\n",
       "<table border=\"1\" class=\"dataframe\">\n",
       "  <thead>\n",
       "    <tr style=\"text-align: right;\">\n",
       "      <th></th>\n",
       "      <th>0</th>\n",
       "      <th>1</th>\n",
       "    </tr>\n",
       "  </thead>\n",
       "  <tbody>\n",
       "    <tr>\n",
       "      <th>0</th>\n",
       "      <td>060310</td>\n",
       "      <td>65</td>\n",
       "    </tr>\n",
       "    <tr>\n",
       "      <th>1</th>\n",
       "      <td>095570</td>\n",
       "      <td>29</td>\n",
       "    </tr>\n",
       "    <tr>\n",
       "      <th>2</th>\n",
       "      <td>068400</td>\n",
       "      <td>75</td>\n",
       "    </tr>\n",
       "    <tr>\n",
       "      <th>3</th>\n",
       "      <td>006840</td>\n",
       "      <td>60</td>\n",
       "    </tr>\n",
       "    <tr>\n",
       "      <th>4</th>\n",
       "      <td>054620</td>\n",
       "      <td>28</td>\n",
       "    </tr>\n",
       "    <tr>\n",
       "      <th>5</th>\n",
       "      <td>265520</td>\n",
       "      <td>95</td>\n",
       "    </tr>\n",
       "    <tr>\n",
       "      <th>6</th>\n",
       "      <td>211270</td>\n",
       "      <td>4</td>\n",
       "    </tr>\n",
       "    <tr>\n",
       "      <th>7</th>\n",
       "      <td>027410</td>\n",
       "      <td>209</td>\n",
       "    </tr>\n",
       "    <tr>\n",
       "      <th>8</th>\n",
       "      <td>282330</td>\n",
       "      <td>104</td>\n",
       "    </tr>\n",
       "    <tr>\n",
       "      <th>9</th>\n",
       "      <td>138930</td>\n",
       "      <td>199</td>\n",
       "    </tr>\n",
       "    <tr>\n",
       "      <th>10</th>\n",
       "      <td>001460</td>\n",
       "      <td>15</td>\n",
       "    </tr>\n",
       "    <tr>\n",
       "      <th>11</th>\n",
       "      <td>001465</td>\n",
       "      <td>0</td>\n",
       "    </tr>\n",
       "    <tr>\n",
       "      <th>12</th>\n",
       "      <td>032040</td>\n",
       "      <td>23</td>\n",
       "    </tr>\n",
       "    <tr>\n",
       "      <th>13</th>\n",
       "      <td>001040</td>\n",
       "      <td>1759</td>\n",
       "    </tr>\n",
       "    <tr>\n",
       "      <th>14</th>\n",
       "      <td>079160</td>\n",
       "      <td>96</td>\n",
       "    </tr>\n",
       "    <tr>\n",
       "      <th>15</th>\n",
       "      <td>130960</td>\n",
       "      <td>469</td>\n",
       "    </tr>\n",
       "    <tr>\n",
       "      <th>16</th>\n",
       "      <td>000120</td>\n",
       "      <td>209</td>\n",
       "    </tr>\n",
       "    <tr>\n",
       "      <th>17</th>\n",
       "      <td>011150</td>\n",
       "      <td>8</td>\n",
       "    </tr>\n",
       "    <tr>\n",
       "      <th>18</th>\n",
       "      <td>011155</td>\n",
       "      <td>0</td>\n",
       "    </tr>\n",
       "    <tr>\n",
       "      <th>19</th>\n",
       "      <td>035760</td>\n",
       "      <td>242</td>\n",
       "    </tr>\n",
       "    <tr>\n",
       "      <th>20</th>\n",
       "      <td>001045</td>\n",
       "      <td>0</td>\n",
       "    </tr>\n",
       "    <tr>\n",
       "      <th>21</th>\n",
       "      <td>097950</td>\n",
       "      <td>276</td>\n",
       "    </tr>\n",
       "    <tr>\n",
       "      <th>22</th>\n",
       "      <td>097955</td>\n",
       "      <td>0</td>\n",
       "    </tr>\n",
       "    <tr>\n",
       "      <th>23</th>\n",
       "      <td>051500</td>\n",
       "      <td>34</td>\n",
       "    </tr>\n",
       "    <tr>\n",
       "      <th>24</th>\n",
       "      <td>037560</td>\n",
       "      <td>75</td>\n",
       "    </tr>\n",
       "    <tr>\n",
       "      <th>25</th>\n",
       "      <td>058820</td>\n",
       "      <td>299</td>\n",
       "    </tr>\n",
       "    <tr>\n",
       "      <th>26</th>\n",
       "      <td>023460</td>\n",
       "      <td>25</td>\n",
       "    </tr>\n",
       "    <tr>\n",
       "      <th>27</th>\n",
       "      <td>065770</td>\n",
       "      <td>888</td>\n",
       "    </tr>\n",
       "    <tr>\n",
       "      <th>28</th>\n",
       "      <td>083660</td>\n",
       "      <td>72</td>\n",
       "    </tr>\n",
       "    <tr>\n",
       "      <th>29</th>\n",
       "      <td>000590</td>\n",
       "      <td>6</td>\n",
       "    </tr>\n",
       "    <tr>\n",
       "      <th>...</th>\n",
       "      <td>...</td>\n",
       "      <td>...</td>\n",
       "    </tr>\n",
       "    <tr>\n",
       "      <th>2281</th>\n",
       "      <td>032560</td>\n",
       "      <td>23</td>\n",
       "    </tr>\n",
       "    <tr>\n",
       "      <th>2282</th>\n",
       "      <td>004800</td>\n",
       "      <td>1123</td>\n",
       "    </tr>\n",
       "    <tr>\n",
       "      <th>2283</th>\n",
       "      <td>094280</td>\n",
       "      <td>6</td>\n",
       "    </tr>\n",
       "    <tr>\n",
       "      <th>2284</th>\n",
       "      <td>097870</td>\n",
       "      <td>13</td>\n",
       "    </tr>\n",
       "    <tr>\n",
       "      <th>2285</th>\n",
       "      <td>093370</td>\n",
       "      <td>68</td>\n",
       "    </tr>\n",
       "    <tr>\n",
       "      <th>2286</th>\n",
       "      <td>050090</td>\n",
       "      <td>10</td>\n",
       "    </tr>\n",
       "    <tr>\n",
       "      <th>2287</th>\n",
       "      <td>081660</td>\n",
       "      <td>202</td>\n",
       "    </tr>\n",
       "    <tr>\n",
       "      <th>2288</th>\n",
       "      <td>005870</td>\n",
       "      <td>17</td>\n",
       "    </tr>\n",
       "    <tr>\n",
       "      <th>2289</th>\n",
       "      <td>284420</td>\n",
       "      <td>2</td>\n",
       "    </tr>\n",
       "    <tr>\n",
       "      <th>2290</th>\n",
       "      <td>205470</td>\n",
       "      <td>5</td>\n",
       "    </tr>\n",
       "    <tr>\n",
       "      <th>2291</th>\n",
       "      <td>115160</td>\n",
       "      <td>17</td>\n",
       "    </tr>\n",
       "    <tr>\n",
       "      <th>2292</th>\n",
       "      <td>028080</td>\n",
       "      <td>3</td>\n",
       "    </tr>\n",
       "    <tr>\n",
       "      <th>2293</th>\n",
       "      <td>200670</td>\n",
       "      <td>60</td>\n",
       "    </tr>\n",
       "    <tr>\n",
       "      <th>2294</th>\n",
       "      <td>212310</td>\n",
       "      <td>0</td>\n",
       "    </tr>\n",
       "    <tr>\n",
       "      <th>2295</th>\n",
       "      <td>079980</td>\n",
       "      <td>21</td>\n",
       "    </tr>\n",
       "    <tr>\n",
       "      <th>2296</th>\n",
       "      <td>065510</td>\n",
       "      <td>4</td>\n",
       "    </tr>\n",
       "    <tr>\n",
       "      <th>2297</th>\n",
       "      <td>005010</td>\n",
       "      <td>54</td>\n",
       "    </tr>\n",
       "    <tr>\n",
       "      <th>2298</th>\n",
       "      <td>243070</td>\n",
       "      <td>182</td>\n",
       "    </tr>\n",
       "    <tr>\n",
       "      <th>2299</th>\n",
       "      <td>084110</td>\n",
       "      <td>77</td>\n",
       "    </tr>\n",
       "    <tr>\n",
       "      <th>2300</th>\n",
       "      <td>145020</td>\n",
       "      <td>309</td>\n",
       "    </tr>\n",
       "    <tr>\n",
       "      <th>2301</th>\n",
       "      <td>069260</td>\n",
       "      <td>10</td>\n",
       "    </tr>\n",
       "    <tr>\n",
       "      <th>2302</th>\n",
       "      <td>024060</td>\n",
       "      <td>2</td>\n",
       "    </tr>\n",
       "    <tr>\n",
       "      <th>2303</th>\n",
       "      <td>010240</td>\n",
       "      <td>502</td>\n",
       "    </tr>\n",
       "    <tr>\n",
       "      <th>2304</th>\n",
       "      <td>189980</td>\n",
       "      <td>3</td>\n",
       "    </tr>\n",
       "    <tr>\n",
       "      <th>2305</th>\n",
       "      <td>000540</td>\n",
       "      <td>36</td>\n",
       "    </tr>\n",
       "    <tr>\n",
       "      <th>2306</th>\n",
       "      <td>000547</td>\n",
       "      <td>0</td>\n",
       "    </tr>\n",
       "    <tr>\n",
       "      <th>2307</th>\n",
       "      <td>000545</td>\n",
       "      <td>1</td>\n",
       "    </tr>\n",
       "    <tr>\n",
       "      <th>2308</th>\n",
       "      <td>003280</td>\n",
       "      <td>274</td>\n",
       "    </tr>\n",
       "    <tr>\n",
       "      <th>2309</th>\n",
       "      <td>037440</td>\n",
       "      <td>8</td>\n",
       "    </tr>\n",
       "    <tr>\n",
       "      <th>2310</th>\n",
       "      <td>238490</td>\n",
       "      <td>11</td>\n",
       "    </tr>\n",
       "  </tbody>\n",
       "</table>\n",
       "<p>2311 rows × 2 columns</p>\n",
       "</div>"
      ],
      "text/plain": [
       "<div>\n",
       "<style scoped>\n",
       "    .dataframe tbody tr th:only-of-type {\n",
       "        vertical-align: middle;\n",
       "    }\n",
       "\n",
       "    .dataframe tbody tr th {\n",
       "        vertical-align: top;\n",
       "    }\n",
       "\n",
       "    .dataframe thead th {\n",
       "        text-align: right;\n",
       "    }\n",
       "</style>\n",
       "<table border=\"1\" class=\"dataframe\">\n",
       "  <thead>\n",
       "    <tr style=\"text-align: right;\">\n",
       "      <th></th>\n",
       "      <th>0</th>\n",
       "      <th>1</th>\n",
       "    </tr>\n",
       "  </thead>\n",
       "  <tbody>\n",
       "    <tr>\n",
       "      <th>0</th>\n",
       "      <td>060310</td>\n",
       "      <td>65</td>\n",
       "    </tr>\n",
       "    <tr>\n",
       "      <th>1</th>\n",
       "      <td>095570</td>\n",
       "      <td>29</td>\n",
       "    </tr>\n",
       "    <tr>\n",
       "      <th>2</th>\n",
       "      <td>068400</td>\n",
       "      <td>75</td>\n",
       "    </tr>\n",
       "    <tr>\n",
       "      <th>3</th>\n",
       "      <td>006840</td>\n",
       "      <td>60</td>\n",
       "    </tr>\n",
       "    <tr>\n",
       "      <th>4</th>\n",
       "      <td>054620</td>\n",
       "      <td>28</td>\n",
       "    </tr>\n",
       "    <tr>\n",
       "      <th>5</th>\n",
       "      <td>265520</td>\n",
       "      <td>95</td>\n",
       "    </tr>\n",
       "    <tr>\n",
       "      <th>6</th>\n",
       "      <td>211270</td>\n",
       "      <td>4</td>\n",
       "    </tr>\n",
       "    <tr>\n",
       "      <th>7</th>\n",
       "      <td>027410</td>\n",
       "      <td>209</td>\n",
       "    </tr>\n",
       "    <tr>\n",
       "      <th>8</th>\n",
       "      <td>282330</td>\n",
       "      <td>104</td>\n",
       "    </tr>\n",
       "    <tr>\n",
       "      <th>9</th>\n",
       "      <td>138930</td>\n",
       "      <td>199</td>\n",
       "    </tr>\n",
       "    <tr>\n",
       "      <th>10</th>\n",
       "      <td>001460</td>\n",
       "      <td>15</td>\n",
       "    </tr>\n",
       "    <tr>\n",
       "      <th>11</th>\n",
       "      <td>001465</td>\n",
       "      <td>0</td>\n",
       "    </tr>\n",
       "    <tr>\n",
       "      <th>12</th>\n",
       "      <td>032040</td>\n",
       "      <td>23</td>\n",
       "    </tr>\n",
       "    <tr>\n",
       "      <th>13</th>\n",
       "      <td>001040</td>\n",
       "      <td>1759</td>\n",
       "    </tr>\n",
       "    <tr>\n",
       "      <th>14</th>\n",
       "      <td>079160</td>\n",
       "      <td>96</td>\n",
       "    </tr>\n",
       "    <tr>\n",
       "      <th>15</th>\n",
       "      <td>130960</td>\n",
       "      <td>469</td>\n",
       "    </tr>\n",
       "    <tr>\n",
       "      <th>16</th>\n",
       "      <td>000120</td>\n",
       "      <td>209</td>\n",
       "    </tr>\n",
       "    <tr>\n",
       "      <th>17</th>\n",
       "      <td>011150</td>\n",
       "      <td>8</td>\n",
       "    </tr>\n",
       "    <tr>\n",
       "      <th>18</th>\n",
       "      <td>011155</td>\n",
       "      <td>0</td>\n",
       "    </tr>\n",
       "    <tr>\n",
       "      <th>19</th>\n",
       "      <td>035760</td>\n",
       "      <td>242</td>\n",
       "    </tr>\n",
       "    <tr>\n",
       "      <th>20</th>\n",
       "      <td>001045</td>\n",
       "      <td>0</td>\n",
       "    </tr>\n",
       "    <tr>\n",
       "      <th>21</th>\n",
       "      <td>097950</td>\n",
       "      <td>276</td>\n",
       "    </tr>\n",
       "    <tr>\n",
       "      <th>22</th>\n",
       "      <td>097955</td>\n",
       "      <td>0</td>\n",
       "    </tr>\n",
       "    <tr>\n",
       "      <th>23</th>\n",
       "      <td>051500</td>\n",
       "      <td>34</td>\n",
       "    </tr>\n",
       "    <tr>\n",
       "      <th>24</th>\n",
       "      <td>037560</td>\n",
       "      <td>75</td>\n",
       "    </tr>\n",
       "    <tr>\n",
       "      <th>25</th>\n",
       "      <td>058820</td>\n",
       "      <td>299</td>\n",
       "    </tr>\n",
       "    <tr>\n",
       "      <th>26</th>\n",
       "      <td>023460</td>\n",
       "      <td>25</td>\n",
       "    </tr>\n",
       "    <tr>\n",
       "      <th>27</th>\n",
       "      <td>065770</td>\n",
       "      <td>888</td>\n",
       "    </tr>\n",
       "    <tr>\n",
       "      <th>28</th>\n",
       "      <td>083660</td>\n",
       "      <td>72</td>\n",
       "    </tr>\n",
       "    <tr>\n",
       "      <th>29</th>\n",
       "      <td>000590</td>\n",
       "      <td>6</td>\n",
       "    </tr>\n",
       "    <tr>\n",
       "      <th>...</th>\n",
       "      <td>...</td>\n",
       "      <td>...</td>\n",
       "    </tr>\n",
       "    <tr>\n",
       "      <th>2281</th>\n",
       "      <td>032560</td>\n",
       "      <td>23</td>\n",
       "    </tr>\n",
       "    <tr>\n",
       "      <th>2282</th>\n",
       "      <td>004800</td>\n",
       "      <td>1123</td>\n",
       "    </tr>\n",
       "    <tr>\n",
       "      <th>2283</th>\n",
       "      <td>094280</td>\n",
       "      <td>6</td>\n",
       "    </tr>\n",
       "    <tr>\n",
       "      <th>2284</th>\n",
       "      <td>097870</td>\n",
       "      <td>13</td>\n",
       "    </tr>\n",
       "    <tr>\n",
       "      <th>2285</th>\n",
       "      <td>093370</td>\n",
       "      <td>68</td>\n",
       "    </tr>\n",
       "    <tr>\n",
       "      <th>2286</th>\n",
       "      <td>050090</td>\n",
       "      <td>10</td>\n",
       "    </tr>\n",
       "    <tr>\n",
       "      <th>2287</th>\n",
       "      <td>081660</td>\n",
       "      <td>202</td>\n",
       "    </tr>\n",
       "    <tr>\n",
       "      <th>2288</th>\n",
       "      <td>005870</td>\n",
       "      <td>17</td>\n",
       "    </tr>\n",
       "    <tr>\n",
       "      <th>2289</th>\n",
       "      <td>284420</td>\n",
       "      <td>2</td>\n",
       "    </tr>\n",
       "    <tr>\n",
       "      <th>2290</th>\n",
       "      <td>205470</td>\n",
       "      <td>5</td>\n",
       "    </tr>\n",
       "    <tr>\n",
       "      <th>2291</th>\n",
       "      <td>115160</td>\n",
       "      <td>17</td>\n",
       "    </tr>\n",
       "    <tr>\n",
       "      <th>2292</th>\n",
       "      <td>028080</td>\n",
       "      <td>3</td>\n",
       "    </tr>\n",
       "    <tr>\n",
       "      <th>2293</th>\n",
       "      <td>200670</td>\n",
       "      <td>60</td>\n",
       "    </tr>\n",
       "    <tr>\n",
       "      <th>2294</th>\n",
       "      <td>212310</td>\n",
       "      <td>0</td>\n",
       "    </tr>\n",
       "    <tr>\n",
       "      <th>2295</th>\n",
       "      <td>079980</td>\n",
       "      <td>21</td>\n",
       "    </tr>\n",
       "    <tr>\n",
       "      <th>2296</th>\n",
       "      <td>065510</td>\n",
       "      <td>4</td>\n",
       "    </tr>\n",
       "    <tr>\n",
       "      <th>2297</th>\n",
       "      <td>005010</td>\n",
       "      <td>54</td>\n",
       "    </tr>\n",
       "    <tr>\n",
       "      <th>2298</th>\n",
       "      <td>243070</td>\n",
       "      <td>182</td>\n",
       "    </tr>\n",
       "    <tr>\n",
       "      <th>2299</th>\n",
       "      <td>084110</td>\n",
       "      <td>77</td>\n",
       "    </tr>\n",
       "    <tr>\n",
       "      <th>2300</th>\n",
       "      <td>145020</td>\n",
       "      <td>309</td>\n",
       "    </tr>\n",
       "    <tr>\n",
       "      <th>2301</th>\n",
       "      <td>069260</td>\n",
       "      <td>10</td>\n",
       "    </tr>\n",
       "    <tr>\n",
       "      <th>2302</th>\n",
       "      <td>024060</td>\n",
       "      <td>2</td>\n",
       "    </tr>\n",
       "    <tr>\n",
       "      <th>2303</th>\n",
       "      <td>010240</td>\n",
       "      <td>502</td>\n",
       "    </tr>\n",
       "    <tr>\n",
       "      <th>2304</th>\n",
       "      <td>189980</td>\n",
       "      <td>3</td>\n",
       "    </tr>\n",
       "    <tr>\n",
       "      <th>2305</th>\n",
       "      <td>000540</td>\n",
       "      <td>36</td>\n",
       "    </tr>\n",
       "    <tr>\n",
       "      <th>2306</th>\n",
       "      <td>000547</td>\n",
       "      <td>0</td>\n",
       "    </tr>\n",
       "    <tr>\n",
       "      <th>2307</th>\n",
       "      <td>000545</td>\n",
       "      <td>1</td>\n",
       "    </tr>\n",
       "    <tr>\n",
       "      <th>2308</th>\n",
       "      <td>003280</td>\n",
       "      <td>274</td>\n",
       "    </tr>\n",
       "    <tr>\n",
       "      <th>2309</th>\n",
       "      <td>037440</td>\n",
       "      <td>8</td>\n",
       "    </tr>\n",
       "    <tr>\n",
       "      <th>2310</th>\n",
       "      <td>238490</td>\n",
       "      <td>11</td>\n",
       "    </tr>\n",
       "  </tbody>\n",
       "</table>\n",
       "<p>2311 rows × 2 columns</p>\n",
       "</div>"
      ]
     },
     "execution_count": 11,
     "metadata": {},
     "output_type": "execute_result"
    }
   ],
   "source": [
    "import pandas as pd\n",
    "\n",
    "top10Comp = []\n",
    "# get top10\n",
    "\n",
    "\n",
    "\n",
    "\n",
    "df = pd.DataFrame(compByNewsCount)\n",
    "# df.sort_values()\n",
    "\n",
    "df"
   ]
  },
  {
   "cell_type": "code",
   "execution_count": null,
   "metadata": {},
   "outputs": [],
   "source": []
  }
 ],
 "metadata": {
  "kernelspec": {
   "display_name": "Python 2",
   "language": "python",
   "name": "python2"
  },
  "language_info": {
   "codemirror_mode": {
    "name": "ipython",
    "version": 2
   },
   "file_extension": ".py",
   "mimetype": "text/x-python",
   "name": "python",
   "nbconvert_exporter": "python",
   "pygments_lexer": "ipython2",
   "version": "2.7.6"
  }
 },
 "nbformat": 4,
 "nbformat_minor": 0
}
