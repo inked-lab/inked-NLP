{
 "cells": [
  {
   "cell_type": "code",
   "execution_count": 1,
   "metadata": {
    "collapsed": true
   },
   "outputs": [],
   "source": [
    "from Utils.StockCompanyExtractor.StockCompanyExtractor import FetchAllCompCode\n",
    "\n",
    "allCompList = FetchAllCompCode()"
   ]
  },
  {
   "cell_type": "code",
   "execution_count": 2,
   "metadata": {},
   "outputs": [
    {
     "name": "stdout",
     "output_type": "stream",
     "text": [
      "\rReading Comp news 060310"
     ]
    },
    {
     "name": "stdout",
     "output_type": "stream",
     "text": [
      "\rReading Comp news 095570"
     ]
    },
    {
     "name": "stdout",
     "output_type": "stream",
     "text": [
      "\rReading Comp news 068400"
     ]
    },
    {
     "name": "stdout",
     "output_type": "stream",
     "text": [
      "\rReading Comp news 006840"
     ]
    },
    {
     "name": "stdout",
     "output_type": "stream",
     "text": [
      "\rReading Comp news 054620"
     ]
    },
    {
     "name": "stdout",
     "output_type": "stream",
     "text": [
      "\rReading Comp news 265520"
     ]
    },
    {
     "name": "stdout",
     "output_type": "stream",
     "text": [
      "\rReading Comp news 211270"
     ]
    },
    {
     "name": "stdout",
     "output_type": "stream",
     "text": [
      "\rReading Comp news 027410"
     ]
    },
    {
     "name": "stdout",
     "output_type": "stream",
     "text": [
      "\rReading Comp news 282330"
     ]
    },
    {
     "name": "stdout",
     "output_type": "stream",
     "text": [
      "\rReading Comp news 138930"
     ]
    },
    {
     "name": "stdout",
     "output_type": "stream",
     "text": [
      "\rReading Comp news 001460"
     ]
    },
    {
     "name": "stdout",
     "output_type": "stream",
     "text": [
      "\rReading Comp news 001465"
     ]
    },
    {
     "name": "stdout",
     "output_type": "stream",
     "text": [
      "\rReading Comp news 032040"
     ]
    },
    {
     "name": "stdout",
     "output_type": "stream",
     "text": [
      "\rReading Comp news 001040"
     ]
    },
    {
     "name": "stdout",
     "output_type": "stream",
     "text": [
      "\rReading Comp news 079160"
     ]
    },
    {
     "name": "stdout",
     "output_type": "stream",
     "text": [
      "\rReading Comp news 130960"
     ]
    },
    {
     "name": "stdout",
     "output_type": "stream",
     "text": [
      "\rReading Comp news 000120"
     ]
    },
    {
     "name": "stdout",
     "output_type": "stream",
     "text": [
      "\rReading Comp news 011150"
     ]
    },
    {
     "name": "stdout",
     "output_type": "stream",
     "text": [
      "\rReading Comp news 011155"
     ]
    },
    {
     "name": "stdout",
     "output_type": "stream",
     "text": [
      "\rReading Comp news 035760"
     ]
    },
    {
     "name": "stdout",
     "output_type": "stream",
     "text": [
      "\rReading Comp news 001045"
     ]
    },
    {
     "name": "stdout",
     "output_type": "stream",
     "text": [
      "\rReading Comp news 097950"
     ]
    },
    {
     "name": "stdout",
     "output_type": "stream",
     "text": [
      "\rReading Comp news 097955"
     ]
    },
    {
     "name": "stdout",
     "output_type": "stream",
     "text": [
      "\rReading Comp news 051500"
     ]
    },
    {
     "name": "stdout",
     "output_type": "stream",
     "text": [
      "\rReading Comp news 037560"
     ]
    },
    {
     "name": "stdout",
     "output_type": "stream",
     "text": [
      "\rReading Comp news 058820"
     ]
    },
    {
     "name": "stdout",
     "output_type": "stream",
     "text": [
      "\rReading Comp news 023460"
     ]
    },
    {
     "name": "stdout",
     "output_type": "stream",
     "text": [
      "\rReading Comp news 065770"
     ]
    },
    {
     "name": "stdout",
     "output_type": "stream",
     "text": [
      "\rReading Comp news 083660"
     ]
    },
    {
     "name": "stdout",
     "output_type": "stream",
     "text": [
      "\rReading Comp news 000590"
     ]
    },
    {
     "name": "stdout",
     "output_type": "stream",
     "text": [
      "\rReading Comp news 012030"
     ]
    },
    {
     "name": "stdout",
     "output_type": "stream",
     "text": [
      "\rReading Comp news 016610"
     ]
    },
    {
     "name": "stdout",
     "output_type": "stream",
     "text": [
      "\rReading Comp news 045890"
     ]
    },
    {
     "name": "stdout",
     "output_type": "stream",
     "text": [
      "\rReading Comp news 005830"
     ]
    },
    {
     "name": "stdout",
     "output_type": "stream",
     "text": [
      "\rReading Comp news 000990"
     ]
    },
    {
     "name": "stdout",
     "output_type": "stream",
     "text": [
      "\rReading Comp news 000995"
     ]
    },
    {
     "name": "stdout",
     "output_type": "stream",
     "text": [
      "\rReading Comp news 139130"
     ]
    },
    {
     "name": "stdout",
     "output_type": "stream",
     "text": [
      "\rReading Comp news 068790"
     ]
    },
    {
     "name": "stdout",
     "output_type": "stream",
     "text": [
      "\rReading Comp news 004840"
     ]
    },
    {
     "name": "stdout",
     "output_type": "stream",
     "text": [
      "\rReading Comp news 241520"
     ]
    },
    {
     "name": "stdout",
     "output_type": "stream",
     "text": [
      "\rReading Comp news 155660"
     ]
    },
    {
     "name": "stdout",
     "output_type": "stream",
     "text": [
      "\rReading Comp news 069730"
     ]
    },
    {
     "name": "stdout",
     "output_type": "stream",
     "text": [
      "\rReading Comp news 017940"
     ]
    },
    {
     "name": "stdout",
     "output_type": "stream",
     "text": [
      "\rReading Comp news 037370"
     ]
    },
    {
     "name": "stdout",
     "output_type": "stream",
     "text": [
      "\rReading Comp news 079190"
     ]
    },
    {
     "name": "stdout",
     "output_type": "stream",
     "text": [
      "\rReading Comp news 007700"
     ]
    },
    {
     "name": "stdout",
     "output_type": "stream",
     "text": [
      "\rReading Comp news 130500"
     ]
    },
    {
     "name": "stdout",
     "output_type": "stream",
     "text": [
      "\rReading Comp news 114090"
     ]
    },
    {
     "name": "stdout",
     "output_type": "stream",
     "text": [
      "\rReading Comp news 032860"
     ]
    },
    {
     "name": "stdout",
     "output_type": "stream",
     "text": [
      "\rReading Comp news 900290"
     ]
    },
    {
     "name": "stdout",
     "output_type": "stream",
     "text": [
      "\rReading Comp news 078930"
     ]
    },
    {
     "name": "stdout",
     "output_type": "stream",
     "text": [
      "\rReading Comp news 083450"
     ]
    },
    {
     "name": "stdout",
     "output_type": "stream",
     "text": [
      "\rReading Comp news 006360"
     ]
    },
    {
     "name": "stdout",
     "output_type": "stream",
     "text": [
      "\rReading Comp news 001250"
     ]
    },
    {
     "name": "stdout",
     "output_type": "stream",
     "text": [
      "\rReading Comp news 007070"
     ]
    },
    {
     "name": "stdout",
     "output_type": "stream",
     "text": [
      "\rReading Comp news 078935"
     ]
    },
    {
     "name": "stdout",
     "output_type": "stream",
     "text": [
      "\rReading Comp news 028150"
     ]
    },
    {
     "name": "stdout",
     "output_type": "stream",
     "text": [
      "\rReading Comp news 078150"
     ]
    },
    {
     "name": "stdout",
     "output_type": "stream",
     "text": [
      "\rReading Comp news 039570"
     ]
    },
    {
     "name": "stdout",
     "output_type": "stream",
     "text": [
      "\rReading Comp news 089470"
     ]
    },
    {
     "name": "stdout",
     "output_type": "stream",
     "text": [
      "\rReading Comp news 036640"
     ]
    },
    {
     "name": "stdout",
     "output_type": "stream",
     "text": [
      "\rReading Comp news 225430"
     ]
    },
    {
     "name": "stdout",
     "output_type": "stream",
     "text": [
      "\rReading Comp news 254120"
     ]
    },
    {
     "name": "stdout",
     "output_type": "stream",
     "text": [
      "\rReading Comp news 264850"
     ]
    },
    {
     "name": "stdout",
     "output_type": "stream",
     "text": [
      "\rReading Comp news 276920"
     ]
    },
    {
     "name": "stdout",
     "output_type": "stream",
     "text": [
      "\rReading Comp news 277410"
     ]
    },
    {
     "name": "stdout",
     "output_type": "stream",
     "text": [
      "\rReading Comp news 003560"
     ]
    },
    {
     "name": "stdout",
     "output_type": "stream",
     "text": [
      "\rReading Comp news 095340"
     ]
    },
    {
     "name": "stdout",
     "output_type": "stream",
     "text": [
      "\rReading Comp news 099520"
     ]
    },
    {
     "name": "stdout",
     "output_type": "stream",
     "text": [
      "\rReading Comp news 175330"
     ]
    },
    {
     "name": "stdout",
     "output_type": "stream",
     "text": [
      "\rReading Comp news 950170"
     ]
    },
    {
     "name": "stdout",
     "output_type": "stream",
     "text": [
      "\rReading Comp news 234080"
     ]
    },
    {
     "name": "stdout",
     "output_type": "stream",
     "text": [
      "\rReading Comp news 067290"
     ]
    },
    {
     "name": "stdout",
     "output_type": "stream",
     "text": [
      "\rReading Comp news 001060"
     ]
    },
    {
     "name": "stdout",
     "output_type": "stream",
     "text": [
      "\rReading Comp news 001067"
     ]
    },
    {
     "name": "stdout",
     "output_type": "stream",
     "text": [
      "\rReading Comp news 001065"
     ]
    },
    {
     "name": "stdout",
     "output_type": "stream",
     "text": [
      "\rReading Comp news 096760"
     ]
    },
    {
     "name": "stdout",
     "output_type": "stream",
     "text": [
      "\rReading Comp news 035900"
     ]
    },
    {
     "name": "stdout",
     "output_type": "stream",
     "text": [
      "\rReading Comp news 105560"
     ]
    },
    {
     "name": "stdout",
     "output_type": "stream",
     "text": [
      "\rReading Comp news 024120"
     ]
    },
    {
     "name": "stdout",
     "output_type": "stream",
     "text": [
      "\rReading Comp news 002380"
     ]
    },
    {
     "name": "stdout",
     "output_type": "stream",
     "text": [
      "\rReading Comp news 021320"
     ]
    },
    {
     "name": "stdout",
     "output_type": "stream",
     "text": [
      "\rReading Comp news 036670"
     ]
    },
    {
     "name": "stdout",
     "output_type": "stream",
     "text": [
      "\rReading Comp news 009070"
     ]
    },
    {
     "name": "stdout",
     "output_type": "stream",
     "text": [
      "\rReading Comp news 009440"
     ]
    },
    {
     "name": "stdout",
     "output_type": "stream",
     "text": [
      "\rReading Comp news 112190"
     ]
    },
    {
     "name": "stdout",
     "output_type": "stream",
     "text": [
      "\rReading Comp news 119650"
     ]
    },
    {
     "name": "stdout",
     "output_type": "stream",
     "text": [
      "\rReading Comp news 044180"
     ]
    },
    {
     "name": "stdout",
     "output_type": "stream",
     "text": [
      "\rReading Comp news 092220"
     ]
    },
    {
     "name": "stdout",
     "output_type": "stream",
     "text": [
      "\rReading Comp news 151860"
     ]
    },
    {
     "name": "stdout",
     "output_type": "stream",
     "text": [
      "\rReading Comp news 046440"
     ]
    },
    {
     "name": "stdout",
     "output_type": "stream",
     "text": [
      "\rReading Comp news 035600"
     ]
    },
    {
     "name": "stdout",
     "output_type": "stream",
     "text": [
      "\rReading Comp news 001390"
     ]
    },
    {
     "name": "stdout",
     "output_type": "stream",
     "text": [
      "\rReading Comp news 060720"
     ]
    },
    {
     "name": "stdout",
     "output_type": "stream",
     "text": [
      "\rReading Comp news 001940"
     ]
    },
    {
     "name": "stdout",
     "output_type": "stream",
     "text": [
      "\rReading Comp news 083470"
     ]
    },
    {
     "name": "stdout",
     "output_type": "stream",
     "text": [
      "\rReading Comp news 122450"
     ]
    },
    {
     "name": "stdout",
     "output_type": "stream",
     "text": [
      "\rReading Comp news 052900"
     ]
    },
    {
     "name": "stdout",
     "output_type": "stream",
     "text": [
      "\rReading Comp news 058400"
     ]
    },
    {
     "name": "stdout",
     "output_type": "stream",
     "text": [
      "\rReading Comp news 114450"
     ]
    },
    {
     "name": "stdout",
     "output_type": "stream",
     "text": [
      "\rReading Comp news 025000"
     ]
    },
    {
     "name": "stdout",
     "output_type": "stream",
     "text": [
      "\rReading Comp news 092230"
     ]
    },
    {
     "name": "stdout",
     "output_type": "stream",
     "text": [
      "\rReading Comp news 000040"
     ]
    },
    {
     "name": "stdout",
     "output_type": "stream",
     "text": [
      "\rReading Comp news 044450"
     ]
    },
    {
     "name": "stdout",
     "output_type": "stream",
     "text": [
      "\rReading Comp news 030200"
     ]
    },
    {
     "name": "stdout",
     "output_type": "stream",
     "text": [
      "\rReading Comp news 033780"
     ]
    },
    {
     "name": "stdout",
     "output_type": "stream",
     "text": [
      "\rReading Comp news 030210"
     ]
    },
    {
     "name": "stdout",
     "output_type": "stream",
     "text": [
      "\rReading Comp news 036030"
     ]
    },
    {
     "name": "stdout",
     "output_type": "stream",
     "text": [
      "\rReading Comp news 058850"
     ]
    },
    {
     "name": "stdout",
     "output_type": "stream",
     "text": [
      "\rReading Comp news 060370"
     ]
    },
    {
     "name": "stdout",
     "output_type": "stream",
     "text": [
      "\rReading Comp news 093050"
     ]
    },
    {
     "name": "stdout",
     "output_type": "stream",
     "text": [
      "\rReading Comp news 003550"
     ]
    },
    {
     "name": "stdout",
     "output_type": "stream",
     "text": [
      "\rReading Comp news 034220"
     ]
    },
    {
     "name": "stdout",
     "output_type": "stream",
     "text": [
      "\rReading Comp news 001120"
     ]
    },
    {
     "name": "stdout",
     "output_type": "stream",
     "text": [
      "\rReading Comp news 051900"
     ]
    },
    {
     "name": "stdout",
     "output_type": "stream",
     "text": [
      "\rReading Comp news 051905"
     ]
    },
    {
     "name": "stdout",
     "output_type": "stream",
     "text": [
      "\rReading Comp news 003555"
     ]
    },
    {
     "name": "stdout",
     "output_type": "stream",
     "text": [
      "\rReading Comp news 032640"
     ]
    },
    {
     "name": "stdout",
     "output_type": "stream",
     "text": [
      "\rReading Comp news 011070"
     ]
    },
    {
     "name": "stdout",
     "output_type": "stream",
     "text": [
      "\rReading Comp news 066570"
     ]
    },
    {
     "name": "stdout",
     "output_type": "stream",
     "text": [
      "\rReading Comp news 066575"
     ]
    },
    {
     "name": "stdout",
     "output_type": "stream",
     "text": [
      "\rReading Comp news 108670"
     ]
    },
    {
     "name": "stdout",
     "output_type": "stream",
     "text": [
      "\rReading Comp news 108675"
     ]
    },
    {
     "name": "stdout",
     "output_type": "stream",
     "text": [
      "\rReading Comp news 051910"
     ]
    },
    {
     "name": "stdout",
     "output_type": "stream",
     "text": [
      "\rReading Comp news 051915"
     ]
    },
    {
     "name": "stdout",
     "output_type": "stream",
     "text": [
      "\rReading Comp news 079550"
     ]
    },
    {
     "name": "stdout",
     "output_type": "stream",
     "text": [
      "\rReading Comp news 006260"
     ]
    },
    {
     "name": "stdout",
     "output_type": "stream",
     "text": [
      "\rReading Comp news 000680"
     ]
    },
    {
     "name": "stdout",
     "output_type": "stream",
     "text": [
      "\rReading Comp news 010120"
     ]
    },
    {
     "name": "stdout",
     "output_type": "stream",
     "text": [
      "\rReading Comp news 229640"
     ]
    },
    {
     "name": "stdout",
     "output_type": "stream",
     "text": [
      "\rReading Comp news 023150"
     ]
    },
    {
     "name": "stdout",
     "output_type": "stream",
     "text": [
      "\rReading Comp news 065150"
     ]
    },
    {
     "name": "stdout",
     "output_type": "stream",
     "text": [
      "\rReading Comp news 219550"
     ]
    },
    {
     "name": "stdout",
     "output_type": "stream",
     "text": [
      "\rReading Comp news 035420"
     ]
    },
    {
     "name": "stdout",
     "output_type": "stream",
     "text": [
      "\rReading Comp news 160550"
     ]
    },
    {
     "name": "stdout",
     "output_type": "stream",
     "text": [
      "\rReading Comp news 053290"
     ]
    },
    {
     "name": "stdout",
     "output_type": "stream",
     "text": [
      "\rReading Comp news 104200"
     ]
    },
    {
     "name": "stdout",
     "output_type": "stream",
     "text": [
      "\rReading Comp news 181710"
     ]
    },
    {
     "name": "stdout",
     "output_type": "stream",
     "text": [
      "\rReading Comp news 060250"
     ]
    },
    {
     "name": "stdout",
     "output_type": "stream",
     "text": [
      "\rReading Comp news 005940"
     ]
    },
    {
     "name": "stdout",
     "output_type": "stream",
     "text": [
      "\rReading Comp news 005945"
     ]
    },
    {
     "name": "stdout",
     "output_type": "stream",
     "text": [
      "\rReading Comp news 034310"
     ]
    },
    {
     "name": "stdout",
     "output_type": "stream",
     "text": [
      "\rReading Comp news 030190"
     ]
    },
    {
     "name": "stdout",
     "output_type": "stream",
     "text": [
      "\rReading Comp news 008260"
     ]
    },
    {
     "name": "stdout",
     "output_type": "stream",
     "text": [
      "\rReading Comp news 004250"
     ]
    },
    {
     "name": "stdout",
     "output_type": "stream",
     "text": [
      "\rReading Comp news 004255"
     ]
    },
    {
     "name": "stdout",
     "output_type": "stream",
     "text": [
      "\rReading Comp news 010060"
     ]
    },
    {
     "name": "stdout",
     "output_type": "stream",
     "text": [
      "\rReading Comp news 024940"
     ]
    },
    {
     "name": "stdout",
     "output_type": "stream",
     "text": [
      "\rReading Comp news 005490"
     ]
    },
    {
     "name": "stdout",
     "output_type": "stream",
     "text": [
      "\rReading Comp news 218410"
     ]
    },
    {
     "name": "stdout",
     "output_type": "stream",
     "text": [
      "\rReading Comp news 091340"
     ]
    },
    {
     "name": "stdout",
     "output_type": "stream",
     "text": [
      "\rReading Comp news 100840"
     ]
    },
    {
     "name": "stdout",
     "output_type": "stream",
     "text": [
      "\rReading Comp news 064960"
     ]
    },
    {
     "name": "stdout",
     "output_type": "stream",
     "text": [
      "\rReading Comp news 003570"
     ]
    },
    {
     "name": "stdout",
     "output_type": "stream",
     "text": [
      "\rReading Comp news 036530"
     ]
    },
    {
     "name": "stdout",
     "output_type": "stream",
     "text": [
      "\rReading Comp news 010950"
     ]
    },
    {
     "name": "stdout",
     "output_type": "stream",
     "text": [
      "\rReading Comp news 010955"
     ]
    },
    {
     "name": "stdout",
     "output_type": "stream",
     "text": [
      "\rReading Comp news 019550"
     ]
    },
    {
     "name": "stdout",
     "output_type": "stream",
     "text": [
      "\rReading Comp news 950110"
     ]
    },
    {
     "name": "stdout",
     "output_type": "stream",
     "text": [
      "\rReading Comp news 034120"
     ]
    },
    {
     "name": "stdout",
     "output_type": "stream",
     "text": [
      "\rReading Comp news 101060"
     ]
    },
    {
     "name": "stdout",
     "output_type": "stream",
     "text": [
      "\rReading Comp news 046140"
     ]
    },
    {
     "name": "stdout",
     "output_type": "stream",
     "text": [
      "\rReading Comp news 036120"
     ]
    },
    {
     "name": "stdout",
     "output_type": "stream",
     "text": [
      "\rReading Comp news 099220"
     ]
    },
    {
     "name": "stdout",
     "output_type": "stream",
     "text": [
      "\rReading Comp news 036540"
     ]
    },
    {
     "name": "stdout",
     "output_type": "stream",
     "text": [
      "\rReading Comp news 255220"
     ]
    },
    {
     "name": "stdout",
     "output_type": "stream",
     "text": [
      "\rReading Comp news 040610"
     ]
    },
    {
     "name": "stdout",
     "output_type": "stream",
     "text": [
      "\rReading Comp news 049470"
     ]
    },
    {
     "name": "stdout",
     "output_type": "stream",
     "text": [
      "\rReading Comp news 184230"
     ]
    },
    {
     "name": "stdout",
     "output_type": "stream",
     "text": [
      "\rReading Comp news 224880"
     ]
    },
    {
     "name": "stdout",
     "output_type": "stream",
     "text": [
      "\rReading Comp news 004060"
     ]
    },
    {
     "name": "stdout",
     "output_type": "stream",
     "text": [
      "\rReading Comp news 001380"
     ]
    },
    {
     "name": "stdout",
     "output_type": "stream",
     "text": [
      "\rReading Comp news 002360"
     ]
    },
    {
     "name": "stdout",
     "output_type": "stream",
     "text": [
      "\rReading Comp news 009160"
     ]
    },
    {
     "name": "stdout",
     "output_type": "stream",
     "text": [
      "\rReading Comp news 090730"
     ]
    },
    {
     "name": "stdout",
     "output_type": "stream",
     "text": [
      "\rReading Comp news 123700"
     ]
    },
    {
     "name": "stdout",
     "output_type": "stream",
     "text": [
      "\rReading Comp news 025530"
     ]
    },
    {
     "name": "stdout",
     "output_type": "stream",
     "text": [
      "\rReading Comp news 034730"
     ]
    },
    {
     "name": "stdout",
     "output_type": "stream",
     "text": [
      "\rReading Comp news 232330"
     ]
    },
    {
     "name": "stdout",
     "output_type": "stream",
     "text": [
      "\rReading Comp news 011790"
     ]
    },
    {
     "name": "stdout",
     "output_type": "stream",
     "text": [
      "\rReading Comp news 057500"
     ]
    },
    {
     "name": "stdout",
     "output_type": "stream",
     "text": [
      "\rReading Comp news 178920"
     ]
    },
    {
     "name": "stdout",
     "output_type": "stream",
     "text": [
      "\rReading Comp news 018670"
     ]
    },
    {
     "name": "stdout",
     "output_type": "stream",
     "text": [
      "\rReading Comp news 001740"
     ]
    },
    {
     "name": "stdout",
     "output_type": "stream",
     "text": [
      "\rReading Comp news 001745"
     ]
    },
    {
     "name": "stdout",
     "output_type": "stream",
     "text": [
      "\rReading Comp news 006120"
     ]
    },
    {
     "name": "stdout",
     "output_type": "stream",
     "text": [
      "\rReading Comp news 006125"
     ]
    },
    {
     "name": "stdout",
     "output_type": "stream",
     "text": [
      "\rReading Comp news 210980"
     ]
    },
    {
     "name": "stdout",
     "output_type": "stream",
     "text": [
      "\rReading Comp news 036490"
     ]
    },
    {
     "name": "stdout",
     "output_type": "stream",
     "text": [
      "\rReading Comp news 052260"
     ]
    },
    {
     "name": "stdout",
     "output_type": "stream",
     "text": [
      "\rReading Comp news 03473K"
     ]
    },
    {
     "name": "stdout",
     "output_type": "stream",
     "text": [
      "\rReading Comp news 096770"
     ]
    },
    {
     "name": "stdout",
     "output_type": "stream",
     "text": [
      "\rReading Comp news 096775"
     ]
    },
    {
     "name": "stdout",
     "output_type": "stream",
     "text": [
      "\rReading Comp news 001510"
     ]
    },
    {
     "name": "stdout",
     "output_type": "stream",
     "text": [
      "\rReading Comp news 001515"
     ]
    },
    {
     "name": "stdout",
     "output_type": "stream",
     "text": [
      "\rReading Comp news 285130"
     ]
    },
    {
     "name": "stdout",
     "output_type": "stream",
     "text": [
      "\rReading Comp news 28513K"
     ]
    },
    {
     "name": "stdout",
     "output_type": "stream",
     "text": [
      "\rReading Comp news 017670"
     ]
    },
    {
     "name": "stdout",
     "output_type": "stream",
     "text": [
      "\rReading Comp news 000660"
     ]
    },
    {
     "name": "stdout",
     "output_type": "stream",
     "text": [
      "\rReading Comp news 048550"
     ]
    },
    {
     "name": "stdout",
     "output_type": "stream",
     "text": [
      "\rReading Comp news 005610"
     ]
    },
    {
     "name": "stdout",
     "output_type": "stream",
     "text": [
      "\rReading Comp news 123260"
     ]
    },
    {
     "name": "stdout",
     "output_type": "stream",
     "text": [
      "\rReading Comp news 011810"
     ]
    },
    {
     "name": "stdout",
     "output_type": "stream",
     "text": [
      "\rReading Comp news 077970"
     ]
    },
    {
     "name": "stdout",
     "output_type": "stream",
     "text": [
      "\rReading Comp news 071970"
     ]
    },
    {
     "name": "stdout",
     "output_type": "stream",
     "text": [
      "\rReading Comp news 084870"
     ]
    },
    {
     "name": "stdout",
     "output_type": "stream",
     "text": [
      "\rReading Comp news 002710"
     ]
    },
    {
     "name": "stdout",
     "output_type": "stream",
     "text": [
      "\rReading Comp news 089230"
     ]
    },
    {
     "name": "stdout",
     "output_type": "stream",
     "text": [
      "\rReading Comp news 032540"
     ]
    },
    {
     "name": "stdout",
     "output_type": "stream",
     "text": [
      "\rReading Comp news 048770"
     ]
    },
    {
     "name": "stdout",
     "output_type": "stream",
     "text": [
      "\rReading Comp news 284610"
     ]
    },
    {
     "name": "stdout",
     "output_type": "stream",
     "text": [
      "\rReading Comp news 038340"
     ]
    },
    {
     "name": "stdout",
     "output_type": "stream",
     "text": [
      "\rReading Comp news 024070"
     ]
    },
    {
     "name": "stdout",
     "output_type": "stream",
     "text": [
      "\rReading Comp news 052300"
     ]
    },
    {
     "name": "stdout",
     "output_type": "stream",
     "text": [
      "\rReading Comp news 037270"
     ]
    },
    {
     "name": "stdout",
     "output_type": "stream",
     "text": [
      "\rReading Comp news 040300"
     ]
    },
    {
     "name": "stdout",
     "output_type": "stream",
     "text": [
      "\rReading Comp news 051390"
     ]
    },
    {
     "name": "stdout",
     "output_type": "stream",
     "text": [
      "\rReading Comp news 052220"
     ]
    },
    {
     "name": "stdout",
     "output_type": "stream",
     "text": [
      "\rReading Comp news 079940"
     ]
    },
    {
     "name": "stdout",
     "output_type": "stream",
     "text": [
      "\rReading Comp news 078890"
     ]
    },
    {
     "name": "stdout",
     "output_type": "stream",
     "text": [
      "\rReading Comp news 000500"
     ]
    },
    {
     "name": "stdout",
     "output_type": "stream",
     "text": [
      "\rReading Comp news 192410"
     ]
    },
    {
     "name": "stdout",
     "output_type": "stream",
     "text": [
      "\rReading Comp news 024840"
     ]
    },
    {
     "name": "stdout",
     "output_type": "stream",
     "text": [
      "\rReading Comp news 000860"
     ]
    },
    {
     "name": "stdout",
     "output_type": "stream",
     "text": [
      "\rReading Comp news 217730"
     ]
    },
    {
     "name": "stdout",
     "output_type": "stream",
     "text": [
      "\rReading Comp news 035250"
     ]
    },
    {
     "name": "stdout",
     "output_type": "stream",
     "text": [
      "\rReading Comp news 011420"
     ]
    },
    {
     "name": "stdout",
     "output_type": "stream",
     "text": [
      "\rReading Comp news 094480"
     ]
    },
    {
     "name": "stdout",
     "output_type": "stream",
     "text": [
      "\rReading Comp news 063080"
     ]
    },
    {
     "name": "stdout",
     "output_type": "stream",
     "text": [
      "\rReading Comp news 039240"
     ]
    },
    {
     "name": "stdout",
     "output_type": "stream",
     "text": [
      "\rReading Comp news 053950"
     ]
    },
    {
     "name": "stdout",
     "output_type": "stream",
     "text": [
      "\rReading Comp news 002100"
     ]
    },
    {
     "name": "stdout",
     "output_type": "stream",
     "text": [
      "\rReading Comp news 009450"
     ]
    },
    {
     "name": "stdout",
     "output_type": "stream",
     "text": [
      "\rReading Comp news 267290"
     ]
    },
    {
     "name": "stdout",
     "output_type": "stream",
     "text": [
      "\rReading Comp news 012320"
     ]
    },
    {
     "name": "stdout",
     "output_type": "stream",
     "text": [
      "\rReading Comp news 011040"
     ]
    },
    {
     "name": "stdout",
     "output_type": "stream",
     "text": [
      "\rReading Comp news 000050"
     ]
    },
    {
     "name": "stdout",
     "output_type": "stream",
     "text": [
      "\rReading Comp news 214390"
     ]
    },
    {
     "name": "stdout",
     "output_type": "stream",
     "text": [
      "\rReading Comp news 012610"
     ]
    },
    {
     "name": "stdout",
     "output_type": "stream",
     "text": [
      "\rReading Comp news 009140"
     ]
    },
    {
     "name": "stdout",
     "output_type": "stream",
     "text": [
      "\rReading Comp news 024910"
     ]
    },
    {
     "name": "stdout",
     "output_type": "stream",
     "text": [
      "\rReading Comp news 013580"
     ]
    },
    {
     "name": "stdout",
     "output_type": "stream",
     "text": [
      "\rReading Comp news 012200"
     ]
    },
    {
     "name": "stdout",
     "output_type": "stream",
     "text": [
      "\rReading Comp news 012205"
     ]
    },
    {
     "name": "stdout",
     "output_type": "stream",
     "text": [
      "\rReading Comp news 004200"
     ]
    },
    {
     "name": "stdout",
     "output_type": "stream",
     "text": [
      "\rReading Comp news 002140"
     ]
    },
    {
     "name": "stdout",
     "output_type": "stream",
     "text": [
      "\rReading Comp news 198440"
     ]
    },
    {
     "name": "stdout",
     "output_type": "stream",
     "text": [
      "\rReading Comp news 049720"
     ]
    },
    {
     "name": "stdout",
     "output_type": "stream",
     "text": [
      "\rReading Comp news 010130"
     ]
    },
    {
     "name": "stdout",
     "output_type": "stream",
     "text": [
      "\rReading Comp news 002240"
     ]
    },
    {
     "name": "stdout",
     "output_type": "stream",
     "text": [
      "\rReading Comp news 014570"
     ]
    },
    {
     "name": "stdout",
     "output_type": "stream",
     "text": [
      "\rReading Comp news 098460"
     ]
    },
    {
     "name": "stdout",
     "output_type": "stream",
     "text": [
      "\rReading Comp news 038530"
     ]
    },
    {
     "name": "stdout",
     "output_type": "stream",
     "text": [
      "\rReading Comp news 227950"
     ]
    },
    {
     "name": "stdout",
     "output_type": "stream",
     "text": [
      "\rReading Comp news 001290"
     ]
    },
    {
     "name": "stdout",
     "output_type": "stream",
     "text": [
      "\rReading Comp news 900280"
     ]
    },
    {
     "name": "stdout",
     "output_type": "stream",
     "text": [
      "\rReading Comp news 215000"
     ]
    },
    {
     "name": "stdout",
     "output_type": "stream",
     "text": [
      "\rReading Comp news 121440"
     ]
    },
    {
     "name": "stdout",
     "output_type": "stream",
     "text": [
      "\rReading Comp news 076340"
     ]
    },
    {
     "name": "stdout",
     "output_type": "stream",
     "text": [
      "\rReading Comp news 009290"
     ]
    },
    {
     "name": "stdout",
     "output_type": "stream",
     "text": [
      "\rReading Comp news 014200"
     ]
    },
    {
     "name": "stdout",
     "output_type": "stream",
     "text": [
      "\rReading Comp news 017040"
     ]
    },
    {
     "name": "stdout",
     "output_type": "stream",
     "text": [
      "\rReading Comp news 017900"
     ]
    },
    {
     "name": "stdout",
     "output_type": "stream",
     "text": [
      "\rReading Comp news 037710"
     ]
    },
    {
     "name": "stdout",
     "output_type": "stream",
     "text": [
      "\rReading Comp news 192530"
     ]
    },
    {
     "name": "stdout",
     "output_type": "stream",
     "text": [
      "\rReading Comp news 026910"
     ]
    },
    {
     "name": "stdout",
     "output_type": "stream",
     "text": [
      "\rReading Comp news 090150"
     ]
    },
    {
     "name": "stdout",
     "output_type": "stream",
     "text": [
      "\rReading Comp news 267320"
     ]
    },
    {
     "name": "stdout",
     "output_type": "stream",
     "text": [
      "\rReading Comp news 242040"
     ]
    },
    {
     "name": "stdout",
     "output_type": "stream",
     "text": [
      "\rReading Comp news 030610"
     ]
    },
    {
     "name": "stdout",
     "output_type": "stream",
     "text": [
      "\rReading Comp news 223220"
     ]
    },
    {
     "name": "stdout",
     "output_type": "stream",
     "text": [
      "\rReading Comp news 053270"
     ]
    },
    {
     "name": "stdout",
     "output_type": "stream",
     "text": [
      "\rReading Comp news 007690"
     ]
    },
    {
     "name": "stdout",
     "output_type": "stream",
     "text": [
      "\rReading Comp news 005320"
     ]
    },
    {
     "name": "stdout",
     "output_type": "stream",
     "text": [
      "\rReading Comp news 001140"
     ]
    },
    {
     "name": "stdout",
     "output_type": "stream",
     "text": [
      "\rReading Comp news 066620"
     ]
    },
    {
     "name": "stdout",
     "output_type": "stream",
     "text": [
      "\rReading Comp news 043650"
     ]
    },
    {
     "name": "stdout",
     "output_type": "stream",
     "text": [
      "\rReading Comp news 006050"
     ]
    },
    {
     "name": "stdout",
     "output_type": "stream",
     "text": [
      "\rReading Comp news 060480"
     ]
    },
    {
     "name": "stdout",
     "output_type": "stream",
     "text": [
      "\rReading Comp news 078130"
     ]
    },
    {
     "name": "stdout",
     "output_type": "stream",
     "text": [
      "\rReading Comp news 002720"
     ]
    },
    {
     "name": "stdout",
     "output_type": "stream",
     "text": [
      "\rReading Comp news 243870"
     ]
    },
    {
     "name": "stdout",
     "output_type": "stream",
     "text": [
      "\rReading Comp news 019010"
     ]
    },
    {
     "name": "stdout",
     "output_type": "stream",
     "text": [
      "\rReading Comp news 083420"
     ]
    },
    {
     "name": "stdout",
     "output_type": "stream",
     "text": [
      "\rReading Comp news 186230"
     ]
    },
    {
     "name": "stdout",
     "output_type": "stream",
     "text": [
      "\rReading Comp news 014530"
     ]
    },
    {
     "name": "stdout",
     "output_type": "stream",
     "text": [
      "\rReading Comp news 272420"
     ]
    },
    {
     "name": "stdout",
     "output_type": "stream",
     "text": [
      "\rReading Comp news 900070"
     ]
    },
    {
     "name": "stdout",
     "output_type": "stream",
     "text": [
      "\rReading Comp news 204620"
     ]
    },
    {
     "name": "stdout",
     "output_type": "stream",
     "text": [
      "\rReading Comp news 019660"
     ]
    },
    {
     "name": "stdout",
     "output_type": "stream",
     "text": [
      "\rReading Comp news 014280"
     ]
    },
    {
     "name": "stdout",
     "output_type": "stream",
     "text": [
      "\rReading Comp news 014285"
     ]
    },
    {
     "name": "stdout",
     "output_type": "stream",
     "text": [
      "\rReading Comp news 053260"
     ]
    },
    {
     "name": "stdout",
     "output_type": "stream",
     "text": [
      "\rReading Comp news 008870"
     ]
    },
    {
     "name": "stdout",
     "output_type": "stream",
     "text": [
      "\rReading Comp news 001570"
     ]
    },
    {
     "name": "stdout",
     "output_type": "stream",
     "text": [
      "\rReading Comp news 002990"
     ]
    },
    {
     "name": "stdout",
     "output_type": "stream",
     "text": [
      "\rReading Comp news 002995"
     ]
    },
    {
     "name": "stdout",
     "output_type": "stream",
     "text": [
      "\rReading Comp news 011780"
     ]
    },
    {
     "name": "stdout",
     "output_type": "stream",
     "text": [
      "\rReading Comp news 011785"
     ]
    },
    {
     "name": "stdout",
     "output_type": "stream",
     "text": [
      "\rReading Comp news 214330"
     ]
    },
    {
     "name": "stdout",
     "output_type": "stream",
     "text": [
      "\rReading Comp news 001210"
     ]
    },
    {
     "name": "stdout",
     "output_type": "stream",
     "text": [
      "\rReading Comp news 073240"
     ]
    },
    {
     "name": "stdout",
     "output_type": "stream",
     "text": [
      "\rReading Comp news 036190"
     ]
    },
    {
     "name": "stdout",
     "output_type": "stream",
     "text": [
      "\rReading Comp news 049080"
     ]
    },
    {
     "name": "stdout",
     "output_type": "stream",
     "text": [
      "\rReading Comp news 035460"
     ]
    },
    {
     "name": "stdout",
     "output_type": "stream",
     "text": [
      "\rReading Comp news 092440"
     ]
    },
    {
     "name": "stdout",
     "output_type": "stream",
     "text": [
      "\rReading Comp news 000270"
     ]
    },
    {
     "name": "stdout",
     "output_type": "stream",
     "text": [
      "\rReading Comp news 024110"
     ]
    },
    {
     "name": "stdout",
     "output_type": "stream",
     "text": [
      "\rReading Comp news 013700"
     ]
    },
    {
     "name": "stdout",
     "output_type": "stream",
     "text": [
      "\rReading Comp news 004540"
     ]
    },
    {
     "name": "stdout",
     "output_type": "stream",
     "text": [
      "\rReading Comp news 004545"
     ]
    },
    {
     "name": "stdout",
     "output_type": "stream",
     "text": [
      "\rReading Comp news 187790"
     ]
    },
    {
     "name": "stdout",
     "output_type": "stream",
     "text": [
      "\rReading Comp news 074610"
     ]
    },
    {
     "name": "stdout",
     "output_type": "stream",
     "text": [
      "\rReading Comp news 151910"
     ]
    },
    {
     "name": "stdout",
     "output_type": "stream",
     "text": [
      "\rReading Comp news 121600"
     ]
    },
    {
     "name": "stdout",
     "output_type": "stream",
     "text": [
      "\rReading Comp news 039860"
     ]
    },
    {
     "name": "stdout",
     "output_type": "stream",
     "text": [
      "\rReading Comp news 091970"
     ]
    },
    {
     "name": "stdout",
     "output_type": "stream",
     "text": [
      "\rReading Comp news 244880"
     ]
    },
    {
     "name": "stdout",
     "output_type": "stream",
     "text": [
      "\rReading Comp news 051490"
     ]
    },
    {
     "name": "stdout",
     "output_type": "stream",
     "text": [
      "\rReading Comp news 190510"
     ]
    },
    {
     "name": "stdout",
     "output_type": "stream",
     "text": [
      "\rReading Comp news 167380"
     ]
    },
    {
     "name": "stdout",
     "output_type": "stream",
     "text": [
      "\rReading Comp news 089600"
     ]
    },
    {
     "name": "stdout",
     "output_type": "stream",
     "text": [
      "\rReading Comp news 138610"
     ]
    },
    {
     "name": "stdout",
     "output_type": "stream",
     "text": [
      "\rReading Comp news 130580"
     ]
    },
    {
     "name": "stdout",
     "output_type": "stream",
     "text": [
      "\rReading Comp news 036800"
     ]
    },
    {
     "name": "stdout",
     "output_type": "stream",
     "text": [
      "\rReading Comp news 001260"
     ]
    },
    {
     "name": "stdout",
     "output_type": "stream",
     "text": [
      "\rReading Comp news 008350"
     ]
    },
    {
     "name": "stdout",
     "output_type": "stream",
     "text": [
      "\rReading Comp news 008355"
     ]
    },
    {
     "name": "stdout",
     "output_type": "stream",
     "text": [
      "\rReading Comp news 004270"
     ]
    },
    {
     "name": "stdout",
     "output_type": "stream",
     "text": [
      "\rReading Comp news 003920"
     ]
    },
    {
     "name": "stdout",
     "output_type": "stream",
     "text": [
      "\rReading Comp news 003925"
     ]
    },
    {
     "name": "stdout",
     "output_type": "stream",
     "text": [
      "\rReading Comp news 002070"
     ]
    },
    {
     "name": "stdout",
     "output_type": "stream",
     "text": [
      "\rReading Comp news 025860"
     ]
    },
    {
     "name": "stdout",
     "output_type": "stream",
     "text": [
      "\rReading Comp news 091590"
     ]
    },
    {
     "name": "stdout",
     "output_type": "stream",
     "text": [
      "\rReading Comp news 168330"
     ]
    },
    {
     "name": "stdout",
     "output_type": "stream",
     "text": [
      "\rReading Comp news 072770"
     ]
    },
    {
     "name": "stdout",
     "output_type": "stream",
     "text": [
      "\rReading Comp news 212560"
     ]
    },
    {
     "name": "stdout",
     "output_type": "stream",
     "text": [
      "\rReading Comp news 095660"
     ]
    },
    {
     "name": "stdout",
     "output_type": "stream",
     "text": [
      "\rReading Comp news 042420"
     ]
    },
    {
     "name": "stdout",
     "output_type": "stream",
     "text": [
      "\rReading Comp news 085910"
     ]
    },
    {
     "name": "stdout",
     "output_type": "stream",
     "text": [
      "\rReading Comp news 092730"
     ]
    },
    {
     "name": "stdout",
     "output_type": "stream",
     "text": [
      "\rReading Comp news 153460"
     ]
    },
    {
     "name": "stdout",
     "output_type": "stream",
     "text": [
      "\rReading Comp news 007390"
     ]
    },
    {
     "name": "stdout",
     "output_type": "stream",
     "text": [
      "\rReading Comp news 086220"
     ]
    },
    {
     "name": "stdout",
     "output_type": "stream",
     "text": [
      "\rReading Comp news 033640"
     ]
    },
    {
     "name": "stdout",
     "output_type": "stream",
     "text": [
      "\rReading Comp news 087730"
     ]
    },
    {
     "name": "stdout",
     "output_type": "stream",
     "text": [
      "\rReading Comp news 005720"
     ]
    },
    {
     "name": "stdout",
     "output_type": "stream",
     "text": [
      "\rReading Comp news 005725"
     ]
    },
    {
     "name": "stdout",
     "output_type": "stream",
     "text": [
      "\rReading Comp news 002350"
     ]
    },
    {
     "name": "stdout",
     "output_type": "stream",
     "text": [
      "\rReading Comp news 002355"
     ]
    },
    {
     "name": "stdout",
     "output_type": "stream",
     "text": [
      "\rReading Comp news 073070"
     ]
    },
    {
     "name": "stdout",
     "output_type": "stream",
     "text": [
      "\rReading Comp news 081970"
     ]
    },
    {
     "name": "stdout",
     "output_type": "stream",
     "text": [
      "\rReading Comp news 089140"
     ]
    },
    {
     "name": "stdout",
     "output_type": "stream",
     "text": [
      "\rReading Comp news 065170"
     ]
    },
    {
     "name": "stdout",
     "output_type": "stream",
     "text": [
      "\rReading Comp news 139670"
     ]
    },
    {
     "name": "stdout",
     "output_type": "stream",
     "text": [
      "\rReading Comp news 137940"
     ]
    },
    {
     "name": "stdout",
     "output_type": "stream",
     "text": [
      "\rReading Comp news 092600"
     ]
    },
    {
     "name": "stdout",
     "output_type": "stream",
     "text": [
      "\rReading Comp news 041140"
     ]
    },
    {
     "name": "stdout",
     "output_type": "stream",
     "text": [
      "\rReading Comp news 217270"
     ]
    },
    {
     "name": "stdout",
     "output_type": "stream",
     "text": [
      "\rReading Comp news 225570"
     ]
    },
    {
     "name": "stdout",
     "output_type": "stream",
     "text": [
      "\rReading Comp news 251270"
     ]
    },
    {
     "name": "stdout",
     "output_type": "stream",
     "text": [
      "\rReading Comp news 090350"
     ]
    },
    {
     "name": "stdout",
     "output_type": "stream",
     "text": [
      "\rReading Comp news 090355"
     ]
    },
    {
     "name": "stdout",
     "output_type": "stream",
     "text": [
      "\rReading Comp news 000320"
     ]
    },
    {
     "name": "stdout",
     "output_type": "stream",
     "text": [
      "\rReading Comp news 000325"
     ]
    },
    {
     "name": "stdout",
     "output_type": "stream",
     "text": [
      "\rReading Comp news 229500"
     ]
    },
    {
     "name": "stdout",
     "output_type": "stream",
     "text": [
      "\rReading Comp news 006280"
     ]
    },
    {
     "name": "stdout",
     "output_type": "stream",
     "text": [
      "\rReading Comp news 144510"
     ]
    },
    {
     "name": "stdout",
     "output_type": "stream",
     "text": [
      "\rReading Comp news 031390"
     ]
    },
    {
     "name": "stdout",
     "output_type": "stream",
     "text": [
      "\rReading Comp news 142280"
     ]
    },
    {
     "name": "stdout",
     "output_type": "stream",
     "text": [
      "\rReading Comp news 005250"
     ]
    },
    {
     "name": "stdout",
     "output_type": "stream",
     "text": [
      "\rReading Comp news 005257"
     ]
    },
    {
     "name": "stdout",
     "output_type": "stream",
     "text": [
      "\rReading Comp news 065560"
     ]
    },
    {
     "name": "stdout",
     "output_type": "stream",
     "text": [
      "\rReading Comp news 004370"
     ]
    },
    {
     "name": "stdout",
     "output_type": "stream",
     "text": [
      "\rReading Comp news 072710"
     ]
    },
    {
     "name": "stdout",
     "output_type": "stream",
     "text": [
      "\rReading Comp news 054050"
     ]
    },
    {
     "name": "stdout",
     "output_type": "stream",
     "text": [
      "\rReading Comp news 040160"
     ]
    },
    {
     "name": "stdout",
     "output_type": "stream",
     "text": [
      "\rReading Comp news 069140"
     ]
    },
    {
     "name": "stdout",
     "output_type": "stream",
     "text": [
      "\rReading Comp news 126870"
     ]
    },
    {
     "name": "stdout",
     "output_type": "stream",
     "text": [
      "\rReading Comp news 060260"
     ]
    },
    {
     "name": "stdout",
     "output_type": "stream",
     "text": [
      "\rReading Comp news 012340"
     ]
    },
    {
     "name": "stdout",
     "output_type": "stream",
     "text": [
      "\rReading Comp news 222040"
     ]
    },
    {
     "name": "stdout",
     "output_type": "stream",
     "text": [
      "\rReading Comp news 144960"
     ]
    },
    {
     "name": "stdout",
     "output_type": "stream",
     "text": [
      "\rReading Comp news 900100"
     ]
    },
    {
     "name": "stdout",
     "output_type": "stream",
     "text": [
      "\rReading Comp news 085670"
     ]
    },
    {
     "name": "stdout",
     "output_type": "stream",
     "text": [
      "\rReading Comp news 119860"
     ]
    },
    {
     "name": "stdout",
     "output_type": "stream",
     "text": [
      "\rReading Comp news 064260"
     ]
    },
    {
     "name": "stdout",
     "output_type": "stream",
     "text": [
      "\rReading Comp news 093640"
     ]
    },
    {
     "name": "stdout",
     "output_type": "stream",
     "text": [
      "\rReading Comp news 039560"
     ]
    },
    {
     "name": "stdout",
     "output_type": "stream",
     "text": [
      "\rReading Comp news 058730"
     ]
    },
    {
     "name": "stdout",
     "output_type": "stream",
     "text": [
      "\rReading Comp news 023590"
     ]
    },
    {
     "name": "stdout",
     "output_type": "stream",
     "text": [
      "\rReading Comp news 032190"
     ]
    },
    {
     "name": "stdout",
     "output_type": "stream",
     "text": [
      "\rReading Comp news 068240"
     ]
    },
    {
     "name": "stdout",
     "output_type": "stream",
     "text": [
      "\rReading Comp news 271850"
     ]
    },
    {
     "name": "stdout",
     "output_type": "stream",
     "text": [
      "\rReading Comp news 019680"
     ]
    },
    {
     "name": "stdout",
     "output_type": "stream",
     "text": [
      "\rReading Comp news 019685"
     ]
    },
    {
     "name": "stdout",
     "output_type": "stream",
     "text": [
      "\rReading Comp news 006370"
     ]
    },
    {
     "name": "stdout",
     "output_type": "stream",
     "text": [
      "\rReading Comp news 004130"
     ]
    },
    {
     "name": "stdout",
     "output_type": "stream",
     "text": [
      "\rReading Comp news 004135"
     ]
    },
    {
     "name": "stdout",
     "output_type": "stream",
     "text": [
      "\rReading Comp news 008060"
     ]
    },
    {
     "name": "stdout",
     "output_type": "stream",
     "text": [
      "\rReading Comp news 178600"
     ]
    },
    {
     "name": "stdout",
     "output_type": "stream",
     "text": [
      "\rReading Comp news 000490"
     ]
    },
    {
     "name": "stdout",
     "output_type": "stream",
     "text": [
      "\rReading Comp news 020400"
     ]
    },
    {
     "name": "stdout",
     "output_type": "stream",
     "text": [
      "\rReading Comp news 008830"
     ]
    },
    {
     "name": "stdout",
     "output_type": "stream",
     "text": [
      "\rReading Comp news 048470"
     ]
    },
    {
     "name": "stdout",
     "output_type": "stream",
     "text": [
      "\rReading Comp news 008110"
     ]
    },
    {
     "name": "stdout",
     "output_type": "stream",
     "text": [
      "\rReading Comp news 004780"
     ]
    },
    {
     "name": "stdout",
     "output_type": "stream",
     "text": [
      "\rReading Comp news 005750"
     ]
    },
    {
     "name": "stdout",
     "output_type": "stream",
     "text": [
      "\rReading Comp news 000210"
     ]
    },
    {
     "name": "stdout",
     "output_type": "stream",
     "text": [
      "\rReading Comp news 000215"
     ]
    },
    {
     "name": "stdout",
     "output_type": "stream",
     "text": [
      "\rReading Comp news 004440"
     ]
    },
    {
     "name": "stdout",
     "output_type": "stream",
     "text": [
      "\rReading Comp news 017650"
     ]
    },
    {
     "name": "stdout",
     "output_type": "stream",
     "text": [
      "\rReading Comp news 006570"
     ]
    },
    {
     "name": "stdout",
     "output_type": "stream",
     "text": [
      "\rReading Comp news 007720"
     ]
    },
    {
     "name": "stdout",
     "output_type": "stream",
     "text": [
      "\rReading Comp news 078140"
     ]
    },
    {
     "name": "stdout",
     "output_type": "stream",
     "text": [
      "\rReading Comp news 001680"
     ]
    },
    {
     "name": "stdout",
     "output_type": "stream",
     "text": [
      "\rReading Comp news 001685"
     ]
    },
    {
     "name": "stdout",
     "output_type": "stream",
     "text": [
      "\rReading Comp news 084690"
     ]
    },
    {
     "name": "stdout",
     "output_type": "stream",
     "text": [
      "\rReading Comp news 084695"
     ]
    },
    {
     "name": "stdout",
     "output_type": "stream",
     "text": [
      "\rReading Comp news 036480"
     ]
    },
    {
     "name": "stdout",
     "output_type": "stream",
     "text": [
      "\rReading Comp news 128820"
     ]
    },
    {
     "name": "stdout",
     "output_type": "stream",
     "text": [
      "\rReading Comp news 117580"
     ]
    },
    {
     "name": "stdout",
     "output_type": "stream",
     "text": [
      "\rReading Comp news 025440"
     ]
    },
    {
     "name": "stdout",
     "output_type": "stream",
     "text": [
      "\rReading Comp news 027830"
     ]
    },
    {
     "name": "stdout",
     "output_type": "stream",
     "text": [
      "\rReading Comp news 104040"
     ]
    },
    {
     "name": "stdout",
     "output_type": "stream",
     "text": [
      "\rReading Comp news 016710"
     ]
    },
    {
     "name": "stdout",
     "output_type": "stream",
     "text": [
      "\rReading Comp news 253590"
     ]
    },
    {
     "name": "stdout",
     "output_type": "stream",
     "text": [
      "\rReading Comp news 262830"
     ]
    },
    {
     "name": "stdout",
     "output_type": "stream",
     "text": [
      "\rReading Comp news 020180"
     ]
    },
    {
     "name": "stdout",
     "output_type": "stream",
     "text": [
      "\rReading Comp news 003540"
     ]
    },
    {
     "name": "stdout",
     "output_type": "stream",
     "text": [
      "\rReading Comp news 003547"
     ]
    },
    {
     "name": "stdout",
     "output_type": "stream",
     "text": [
      "\rReading Comp news 003545"
     ]
    },
    {
     "name": "stdout",
     "output_type": "stream",
     "text": [
      "\rReading Comp news 045390"
     ]
    },
    {
     "name": "stdout",
     "output_type": "stream",
     "text": [
      "\rReading Comp news 009190"
     ]
    },
    {
     "name": "stdout",
     "output_type": "stream",
     "text": [
      "\rReading Comp news 108380"
     ]
    },
    {
     "name": "stdout",
     "output_type": "stream",
     "text": [
      "\rReading Comp news 006580"
     ]
    },
    {
     "name": "stdout",
     "output_type": "stream",
     "text": [
      "\rReading Comp news 014160"
     ]
    },
    {
     "name": "stdout",
     "output_type": "stream",
     "text": [
      "\rReading Comp news 047040"
     ]
    },
    {
     "name": "stdout",
     "output_type": "stream",
     "text": [
      "\rReading Comp news 009320"
     ]
    },
    {
     "name": "stdout",
     "output_type": "stream",
     "text": [
      "\rReading Comp news 042660"
     ]
    },
    {
     "name": "stdout",
     "output_type": "stream",
     "text": [
      "\rReading Comp news 003090"
     ]
    },
    {
     "name": "stdout",
     "output_type": "stream",
     "text": [
      "\rReading Comp news 069620"
     ]
    },
    {
     "name": "stdout",
     "output_type": "stream",
     "text": [
      "\rReading Comp news 007680"
     ]
    },
    {
     "name": "stdout",
     "output_type": "stream",
     "text": [
      "\rReading Comp news 000430"
     ]
    },
    {
     "name": "stdout",
     "output_type": "stream",
     "text": [
      "\rReading Comp news 048910"
     ]
    },
    {
     "name": "stdout",
     "output_type": "stream",
     "text": [
      "\rReading Comp news 005710"
     ]
    },
    {
     "name": "stdout",
     "output_type": "stream",
     "text": [
      "\rReading Comp news 006340"
     ]
    },
    {
     "name": "stdout",
     "output_type": "stream",
     "text": [
      "\rReading Comp news 006345"
     ]
    },
    {
     "name": "stdout",
     "output_type": "stream",
     "text": [
      "\rReading Comp news 003220"
     ]
    },
    {
     "name": "stdout",
     "output_type": "stream",
     "text": [
      "\rReading Comp news 024890"
     ]
    },
    {
     "name": "stdout",
     "output_type": "stream",
     "text": [
      "\rReading Comp news 002880"
     ]
    },
    {
     "name": "stdout",
     "output_type": "stream",
     "text": [
      "\rReading Comp news 071460"
     ]
    },
    {
     "name": "stdout",
     "output_type": "stream",
     "text": [
      "\rReading Comp news 000300"
     ]
    },
    {
     "name": "stdout",
     "output_type": "stream",
     "text": [
      "\rReading Comp news 120240"
     ]
    },
    {
     "name": "stdout",
     "output_type": "stream",
     "text": [
      "\rReading Comp news 003310"
     ]
    },
    {
     "name": "stdout",
     "output_type": "stream",
     "text": [
      "\rReading Comp news 114920"
     ]
    },
    {
     "name": "stdout",
     "output_type": "stream",
     "text": [
      "\rReading Comp news 078600"
     ]
    },
    {
     "name": "stdout",
     "output_type": "stream",
     "text": [
      "\rReading Comp news 065690"
     ]
    },
    {
     "name": "stdout",
     "output_type": "stream",
     "text": [
      "\rReading Comp news 012800"
     ]
    },
    {
     "name": "stdout",
     "output_type": "stream",
     "text": [
      "\rReading Comp news 015230"
     ]
    },
    {
     "name": "stdout",
     "output_type": "stream",
     "text": [
      "\rReading Comp news 096350"
     ]
    },
    {
     "name": "stdout",
     "output_type": "stream",
     "text": [
      "\rReading Comp news 140520"
     ]
    },
    {
     "name": "stdout",
     "output_type": "stream",
     "text": [
      "\rReading Comp news 131220"
     ]
    },
    {
     "name": "stdout",
     "output_type": "stream",
     "text": [
      "\rReading Comp news 010170"
     ]
    },
    {
     "name": "stdout",
     "output_type": "stream",
     "text": [
      "\rReading Comp news 054670"
     ]
    },
    {
     "name": "stdout",
     "output_type": "stream",
     "text": [
      "\rReading Comp news 001070"
     ]
    },
    {
     "name": "stdout",
     "output_type": "stream",
     "text": [
      "\rReading Comp news 023910"
     ]
    },
    {
     "name": "stdout",
     "output_type": "stream",
     "text": [
      "\rReading Comp news 006650"
     ]
    },
    {
     "name": "stdout",
     "output_type": "stream",
     "text": [
      "\rReading Comp news 001440"
     ]
    },
    {
     "name": "stdout",
     "output_type": "stream",
     "text": [
      "\rReading Comp news 084010"
     ]
    },
    {
     "name": "stdout",
     "output_type": "stream",
     "text": [
      "\rReading Comp news 001790"
     ]
    },
    {
     "name": "stdout",
     "output_type": "stream",
     "text": [
      "\rReading Comp news 001799"
     ]
    },
    {
     "name": "stdout",
     "output_type": "stream",
     "text": [
      "\rReading Comp news 001795"
     ]
    },
    {
     "name": "stdout",
     "output_type": "stream",
     "text": [
      "\rReading Comp news 001130"
     ]
    },
    {
     "name": "stdout",
     "output_type": "stream",
     "text": [
      "\rReading Comp news 003490"
     ]
    },
    {
     "name": "stdout",
     "output_type": "stream",
     "text": [
      "\rReading Comp news 003495"
     ]
    },
    {
     "name": "stdout",
     "output_type": "stream",
     "text": [
      "\rReading Comp news 005880"
     ]
    },
    {
     "name": "stdout",
     "output_type": "stream",
     "text": [
      "\rReading Comp news 003830"
     ]
    },
    {
     "name": "stdout",
     "output_type": "stream",
     "text": [
      "\rReading Comp news 016090"
     ]
    },
    {
     "name": "stdout",
     "output_type": "stream",
     "text": [
      "\rReading Comp news 069460"
     ]
    },
    {
     "name": "stdout",
     "output_type": "stream",
     "text": [
      "\rReading Comp news 021040"
     ]
    },
    {
     "name": "stdout",
     "output_type": "stream",
     "text": [
      "\rReading Comp news 021045"
     ]
    },
    {
     "name": "stdout",
     "output_type": "stream",
     "text": [
      "\rReading Comp news 067080"
     ]
    },
    {
     "name": "stdout",
     "output_type": "stream",
     "text": [
      "\rReading Comp news 192080"
     ]
    },
    {
     "name": "stdout",
     "output_type": "stream",
     "text": [
      "\rReading Comp news 035290"
     ]
    },
    {
     "name": "stdout",
     "output_type": "stream",
     "text": [
      "\rReading Comp news 012510"
     ]
    },
    {
     "name": "stdout",
     "output_type": "stream",
     "text": [
      "\rReading Comp news 213420"
     ]
    },
    {
     "name": "stdout",
     "output_type": "stream",
     "text": [
      "\rReading Comp news 077360"
     ]
    },
    {
     "name": "stdout",
     "output_type": "stream",
     "text": [
      "\rReading Comp news 004830"
     ]
    },
    {
     "name": "stdout",
     "output_type": "stream",
     "text": [
      "\rReading Comp news 004835"
     ]
    },
    {
     "name": "stdout",
     "output_type": "stream",
     "text": [
      "\rReading Comp news 090410"
     ]
    },
    {
     "name": "stdout",
     "output_type": "stream",
     "text": [
      "\rReading Comp news 024900"
     ]
    },
    {
     "name": "stdout",
     "output_type": "stream",
     "text": [
      "\rReading Comp news 263600"
     ]
    },
    {
     "name": "stdout",
     "output_type": "stream",
     "text": [
      "\rReading Comp news 194480"
     ]
    },
    {
     "name": "stdout",
     "output_type": "stream",
     "text": [
      "\rReading Comp news 263800"
     ]
    },
    {
     "name": "stdout",
     "output_type": "stream",
     "text": [
      "\rReading Comp news 199150"
     ]
    },
    {
     "name": "stdout",
     "output_type": "stream",
     "text": [
      "\rReading Comp news 139050"
     ]
    },
    {
     "name": "stdout",
     "output_type": "stream",
     "text": [
      "\rReading Comp news 183410"
     ]
    },
    {
     "name": "stdout",
     "output_type": "stream",
     "text": [
      "\rReading Comp news 017680"
     ]
    },
    {
     "name": "stdout",
     "output_type": "stream",
     "text": [
      "\rReading Comp news 206560"
     ]
    },
    {
     "name": "stdout",
     "output_type": "stream",
     "text": [
      "\rReading Comp news 145720"
     ]
    },
    {
     "name": "stdout",
     "output_type": "stream",
     "text": [
      "\rReading Comp news 067990"
     ]
    },
    {
     "name": "stdout",
     "output_type": "stream",
     "text": [
      "\rReading Comp news 002150"
     ]
    },
    {
     "name": "stdout",
     "output_type": "stream",
     "text": [
      "\rReading Comp news 006620"
     ]
    },
    {
     "name": "stdout",
     "output_type": "stream",
     "text": [
      "\rReading Comp news 100130"
     ]
    },
    {
     "name": "stdout",
     "output_type": "stream",
     "text": [
      "\rReading Comp news 005160"
     ]
    },
    {
     "name": "stdout",
     "output_type": "stream",
     "text": [
      "\rReading Comp news 001620"
     ]
    },
    {
     "name": "stdout",
     "output_type": "stream",
     "text": [
      "\rReading Comp news 075970"
     ]
    },
    {
     "name": "stdout",
     "output_type": "stream",
     "text": [
      "\rReading Comp news 001230"
     ]
    },
    {
     "name": "stdout",
     "output_type": "stream",
     "text": [
      "\rReading Comp news 086450"
     ]
    },
    {
     "name": "stdout",
     "output_type": "stream",
     "text": [
      "\rReading Comp news 023450"
     ]
    },
    {
     "name": "stdout",
     "output_type": "stream",
     "text": [
      "\rReading Comp news 004140"
     ]
    },
    {
     "name": "stdout",
     "output_type": "stream",
     "text": [
      "\rReading Comp news 099410"
     ]
    },
    {
     "name": "stdout",
     "output_type": "stream",
     "text": [
      "\rReading Comp news 007590"
     ]
    },
    {
     "name": "stdout",
     "output_type": "stream",
     "text": [
      "\rReading Comp news 005960"
     ]
    },
    {
     "name": "stdout",
     "output_type": "stream",
     "text": [
      "\rReading Comp news 005965"
     ]
    },
    {
     "name": "stdout",
     "output_type": "stream",
     "text": [
      "\rReading Comp news 226440"
     ]
    },
    {
     "name": "stdout",
     "output_type": "stream",
     "text": [
      "\rReading Comp news 281740"
     ]
    },
    {
     "name": "stdout",
     "output_type": "stream",
     "text": [
      "\rReading Comp news 230490"
     ]
    },
    {
     "name": "stdout",
     "output_type": "stream",
     "text": [
      "\rReading Comp news 016380"
     ]
    },
    {
     "name": "stdout",
     "output_type": "stream",
     "text": [
      "\rReading Comp news 016385"
     ]
    },
    {
     "name": "stdout",
     "output_type": "stream",
     "text": [
      "\rReading Comp news 083370"
     ]
    },
    {
     "name": "stdout",
     "output_type": "stream",
     "text": [
      "\rReading Comp news 083380"
     ]
    },
    {
     "name": "stdout",
     "output_type": "stream",
     "text": [
      "\rReading Comp news 026960"
     ]
    },
    {
     "name": "stdout",
     "output_type": "stream",
     "text": [
      "\rReading Comp news 002210"
     ]
    },
    {
     "name": "stdout",
     "output_type": "stream",
     "text": [
      "\rReading Comp news 102260"
     ]
    },
    {
     "name": "stdout",
     "output_type": "stream",
     "text": [
      "\rReading Comp news 033500"
     ]
    },
    {
     "name": "stdout",
     "output_type": "stream",
     "text": [
      "\rReading Comp news 005190"
     ]
    },
    {
     "name": "stdout",
     "output_type": "stream",
     "text": [
      "\rReading Comp news 025950"
     ]
    },
    {
     "name": "stdout",
     "output_type": "stream",
     "text": [
      "\rReading Comp news 000640"
     ]
    },
    {
     "name": "stdout",
     "output_type": "stream",
     "text": [
      "\rReading Comp news 170900"
     ]
    },
    {
     "name": "stdout",
     "output_type": "stream",
     "text": [
      "\rReading Comp news 088130"
     ]
    },
    {
     "name": "stdout",
     "output_type": "stream",
     "text": [
      "\rReading Comp news 028100"
     ]
    },
    {
     "name": "stdout",
     "output_type": "stream",
     "text": [
      "\rReading Comp news 282690"
     ]
    },
    {
     "name": "stdout",
     "output_type": "stream",
     "text": [
      "\rReading Comp news 041930"
     ]
    },
    {
     "name": "stdout",
     "output_type": "stream",
     "text": [
      "\rReading Comp news 001520"
     ]
    },
    {
     "name": "stdout",
     "output_type": "stream",
     "text": [
      "\rReading Comp news 001527"
     ]
    },
    {
     "name": "stdout",
     "output_type": "stream",
     "text": [
      "\rReading Comp news 001529"
     ]
    },
    {
     "name": "stdout",
     "output_type": "stream",
     "text": [
      "\rReading Comp news 084670"
     ]
    },
    {
     "name": "stdout",
     "output_type": "stream",
     "text": [
      "\rReading Comp news 030790"
     ]
    },
    {
     "name": "stdout",
     "output_type": "stream",
     "text": [
      "\rReading Comp news 002900"
     ]
    },
    {
     "name": "stdout",
     "output_type": "stream",
     "text": [
      "\rReading Comp news 082640"
     ]
    },
    {
     "name": "stdout",
     "output_type": "stream",
     "text": [
      "\rReading Comp news 060380"
     ]
    },
    {
     "name": "stdout",
     "output_type": "stream",
     "text": [
      "\rReading Comp news 001525"
     ]
    },
    {
     "name": "stdout",
     "output_type": "stream",
     "text": [
      "\rReading Comp news 079960"
     ]
    },
    {
     "name": "stdout",
     "output_type": "stream",
     "text": [
      "\rReading Comp news 008970"
     ]
    },
    {
     "name": "stdout",
     "output_type": "stream",
     "text": [
      "\rReading Comp news 228340"
     ]
    },
    {
     "name": "stdout",
     "output_type": "stream",
     "text": [
      "\rReading Comp news 092780"
     ]
    },
    {
     "name": "stdout",
     "output_type": "stream",
     "text": [
      "\rReading Comp news 104460"
     ]
    },
    {
     "name": "stdout",
     "output_type": "stream",
     "text": [
      "\rReading Comp news 088910"
     ]
    },
    {
     "name": "stdout",
     "output_type": "stream",
     "text": [
      "\rReading Comp news 094170"
     ]
    },
    {
     "name": "stdout",
     "output_type": "stream",
     "text": [
      "\rReading Comp news 003580"
     ]
    },
    {
     "name": "stdout",
     "output_type": "stream",
     "text": [
      "\rReading Comp news 049770"
     ]
    },
    {
     "name": "stdout",
     "output_type": "stream",
     "text": [
      "\rReading Comp news 013120"
     ]
    },
    {
     "name": "stdout",
     "output_type": "stream",
     "text": [
      "\rReading Comp news 018500"
     ]
    },
    {
     "name": "stdout",
     "output_type": "stream",
     "text": [
      "\rReading Comp news 006040"
     ]
    },
    {
     "name": "stdout",
     "output_type": "stream",
     "text": [
      "\rReading Comp news 030720"
     ]
    },
    {
     "name": "stdout",
     "output_type": "stream",
     "text": [
      "\rReading Comp news 014820"
     ]
    },
    {
     "name": "stdout",
     "output_type": "stream",
     "text": [
      "\rReading Comp news 014825"
     ]
    },
    {
     "name": "stdout",
     "output_type": "stream",
     "text": [
      "\rReading Comp news 163560"
     ]
    },
    {
     "name": "stdout",
     "output_type": "stream",
     "text": [
      "\rReading Comp news 109860"
     ]
    },
    {
     "name": "stdout",
     "output_type": "stream",
     "text": [
      "\rReading Comp news 032960"
     ]
    },
    {
     "name": "stdout",
     "output_type": "stream",
     "text": [
      "\rReading Comp news 001530"
     ]
    },
    {
     "name": "stdout",
     "output_type": "stream",
     "text": [
      "\rReading Comp news 004890"
     ]
    },
    {
     "name": "stdout",
     "output_type": "stream",
     "text": [
      "\rReading Comp news 002690"
     ]
    },
    {
     "name": "stdout",
     "output_type": "stream",
     "text": [
      "\rReading Comp news 023790"
     ]
    },
    {
     "name": "stdout",
     "output_type": "stream",
     "text": [
      "\rReading Comp news 005290"
     ]
    },
    {
     "name": "stdout",
     "output_type": "stream",
     "text": [
      "\rReading Comp news 025900"
     ]
    },
    {
     "name": "stdout",
     "output_type": "stream",
     "text": [
      "\rReading Comp news 000020"
     ]
    },
    {
     "name": "stdout",
     "output_type": "stream",
     "text": [
      "\rReading Comp news 000150"
     ]
    },
    {
     "name": "stdout",
     "output_type": "stream",
     "text": [
      "\rReading Comp news 000157"
     ]
    },
    {
     "name": "stdout",
     "output_type": "stream",
     "text": [
      "\rReading Comp news 011160"
     ]
    },
    {
     "name": "stdout",
     "output_type": "stream",
     "text": [
      "\rReading Comp news 241560"
     ]
    },
    {
     "name": "stdout",
     "output_type": "stream",
     "text": [
      "\rReading Comp news 082740"
     ]
    },
    {
     "name": "stdout",
     "output_type": "stream",
     "text": [
      "\rReading Comp news 000155"
     ]
    },
    {
     "name": "stdout",
     "output_type": "stream",
     "text": [
      "\rReading Comp news 042670"
     ]
    },
    {
     "name": "stdout",
     "output_type": "stream",
     "text": [
      "\rReading Comp news 034020"
     ]
    },
    {
     "name": "stdout",
     "output_type": "stream",
     "text": [
      "\rReading Comp news 016740"
     ]
    },
    {
     "name": "stdout",
     "output_type": "stream",
     "text": [
      "\rReading Comp news 078590"
     ]
    },
    {
     "name": "stdout",
     "output_type": "stream",
     "text": [
      "\rReading Comp news 270020"
     ]
    },
    {
     "name": "stdout",
     "output_type": "stream",
     "text": [
      "\rReading Comp news 073190"
     ]
    },
    {
     "name": "stdout",
     "output_type": "stream",
     "text": [
      "\rReading Comp news 176750"
     ]
    },
    {
     "name": "stdout",
     "output_type": "stream",
     "text": [
      "\rReading Comp news 030350"
     ]
    },
    {
     "name": "stdout",
     "output_type": "stream",
     "text": [
      "\rReading Comp news 203650"
     ]
    },
    {
     "name": "stdout",
     "output_type": "stream",
     "text": [
      "\rReading Comp news 220110"
     ]
    },
    {
     "name": "stdout",
     "output_type": "stream",
     "text": [
      "\rReading Comp news 217620"
     ]
    },
    {
     "name": "stdout",
     "output_type": "stream",
     "text": [
      "\rReading Comp news 187870"
     ]
    },
    {
     "name": "stdout",
     "output_type": "stream",
     "text": [
      "\rReading Comp news 066670"
     ]
    },
    {
     "name": "stdout",
     "output_type": "stream",
     "text": [
      "\rReading Comp news 024090"
     ]
    },
    {
     "name": "stdout",
     "output_type": "stream",
     "text": [
      "\rReading Comp news 003160"
     ]
    },
    {
     "name": "stdout",
     "output_type": "stream",
     "text": [
      "\rReading Comp news 092200"
     ]
    },
    {
     "name": "stdout",
     "output_type": "stream",
     "text": [
      "\rReading Comp news 214680"
     ]
    },
    {
     "name": "stdout",
     "output_type": "stream",
     "text": [
      "\rReading Comp news 263720"
     ]
    },
    {
     "name": "stdout",
     "output_type": "stream",
     "text": [
      "\rReading Comp news 109740"
     ]
    },
    {
     "name": "stdout",
     "output_type": "stream",
     "text": [
      "\rReading Comp news 033430"
     ]
    },
    {
     "name": "stdout",
     "output_type": "stream",
     "text": [
      "\rReading Comp news 090710"
     ]
    },
    {
     "name": "stdout",
     "output_type": "stream",
     "text": [
      "\rReading Comp news 131030"
     ]
    },
    {
     "name": "stdout",
     "output_type": "stream",
     "text": [
      "\rReading Comp news 196490"
     ]
    },
    {
     "name": "stdout",
     "output_type": "stream",
     "text": [
      "\rReading Comp news 066900"
     ]
    },
    {
     "name": "stdout",
     "output_type": "stream",
     "text": [
      "\rReading Comp news 127120"
     ]
    },
    {
     "name": "stdout",
     "output_type": "stream",
     "text": [
      "\rReading Comp news 092070"
     ]
    },
    {
     "name": "stdout",
     "output_type": "stream",
     "text": [
      "\rReading Comp news 101000"
     ]
    },
    {
     "name": "stdout",
     "output_type": "stream",
     "text": [
      "\rReading Comp news 134580"
     ]
    },
    {
     "name": "stdout",
     "output_type": "stream",
     "text": [
      "\rReading Comp news 039840"
     ]
    },
    {
     "name": "stdout",
     "output_type": "stream",
     "text": [
      "\rReading Comp news 013570"
     ]
    },
    {
     "name": "stdout",
     "output_type": "stream",
     "text": [
      "\rReading Comp news 210540"
     ]
    },
    {
     "name": "stdout",
     "output_type": "stream",
     "text": [
      "\rReading Comp news 079810"
     ]
    },
    {
     "name": "stdout",
     "output_type": "stream",
     "text": [
      "\rReading Comp news 113810"
     ]
    },
    {
     "name": "stdout",
     "output_type": "stream",
     "text": [
      "\rReading Comp news 043360"
     ]
    },
    {
     "name": "stdout",
     "output_type": "stream",
     "text": [
      "\rReading Comp news 197140"
     ]
    },
    {
     "name": "stdout",
     "output_type": "stream",
     "text": [
      "\rReading Comp news 106520"
     ]
    },
    {
     "name": "stdout",
     "output_type": "stream",
     "text": [
      "\rReading Comp news 068930"
     ]
    },
    {
     "name": "stdout",
     "output_type": "stream",
     "text": [
      "\rReading Comp news 033130"
     ]
    },
    {
     "name": "stdout",
     "output_type": "stream",
     "text": [
      "\rReading Comp news 033310"
     ]
    },
    {
     "name": "stdout",
     "output_type": "stream",
     "text": [
      "\rReading Comp news 105740"
     ]
    },
    {
     "name": "stdout",
     "output_type": "stream",
     "text": [
      "\rReading Comp news 007340"
     ]
    },
    {
     "name": "stdout",
     "output_type": "stream",
     "text": [
      "\rReading Comp news 187220"
     ]
    },
    {
     "name": "stdout",
     "output_type": "stream",
     "text": [
      "\rReading Comp news 026890"
     ]
    },
    {
     "name": "stdout",
     "output_type": "stream",
     "text": [
      "\rReading Comp news 131180"
     ]
    },
    {
     "name": "stdout",
     "output_type": "stream",
     "text": [
      "\rReading Comp news 042510"
     ]
    },
    {
     "name": "stdout",
     "output_type": "stream",
     "text": [
      "\rReading Comp news 232680"
     ]
    },
    {
     "name": "stdout",
     "output_type": "stream",
     "text": [
      "\rReading Comp news 050120"
     ]
    },
    {
     "name": "stdout",
     "output_type": "stream",
     "text": [
      "\rReading Comp news 171120"
     ]
    },
    {
     "name": "stdout",
     "output_type": "stream",
     "text": [
      "\rReading Comp news 069540"
     ]
    },
    {
     "name": "stdout",
     "output_type": "stream",
     "text": [
      "\rReading Comp news 285770"
     ]
    },
    {
     "name": "stdout",
     "output_type": "stream",
     "text": [
      "\rReading Comp news 115390"
     ]
    },
    {
     "name": "stdout",
     "output_type": "stream",
     "text": [
      "\rReading Comp news 200350"
     ]
    },
    {
     "name": "stdout",
     "output_type": "stream",
     "text": [
      "\rReading Comp news 171010"
     ]
    },
    {
     "name": "stdout",
     "output_type": "stream",
     "text": [
      "\rReading Comp news 084650"
     ]
    },
    {
     "name": "stdout",
     "output_type": "stream",
     "text": [
      "\rReading Comp news 092590"
     ]
    },
    {
     "name": "stdout",
     "output_type": "stream",
     "text": [
      "\rReading Comp news 141080"
     ]
    },
    {
     "name": "stdout",
     "output_type": "stream",
     "text": [
      "\rReading Comp news 060300"
     ]
    },
    {
     "name": "stdout",
     "output_type": "stream",
     "text": [
      "\rReading Comp news 038390"
     ]
    },
    {
     "name": "stdout",
     "output_type": "stream",
     "text": [
      "\rReading Comp news 228850"
     ]
    },
    {
     "name": "stdout",
     "output_type": "stream",
     "text": [
      "\rReading Comp news 047440"
     ]
    },
    {
     "name": "stdout",
     "output_type": "stream",
     "text": [
      "\rReading Comp news 238120"
     ]
    },
    {
     "name": "stdout",
     "output_type": "stream",
     "text": [
      "\rReading Comp news 215100"
     ]
    },
    {
     "name": "stdout",
     "output_type": "stream",
     "text": [
      "\rReading Comp news 090360"
     ]
    },
    {
     "name": "stdout",
     "output_type": "stream",
     "text": [
      "\rReading Comp news 238500"
     ]
    },
    {
     "name": "stdout",
     "output_type": "stream",
     "text": [
      "\rReading Comp news 900260"
     ]
    },
    {
     "name": "stdout",
     "output_type": "stream",
     "text": [
      "\rReading Comp news 067730"
     ]
    },
    {
     "name": "stdout",
     "output_type": "stream",
     "text": [
      "\rReading Comp news 071280"
     ]
    },
    {
     "name": "stdout",
     "output_type": "stream",
     "text": [
      "\rReading Comp news 032350"
     ]
    },
    {
     "name": "stdout",
     "output_type": "stream",
     "text": [
      "\rReading Comp news 000400"
     ]
    },
    {
     "name": "stdout",
     "output_type": "stream",
     "text": [
      "\rReading Comp news 023530"
     ]
    },
    {
     "name": "stdout",
     "output_type": "stream",
     "text": [
      "\rReading Comp news 004000"
     ]
    },
    {
     "name": "stdout",
     "output_type": "stream",
     "text": [
      "\rReading Comp news 280360"
     ]
    },
    {
     "name": "stdout",
     "output_type": "stream",
     "text": [
      "\rReading Comp news 004990"
     ]
    },
    {
     "name": "stdout",
     "output_type": "stream",
     "text": [
      "\rReading Comp news 00499K"
     ]
    },
    {
     "name": "stdout",
     "output_type": "stream",
     "text": [
      "\rReading Comp news 005300"
     ]
    },
    {
     "name": "stdout",
     "output_type": "stream",
     "text": [
      "\rReading Comp news 005305"
     ]
    },
    {
     "name": "stdout",
     "output_type": "stream",
     "text": [
      "\rReading Comp news 011170"
     ]
    },
    {
     "name": "stdout",
     "output_type": "stream",
     "text": [
      "\rReading Comp news 002270"
     ]
    },
    {
     "name": "stdout",
     "output_type": "stream",
     "text": [
      "\rReading Comp news 071840"
     ]
    },
    {
     "name": "stdout",
     "output_type": "stream",
     "text": [
      "\rReading Comp news 038060"
     ]
    },
    {
     "name": "stdout",
     "output_type": "stream",
     "text": [
      "\rReading Comp news 082800"
     ]
    },
    {
     "name": "stdout",
     "output_type": "stream",
     "text": [
      "\rReading Comp news 162120"
     ]
    },
    {
     "name": "stdout",
     "output_type": "stream",
     "text": [
      "\rReading Comp news 085370"
     ]
    },
    {
     "name": "stdout",
     "output_type": "stream",
     "text": [
      "\rReading Comp news 08537M"
     ]
    },
    {
     "name": "stdout",
     "output_type": "stream",
     "text": [
      "\rReading Comp news 060240"
     ]
    },
    {
     "name": "stdout",
     "output_type": "stream",
     "text": [
      "\rReading Comp news 058470"
     ]
    },
    {
     "name": "stdout",
     "output_type": "stream",
     "text": [
      "\rReading Comp news 039980"
     ]
    },
    {
     "name": "stdout",
     "output_type": "stream",
     "text": [
      "\rReading Comp news 016100"
     ]
    },
    {
     "name": "stdout",
     "output_type": "stream",
     "text": [
      "\rReading Comp news 197210"
     ]
    },
    {
     "name": "stdout",
     "output_type": "stream",
     "text": [
      "\rReading Comp news 012700"
     ]
    },
    {
     "name": "stdout",
     "output_type": "stream",
     "text": [
      "\rReading Comp news 131100"
     ]
    },
    {
     "name": "stdout",
     "output_type": "stream",
     "text": [
      "\rReading Comp news 277070"
     ]
    },
    {
     "name": "stdout",
     "output_type": "stream",
     "text": [
      "\rReading Comp news 042500"
     ]
    },
    {
     "name": "stdout",
     "output_type": "stream",
     "text": [
      "\rReading Comp news 219420"
     ]
    },
    {
     "name": "stdout",
     "output_type": "stream",
     "text": [
      "\rReading Comp news 027740"
     ]
    },
    {
     "name": "stdout",
     "output_type": "stream",
     "text": [
      "\rReading Comp news 098120"
     ]
    },
    {
     "name": "stdout",
     "output_type": "stream",
     "text": [
      "\rReading Comp news 147760"
     ]
    },
    {
     "name": "stdout",
     "output_type": "stream",
     "text": [
      "\rReading Comp news 035480"
     ]
    },
    {
     "name": "stdout",
     "output_type": "stream",
     "text": [
      "\rReading Comp news 038290"
     ]
    },
    {
     "name": "stdout",
     "output_type": "stream",
     "text": [
      "\rReading Comp news 204320"
     ]
    },
    {
     "name": "stdout",
     "output_type": "stream",
     "text": [
      "\rReading Comp news 001080"
     ]
    },
    {
     "name": "stdout",
     "output_type": "stream",
     "text": [
      "\rReading Comp news 267980"
     ]
    },
    {
     "name": "stdout",
     "output_type": "stream",
     "text": [
      "\rReading Comp news 005990"
     ]
    },
    {
     "name": "stdout",
     "output_type": "stream",
     "text": [
      "\rReading Comp news 127160"
     ]
    },
    {
     "name": "stdout",
     "output_type": "stream",
     "text": [
      "\rReading Comp news 093520"
     ]
    },
    {
     "name": "stdout",
     "output_type": "stream",
     "text": [
      "\rReading Comp news 141070"
     ]
    },
    {
     "name": "stdout",
     "output_type": "stream",
     "text": [
      "\rReading Comp news 088980"
     ]
    },
    {
     "name": "stdout",
     "output_type": "stream",
     "text": [
      "\rReading Comp news 094800"
     ]
    },
    {
     "name": "stdout",
     "output_type": "stream",
     "text": [
      "\rReading Comp news 067280"
     ]
    },
    {
     "name": "stdout",
     "output_type": "stream",
     "text": [
      "\rReading Comp news 072870"
     ]
    },
    {
     "name": "stdout",
     "output_type": "stream",
     "text": [
      "\rReading Comp news 215200"
     ]
    },
    {
     "name": "stdout",
     "output_type": "stream",
     "text": [
      "\rReading Comp news 133750"
     ]
    },
    {
     "name": "stdout",
     "output_type": "stream",
     "text": [
      "\rReading Comp news 200580"
     ]
    },
    {
     "name": "stdout",
     "output_type": "stream",
     "text": [
      "\rReading Comp news 041920"
     ]
    },
    {
     "name": "stdout",
     "output_type": "stream",
     "text": [
      "\rReading Comp news 233250"
     ]
    },
    {
     "name": "stdout",
     "output_type": "stream",
     "text": [
      "\rReading Comp news 236340"
     ]
    },
    {
     "name": "stdout",
     "output_type": "stream",
     "text": [
      "\rReading Comp news 086900"
     ]
    },
    {
     "name": "stdout",
     "output_type": "stream",
     "text": [
      "\rReading Comp news 078160"
     ]
    },
    {
     "name": "stdout",
     "output_type": "stream",
     "text": [
      "\rReading Comp news 065650"
     ]
    },
    {
     "name": "stdout",
     "output_type": "stream",
     "text": [
      "\rReading Comp news 015540"
     ]
    },
    {
     "name": "stdout",
     "output_type": "stream",
     "text": [
      "\rReading Comp news 138040"
     ]
    },
    {
     "name": "stdout",
     "output_type": "stream",
     "text": [
      "\rReading Comp news 008560"
     ]
    },
    {
     "name": "stdout",
     "output_type": "stream",
     "text": [
      "\rReading Comp news 000060"
     ]
    },
    {
     "name": "stdout",
     "output_type": "stream",
     "text": [
      "\rReading Comp news 021880"
     ]
    },
    {
     "name": "stdout",
     "output_type": "stream",
     "text": [
      "\rReading Comp news 140410"
     ]
    },
    {
     "name": "stdout",
     "output_type": "stream",
     "text": [
      "\rReading Comp news 241770"
     ]
    },
    {
     "name": "stdout",
     "output_type": "stream",
     "text": [
      "\rReading Comp news 090370"
     ]
    },
    {
     "name": "stdout",
     "output_type": "stream",
     "text": [
      "\rReading Comp news 059210"
     ]
    },
    {
     "name": "stdout",
     "output_type": "stream",
     "text": [
      "\rReading Comp news 058110"
     ]
    },
    {
     "name": "stdout",
     "output_type": "stream",
     "text": [
      "\rReading Comp news 096640"
     ]
    },
    {
     "name": "stdout",
     "output_type": "stream",
     "text": [
      "\rReading Comp news 017180"
     ]
    },
    {
     "name": "stdout",
     "output_type": "stream",
     "text": [
      "\rReading Comp news 267060"
     ]
    },
    {
     "name": "stdout",
     "output_type": "stream",
     "text": [
      "\rReading Comp news 012690"
     ]
    },
    {
     "name": "stdout",
     "output_type": "stream",
     "text": [
      "\rReading Comp news 005360"
     ]
    },
    {
     "name": "stdout",
     "output_type": "stream",
     "text": [
      "\rReading Comp news 149940"
     ]
    },
    {
     "name": "stdout",
     "output_type": "stream",
     "text": [
      "\rReading Comp news 080420"
     ]
    },
    {
     "name": "stdout",
     "output_type": "stream",
     "text": [
      "\rReading Comp news 080160"
     ]
    },
    {
     "name": "stdout",
     "output_type": "stream",
     "text": [
      "\rReading Comp news 204210"
     ]
    },
    {
     "name": "stdout",
     "output_type": "stream",
     "text": [
      "\rReading Comp news 100030"
     ]
    },
    {
     "name": "stdout",
     "output_type": "stream",
     "text": [
      "\rReading Comp news 087260"
     ]
    },
    {
     "name": "stdout",
     "output_type": "stream",
     "text": [
      "\rReading Comp news 101330"
     ]
    },
    {
     "name": "stdout",
     "output_type": "stream",
     "text": [
      "\rReading Comp news 250060"
     ]
    },
    {
     "name": "stdout",
     "output_type": "stream",
     "text": [
      "\rReading Comp news 033200"
     ]
    },
    {
     "name": "stdout",
     "output_type": "stream",
     "text": [
      "\rReading Comp news 009680"
     ]
    },
    {
     "name": "stdout",
     "output_type": "stream",
     "text": [
      "\rReading Comp news 118990"
     ]
    },
    {
     "name": "stdout",
     "output_type": "stream",
     "text": [
      "\rReading Comp news 006920"
     ]
    },
    {
     "name": "stdout",
     "output_type": "stream",
     "text": [
      "\rReading Comp news 009580"
     ]
    },
    {
     "name": "stdout",
     "output_type": "stream",
     "text": [
      "\rReading Comp news 001810"
     ]
    },
    {
     "name": "stdout",
     "output_type": "stream",
     "text": [
      "\rReading Comp news 009200"
     ]
    },
    {
     "name": "stdout",
     "output_type": "stream",
     "text": [
      "\rReading Comp news 033920"
     ]
    },
    {
     "name": "stdout",
     "output_type": "stream",
     "text": [
      "\rReading Comp news 008420"
     ]
    },
    {
     "name": "stdout",
     "output_type": "stream",
     "text": [
      "\rReading Comp news 161570"
     ]
    },
    {
     "name": "stdout",
     "output_type": "stream",
     "text": [
      "\rReading Comp news 279600"
     ]
    },
    {
     "name": "stdout",
     "output_type": "stream",
     "text": [
      "\rReading Comp news 028040"
     ]
    },
    {
     "name": "stdout",
     "output_type": "stream",
     "text": [
      "\rReading Comp news 095500"
     ]
    },
    {
     "name": "stdout",
     "output_type": "stream",
     "text": [
      "\rReading Comp news 025560"
     ]
    },
    {
     "name": "stdout",
     "output_type": "stream",
     "text": [
      "\rReading Comp news 218150"
     ]
    },
    {
     "name": "stdout",
     "output_type": "stream",
     "text": [
      "\rReading Comp news 007120"
     ]
    },
    {
     "name": "stdout",
     "output_type": "stream",
     "text": [
      "\rReading Comp news 006800"
     ]
    },
    {
     "name": "stdout",
     "output_type": "stream",
     "text": [
      "\rReading Comp news 00680K"
     ]
    },
    {
     "name": "stdout",
     "output_type": "stream",
     "text": [
      "\rReading Comp news 265480"
     ]
    },
    {
     "name": "stdout",
     "output_type": "stream",
     "text": [
      "\rReading Comp news 006805"
     ]
    },
    {
     "name": "stdout",
     "output_type": "stream",
     "text": [
      "\rReading Comp news 085620"
     ]
    },
    {
     "name": "stdout",
     "output_type": "stream",
     "text": [
      "\rReading Comp news 239340"
     ]
    },
    {
     "name": "stdout",
     "output_type": "stream",
     "text": [
      "\rReading Comp news 049950"
     ]
    },
    {
     "name": "stdout",
     "output_type": "stream",
     "text": [
      "\rReading Comp news 213090"
     ]
    },
    {
     "name": "stdout",
     "output_type": "stream",
     "text": [
      "\rReading Comp news 207760"
     ]
    },
    {
     "name": "stdout",
     "output_type": "stream",
     "text": [
      "\rReading Comp news 225850"
     ]
    },
    {
     "name": "stdout",
     "output_type": "stream",
     "text": [
      "\rReading Comp news 002840"
     ]
    },
    {
     "name": "stdout",
     "output_type": "stream",
     "text": [
      "\rReading Comp news 268280"
     ]
    },
    {
     "name": "stdout",
     "output_type": "stream",
     "text": [
      "\rReading Comp news 107590"
     ]
    },
    {
     "name": "stdout",
     "output_type": "stream",
     "text": [
      "\rReading Comp news 134380"
     ]
    },
    {
     "name": "stdout",
     "output_type": "stream",
     "text": [
      "\rReading Comp news 003650"
     ]
    },
    {
     "name": "stdout",
     "output_type": "stream",
     "text": [
      "\rReading Comp news 059090"
     ]
    },
    {
     "name": "stdout",
     "output_type": "stream",
     "text": [
      "\rReading Comp news 214610"
     ]
    },
    {
     "name": "stdout",
     "output_type": "stream",
     "text": [
      "\rReading Comp news 201490"
     ]
    },
    {
     "name": "stdout",
     "output_type": "stream",
     "text": [
      "\rReading Comp news 214180"
     ]
    },
    {
     "name": "stdout",
     "output_type": "stream",
     "text": [
      "\rReading Comp news 155900"
     ]
    },
    {
     "name": "stdout",
     "output_type": "stream",
     "text": [
      "\rReading Comp news 206640"
     ]
    },
    {
     "name": "stdout",
     "output_type": "stream",
     "text": [
      "\rReading Comp news 018700"
     ]
    },
    {
     "name": "stdout",
     "output_type": "stream",
     "text": [
      "\rReading Comp news 035620"
     ]
    },
    {
     "name": "stdout",
     "output_type": "stream",
     "text": [
      "\rReading Comp news 064520"
     ]
    },
    {
     "name": "stdout",
     "output_type": "stream",
     "text": [
      "\rReading Comp news 029480"
     ]
    },
    {
     "name": "stdout",
     "output_type": "stream",
     "text": [
      "\rReading Comp news 053030"
     ]
    },
    {
     "name": "stdout",
     "output_type": "stream",
     "text": [
      "\rReading Comp news 084990"
     ]
    },
    {
     "name": "stdout",
     "output_type": "stream",
     "text": [
      "\rReading Comp news 064550"
     ]
    },
    {
     "name": "stdout",
     "output_type": "stream",
     "text": [
      "\rReading Comp news 222810"
     ]
    },
    {
     "name": "stdout",
     "output_type": "stream",
     "text": [
      "\rReading Comp news 208710"
     ]
    },
    {
     "name": "stdout",
     "output_type": "stream",
     "text": [
      "\rReading Comp news 142760"
     ]
    },
    {
     "name": "stdout",
     "output_type": "stream",
     "text": [
      "\rReading Comp news 065940"
     ]
    },
    {
     "name": "stdout",
     "output_type": "stream",
     "text": [
      "\rReading Comp news 038460"
     ]
    },
    {
     "name": "stdout",
     "output_type": "stream",
     "text": [
      "\rReading Comp news 281310"
     ]
    },
    {
     "name": "stdout",
     "output_type": "stream",
     "text": [
      "\rReading Comp news 044480"
     ]
    },
    {
     "name": "stdout",
     "output_type": "stream",
     "text": [
      "\rReading Comp news 216400"
     ]
    },
    {
     "name": "stdout",
     "output_type": "stream",
     "text": [
      "\rReading Comp news 086040"
     ]
    },
    {
     "name": "stdout",
     "output_type": "stream",
     "text": [
      "\rReading Comp news 199290"
     ]
    },
    {
     "name": "stdout",
     "output_type": "stream",
     "text": [
      "\rReading Comp news 032980"
     ]
    },
    {
     "name": "stdout",
     "output_type": "stream",
     "text": [
      "\rReading Comp news 222160"
     ]
    },
    {
     "name": "stdout",
     "output_type": "stream",
     "text": [
      "\rReading Comp news 043150"
     ]
    },
    {
     "name": "stdout",
     "output_type": "stream",
     "text": [
      "\rReading Comp news 003610"
     ]
    },
    {
     "name": "stdout",
     "output_type": "stream",
     "text": [
      "\rReading Comp news 267790"
     ]
    },
    {
     "name": "stdout",
     "output_type": "stream",
     "text": [
      "\rReading Comp news 001340"
     ]
    },
    {
     "name": "stdout",
     "output_type": "stream",
     "text": [
      "\rReading Comp news 014580"
     ]
    },
    {
     "name": "stdout",
     "output_type": "stream",
     "text": [
      "\rReading Comp news 046310"
     ]
    },
    {
     "name": "stdout",
     "output_type": "stream",
     "text": [
      "\rReading Comp news 035150"
     ]
    },
    {
     "name": "stdout",
     "output_type": "stream",
     "text": [
      "\rReading Comp news 036620"
     ]
    },
    {
     "name": "stdout",
     "output_type": "stream",
     "text": [
      "\rReading Comp news 002410"
     ]
    },
    {
     "name": "stdout",
     "output_type": "stream",
     "text": [
      "\rReading Comp news 177350"
     ]
    },
    {
     "name": "stdout",
     "output_type": "stream",
     "text": [
      "\rReading Comp news 096300"
     ]
    },
    {
     "name": "stdout",
     "output_type": "stream",
     "text": [
      "\rReading Comp news 007210"
     ]
    },
    {
     "name": "stdout",
     "output_type": "stream",
     "text": [
      "\rReading Comp news 225530"
     ]
    },
    {
     "name": "stdout",
     "output_type": "stream",
     "text": [
      "\rReading Comp news 250000"
     ]
    },
    {
     "name": "stdout",
     "output_type": "stream",
     "text": [
      "\rReading Comp news 002760"
     ]
    },
    {
     "name": "stdout",
     "output_type": "stream",
     "text": [
      "\rReading Comp news 014100"
     ]
    },
    {
     "name": "stdout",
     "output_type": "stream",
     "text": [
      "\rReading Comp news 003850"
     ]
    },
    {
     "name": "stdout",
     "output_type": "stream",
     "text": [
      "\rReading Comp news 006910"
     ]
    },
    {
     "name": "stdout",
     "output_type": "stream",
     "text": [
      "\rReading Comp news 000890"
     ]
    },
    {
     "name": "stdout",
     "output_type": "stream",
     "text": [
      "\rReading Comp news 242420"
     ]
    },
    {
     "name": "stdout",
     "output_type": "stream",
     "text": [
      "\rReading Comp news 206950"
     ]
    },
    {
     "name": "stdout",
     "output_type": "stream",
     "text": [
      "\rReading Comp news 003000"
     ]
    },
    {
     "name": "stdout",
     "output_type": "stream",
     "text": [
      "\rReading Comp news 001270"
     ]
    },
    {
     "name": "stdout",
     "output_type": "stream",
     "text": [
      "\rReading Comp news 001275"
     ]
    },
    {
     "name": "stdout",
     "output_type": "stream",
     "text": [
      "\rReading Comp news 026940"
     ]
    },
    {
     "name": "stdout",
     "output_type": "stream",
     "text": [
      "\rReading Comp news 014470"
     ]
    },
    {
     "name": "stdout",
     "output_type": "stream",
     "text": [
      "\rReading Comp news 015350"
     ]
    },
    {
     "name": "stdout",
     "output_type": "stream",
     "text": [
      "\rReading Comp news 011390"
     ]
    },
    {
     "name": "stdout",
     "output_type": "stream",
     "text": [
      "\rReading Comp news 005030"
     ]
    },
    {
     "name": "stdout",
     "output_type": "stream",
     "text": [
      "\rReading Comp news 008470"
     ]
    },
    {
     "name": "stdout",
     "output_type": "stream",
     "text": [
      "\rReading Comp news 100120"
     ]
    },
    {
     "name": "stdout",
     "output_type": "stream",
     "text": [
      "\rReading Comp news 066980"
     ]
    },
    {
     "name": "stdout",
     "output_type": "stream",
     "text": [
      "\rReading Comp news 064480"
     ]
    },
    {
     "name": "stdout",
     "output_type": "stream",
     "text": [
      "\rReading Comp news 251630"
     ]
    },
    {
     "name": "stdout",
     "output_type": "stream",
     "text": [
      "\rReading Comp news 033560"
     ]
    },
    {
     "name": "stdout",
     "output_type": "stream",
     "text": [
      "\rReading Comp news 126340"
     ]
    },
    {
     "name": "stdout",
     "output_type": "stream",
     "text": [
      "\rReading Comp news 121800"
     ]
    },
    {
     "name": "stdout",
     "output_type": "stream",
     "text": [
      "\rReading Comp news 148140"
     ]
    },
    {
     "name": "stdout",
     "output_type": "stream",
     "text": [
      "\rReading Comp news 100220"
     ]
    },
    {
     "name": "stdout",
     "output_type": "stream",
     "text": [
      "\rReading Comp news 200780"
     ]
    },
    {
     "name": "stdout",
     "output_type": "stream",
     "text": [
      "\rReading Comp news 141000"
     ]
    },
    {
     "name": "stdout",
     "output_type": "stream",
     "text": [
      "\rReading Comp news 090460"
     ]
    },
    {
     "name": "stdout",
     "output_type": "stream",
     "text": [
      "\rReading Comp news 083650"
     ]
    },
    {
     "name": "stdout",
     "output_type": "stream",
     "text": [
      "\rReading Comp news 215050"
     ]
    },
    {
     "name": "stdout",
     "output_type": "stream",
     "text": [
      "\rReading Comp news 086670"
     ]
    },
    {
     "name": "stdout",
     "output_type": "stream",
     "text": [
      "\rReading Comp news 138580"
     ]
    },
    {
     "name": "stdout",
     "output_type": "stream",
     "text": [
      "\rReading Comp news 082920"
     ]
    },
    {
     "name": "stdout",
     "output_type": "stream",
     "text": [
      "\rReading Comp news 054220"
     ]
    },
    {
     "name": "stdout",
     "output_type": "stream",
     "text": [
      "\rReading Comp news 042370"
     ]
    },
    {
     "name": "stdout",
     "output_type": "stream",
     "text": [
      "\rReading Comp news 032850"
     ]
    },
    {
     "name": "stdout",
     "output_type": "stream",
     "text": [
      "\rReading Comp news 148780"
     ]
    },
    {
     "name": "stdout",
     "output_type": "stream",
     "text": [
      "\rReading Comp news 093190"
     ]
    },
    {
     "name": "stdout",
     "output_type": "stream",
     "text": [
      "\rReading Comp news 065450"
     ]
    },
    {
     "name": "stdout",
     "output_type": "stream",
     "text": [
      "\rReading Comp news 210120"
     ]
    },
    {
     "name": "stdout",
     "output_type": "stream",
     "text": [
      "\rReading Comp news 005180"
     ]
    },
    {
     "name": "stdout",
     "output_type": "stream",
     "text": [
      "\rReading Comp news 072950"
     ]
    },
    {
     "name": "stdout",
     "output_type": "stream",
     "text": [
      "\rReading Comp news 266170"
     ]
    },
    {
     "name": "stdout",
     "output_type": "stream",
     "text": [
      "\rReading Comp news 143240"
     ]
    },
    {
     "name": "stdout",
     "output_type": "stream",
     "text": [
      "\rReading Comp news 003960"
     ]
    },
    {
     "name": "stdout",
     "output_type": "stream",
     "text": [
      "\rReading Comp news 008040"
     ]
    },
    {
     "name": "stdout",
     "output_type": "stream",
     "text": [
      "\rReading Comp news 007160"
     ]
    },
    {
     "name": "stdout",
     "output_type": "stream",
     "text": [
      "\rReading Comp news 014710"
     ]
    },
    {
     "name": "stdout",
     "output_type": "stream",
     "text": [
      "\rReading Comp news 006090"
     ]
    },
    {
     "name": "stdout",
     "output_type": "stream",
     "text": [
      "\rReading Comp news 079660"
     ]
    },
    {
     "name": "stdout",
     "output_type": "stream",
     "text": [
      "\rReading Comp news 100090"
     ]
    },
    {
     "name": "stdout",
     "output_type": "stream",
     "text": [
      "\rReading Comp news 005090"
     ]
    },
    {
     "name": "stdout",
     "output_type": "stream",
     "text": [
      "\rReading Comp news 122350"
     ]
    },
    {
     "name": "stdout",
     "output_type": "stream",
     "text": [
      "\rReading Comp news 014970"
     ]
    },
    {
     "name": "stdout",
     "output_type": "stream",
     "text": [
      "\rReading Comp news 018310"
     ]
    },
    {
     "name": "stdout",
     "output_type": "stream",
     "text": [
      "\rReading Comp news 053700"
     ]
    },
    {
     "name": "stdout",
     "output_type": "stream",
     "text": [
      "\rReading Comp news 009620"
     ]
    },
    {
     "name": "stdout",
     "output_type": "stream",
     "text": [
      "\rReading Comp news 023600"
     ]
    },
    {
     "name": "stdout",
     "output_type": "stream",
     "text": [
      "\rReading Comp news 111870"
     ]
    },
    {
     "name": "stdout",
     "output_type": "stream",
     "text": [
      "\rReading Comp news 001470"
     ]
    },
    {
     "name": "stdout",
     "output_type": "stream",
     "text": [
      "\rReading Comp news 006400"
     ]
    },
    {
     "name": "stdout",
     "output_type": "stream",
     "text": [
      "\rReading Comp news 006405"
     ]
    },
    {
     "name": "stdout",
     "output_type": "stream",
     "text": [
      "\rReading Comp news 006660"
     ]
    },
    {
     "name": "stdout",
     "output_type": "stream",
     "text": [
      "\rReading Comp news 028260"
     ]
    },
    {
     "name": "stdout",
     "output_type": "stream",
     "text": [
      "\rReading Comp news 02826K"
     ]
    },
    {
     "name": "stdout",
     "output_type": "stream",
     "text": [
      "\rReading Comp news 207940"
     ]
    },
    {
     "name": "stdout",
     "output_type": "stream",
     "text": [
      "\rReading Comp news 032830"
     ]
    },
    {
     "name": "stdout",
     "output_type": "stream",
     "text": [
      "\rReading Comp news 018260"
     ]
    },
    {
     "name": "stdout",
     "output_type": "stream",
     "text": [
      "\rReading Comp news 028050"
     ]
    },
    {
     "name": "stdout",
     "output_type": "stream",
     "text": [
      "\rReading Comp news 009150"
     ]
    },
    {
     "name": "stdout",
     "output_type": "stream",
     "text": [
      "\rReading Comp news 009155"
     ]
    },
    {
     "name": "stdout",
     "output_type": "stream",
     "text": [
      "\rReading Comp news 005930"
     ]
    },
    {
     "name": "stdout",
     "output_type": "stream",
     "text": [
      "\rReading Comp news 005935"
     ]
    },
    {
     "name": "stdout",
     "output_type": "stream",
     "text": [
      "\rReading Comp news 001360"
     ]
    },
    {
     "name": "stdout",
     "output_type": "stream",
     "text": [
      "\rReading Comp news 010140"
     ]
    },
    {
     "name": "stdout",
     "output_type": "stream",
     "text": [
      "\rReading Comp news 010145"
     ]
    },
    {
     "name": "stdout",
     "output_type": "stream",
     "text": [
      "\rReading Comp news 016360"
     ]
    },
    {
     "name": "stdout",
     "output_type": "stream",
     "text": [
      "\rReading Comp news 068290"
     ]
    },
    {
     "name": "stdout",
     "output_type": "stream",
     "text": [
      "\rReading Comp news 029780"
     ]
    },
    {
     "name": "stdout",
     "output_type": "stream",
     "text": [
      "\rReading Comp news 000810"
     ]
    },
    {
     "name": "stdout",
     "output_type": "stream",
     "text": [
      "\rReading Comp news 000815"
     ]
    },
    {
     "name": "stdout",
     "output_type": "stream",
     "text": [
      "\rReading Comp news 006110"
     ]
    },
    {
     "name": "stdout",
     "output_type": "stream",
     "text": [
      "\rReading Comp news 009300"
     ]
    },
    {
     "name": "stdout",
     "output_type": "stream",
     "text": [
      "\rReading Comp news 145990"
     ]
    },
    {
     "name": "stdout",
     "output_type": "stream",
     "text": [
      "\rReading Comp news 145995"
     ]
    },
    {
     "name": "stdout",
     "output_type": "stream",
     "text": [
      "\rReading Comp news 003230"
     ]
    },
    {
     "name": "stdout",
     "output_type": "stream",
     "text": [
      "\rReading Comp news 225190"
     ]
    },
    {
     "name": "stdout",
     "output_type": "stream",
     "text": [
      "\rReading Comp news 002170"
     ]
    },
    {
     "name": "stdout",
     "output_type": "stream",
     "text": [
      "\rReading Comp news 272550"
     ]
    },
    {
     "name": "stdout",
     "output_type": "stream",
     "text": [
      "\rReading Comp news 000070"
     ]
    },
    {
     "name": "stdout",
     "output_type": "stream",
     "text": [
      "\rReading Comp news 000075"
     ]
    },
    {
     "name": "stdout",
     "output_type": "stream",
     "text": [
      "\rReading Comp news 002810"
     ]
    },
    {
     "name": "stdout",
     "output_type": "stream",
     "text": [
      "\rReading Comp news 054540"
     ]
    },
    {
     "name": "stdout",
     "output_type": "stream",
     "text": [
      "\rReading Comp news 065570"
     ]
    },
    {
     "name": "stdout",
     "output_type": "stream",
     "text": [
      "\rReading Comp news 005680"
     ]
    },
    {
     "name": "stdout",
     "output_type": "stream",
     "text": [
      "\rReading Comp news 003720"
     ]
    },
    {
     "name": "stdout",
     "output_type": "stream",
     "text": [
      "\rReading Comp news 082660"
     ]
    },
    {
     "name": "stdout",
     "output_type": "stream",
     "text": [
      "\rReading Comp news 023000"
     ]
    },
    {
     "name": "stdout",
     "output_type": "stream",
     "text": [
      "\rReading Comp news 073640"
     ]
    },
    {
     "name": "stdout",
     "output_type": "stream",
     "text": [
      "\rReading Comp news 004380"
     ]
    },
    {
     "name": "stdout",
     "output_type": "stream",
     "text": [
      "\rReading Comp news 002450"
     ]
    },
    {
     "name": "stdout",
     "output_type": "stream",
     "text": [
      "\rReading Comp news 032280"
     ]
    },
    {
     "name": "stdout",
     "output_type": "stream",
     "text": [
      "\rReading Comp news 002290"
     ]
    },
    {
     "name": "stdout",
     "output_type": "stream",
     "text": [
      "\rReading Comp news 000520"
     ]
    },
    {
     "name": "stdout",
     "output_type": "stream",
     "text": [
      "\rReading Comp news 009770"
     ]
    },
    {
     "name": "stdout",
     "output_type": "stream",
     "text": [
      "\rReading Comp news 037460"
     ]
    },
    {
     "name": "stdout",
     "output_type": "stream",
     "text": [
      "\rReading Comp news 032750"
     ]
    },
    {
     "name": "stdout",
     "output_type": "stream",
     "text": [
      "\rReading Comp news 054090"
     ]
    },
    {
     "name": "stdout",
     "output_type": "stream",
     "text": [
      "\rReading Comp news 005500"
     ]
    },
    {
     "name": "stdout",
     "output_type": "stream",
     "text": [
      "\rReading Comp news 000250"
     ]
    },
    {
     "name": "stdout",
     "output_type": "stream",
     "text": [
      "\rReading Comp news 004690"
     ]
    },
    {
     "name": "stdout",
     "output_type": "stream",
     "text": [
      "\rReading Comp news 024950"
     ]
    },
    {
     "name": "stdout",
     "output_type": "stream",
     "text": [
      "\rReading Comp news 038500"
     ]
    },
    {
     "name": "stdout",
     "output_type": "stream",
     "text": [
      "\rReading Comp news 017480"
     ]
    },
    {
     "name": "stdout",
     "output_type": "stream",
     "text": [
      "\rReading Comp news 001880"
     ]
    },
    {
     "name": "stdout",
     "output_type": "stream",
     "text": [
      "\rReading Comp news 010960"
     ]
    },
    {
     "name": "stdout",
     "output_type": "stream",
     "text": [
      "\rReading Comp news 046390"
     ]
    },
    {
     "name": "stdout",
     "output_type": "stream",
     "text": [
      "\rReading Comp news 004450"
     ]
    },
    {
     "name": "stdout",
     "output_type": "stream",
     "text": [
      "\rReading Comp news 009470"
     ]
    },
    {
     "name": "stdout",
     "output_type": "stream",
     "text": [
      "\rReading Comp news 011230"
     ]
    },
    {
     "name": "stdout",
     "output_type": "stream",
     "text": [
      "\rReading Comp news 001820"
     ]
    },
    {
     "name": "stdout",
     "output_type": "stream",
     "text": [
      "\rReading Comp news 000390"
     ]
    },
    {
     "name": "stdout",
     "output_type": "stream",
     "text": [
      "\rReading Comp news 027580"
     ]
    },
    {
     "name": "stdout",
     "output_type": "stream",
     "text": [
      "\rReading Comp news 038540"
     ]
    },
    {
     "name": "stdout",
     "output_type": "stream",
     "text": [
      "\rReading Comp news 041650"
     ]
    },
    {
     "name": "stdout",
     "output_type": "stream",
     "text": [
      "\rReading Comp news 091580"
     ]
    },
    {
     "name": "stdout",
     "output_type": "stream",
     "text": [
      "\rReading Comp news 263810"
     ]
    },
    {
     "name": "stdout",
     "output_type": "stream",
     "text": [
      "\rReading Comp news 089980"
     ]
    },
    {
     "name": "stdout",
     "output_type": "stream",
     "text": [
      "\rReading Comp news 042940"
     ]
    },
    {
     "name": "stdout",
     "output_type": "stream",
     "text": [
      "\rReading Comp news 042600"
     ]
    },
    {
     "name": "stdout",
     "output_type": "stream",
     "text": [
      "\rReading Comp news 075180"
     ]
    },
    {
     "name": "stdout",
     "output_type": "stream",
     "text": [
      "\rReading Comp news 263540"
     ]
    },
    {
     "name": "stdout",
     "output_type": "stream",
     "text": [
      "\rReading Comp news 007540"
     ]
    },
    {
     "name": "stdout",
     "output_type": "stream",
     "text": [
      "\rReading Comp news 248170"
     ]
    },
    {
     "name": "stdout",
     "output_type": "stream",
     "text": [
      "\rReading Comp news 038070"
     ]
    },
    {
     "name": "stdout",
     "output_type": "stream",
     "text": [
      "\rReading Comp news 006730"
     ]
    },
    {
     "name": "stdout",
     "output_type": "stream",
     "text": [
      "\rReading Comp news 079650"
     ]
    },
    {
     "name": "stdout",
     "output_type": "stream",
     "text": [
      "\rReading Comp news 100660"
     ]
    },
    {
     "name": "stdout",
     "output_type": "stream",
     "text": [
      "\rReading Comp news 007860"
     ]
    },
    {
     "name": "stdout",
     "output_type": "stream",
     "text": [
      "\rReading Comp news 200880"
     ]
    },
    {
     "name": "stdout",
     "output_type": "stream",
     "text": [
      "\rReading Comp news 012860"
     ]
    },
    {
     "name": "stdout",
     "output_type": "stream",
     "text": [
      "\rReading Comp news 019770"
     ]
    },
    {
     "name": "stdout",
     "output_type": "stream",
     "text": [
      "\rReading Comp news 017390"
     ]
    },
    {
     "name": "stdout",
     "output_type": "stream",
     "text": [
      "\rReading Comp news 043710"
     ]
    },
    {
     "name": "stdout",
     "output_type": "stream",
     "text": [
      "\rReading Comp news 046890"
     ]
    },
    {
     "name": "stdout",
     "output_type": "stream",
     "text": [
      "\rReading Comp news 004410"
     ]
    },
    {
     "name": "stdout",
     "output_type": "stream",
     "text": [
      "\rReading Comp news 004415"
     ]
    },
    {
     "name": "stdout",
     "output_type": "stream",
     "text": [
      "\rReading Comp news 063170"
     ]
    },
    {
     "name": "stdout",
     "output_type": "stream",
     "text": [
      "\rReading Comp news 027040"
     ]
    },
    {
     "name": "stdout",
     "output_type": "stream",
     "text": [
      "\rReading Comp news 018680"
     ]
    },
    {
     "name": "stdout",
     "output_type": "stream",
     "text": [
      "\rReading Comp news 021050"
     ]
    },
    {
     "name": "stdout",
     "output_type": "stream",
     "text": [
      "\rReading Comp news 093920"
     ]
    },
    {
     "name": "stdout",
     "output_type": "stream",
     "text": [
      "\rReading Comp news 189860"
     ]
    },
    {
     "name": "stdout",
     "output_type": "stream",
     "text": [
      "\rReading Comp news 178320"
     ]
    },
    {
     "name": "stdout",
     "output_type": "stream",
     "text": [
      "\rReading Comp news 122690"
     ]
    },
    {
     "name": "stdout",
     "output_type": "stream",
     "text": [
      "\rReading Comp news 140070"
     ]
    },
    {
     "name": "stdout",
     "output_type": "stream",
     "text": [
      "\rReading Comp news 011370"
     ]
    },
    {
     "name": "stdout",
     "output_type": "stream",
     "text": [
      "\rReading Comp news 065710"
     ]
    },
    {
     "name": "stdout",
     "output_type": "stream",
     "text": [
      "\rReading Comp news 008490"
     ]
    },
    {
     "name": "stdout",
     "output_type": "stream",
     "text": [
      "\rReading Comp news 035890"
     ]
    },
    {
     "name": "stdout",
     "output_type": "stream",
     "text": [
      "\rReading Comp news 003100"
     ]
    },
    {
     "name": "stdout",
     "output_type": "stream",
     "text": [
      "\rReading Comp news 123420"
     ]
    },
    {
     "name": "stdout",
     "output_type": "stream",
     "text": [
      "\rReading Comp news 007610"
     ]
    },
    {
     "name": "stdout",
     "output_type": "stream",
     "text": [
      "\rReading Comp news 067370"
     ]
    },
    {
     "name": "stdout",
     "output_type": "stream",
     "text": [
      "\rReading Comp news 171090"
     ]
    },
    {
     "name": "stdout",
     "output_type": "stream",
     "text": [
      "\rReading Comp news 136490"
     ]
    },
    {
     "name": "stdout",
     "output_type": "stream",
     "text": [
      "\rReading Comp news 002820"
     ]
    },
    {
     "name": "stdout",
     "output_type": "stream",
     "text": [
      "\rReading Comp news 014620"
     ]
    },
    {
     "name": "stdout",
     "output_type": "stream",
     "text": [
      "\rReading Comp news 037350"
     ]
    },
    {
     "name": "stdout",
     "output_type": "stream",
     "text": [
      "\rReading Comp news 014910"
     ]
    },
    {
     "name": "stdout",
     "output_type": "stream",
     "text": [
      "\rReading Comp news 014915"
     ]
    },
    {
     "name": "stdout",
     "output_type": "stream",
     "text": [
      "\rReading Comp news 003080"
     ]
    },
    {
     "name": "stdout",
     "output_type": "stream",
     "text": [
      "\rReading Comp news 004980"
     ]
    },
    {
     "name": "stdout",
     "output_type": "stream",
     "text": [
      "\rReading Comp news 004987"
     ]
    },
    {
     "name": "stdout",
     "output_type": "stream",
     "text": [
      "\rReading Comp news 004989"
     ]
    },
    {
     "name": "stdout",
     "output_type": "stream",
     "text": [
      "\rReading Comp news 004985"
     ]
    },
    {
     "name": "stdout",
     "output_type": "stream",
     "text": [
      "\rReading Comp news 011300"
     ]
    },
    {
     "name": "stdout",
     "output_type": "stream",
     "text": [
      "\rReading Comp news 081580"
     ]
    },
    {
     "name": "stdout",
     "output_type": "stream",
     "text": [
      "\rReading Comp news 045300"
     ]
    },
    {
     "name": "stdout",
     "output_type": "stream",
     "text": [
      "\rReading Comp news 015750"
     ]
    },
    {
     "name": "stdout",
     "output_type": "stream",
     "text": [
      "\rReading Comp news 005980"
     ]
    },
    {
     "name": "stdout",
     "output_type": "stream",
     "text": [
      "\rReading Comp news 000180"
     ]
    },
    {
     "name": "stdout",
     "output_type": "stream",
     "text": [
      "\rReading Comp news 080470"
     ]
    },
    {
     "name": "stdout",
     "output_type": "stream",
     "text": [
      "\rReading Comp news 043260"
     ]
    },
    {
     "name": "stdout",
     "output_type": "stream",
     "text": [
      "\rReading Comp news 002420"
     ]
    },
    {
     "name": "stdout",
     "output_type": "stream",
     "text": [
      "\rReading Comp news 053060"
     ]
    },
    {
     "name": "stdout",
     "output_type": "stream",
     "text": [
      "\rReading Comp news 017510"
     ]
    },
    {
     "name": "stdout",
     "output_type": "stream",
     "text": [
      "\rReading Comp news 214310"
     ]
    },
    {
     "name": "stdout",
     "output_type": "stream",
     "text": [
      "\rReading Comp news 004360"
     ]
    },
    {
     "name": "stdout",
     "output_type": "stream",
     "text": [
      "\rReading Comp news 004365"
     ]
    },
    {
     "name": "stdout",
     "output_type": "stream",
     "text": [
      "\rReading Comp news 004490"
     ]
    },
    {
     "name": "stdout",
     "output_type": "stream",
     "text": [
      "\rReading Comp news 011560"
     ]
    },
    {
     "name": "stdout",
     "output_type": "stream",
     "text": [
      "\rReading Comp news 110660"
     ]
    },
    {
     "name": "stdout",
     "output_type": "stream",
     "text": [
      "\rReading Comp news 001430"
     ]
    },
    {
     "name": "stdout",
     "output_type": "stream",
     "text": [
      "\rReading Comp news 003030"
     ]
    },
    {
     "name": "stdout",
     "output_type": "stream",
     "text": [
      "\rReading Comp news 019440"
     ]
    },
    {
     "name": "stdout",
     "output_type": "stream",
     "text": [
      "\rReading Comp news 058650"
     ]
    },
    {
     "name": "stdout",
     "output_type": "stream",
     "text": [
      "\rReading Comp news 013000"
     ]
    },
    {
     "name": "stdout",
     "output_type": "stream",
     "text": [
      "\rReading Comp news 100700"
     ]
    },
    {
     "name": "stdout",
     "output_type": "stream",
     "text": [
      "\rReading Comp news 234100"
     ]
    },
    {
     "name": "stdout",
     "output_type": "stream",
     "text": [
      "\rReading Comp news 024830"
     ]
    },
    {
     "name": "stdout",
     "output_type": "stream",
     "text": [
      "\rReading Comp news 091090"
     ]
    },
    {
     "name": "stdout",
     "output_type": "stream",
     "text": [
      "\rReading Comp news 021820"
     ]
    },
    {
     "name": "stdout",
     "output_type": "stream",
     "text": [
      "\rReading Comp news 067830"
     ]
    },
    {
     "name": "stdout",
     "output_type": "stream",
     "text": [
      "\rReading Comp news 033530"
     ]
    },
    {
     "name": "stdout",
     "output_type": "stream",
     "text": [
      "\rReading Comp news 135270"
     ]
    },
    {
     "name": "stdout",
     "output_type": "stream",
     "text": [
      "\rReading Comp news 036630"
     ]
    },
    {
     "name": "stdout",
     "output_type": "stream",
     "text": [
      "\rReading Comp news 039310"
     ]
    },
    {
     "name": "stdout",
     "output_type": "stream",
     "text": [
      "\rReading Comp news 075580"
     ]
    },
    {
     "name": "stdout",
     "output_type": "stream",
     "text": [
      "\rReading Comp news 067770"
     ]
    },
    {
     "name": "stdout",
     "output_type": "stream",
     "text": [
      "\rReading Comp news 053450"
     ]
    },
    {
     "name": "stdout",
     "output_type": "stream",
     "text": [
      "\rReading Comp news 027970"
     ]
    },
    {
     "name": "stdout",
     "output_type": "stream",
     "text": [
      "\rReading Comp news 145210"
     ]
    },
    {
     "name": "stdout",
     "output_type": "stream",
     "text": [
      "\rReading Comp news 252500"
     ]
    },
    {
     "name": "stdout",
     "output_type": "stream",
     "text": [
      "\rReading Comp news 049180"
     ]
    },
    {
     "name": "stdout",
     "output_type": "stream",
     "text": [
      "\rReading Comp news 108860"
     ]
    },
    {
     "name": "stdout",
     "output_type": "stream",
     "text": [
      "\rReading Comp news 208370"
     ]
    },
    {
     "name": "stdout",
     "output_type": "stream",
     "text": [
      "\rReading Comp news 068270"
     ]
    },
    {
     "name": "stdout",
     "output_type": "stream",
     "text": [
      "\rReading Comp news 068760"
     ]
    },
    {
     "name": "stdout",
     "output_type": "stream",
     "text": [
      "\rReading Comp news 091990"
     ]
    },
    {
     "name": "stdout",
     "output_type": "stream",
     "text": [
      "\rReading Comp news 053110"
     ]
    },
    {
     "name": "stdout",
     "output_type": "stream",
     "text": [
      "\rReading Comp news 032680"
     ]
    },
    {
     "name": "stdout",
     "output_type": "stream",
     "text": [
      "\rReading Comp news 032685"
     ]
    },
    {
     "name": "stdout",
     "output_type": "stream",
     "text": [
      "\rReading Comp news 210610"
     ]
    },
    {
     "name": "stdout",
     "output_type": "stream",
     "text": [
      "\rReading Comp news 066910"
     ]
    },
    {
     "name": "stdout",
     "output_type": "stream",
     "text": [
      "\rReading Comp news 043100"
     ]
    },
    {
     "name": "stdout",
     "output_type": "stream",
     "text": [
      "\rReading Comp news 154040"
     ]
    },
    {
     "name": "stdout",
     "output_type": "stream",
     "text": [
      "\rReading Comp news 035610"
     ]
    },
    {
     "name": "stdout",
     "output_type": "stream",
     "text": [
      "\rReading Comp news 036830"
     ]
    },
    {
     "name": "stdout",
     "output_type": "stream",
     "text": [
      "\rReading Comp news 230980"
     ]
    },
    {
     "name": "stdout",
     "output_type": "stream",
     "text": [
      "\rReading Comp news 004430"
     ]
    },
    {
     "name": "stdout",
     "output_type": "stream",
     "text": [
      "\rReading Comp news 086980"
     ]
    },
    {
     "name": "stdout",
     "output_type": "stream",
     "text": [
      "\rReading Comp news 050960"
     ]
    },
    {
     "name": "stdout",
     "output_type": "stream",
     "text": [
      "\rReading Comp news 017550"
     ]
    },
    {
     "name": "stdout",
     "output_type": "stream",
     "text": [
      "\rReading Comp news 084180"
     ]
    },
    {
     "name": "stdout",
     "output_type": "stream",
     "text": [
      "\rReading Comp news 253840"
     ]
    },
    {
     "name": "stdout",
     "output_type": "stream",
     "text": [
      "\rReading Comp news 002200"
     ]
    },
    {
     "name": "stdout",
     "output_type": "stream",
     "text": [
      "\rReading Comp news 185190"
     ]
    },
    {
     "name": "stdout",
     "output_type": "stream",
     "text": [
      "\rReading Comp news 236200"
     ]
    },
    {
     "name": "stdout",
     "output_type": "stream",
     "text": [
      "\rReading Comp news 094840"
     ]
    },
    {
     "name": "stdout",
     "output_type": "stream",
     "text": [
      "\rReading Comp news 192440"
     ]
    },
    {
     "name": "stdout",
     "output_type": "stream",
     "text": [
      "\rReading Comp news 099440"
     ]
    },
    {
     "name": "stdout",
     "output_type": "stream",
     "text": [
      "\rReading Comp news 053210"
     ]
    },
    {
     "name": "stdout",
     "output_type": "stream",
     "text": [
      "\rReading Comp news 033790"
     ]
    },
    {
     "name": "stdout",
     "output_type": "stream",
     "text": [
      "\rReading Comp news 159910"
     ]
    },
    {
     "name": "stdout",
     "output_type": "stream",
     "text": [
      "\rReading Comp news 115570"
     ]
    },
    {
     "name": "stdout",
     "output_type": "stream",
     "text": [
      "\rReading Comp news 258540"
     ]
    },
    {
     "name": "stdout",
     "output_type": "stream",
     "text": [
      "\rReading Comp news 253450"
     ]
    },
    {
     "name": "stdout",
     "output_type": "stream",
     "text": [
      "\rReading Comp news 087220"
     ]
    },
    {
     "name": "stdout",
     "output_type": "stream",
     "text": [
      "\rReading Comp news 245030"
     ]
    },
    {
     "name": "stdout",
     "output_type": "stream",
     "text": [
      "\rReading Comp news 013810"
     ]
    },
    {
     "name": "stdout",
     "output_type": "stream",
     "text": [
      "\rReading Comp news 039670"
     ]
    },
    {
     "name": "stdout",
     "output_type": "stream",
     "text": [
      "\rReading Comp news 049830"
     ]
    },
    {
     "name": "stdout",
     "output_type": "stream",
     "text": [
      "\rReading Comp news 020710"
     ]
    },
    {
     "name": "stdout",
     "output_type": "stream",
     "text": [
      "\rReading Comp news 033170"
     ]
    },
    {
     "name": "stdout",
     "output_type": "stream",
     "text": [
      "\rReading Comp news 260870"
     ]
    },
    {
     "name": "stdout",
     "output_type": "stream",
     "text": [
      "\rReading Comp news 246830"
     ]
    },
    {
     "name": "stdout",
     "output_type": "stream",
     "text": [
      "\rReading Comp news 048870"
     ]
    },
    {
     "name": "stdout",
     "output_type": "stream",
     "text": [
      "\rReading Comp news 025320"
     ]
    },
    {
     "name": "stdout",
     "output_type": "stream",
     "text": [
      "\rReading Comp news 134790"
     ]
    },
    {
     "name": "stdout",
     "output_type": "stream",
     "text": [
      "\rReading Comp news 269620"
     ]
    },
    {
     "name": "stdout",
     "output_type": "stream",
     "text": [
      "\rReading Comp news 131090"
     ]
    },
    {
     "name": "stdout",
     "output_type": "stream",
     "text": [
      "\rReading Comp news 232830"
     ]
    },
    {
     "name": "stdout",
     "output_type": "stream",
     "text": [
      "\rReading Comp news 016590"
     ]
    },
    {
     "name": "stdout",
     "output_type": "stream",
     "text": [
      "\rReading Comp news 029530"
     ]
    },
    {
     "name": "stdout",
     "output_type": "stream",
     "text": [
      "\rReading Comp news 004970"
     ]
    },
    {
     "name": "stdout",
     "output_type": "stream",
     "text": [
      "\rReading Comp news 001000"
     ]
    },
    {
     "name": "stdout",
     "output_type": "stream",
     "text": [
      "\rReading Comp news 025870"
     ]
    },
    {
     "name": "stdout",
     "output_type": "stream",
     "text": [
      "\rReading Comp news 215600"
     ]
    },
    {
     "name": "stdout",
     "output_type": "stream",
     "text": [
      "\rReading Comp news 065350"
     ]
    },
    {
     "name": "stdout",
     "output_type": "stream",
     "text": [
      "\rReading Comp news 011930"
     ]
    },
    {
     "name": "stdout",
     "output_type": "stream",
     "text": [
      "\rReading Comp news 005390"
     ]
    },
    {
     "name": "stdout",
     "output_type": "stream",
     "text": [
      "\rReading Comp news 004170"
     ]
    },
    {
     "name": "stdout",
     "output_type": "stream",
     "text": [
      "\rReading Comp news 035510"
     ]
    },
    {
     "name": "stdout",
     "output_type": "stream",
     "text": [
      "\rReading Comp news 034300"
     ]
    },
    {
     "name": "stdout",
     "output_type": "stream",
     "text": [
      "\rReading Comp news 031430"
     ]
    },
    {
     "name": "stdout",
     "output_type": "stream",
     "text": [
      "\rReading Comp news 031440"
     ]
    },
    {
     "name": "stdout",
     "output_type": "stream",
     "text": [
      "\rReading Comp news 006880"
     ]
    },
    {
     "name": "stdout",
     "output_type": "stream",
     "text": [
      "\rReading Comp news 056000"
     ]
    },
    {
     "name": "stdout",
     "output_type": "stream",
     "text": [
      "\rReading Comp news 002800"
     ]
    },
    {
     "name": "stdout",
     "output_type": "stream",
     "text": [
      "\rReading Comp news 005800"
     ]
    },
    {
     "name": "stdout",
     "output_type": "stream",
     "text": [
      "\rReading Comp news 001720"
     ]
    },
    {
     "name": "stdout",
     "output_type": "stream",
     "text": [
      "\rReading Comp news 001725"
     ]
    },
    {
     "name": "stdout",
     "output_type": "stream",
     "text": [
      "\rReading Comp news 009270"
     ]
    },
    {
     "name": "stdout",
     "output_type": "stream",
     "text": [
      "\rReading Comp news 009275"
     ]
    },
    {
     "name": "stdout",
     "output_type": "stream",
     "text": [
      "\rReading Comp news 017000"
     ]
    },
    {
     "name": "stdout",
     "output_type": "stream",
     "text": [
      "\rReading Comp news 002700"
     ]
    },
    {
     "name": "stdout",
     "output_type": "stream",
     "text": [
      "\rReading Comp news 012790"
     ]
    },
    {
     "name": "stdout",
     "output_type": "stream",
     "text": [
      "\rReading Comp news 138070"
     ]
    },
    {
     "name": "stdout",
     "output_type": "stream",
     "text": [
      "\rReading Comp news 019170"
     ]
    },
    {
     "name": "stdout",
     "output_type": "stream",
     "text": [
      "\rReading Comp news 019175"
     ]
    },
    {
     "name": "stdout",
     "output_type": "stream",
     "text": [
      "\rReading Comp news 002870"
     ]
    },
    {
     "name": "stdout",
     "output_type": "stream",
     "text": [
      "\rReading Comp news 005450"
     ]
    },
    {
     "name": "stdout",
     "output_type": "stream",
     "text": [
      "\rReading Comp news 257730"
     ]
    },
    {
     "name": "stdout",
     "output_type": "stream",
     "text": [
      "\rReading Comp news 277480"
     ]
    },
    {
     "name": "stdout",
     "output_type": "stream",
     "text": [
      "\rReading Comp news 055550"
     ]
    },
    {
     "name": "stdout",
     "output_type": "stream",
     "text": [
      "\rReading Comp news 001770"
     ]
    },
    {
     "name": "stdout",
     "output_type": "stream",
     "text": [
      "\rReading Comp news 056700"
     ]
    },
    {
     "name": "stdout",
     "output_type": "stream",
     "text": [
      "\rReading Comp news 187270"
     ]
    },
    {
     "name": "stdout",
     "output_type": "stream",
     "text": [
      "\rReading Comp news 004080"
     ]
    },
    {
     "name": "stdout",
     "output_type": "stream",
     "text": [
      "\rReading Comp news 243840"
     ]
    },
    {
     "name": "stdout",
     "output_type": "stream",
     "text": [
      "\rReading Comp news 108320"
     ]
    },
    {
     "name": "stdout",
     "output_type": "stream",
     "text": [
      "\rReading Comp news 222800"
     ]
    },
    {
     "name": "stdout",
     "output_type": "stream",
     "text": [
      "\rReading Comp news 036710"
     ]
    },
    {
     "name": "stdout",
     "output_type": "stream",
     "text": [
      "\rReading Comp news 160980"
     ]
    },
    {
     "name": "stdout",
     "output_type": "stream",
     "text": [
      "\rReading Comp news 102280"
     ]
    },
    {
     "name": "stdout",
     "output_type": "stream",
     "text": [
      "\rReading Comp news 003410"
     ]
    },
    {
     "name": "stdout",
     "output_type": "stream",
     "text": [
      "\rReading Comp news 003415"
     ]
    },
    {
     "name": "stdout",
     "output_type": "stream",
     "text": [
      "\rReading Comp news 010280"
     ]
    },
    {
     "name": "stdout",
     "output_type": "stream",
     "text": [
      "\rReading Comp news 003620"
     ]
    },
    {
     "name": "stdout",
     "output_type": "stream",
     "text": [
      "\rReading Comp news 004770"
     ]
    },
    {
     "name": "stdout",
     "output_type": "stream",
     "text": [
      "\rReading Comp news 217320"
     ]
    },
    {
     "name": "stdout",
     "output_type": "stream",
     "text": [
      "\rReading Comp news 122800"
     ]
    },
    {
     "name": "stdout",
     "output_type": "stream",
     "text": [
      "\rReading Comp news 208640"
     ]
    },
    {
     "name": "stdout",
     "output_type": "stream",
     "text": [
      "\rReading Comp news 222420"
     ]
    },
    {
     "name": "stdout",
     "output_type": "stream",
     "text": [
      "\rReading Comp news 037760"
     ]
    },
    {
     "name": "stdout",
     "output_type": "stream",
     "text": [
      "\rReading Comp news 136510"
     ]
    },
    {
     "name": "stdout",
     "output_type": "stream",
     "text": [
      "\rReading Comp news 099320"
     ]
    },
    {
     "name": "stdout",
     "output_type": "stream",
     "text": [
      "\rReading Comp news 049960"
     ]
    },
    {
     "name": "stdout",
     "output_type": "stream",
     "text": [
      "\rReading Comp news 050890"
     ]
    },
    {
     "name": "stdout",
     "output_type": "stream",
     "text": [
      "\rReading Comp news 066790"
     ]
    },
    {
     "name": "stdout",
     "output_type": "stream",
     "text": [
      "\rReading Comp news 222080"
     ]
    },
    {
     "name": "stdout",
     "output_type": "stream",
     "text": [
      "\rReading Comp news 004920"
     ]
    },
    {
     "name": "stdout",
     "output_type": "stream",
     "text": [
      "\rReading Comp news 236030"
     ]
    },
    {
     "name": "stdout",
     "output_type": "stream",
     "text": [
      "\rReading Comp news 103660"
     ]
    },
    {
     "name": "stdout",
     "output_type": "stream",
     "text": [
      "\rReading Comp news 245450"
     ]
    },
    {
     "name": "stdout",
     "output_type": "stream",
     "text": [
      "\rReading Comp news 264660"
     ]
    },
    {
     "name": "stdout",
     "output_type": "stream",
     "text": [
      "\rReading Comp news 112610"
     ]
    },
    {
     "name": "stdout",
     "output_type": "stream",
     "text": [
      "\rReading Comp news 115530"
     ]
    },
    {
     "name": "stdout",
     "output_type": "stream",
     "text": [
      "\rReading Comp news 225330"
     ]
    },
    {
     "name": "stdout",
     "output_type": "stream",
     "text": [
      "\rReading Comp news 115480"
     ]
    },
    {
     "name": "stdout",
     "output_type": "stream",
     "text": [
      "\rReading Comp news 189330"
     ]
    },
    {
     "name": "stdout",
     "output_type": "stream",
     "text": [
      "\rReading Comp news 096530"
     ]
    },
    {
     "name": "stdout",
     "output_type": "stream",
     "text": [
      "\rReading Comp news 900120"
     ]
    },
    {
     "name": "stdout",
     "output_type": "stream",
     "text": [
      "\rReading Comp news 101240"
     ]
    },
    {
     "name": "stdout",
     "output_type": "stream",
     "text": [
      "\rReading Comp news 047920"
     ]
    },
    {
     "name": "stdout",
     "output_type": "stream",
     "text": [
      "\rReading Comp news 189540"
     ]
    },
    {
     "name": "stdout",
     "output_type": "stream",
     "text": [
      "\rReading Comp news 060590"
     ]
    },
    {
     "name": "stdout",
     "output_type": "stream",
     "text": [
      "\rReading Comp news 036170"
     ]
    },
    {
     "name": "stdout",
     "output_type": "stream",
     "text": [
      "\rReading Comp news 260930"
     ]
    },
    {
     "name": "stdout",
     "output_type": "stream",
     "text": [
      "\rReading Comp news 013990"
     ]
    },
    {
     "name": "stdout",
     "output_type": "stream",
     "text": [
      "\rReading Comp news 123860"
     ]
    },
    {
     "name": "stdout",
     "output_type": "stream",
     "text": [
      "\rReading Comp news 008700"
     ]
    },
    {
     "name": "stdout",
     "output_type": "stream",
     "text": [
      "\rReading Comp news 058220"
     ]
    },
    {
     "name": "stdout",
     "output_type": "stream",
     "text": [
      "\rReading Comp news 002790"
     ]
    },
    {
     "name": "stdout",
     "output_type": "stream",
     "text": [
      "\rReading Comp news 002795"
     ]
    },
    {
     "name": "stdout",
     "output_type": "stream",
     "text": [
      "\rReading Comp news 090430"
     ]
    },
    {
     "name": "stdout",
     "output_type": "stream",
     "text": [
      "\rReading Comp news 090435"
     ]
    },
    {
     "name": "stdout",
     "output_type": "stream",
     "text": [
      "\rReading Comp news 052710"
     ]
    },
    {
     "name": "stdout",
     "output_type": "stream",
     "text": [
      "\rReading Comp news 074430"
     ]
    },
    {
     "name": "stdout",
     "output_type": "stream",
     "text": [
      "\rReading Comp news 092040"
     ]
    },
    {
     "name": "stdout",
     "output_type": "stream",
     "text": [
      "\rReading Comp news 083930"
     ]
    },
    {
     "name": "stdout",
     "output_type": "stream",
     "text": [
      "\rReading Comp news 149950"
     ]
    },
    {
     "name": "stdout",
     "output_type": "stream",
     "text": [
      "\rReading Comp news 036010"
     ]
    },
    {
     "name": "stdout",
     "output_type": "stream",
     "text": [
      "\rReading Comp news 002030"
     ]
    },
    {
     "name": "stdout",
     "output_type": "stream",
     "text": [
      "\rReading Comp news 183190"
     ]
    },
    {
     "name": "stdout",
     "output_type": "stream",
     "text": [
      "\rReading Comp news 002310"
     ]
    },
    {
     "name": "stdout",
     "output_type": "stream",
     "text": [
      "\rReading Comp news 050860"
     ]
    },
    {
     "name": "stdout",
     "output_type": "stream",
     "text": [
      "\rReading Comp news 246720"
     ]
    },
    {
     "name": "stdout",
     "output_type": "stream",
     "text": [
      "\rReading Comp news 067390"
     ]
    },
    {
     "name": "stdout",
     "output_type": "stream",
     "text": [
      "\rReading Comp news 127710"
     ]
    },
    {
     "name": "stdout",
     "output_type": "stream",
     "text": [
      "\rReading Comp news 020560"
     ]
    },
    {
     "name": "stdout",
     "output_type": "stream",
     "text": [
      "\rReading Comp news 154030"
     ]
    },
    {
     "name": "stdout",
     "output_type": "stream",
     "text": [
      "\rReading Comp news 227610"
     ]
    },
    {
     "name": "stdout",
     "output_type": "stream",
     "text": [
      "\rReading Comp news 143160"
     ]
    },
    {
     "name": "stdout",
     "output_type": "stream",
     "text": [
      "\rReading Comp news 054800"
     ]
    },
    {
     "name": "stdout",
     "output_type": "stream",
     "text": [
      "\rReading Comp news 060570"
     ]
    },
    {
     "name": "stdout",
     "output_type": "stream",
     "text": [
      "\rReading Comp news 122900"
     ]
    },
    {
     "name": "stdout",
     "output_type": "stream",
     "text": [
      "\rReading Comp news 099190"
     ]
    },
    {
     "name": "stdout",
     "output_type": "stream",
     "text": [
      "\rReading Comp news 214430"
     ]
    },
    {
     "name": "stdout",
     "output_type": "stream",
     "text": [
      "\rReading Comp news 040910"
     ]
    },
    {
     "name": "stdout",
     "output_type": "stream",
     "text": [
      "\rReading Comp news 068940"
     ]
    },
    {
     "name": "stdout",
     "output_type": "stream",
     "text": [
      "\rReading Comp news 052860"
     ]
    },
    {
     "name": "stdout",
     "output_type": "stream",
     "text": [
      "\rReading Comp news 010780"
     ]
    },
    {
     "name": "stdout",
     "output_type": "stream",
     "text": [
      "\rReading Comp news 069920"
     ]
    },
    {
     "name": "stdout",
     "output_type": "stream",
     "text": [
      "\rReading Comp news 038880"
     ]
    },
    {
     "name": "stdout",
     "output_type": "stream",
     "text": [
      "\rReading Comp news 079440"
     ]
    },
    {
     "name": "stdout",
     "output_type": "stream",
     "text": [
      "\rReading Comp news 101390"
     ]
    },
    {
     "name": "stdout",
     "output_type": "stream",
     "text": [
      "\rReading Comp news 226350"
     ]
    },
    {
     "name": "stdout",
     "output_type": "stream",
     "text": [
      "\rReading Comp news 078860"
     ]
    },
    {
     "name": "stdout",
     "output_type": "stream",
     "text": [
      "\rReading Comp news 114810"
     ]
    },
    {
     "name": "stdout",
     "output_type": "stream",
     "text": [
      "\rReading Comp news 031310"
     ]
    },
    {
     "name": "stdout",
     "output_type": "stream",
     "text": [
      "\rReading Comp news 185490"
     ]
    },
    {
     "name": "stdout",
     "output_type": "stream",
     "text": [
      "\rReading Comp news 059100"
     ]
    },
    {
     "name": "stdout",
     "output_type": "stream",
     "text": [
      "\rReading Comp news 149010"
     ]
    },
    {
     "name": "stdout",
     "output_type": "stream",
     "text": [
      "\rReading Comp news 052460"
     ]
    },
    {
     "name": "stdout",
     "output_type": "stream",
     "text": [
      "\rReading Comp news 119830"
     ]
    },
    {
     "name": "stdout",
     "output_type": "stream",
     "text": [
      "\rReading Comp news 124500"
     ]
    },
    {
     "name": "stdout",
     "output_type": "stream",
     "text": [
      "\rReading Comp news 033660"
     ]
    },
    {
     "name": "stdout",
     "output_type": "stream",
     "text": [
      "\rReading Comp news 032080"
     ]
    },
    {
     "name": "stdout",
     "output_type": "stream",
     "text": [
      "\rReading Comp news 013310"
     ]
    },
    {
     "name": "stdout",
     "output_type": "stream",
     "text": [
      "\rReading Comp news 059120"
     ]
    },
    {
     "name": "stdout",
     "output_type": "stream",
     "text": [
      "\rReading Comp news 023890"
     ]
    },
    {
     "name": "stdout",
     "output_type": "stream",
     "text": [
      "\rReading Comp news 101140"
     ]
    },
    {
     "name": "stdout",
     "output_type": "stream",
     "text": [
      "\rReading Comp news 067160"
     ]
    },
    {
     "name": "stdout",
     "output_type": "stream",
     "text": [
      "\rReading Comp news 001540"
     ]
    },
    {
     "name": "stdout",
     "output_type": "stream",
     "text": [
      "\rReading Comp news 053800"
     ]
    },
    {
     "name": "stdout",
     "output_type": "stream",
     "text": [
      "\rReading Comp news 251280"
     ]
    },
    {
     "name": "stdout",
     "output_type": "stream",
     "text": [
      "\rReading Comp news 065660"
     ]
    },
    {
     "name": "stdout",
     "output_type": "stream",
     "text": [
      "\rReading Comp news 271400"
     ]
    },
    {
     "name": "stdout",
     "output_type": "stream",
     "text": [
      "\rReading Comp news 001780"
     ]
    },
    {
     "name": "stdout",
     "output_type": "stream",
     "text": [
      "\rReading Comp news 260660"
     ]
    },
    {
     "name": "stdout",
     "output_type": "stream",
     "text": [
      "\rReading Comp news 002250"
     ]
    },
    {
     "name": "stdout",
     "output_type": "stream",
     "text": [
      "\rReading Comp news 106080"
     ]
    },
    {
     "name": "stdout",
     "output_type": "stream",
     "text": [
      "\rReading Comp news 131370"
     ]
    },
    {
     "name": "stdout",
     "output_type": "stream",
     "text": [
      "\rReading Comp news 140670"
     ]
    },
    {
     "name": "stdout",
     "output_type": "stream",
     "text": [
      "\rReading Comp news 096610"
     ]
    },
    {
     "name": "stdout",
     "output_type": "stream",
     "text": [
      "\rReading Comp news 061040"
     ]
    },
    {
     "name": "stdout",
     "output_type": "stream",
     "text": [
      "\rReading Comp news 148250"
     ]
    },
    {
     "name": "stdout",
     "output_type": "stream",
     "text": [
      "\rReading Comp news 196170"
     ]
    },
    {
     "name": "stdout",
     "output_type": "stream",
     "text": [
      "\rReading Comp news 123750"
     ]
    },
    {
     "name": "stdout",
     "output_type": "stream",
     "text": [
      "\rReading Comp news 085810"
     ]
    },
    {
     "name": "stdout",
     "output_type": "stream",
     "text": [
      "\rReading Comp news 117670"
     ]
    },
    {
     "name": "stdout",
     "output_type": "stream",
     "text": [
      "\rReading Comp news 267810"
     ]
    },
    {
     "name": "stdout",
     "output_type": "stream",
     "text": [
      "\rReading Comp news 018250"
     ]
    },
    {
     "name": "stdout",
     "output_type": "stream",
     "text": [
      "\rReading Comp news 161000"
     ]
    },
    {
     "name": "stdout",
     "output_type": "stream",
     "text": [
      "\rReading Comp news 196300"
     ]
    },
    {
     "name": "stdout",
     "output_type": "stream",
     "text": [
      "\rReading Comp news 205500"
     ]
    },
    {
     "name": "stdout",
     "output_type": "stream",
     "text": [
      "\rReading Comp news 052790"
     ]
    },
    {
     "name": "stdout",
     "output_type": "stream",
     "text": [
      "\rReading Comp news 131400"
     ]
    },
    {
     "name": "stdout",
     "output_type": "stream",
     "text": [
      "\rReading Comp news 238090"
     ]
    },
    {
     "name": "stdout",
     "output_type": "stream",
     "text": [
      "\rReading Comp news 174900"
     ]
    },
    {
     "name": "stdout",
     "output_type": "stream",
     "text": [
      "\rReading Comp news 255440"
     ]
    },
    {
     "name": "stdout",
     "output_type": "stream",
     "text": [
      "\rReading Comp news 030960"
     ]
    },
    {
     "name": "stdout",
     "output_type": "stream",
     "text": [
      "\rReading Comp news 102120"
     ]
    },
    {
     "name": "stdout",
     "output_type": "stream",
     "text": [
      "\rReading Comp news 224810"
     ]
    },
    {
     "name": "stdout",
     "output_type": "stream",
     "text": [
      "\rReading Comp news 041590"
     ]
    },
    {
     "name": "stdout",
     "output_type": "stream",
     "text": [
      "\rReading Comp news 019990"
     ]
    },
    {
     "name": "stdout",
     "output_type": "stream",
     "text": [
      "\rReading Comp news 011090"
     ]
    },
    {
     "name": "stdout",
     "output_type": "stream",
     "text": [
      "\rReading Comp news 208890"
     ]
    },
    {
     "name": "stdout",
     "output_type": "stream",
     "text": [
      "\rReading Comp news 025980"
     ]
    },
    {
     "name": "stdout",
     "output_type": "stream",
     "text": [
      "\rReading Comp news 041440"
     ]
    },
    {
     "name": "stdout",
     "output_type": "stream",
     "text": [
      "\rReading Comp news 270660"
     ]
    },
    {
     "name": "stdout",
     "output_type": "stream",
     "text": [
      "\rReading Comp news 038680"
     ]
    },
    {
     "name": "stdout",
     "output_type": "stream",
     "text": [
      "\rReading Comp news 217480"
     ]
    },
    {
     "name": "stdout",
     "output_type": "stream",
     "text": [
      "\rReading Comp news 121890"
     ]
    },
    {
     "name": "stdout",
     "output_type": "stream",
     "text": [
      "\rReading Comp news 030270"
     ]
    },
    {
     "name": "stdout",
     "output_type": "stream",
     "text": [
      "\rReading Comp news 097780"
     ]
    },
    {
     "name": "stdout",
     "output_type": "stream",
     "text": [
      "\rReading Comp news 042110"
     ]
    },
    {
     "name": "stdout",
     "output_type": "stream",
     "text": [
      "\rReading Comp news 065420"
     ]
    },
    {
     "name": "stdout",
     "output_type": "stream",
     "text": [
      "\rReading Comp news 270210"
     ]
    },
    {
     "name": "stdout",
     "output_type": "stream",
     "text": [
      "\rReading Comp news 103230"
     ]
    },
    {
     "name": "stdout",
     "output_type": "stream",
     "text": [
      "\rReading Comp news 260970"
     ]
    },
    {
     "name": "stdout",
     "output_type": "stream",
     "text": [
      "\rReading Comp news 900080"
     ]
    },
    {
     "name": "stdout",
     "output_type": "stream",
     "text": [
      "\rReading Comp news 101490"
     ]
    },
    {
     "name": "stdout",
     "output_type": "stream",
     "text": [
      "\rReading Comp news 095910"
     ]
    },
    {
     "name": "stdout",
     "output_type": "stream",
     "text": [
      "\rReading Comp news 031330"
     ]
    },
    {
     "name": "stdout",
     "output_type": "stream",
     "text": [
      "\rReading Comp news 060540"
     ]
    },
    {
     "name": "stdout",
     "output_type": "stream",
     "text": [
      "\rReading Comp news 158300"
     ]
    },
    {
     "name": "stdout",
     "output_type": "stream",
     "text": [
      "\rReading Comp news 112240"
     ]
    },
    {
     "name": "stdout",
     "output_type": "stream",
     "text": [
      "\rReading Comp news 056190"
     ]
    },
    {
     "name": "stdout",
     "output_type": "stream",
     "text": [
      "\rReading Comp news 080000"
     ]
    },
    {
     "name": "stdout",
     "output_type": "stream",
     "text": [
      "\rReading Comp news 160600"
     ]
    },
    {
     "name": "stdout",
     "output_type": "stream",
     "text": [
      "\rReading Comp news 263920"
     ]
    },
    {
     "name": "stdout",
     "output_type": "stream",
     "text": [
      "\rReading Comp news 086460"
     ]
    },
    {
     "name": "stdout",
     "output_type": "stream",
     "text": [
      "\rReading Comp news 005850"
     ]
    },
    {
     "name": "stdout",
     "output_type": "stream",
     "text": [
      "\rReading Comp news 246250"
     ]
    },
    {
     "name": "stdout",
     "output_type": "stream",
     "text": [
      "\rReading Comp news 041510"
     ]
    },
    {
     "name": "stdout",
     "output_type": "stream",
     "text": [
      "\rReading Comp news 007820"
     ]
    },
    {
     "name": "stdout",
     "output_type": "stream",
     "text": [
      "\rReading Comp news 251540"
     ]
    },
    {
     "name": "stdout",
     "output_type": "stream",
     "text": [
      "\rReading Comp news 109610"
     ]
    },
    {
     "name": "stdout",
     "output_type": "stream",
     "text": [
      "\rReading Comp news 012750"
     ]
    },
    {
     "name": "stdout",
     "output_type": "stream",
     "text": [
      "\rReading Comp news 080440"
     ]
    },
    {
     "name": "stdout",
     "output_type": "stream",
     "text": [
      "\rReading Comp news 217910"
     ]
    },
    {
     "name": "stdout",
     "output_type": "stream",
     "text": [
      "\rReading Comp news 224020"
     ]
    },
    {
     "name": "stdout",
     "output_type": "stream",
     "text": [
      "\rReading Comp news 096630"
     ]
    },
    {
     "name": "stdout",
     "output_type": "stream",
     "text": [
      "\rReading Comp news 069510"
     ]
    },
    {
     "name": "stdout",
     "output_type": "stream",
     "text": [
      "\rReading Comp news 041910"
     ]
    },
    {
     "name": "stdout",
     "output_type": "stream",
     "text": [
      "\rReading Comp news 234300"
     ]
    },
    {
     "name": "stdout",
     "output_type": "stream",
     "text": [
      "\rReading Comp news 039440"
     ]
    },
    {
     "name": "stdout",
     "output_type": "stream",
     "text": [
      "\rReading Comp news 098660"
     ]
    },
    {
     "name": "stdout",
     "output_type": "stream",
     "text": [
      "\rReading Comp news 052020"
     ]
    },
    {
     "name": "stdout",
     "output_type": "stream",
     "text": [
      "\rReading Comp news 237690"
     ]
    },
    {
     "name": "stdout",
     "output_type": "stream",
     "text": [
      "\rReading Comp news 050760"
     ]
    },
    {
     "name": "stdout",
     "output_type": "stream",
     "text": [
      "\rReading Comp news 058610"
     ]
    },
    {
     "name": "stdout",
     "output_type": "stream",
     "text": [
      "\rReading Comp news 043340"
     ]
    },
    {
     "name": "stdout",
     "output_type": "stream",
     "text": [
      "\rReading Comp news 023960"
     ]
    },
    {
     "name": "stdout",
     "output_type": "stream",
     "text": [
      "\rReading Comp news 054630"
     ]
    },
    {
     "name": "stdout",
     "output_type": "stream",
     "text": [
      "\rReading Comp news 200710"
     ]
    },
    {
     "name": "stdout",
     "output_type": "stream",
     "text": [
      "\rReading Comp news 140910"
     ]
    },
    {
     "name": "stdout",
     "output_type": "stream",
     "text": [
      "\rReading Comp news 078520"
     ]
    },
    {
     "name": "stdout",
     "output_type": "stream",
     "text": [
      "\rReading Comp news 203400"
     ]
    },
    {
     "name": "stdout",
     "output_type": "stream",
     "text": [
      "\rReading Comp news 003800"
     ]
    },
    {
     "name": "stdout",
     "output_type": "stream",
     "text": [
      "\rReading Comp news 088800"
     ]
    },
    {
     "name": "stdout",
     "output_type": "stream",
     "text": [
      "\rReading Comp news 138360"
     ]
    },
    {
     "name": "stdout",
     "output_type": "stream",
     "text": [
      "\rReading Comp news 050320"
     ]
    },
    {
     "name": "stdout",
     "output_type": "stream",
     "text": [
      "\rReading Comp news 015260"
     ]
    },
    {
     "name": "stdout",
     "output_type": "stream",
     "text": [
      "\rReading Comp news 234070"
     ]
    },
    {
     "name": "stdout",
     "output_type": "stream",
     "text": [
      "\rReading Comp news 072990"
     ]
    },
    {
     "name": "stdout",
     "output_type": "stream",
     "text": [
      "\rReading Comp news 044990"
     ]
    },
    {
     "name": "stdout",
     "output_type": "stream",
     "text": [
      "\rReading Comp news 176440"
     ]
    },
    {
     "name": "stdout",
     "output_type": "stream",
     "text": [
      "\rReading Comp news 028300"
     ]
    },
    {
     "name": "stdout",
     "output_type": "stream",
     "text": [
      "\rReading Comp news 067630"
     ]
    },
    {
     "name": "stdout",
     "output_type": "stream",
     "text": [
      "\rReading Comp news 043220"
     ]
    },
    {
     "name": "stdout",
     "output_type": "stream",
     "text": [
      "\rReading Comp news 239610"
     ]
    },
    {
     "name": "stdout",
     "output_type": "stream",
     "text": [
      "\rReading Comp news 226340"
     ]
    },
    {
     "name": "stdout",
     "output_type": "stream",
     "text": [
      "\rReading Comp news 044780"
     ]
    },
    {
     "name": "stdout",
     "output_type": "stream",
     "text": [
      "\rReading Comp news 071670"
     ]
    },
    {
     "name": "stdout",
     "output_type": "stream",
     "text": [
      "\rReading Comp news 045660"
     ]
    },
    {
     "name": "stdout",
     "output_type": "stream",
     "text": [
      "\rReading Comp news 224110"
     ]
    },
    {
     "name": "stdout",
     "output_type": "stream",
     "text": [
      "\rReading Comp news 021080"
     ]
    },
    {
     "name": "stdout",
     "output_type": "stream",
     "text": [
      "\rReading Comp news 089530"
     ]
    },
    {
     "name": "stdout",
     "output_type": "stream",
     "text": [
      "\rReading Comp news 182400"
     ]
    },
    {
     "name": "stdout",
     "output_type": "stream",
     "text": [
      "\rReading Comp news 073570"
     ]
    },
    {
     "name": "stdout",
     "output_type": "stream",
     "text": [
      "\rReading Comp news 109960"
     ]
    },
    {
     "name": "stdout",
     "output_type": "stream",
     "text": [
      "\rReading Comp news 007460"
     ]
    },
    {
     "name": "stdout",
     "output_type": "stream",
     "text": [
      "\rReading Comp news 003060"
     ]
    },
    {
     "name": "stdout",
     "output_type": "stream",
     "text": [
      "\rReading Comp news 043580"
     ]
    },
    {
     "name": "stdout",
     "output_type": "stream",
     "text": [
      "\rReading Comp news 214870"
     ]
    },
    {
     "name": "stdout",
     "output_type": "stream",
     "text": [
      "\rReading Comp news 064510"
     ]
    },
    {
     "name": "stdout",
     "output_type": "stream",
     "text": [
      "\rReading Comp news 230360"
     ]
    },
    {
     "name": "stdout",
     "output_type": "stream",
     "text": [
      "\rReading Comp news 038870"
     ]
    },
    {
     "name": "stdout",
     "output_type": "stream",
     "text": [
      "\rReading Comp news 086520"
     ]
    },
    {
     "name": "stdout",
     "output_type": "stream",
     "text": [
      "\rReading Comp news 038110"
     ]
    },
    {
     "name": "stdout",
     "output_type": "stream",
     "text": [
      "\rReading Comp news 073540"
     ]
    },
    {
     "name": "stdout",
     "output_type": "stream",
     "text": [
      "\rReading Comp news 064850"
     ]
    },
    {
     "name": "stdout",
     "output_type": "stream",
     "text": [
      "\rReading Comp news 064090"
     ]
    },
    {
     "name": "stdout",
     "output_type": "stream",
     "text": [
      "\rReading Comp news 036810"
     ]
    },
    {
     "name": "stdout",
     "output_type": "stream",
     "text": [
      "\rReading Comp news 063440"
     ]
    },
    {
     "name": "stdout",
     "output_type": "stream",
     "text": [
      "\rReading Comp news 173940"
     ]
    },
    {
     "name": "stdout",
     "output_type": "stream",
     "text": [
      "\rReading Comp news 083500"
     ]
    },
    {
     "name": "stdout",
     "output_type": "stream",
     "text": [
      "\rReading Comp news 065160"
     ]
    },
    {
     "name": "stdout",
     "output_type": "stream",
     "text": [
      "\rReading Comp news 054940"
     ]
    },
    {
     "name": "stdout",
     "output_type": "stream",
     "text": [
      "\rReading Comp news 950130"
     ]
    },
    {
     "name": "stdout",
     "output_type": "stream",
     "text": [
      "\rReading Comp news 205100"
     ]
    },
    {
     "name": "stdout",
     "output_type": "stream",
     "text": [
      "\rReading Comp news 092870"
     ]
    },
    {
     "name": "stdout",
     "output_type": "stream",
     "text": [
      "\rReading Comp news 067570"
     ]
    },
    {
     "name": "stdout",
     "output_type": "stream",
     "text": [
      "\rReading Comp news 101400"
     ]
    },
    {
     "name": "stdout",
     "output_type": "stream",
     "text": [
      "\rReading Comp news 036570"
     ]
    },
    {
     "name": "stdout",
     "output_type": "stream",
     "text": [
      "\rReading Comp news 217820"
     ]
    },
    {
     "name": "stdout",
     "output_type": "stream",
     "text": [
      "\rReading Comp news 138250"
     ]
    },
    {
     "name": "stdout",
     "output_type": "stream",
     "text": [
      "\rReading Comp news 031860"
     ]
    },
    {
     "name": "stdout",
     "output_type": "stream",
     "text": [
      "\rReading Comp news 224760"
     ]
    },
    {
     "name": "stdout",
     "output_type": "stream",
     "text": [
      "\rReading Comp news 256630"
     ]
    },
    {
     "name": "stdout",
     "output_type": "stream",
     "text": [
      "\rReading Comp news 256840"
     ]
    },
    {
     "name": "stdout",
     "output_type": "stream",
     "text": [
      "\rReading Comp news 273060"
     ]
    },
    {
     "name": "stdout",
     "output_type": "stream",
     "text": [
      "\rReading Comp news 208860"
     ]
    },
    {
     "name": "stdout",
     "output_type": "stream",
     "text": [
      "\rReading Comp news 183490"
     ]
    },
    {
     "name": "stdout",
     "output_type": "stream",
     "text": [
      "\rReading Comp news 085310"
     ]
    },
    {
     "name": "stdout",
     "output_type": "stream",
     "text": [
      "\rReading Comp news 009810"
     ]
    },
    {
     "name": "stdout",
     "output_type": "stream",
     "text": [
      "\rReading Comp news 206400"
     ]
    },
    {
     "name": "stdout",
     "output_type": "stream",
     "text": [
      "\rReading Comp news 069410"
     ]
    },
    {
     "name": "stdout",
     "output_type": "stream",
     "text": [
      "\rReading Comp news 048830"
     ]
    },
    {
     "name": "stdout",
     "output_type": "stream",
     "text": [
      "\rReading Comp news 096870"
     ]
    },
    {
     "name": "stdout",
     "output_type": "stream",
     "text": [
      "\rReading Comp news 900140"
     ]
    },
    {
     "name": "stdout",
     "output_type": "stream",
     "text": [
      "\rReading Comp news 061970"
     ]
    },
    {
     "name": "stdout",
     "output_type": "stream",
     "text": [
      "\rReading Comp news 138690"
     ]
    },
    {
     "name": "stdout",
     "output_type": "stream",
     "text": [
      "\rReading Comp news 066970"
     ]
    },
    {
     "name": "stdout",
     "output_type": "stream",
     "text": [
      "\rReading Comp news 156100"
     ]
    },
    {
     "name": "stdout",
     "output_type": "stream",
     "text": [
      "\rReading Comp news 073110"
     ]
    },
    {
     "name": "stdout",
     "output_type": "stream",
     "text": [
      "\rReading Comp news 083310"
     ]
    },
    {
     "name": "stdout",
     "output_type": "stream",
     "text": [
      "\rReading Comp news 037950"
     ]
    },
    {
     "name": "stdout",
     "output_type": "stream",
     "text": [
      "\rReading Comp news 170920"
     ]
    },
    {
     "name": "stdout",
     "output_type": "stream",
     "text": [
      "\rReading Comp news 183350"
     ]
    },
    {
     "name": "stdout",
     "output_type": "stream",
     "text": [
      "\rReading Comp news 058630"
     ]
    },
    {
     "name": "stdout",
     "output_type": "stream",
     "text": [
      "\rReading Comp news 058970"
     ]
    },
    {
     "name": "stdout",
     "output_type": "stream",
     "text": [
      "\rReading Comp news 019590"
     ]
    },
    {
     "name": "stdout",
     "output_type": "stream",
     "text": [
      "\rReading Comp news 097520"
     ]
    },
    {
     "name": "stdout",
     "output_type": "stream",
     "text": [
      "\rReading Comp news 225860"
     ]
    },
    {
     "name": "stdout",
     "output_type": "stream",
     "text": [
      "\rReading Comp news 009780"
     ]
    },
    {
     "name": "stdout",
     "output_type": "stream",
     "text": [
      "\rReading Comp news 123040"
     ]
    },
    {
     "name": "stdout",
     "output_type": "stream",
     "text": [
      "\rReading Comp news 251960"
     ]
    },
    {
     "name": "stdout",
     "output_type": "stream",
     "text": [
      "\rReading Comp news 032790"
     ]
    },
    {
     "name": "stdout",
     "output_type": "stream",
     "text": [
      "\rReading Comp news 033160"
     ]
    },
    {
     "name": "stdout",
     "output_type": "stream",
     "text": [
      "\rReading Comp news 259630"
     ]
    },
    {
     "name": "stdout",
     "output_type": "stream",
     "text": [
      "\rReading Comp news 115960"
     ]
    },
    {
     "name": "stdout",
     "output_type": "stream",
     "text": [
      "\rReading Comp news 090740"
     ]
    },
    {
     "name": "stdout",
     "output_type": "stream",
     "text": [
      "\rReading Comp news 014440"
     ]
    },
    {
     "name": "stdout",
     "output_type": "stream",
     "text": [
      "\rReading Comp news 007530"
     ]
    },
    {
     "name": "stdout",
     "output_type": "stream",
     "text": [
      "\rReading Comp news 143540"
     ]
    },
    {
     "name": "stdout",
     "output_type": "stream",
     "text": [
      "\rReading Comp news 111770"
     ]
    },
    {
     "name": "stdout",
     "output_type": "stream",
     "text": [
      "\rReading Comp news 009970"
     ]
    },
    {
     "name": "stdout",
     "output_type": "stream",
     "text": [
      "\rReading Comp news 036180"
     ]
    },
    {
     "name": "stdout",
     "output_type": "stream",
     "text": [
      "\rReading Comp news 003520"
     ]
    },
    {
     "name": "stdout",
     "output_type": "stream",
     "text": [
      "\rReading Comp news 000670"
     ]
    },
    {
     "name": "stdout",
     "output_type": "stream",
     "text": [
      "\rReading Comp news 036560"
     ]
    },
    {
     "name": "stdout",
     "output_type": "stream",
     "text": [
      "\rReading Comp news 006740"
     ]
    },
    {
     "name": "stdout",
     "output_type": "stream",
     "text": [
      "\rReading Comp news 242850"
     ]
    },
    {
     "name": "stdout",
     "output_type": "stream",
     "text": [
      "\rReading Comp news 012280"
     ]
    },
    {
     "name": "stdout",
     "output_type": "stream",
     "text": [
      "\rReading Comp news 265560"
     ]
    },
    {
     "name": "stdout",
     "output_type": "stream",
     "text": [
      "\rReading Comp news 012160"
     ]
    },
    {
     "name": "stdout",
     "output_type": "stream",
     "text": [
      "\rReading Comp news 036000"
     ]
    },
    {
     "name": "stdout",
     "output_type": "stream",
     "text": [
      "\rReading Comp news 053280"
     ]
    },
    {
     "name": "stdout",
     "output_type": "stream",
     "text": [
      "\rReading Comp news 015360"
     ]
    },
    {
     "name": "stdout",
     "output_type": "stream",
     "text": [
      "\rReading Comp news 122640"
     ]
    },
    {
     "name": "stdout",
     "output_type": "stream",
     "text": [
      "\rReading Comp news 179720"
     ]
    },
    {
     "name": "stdout",
     "output_type": "stream",
     "text": [
      "\rReading Comp news 900300"
     ]
    },
    {
     "name": "stdout",
     "output_type": "stream",
     "text": [
      "\rReading Comp news 045060"
     ]
    },
    {
     "name": "stdout",
     "output_type": "stream",
     "text": [
      "\rReading Comp news 080520"
     ]
    },
    {
     "name": "stdout",
     "output_type": "stream",
     "text": [
      "\rReading Comp news 007310"
     ]
    },
    {
     "name": "stdout",
     "output_type": "stream",
     "text": [
      "\rReading Comp news 039830"
     ]
    },
    {
     "name": "stdout",
     "output_type": "stream",
     "text": [
      "\rReading Comp news 046120"
     ]
    },
    {
     "name": "stdout",
     "output_type": "stream",
     "text": [
      "\rReading Comp news 014940"
     ]
    },
    {
     "name": "stdout",
     "output_type": "stream",
     "text": [
      "\rReading Comp news 002630"
     ]
    },
    {
     "name": "stdout",
     "output_type": "stream",
     "text": [
      "\rReading Comp news 065500"
     ]
    },
    {
     "name": "stdout",
     "output_type": "stream",
     "text": [
      "\rReading Comp news 271560"
     ]
    },
    {
     "name": "stdout",
     "output_type": "stream",
     "text": [
      "\rReading Comp news 001800"
     ]
    },
    {
     "name": "stdout",
     "output_type": "stream",
     "text": [
      "\rReading Comp news 010470"
     ]
    },
    {
     "name": "stdout",
     "output_type": "stream",
     "text": [
      "\rReading Comp news 227420"
     ]
    },
    {
     "name": "stdout",
     "output_type": "stream",
     "text": [
      "\rReading Comp news 053980"
     ]
    },
    {
     "name": "stdout",
     "output_type": "stream",
     "text": [
      "\rReading Comp news 052420"
     ]
    },
    {
     "name": "stdout",
     "output_type": "stream",
     "text": [
      "\rReading Comp news 241790"
     ]
    },
    {
     "name": "stdout",
     "output_type": "stream",
     "text": [
      "\rReading Comp news 039200"
     ]
    },
    {
     "name": "stdout",
     "output_type": "stream",
     "text": [
      "\rReading Comp news 226400"
     ]
    },
    {
     "name": "stdout",
     "output_type": "stream",
     "text": [
      "\rReading Comp news 031510"
     ]
    },
    {
     "name": "stdout",
     "output_type": "stream",
     "text": [
      "\rReading Comp news 048260"
     ]
    },
    {
     "name": "stdout",
     "output_type": "stream",
     "text": [
      "\rReading Comp news 138080"
     ]
    },
    {
     "name": "stdout",
     "output_type": "stream",
     "text": [
      "\rReading Comp news 080580"
     ]
    },
    {
     "name": "stdout",
     "output_type": "stream",
     "text": [
      "\rReading Comp news 067170"
     ]
    },
    {
     "name": "stdout",
     "output_type": "stream",
     "text": [
      "\rReading Comp news 173130"
     ]
    },
    {
     "name": "stdout",
     "output_type": "stream",
     "text": [
      "\rReading Comp news 049480"
     ]
    },
    {
     "name": "stdout",
     "output_type": "stream",
     "text": [
      "\rReading Comp news 057540"
     ]
    },
    {
     "name": "stdout",
     "output_type": "stream",
     "text": [
      "\rReading Comp news 057680"
     ]
    },
    {
     "name": "stdout",
     "output_type": "stream",
     "text": [
      "\rReading Comp news 123010"
     ]
    },
    {
     "name": "stdout",
     "output_type": "stream",
     "text": [
      "\rReading Comp news 082210"
     ]
    },
    {
     "name": "stdout",
     "output_type": "stream",
     "text": [
      "\rReading Comp news 109080"
     ]
    },
    {
     "name": "stdout",
     "output_type": "stream",
     "text": [
      "\rReading Comp news 052770"
     ]
    },
    {
     "name": "stdout",
     "output_type": "stream",
     "text": [
      "\rReading Comp news 057030"
     ]
    },
    {
     "name": "stdout",
     "output_type": "stream",
     "text": [
      "\rReading Comp news 122990"
     ]
    },
    {
     "name": "stdout",
     "output_type": "stream",
     "text": [
      "\rReading Comp news 232140"
     ]
    },
    {
     "name": "stdout",
     "output_type": "stream",
     "text": [
      "\rReading Comp news 067900"
     ]
    },
    {
     "name": "stdout",
     "output_type": "stream",
     "text": [
      "\rReading Comp news 155650"
     ]
    },
    {
     "name": "stdout",
     "output_type": "stream",
     "text": [
      "\rReading Comp news 251370"
     ]
    },
    {
     "name": "stdout",
     "output_type": "stream",
     "text": [
      "\rReading Comp news 066430"
     ]
    },
    {
     "name": "stdout",
     "output_type": "stream",
     "text": [
      "\rReading Comp news 193250"
     ]
    },
    {
     "name": "stdout",
     "output_type": "stream",
     "text": [
      "\rReading Comp news 019210"
     ]
    },
    {
     "name": "stdout",
     "output_type": "stream",
     "text": [
      "\rReading Comp news 122870"
     ]
    },
    {
     "name": "stdout",
     "output_type": "stream",
     "text": [
      "\rReading Comp news 079000"
     ]
    },
    {
     "name": "stdout",
     "output_type": "stream",
     "text": [
      "\rReading Comp news 900180"
     ]
    },
    {
     "name": "stdout",
     "output_type": "stream",
     "text": [
      "\rReading Comp news 070960"
     ]
    },
    {
     "name": "stdout",
     "output_type": "stream",
     "text": [
      "\rReading Comp news 114630"
     ]
    },
    {
     "name": "stdout",
     "output_type": "stream",
     "text": [
      "\rReading Comp news 032820"
     ]
    },
    {
     "name": "stdout",
     "output_type": "stream",
     "text": [
      "\rReading Comp news 041190"
     ]
    },
    {
     "name": "stdout",
     "output_type": "stream",
     "text": [
      "\rReading Comp news 115440"
     ]
    },
    {
     "name": "stdout",
     "output_type": "stream",
     "text": [
      "\rReading Comp news 004720"
     ]
    },
    {
     "name": "stdout",
     "output_type": "stream",
     "text": [
      "\rReading Comp news 118000"
     ]
    },
    {
     "name": "stdout",
     "output_type": "stream",
     "text": [
      "\rReading Comp news 046970"
     ]
    },
    {
     "name": "stdout",
     "output_type": "stream",
     "text": [
      "\rReading Comp news 215360"
     ]
    },
    {
     "name": "stdout",
     "output_type": "stream",
     "text": [
      "\rReading Comp news 072470"
     ]
    },
    {
     "name": "stdout",
     "output_type": "stream",
     "text": [
      "\rReading Comp news 073560"
     ]
    },
    {
     "name": "stdout",
     "output_type": "stream",
     "text": [
      "\rReading Comp news 000030"
     ]
    },
    {
     "name": "stdout",
     "output_type": "stream",
     "text": [
      "\rReading Comp news 153490"
     ]
    },
    {
     "name": "stdout",
     "output_type": "stream",
     "text": [
      "\rReading Comp news 082850"
     ]
    },
    {
     "name": "stdout",
     "output_type": "stream",
     "text": [
      "\rReading Comp news 037400"
     ]
    },
    {
     "name": "stdout",
     "output_type": "stream",
     "text": [
      "\rReading Comp news 010050"
     ]
    },
    {
     "name": "stdout",
     "output_type": "stream",
     "text": [
      "\rReading Comp news 101170"
     ]
    },
    {
     "name": "stdout",
     "output_type": "stream",
     "text": [
      "\rReading Comp news 006980"
     ]
    },
    {
     "name": "stdout",
     "output_type": "stream",
     "text": [
      "\rReading Comp news 194610"
     ]
    },
    {
     "name": "stdout",
     "output_type": "stream",
     "text": [
      "\rReading Comp news 066590"
     ]
    },
    {
     "name": "stdout",
     "output_type": "stream",
     "text": [
      "\rReading Comp news 017370"
     ]
    },
    {
     "name": "stdout",
     "output_type": "stream",
     "text": [
      "\rReading Comp news 046940"
     ]
    },
    {
     "name": "stdout",
     "output_type": "stream",
     "text": [
      "\rReading Comp news 215380"
     ]
    },
    {
     "name": "stdout",
     "output_type": "stream",
     "text": [
      "\rReading Comp news 065680"
     ]
    },
    {
     "name": "stdout",
     "output_type": "stream",
     "text": [
      "\rReading Comp news 105840"
     ]
    },
    {
     "name": "stdout",
     "output_type": "stream",
     "text": [
      "\rReading Comp news 018620"
     ]
    },
    {
     "name": "stdout",
     "output_type": "stream",
     "text": [
      "\rReading Comp news 049800"
     ]
    },
    {
     "name": "stdout",
     "output_type": "stream",
     "text": [
      "\rReading Comp news 016880"
     ]
    },
    {
     "name": "stdout",
     "output_type": "stream",
     "text": [
      "\rReading Comp news 095720"
     ]
    },
    {
     "name": "stdout",
     "output_type": "stream",
     "text": [
      "\rReading Comp news 103130"
     ]
    },
    {
     "name": "stdout",
     "output_type": "stream",
     "text": [
      "\rReading Comp news 005820"
     ]
    },
    {
     "name": "stdout",
     "output_type": "stream",
     "text": [
      "\rReading Comp news 032940"
     ]
    },
    {
     "name": "stdout",
     "output_type": "stream",
     "text": [
      "\rReading Comp news 240810"
     ]
    },
    {
     "name": "stdout",
     "output_type": "stream",
     "text": [
      "\rReading Comp news 074600"
     ]
    },
    {
     "name": "stdout",
     "output_type": "stream",
     "text": [
      "\rReading Comp news 104830"
     ]
    },
    {
     "name": "stdout",
     "output_type": "stream",
     "text": [
      "\rReading Comp news 014190"
     ]
    },
    {
     "name": "stdout",
     "output_type": "stream",
     "text": [
      "\rReading Comp news 123100"
     ]
    },
    {
     "name": "stdout",
     "output_type": "stream",
     "text": [
      "\rReading Comp news 030530"
     ]
    },
    {
     "name": "stdout",
     "output_type": "stream",
     "text": [
      "\rReading Comp news 012620"
     ]
    },
    {
     "name": "stdout",
     "output_type": "stream",
     "text": [
      "\rReading Comp news 216280"
     ]
    },
    {
     "name": "stdout",
     "output_type": "stream",
     "text": [
      "\rReading Comp news 008370"
     ]
    },
    {
     "name": "stdout",
     "output_type": "stream",
     "text": [
      "\rReading Comp news 008290"
     ]
    },
    {
     "name": "stdout",
     "output_type": "stream",
     "text": [
      "\rReading Comp news 101160"
     ]
    },
    {
     "name": "stdout",
     "output_type": "stream",
     "text": [
      "\rReading Comp news 095270"
     ]
    },
    {
     "name": "stdout",
     "output_type": "stream",
     "text": [
      "\rReading Comp news 010600"
     ]
    },
    {
     "name": "stdout",
     "output_type": "stream",
     "text": [
      "\rReading Comp news 065950"
     ]
    },
    {
     "name": "stdout",
     "output_type": "stream",
     "text": [
      "\rReading Comp news 114190"
     ]
    },
    {
     "name": "stdout",
     "output_type": "stream",
     "text": [
      "\rReading Comp news 076080"
     ]
    },
    {
     "name": "stdout",
     "output_type": "stream",
     "text": [
      "\rReading Comp news 196700"
     ]
    },
    {
     "name": "stdout",
     "output_type": "stream",
     "text": [
      "\rReading Comp news 069080"
     ]
    },
    {
     "name": "stdout",
     "output_type": "stream",
     "text": [
      "\rReading Comp news 026260"
     ]
    },
    {
     "name": "stdout",
     "output_type": "stream",
     "text": [
      "\rReading Comp news 044340"
     ]
    },
    {
     "name": "stdout",
     "output_type": "stream",
     "text": [
      "\rReading Comp news 112040"
     ]
    },
    {
     "name": "stdout",
     "output_type": "stream",
     "text": [
      "\rReading Comp news 065370"
     ]
    },
    {
     "name": "stdout",
     "output_type": "stream",
     "text": [
      "\rReading Comp news 140660"
     ]
    },
    {
     "name": "stdout",
     "output_type": "stream",
     "text": [
      "\rReading Comp news 038620"
     ]
    },
    {
     "name": "stdout",
     "output_type": "stream",
     "text": [
      "\rReading Comp news 036090"
     ]
    },
    {
     "name": "stdout",
     "output_type": "stream",
     "text": [
      "\rReading Comp news 136540"
     ]
    },
    {
     "name": "stdout",
     "output_type": "stream",
     "text": [
      "\rReading Comp news 097800"
     ]
    },
    {
     "name": "stdout",
     "output_type": "stream",
     "text": [
      "\rReading Comp news 192390"
     ]
    },
    {
     "name": "stdout",
     "output_type": "stream",
     "text": [
      "\rReading Comp news 008600"
     ]
    },
    {
     "name": "stdout",
     "output_type": "stream",
     "text": [
      "\rReading Comp news 033270"
     ]
    },
    {
     "name": "stdout",
     "output_type": "stream",
     "text": [
      "\rReading Comp news 014830"
     ]
    },
    {
     "name": "stdout",
     "output_type": "stream",
     "text": [
      "\rReading Comp news 036200"
     ]
    },
    {
     "name": "stdout",
     "output_type": "stream",
     "text": [
      "\rReading Comp news 018000"
     ]
    },
    {
     "name": "stdout",
     "output_type": "stream",
     "text": [
      "\rReading Comp news 000910"
     ]
    },
    {
     "name": "stdout",
     "output_type": "stream",
     "text": [
      "\rReading Comp news 047400"
     ]
    },
    {
     "name": "stdout",
     "output_type": "stream",
     "text": [
      "\rReading Comp news 203450"
     ]
    },
    {
     "name": "stdout",
     "output_type": "stream",
     "text": [
      "\rReading Comp news 011330"
     ]
    },
    {
     "name": "stdout",
     "output_type": "stream",
     "text": [
      "\rReading Comp news 077500"
     ]
    },
    {
     "name": "stdout",
     "output_type": "stream",
     "text": [
      "\rReading Comp news 011320"
     ]
    },
    {
     "name": "stdout",
     "output_type": "stream",
     "text": [
      "\rReading Comp news 086390"
     ]
    },
    {
     "name": "stdout",
     "output_type": "stream",
     "text": [
      "\rReading Comp news 241690"
     ]
    },
    {
     "name": "stdout",
     "output_type": "stream",
     "text": [
      "\rReading Comp news 142210"
     ]
    },
    {
     "name": "stdout",
     "output_type": "stream",
     "text": [
      "\rReading Comp news 121060"
     ]
    },
    {
     "name": "stdout",
     "output_type": "stream",
     "text": [
      "\rReading Comp news 048430"
     ]
    },
    {
     "name": "stdout",
     "output_type": "stream",
     "text": [
      "\rReading Comp news 206650"
     ]
    },
    {
     "name": "stdout",
     "output_type": "stream",
     "text": [
      "\rReading Comp news 089850"
     ]
    },
    {
     "name": "stdout",
     "output_type": "stream",
     "text": [
      "\rReading Comp news 084440"
     ]
    },
    {
     "name": "stdout",
     "output_type": "stream",
     "text": [
      "\rReading Comp news 032620"
     ]
    },
    {
     "name": "stdout",
     "output_type": "stream",
     "text": [
      "\rReading Comp news 264450"
     ]
    },
    {
     "name": "stdout",
     "output_type": "stream",
     "text": [
      "\rReading Comp news 078070"
     ]
    },
    {
     "name": "stdout",
     "output_type": "stream",
     "text": [
      "\rReading Comp news 002920"
     ]
    },
    {
     "name": "stdout",
     "output_type": "stream",
     "text": [
      "\rReading Comp news 024800"
     ]
    },
    {
     "name": "stdout",
     "output_type": "stream",
     "text": [
      "\rReading Comp news 000700"
     ]
    },
    {
     "name": "stdout",
     "output_type": "stream",
     "text": [
      "\rReading Comp news 054930"
     ]
    },
    {
     "name": "stdout",
     "output_type": "stream",
     "text": [
      "\rReading Comp news 252370"
     ]
    },
    {
     "name": "stdout",
     "output_type": "stream",
     "text": [
      "\rReading Comp news 069330"
     ]
    },
    {
     "name": "stdout",
     "output_type": "stream",
     "text": [
      "\rReading Comp news 049520"
     ]
    },
    {
     "name": "stdout",
     "output_type": "stream",
     "text": [
      "\rReading Comp news 003470"
     ]
    },
    {
     "name": "stdout",
     "output_type": "stream",
     "text": [
      "\rReading Comp news 003475"
     ]
    },
    {
     "name": "stdout",
     "output_type": "stream",
     "text": [
      "\rReading Comp news 056090"
     ]
    },
    {
     "name": "stdout",
     "output_type": "stream",
     "text": [
      "\rReading Comp news 011690"
     ]
    },
    {
     "name": "stdout",
     "output_type": "stream",
     "text": [
      "\rReading Comp news 263770"
     ]
    },
    {
     "name": "stdout",
     "output_type": "stream",
     "text": [
      "\rReading Comp news 072130"
     ]
    },
    {
     "name": "stdout",
     "output_type": "stream",
     "text": [
      "\rReading Comp news 000220"
     ]
    },
    {
     "name": "stdout",
     "output_type": "stream",
     "text": [
      "\rReading Comp news 000225"
     ]
    },
    {
     "name": "stdout",
     "output_type": "stream",
     "text": [
      "\rReading Comp news 000227"
     ]
    },
    {
     "name": "stdout",
     "output_type": "stream",
     "text": [
      "\rReading Comp news 195990"
     ]
    },
    {
     "name": "stdout",
     "output_type": "stream",
     "text": [
      "\rReading Comp news 023410"
     ]
    },
    {
     "name": "stdout",
     "output_type": "stream",
     "text": [
      "\rReading Comp news 056080"
     ]
    },
    {
     "name": "stdout",
     "output_type": "stream",
     "text": [
      "\rReading Comp news 084370"
     ]
    },
    {
     "name": "stdout",
     "output_type": "stream",
     "text": [
      "\rReading Comp news 001200"
     ]
    },
    {
     "name": "stdout",
     "output_type": "stream",
     "text": [
      "\rReading Comp news 178780"
     ]
    },
    {
     "name": "stdout",
     "output_type": "stream",
     "text": [
      "\rReading Comp news 221800"
     ]
    },
    {
     "name": "stdout",
     "output_type": "stream",
     "text": [
      "\rReading Comp news 179900"
     ]
    },
    {
     "name": "stdout",
     "output_type": "stream",
     "text": [
      "\rReading Comp news 000100"
     ]
    },
    {
     "name": "stdout",
     "output_type": "stream",
     "text": [
      "\rReading Comp news 000105"
     ]
    },
    {
     "name": "stdout",
     "output_type": "stream",
     "text": [
      "\rReading Comp news 003460"
     ]
    },
    {
     "name": "stdout",
     "output_type": "stream",
     "text": [
      "\rReading Comp news 003465"
     ]
    },
    {
     "name": "stdout",
     "output_type": "stream",
     "text": [
      "\rReading Comp news 191410"
     ]
    },
    {
     "name": "stdout",
     "output_type": "stream",
     "text": [
      "\rReading Comp news 008730"
     ]
    },
    {
     "name": "stdout",
     "output_type": "stream",
     "text": [
      "\rReading Comp news 044960"
     ]
    },
    {
     "name": "stdout",
     "output_type": "stream",
     "text": [
      "\rReading Comp news 008250"
     ]
    },
    {
     "name": "stdout",
     "output_type": "stream",
     "text": [
      "\rReading Comp news 039020"
     ]
    },
    {
     "name": "stdout",
     "output_type": "stream",
     "text": [
      "\rReading Comp news 025820"
     ]
    },
    {
     "name": "stdout",
     "output_type": "stream",
     "text": [
      "\rReading Comp news 060230"
     ]
    },
    {
     "name": "stdout",
     "output_type": "stream",
     "text": [
      "\rReading Comp news 067920"
     ]
    },
    {
     "name": "stdout",
     "output_type": "stream",
     "text": [
      "\rReading Comp news 214320"
     ]
    },
    {
     "name": "stdout",
     "output_type": "stream",
     "text": [
      "\rReading Comp news 073490"
     ]
    },
    {
     "name": "stdout",
     "output_type": "stream",
     "text": [
      "\rReading Comp news 215790"
     ]
    },
    {
     "name": "stdout",
     "output_type": "stream",
     "text": [
      "\rReading Comp news 088390"
     ]
    },
    {
     "name": "stdout",
     "output_type": "stream",
     "text": [
      "\rReading Comp news 272290"
     ]
    },
    {
     "name": "stdout",
     "output_type": "stream",
     "text": [
      "\rReading Comp news 053350"
     ]
    },
    {
     "name": "stdout",
     "output_type": "stream",
     "text": [
      "\rReading Comp news 258610"
     ]
    },
    {
     "name": "stdout",
     "output_type": "stream",
     "text": [
      "\rReading Comp news 033110"
     ]
    },
    {
     "name": "stdout",
     "output_type": "stream",
     "text": [
      "\rReading Comp news 041520"
     ]
    },
    {
     "name": "stdout",
     "output_type": "stream",
     "text": [
      "\rReading Comp news 054210"
     ]
    },
    {
     "name": "stdout",
     "output_type": "stream",
     "text": [
      "\rReading Comp news 065440"
     ]
    },
    {
     "name": "stdout",
     "output_type": "stream",
     "text": [
      "\rReading Comp news 139480"
     ]
    },
    {
     "name": "stdout",
     "output_type": "stream",
     "text": [
      "\rReading Comp news 036260"
     ]
    },
    {
     "name": "stdout",
     "output_type": "stream",
     "text": [
      "\rReading Comp news 115610"
     ]
    },
    {
     "name": "stdout",
     "output_type": "stream",
     "text": [
      "\rReading Comp news 225440"
     ]
    },
    {
     "name": "stdout",
     "output_type": "stream",
     "text": [
      "\rReading Comp news 078020"
     ]
    },
    {
     "name": "stdout",
     "output_type": "stream",
     "text": [
      "\rReading Comp news 208850"
     ]
    },
    {
     "name": "stdout",
     "output_type": "stream",
     "text": [
      "\rReading Comp news 080010"
     ]
    },
    {
     "name": "stdout",
     "output_type": "stream",
     "text": [
      "\rReading Comp news 086890"
     ]
    },
    {
     "name": "stdout",
     "output_type": "stream",
     "text": [
      "\rReading Comp news 007660"
     ]
    },
    {
     "name": "stdout",
     "output_type": "stream",
     "text": [
      "\rReading Comp news 005950"
     ]
    },
    {
     "name": "stdout",
     "output_type": "stream",
     "text": [
      "\rReading Comp news 015020"
     ]
    },
    {
     "name": "stdout",
     "output_type": "stream",
     "text": [
      "\rReading Comp news 047560"
     ]
    },
    {
     "name": "stdout",
     "output_type": "stream",
     "text": [
      "\rReading Comp news 900110"
     ]
    },
    {
     "name": "stdout",
     "output_type": "stream",
     "text": [
      "\rReading Comp news 067010"
     ]
    },
    {
     "name": "stdout",
     "output_type": "stream",
     "text": [
      "\rReading Comp news 093230"
     ]
    },
    {
     "name": "stdout",
     "output_type": "stream",
     "text": [
      "\rReading Comp news 223310"
     ]
    },
    {
     "name": "stdout",
     "output_type": "stream",
     "text": [
      "\rReading Comp news 241510"
     ]
    },
    {
     "name": "stdout",
     "output_type": "stream",
     "text": [
      "\rReading Comp news 052190"
     ]
    },
    {
     "name": "stdout",
     "output_type": "stream",
     "text": [
      "\rReading Comp news 226360"
     ]
    },
    {
     "name": "stdout",
     "output_type": "stream",
     "text": [
      "\rReading Comp news 101360"
     ]
    },
    {
     "name": "stdout",
     "output_type": "stream",
     "text": [
      "\rReading Comp news 102710"
     ]
    },
    {
     "name": "stdout",
     "output_type": "stream",
     "text": [
      "\rReading Comp news 094190"
     ]
    },
    {
     "name": "stdout",
     "output_type": "stream",
     "text": [
      "\rReading Comp news 063760"
     ]
    },
    {
     "name": "stdout",
     "output_type": "stream",
     "text": [
      "\rReading Comp news 123570"
     ]
    },
    {
     "name": "stdout",
     "output_type": "stream",
     "text": [
      "\rReading Comp news 095190"
     ]
    },
    {
     "name": "stdout",
     "output_type": "stream",
     "text": [
      "\rReading Comp news 091120"
     ]
    },
    {
     "name": "stdout",
     "output_type": "stream",
     "text": [
      "\rReading Comp news 232530"
     ]
    },
    {
     "name": "stdout",
     "output_type": "stream",
     "text": [
      "\rReading Comp news 102460"
     ]
    },
    {
     "name": "stdout",
     "output_type": "stream",
     "text": [
      "\rReading Comp news 039030"
     ]
    },
    {
     "name": "stdout",
     "output_type": "stream",
     "text": [
      "\rReading Comp news 088290"
     ]
    },
    {
     "name": "stdout",
     "output_type": "stream",
     "text": [
      "\rReading Comp news 084680"
     ]
    },
    {
     "name": "stdout",
     "output_type": "stream",
     "text": [
      "\rReading Comp news 033600"
     ]
    },
    {
     "name": "stdout",
     "output_type": "stream",
     "text": [
      "\rReading Comp news 181340"
     ]
    },
    {
     "name": "stdout",
     "output_type": "stream",
     "text": [
      "\rReading Comp news 035810"
     ]
    },
    {
     "name": "stdout",
     "output_type": "stream",
     "text": [
      "\rReading Comp news 090850"
     ]
    },
    {
     "name": "stdout",
     "output_type": "stream",
     "text": [
      "\rReading Comp news 092130"
     ]
    },
    {
     "name": "stdout",
     "output_type": "stream",
     "text": [
      "\rReading Comp news 016250"
     ]
    },
    {
     "name": "stdout",
     "output_type": "stream",
     "text": [
      "\rReading Comp news 096040"
     ]
    },
    {
     "name": "stdout",
     "output_type": "stream",
     "text": [
      "\rReading Comp news 134060"
     ]
    },
    {
     "name": "stdout",
     "output_type": "stream",
     "text": [
      "\rReading Comp news 001840"
     ]
    },
    {
     "name": "stdout",
     "output_type": "stream",
     "text": [
      "\rReading Comp news 000760"
     ]
    },
    {
     "name": "stdout",
     "output_type": "stream",
     "text": [
      "\rReading Comp news 024810"
     ]
    },
    {
     "name": "stdout",
     "output_type": "stream",
     "text": [
      "\rReading Comp news 014990"
     ]
    },
    {
     "name": "stdout",
     "output_type": "stream",
     "text": [
      "\rReading Comp news 041830"
     ]
    },
    {
     "name": "stdout",
     "output_type": "stream",
     "text": [
      "\rReading Comp news 079950"
     ]
    },
    {
     "name": "stdout",
     "output_type": "stream",
     "text": [
      "\rReading Comp news 062580"
     ]
    },
    {
     "name": "stdout",
     "output_type": "stream",
     "text": [
      "\rReading Comp news 060150"
     ]
    },
    {
     "name": "stdout",
     "output_type": "stream",
     "text": [
      "\rReading Comp news 033230"
     ]
    },
    {
     "name": "stdout",
     "output_type": "stream",
     "text": [
      "\rReading Comp news 006490"
     ]
    },
    {
     "name": "stdout",
     "output_type": "stream",
     "text": [
      "\rReading Comp news 037330"
     ]
    },
    {
     "name": "stdout",
     "output_type": "stream",
     "text": [
      "\rReading Comp news 023800"
     ]
    },
    {
     "name": "stdout",
     "output_type": "stream",
     "text": [
      "\rReading Comp news 034590"
     ]
    },
    {
     "name": "stdout",
     "output_type": "stream",
     "text": [
      "\rReading Comp news 211050"
     ]
    },
    {
     "name": "stdout",
     "output_type": "stream",
     "text": [
      "\rReading Comp news 083640"
     ]
    },
    {
     "name": "stdout",
     "output_type": "stream",
     "text": [
      "\rReading Comp news 216050"
     ]
    },
    {
     "name": "stdout",
     "output_type": "stream",
     "text": [
      "\rReading Comp news 049070"
     ]
    },
    {
     "name": "stdout",
     "output_type": "stream",
     "text": [
      "\rReading Comp news 119610"
     ]
    },
    {
     "name": "stdout",
     "output_type": "stream",
     "text": [
      "\rReading Comp news 158310"
     ]
    },
    {
     "name": "stdout",
     "output_type": "stream",
     "text": [
      "\rReading Comp news 017250"
     ]
    },
    {
     "name": "stdout",
     "output_type": "stream",
     "text": [
      "\rReading Comp news 129260"
     ]
    },
    {
     "name": "stdout",
     "output_type": "stream",
     "text": [
      "\rReading Comp news 240340"
     ]
    },
    {
     "name": "stdout",
     "output_type": "stream",
     "text": [
      "\rReading Comp news 108790"
     ]
    },
    {
     "name": "stdout",
     "output_type": "stream",
     "text": [
      "\rReading Comp news 035080"
     ]
    },
    {
     "name": "stdout",
     "output_type": "stream",
     "text": [
      "\rReading Comp news 051370"
     ]
    },
    {
     "name": "stdout",
     "output_type": "stream",
     "text": [
      "\rReading Comp news 064290"
     ]
    },
    {
     "name": "stdout",
     "output_type": "stream",
     "text": [
      "\rReading Comp news 189300"
     ]
    },
    {
     "name": "stdout",
     "output_type": "stream",
     "text": [
      "\rReading Comp news 150840"
     ]
    },
    {
     "name": "stdout",
     "output_type": "stream",
     "text": [
      "\rReading Comp news 048530"
     ]
    },
    {
     "name": "stdout",
     "output_type": "stream",
     "text": [
      "\rReading Comp news 023810"
     ]
    },
    {
     "name": "stdout",
     "output_type": "stream",
     "text": [
      "\rReading Comp news 175140"
     ]
    },
    {
     "name": "stdout",
     "output_type": "stream",
     "text": [
      "\rReading Comp news 115310"
     ]
    },
    {
     "name": "stdout",
     "output_type": "stream",
     "text": [
      "\rReading Comp news 039290"
     ]
    },
    {
     "name": "stdout",
     "output_type": "stream",
     "text": [
      "\rReading Comp news 041020"
     ]
    },
    {
     "name": "stdout",
     "output_type": "stream",
     "text": [
      "\rReading Comp news 247300"
     ]
    },
    {
     "name": "stdout",
     "output_type": "stream",
     "text": [
      "\rReading Comp news 071200"
     ]
    },
    {
     "name": "stdout",
     "output_type": "stream",
     "text": [
      "\rReading Comp news 101930"
     ]
    },
    {
     "name": "stdout",
     "output_type": "stream",
     "text": [
      "\rReading Comp news 078940"
     ]
    },
    {
     "name": "stdout",
     "output_type": "stream",
     "text": [
      "\rReading Comp news 249420"
     ]
    },
    {
     "name": "stdout",
     "output_type": "stream",
     "text": [
      "\rReading Comp news 000230"
     ]
    },
    {
     "name": "stdout",
     "output_type": "stream",
     "text": [
      "\rReading Comp news 013360"
     ]
    },
    {
     "name": "stdout",
     "output_type": "stream",
     "text": [
      "\rReading Comp news 013367"
     ]
    },
    {
     "name": "stdout",
     "output_type": "stream",
     "text": [
      "\rReading Comp news 003120"
     ]
    },
    {
     "name": "stdout",
     "output_type": "stream",
     "text": [
      "\rReading Comp news 068330"
     ]
    },
    {
     "name": "stdout",
     "output_type": "stream",
     "text": [
      "\rReading Comp news 003200"
     ]
    },
    {
     "name": "stdout",
     "output_type": "stream",
     "text": [
      "\rReading Comp news 007110"
     ]
    },
    {
     "name": "stdout",
     "output_type": "stream",
     "text": [
      "\rReading Comp news 058450"
     ]
    },
    {
     "name": "stdout",
     "output_type": "stream",
     "text": [
      "\rReading Comp news 007570"
     ]
    },
    {
     "name": "stdout",
     "output_type": "stream",
     "text": [
      "\rReading Comp news 007575"
     ]
    },
    {
     "name": "stdout",
     "output_type": "stream",
     "text": [
      "\rReading Comp news 008500"
     ]
    },
    {
     "name": "stdout",
     "output_type": "stream",
     "text": [
      "\rReading Comp news 019540"
     ]
    },
    {
     "name": "stdout",
     "output_type": "stream",
     "text": [
      "\rReading Comp news 081000"
     ]
    },
    {
     "name": "stdout",
     "output_type": "stream",
     "text": [
      "\rReading Comp news 020760"
     ]
    },
    {
     "name": "stdout",
     "output_type": "stream",
     "text": [
      "\rReading Comp news 020150"
     ]
    },
    {
     "name": "stdout",
     "output_type": "stream",
     "text": [
      "\rReading Comp news 103590"
     ]
    },
    {
     "name": "stdout",
     "output_type": "stream",
     "text": [
      "\rReading Comp news 094820"
     ]
    },
    {
     "name": "stdout",
     "output_type": "stream",
     "text": [
      "\rReading Comp news 015860"
     ]
    },
    {
     "name": "stdout",
     "output_type": "stream",
     "text": [
      "\rReading Comp news 226320"
     ]
    },
    {
     "name": "stdout",
     "output_type": "stream",
     "text": [
      "\rReading Comp news 950140"
     ]
    },
    {
     "name": "stdout",
     "output_type": "stream",
     "text": [
      "\rReading Comp news 049550"
     ]
    },
    {
     "name": "stdout",
     "output_type": "stream",
     "text": [
      "\rReading Comp news 230400"
     ]
    },
    {
     "name": "stdout",
     "output_type": "stream",
     "text": [
      "\rReading Comp news 043910"
     ]
    },
    {
     "name": "stdout",
     "output_type": "stream",
     "text": [
      "\rReading Comp news 234920"
     ]
    },
    {
     "name": "stdout",
     "output_type": "stream",
     "text": [
      "\rReading Comp news 033240"
     ]
    },
    {
     "name": "stdout",
     "output_type": "stream",
     "text": [
      "\rReading Comp news 174880"
     ]
    },
    {
     "name": "stdout",
     "output_type": "stream",
     "text": [
      "\rReading Comp news 049630"
     ]
    },
    {
     "name": "stdout",
     "output_type": "stream",
     "text": [
      "\rReading Comp news 000950"
     ]
    },
    {
     "name": "stdout",
     "output_type": "stream",
     "text": [
      "\rReading Comp news 120780"
     ]
    },
    {
     "name": "stdout",
     "output_type": "stream",
     "text": [
      "\rReading Comp news 065530"
     ]
    },
    {
     "name": "stdout",
     "output_type": "stream",
     "text": [
      "\rReading Comp news 208140"
     ]
    },
    {
     "name": "stdout",
     "output_type": "stream",
     "text": [
      "\rReading Comp news 022220"
     ]
    },
    {
     "name": "stdout",
     "output_type": "stream",
     "text": [
      "\rReading Comp news 040420"
     ]
    },
    {
     "name": "stdout",
     "output_type": "stream",
     "text": [
      "\rReading Comp news 045510"
     ]
    },
    {
     "name": "stdout",
     "output_type": "stream",
     "text": [
      "\rReading Comp news 065620"
     ]
    },
    {
     "name": "stdout",
     "output_type": "stream",
     "text": [
      "\rReading Comp news 217190"
     ]
    },
    {
     "name": "stdout",
     "output_type": "stream",
     "text": [
      "\rReading Comp news 095700"
     ]
    },
    {
     "name": "stdout",
     "output_type": "stream",
     "text": [
      "\rReading Comp news 066830"
     ]
    },
    {
     "name": "stdout",
     "output_type": "stream",
     "text": [
      "\rReading Comp news 187420"
     ]
    },
    {
     "name": "stdout",
     "output_type": "stream",
     "text": [
      "\rReading Comp news 225220"
     ]
    },
    {
     "name": "stdout",
     "output_type": "stream",
     "text": [
      "\rReading Comp news 123330"
     ]
    },
    {
     "name": "stdout",
     "output_type": "stream",
     "text": [
      "\rReading Comp news 159580"
     ]
    },
    {
     "name": "stdout",
     "output_type": "stream",
     "text": [
      "\rReading Comp news 147830"
     ]
    },
    {
     "name": "stdout",
     "output_type": "stream",
     "text": [
      "\rReading Comp news 033100"
     ]
    },
    {
     "name": "stdout",
     "output_type": "stream",
     "text": [
      "\rReading Comp news 019570"
     ]
    },
    {
     "name": "stdout",
     "output_type": "stream",
     "text": [
      "\rReading Comp news 079370"
     ]
    },
    {
     "name": "stdout",
     "output_type": "stream",
     "text": [
      "\rReading Comp news 054950"
     ]
    },
    {
     "name": "stdout",
     "output_type": "stream",
     "text": [
      "\rReading Comp news 096690"
     ]
    },
    {
     "name": "stdout",
     "output_type": "stream",
     "text": [
      "\rReading Comp news 090470"
     ]
    },
    {
     "name": "stdout",
     "output_type": "stream",
     "text": [
      "\rReading Comp news 137950"
     ]
    },
    {
     "name": "stdout",
     "output_type": "stream",
     "text": [
      "\rReading Comp news 033320"
     ]
    },
    {
     "name": "stdout",
     "output_type": "stream",
     "text": [
      "\rReading Comp news 194370"
     ]
    },
    {
     "name": "stdout",
     "output_type": "stream",
     "text": [
      "\rReading Comp news 026040"
     ]
    },
    {
     "name": "stdout",
     "output_type": "stream",
     "text": [
      "\rReading Comp news 250300"
     ]
    },
    {
     "name": "stdout",
     "output_type": "stream",
     "text": [
      "\rReading Comp news 126880"
     ]
    },
    {
     "name": "stdout",
     "output_type": "stream",
     "text": [
      "\rReading Comp news 033050"
     ]
    },
    {
     "name": "stdout",
     "output_type": "stream",
     "text": [
      "\rReading Comp news 094970"
     ]
    },
    {
     "name": "stdout",
     "output_type": "stream",
     "text": [
      "\rReading Comp news 058420"
     ]
    },
    {
     "name": "stdout",
     "output_type": "stream",
     "text": [
      "\rReading Comp news 025620"
     ]
    },
    {
     "name": "stdout",
     "output_type": "stream",
     "text": [
      "\rReading Comp news 036420"
     ]
    },
    {
     "name": "stdout",
     "output_type": "stream",
     "text": [
      "\rReading Comp news 089790"
     ]
    },
    {
     "name": "stdout",
     "output_type": "stream",
     "text": [
      "\rReading Comp news 030000"
     ]
    },
    {
     "name": "stdout",
     "output_type": "stream",
     "text": [
      "\rReading Comp news 052670"
     ]
    },
    {
     "name": "stdout",
     "output_type": "stream",
     "text": [
      "\rReading Comp news 271980"
     ]
    },
    {
     "name": "stdout",
     "output_type": "stream",
     "text": [
      "\rReading Comp news 001560"
     ]
    },
    {
     "name": "stdout",
     "output_type": "stream",
     "text": [
      "\rReading Comp news 023440"
     ]
    },
    {
     "name": "stdout",
     "output_type": "stream",
     "text": [
      "\rReading Comp news 038010"
     ]
    },
    {
     "name": "stdout",
     "output_type": "stream",
     "text": [
      "\rReading Comp news 002620"
     ]
    },
    {
     "name": "stdout",
     "output_type": "stream",
     "text": [
      "\rReading Comp news 003380"
     ]
    },
    {
     "name": "stdout",
     "output_type": "stream",
     "text": [
      "\rReading Comp news 080220"
     ]
    },
    {
     "name": "stdout",
     "output_type": "stream",
     "text": [
      "\rReading Comp news 006220"
     ]
    },
    {
     "name": "stdout",
     "output_type": "stream",
     "text": [
      "\rReading Comp news 089590"
     ]
    },
    {
     "name": "stdout",
     "output_type": "stream",
     "text": [
      "\rReading Comp news 229000"
     ]
    },
    {
     "name": "stdout",
     "output_type": "stream",
     "text": [
      "\rReading Comp news 082270"
     ]
    },
    {
     "name": "stdout",
     "output_type": "stream",
     "text": [
      "\rReading Comp news 044060"
     ]
    },
    {
     "name": "stdout",
     "output_type": "stream",
     "text": [
      "\rReading Comp news 004910"
     ]
    },
    {
     "name": "stdout",
     "output_type": "stream",
     "text": [
      "\rReading Comp news 004700"
     ]
    },
    {
     "name": "stdout",
     "output_type": "stream",
     "text": [
      "\rReading Comp news 001550"
     ]
    },
    {
     "name": "stdout",
     "output_type": "stream",
     "text": [
      "\rReading Comp news 000480"
     ]
    },
    {
     "name": "stdout",
     "output_type": "stream",
     "text": [
      "\rReading Comp news 120030"
     ]
    },
    {
     "name": "stdout",
     "output_type": "stream",
     "text": [
      "\rReading Comp news 034940"
     ]
    },
    {
     "name": "stdout",
     "output_type": "stream",
     "text": [
      "\rReading Comp news 101730"
     ]
    },
    {
     "name": "stdout",
     "output_type": "stream",
     "text": [
      "\rReading Comp news 067000"
     ]
    },
    {
     "name": "stdout",
     "output_type": "stream",
     "text": [
      "\rReading Comp news 018470"
     ]
    },
    {
     "name": "stdout",
     "output_type": "stream",
     "text": [
      "\rReading Comp news 002600"
     ]
    },
    {
     "name": "stdout",
     "output_type": "stream",
     "text": [
      "\rReading Comp news 185750"
     ]
    },
    {
     "name": "stdout",
     "output_type": "stream",
     "text": [
      "\rReading Comp news 063160"
     ]
    },
    {
     "name": "stdout",
     "output_type": "stream",
     "text": [
      "\rReading Comp news 001630"
     ]
    },
    {
     "name": "stdout",
     "output_type": "stream",
     "text": [
      "\rReading Comp news 033340"
     ]
    },
    {
     "name": "stdout",
     "output_type": "stream",
     "text": [
      "\rReading Comp news 221670"
     ]
    },
    {
     "name": "stdout",
     "output_type": "stream",
     "text": [
      "\rReading Comp news 036930"
     ]
    },
    {
     "name": "stdout",
     "output_type": "stream",
     "text": [
      "\rReading Comp news 044380"
     ]
    },
    {
     "name": "stdout",
     "output_type": "stream",
     "text": [
      "\rReading Comp news 229480"
     ]
    },
    {
     "name": "stdout",
     "output_type": "stream",
     "text": [
      "\rReading Comp news 051980"
     ]
    },
    {
     "name": "stdout",
     "output_type": "stream",
     "text": [
      "\rReading Comp news 072020"
     ]
    },
    {
     "name": "stdout",
     "output_type": "stream",
     "text": [
      "\rReading Comp news 000440"
     ]
    },
    {
     "name": "stdout",
     "output_type": "stream",
     "text": [
      "\rReading Comp news 054180"
     ]
    },
    {
     "name": "stdout",
     "output_type": "stream",
     "text": [
      "\rReading Comp news 228760"
     ]
    },
    {
     "name": "stdout",
     "output_type": "stream",
     "text": [
      "\rReading Comp news 043610"
     ]
    },
    {
     "name": "stdout",
     "output_type": "stream",
     "text": [
      "\rReading Comp news 263860"
     ]
    },
    {
     "name": "stdout",
     "output_type": "stream",
     "text": [
      "\rReading Comp news 155960"
     ]
    },
    {
     "name": "stdout",
     "output_type": "stream",
     "text": [
      "\rReading Comp news 208350"
     ]
    },
    {
     "name": "stdout",
     "output_type": "stream",
     "text": [
      "\rReading Comp news 138290"
     ]
    },
    {
     "name": "stdout",
     "output_type": "stream",
     "text": [
      "\rReading Comp news 114570"
     ]
    },
    {
     "name": "stdout",
     "output_type": "stream",
     "text": [
      "\rReading Comp news 051160"
     ]
    },
    {
     "name": "stdout",
     "output_type": "stream",
     "text": [
      "\rReading Comp news 053050"
     ]
    },
    {
     "name": "stdout",
     "output_type": "stream",
     "text": [
      "\rReading Comp news 119850"
     ]
    },
    {
     "name": "stdout",
     "output_type": "stream",
     "text": [
      "\rReading Comp news 065060"
     ]
    },
    {
     "name": "stdout",
     "output_type": "stream",
     "text": [
      "\rReading Comp news 204840"
     ]
    },
    {
     "name": "stdout",
     "output_type": "stream",
     "text": [
      "\rReading Comp news 013870"
     ]
    },
    {
     "name": "stdout",
     "output_type": "stream",
     "text": [
      "\rReading Comp news 018290"
     ]
    },
    {
     "name": "stdout",
     "output_type": "stream",
     "text": [
      "\rReading Comp news 071320"
     ]
    },
    {
     "name": "stdout",
     "output_type": "stream",
     "text": [
      "\rReading Comp news 135160"
     ]
    },
    {
     "name": "stdout",
     "output_type": "stream",
     "text": [
      "\rReading Comp news 111820"
     ]
    },
    {
     "name": "stdout",
     "output_type": "stream",
     "text": [
      "\rReading Comp news 010580"
     ]
    },
    {
     "name": "stdout",
     "output_type": "stream",
     "text": [
      "\rReading Comp news 035000"
     ]
    },
    {
     "name": "stdout",
     "output_type": "stream",
     "text": [
      "\rReading Comp news 115450"
     ]
    },
    {
     "name": "stdout",
     "output_type": "stream",
     "text": [
      "\rReading Comp news 219750"
     ]
    },
    {
     "name": "stdout",
     "output_type": "stream",
     "text": [
      "\rReading Comp news 088790"
     ]
    },
    {
     "name": "stdout",
     "output_type": "stream",
     "text": [
      "\rReading Comp news 018120"
     ]
    },
    {
     "name": "stdout",
     "output_type": "stream",
     "text": [
      "\rReading Comp news 109820"
     ]
    },
    {
     "name": "stdout",
     "output_type": "stream",
     "text": [
      "\rReading Comp news 086060"
     ]
    },
    {
     "name": "stdout",
     "output_type": "stream",
     "text": [
      "\rReading Comp news 036890"
     ]
    },
    {
     "name": "stdout",
     "output_type": "stream",
     "text": [
      "\rReading Comp news 003780"
     ]
    },
    {
     "name": "stdout",
     "output_type": "stream",
     "text": [
      "\rReading Comp news 007370"
     ]
    },
    {
     "name": "stdout",
     "output_type": "stream",
     "text": [
      "\rReading Comp news 010640"
     ]
    },
    {
     "name": "stdout",
     "output_type": "stream",
     "text": [
      "\rReading Comp news 100250"
     ]
    },
    {
     "name": "stdout",
     "output_type": "stream",
     "text": [
      "\rReading Comp news 051630"
     ]
    },
    {
     "name": "stdout",
     "output_type": "stream",
     "text": [
      "\rReading Comp news 272450"
     ]
    },
    {
     "name": "stdout",
     "output_type": "stream",
     "text": [
      "\rReading Comp news 011000"
     ]
    },
    {
     "name": "stdout",
     "output_type": "stream",
     "text": [
      "\rReading Comp news 002780"
     ]
    },
    {
     "name": "stdout",
     "output_type": "stream",
     "text": [
      "\rReading Comp news 002787"
     ]
    },
    {
     "name": "stdout",
     "output_type": "stream",
     "text": [
      "\rReading Comp news 002785"
     ]
    },
    {
     "name": "stdout",
     "output_type": "stream",
     "text": [
      "\rReading Comp news 085660"
     ]
    },
    {
     "name": "stdout",
     "output_type": "stream",
     "text": [
      "\rReading Comp news 900040"
     ]
    },
    {
     "name": "stdout",
     "output_type": "stream",
     "text": [
      "\rReading Comp news 900090"
     ]
    },
    {
     "name": "stdout",
     "output_type": "stream",
     "text": [
      "\rReading Comp news 009310"
     ]
    },
    {
     "name": "stdout",
     "output_type": "stream",
     "text": [
      "\rReading Comp news 094850"
     ]
    },
    {
     "name": "stdout",
     "output_type": "stream",
     "text": [
      "\rReading Comp news 004650"
     ]
    },
    {
     "name": "stdout",
     "output_type": "stream",
     "text": [
      "\rReading Comp news 000650"
     ]
    },
    {
     "name": "stdout",
     "output_type": "stream",
     "text": [
      "\rReading Comp news 140290"
     ]
    },
    {
     "name": "stdout",
     "output_type": "stream",
     "text": [
      "\rReading Comp news 096240"
     ]
    },
    {
     "name": "stdout",
     "output_type": "stream",
     "text": [
      "\rReading Comp news 013720"
     ]
    },
    {
     "name": "stdout",
     "output_type": "stream",
     "text": [
      "\rReading Comp news 012600"
     ]
    },
    {
     "name": "stdout",
     "output_type": "stream",
     "text": [
      "\rReading Comp news 066360"
     ]
    },
    {
     "name": "stdout",
     "output_type": "stream",
     "text": [
      "\rReading Comp news 033250"
     ]
    },
    {
     "name": "stdout",
     "output_type": "stream",
     "text": [
      "\rReading Comp news 047820"
     ]
    },
    {
     "name": "stdout",
     "output_type": "stream",
     "text": [
      "\rReading Comp news 094360"
     ]
    },
    {
     "name": "stdout",
     "output_type": "stream",
     "text": [
      "\rReading Comp news 016920"
     ]
    },
    {
     "name": "stdout",
     "output_type": "stream",
     "text": [
      "\rReading Comp news 220250"
     ]
    },
    {
     "name": "stdout",
     "output_type": "stream",
     "text": [
      "\rReading Comp news 035720"
     ]
    },
    {
     "name": "stdout",
     "output_type": "stream",
     "text": [
      "\rReading Comp news 016170"
     ]
    },
    {
     "name": "stdout",
     "output_type": "stream",
     "text": [
      "\rReading Comp news 042000"
     ]
    },
    {
     "name": "stdout",
     "output_type": "stream",
     "text": [
      "\rReading Comp news 006380"
     ]
    },
    {
     "name": "stdout",
     "output_type": "stream",
     "text": [
      "\rReading Comp news 071850"
     ]
    },
    {
     "name": "stdout",
     "output_type": "stream",
     "text": [
      "\rReading Comp news 180400"
     ]
    },
    {
     "name": "stdout",
     "output_type": "stream",
     "text": [
      "\rReading Comp news 050110"
     ]
    },
    {
     "name": "stdout",
     "output_type": "stream",
     "text": [
      "\rReading Comp news 109070"
     ]
    },
    {
     "name": "stdout",
     "output_type": "stream",
     "text": [
      "\rReading Comp news 900310"
     ]
    },
    {
     "name": "stdout",
     "output_type": "stream",
     "text": [
      "\rReading Comp news 078340"
     ]
    },
    {
     "name": "stdout",
     "output_type": "stream",
     "text": [
      "\rReading Comp news 205290"
     ]
    },
    {
     "name": "stdout",
     "output_type": "stream",
     "text": [
      "\rReading Comp news 263700"
     ]
    },
    {
     "name": "stdout",
     "output_type": "stream",
     "text": [
      "\rReading Comp news 214370"
     ]
    },
    {
     "name": "stdout",
     "output_type": "stream",
     "text": [
      "\rReading Comp news 221980"
     ]
    },
    {
     "name": "stdout",
     "output_type": "stream",
     "text": [
      "\rReading Comp news 043290"
     ]
    },
    {
     "name": "stdout",
     "output_type": "stream",
     "text": [
      "\rReading Comp news 250930"
     ]
    },
    {
     "name": "stdout",
     "output_type": "stream",
     "text": [
      "\rReading Comp news 258790"
     ]
    },
    {
     "name": "stdout",
     "output_type": "stream",
     "text": [
      "\rReading Comp news 232270"
     ]
    },
    {
     "name": "stdout",
     "output_type": "stream",
     "text": [
      "\rReading Comp news 192250"
     ]
    },
    {
     "name": "stdout",
     "output_type": "stream",
     "text": [
      "\rReading Comp news 029460"
     ]
    },
    {
     "name": "stdout",
     "output_type": "stream",
     "text": [
      "\rReading Comp news 115500"
     ]
    },
    {
     "name": "stdout",
     "output_type": "stream",
     "text": [
      "\rReading Comp news 281820"
     ]
    },
    {
     "name": "stdout",
     "output_type": "stream",
     "text": [
      "\rReading Comp news 089150"
     ]
    },
    {
     "name": "stdout",
     "output_type": "stream",
     "text": [
      "\rReading Comp news 025880"
     ]
    },
    {
     "name": "stdout",
     "output_type": "stream",
     "text": [
      "\rReading Comp news 093320"
     ]
    },
    {
     "name": "stdout",
     "output_type": "stream",
     "text": [
      "\rReading Comp news 073010"
     ]
    },
    {
     "name": "stdout",
     "output_type": "stream",
     "text": [
      "\rReading Comp news 105330"
     ]
    },
    {
     "name": "stdout",
     "output_type": "stream",
     "text": [
      "\rReading Comp news 039420"
     ]
    },
    {
     "name": "stdout",
     "output_type": "stream",
     "text": [
      "\rReading Comp news 083550"
     ]
    },
    {
     "name": "stdout",
     "output_type": "stream",
     "text": [
      "\rReading Comp news 032500"
     ]
    },
    {
     "name": "stdout",
     "output_type": "stream",
     "text": [
      "\rReading Comp news 237720"
     ]
    },
    {
     "name": "stdout",
     "output_type": "stream",
     "text": [
      "\rReading Comp news 145270"
     ]
    },
    {
     "name": "stdout",
     "output_type": "stream",
     "text": [
      "\rReading Comp news 058860"
     ]
    },
    {
     "name": "stdout",
     "output_type": "stream",
     "text": [
      "\rReading Comp news 064820"
     ]
    },
    {
     "name": "stdout",
     "output_type": "stream",
     "text": [
      "\rReading Comp news 256940"
     ]
    },
    {
     "name": "stdout",
     "output_type": "stream",
     "text": [
      "\rReading Comp news 024880"
     ]
    },
    {
     "name": "stdout",
     "output_type": "stream",
     "text": [
      "\rReading Comp news 042040"
     ]
    },
    {
     "name": "stdout",
     "output_type": "stream",
     "text": [
      "\rReading Comp news 054410"
     ]
    },
    {
     "name": "stdout",
     "output_type": "stream",
     "text": [
      "\rReading Comp news 217600"
     ]
    },
    {
     "name": "stdout",
     "output_type": "stream",
     "text": [
      "\rReading Comp news 089010"
     ]
    },
    {
     "name": "stdout",
     "output_type": "stream",
     "text": [
      "\rReading Comp news 220260"
     ]
    },
    {
     "name": "stdout",
     "output_type": "stream",
     "text": [
      "\rReading Comp news 052400"
     ]
    },
    {
     "name": "stdout",
     "output_type": "stream",
     "text": [
      "\rReading Comp news 094860"
     ]
    },
    {
     "name": "stdout",
     "output_type": "stream",
     "text": [
      "\rReading Comp news 046070"
     ]
    },
    {
     "name": "stdout",
     "output_type": "stream",
     "text": [
      "\rReading Comp news 047770"
     ]
    },
    {
     "name": "stdout",
     "output_type": "stream",
     "text": [
      "\rReading Comp news 080530"
     ]
    },
    {
     "name": "stdout",
     "output_type": "stream",
     "text": [
      "\rReading Comp news 224060"
     ]
    },
    {
     "name": "stdout",
     "output_type": "stream",
     "text": [
      "\rReading Comp news 078650"
     ]
    },
    {
     "name": "stdout",
     "output_type": "stream",
     "text": [
      "\rReading Comp news 104540"
     ]
    },
    {
     "name": "stdout",
     "output_type": "stream",
     "text": [
      "\rReading Comp news 027050"
     ]
    },
    {
     "name": "stdout",
     "output_type": "stream",
     "text": [
      "\rReading Comp news 007815"
     ]
    },
    {
     "name": "stdout",
     "output_type": "stream",
     "text": [
      "\rReading Comp news 007810"
     ]
    },
    {
     "name": "stdout",
     "output_type": "stream",
     "text": [
      "\rReading Comp news 00781K"
     ]
    },
    {
     "name": "stdout",
     "output_type": "stream",
     "text": [
      "\rReading Comp news 101670"
     ]
    },
    {
     "name": "stdout",
     "output_type": "stream",
     "text": [
      "\rReading Comp news 123410"
     ]
    },
    {
     "name": "stdout",
     "output_type": "stream",
     "text": [
      "\rReading Comp news 152330"
     ]
    },
    {
     "name": "stdout",
     "output_type": "stream",
     "text": [
      "\rReading Comp news 003690"
     ]
    },
    {
     "name": "stdout",
     "output_type": "stream",
     "text": [
      "\rReading Comp news 036690"
     ]
    },
    {
     "name": "stdout",
     "output_type": "stream",
     "text": [
      "\rReading Comp news 049430"
     ]
    },
    {
     "name": "stdout",
     "output_type": "stream",
     "text": [
      "\rReading Comp news 183300"
     ]
    },
    {
     "name": "stdout",
     "output_type": "stream",
     "text": [
      "\rReading Comp news 041960"
     ]
    },
    {
     "name": "stdout",
     "output_type": "stream",
     "text": [
      "\rReading Comp news 089890"
     ]
    },
    {
     "name": "stdout",
     "output_type": "stream",
     "text": [
      "\rReading Comp news 009730"
     ]
    },
    {
     "name": "stdout",
     "output_type": "stream",
     "text": [
      "\rReading Comp news 189350"
     ]
    },
    {
     "name": "stdout",
     "output_type": "stream",
     "text": [
      "\rReading Comp news 192820"
     ]
    },
    {
     "name": "stdout",
     "output_type": "stream",
     "text": [
      "\rReading Comp news 044820"
     ]
    },
    {
     "name": "stdout",
     "output_type": "stream",
     "text": [
      "\rReading Comp news 241710"
     ]
    },
    {
     "name": "stdout",
     "output_type": "stream",
     "text": [
      "\rReading Comp news 005070"
     ]
    },
    {
     "name": "stdout",
     "output_type": "stream",
     "text": [
      "\rReading Comp news 005420"
     ]
    },
    {
     "name": "stdout",
     "output_type": "stream",
     "text": [
      "\rReading Comp news 069110"
     ]
    },
    {
     "name": "stdout",
     "output_type": "stream",
     "text": [
      "\rReading Comp news 071950"
     ]
    },
    {
     "name": "stdout",
     "output_type": "stream",
     "text": [
      "\rReading Comp news 166480"
     ]
    },
    {
     "name": "stdout",
     "output_type": "stream",
     "text": [
      "\rReading Comp news 045970"
     ]
    },
    {
     "name": "stdout",
     "output_type": "stream",
     "text": [
      "\rReading Comp news 029960"
     ]
    },
    {
     "name": "stdout",
     "output_type": "stream",
     "text": [
      "\rReading Comp news 002020"
     ]
    },
    {
     "name": "stdout",
     "output_type": "stream",
     "text": [
      "\rReading Comp news 003070"
     ]
    },
    {
     "name": "stdout",
     "output_type": "stream",
     "text": [
      "\rReading Comp news 003075"
     ]
    },
    {
     "name": "stdout",
     "output_type": "stream",
     "text": [
      "\rReading Comp news 144620"
     ]
    },
    {
     "name": "stdout",
     "output_type": "stream",
     "text": [
      "\rReading Comp news 102940"
     ]
    },
    {
     "name": "stdout",
     "output_type": "stream",
     "text": [
      "\rReading Comp news 002025"
     ]
    },
    {
     "name": "stdout",
     "output_type": "stream",
     "text": [
      "\rReading Comp news 120110"
     ]
    },
    {
     "name": "stdout",
     "output_type": "stream",
     "text": [
      "\rReading Comp news 120115"
     ]
    },
    {
     "name": "stdout",
     "output_type": "stream",
     "text": [
      "\rReading Comp news 950160"
     ]
    },
    {
     "name": "stdout",
     "output_type": "stream",
     "text": [
      "\rReading Comp news 138490"
     ]
    },
    {
     "name": "stdout",
     "output_type": "stream",
     "text": [
      "\rReading Comp news 021240"
     ]
    },
    {
     "name": "stdout",
     "output_type": "stream",
     "text": [
      "\rReading Comp news 033290"
     ]
    },
    {
     "name": "stdout",
     "output_type": "stream",
     "text": [
      "\rReading Comp news 056360"
     ]
    },
    {
     "name": "stdout",
     "output_type": "stream",
     "text": [
      "\rReading Comp news 121850"
     ]
    },
    {
     "name": "stdout",
     "output_type": "stream",
     "text": [
      "\rReading Comp news 015710"
     ]
    },
    {
     "name": "stdout",
     "output_type": "stream",
     "text": [
      "\rReading Comp news 052330"
     ]
    },
    {
     "name": "stdout",
     "output_type": "stream",
     "text": [
      "\rReading Comp news 126600"
     ]
    },
    {
     "name": "stdout",
     "output_type": "stream",
     "text": [
      "\rReading Comp news 200130"
     ]
    },
    {
     "name": "stdout",
     "output_type": "stream",
     "text": [
      "\rReading Comp news 031820"
     ]
    },
    {
     "name": "stdout",
     "output_type": "stream",
     "text": [
      "\rReading Comp news 225650"
     ]
    },
    {
     "name": "stdout",
     "output_type": "stream",
     "text": [
      "\rReading Comp news 192400"
     ]
    },
    {
     "name": "stdout",
     "output_type": "stream",
     "text": [
      "\rReading Comp news 284740"
     ]
    },
    {
     "name": "stdout",
     "output_type": "stream",
     "text": [
      "\rReading Comp news 060280"
     ]
    },
    {
     "name": "stdout",
     "output_type": "stream",
     "text": [
      "\rReading Comp news 015590"
     ]
    },
    {
     "name": "stdout",
     "output_type": "stream",
     "text": [
      "\rReading Comp news 040350"
     ]
    },
    {
     "name": "stdout",
     "output_type": "stream",
     "text": [
      "\rReading Comp news 051780"
     ]
    },
    {
     "name": "stdout",
     "output_type": "stream",
     "text": [
      "\rReading Comp news 115180"
     ]
    },
    {
     "name": "stdout",
     "output_type": "stream",
     "text": [
      "\rReading Comp news 182360"
     ]
    },
    {
     "name": "stdout",
     "output_type": "stream",
     "text": [
      "\rReading Comp news 066310"
     ]
    },
    {
     "name": "stdout",
     "output_type": "stream",
     "text": [
      "\rReading Comp news 136660"
     ]
    },
    {
     "name": "stdout",
     "output_type": "stream",
     "text": [
      "\rReading Comp news 016600"
     ]
    },
    {
     "name": "stdout",
     "output_type": "stream",
     "text": [
      "\rReading Comp news 264900"
     ]
    },
    {
     "name": "stdout",
     "output_type": "stream",
     "text": [
      "\rReading Comp news 26490K"
     ]
    },
    {
     "name": "stdout",
     "output_type": "stream",
     "text": [
      "\rReading Comp news 005740"
     ]
    },
    {
     "name": "stdout",
     "output_type": "stream",
     "text": [
      "\rReading Comp news 005745"
     ]
    },
    {
     "name": "stdout",
     "output_type": "stream",
     "text": [
      "\rReading Comp news 058530"
     ]
    },
    {
     "name": "stdout",
     "output_type": "stream",
     "text": [
      "\rReading Comp news 215570"
     ]
    },
    {
     "name": "stdout",
     "output_type": "stream",
     "text": [
      "\rReading Comp news 043590"
     ]
    },
    {
     "name": "stdout",
     "output_type": "stream",
     "text": [
      "\rReading Comp news 114120"
     ]
    },
    {
     "name": "stdout",
     "output_type": "stream",
     "text": [
      "\rReading Comp news 083790"
     ]
    },
    {
     "name": "stdout",
     "output_type": "stream",
     "text": [
      "\rReading Comp news 900250"
     ]
    },
    {
     "name": "stdout",
     "output_type": "stream",
     "text": [
      "\rReading Comp news 045520"
     ]
    },
    {
     "name": "stdout",
     "output_type": "stream",
     "text": [
      "\rReading Comp news 214150"
     ]
    },
    {
     "name": "stdout",
     "output_type": "stream",
     "text": [
      "\rReading Comp news 237880"
     ]
    },
    {
     "name": "stdout",
     "output_type": "stream",
     "text": [
      "\rReading Comp news 020120"
     ]
    },
    {
     "name": "stdout",
     "output_type": "stream",
     "text": [
      "\rReading Comp news 226850"
     ]
    },
    {
     "name": "stdout",
     "output_type": "stream",
     "text": [
      "\rReading Comp news 039490"
     ]
    },
    {
     "name": "stdout",
     "output_type": "stream",
     "text": [
      "\rReading Comp news 012170"
     ]
    },
    {
     "name": "stdout",
     "output_type": "stream",
     "text": [
      "\rReading Comp news 054780"
     ]
    },
    {
     "name": "stdout",
     "output_type": "stream",
     "text": [
      "\rReading Comp news 219130"
     ]
    },
    {
     "name": "stdout",
     "output_type": "stream",
     "text": [
      "\rReading Comp news 180060"
     ]
    },
    {
     "name": "stdout",
     "output_type": "stream",
     "text": [
      "\rReading Comp news 065130"
     ]
    },
    {
     "name": "stdout",
     "output_type": "stream",
     "text": [
      "\rReading Comp news 015890"
     ]
    },
    {
     "name": "stdout",
     "output_type": "stream",
     "text": [
      "\rReading Comp news 235090"
     ]
    },
    {
     "name": "stdout",
     "output_type": "stream",
     "text": [
      "\rReading Comp news 006890"
     ]
    },
    {
     "name": "stdout",
     "output_type": "stream",
     "text": [
      "\rReading Comp news 023160"
     ]
    },
    {
     "name": "stdout",
     "output_type": "stream",
     "text": [
      "\rReading Comp news 003240"
     ]
    },
    {
     "name": "stdout",
     "output_type": "stream",
     "text": [
      "\rReading Comp news 011280"
     ]
    },
    {
     "name": "stdout",
     "output_type": "stream",
     "text": [
      "\rReading Comp news 053620"
     ]
    },
    {
     "name": "stdout",
     "output_type": "stream",
     "text": [
      "\rReading Comp news 004100"
     ]
    },
    {
     "name": "stdout",
     "output_type": "stream",
     "text": [
      "\rReading Comp news 004105"
     ]
    },
    {
     "name": "stdout",
     "output_type": "stream",
     "text": [
      "\rReading Comp news 116100"
     ]
    },
    {
     "name": "stdout",
     "output_type": "stream",
     "text": [
      "\rReading Comp news 072520"
     ]
    },
    {
     "name": "stdout",
     "output_type": "stream",
     "text": [
      "\rReading Comp news 009410"
     ]
    },
    {
     "name": "stdout",
     "output_type": "stream",
     "text": [
      "\rReading Comp news 009415"
     ]
    },
    {
     "name": "stdout",
     "output_type": "stream",
     "text": [
      "\rReading Comp news 044490"
     ]
    },
    {
     "name": "stdout",
     "output_type": "stream",
     "text": [
      "\rReading Comp news 001420"
     ]
    },
    {
     "name": "stdout",
     "output_type": "stream",
     "text": [
      "\rReading Comp news 007980"
     ]
    },
    {
     "name": "stdout",
     "output_type": "stream",
     "text": [
      "\rReading Comp news 191420"
     ]
    },
    {
     "name": "stdout",
     "output_type": "stream",
     "text": [
      "\rReading Comp news 182690"
     ]
    },
    {
     "name": "stdout",
     "output_type": "stream",
     "text": [
      "\rReading Comp news 066700"
     ]
    },
    {
     "name": "stdout",
     "output_type": "stream",
     "text": [
      "\rReading Comp news 095610"
     ]
    },
    {
     "name": "stdout",
     "output_type": "stream",
     "text": [
      "\rReading Comp news 131970"
     ]
    },
    {
     "name": "stdout",
     "output_type": "stream",
     "text": [
      "\rReading Comp news 055490"
     ]
    },
    {
     "name": "stdout",
     "output_type": "stream",
     "text": [
      "\rReading Comp news 089030"
     ]
    },
    {
     "name": "stdout",
     "output_type": "stream",
     "text": [
      "\rReading Comp news 054450"
     ]
    },
    {
     "name": "stdout",
     "output_type": "stream",
     "text": [
      "\rReading Comp news 091440"
     ]
    },
    {
     "name": "stdout",
     "output_type": "stream",
     "text": [
      "\rReading Comp news 196450"
     ]
    },
    {
     "name": "stdout",
     "output_type": "stream",
     "text": [
      "\rReading Comp news 078000"
     ]
    },
    {
     "name": "stdout",
     "output_type": "stream",
     "text": [
      "\rReading Comp news 200230"
     ]
    },
    {
     "name": "stdout",
     "output_type": "stream",
     "text": [
      "\rReading Comp news 214420"
     ]
    },
    {
     "name": "stdout",
     "output_type": "stream",
     "text": [
      "\rReading Comp news 215480"
     ]
    },
    {
     "name": "stdout",
     "output_type": "stream",
     "text": [
      "\rReading Comp news 051360"
     ]
    },
    {
     "name": "stdout",
     "output_type": "stream",
     "text": [
      "\rReading Comp news 045340"
     ]
    },
    {
     "name": "stdout",
     "output_type": "stream",
     "text": [
      "\rReading Comp news 057880"
     ]
    },
    {
     "name": "stdout",
     "output_type": "stream",
     "text": [
      "\rReading Comp news 108230"
     ]
    },
    {
     "name": "stdout",
     "output_type": "stream",
     "text": [
      "\rReading Comp news 079970"
     ]
    },
    {
     "name": "stdout",
     "output_type": "stream",
     "text": [
      "\rReading Comp news 066410"
     ]
    },
    {
     "name": "stdout",
     "output_type": "stream",
     "text": [
      "\rReading Comp news 199800"
     ]
    },
    {
     "name": "stdout",
     "output_type": "stream",
     "text": [
      "\rReading Comp news 140890"
     ]
    },
    {
     "name": "stdout",
     "output_type": "stream",
     "text": [
      "\rReading Comp news 052290"
     ]
    },
    {
     "name": "stdout",
     "output_type": "stream",
     "text": [
      "\rReading Comp news 105550"
     ]
    },
    {
     "name": "stdout",
     "output_type": "stream",
     "text": [
      "\rReading Comp news 026150"
     ]
    },
    {
     "name": "stdout",
     "output_type": "stream",
     "text": [
      "\rReading Comp news 033830"
     ]
    },
    {
     "name": "stdout",
     "output_type": "stream",
     "text": [
      "\rReading Comp news 228180"
     ]
    },
    {
     "name": "stdout",
     "output_type": "stream",
     "text": [
      "\rReading Comp news 064760"
     ]
    },
    {
     "name": "stdout",
     "output_type": "stream",
     "text": [
      "\rReading Comp news 277880"
     ]
    },
    {
     "name": "stdout",
     "output_type": "stream",
     "text": [
      "\rReading Comp news 131290"
     ]
    },
    {
     "name": "stdout",
     "output_type": "stream",
     "text": [
      "\rReading Comp news 246690"
     ]
    },
    {
     "name": "stdout",
     "output_type": "stream",
     "text": [
      "\rReading Comp news 019180"
     ]
    },
    {
     "name": "stdout",
     "output_type": "stream",
     "text": [
      "\rReading Comp news 062860"
     ]
    },
    {
     "name": "stdout",
     "output_type": "stream",
     "text": [
      "\rReading Comp news 004870"
     ]
    },
    {
     "name": "stdout",
     "output_type": "stream",
     "text": [
      "\rReading Comp news 191600"
     ]
    },
    {
     "name": "stdout",
     "output_type": "stream",
     "text": [
      "\rReading Comp news 104480"
     ]
    },
    {
     "name": "stdout",
     "output_type": "stream",
     "text": [
      "\rReading Comp news 081150"
     ]
    },
    {
     "name": "stdout",
     "output_type": "stream",
     "text": [
      "\rReading Comp news 130740"
     ]
    },
    {
     "name": "stdout",
     "output_type": "stream",
     "text": [
      "\rReading Comp news 217880"
     ]
    },
    {
     "name": "stdout",
     "output_type": "stream",
     "text": [
      "\rReading Comp news 084730"
     ]
    },
    {
     "name": "stdout",
     "output_type": "stream",
     "text": [
      "\rReading Comp news 046210"
     ]
    },
    {
     "name": "stdout",
     "output_type": "stream",
     "text": [
      "\rReading Comp news 034230"
     ]
    },
    {
     "name": "stdout",
     "output_type": "stream",
     "text": [
      "\rReading Comp news 033540"
     ]
    },
    {
     "name": "stdout",
     "output_type": "stream",
     "text": [
      "\rReading Comp news 043200"
     ]
    },
    {
     "name": "stdout",
     "output_type": "stream",
     "text": [
      "\rReading Comp news 217950"
     ]
    },
    {
     "name": "stdout",
     "output_type": "stream",
     "text": [
      "\rReading Comp news 214450"
     ]
    },
    {
     "name": "stdout",
     "output_type": "stream",
     "text": [
      "\rReading Comp news 005690"
     ]
    },
    {
     "name": "stdout",
     "output_type": "stream",
     "text": [
      "\rReading Comp news 177830"
     ]
    },
    {
     "name": "stdout",
     "output_type": "stream",
     "text": [
      "\rReading Comp news 037070"
     ]
    },
    {
     "name": "stdout",
     "output_type": "stream",
     "text": [
      "\rReading Comp news 150900"
     ]
    },
    {
     "name": "stdout",
     "output_type": "stream",
     "text": [
      "\rReading Comp news 047310"
     ]
    },
    {
     "name": "stdout",
     "output_type": "stream",
     "text": [
      "\rReading Comp news 170790"
     ]
    },
    {
     "name": "stdout",
     "output_type": "stream",
     "text": [
      "\rReading Comp news 049120"
     ]
    },
    {
     "name": "stdout",
     "output_type": "stream",
     "text": [
      "\rReading Comp news 038950"
     ]
    },
    {
     "name": "stdout",
     "output_type": "stream",
     "text": [
      "\rReading Comp news 278990"
     ]
    },
    {
     "name": "stdout",
     "output_type": "stream",
     "text": [
      "\rReading Comp news 106240"
     ]
    },
    {
     "name": "stdout",
     "output_type": "stream",
     "text": [
      "\rReading Comp news 131760"
     ]
    },
    {
     "name": "stdout",
     "output_type": "stream",
     "text": [
      "\rReading Comp news 140860"
     ]
    },
    {
     "name": "stdout",
     "output_type": "stream",
     "text": [
      "\rReading Comp news 091700"
     ]
    },
    {
     "name": "stdout",
     "output_type": "stream",
     "text": [
      "\rReading Comp news 194510"
     ]
    },
    {
     "name": "stdout",
     "output_type": "stream",
     "text": [
      "\rReading Comp news 038160"
     ]
    },
    {
     "name": "stdout",
     "output_type": "stream",
     "text": [
      "\rReading Comp news 202960"
     ]
    },
    {
     "name": "stdout",
     "output_type": "stream",
     "text": [
      "\rReading Comp news 032800"
     ]
    },
    {
     "name": "stdout",
     "output_type": "stream",
     "text": [
      "\rReading Comp news 043090"
     ]
    },
    {
     "name": "stdout",
     "output_type": "stream",
     "text": [
      "\rReading Comp news 036580"
     ]
    },
    {
     "name": "stdout",
     "output_type": "stream",
     "text": [
      "\rReading Comp news 027710"
     ]
    },
    {
     "name": "stdout",
     "output_type": "stream",
     "text": [
      "\rReading Comp news 225590"
     ]
    },
    {
     "name": "stdout",
     "output_type": "stream",
     "text": [
      "\rReading Comp news 054300"
     ]
    },
    {
     "name": "stdout",
     "output_type": "stream",
     "text": [
      "\rReading Comp news 068050"
     ]
    },
    {
     "name": "stdout",
     "output_type": "stream",
     "text": [
      "\rReading Comp news 028670"
     ]
    },
    {
     "name": "stdout",
     "output_type": "stream",
     "text": [
      "\rReading Comp news 222110"
     ]
    },
    {
     "name": "stdout",
     "output_type": "stream",
     "text": [
      "\rReading Comp news 010820"
     ]
    },
    {
     "name": "stdout",
     "output_type": "stream",
     "text": [
      "\rReading Comp news 016800"
     ]
    },
    {
     "name": "stdout",
     "output_type": "stream",
     "text": [
      "\rReading Comp news 060900"
     ]
    },
    {
     "name": "stdout",
     "output_type": "stream",
     "text": [
      "\rReading Comp news 263750"
     ]
    },
    {
     "name": "stdout",
     "output_type": "stream",
     "text": [
      "\rReading Comp news 001020"
     ]
    },
    {
     "name": "stdout",
     "output_type": "stream",
     "text": [
      "\rReading Comp news 087010"
     ]
    },
    {
     "name": "stdout",
     "output_type": "stream",
     "text": [
      "\rReading Comp news 090080"
     ]
    },
    {
     "name": "stdout",
     "output_type": "stream",
     "text": [
      "\rReading Comp news 043370"
     ]
    },
    {
     "name": "stdout",
     "output_type": "stream",
     "text": [
      "\rReading Comp news 010770"
     ]
    },
    {
     "name": "stdout",
     "output_type": "stream",
     "text": [
      "\rReading Comp news 119500"
     ]
    },
    {
     "name": "stdout",
     "output_type": "stream",
     "text": [
      "\rReading Comp news 016670"
     ]
    },
    {
     "name": "stdout",
     "output_type": "stream",
     "text": [
      "\rReading Comp news 056730"
     ]
    },
    {
     "name": "stdout",
     "output_type": "stream",
     "text": [
      "\rReading Comp news 022100"
     ]
    },
    {
     "name": "stdout",
     "output_type": "stream",
     "text": [
      "\rReading Comp news 058430"
     ]
    },
    {
     "name": "stdout",
     "output_type": "stream",
     "text": [
      "\rReading Comp news 047050"
     ]
    },
    {
     "name": "stdout",
     "output_type": "stream",
     "text": [
      "\rReading Comp news 009520"
     ]
    },
    {
     "name": "stdout",
     "output_type": "stream",
     "text": [
      "\rReading Comp news 003670"
     ]
    },
    {
     "name": "stdout",
     "output_type": "stream",
     "text": [
      "\rReading Comp news 189690"
     ]
    },
    {
     "name": "stdout",
     "output_type": "stream",
     "text": [
      "\rReading Comp news 176560"
     ]
    },
    {
     "name": "stdout",
     "output_type": "stream",
     "text": [
      "\rReading Comp news 141020"
     ]
    },
    {
     "name": "stdout",
     "output_type": "stream",
     "text": [
      "\rReading Comp news 039230"
     ]
    },
    {
     "name": "stdout",
     "output_type": "stream",
     "text": [
      "\rReading Comp news 007630"
     ]
    },
    {
     "name": "stdout",
     "output_type": "stream",
     "text": [
      "\rReading Comp news 005670"
     ]
    },
    {
     "name": "stdout",
     "output_type": "stream",
     "text": [
      "\rReading Comp news 094940"
     ]
    },
    {
     "name": "stdout",
     "output_type": "stream",
     "text": [
      "\rReading Comp news 007330"
     ]
    },
    {
     "name": "stdout",
     "output_type": "stream",
     "text": [
      "\rReading Comp news 017810"
     ]
    },
    {
     "name": "stdout",
     "output_type": "stream",
     "text": [
      "\rReading Comp news 093380"
     ]
    },
    {
     "name": "stdout",
     "output_type": "stream",
     "text": [
      "\rReading Comp news 023900"
     ]
    },
    {
     "name": "stdout",
     "output_type": "stream",
     "text": [
      "\rReading Comp news 103140"
     ]
    },
    {
     "name": "stdout",
     "output_type": "stream",
     "text": [
      "\rReading Comp news 005810"
     ]
    },
    {
     "name": "stdout",
     "output_type": "stream",
     "text": [
      "\rReading Comp news 195440"
     ]
    },
    {
     "name": "stdout",
     "output_type": "stream",
     "text": [
      "\rReading Comp news 214270"
     ]
    },
    {
     "name": "stdout",
     "output_type": "stream",
     "text": [
      "\rReading Comp news 220100"
     ]
    },
    {
     "name": "stdout",
     "output_type": "stream",
     "text": [
      "\rReading Comp news 035200"
     ]
    },
    {
     "name": "stdout",
     "output_type": "stream",
     "text": [
      "\rReading Comp news 203690"
     ]
    },
    {
     "name": "stdout",
     "output_type": "stream",
     "text": [
      "\rReading Comp news 053610"
     ]
    },
    {
     "name": "stdout",
     "output_type": "stream",
     "text": [
      "\rReading Comp news 053160"
     ]
    },
    {
     "name": "stdout",
     "output_type": "stream",
     "text": [
      "\rReading Comp news 075130"
     ]
    },
    {
     "name": "stdout",
     "output_type": "stream",
     "text": [
      "\rReading Comp news 222670"
     ]
    },
    {
     "name": "stdout",
     "output_type": "stream",
     "text": [
      "\rReading Comp news 023770"
     ]
    },
    {
     "name": "stdout",
     "output_type": "stream",
     "text": [
      "\rReading Comp news 266870"
     ]
    },
    {
     "name": "stdout",
     "output_type": "stream",
     "text": [
      "\rReading Comp news 150440"
     ]
    },
    {
     "name": "stdout",
     "output_type": "stream",
     "text": [
      "\rReading Comp news 032580"
     ]
    },
    {
     "name": "stdout",
     "output_type": "stream",
     "text": [
      "\rReading Comp news 258250"
     ]
    },
    {
     "name": "stdout",
     "output_type": "stream",
     "text": [
      "\rReading Comp news 051380"
     ]
    },
    {
     "name": "stdout",
     "output_type": "stream",
     "text": [
      "\rReading Comp news 241820"
     ]
    },
    {
     "name": "stdout",
     "output_type": "stream",
     "text": [
      "\rReading Comp news 237750"
     ]
    },
    {
     "name": "stdout",
     "output_type": "stream",
     "text": [
      "\rReading Comp news 131390"
     ]
    },
    {
     "name": "stdout",
     "output_type": "stream",
     "text": [
      "\rReading Comp news 054340"
     ]
    },
    {
     "name": "stdout",
     "output_type": "stream",
     "text": [
      "\rReading Comp news 024850"
     ]
    },
    {
     "name": "stdout",
     "output_type": "stream",
     "text": [
      "\rReading Comp news 031980"
     ]
    },
    {
     "name": "stdout",
     "output_type": "stream",
     "text": [
      "\rReading Comp news 002230"
     ]
    },
    {
     "name": "stdout",
     "output_type": "stream",
     "text": [
      "\rReading Comp news 242350"
     ]
    },
    {
     "name": "stdout",
     "output_type": "stream",
     "text": [
      "\rReading Comp news 239890"
     ]
    },
    {
     "name": "stdout",
     "output_type": "stream",
     "text": [
      "\rReading Comp news 137400"
     ]
    },
    {
     "name": "stdout",
     "output_type": "stream",
     "text": [
      "\rReading Comp news 144740"
     ]
    },
    {
     "name": "stdout",
     "output_type": "stream",
     "text": [
      "\rReading Comp news 128660"
     ]
    },
    {
     "name": "stdout",
     "output_type": "stream",
     "text": [
      "\rReading Comp news 006140"
     ]
    },
    {
     "name": "stdout",
     "output_type": "stream",
     "text": [
      "\rReading Comp news 087600"
     ]
    },
    {
     "name": "stdout",
     "output_type": "stream",
     "text": [
      "\rReading Comp news 033180"
     ]
    },
    {
     "name": "stdout",
     "output_type": "stream",
     "text": [
      "\rReading Comp news 064800"
     ]
    },
    {
     "name": "stdout",
     "output_type": "stream",
     "text": [
      "\rReading Comp news 161580"
     ]
    },
    {
     "name": "stdout",
     "output_type": "stream",
     "text": [
      "\rReading Comp news 270520"
     ]
    },
    {
     "name": "stdout",
     "output_type": "stream",
     "text": [
      "\rReading Comp news 230240"
     ]
    },
    {
     "name": "stdout",
     "output_type": "stream",
     "text": [
      "\rReading Comp news 261200"
     ]
    },
    {
     "name": "stdout",
     "output_type": "stream",
     "text": [
      "\rReading Comp news 086790"
     ]
    },
    {
     "name": "stdout",
     "output_type": "stream",
     "text": [
      "\rReading Comp news 099340"
     ]
    },
    {
     "name": "stdout",
     "output_type": "stream",
     "text": [
      "\rReading Comp news 099350"
     ]
    },
    {
     "name": "stdout",
     "output_type": "stream",
     "text": [
      "\rReading Comp news 067310"
     ]
    },
    {
     "name": "stdout",
     "output_type": "stream",
     "text": [
      "\rReading Comp news 166090"
     ]
    },
    {
     "name": "stdout",
     "output_type": "stream",
     "text": [
      "\rReading Comp news 039130"
     ]
    },
    {
     "name": "stdout",
     "output_type": "stream",
     "text": [
      "\rReading Comp news 136480"
     ]
    },
    {
     "name": "stdout",
     "output_type": "stream",
     "text": [
      "\rReading Comp news 024660"
     ]
    },
    {
     "name": "stdout",
     "output_type": "stream",
     "text": [
      "\rReading Comp news 233990"
     ]
    },
    {
     "name": "stdout",
     "output_type": "stream",
     "text": [
      "\rReading Comp news 172580"
     ]
    },
    {
     "name": "stdout",
     "output_type": "stream",
     "text": [
      "\rReading Comp news 153360"
     ]
    },
    {
     "name": "stdout",
     "output_type": "stream",
     "text": [
      "\rReading Comp news 159650"
     ]
    },
    {
     "name": "stdout",
     "output_type": "stream",
     "text": [
      "\rReading Comp news 149980"
     ]
    },
    {
     "name": "stdout",
     "output_type": "stream",
     "text": [
      "\rReading Comp news 013030"
     ]
    },
    {
     "name": "stdout",
     "output_type": "stream",
     "text": [
      "\rReading Comp news 126700"
     ]
    },
    {
     "name": "stdout",
     "output_type": "stream",
     "text": [
      "\rReading Comp news 200470"
     ]
    },
    {
     "name": "stdout",
     "output_type": "stream",
     "text": [
      "\rReading Comp news 071090"
     ]
    },
    {
     "name": "stdout",
     "output_type": "stream",
     "text": [
      "\rReading Comp news 235010"
     ]
    },
    {
     "name": "stdout",
     "output_type": "stream",
     "text": [
      "\rReading Comp news 217500"
     ]
    },
    {
     "name": "stdout",
     "output_type": "stream",
     "text": [
      "\rReading Comp news 221840"
     ]
    },
    {
     "name": "stdout",
     "output_type": "stream",
     "text": [
      "\rReading Comp news 106190"
     ]
    },
    {
     "name": "stdout",
     "output_type": "stream",
     "text": [
      "\rReading Comp news 019490"
     ]
    },
    {
     "name": "stdout",
     "output_type": "stream",
     "text": [
      "\rReading Comp news 000080"
     ]
    },
    {
     "name": "stdout",
     "output_type": "stream",
     "text": [
      "\rReading Comp news 000087"
     ]
    },
    {
     "name": "stdout",
     "output_type": "stream",
     "text": [
      "\rReading Comp news 000140"
     ]
    },
    {
     "name": "stdout",
     "output_type": "stream",
     "text": [
      "\rReading Comp news 000145"
     ]
    },
    {
     "name": "stdout",
     "output_type": "stream",
     "text": [
      "\rReading Comp news 066130"
     ]
    },
    {
     "name": "stdout",
     "output_type": "stream",
     "text": [
      "\rReading Comp news 240540"
     ]
    },
    {
     "name": "stdout",
     "output_type": "stream",
     "text": [
      "\rReading Comp news 152550"
     ]
    },
    {
     "name": "stdout",
     "output_type": "stream",
     "text": [
      "\rReading Comp news 004590"
     ]
    },
    {
     "name": "stdout",
     "output_type": "stream",
     "text": [
      "\rReading Comp news 036460"
     ]
    },
    {
     "name": "stdout",
     "output_type": "stream",
     "text": [
      "\rReading Comp news 039340"
     ]
    },
    {
     "name": "stdout",
     "output_type": "stream",
     "text": [
      "\rReading Comp news 005430"
     ]
    },
    {
     "name": "stdout",
     "output_type": "stream",
     "text": [
      "\rReading Comp news 071050"
     ]
    },
    {
     "name": "stdout",
     "output_type": "stream",
     "text": [
      "\rReading Comp news 071055"
     ]
    },
    {
     "name": "stdout",
     "output_type": "stream",
     "text": [
      "\rReading Comp news 034950"
     ]
    },
    {
     "name": "stdout",
     "output_type": "stream",
     "text": [
      "\rReading Comp news 010040"
     ]
    },
    {
     "name": "stdout",
     "output_type": "stream",
     "text": [
      "\rReading Comp news 025540"
     ]
    },
    {
     "name": "stdout",
     "output_type": "stream",
     "text": [
      "\rReading Comp news 222980"
     ]
    },
    {
     "name": "stdout",
     "output_type": "stream",
     "text": [
      "\rReading Comp news 226610"
     ]
    },
    {
     "name": "stdout",
     "output_type": "stream",
     "text": [
      "\rReading Comp news 004090"
     ]
    },
    {
     "name": "stdout",
     "output_type": "stream",
     "text": [
      "\rReading Comp news 025550"
     ]
    },
    {
     "name": "stdout",
     "output_type": "stream",
     "text": [
      "\rReading Comp news 002960"
     ]
    },
    {
     "name": "stdout",
     "output_type": "stream",
     "text": [
      "\rReading Comp news 017890"
     ]
    },
    {
     "name": "stdout",
     "output_type": "stream",
     "text": [
      "\rReading Comp news 002000"
     ]
    },
    {
     "name": "stdout",
     "output_type": "stream",
     "text": [
      "\rReading Comp news 002005"
     ]
    },
    {
     "name": "stdout",
     "output_type": "stream",
     "text": [
      "\rReading Comp news 123890"
     ]
    },
    {
     "name": "stdout",
     "output_type": "stream",
     "text": [
      "\rReading Comp news 015760"
     ]
    },
    {
     "name": "stdout",
     "output_type": "stream",
     "text": [
      "\rReading Comp news 063570"
     ]
    },
    {
     "name": "stdout",
     "output_type": "stream",
     "text": [
      "\rReading Comp news 041460"
     ]
    },
    {
     "name": "stdout",
     "output_type": "stream",
     "text": [
      "\rReading Comp news 006200"
     ]
    },
    {
     "name": "stdout",
     "output_type": "stream",
     "text": [
      "\rReading Comp news 101680"
     ]
    },
    {
     "name": "stdout",
     "output_type": "stream",
     "text": [
      "\rReading Comp news 039740"
     ]
    },
    {
     "name": "stdout",
     "output_type": "stream",
     "text": [
      "\rReading Comp news 053300"
     ]
    },
    {
     "name": "stdout",
     "output_type": "stream",
     "text": [
      "\rReading Comp news 025770"
     ]
    },
    {
     "name": "stdout",
     "output_type": "stream",
     "text": [
      "\rReading Comp news 271740"
     ]
    },
    {
     "name": "stdout",
     "output_type": "stream",
     "text": [
      "\rReading Comp news 281410"
     ]
    },
    {
     "name": "stdout",
     "output_type": "stream",
     "text": [
      "\rReading Comp news 002300"
     ]
    },
    {
     "name": "stdout",
     "output_type": "stream",
     "text": [
      "\rReading Comp news 023350"
     ]
    },
    {
     "name": "stdout",
     "output_type": "stream",
     "text": [
      "\rReading Comp news 025890"
     ]
    },
    {
     "name": "stdout",
     "output_type": "stream",
     "text": [
      "\rReading Comp news 000970"
     ]
    },
    {
     "name": "stdout",
     "output_type": "stream",
     "text": [
      "\rReading Comp news 104700"
     ]
    },
    {
     "name": "stdout",
     "output_type": "stream",
     "text": [
      "\rReading Comp news 017960"
     ]
    },
    {
     "name": "stdout",
     "output_type": "stream",
     "text": [
      "\rReading Comp news 023760"
     ]
    },
    {
     "name": "stdout",
     "output_type": "stream",
     "text": [
      "\rReading Comp news 054040"
     ]
    },
    {
     "name": "stdout",
     "output_type": "stream",
     "text": [
      "\rReading Comp news 050540"
     ]
    },
    {
     "name": "stdout",
     "output_type": "stream",
     "text": [
      "\rReading Comp news 161890"
     ]
    },
    {
     "name": "stdout",
     "output_type": "stream",
     "text": [
      "\rReading Comp news 024720"
     ]
    },
    {
     "name": "stdout",
     "output_type": "stream",
     "text": [
      "\rReading Comp news 021650"
     ]
    },
    {
     "name": "stdout",
     "output_type": "stream",
     "text": [
      "\rReading Comp news 161390"
     ]
    },
    {
     "name": "stdout",
     "output_type": "stream",
     "text": [
      "\rReading Comp news 000240"
     ]
    },
    {
     "name": "stdout",
     "output_type": "stream",
     "text": [
      "\rReading Comp news 053590"
     ]
    },
    {
     "name": "stdout",
     "output_type": "stream",
     "text": [
      "\rReading Comp news 034830"
     ]
    },
    {
     "name": "stdout",
     "output_type": "stream",
     "text": [
      "\rReading Comp news 007280"
     ]
    },
    {
     "name": "stdout",
     "output_type": "stream",
     "text": [
      "\rReading Comp news 168490"
     ]
    },
    {
     "name": "stdout",
     "output_type": "stream",
     "text": [
      "\rReading Comp news 037230"
     ]
    },
    {
     "name": "stdout",
     "output_type": "stream",
     "text": [
      "\rReading Comp news 010100"
     ]
    },
    {
     "name": "stdout",
     "output_type": "stream",
     "text": [
      "\rReading Comp news 047810"
     ]
    },
    {
     "name": "stdout",
     "output_type": "stream",
     "text": [
      "\rReading Comp news 123690"
     ]
    },
    {
     "name": "stdout",
     "output_type": "stream",
     "text": [
      "\rReading Comp news 003350"
     ]
    },
    {
     "name": "stdout",
     "output_type": "stream",
     "text": [
      "\rReading Comp news 030520"
     ]
    },
    {
     "name": "stdout",
     "output_type": "stream",
     "text": [
      "\rReading Comp news 052600"
     ]
    },
    {
     "name": "stdout",
     "output_type": "stream",
     "text": [
      "\rReading Comp news 011500"
     ]
    },
    {
     "name": "stdout",
     "output_type": "stream",
     "text": [
      "\rReading Comp news 002390"
     ]
    },
    {
     "name": "stdout",
     "output_type": "stream",
     "text": [
      "\rReading Comp news 014790"
     ]
    },
    {
     "name": "stdout",
     "output_type": "stream",
     "text": [
      "\rReading Comp news 092460"
     ]
    },
    {
     "name": "stdout",
     "output_type": "stream",
     "text": [
      "\rReading Comp news 060980"
     ]
    },
    {
     "name": "stdout",
     "output_type": "stream",
     "text": [
      "\rReading Comp news 053690"
     ]
    },
    {
     "name": "stdout",
     "output_type": "stream",
     "text": [
      "\rReading Comp news 042700"
     ]
    },
    {
     "name": "stdout",
     "output_type": "stream",
     "text": [
      "\rReading Comp news 008930"
     ]
    },
    {
     "name": "stdout",
     "output_type": "stream",
     "text": [
      "\rReading Comp news 128940"
     ]
    },
    {
     "name": "stdout",
     "output_type": "stream",
     "text": [
      "\rReading Comp news 047080"
     ]
    },
    {
     "name": "stdout",
     "output_type": "stream",
     "text": [
      "\rReading Comp news 009240"
     ]
    },
    {
     "name": "stdout",
     "output_type": "stream",
     "text": [
      "\rReading Comp news 020000"
     ]
    },
    {
     "name": "stdout",
     "output_type": "stream",
     "text": [
      "\rReading Comp news 003680"
     ]
    },
    {
     "name": "stdout",
     "output_type": "stream",
     "text": [
      "\rReading Comp news 105630"
     ]
    },
    {
     "name": "stdout",
     "output_type": "stream",
     "text": [
      "\rReading Comp news 069640"
     ]
    },
    {
     "name": "stdout",
     "output_type": "stream",
     "text": [
      "\rReading Comp news 016450"
     ]
    },
    {
     "name": "stdout",
     "output_type": "stream",
     "text": [
      "\rReading Comp news 010420"
     ]
    },
    {
     "name": "stdout",
     "output_type": "stream",
     "text": [
      "\rReading Comp news 009180"
     ]
    },
    {
     "name": "stdout",
     "output_type": "stream",
     "text": [
      "\rReading Comp news 070300"
     ]
    },
    {
     "name": "stdout",
     "output_type": "stream",
     "text": [
      "\rReading Comp news 099660"
     ]
    },
    {
     "name": "stdout",
     "output_type": "stream",
     "text": [
      "\rReading Comp news 221610"
     ]
    },
    {
     "name": "stdout",
     "output_type": "stream",
     "text": [
      "\rReading Comp news 070590"
     ]
    },
    {
     "name": "stdout",
     "output_type": "stream",
     "text": [
      "\rReading Comp news 213500"
     ]
    },
    {
     "name": "stdout",
     "output_type": "stream",
     "text": [
      "\rReading Comp news 014680"
     ]
    },
    {
     "name": "stdout",
     "output_type": "stream",
     "text": [
      "\rReading Comp news 004710"
     ]
    },
    {
     "name": "stdout",
     "output_type": "stream",
     "text": [
      "\rReading Comp news 004150"
     ]
    },
    {
     "name": "stdout",
     "output_type": "stream",
     "text": [
      "\rReading Comp news 025750"
     ]
    },
    {
     "name": "stdout",
     "output_type": "stream",
     "text": [
      "\rReading Comp news 042520"
     ]
    },
    {
     "name": "stdout",
     "output_type": "stream",
     "text": [
      "\rReading Comp news 004960"
     ]
    },
    {
     "name": "stdout",
     "output_type": "stream",
     "text": [
      "\rReading Comp news 011700"
     ]
    },
    {
     "name": "stdout",
     "output_type": "stream",
     "text": [
      "\rReading Comp news 078350"
     ]
    },
    {
     "name": "stdout",
     "output_type": "stream",
     "text": [
      "\rReading Comp news 045100"
     ]
    },
    {
     "name": "stdout",
     "output_type": "stream",
     "text": [
      "\rReading Comp news 001750"
     ]
    },
    {
     "name": "stdout",
     "output_type": "stream",
     "text": [
      "\rReading Comp news 001755"
     ]
    },
    {
     "name": "stdout",
     "output_type": "stream",
     "text": [
      "\rReading Comp news 018880"
     ]
    },
    {
     "name": "stdout",
     "output_type": "stream",
     "text": [
      "\rReading Comp news 009420"
     ]
    },
    {
     "name": "stdout",
     "output_type": "stream",
     "text": [
      "\rReading Comp news 014130"
     ]
    },
    {
     "name": "stdout",
     "output_type": "stream",
     "text": [
      "\rReading Comp news 046110"
     ]
    },
    {
     "name": "stdout",
     "output_type": "stream",
     "text": [
      "\rReading Comp news 024740"
     ]
    },
    {
     "name": "stdout",
     "output_type": "stream",
     "text": [
      "\rReading Comp news 005860"
     ]
    },
    {
     "name": "stdout",
     "output_type": "stream",
     "text": [
      "\rReading Comp news 003300"
     ]
    },
    {
     "name": "stdout",
     "output_type": "stream",
     "text": [
      "\rReading Comp news 123840"
     ]
    },
    {
     "name": "stdout",
     "output_type": "stream",
     "text": [
      "\rReading Comp news 002220"
     ]
    },
    {
     "name": "stdout",
     "output_type": "stream",
     "text": [
      "\rReading Comp news 007770"
     ]
    },
    {
     "name": "stdout",
     "output_type": "stream",
     "text": [
      "\rReading Comp news 051600"
     ]
    },
    {
     "name": "stdout",
     "output_type": "stream",
     "text": [
      "\rReading Comp news 052690"
     ]
    },
    {
     "name": "stdout",
     "output_type": "stream",
     "text": [
      "\rReading Comp news 130660"
     ]
    },
    {
     "name": "stdout",
     "output_type": "stream",
     "text": [
      "\rReading Comp news 107640"
     ]
    },
    {
     "name": "stdout",
     "output_type": "stream",
     "text": [
      "\rReading Comp news 002320"
     ]
    },
    {
     "name": "stdout",
     "output_type": "stream",
     "text": [
      "\rReading Comp news 097230"
     ]
    },
    {
     "name": "stdout",
     "output_type": "stream",
     "text": [
      "\rReading Comp news 003480"
     ]
    },
    {
     "name": "stdout",
     "output_type": "stream",
     "text": [
      "\rReading Comp news 180640"
     ]
    },
    {
     "name": "stdout",
     "output_type": "stream",
     "text": [
      "\rReading Comp news 18064K"
     ]
    },
    {
     "name": "stdout",
     "output_type": "stream",
     "text": [
      "\rReading Comp news 005110"
     ]
    },
    {
     "name": "stdout",
     "output_type": "stream",
     "text": [
      "\rReading Comp news 079170"
     ]
    },
    {
     "name": "stdout",
     "output_type": "stream",
     "text": [
      "\rReading Comp news 009460"
     ]
    },
    {
     "name": "stdout",
     "output_type": "stream",
     "text": [
      "\rReading Comp news 086960"
     ]
    },
    {
     "name": "stdout",
     "output_type": "stream",
     "text": [
      "\rReading Comp news 054920"
     ]
    },
    {
     "name": "stdout",
     "output_type": "stream",
     "text": [
      "\rReading Comp news 215090"
     ]
    },
    {
     "name": "stdout",
     "output_type": "stream",
     "text": [
      "\rReading Comp news 077280"
     ]
    },
    {
     "name": "stdout",
     "output_type": "stream",
     "text": [
      "\rReading Comp news 002680"
     ]
    },
    {
     "name": "stdout",
     "output_type": "stream",
     "text": [
      "\rReading Comp news 066110"
     ]
    },
    {
     "name": "stdout",
     "output_type": "stream",
     "text": [
      "\rReading Comp news 000880"
     ]
    },
    {
     "name": "stdout",
     "output_type": "stream",
     "text": [
      "\rReading Comp news 00088K"
     ]
    },
    {
     "name": "stdout",
     "output_type": "stream",
     "text": [
      "\rReading Comp news 027390"
     ]
    },
    {
     "name": "stdout",
     "output_type": "stream",
     "text": [
      "\rReading Comp news 088350"
     ]
    },
    {
     "name": "stdout",
     "output_type": "stream",
     "text": [
      "\rReading Comp news 000370"
     ]
    },
    {
     "name": "stdout",
     "output_type": "stream",
     "text": [
      "\rReading Comp news 265920"
     ]
    },
    {
     "name": "stdout",
     "output_type": "stream",
     "text": [
      "\rReading Comp news 012450"
     ]
    },
    {
     "name": "stdout",
     "output_type": "stream",
     "text": [
      "\rReading Comp news 264290"
     ]
    },
    {
     "name": "stdout",
     "output_type": "stream",
     "text": [
      "\rReading Comp news 279410"
     ]
    },
    {
     "name": "stdout",
     "output_type": "stream",
     "text": [
      "\rReading Comp news 000885"
     ]
    },
    {
     "name": "stdout",
     "output_type": "stream",
     "text": [
      "\rReading Comp news 009830"
     ]
    },
    {
     "name": "stdout",
     "output_type": "stream",
     "text": [
      "\rReading Comp news 009835"
     ]
    },
    {
     "name": "stdout",
     "output_type": "stream",
     "text": [
      "\rReading Comp news 003530"
     ]
    },
    {
     "name": "stdout",
     "output_type": "stream",
     "text": [
      "\rReading Comp news 003535"
     ]
    },
    {
     "name": "stdout",
     "output_type": "stream",
     "text": [
      "\rReading Comp news 102210"
     ]
    },
    {
     "name": "stdout",
     "output_type": "stream",
     "text": [
      "\rReading Comp news 220630"
     ]
    },
    {
     "name": "stdout",
     "output_type": "stream",
     "text": [
      "\rReading Comp news 195870"
     ]
    },
    {
     "name": "stdout",
     "output_type": "stream",
     "text": [
      "\rReading Comp news 034810"
     ]
    },
    {
     "name": "stdout",
     "output_type": "stream",
     "text": [
      "\rReading Comp news 076610"
     ]
    },
    {
     "name": "stdout",
     "output_type": "stream",
     "text": [
      "\rReading Comp news 101530"
     ]
    },
    {
     "name": "stdout",
     "output_type": "stream",
     "text": [
      "\rReading Comp news 220180"
     ]
    },
    {
     "name": "stdout",
     "output_type": "stream",
     "text": [
      "\rReading Comp news 143210"
     ]
    },
    {
     "name": "stdout",
     "output_type": "stream",
     "text": [
      "\rReading Comp news 008800"
     ]
    },
    {
     "name": "stdout",
     "output_type": "stream",
     "text": [
      "\rReading Comp news 900270"
     ]
    },
    {
     "name": "stdout",
     "output_type": "stream",
     "text": [
      "\rReading Comp news 000720"
     ]
    },
    {
     "name": "stdout",
     "output_type": "stream",
     "text": [
      "\rReading Comp news 267270"
     ]
    },
    {
     "name": "stdout",
     "output_type": "stream",
     "text": [
      "\rReading Comp news 000725"
     ]
    },
    {
     "name": "stdout",
     "output_type": "stream",
     "text": [
      "\rReading Comp news 170030"
     ]
    },
    {
     "name": "stdout",
     "output_type": "stream",
     "text": [
      "\rReading Comp news 005440"
     ]
    },
    {
     "name": "stdout",
     "output_type": "stream",
     "text": [
      "\rReading Comp news 086280"
     ]
    },
    {
     "name": "stdout",
     "output_type": "stream",
     "text": [
      "\rReading Comp news 064350"
     ]
    },
    {
     "name": "stdout",
     "output_type": "stream",
     "text": [
      "\rReading Comp news 079430"
     ]
    },
    {
     "name": "stdout",
     "output_type": "stream",
     "text": [
      "\rReading Comp news 012330"
     ]
    },
    {
     "name": "stdout",
     "output_type": "stream",
     "text": [
      "\rReading Comp news 010620"
     ]
    },
    {
     "name": "stdout",
     "output_type": "stream",
     "text": [
      "\rReading Comp news 069960"
     ]
    },
    {
     "name": "stdout",
     "output_type": "stream",
     "text": [
      "\rReading Comp news 004560"
     ]
    },
    {
     "name": "stdout",
     "output_type": "stream",
     "text": [
      "\rReading Comp news 004565"
     ]
    },
    {
     "name": "stdout",
     "output_type": "stream",
     "text": [
      "\rReading Comp news 012630"
     ]
    },
    {
     "name": "stdout",
     "output_type": "stream",
     "text": [
      "\rReading Comp news 011760"
     ]
    },
    {
     "name": "stdout",
     "output_type": "stream",
     "text": [
      "\rReading Comp news 011200"
     ]
    },
    {
     "name": "stdout",
     "output_type": "stream",
     "text": [
      "\rReading Comp news 006390"
     ]
    },
    {
     "name": "stdout",
     "output_type": "stream",
     "text": [
      "\rReading Comp news 048410"
     ]
    },
    {
     "name": "stdout",
     "output_type": "stream",
     "text": [
      "\rReading Comp news 004310"
     ]
    },
    {
     "name": "stdout",
     "output_type": "stream",
     "text": [
      "\rReading Comp news 126560"
     ]
    },
    {
     "name": "stdout",
     "output_type": "stream",
     "text": [
      "\rReading Comp news 017800"
     ]
    },
    {
     "name": "stdout",
     "output_type": "stream",
     "text": [
      "\rReading Comp news 011210"
     ]
    },
    {
     "name": "stdout",
     "output_type": "stream",
     "text": [
      "\rReading Comp news 267260"
     ]
    },
    {
     "name": "stdout",
     "output_type": "stream",
     "text": [
      "\rReading Comp news 026180"
     ]
    },
    {
     "name": "stdout",
     "output_type": "stream",
     "text": [
      "\rReading Comp news 004020"
     ]
    },
    {
     "name": "stdout",
     "output_type": "stream",
     "text": [
      "\rReading Comp news 009540"
     ]
    },
    {
     "name": "stdout",
     "output_type": "stream",
     "text": [
      "\rReading Comp news 267250"
     ]
    },
    {
     "name": "stdout",
     "output_type": "stream",
     "text": [
      "\rReading Comp news 005380"
     ]
    },
    {
     "name": "stdout",
     "output_type": "stream",
     "text": [
      "\rReading Comp news 005387"
     ]
    },
    {
     "name": "stdout",
     "output_type": "stream",
     "text": [
      "\rReading Comp news 005389"
     ]
    },
    {
     "name": "stdout",
     "output_type": "stream",
     "text": [
      "\rReading Comp news 005385"
     ]
    },
    {
     "name": "stdout",
     "output_type": "stream",
     "text": [
      "\rReading Comp news 001500"
     ]
    },
    {
     "name": "stdout",
     "output_type": "stream",
     "text": [
      "\rReading Comp news 227840"
     ]
    },
    {
     "name": "stdout",
     "output_type": "stream",
     "text": [
      "\rReading Comp news 039010"
     ]
    },
    {
     "name": "stdout",
     "output_type": "stream",
     "text": [
      "\rReading Comp news 001450"
     ]
    },
    {
     "name": "stdout",
     "output_type": "stream",
     "text": [
      "\rReading Comp news 057050"
     ]
    },
    {
     "name": "stdout",
     "output_type": "stream",
     "text": [
      "\rReading Comp news 204990"
     ]
    },
    {
     "name": "stdout",
     "output_type": "stream",
     "text": [
      "\rReading Comp news 092300"
     ]
    },
    {
     "name": "stdout",
     "output_type": "stream",
     "text": [
      "\rReading Comp news 053660"
     ]
    },
    {
     "name": "stdout",
     "output_type": "stream",
     "text": [
      "\rReading Comp news 011080"
     ]
    },
    {
     "name": "stdout",
     "output_type": "stream",
     "text": [
      "\rReading Comp news 093240"
     ]
    },
    {
     "name": "stdout",
     "output_type": "stream",
     "text": [
      "\rReading Comp news 003010"
     ]
    },
    {
     "name": "stdout",
     "output_type": "stream",
     "text": [
      "\rReading Comp news 111110"
     ]
    },
    {
     "name": "stdout",
     "output_type": "stream",
     "text": [
      "\rReading Comp news 008770"
     ]
    },
    {
     "name": "stdout",
     "output_type": "stream",
     "text": [
      "\rReading Comp news 008775"
     ]
    },
    {
     "name": "stdout",
     "output_type": "stream",
     "text": [
      "\rReading Comp news 060560"
     ]
    },
    {
     "name": "stdout",
     "output_type": "stream",
     "text": [
      "\rReading Comp news 064240"
     ]
    },
    {
     "name": "stdout",
     "output_type": "stream",
     "text": [
      "\rReading Comp news 039610"
     ]
    },
    {
     "name": "stdout",
     "output_type": "stream",
     "text": [
      "\rReading Comp news 002460"
     ]
    },
    {
     "name": "stdout",
     "output_type": "stream",
     "text": [
      "\rReading Comp news 013520"
     ]
    },
    {
     "name": "stdout",
     "output_type": "stream",
     "text": [
      "\rReading Comp news 241590"
     ]
    },
    {
     "name": "stdout",
     "output_type": "stream",
     "text": [
      "\rReading Comp news 006060"
     ]
    },
    {
     "name": "stdout",
     "output_type": "stream",
     "text": [
      "\rReading Comp news 010690"
     ]
    },
    {
     "name": "stdout",
     "output_type": "stream",
     "text": [
      "\rReading Comp news 126640"
     ]
    },
    {
     "name": "stdout",
     "output_type": "stream",
     "text": [
      "\rReading Comp news 086250"
     ]
    },
    {
     "name": "stdout",
     "output_type": "stream",
     "text": [
      "\rReading Comp news 204630"
     ]
    },
    {
     "name": "stdout",
     "output_type": "stream",
     "text": [
      "\rReading Comp news 133820"
     ]
    },
    {
     "name": "stdout",
     "output_type": "stream",
     "text": [
      "\rReading Comp news 061250"
     ]
    },
    {
     "name": "stdout",
     "output_type": "stream",
     "text": [
      "\rReading Comp news 134780"
     ]
    },
    {
     "name": "stdout",
     "output_type": "stream",
     "text": [
      "\rReading Comp news 010660"
     ]
    },
    {
     "name": "stdout",
     "output_type": "stream",
     "text": [
      "\rReading Comp news 000850"
     ]
    },
    {
     "name": "stdout",
     "output_type": "stream",
     "text": [
      "\rReading Comp news 016580"
     ]
    },
    {
     "name": "stdout",
     "output_type": "stream",
     "text": [
      "\rReading Comp news 032560"
     ]
    },
    {
     "name": "stdout",
     "output_type": "stream",
     "text": [
      "\rReading Comp news 004800"
     ]
    },
    {
     "name": "stdout",
     "output_type": "stream",
     "text": [
      "\rReading Comp news 094280"
     ]
    },
    {
     "name": "stdout",
     "output_type": "stream",
     "text": [
      "\rReading Comp news 097870"
     ]
    },
    {
     "name": "stdout",
     "output_type": "stream",
     "text": [
      "\rReading Comp news 093370"
     ]
    },
    {
     "name": "stdout",
     "output_type": "stream",
     "text": [
      "\rReading Comp news 050090"
     ]
    },
    {
     "name": "stdout",
     "output_type": "stream",
     "text": [
      "\rReading Comp news 081660"
     ]
    },
    {
     "name": "stdout",
     "output_type": "stream",
     "text": [
      "\rReading Comp news 005870"
     ]
    },
    {
     "name": "stdout",
     "output_type": "stream",
     "text": [
      "\rReading Comp news 284420"
     ]
    },
    {
     "name": "stdout",
     "output_type": "stream",
     "text": [
      "\rReading Comp news 205470"
     ]
    },
    {
     "name": "stdout",
     "output_type": "stream",
     "text": [
      "\rReading Comp news 115160"
     ]
    },
    {
     "name": "stdout",
     "output_type": "stream",
     "text": [
      "\rReading Comp news 028080"
     ]
    },
    {
     "name": "stdout",
     "output_type": "stream",
     "text": [
      "\rReading Comp news 200670"
     ]
    },
    {
     "name": "stdout",
     "output_type": "stream",
     "text": [
      "\rReading Comp news 212310"
     ]
    },
    {
     "name": "stdout",
     "output_type": "stream",
     "text": [
      "\rReading Comp news 079980"
     ]
    },
    {
     "name": "stdout",
     "output_type": "stream",
     "text": [
      "\rReading Comp news 065510"
     ]
    },
    {
     "name": "stdout",
     "output_type": "stream",
     "text": [
      "\rReading Comp news 005010"
     ]
    },
    {
     "name": "stdout",
     "output_type": "stream",
     "text": [
      "\rReading Comp news 243070"
     ]
    },
    {
     "name": "stdout",
     "output_type": "stream",
     "text": [
      "\rReading Comp news 084110"
     ]
    },
    {
     "name": "stdout",
     "output_type": "stream",
     "text": [
      "\rReading Comp news 145020"
     ]
    },
    {
     "name": "stdout",
     "output_type": "stream",
     "text": [
      "\rReading Comp news 069260"
     ]
    },
    {
     "name": "stdout",
     "output_type": "stream",
     "text": [
      "\rReading Comp news 024060"
     ]
    },
    {
     "name": "stdout",
     "output_type": "stream",
     "text": [
      "\rReading Comp news 010240"
     ]
    },
    {
     "name": "stdout",
     "output_type": "stream",
     "text": [
      "\rReading Comp news 189980"
     ]
    },
    {
     "name": "stdout",
     "output_type": "stream",
     "text": [
      "\rReading Comp news 000540"
     ]
    },
    {
     "name": "stdout",
     "output_type": "stream",
     "text": [
      "\rReading Comp news 000547"
     ]
    },
    {
     "name": "stdout",
     "output_type": "stream",
     "text": [
      "\rReading Comp news 000545"
     ]
    },
    {
     "name": "stdout",
     "output_type": "stream",
     "text": [
      "\rReading Comp news 003280"
     ]
    },
    {
     "name": "stdout",
     "output_type": "stream",
     "text": [
      "\rReading Comp news 037440"
     ]
    },
    {
     "name": "stdout",
     "output_type": "stream",
     "text": [
      "\rReading Comp news 238490"
     ]
    }
   ],
   "source": [
    "import sys\n",
    "\n",
    "from Api.NewsDataService import NewsDataService\n",
    "\n",
    "compByNewsCount = []\n",
    "for compCode in allCompList:\n",
    "    newsList = NewsDataService().FetchCompNews(compCode)\n",
    "    sys.stdout.write(\"\\rReading Comp news %s\" % str(compCode))\n",
    "    sys.stdout.flush()\n",
    "    compByNewsCount.append([compCode, len(newsList)])\n",
    "    \n"
   ]
  },
  {
   "cell_type": "code",
   "execution_count": 4,
   "metadata": {
    "collapsed": false
   },
   "outputs": [
    {
     "data": {
      "text/html": [
       "<div>\n",
       "<style scoped>\n",
       "    .dataframe tbody tr th:only-of-type {\n",
       "        vertical-align: middle;\n",
       "    }\n",
       "\n",
       "    .dataframe tbody tr th {\n",
       "        vertical-align: top;\n",
       "    }\n",
       "\n",
       "    .dataframe thead th {\n",
       "        text-align: right;\n",
       "    }\n",
       "</style>\n",
       "<table border=\"1\" class=\"dataframe\">\n",
       "  <thead>\n",
       "    <tr style=\"text-align: right;\">\n",
       "      <th></th>\n",
       "      <th>0</th>\n",
       "      <th>1</th>\n",
       "    </tr>\n",
       "  </thead>\n",
       "  <tbody>\n",
       "    <tr>\n",
       "      <th>0</th>\n",
       "      <td>060310</td>\n",
       "      <td>65</td>\n",
       "    </tr>\n",
       "    <tr>\n",
       "      <th>1</th>\n",
       "      <td>095570</td>\n",
       "      <td>29</td>\n",
       "    </tr>\n",
       "    <tr>\n",
       "      <th>2</th>\n",
       "      <td>068400</td>\n",
       "      <td>75</td>\n",
       "    </tr>\n",
       "    <tr>\n",
       "      <th>3</th>\n",
       "      <td>006840</td>\n",
       "      <td>60</td>\n",
       "    </tr>\n",
       "    <tr>\n",
       "      <th>4</th>\n",
       "      <td>054620</td>\n",
       "      <td>28</td>\n",
       "    </tr>\n",
       "    <tr>\n",
       "      <th>5</th>\n",
       "      <td>265520</td>\n",
       "      <td>95</td>\n",
       "    </tr>\n",
       "    <tr>\n",
       "      <th>6</th>\n",
       "      <td>211270</td>\n",
       "      <td>4</td>\n",
       "    </tr>\n",
       "    <tr>\n",
       "      <th>7</th>\n",
       "      <td>027410</td>\n",
       "      <td>209</td>\n",
       "    </tr>\n",
       "    <tr>\n",
       "      <th>8</th>\n",
       "      <td>282330</td>\n",
       "      <td>104</td>\n",
       "    </tr>\n",
       "    <tr>\n",
       "      <th>9</th>\n",
       "      <td>138930</td>\n",
       "      <td>199</td>\n",
       "    </tr>\n",
       "    <tr>\n",
       "      <th>10</th>\n",
       "      <td>001460</td>\n",
       "      <td>15</td>\n",
       "    </tr>\n",
       "    <tr>\n",
       "      <th>11</th>\n",
       "      <td>001465</td>\n",
       "      <td>0</td>\n",
       "    </tr>\n",
       "    <tr>\n",
       "      <th>12</th>\n",
       "      <td>032040</td>\n",
       "      <td>23</td>\n",
       "    </tr>\n",
       "    <tr>\n",
       "      <th>13</th>\n",
       "      <td>001040</td>\n",
       "      <td>1759</td>\n",
       "    </tr>\n",
       "    <tr>\n",
       "      <th>14</th>\n",
       "      <td>079160</td>\n",
       "      <td>96</td>\n",
       "    </tr>\n",
       "    <tr>\n",
       "      <th>15</th>\n",
       "      <td>130960</td>\n",
       "      <td>469</td>\n",
       "    </tr>\n",
       "    <tr>\n",
       "      <th>16</th>\n",
       "      <td>000120</td>\n",
       "      <td>209</td>\n",
       "    </tr>\n",
       "    <tr>\n",
       "      <th>17</th>\n",
       "      <td>011150</td>\n",
       "      <td>8</td>\n",
       "    </tr>\n",
       "    <tr>\n",
       "      <th>18</th>\n",
       "      <td>011155</td>\n",
       "      <td>0</td>\n",
       "    </tr>\n",
       "    <tr>\n",
       "      <th>19</th>\n",
       "      <td>035760</td>\n",
       "      <td>242</td>\n",
       "    </tr>\n",
       "    <tr>\n",
       "      <th>20</th>\n",
       "      <td>001045</td>\n",
       "      <td>0</td>\n",
       "    </tr>\n",
       "    <tr>\n",
       "      <th>21</th>\n",
       "      <td>097950</td>\n",
       "      <td>276</td>\n",
       "    </tr>\n",
       "    <tr>\n",
       "      <th>22</th>\n",
       "      <td>097955</td>\n",
       "      <td>0</td>\n",
       "    </tr>\n",
       "    <tr>\n",
       "      <th>23</th>\n",
       "      <td>051500</td>\n",
       "      <td>34</td>\n",
       "    </tr>\n",
       "    <tr>\n",
       "      <th>24</th>\n",
       "      <td>037560</td>\n",
       "      <td>75</td>\n",
       "    </tr>\n",
       "    <tr>\n",
       "      <th>25</th>\n",
       "      <td>058820</td>\n",
       "      <td>299</td>\n",
       "    </tr>\n",
       "    <tr>\n",
       "      <th>26</th>\n",
       "      <td>023460</td>\n",
       "      <td>25</td>\n",
       "    </tr>\n",
       "    <tr>\n",
       "      <th>27</th>\n",
       "      <td>065770</td>\n",
       "      <td>888</td>\n",
       "    </tr>\n",
       "    <tr>\n",
       "      <th>28</th>\n",
       "      <td>083660</td>\n",
       "      <td>72</td>\n",
       "    </tr>\n",
       "    <tr>\n",
       "      <th>29</th>\n",
       "      <td>000590</td>\n",
       "      <td>6</td>\n",
       "    </tr>\n",
       "    <tr>\n",
       "      <th>...</th>\n",
       "      <td>...</td>\n",
       "      <td>...</td>\n",
       "    </tr>\n",
       "    <tr>\n",
       "      <th>2281</th>\n",
       "      <td>032560</td>\n",
       "      <td>23</td>\n",
       "    </tr>\n",
       "    <tr>\n",
       "      <th>2282</th>\n",
       "      <td>004800</td>\n",
       "      <td>1123</td>\n",
       "    </tr>\n",
       "    <tr>\n",
       "      <th>2283</th>\n",
       "      <td>094280</td>\n",
       "      <td>6</td>\n",
       "    </tr>\n",
       "    <tr>\n",
       "      <th>2284</th>\n",
       "      <td>097870</td>\n",
       "      <td>13</td>\n",
       "    </tr>\n",
       "    <tr>\n",
       "      <th>2285</th>\n",
       "      <td>093370</td>\n",
       "      <td>68</td>\n",
       "    </tr>\n",
       "    <tr>\n",
       "      <th>2286</th>\n",
       "      <td>050090</td>\n",
       "      <td>10</td>\n",
       "    </tr>\n",
       "    <tr>\n",
       "      <th>2287</th>\n",
       "      <td>081660</td>\n",
       "      <td>202</td>\n",
       "    </tr>\n",
       "    <tr>\n",
       "      <th>2288</th>\n",
       "      <td>005870</td>\n",
       "      <td>17</td>\n",
       "    </tr>\n",
       "    <tr>\n",
       "      <th>2289</th>\n",
       "      <td>284420</td>\n",
       "      <td>2</td>\n",
       "    </tr>\n",
       "    <tr>\n",
       "      <th>2290</th>\n",
       "      <td>205470</td>\n",
       "      <td>5</td>\n",
       "    </tr>\n",
       "    <tr>\n",
       "      <th>2291</th>\n",
       "      <td>115160</td>\n",
       "      <td>17</td>\n",
       "    </tr>\n",
       "    <tr>\n",
       "      <th>2292</th>\n",
       "      <td>028080</td>\n",
       "      <td>3</td>\n",
       "    </tr>\n",
       "    <tr>\n",
       "      <th>2293</th>\n",
       "      <td>200670</td>\n",
       "      <td>60</td>\n",
       "    </tr>\n",
       "    <tr>\n",
       "      <th>2294</th>\n",
       "      <td>212310</td>\n",
       "      <td>0</td>\n",
       "    </tr>\n",
       "    <tr>\n",
       "      <th>2295</th>\n",
       "      <td>079980</td>\n",
       "      <td>21</td>\n",
       "    </tr>\n",
       "    <tr>\n",
       "      <th>2296</th>\n",
       "      <td>065510</td>\n",
       "      <td>4</td>\n",
       "    </tr>\n",
       "    <tr>\n",
       "      <th>2297</th>\n",
       "      <td>005010</td>\n",
       "      <td>54</td>\n",
       "    </tr>\n",
       "    <tr>\n",
       "      <th>2298</th>\n",
       "      <td>243070</td>\n",
       "      <td>182</td>\n",
       "    </tr>\n",
       "    <tr>\n",
       "      <th>2299</th>\n",
       "      <td>084110</td>\n",
       "      <td>77</td>\n",
       "    </tr>\n",
       "    <tr>\n",
       "      <th>2300</th>\n",
       "      <td>145020</td>\n",
       "      <td>309</td>\n",
       "    </tr>\n",
       "    <tr>\n",
       "      <th>2301</th>\n",
       "      <td>069260</td>\n",
       "      <td>10</td>\n",
       "    </tr>\n",
       "    <tr>\n",
       "      <th>2302</th>\n",
       "      <td>024060</td>\n",
       "      <td>2</td>\n",
       "    </tr>\n",
       "    <tr>\n",
       "      <th>2303</th>\n",
       "      <td>010240</td>\n",
       "      <td>502</td>\n",
       "    </tr>\n",
       "    <tr>\n",
       "      <th>2304</th>\n",
       "      <td>189980</td>\n",
       "      <td>3</td>\n",
       "    </tr>\n",
       "    <tr>\n",
       "      <th>2305</th>\n",
       "      <td>000540</td>\n",
       "      <td>36</td>\n",
       "    </tr>\n",
       "    <tr>\n",
       "      <th>2306</th>\n",
       "      <td>000547</td>\n",
       "      <td>0</td>\n",
       "    </tr>\n",
       "    <tr>\n",
       "      <th>2307</th>\n",
       "      <td>000545</td>\n",
       "      <td>1</td>\n",
       "    </tr>\n",
       "    <tr>\n",
       "      <th>2308</th>\n",
       "      <td>003280</td>\n",
       "      <td>274</td>\n",
       "    </tr>\n",
       "    <tr>\n",
       "      <th>2309</th>\n",
       "      <td>037440</td>\n",
       "      <td>8</td>\n",
       "    </tr>\n",
       "    <tr>\n",
       "      <th>2310</th>\n",
       "      <td>238490</td>\n",
       "      <td>11</td>\n",
       "    </tr>\n",
       "  </tbody>\n",
       "</table>\n",
       "<p>2311 rows × 2 columns</p>\n",
       "</div>"
      ],
      "text/plain": [
       "<div>\n",
       "<style scoped>\n",
       "    .dataframe tbody tr th:only-of-type {\n",
       "        vertical-align: middle;\n",
       "    }\n",
       "\n",
       "    .dataframe tbody tr th {\n",
       "        vertical-align: top;\n",
       "    }\n",
       "\n",
       "    .dataframe thead th {\n",
       "        text-align: right;\n",
       "    }\n",
       "</style>\n",
       "<table border=\"1\" class=\"dataframe\">\n",
       "  <thead>\n",
       "    <tr style=\"text-align: right;\">\n",
       "      <th></th>\n",
       "      <th>0</th>\n",
       "      <th>1</th>\n",
       "    </tr>\n",
       "  </thead>\n",
       "  <tbody>\n",
       "    <tr>\n",
       "      <th>0</th>\n",
       "      <td>060310</td>\n",
       "      <td>65</td>\n",
       "    </tr>\n",
       "    <tr>\n",
       "      <th>1</th>\n",
       "      <td>095570</td>\n",
       "      <td>29</td>\n",
       "    </tr>\n",
       "    <tr>\n",
       "      <th>2</th>\n",
       "      <td>068400</td>\n",
       "      <td>75</td>\n",
       "    </tr>\n",
       "    <tr>\n",
       "      <th>3</th>\n",
       "      <td>006840</td>\n",
       "      <td>60</td>\n",
       "    </tr>\n",
       "    <tr>\n",
       "      <th>4</th>\n",
       "      <td>054620</td>\n",
       "      <td>28</td>\n",
       "    </tr>\n",
       "    <tr>\n",
       "      <th>5</th>\n",
       "      <td>265520</td>\n",
       "      <td>95</td>\n",
       "    </tr>\n",
       "    <tr>\n",
       "      <th>6</th>\n",
       "      <td>211270</td>\n",
       "      <td>4</td>\n",
       "    </tr>\n",
       "    <tr>\n",
       "      <th>7</th>\n",
       "      <td>027410</td>\n",
       "      <td>209</td>\n",
       "    </tr>\n",
       "    <tr>\n",
       "      <th>8</th>\n",
       "      <td>282330</td>\n",
       "      <td>104</td>\n",
       "    </tr>\n",
       "    <tr>\n",
       "      <th>9</th>\n",
       "      <td>138930</td>\n",
       "      <td>199</td>\n",
       "    </tr>\n",
       "    <tr>\n",
       "      <th>10</th>\n",
       "      <td>001460</td>\n",
       "      <td>15</td>\n",
       "    </tr>\n",
       "    <tr>\n",
       "      <th>11</th>\n",
       "      <td>001465</td>\n",
       "      <td>0</td>\n",
       "    </tr>\n",
       "    <tr>\n",
       "      <th>12</th>\n",
       "      <td>032040</td>\n",
       "      <td>23</td>\n",
       "    </tr>\n",
       "    <tr>\n",
       "      <th>13</th>\n",
       "      <td>001040</td>\n",
       "      <td>1759</td>\n",
       "    </tr>\n",
       "    <tr>\n",
       "      <th>14</th>\n",
       "      <td>079160</td>\n",
       "      <td>96</td>\n",
       "    </tr>\n",
       "    <tr>\n",
       "      <th>15</th>\n",
       "      <td>130960</td>\n",
       "      <td>469</td>\n",
       "    </tr>\n",
       "    <tr>\n",
       "      <th>16</th>\n",
       "      <td>000120</td>\n",
       "      <td>209</td>\n",
       "    </tr>\n",
       "    <tr>\n",
       "      <th>17</th>\n",
       "      <td>011150</td>\n",
       "      <td>8</td>\n",
       "    </tr>\n",
       "    <tr>\n",
       "      <th>18</th>\n",
       "      <td>011155</td>\n",
       "      <td>0</td>\n",
       "    </tr>\n",
       "    <tr>\n",
       "      <th>19</th>\n",
       "      <td>035760</td>\n",
       "      <td>242</td>\n",
       "    </tr>\n",
       "    <tr>\n",
       "      <th>20</th>\n",
       "      <td>001045</td>\n",
       "      <td>0</td>\n",
       "    </tr>\n",
       "    <tr>\n",
       "      <th>21</th>\n",
       "      <td>097950</td>\n",
       "      <td>276</td>\n",
       "    </tr>\n",
       "    <tr>\n",
       "      <th>22</th>\n",
       "      <td>097955</td>\n",
       "      <td>0</td>\n",
       "    </tr>\n",
       "    <tr>\n",
       "      <th>23</th>\n",
       "      <td>051500</td>\n",
       "      <td>34</td>\n",
       "    </tr>\n",
       "    <tr>\n",
       "      <th>24</th>\n",
       "      <td>037560</td>\n",
       "      <td>75</td>\n",
       "    </tr>\n",
       "    <tr>\n",
       "      <th>25</th>\n",
       "      <td>058820</td>\n",
       "      <td>299</td>\n",
       "    </tr>\n",
       "    <tr>\n",
       "      <th>26</th>\n",
       "      <td>023460</td>\n",
       "      <td>25</td>\n",
       "    </tr>\n",
       "    <tr>\n",
       "      <th>27</th>\n",
       "      <td>065770</td>\n",
       "      <td>888</td>\n",
       "    </tr>\n",
       "    <tr>\n",
       "      <th>28</th>\n",
       "      <td>083660</td>\n",
       "      <td>72</td>\n",
       "    </tr>\n",
       "    <tr>\n",
       "      <th>29</th>\n",
       "      <td>000590</td>\n",
       "      <td>6</td>\n",
       "    </tr>\n",
       "    <tr>\n",
       "      <th>...</th>\n",
       "      <td>...</td>\n",
       "      <td>...</td>\n",
       "    </tr>\n",
       "    <tr>\n",
       "      <th>2281</th>\n",
       "      <td>032560</td>\n",
       "      <td>23</td>\n",
       "    </tr>\n",
       "    <tr>\n",
       "      <th>2282</th>\n",
       "      <td>004800</td>\n",
       "      <td>1123</td>\n",
       "    </tr>\n",
       "    <tr>\n",
       "      <th>2283</th>\n",
       "      <td>094280</td>\n",
       "      <td>6</td>\n",
       "    </tr>\n",
       "    <tr>\n",
       "      <th>2284</th>\n",
       "      <td>097870</td>\n",
       "      <td>13</td>\n",
       "    </tr>\n",
       "    <tr>\n",
       "      <th>2285</th>\n",
       "      <td>093370</td>\n",
       "      <td>68</td>\n",
       "    </tr>\n",
       "    <tr>\n",
       "      <th>2286</th>\n",
       "      <td>050090</td>\n",
       "      <td>10</td>\n",
       "    </tr>\n",
       "    <tr>\n",
       "      <th>2287</th>\n",
       "      <td>081660</td>\n",
       "      <td>202</td>\n",
       "    </tr>\n",
       "    <tr>\n",
       "      <th>2288</th>\n",
       "      <td>005870</td>\n",
       "      <td>17</td>\n",
       "    </tr>\n",
       "    <tr>\n",
       "      <th>2289</th>\n",
       "      <td>284420</td>\n",
       "      <td>2</td>\n",
       "    </tr>\n",
       "    <tr>\n",
       "      <th>2290</th>\n",
       "      <td>205470</td>\n",
       "      <td>5</td>\n",
       "    </tr>\n",
       "    <tr>\n",
       "      <th>2291</th>\n",
       "      <td>115160</td>\n",
       "      <td>17</td>\n",
       "    </tr>\n",
       "    <tr>\n",
       "      <th>2292</th>\n",
       "      <td>028080</td>\n",
       "      <td>3</td>\n",
       "    </tr>\n",
       "    <tr>\n",
       "      <th>2293</th>\n",
       "      <td>200670</td>\n",
       "      <td>60</td>\n",
       "    </tr>\n",
       "    <tr>\n",
       "      <th>2294</th>\n",
       "      <td>212310</td>\n",
       "      <td>0</td>\n",
       "    </tr>\n",
       "    <tr>\n",
       "      <th>2295</th>\n",
       "      <td>079980</td>\n",
       "      <td>21</td>\n",
       "    </tr>\n",
       "    <tr>\n",
       "      <th>2296</th>\n",
       "      <td>065510</td>\n",
       "      <td>4</td>\n",
       "    </tr>\n",
       "    <tr>\n",
       "      <th>2297</th>\n",
       "      <td>005010</td>\n",
       "      <td>54</td>\n",
       "    </tr>\n",
       "    <tr>\n",
       "      <th>2298</th>\n",
       "      <td>243070</td>\n",
       "      <td>182</td>\n",
       "    </tr>\n",
       "    <tr>\n",
       "      <th>2299</th>\n",
       "      <td>084110</td>\n",
       "      <td>77</td>\n",
       "    </tr>\n",
       "    <tr>\n",
       "      <th>2300</th>\n",
       "      <td>145020</td>\n",
       "      <td>309</td>\n",
       "    </tr>\n",
       "    <tr>\n",
       "      <th>2301</th>\n",
       "      <td>069260</td>\n",
       "      <td>10</td>\n",
       "    </tr>\n",
       "    <tr>\n",
       "      <th>2302</th>\n",
       "      <td>024060</td>\n",
       "      <td>2</td>\n",
       "    </tr>\n",
       "    <tr>\n",
       "      <th>2303</th>\n",
       "      <td>010240</td>\n",
       "      <td>502</td>\n",
       "    </tr>\n",
       "    <tr>\n",
       "      <th>2304</th>\n",
       "      <td>189980</td>\n",
       "      <td>3</td>\n",
       "    </tr>\n",
       "    <tr>\n",
       "      <th>2305</th>\n",
       "      <td>000540</td>\n",
       "      <td>36</td>\n",
       "    </tr>\n",
       "    <tr>\n",
       "      <th>2306</th>\n",
       "      <td>000547</td>\n",
       "      <td>0</td>\n",
       "    </tr>\n",
       "    <tr>\n",
       "      <th>2307</th>\n",
       "      <td>000545</td>\n",
       "      <td>1</td>\n",
       "    </tr>\n",
       "    <tr>\n",
       "      <th>2308</th>\n",
       "      <td>003280</td>\n",
       "      <td>274</td>\n",
       "    </tr>\n",
       "    <tr>\n",
       "      <th>2309</th>\n",
       "      <td>037440</td>\n",
       "      <td>8</td>\n",
       "    </tr>\n",
       "    <tr>\n",
       "      <th>2310</th>\n",
       "      <td>238490</td>\n",
       "      <td>11</td>\n",
       "    </tr>\n",
       "  </tbody>\n",
       "</table>\n",
       "<p>2311 rows × 2 columns</p>\n",
       "</div>"
      ]
     },
     "execution_count": 4,
     "metadata": {},
     "output_type": "execute_result"
    }
   ],
   "source": [
    "import pandas as pd\n",
    "\n",
    "top10Comp = []\n",
    "# get top10\n",
    "\n",
    "\n",
    "\n",
    "\n",
    "df = pd.DataFrame(compByNewsCount)\n",
    "\n",
    "df"
   ]
  },
  {
   "cell_type": "code",
   "execution_count": null,
   "metadata": {},
   "outputs": [],
   "source": []
  }
 ],
 "metadata": {
  "kernelspec": {
   "display_name": "Python 2",
   "language": "python",
   "name": "python2"
  },
  "language_info": {
   "codemirror_mode": {
    "name": "ipython",
    "version": 2
   },
   "file_extension": ".py",
   "mimetype": "text/x-python",
   "name": "python",
   "nbconvert_exporter": "python",
   "pygments_lexer": "ipython2",
   "version": "2.7.6"
  }
 },
 "nbformat": 4,
 "nbformat_minor": 0
}
