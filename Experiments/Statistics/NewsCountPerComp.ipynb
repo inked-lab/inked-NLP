{
 "cells": [
  {
   "cell_type": "code",
   "execution_count": 7,
   "metadata": {
    "collapsed": true
   },
   "outputs": [],
   "source": [
    "from Utils.StockCompanyExtractor.StockCompanyExtractor import FetchAllCompanyDic\n",
    "\n",
    "allCompDic = FetchAllCompanyDic()"
   ]
  },
  {
   "cell_type": "code",
   "execution_count": 14,
   "metadata": {},
   "outputs": [
    {
     "name": "stdout",
     "output_type": "stream",
     "text": [
      "\rReading Comp news ('060310', '3S')"
     ]
    },
    {
     "name": "stdout",
     "output_type": "stream",
     "text": [
      "\rReading Comp news ('095570', 'AJ네트웍스')"
     ]
    },
    {
     "name": "stdout",
     "output_type": "stream",
     "text": [
      "\rReading Comp news ('068400', 'AJ렌터카')"
     ]
    },
    {
     "name": "stdout",
     "output_type": "stream",
     "text": [
      "\rReading Comp news ('006840', 'AK홀딩스')"
     ]
    },
    {
     "name": "stdout",
     "output_type": "stream",
     "text": [
      "\rReading Comp news ('054620', 'APS홀딩스')"
     ]
    },
    {
     "name": "stdout",
     "output_type": "stream",
     "text": [
      "\rReading Comp news ('265520', 'AP시스템')"
     ]
    },
    {
     "name": "stdout",
     "output_type": "stream",
     "text": [
      "\rReading Comp news ('211270', 'AP위성')"
     ]
    },
    {
     "name": "stdout",
     "output_type": "stream",
     "text": [
      "\rReading Comp news ('027410', 'BGF')"
     ]
    },
    {
     "name": "stdout",
     "output_type": "stream",
     "text": [
      "\rReading Comp news ('282330', 'BGF리테일')"
     ]
    },
    {
     "name": "stdout",
     "output_type": "stream",
     "text": [
      "\rReading Comp news ('138930', 'BNK금융지주')"
     ]
    },
    {
     "name": "stdout",
     "output_type": "stream",
     "text": [
      "\rReading Comp news ('001460', 'BYC')"
     ]
    },
    {
     "name": "stdout",
     "output_type": "stream",
     "text": [
      "\rReading Comp news ('001465', 'BYC우')"
     ]
    },
    {
     "name": "stdout",
     "output_type": "stream",
     "text": [
      "\rReading Comp news ('032040', 'C&S자산관리')"
     ]
    },
    {
     "name": "stdout",
     "output_type": "stream",
     "text": [
      "\rReading Comp news ('001040', 'CJ')"
     ]
    },
    {
     "name": "stdout",
     "output_type": "stream",
     "text": [
      "\rReading Comp news ('079160', 'CJ CGV')"
     ]
    },
    {
     "name": "stdout",
     "output_type": "stream",
     "text": [
      "\rReading Comp news ('130960', 'CJ E&M')"
     ]
    },
    {
     "name": "stdout",
     "output_type": "stream",
     "text": [
      "\rReading Comp news ('000120', 'CJ대한통운')"
     ]
    },
    {
     "name": "stdout",
     "output_type": "stream",
     "text": [
      "\rReading Comp news ('011150', 'CJ씨푸드')"
     ]
    },
    {
     "name": "stdout",
     "output_type": "stream",
     "text": [
      "\rReading Comp news ('011155', 'CJ씨푸드1우')"
     ]
    },
    {
     "name": "stdout",
     "output_type": "stream",
     "text": [
      "\rReading Comp news ('035760', 'CJ오쇼핑')"
     ]
    },
    {
     "name": "stdout",
     "output_type": "stream",
     "text": [
      "\rReading Comp news ('001045', 'CJ우')"
     ]
    },
    {
     "name": "stdout",
     "output_type": "stream",
     "text": [
      "\rReading Comp news ('097950', 'CJ제일제당')"
     ]
    },
    {
     "name": "stdout",
     "output_type": "stream",
     "text": [
      "\rReading Comp news ('097955', 'CJ제일제당 우')"
     ]
    },
    {
     "name": "stdout",
     "output_type": "stream",
     "text": [
      "\rReading Comp news ('051500', 'CJ프레시웨이')"
     ]
    },
    {
     "name": "stdout",
     "output_type": "stream",
     "text": [
      "\rReading Comp news ('037560', 'CJ헬로')"
     ]
    },
    {
     "name": "stdout",
     "output_type": "stream",
     "text": [
      "\rReading Comp news ('058820', 'CMG제약')"
     ]
    },
    {
     "name": "stdout",
     "output_type": "stream",
     "text": [
      "\rReading Comp news ('023460', 'CNH')"
     ]
    },
    {
     "name": "stdout",
     "output_type": "stream",
     "text": [
      "\rReading Comp news ('065770', 'CS')"
     ]
    },
    {
     "name": "stdout",
     "output_type": "stream",
     "text": [
      "\rReading Comp news ('083660', 'CSA 코스믹')"
     ]
    },
    {
     "name": "stdout",
     "output_type": "stream",
     "text": [
      "\rReading Comp news ('000590', 'CS홀딩스')"
     ]
    },
    {
     "name": "stdout",
     "output_type": "stream",
     "text": [
      "\rReading Comp news ('012030', 'DB')"
     ]
    },
    {
     "name": "stdout",
     "output_type": "stream",
     "text": [
      "\rReading Comp news ('016610', 'DB금융투자')"
     ]
    },
    {
     "name": "stdout",
     "output_type": "stream",
     "text": [
      "\rReading Comp news ('045890', 'DB라이텍')"
     ]
    },
    {
     "name": "stdout",
     "output_type": "stream",
     "text": [
      "\rReading Comp news ('005830', 'DB손해보험')"
     ]
    },
    {
     "name": "stdout",
     "output_type": "stream",
     "text": [
      "\rReading Comp news ('000990', 'DB하이텍')"
     ]
    },
    {
     "name": "stdout",
     "output_type": "stream",
     "text": [
      "\rReading Comp news ('000995', 'DB하이텍1우')"
     ]
    },
    {
     "name": "stdout",
     "output_type": "stream",
     "text": [
      "\rReading Comp news ('139130', 'DGB금융지주')"
     ]
    },
    {
     "name": "stdout",
     "output_type": "stream",
     "text": [
      "\rReading Comp news ('068790', 'DMS')"
     ]
    },
    {
     "name": "stdout",
     "output_type": "stream",
     "text": [
      "\rReading Comp news ('004840', 'DRB동일')"
     ]
    },
    {
     "name": "stdout",
     "output_type": "stream",
     "text": [
      "\rReading Comp news ('241520', 'DSC인베스트먼트')"
     ]
    },
    {
     "name": "stdout",
     "output_type": "stream",
     "text": [
      "\rReading Comp news ('155660', 'DSR')"
     ]
    },
    {
     "name": "stdout",
     "output_type": "stream",
     "text": [
      "\rReading Comp news ('069730', 'DSR제강')"
     ]
    },
    {
     "name": "stdout",
     "output_type": "stream",
     "text": [
      "\rReading Comp news ('017940', 'E1')"
     ]
    },
    {
     "name": "stdout",
     "output_type": "stream",
     "text": [
      "\rReading Comp news ('037370', 'EG')"
     ]
    },
    {
     "name": "stdout",
     "output_type": "stream",
     "text": [
      "\rReading Comp news ('079190', 'EMW')"
     ]
    },
    {
     "name": "stdout",
     "output_type": "stream",
     "text": [
      "\rReading Comp news ('007700', 'F&F')"
     ]
    },
    {
     "name": "stdout",
     "output_type": "stream",
     "text": [
      "\rReading Comp news ('130500', 'GH신소재')"
     ]
    },
    {
     "name": "stdout",
     "output_type": "stream",
     "text": [
      "\rReading Comp news ('114090', 'GKL')"
     ]
    },
    {
     "name": "stdout",
     "output_type": "stream",
     "text": [
      "\rReading Comp news ('032860', 'GMR 머티리얼즈')"
     ]
    },
    {
     "name": "stdout",
     "output_type": "stream",
     "text": [
      "\rReading Comp news ('900290', 'GRT')"
     ]
    },
    {
     "name": "stdout",
     "output_type": "stream",
     "text": [
      "\rReading Comp news ('078930', 'GS')"
     ]
    },
    {
     "name": "stdout",
     "output_type": "stream",
     "text": [
      "\rReading Comp news ('083450', 'GST')"
     ]
    },
    {
     "name": "stdout",
     "output_type": "stream",
     "text": [
      "\rReading Comp news ('006360', 'GS건설')"
     ]
    },
    {
     "name": "stdout",
     "output_type": "stream",
     "text": [
      "\rReading Comp news ('001250', 'GS글로벌')"
     ]
    },
    {
     "name": "stdout",
     "output_type": "stream",
     "text": [
      "\rReading Comp news ('007070', 'GS리테일')"
     ]
    },
    {
     "name": "stdout",
     "output_type": "stream",
     "text": [
      "\rReading Comp news ('078935', 'GS우')"
     ]
    },
    {
     "name": "stdout",
     "output_type": "stream",
     "text": [
      "\rReading Comp news ('028150', 'GS홈쇼핑')"
     ]
    },
    {
     "name": "stdout",
     "output_type": "stream",
     "text": [
      "\rReading Comp news ('078150', 'HB테크놀러지')"
     ]
    },
    {
     "name": "stdout",
     "output_type": "stream",
     "text": [
      "\rReading Comp news ('039570', 'HDC아이콘트롤스')"
     ]
    },
    {
     "name": "stdout",
     "output_type": "stream",
     "text": [
      "\rReading Comp news ('089470', 'HDC현대EP')"
     ]
    },
    {
     "name": "stdout",
     "output_type": "stream",
     "text": [
      "\rReading Comp news ('036640', 'HRS')"
     ]
    },
    {
     "name": "stdout",
     "output_type": "stream",
     "text": [
      "\rReading Comp news ('225430', 'IBKS제3호스팩')"
     ]
    },
    {
     "name": "stdout",
     "output_type": "stream",
     "text": [
      "\rReading Comp news ('254120', 'IBKS제5호스팩')"
     ]
    },
    {
     "name": "stdout",
     "output_type": "stream",
     "text": [
      "\rReading Comp news ('264850', 'IBKS제6호스팩')"
     ]
    },
    {
     "name": "stdout",
     "output_type": "stream",
     "text": [
      "\rReading Comp news ('276920', 'IBKS제7호스팩')"
     ]
    },
    {
     "name": "stdout",
     "output_type": "stream",
     "text": [
      "\rReading Comp news ('277410', 'IBKS제8호스팩')"
     ]
    },
    {
     "name": "stdout",
     "output_type": "stream",
     "text": [
      "\rReading Comp news ('003560', 'IHQ')"
     ]
    },
    {
     "name": "stdout",
     "output_type": "stream",
     "text": [
      "\rReading Comp news ('095340', 'ISC')"
     ]
    },
    {
     "name": "stdout",
     "output_type": "stream",
     "text": [
      "\rReading Comp news ('099520', 'ITX엠투엠')"
     ]
    },
    {
     "name": "stdout",
     "output_type": "stream",
     "text": [
      "\rReading Comp news ('175330', 'JB금융지주')"
     ]
    },
    {
     "name": "stdout",
     "output_type": "stream",
     "text": [
      "\rReading Comp news ('950170', 'JTC')"
     ]
    },
    {
     "name": "stdout",
     "output_type": "stream",
     "text": [
      "\rReading Comp news ('234080', 'JW생명과학')"
     ]
    },
    {
     "name": "stdout",
     "output_type": "stream",
     "text": [
      "\rReading Comp news ('067290', 'JW신약')"
     ]
    },
    {
     "name": "stdout",
     "output_type": "stream",
     "text": [
      "\rReading Comp news ('001060', 'JW중외제약')"
     ]
    },
    {
     "name": "stdout",
     "output_type": "stream",
     "text": [
      "\rReading Comp news ('001067', 'JW중외제약2우B')"
     ]
    },
    {
     "name": "stdout",
     "output_type": "stream",
     "text": [
      "\rReading Comp news ('001065', 'JW중외제약우')"
     ]
    },
    {
     "name": "stdout",
     "output_type": "stream",
     "text": [
      "\rReading Comp news ('096760', 'JW홀딩스')"
     ]
    },
    {
     "name": "stdout",
     "output_type": "stream",
     "text": [
      "\rReading Comp news ('035900', 'JYP Ent.')"
     ]
    },
    {
     "name": "stdout",
     "output_type": "stream",
     "text": [
      "\rReading Comp news ('105560', 'KB금융')"
     ]
    },
    {
     "name": "stdout",
     "output_type": "stream",
     "text": [
      "\rReading Comp news ('024120', 'KB오토시스')"
     ]
    },
    {
     "name": "stdout",
     "output_type": "stream",
     "text": [
      "\rReading Comp news ('002380', 'KCC')"
     ]
    },
    {
     "name": "stdout",
     "output_type": "stream",
     "text": [
      "\rReading Comp news ('021320', 'KCC건설')"
     ]
    },
    {
     "name": "stdout",
     "output_type": "stream",
     "text": [
      "\rReading Comp news ('036670', 'KCI')"
     ]
    },
    {
     "name": "stdout",
     "output_type": "stream",
     "text": [
      "\rReading Comp news ('009070', 'KCTC')"
     ]
    },
    {
     "name": "stdout",
     "output_type": "stream",
     "text": [
      "\rReading Comp news ('009440', 'KC그린홀딩스')"
     ]
    },
    {
     "name": "stdout",
     "output_type": "stream",
     "text": [
      "\rReading Comp news ('112190', 'KC산업')"
     ]
    },
    {
     "name": "stdout",
     "output_type": "stream",
     "text": [
      "\rReading Comp news ('119650', 'KC코트렐')"
     ]
    },
    {
     "name": "stdout",
     "output_type": "stream",
     "text": [
      "\rReading Comp news ('044180', 'KD건설')"
     ]
    },
    {
     "name": "stdout",
     "output_type": "stream",
     "text": [
      "\rReading Comp news ('092220', 'KEC')"
     ]
    },
    {
     "name": "stdout",
     "output_type": "stream",
     "text": [
      "\rReading Comp news ('151860', 'KG ETS')"
     ]
    },
    {
     "name": "stdout",
     "output_type": "stream",
     "text": [
      "\rReading Comp news ('046440', 'KG모빌리언스')"
     ]
    },
    {
     "name": "stdout",
     "output_type": "stream",
     "text": [
      "\rReading Comp news ('035600', 'KG이니시스')"
     ]
    },
    {
     "name": "stdout",
     "output_type": "stream",
     "text": [
      "\rReading Comp news ('001390', 'KG케미칼')"
     ]
    },
    {
     "name": "stdout",
     "output_type": "stream",
     "text": [
      "\rReading Comp news ('060720', 'KH바텍')"
     ]
    },
    {
     "name": "stdout",
     "output_type": "stream",
     "text": [
      "\rReading Comp news ('001940', 'KISCO홀딩스')"
     ]
    },
    {
     "name": "stdout",
     "output_type": "stream",
     "text": [
      "\rReading Comp news ('083470', 'KJ프리텍')"
     ]
    },
    {
     "name": "stdout",
     "output_type": "stream",
     "text": [
      "\rReading Comp news ('122450', 'KMH')"
     ]
    },
    {
     "name": "stdout",
     "output_type": "stream",
     "text": [
      "\rReading Comp news ('052900', 'KMH하이텍')"
     ]
    },
    {
     "name": "stdout",
     "output_type": "stream",
     "text": [
      "\rReading Comp news ('058400', 'KNN')"
     ]
    },
    {
     "name": "stdout",
     "output_type": "stream",
     "text": [
      "\rReading Comp news ('114450', 'KPX생명과학')"
     ]
    },
    {
     "name": "stdout",
     "output_type": "stream",
     "text": [
      "\rReading Comp news ('025000', 'KPX케미칼')"
     ]
    },
    {
     "name": "stdout",
     "output_type": "stream",
     "text": [
      "\rReading Comp news ('092230', 'KPX홀딩스')"
     ]
    },
    {
     "name": "stdout",
     "output_type": "stream",
     "text": [
      "\rReading Comp news ('000040', 'KR모터스')"
     ]
    },
    {
     "name": "stdout",
     "output_type": "stream",
     "text": [
      "\rReading Comp news ('044450', 'KSS해운')"
     ]
    },
    {
     "name": "stdout",
     "output_type": "stream",
     "text": [
      "\rReading Comp news ('030200', 'KT')"
     ]
    },
    {
     "name": "stdout",
     "output_type": "stream",
     "text": [
      "\rReading Comp news ('033780', 'KT&G')"
     ]
    },
    {
     "name": "stdout",
     "output_type": "stream",
     "text": [
      "\rReading Comp news ('030210', 'KTB투자증권')"
     ]
    },
    {
     "name": "stdout",
     "output_type": "stream",
     "text": [
      "\rReading Comp news ('036030', 'KTH')"
     ]
    },
    {
     "name": "stdout",
     "output_type": "stream",
     "text": [
      "\rReading Comp news ('058850', 'KTcs')"
     ]
    },
    {
     "name": "stdout",
     "output_type": "stream",
     "text": [
      "\rReading Comp news ('060370', 'KT서브마린')"
     ]
    },
    {
     "name": "stdout",
     "output_type": "stream",
     "text": [
      "\rReading Comp news ('093050', 'LF')"
     ]
    },
    {
     "name": "stdout",
     "output_type": "stream",
     "text": [
      "\rReading Comp news ('003550', 'LG')"
     ]
    },
    {
     "name": "stdout",
     "output_type": "stream",
     "text": [
      "\rReading Comp news ('034220', 'LG디스플레이')"
     ]
    },
    {
     "name": "stdout",
     "output_type": "stream",
     "text": [
      "\rReading Comp news ('001120', 'LG상사')"
     ]
    },
    {
     "name": "stdout",
     "output_type": "stream",
     "text": [
      "\rReading Comp news ('051900', 'LG생활건강')"
     ]
    },
    {
     "name": "stdout",
     "output_type": "stream",
     "text": [
      "\rReading Comp news ('051905', 'LG생활건강우')"
     ]
    },
    {
     "name": "stdout",
     "output_type": "stream",
     "text": [
      "\rReading Comp news ('003555', 'LG우')"
     ]
    },
    {
     "name": "stdout",
     "output_type": "stream",
     "text": [
      "\rReading Comp news ('032640', 'LG유플러스')"
     ]
    },
    {
     "name": "stdout",
     "output_type": "stream",
     "text": [
      "\rReading Comp news ('011070', 'LG이노텍')"
     ]
    },
    {
     "name": "stdout",
     "output_type": "stream",
     "text": [
      "\rReading Comp news ('066570', 'LG전자')"
     ]
    },
    {
     "name": "stdout",
     "output_type": "stream",
     "text": [
      "\rReading Comp news ('066575', 'LG전자우')"
     ]
    },
    {
     "name": "stdout",
     "output_type": "stream",
     "text": [
      "\rReading Comp news ('108670', 'LG하우시스')"
     ]
    },
    {
     "name": "stdout",
     "output_type": "stream",
     "text": [
      "\rReading Comp news ('108675', 'LG하우시스우')"
     ]
    },
    {
     "name": "stdout",
     "output_type": "stream",
     "text": [
      "\rReading Comp news ('051910', 'LG화학')"
     ]
    },
    {
     "name": "stdout",
     "output_type": "stream",
     "text": [
      "\rReading Comp news ('051915', 'LG화학우')"
     ]
    },
    {
     "name": "stdout",
     "output_type": "stream",
     "text": [
      "\rReading Comp news ('079550', 'LIG넥스원')"
     ]
    },
    {
     "name": "stdout",
     "output_type": "stream",
     "text": [
      "\rReading Comp news ('006260', 'LS')"
     ]
    },
    {
     "name": "stdout",
     "output_type": "stream",
     "text": [
      "\rReading Comp news ('000680', 'LS네트웍스')"
     ]
    },
    {
     "name": "stdout",
     "output_type": "stream",
     "text": [
      "\rReading Comp news ('010120', 'LS산전')"
     ]
    },
    {
     "name": "stdout",
     "output_type": "stream",
     "text": [
      "\rReading Comp news ('229640', 'LS전선아시아')"
     ]
    },
    {
     "name": "stdout",
     "output_type": "stream",
     "text": [
      "\rReading Comp news ('023150', 'MH에탄올')"
     ]
    },
    {
     "name": "stdout",
     "output_type": "stream",
     "text": [
      "\rReading Comp news ('065150', 'MP그룹')"
     ]
    },
    {
     "name": "stdout",
     "output_type": "stream",
     "text": [
      "\rReading Comp news ('219550', 'MP한강')"
     ]
    },
    {
     "name": "stdout",
     "output_type": "stream",
     "text": [
      "\rReading Comp news ('035420', 'NAVER')"
     ]
    },
    {
     "name": "stdout",
     "output_type": "stream",
     "text": [
      "\rReading Comp news ('160550', 'NEW')"
     ]
    },
    {
     "name": "stdout",
     "output_type": "stream",
     "text": [
      "\rReading Comp news ('053290', 'NE능률')"
     ]
    },
    {
     "name": "stdout",
     "output_type": "stream",
     "text": [
      "\rReading Comp news ('104200', 'NHN벅스')"
     ]
    },
    {
     "name": "stdout",
     "output_type": "stream",
     "text": [
      "\rReading Comp news ('181710', 'NHN엔터테인먼트')"
     ]
    },
    {
     "name": "stdout",
     "output_type": "stream",
     "text": [
      "\rReading Comp news ('060250', 'NHN한국사이버결제')"
     ]
    },
    {
     "name": "stdout",
     "output_type": "stream",
     "text": [
      "\rReading Comp news ('005940', 'NH투자증권')"
     ]
    },
    {
     "name": "stdout",
     "output_type": "stream",
     "text": [
      "\rReading Comp news ('005945', 'NH투자증권우')"
     ]
    },
    {
     "name": "stdout",
     "output_type": "stream",
     "text": [
      "\rReading Comp news ('034310', 'NICE')"
     ]
    },
    {
     "name": "stdout",
     "output_type": "stream",
     "text": [
      "\rReading Comp news ('030190', 'NICE평가정보')"
     ]
    },
    {
     "name": "stdout",
     "output_type": "stream",
     "text": [
      "\rReading Comp news ('008260', 'NI스틸')"
     ]
    },
    {
     "name": "stdout",
     "output_type": "stream",
     "text": [
      "\rReading Comp news ('004250', 'NPC')"
     ]
    },
    {
     "name": "stdout",
     "output_type": "stream",
     "text": [
      "\rReading Comp news ('004255', 'NPC우')"
     ]
    },
    {
     "name": "stdout",
     "output_type": "stream",
     "text": [
      "\rReading Comp news ('010060', 'OCI')"
     ]
    },
    {
     "name": "stdout",
     "output_type": "stream",
     "text": [
      "\rReading Comp news ('024940', 'PN풍년')"
     ]
    },
    {
     "name": "stdout",
     "output_type": "stream",
     "text": [
      "\rReading Comp news ('005490', 'POSCO')"
     ]
    },
    {
     "name": "stdout",
     "output_type": "stream",
     "text": [
      "\rReading Comp news ('218410', 'RFHIC')"
     ]
    },
    {
     "name": "stdout",
     "output_type": "stream",
     "text": [
      "\rReading Comp news ('091340', 'S&K폴리텍')"
     ]
    },
    {
     "name": "stdout",
     "output_type": "stream",
     "text": [
      "\rReading Comp news ('100840', 'S&TC')"
     ]
    },
    {
     "name": "stdout",
     "output_type": "stream",
     "text": [
      "\rReading Comp news ('064960', 'S&T모티브')"
     ]
    },
    {
     "name": "stdout",
     "output_type": "stream",
     "text": [
      "\rReading Comp news ('003570', 'S&T중공업')"
     ]
    },
    {
     "name": "stdout",
     "output_type": "stream",
     "text": [
      "\rReading Comp news ('036530', 'S&T홀딩스')"
     ]
    },
    {
     "name": "stdout",
     "output_type": "stream",
     "text": [
      "\rReading Comp news ('010950', 'S-Oil')"
     ]
    },
    {
     "name": "stdout",
     "output_type": "stream",
     "text": [
      "\rReading Comp news ('010955', 'S-Oil우')"
     ]
    },
    {
     "name": "stdout",
     "output_type": "stream",
     "text": [
      "\rReading Comp news ('019550', 'SBI인베스트먼트')"
     ]
    },
    {
     "name": "stdout",
     "output_type": "stream",
     "text": [
      "\rReading Comp news ('950110', 'SBI핀테크솔루션즈')"
     ]
    },
    {
     "name": "stdout",
     "output_type": "stream",
     "text": [
      "\rReading Comp news ('034120', 'SBS')"
     ]
    },
    {
     "name": "stdout",
     "output_type": "stream",
     "text": [
      "\rReading Comp news ('101060', 'SBS미디어홀딩스')"
     ]
    },
    {
     "name": "stdout",
     "output_type": "stream",
     "text": [
      "\rReading Comp news ('046140', 'SBS콘텐츠허브')"
     ]
    },
    {
     "name": "stdout",
     "output_type": "stream",
     "text": [
      "\rReading Comp news ('036120', 'SCI평가정보')"
     ]
    },
    {
     "name": "stdout",
     "output_type": "stream",
     "text": [
      "\rReading Comp news ('099220', 'SDN')"
     ]
    },
    {
     "name": "stdout",
     "output_type": "stream",
     "text": [
      "\rReading Comp news ('036540', 'SFA반도체')"
     ]
    },
    {
     "name": "stdout",
     "output_type": "stream",
     "text": [
      "\rReading Comp news ('255220', 'SG')"
     ]
    },
    {
     "name": "stdout",
     "output_type": "stream",
     "text": [
      "\rReading Comp news ('040610', 'SG&G')"
     ]
    },
    {
     "name": "stdout",
     "output_type": "stream",
     "text": [
      "\rReading Comp news ('049470', 'SGA')"
     ]
    },
    {
     "name": "stdout",
     "output_type": "stream",
     "text": [
      "\rReading Comp news ('184230', 'SGA솔루션즈')"
     ]
    },
    {
     "name": "stdout",
     "output_type": "stream",
     "text": [
      "\rReading Comp news ('224880', 'SGA임베디드')"
     ]
    },
    {
     "name": "stdout",
     "output_type": "stream",
     "text": [
      "\rReading Comp news ('004060', 'SG세계물산')"
     ]
    },
    {
     "name": "stdout",
     "output_type": "stream",
     "text": [
      "\rReading Comp news ('001380', 'SG충방')"
     ]
    },
    {
     "name": "stdout",
     "output_type": "stream",
     "text": [
      "\rReading Comp news ('002360', 'SH에너지화학')"
     ]
    },
    {
     "name": "stdout",
     "output_type": "stream",
     "text": [
      "\rReading Comp news ('009160', 'SIMPAC')"
     ]
    },
    {
     "name": "stdout",
     "output_type": "stream",
     "text": [
      "\rReading Comp news ('090730', 'SIMPAC Metal')"
     ]
    },
    {
     "name": "stdout",
     "output_type": "stream",
     "text": [
      "\rReading Comp news ('123700', 'SJM')"
     ]
    },
    {
     "name": "stdout",
     "output_type": "stream",
     "text": [
      "\rReading Comp news ('025530', 'SJM홀딩스')"
     ]
    },
    {
     "name": "stdout",
     "output_type": "stream",
     "text": [
      "\rReading Comp news ('034730', 'SK')"
     ]
    },
    {
     "name": "stdout",
     "output_type": "stream",
     "text": [
      "\rReading Comp news ('232330', 'SK3호스팩')"
     ]
    },
    {
     "name": "stdout",
     "output_type": "stream",
     "text": [
      "\rReading Comp news ('011790', 'SKC')"
     ]
    },
    {
     "name": "stdout",
     "output_type": "stream",
     "text": [
      "\rReading Comp news ('057500', 'SKC 솔믹스')"
     ]
    },
    {
     "name": "stdout",
     "output_type": "stream",
     "text": [
      "\rReading Comp news ('178920', 'SKC코오롱PI')"
     ]
    },
    {
     "name": "stdout",
     "output_type": "stream",
     "text": [
      "\rReading Comp news ('018670', 'SK가스')"
     ]
    },
    {
     "name": "stdout",
     "output_type": "stream",
     "text": [
      "\rReading Comp news ('001740', 'SK네트웍스')"
     ]
    },
    {
     "name": "stdout",
     "output_type": "stream",
     "text": [
      "\rReading Comp news ('001745', 'SK네트웍스우')"
     ]
    },
    {
     "name": "stdout",
     "output_type": "stream",
     "text": [
      "\rReading Comp news ('006120', 'SK디스커버리')"
     ]
    },
    {
     "name": "stdout",
     "output_type": "stream",
     "text": [
      "\rReading Comp news ('006125', 'SK디스커버리우')"
     ]
    },
    {
     "name": "stdout",
     "output_type": "stream",
     "text": [
      "\rReading Comp news ('210980', 'SK디앤디')"
     ]
    },
    {
     "name": "stdout",
     "output_type": "stream",
     "text": [
      "\rReading Comp news ('036490', 'SK머티리얼즈')"
     ]
    },
    {
     "name": "stdout",
     "output_type": "stream",
     "text": [
      "\rReading Comp news ('052260', 'SK바이오랜드')"
     ]
    },
    {
     "name": "stdout",
     "output_type": "stream",
     "text": [
      "\rReading Comp news ('03473K', 'SK우')"
     ]
    },
    {
     "name": "stdout",
     "output_type": "stream",
     "text": [
      "\rReading Comp news ('096770', 'SK이노베이션')"
     ]
    },
    {
     "name": "stdout",
     "output_type": "stream",
     "text": [
      "\rReading Comp news ('096775', 'SK이노베이션우')"
     ]
    },
    {
     "name": "stdout",
     "output_type": "stream",
     "text": [
      "\rReading Comp news ('001510', 'SK증권')"
     ]
    },
    {
     "name": "stdout",
     "output_type": "stream",
     "text": [
      "\rReading Comp news ('001515', 'SK증권우')"
     ]
    },
    {
     "name": "stdout",
     "output_type": "stream",
     "text": [
      "\rReading Comp news ('285130', 'SK케미칼')"
     ]
    },
    {
     "name": "stdout",
     "output_type": "stream",
     "text": [
      "\rReading Comp news ('28513K', 'SK케미칼우')"
     ]
    },
    {
     "name": "stdout",
     "output_type": "stream",
     "text": [
      "\rReading Comp news ('017670', 'SK텔레콤')"
     ]
    },
    {
     "name": "stdout",
     "output_type": "stream",
     "text": [
      "\rReading Comp news ('000660', 'SK하이닉스')"
     ]
    },
    {
     "name": "stdout",
     "output_type": "stream",
     "text": [
      "\rReading Comp news ('048550', 'SM C&C')"
     ]
    },
    {
     "name": "stdout",
     "output_type": "stream",
     "text": [
      "\rReading Comp news ('005610', 'SPC삼립')"
     ]
    },
    {
     "name": "stdout",
     "output_type": "stream",
     "text": [
      "\rReading Comp news ('123260', 'STC')"
     ]
    },
    {
     "name": "stdout",
     "output_type": "stream",
     "text": [
      "\rReading Comp news ('011810', 'STX')"
     ]
    },
    {
     "name": "stdout",
     "output_type": "stream",
     "text": [
      "\rReading Comp news ('077970', 'STX엔진')"
     ]
    },
    {
     "name": "stdout",
     "output_type": "stream",
     "text": [
      "\rReading Comp news ('071970', 'STX중공업')"
     ]
    },
    {
     "name": "stdout",
     "output_type": "stream",
     "text": [
      "\rReading Comp news ('084870', 'TBH글로벌')"
     ]
    },
    {
     "name": "stdout",
     "output_type": "stream",
     "text": [
      "\rReading Comp news ('002710', 'TCC동양')"
     ]
    },
    {
     "name": "stdout",
     "output_type": "stream",
     "text": [
      "\rReading Comp news ('089230', 'THE E&M')"
     ]
    },
    {
     "name": "stdout",
     "output_type": "stream",
     "text": [
      "\rReading Comp news ('032540', 'TJ미디어')"
     ]
    },
    {
     "name": "stdout",
     "output_type": "stream",
     "text": [
      "\rReading Comp news ('048770', 'TPC')"
     ]
    },
    {
     "name": "stdout",
     "output_type": "stream",
     "text": [
      "\rReading Comp news ('284610', 'TS트릴리온')"
     ]
    },
    {
     "name": "stdout",
     "output_type": "stream",
     "text": [
      "\rReading Comp news ('038340', 'UCI')"
     ]
    },
    {
     "name": "stdout",
     "output_type": "stream",
     "text": [
      "\rReading Comp news ('024070', 'WISCOM')"
     ]
    },
    {
     "name": "stdout",
     "output_type": "stream",
     "text": [
      "\rReading Comp news ('052300', 'W홀딩컴퍼니')"
     ]
    },
    {
     "name": "stdout",
     "output_type": "stream",
     "text": [
      "\rReading Comp news ('037270', 'YG PLUS')"
     ]
    },
    {
     "name": "stdout",
     "output_type": "stream",
     "text": [
      "\rReading Comp news ('040300', 'YTN')"
     ]
    },
    {
     "name": "stdout",
     "output_type": "stream",
     "text": [
      "\rReading Comp news ('051390', 'YW')"
     ]
    },
    {
     "name": "stdout",
     "output_type": "stream",
     "text": [
      "\rReading Comp news ('052220', 'iMBC')"
     ]
    },
    {
     "name": "stdout",
     "output_type": "stream",
     "text": [
      "\rReading Comp news ('079940', '가비아')"
     ]
    },
    {
     "name": "stdout",
     "output_type": "stream",
     "text": [
      "\rReading Comp news ('078890', '가온미디어')"
     ]
    },
    {
     "name": "stdout",
     "output_type": "stream",
     "text": [
      "\rReading Comp news ('000500', '가온전선')"
     ]
    },
    {
     "name": "stdout",
     "output_type": "stream",
     "text": [
      "\rReading Comp news ('192410', '감마누')"
     ]
    },
    {
     "name": "stdout",
     "output_type": "stream",
     "text": [
      "\rReading Comp news ('024840', '갑을메탈')"
     ]
    },
    {
     "name": "stdout",
     "output_type": "stream",
     "text": [
      "\rReading Comp news ('000860', '강남제비스코')"
     ]
    },
    {
     "name": "stdout",
     "output_type": "stream",
     "text": [
      "\rReading Comp news ('217730', '강스템바이오텍')"
     ]
    },
    {
     "name": "stdout",
     "output_type": "stream",
     "text": [
      "\rReading Comp news ('035250', '강원랜드')"
     ]
    },
    {
     "name": "stdout",
     "output_type": "stream",
     "text": [
      "\rReading Comp news ('011420', '갤럭시아에스엠')"
     ]
    },
    {
     "name": "stdout",
     "output_type": "stream",
     "text": [
      "\rReading Comp news ('094480', '갤럭시아컴즈')"
     ]
    },
    {
     "name": "stdout",
     "output_type": "stream",
     "text": [
      "\rReading Comp news ('063080', '게임빌')"
     ]
    },
    {
     "name": "stdout",
     "output_type": "stream",
     "text": [
      "\rReading Comp news ('039240', '경남스틸')"
     ]
    },
    {
     "name": "stdout",
     "output_type": "stream",
     "text": [
      "\rReading Comp news ('053950', '경남제약')"
     ]
    },
    {
     "name": "stdout",
     "output_type": "stream",
     "text": [
      "\rReading Comp news ('002100', '경농')"
     ]
    },
    {
     "name": "stdout",
     "output_type": "stream",
     "text": [
      "\rReading Comp news ('009450', '경동나비엔')"
     ]
    },
    {
     "name": "stdout",
     "output_type": "stream",
     "text": [
      "\rReading Comp news ('267290', '경동도시가스')"
     ]
    },
    {
     "name": "stdout",
     "output_type": "stream",
     "text": [
      "\rReading Comp news ('012320', '경동인베스트')"
     ]
    },
    {
     "name": "stdout",
     "output_type": "stream",
     "text": [
      "\rReading Comp news ('011040', '경동제약')"
     ]
    },
    {
     "name": "stdout",
     "output_type": "stream",
     "text": [
      "\rReading Comp news ('000050', '경방')"
     ]
    },
    {
     "name": "stdout",
     "output_type": "stream",
     "text": [
      "\rReading Comp news ('214390', '경보제약')"
     ]
    },
    {
     "name": "stdout",
     "output_type": "stream",
     "text": [
      "\rReading Comp news ('012610', '경인양행')"
     ]
    },
    {
     "name": "stdout",
     "output_type": "stream",
     "text": [
      "\rReading Comp news ('009140', '경인전자')"
     ]
    },
    {
     "name": "stdout",
     "output_type": "stream",
     "text": [
      "\rReading Comp news ('024910', '경창산업')"
     ]
    },
    {
     "name": "stdout",
     "output_type": "stream",
     "text": [
      "\rReading Comp news ('013580', '계룡건설')"
     ]
    },
    {
     "name": "stdout",
     "output_type": "stream",
     "text": [
      "\rReading Comp news ('012200', '계양전기')"
     ]
    },
    {
     "name": "stdout",
     "output_type": "stream",
     "text": [
      "\rReading Comp news ('012205', '계양전기우')"
     ]
    },
    {
     "name": "stdout",
     "output_type": "stream",
     "text": [
      "\rReading Comp news ('004200', '고려개발')"
     ]
    },
    {
     "name": "stdout",
     "output_type": "stream",
     "text": [
      "\rReading Comp news ('002140', '고려산업')"
     ]
    },
    {
     "name": "stdout",
     "output_type": "stream",
     "text": [
      "\rReading Comp news ('198440', '고려시멘트')"
     ]
    },
    {
     "name": "stdout",
     "output_type": "stream",
     "text": [
      "\rReading Comp news ('049720', '고려신용정보')"
     ]
    },
    {
     "name": "stdout",
     "output_type": "stream",
     "text": [
      "\rReading Comp news ('010130', '고려아연')"
     ]
    },
    {
     "name": "stdout",
     "output_type": "stream",
     "text": [
      "\rReading Comp news ('002240', '고려제강')"
     ]
    },
    {
     "name": "stdout",
     "output_type": "stream",
     "text": [
      "\rReading Comp news ('014570', '고려제약')"
     ]
    },
    {
     "name": "stdout",
     "output_type": "stream",
     "text": [
      "\rReading Comp news ('098460', '고영')"
     ]
    },
    {
     "name": "stdout",
     "output_type": "stream",
     "text": [
      "\rReading Comp news ('038530', '골드퍼시픽')"
     ]
    },
    {
     "name": "stdout",
     "output_type": "stream",
     "text": [
      "\rReading Comp news ('227950', '골든브릿지제4호스팩')"
     ]
    },
    {
     "name": "stdout",
     "output_type": "stream",
     "text": [
      "\rReading Comp news ('001290', '골든브릿지증권')"
     ]
    },
    {
     "name": "stdout",
     "output_type": "stream",
     "text": [
      "\rReading Comp news ('900280', '골든센츄리')"
     ]
    },
    {
     "name": "stdout",
     "output_type": "stream",
     "text": [
      "\rReading Comp news ('215000', '골프존')"
     ]
    },
    {
     "name": "stdout",
     "output_type": "stream",
     "text": [
      "\rReading Comp news ('121440', '골프존뉴딘홀딩스')"
     ]
    },
    {
     "name": "stdout",
     "output_type": "stream",
     "text": [
      "\rReading Comp news ('076340', '관악산업')"
     ]
    },
    {
     "name": "stdout",
     "output_type": "stream",
     "text": [
      "\rReading Comp news ('009290', '광동제약')"
     ]
    },
    {
     "name": "stdout",
     "output_type": "stream",
     "text": [
      "\rReading Comp news ('014200', '광림')"
     ]
    },
    {
     "name": "stdout",
     "output_type": "stream",
     "text": [
      "\rReading Comp news ('017040', '광명전기')"
     ]
    },
    {
     "name": "stdout",
     "output_type": "stream",
     "text": [
      "\rReading Comp news ('017900', '광전자')"
     ]
    },
    {
     "name": "stdout",
     "output_type": "stream",
     "text": [
      "\rReading Comp news ('037710', '광주신세계')"
     ]
    },
    {
     "name": "stdout",
     "output_type": "stream",
     "text": [
      "\rReading Comp news ('192530', '광주은행')"
     ]
    },
    {
     "name": "stdout",
     "output_type": "stream",
     "text": [
      "\rReading Comp news ('026910', '광진실업')"
     ]
    },
    {
     "name": "stdout",
     "output_type": "stream",
     "text": [
      "\rReading Comp news ('090150', '광진윈텍')"
     ]
    },
    {
     "name": "stdout",
     "output_type": "stream",
     "text": [
      "\rReading Comp news ('267320', '교보7호스팩')"
     ]
    },
    {
     "name": "stdout",
     "output_type": "stream",
     "text": [
      "\rReading Comp news ('242040', '교보비엔케이스팩')"
     ]
    },
    {
     "name": "stdout",
     "output_type": "stream",
     "text": [
      "\rReading Comp news ('030610', '교보증권')"
     ]
    },
    {
     "name": "stdout",
     "output_type": "stream",
     "text": [
      "\rReading Comp news ('223220', '구름게임즈앤컴퍼니')"
     ]
    },
    {
     "name": "stdout",
     "output_type": "stream",
     "text": [
      "\rReading Comp news ('053270', '구영테크')"
     ]
    },
    {
     "name": "stdout",
     "output_type": "stream",
     "text": [
      "\rReading Comp news ('007690', '국도화학')"
     ]
    },
    {
     "name": "stdout",
     "output_type": "stream",
     "text": [
      "\rReading Comp news ('005320', '국동')"
     ]
    },
    {
     "name": "stdout",
     "output_type": "stream",
     "text": [
      "\rReading Comp news ('001140', '국보')"
     ]
    },
    {
     "name": "stdout",
     "output_type": "stream",
     "text": [
      "\rReading Comp news ('066620', '국보디자인')"
     ]
    },
    {
     "name": "stdout",
     "output_type": "stream",
     "text": [
      "\rReading Comp news ('043650', '국순당')"
     ]
    },
    {
     "name": "stdout",
     "output_type": "stream",
     "text": [
      "\rReading Comp news ('006050', '국영지앤엠')"
     ]
    },
    {
     "name": "stdout",
     "output_type": "stream",
     "text": [
      "\rReading Comp news ('060480', '국일신동')"
     ]
    },
    {
     "name": "stdout",
     "output_type": "stream",
     "text": [
      "\rReading Comp news ('078130', '국일제지')"
     ]
    },
    {
     "name": "stdout",
     "output_type": "stream",
     "text": [
      "\rReading Comp news ('002720', '국제약품')"
     ]
    },
    {
     "name": "stdout",
     "output_type": "stream",
     "text": [
      "\rReading Comp news ('243870', '굿센')"
     ]
    },
    {
     "name": "stdout",
     "output_type": "stream",
     "text": [
      "\rReading Comp news ('019010', '그랜드백화점')"
     ]
    },
    {
     "name": "stdout",
     "output_type": "stream",
     "text": [
      "\rReading Comp news ('083420', '그린케미칼')"
     ]
    },
    {
     "name": "stdout",
     "output_type": "stream",
     "text": [
      "\rReading Comp news ('186230', '그린플러스')"
     ]
    },
    {
     "name": "stdout",
     "output_type": "stream",
     "text": [
      "\rReading Comp news ('014530', '극동유화')"
     ]
    },
    {
     "name": "stdout",
     "output_type": "stream",
     "text": [
      "\rReading Comp news ('272420', '극동자동화')"
     ]
    },
    {
     "name": "stdout",
     "output_type": "stream",
     "text": [
      "\rReading Comp news ('900070', '글로벌에스엠')"
     ]
    },
    {
     "name": "stdout",
     "output_type": "stream",
     "text": [
      "\rReading Comp news ('204620', '글로벌텍스프리')"
     ]
    },
    {
     "name": "stdout",
     "output_type": "stream",
     "text": [
      "\rReading Comp news ('019660', '글로본')"
     ]
    },
    {
     "name": "stdout",
     "output_type": "stream",
     "text": [
      "\rReading Comp news ('014280', '금강공업')"
     ]
    },
    {
     "name": "stdout",
     "output_type": "stream",
     "text": [
      "\rReading Comp news ('014285', '금강공업우')"
     ]
    },
    {
     "name": "stdout",
     "output_type": "stream",
     "text": [
      "\rReading Comp news ('053260', '금강철강')"
     ]
    },
    {
     "name": "stdout",
     "output_type": "stream",
     "text": [
      "\rReading Comp news ('008870', '금비')"
     ]
    },
    {
     "name": "stdout",
     "output_type": "stream",
     "text": [
      "\rReading Comp news ('001570', '금양')"
     ]
    },
    {
     "name": "stdout",
     "output_type": "stream",
     "text": [
      "\rReading Comp news ('002990', '금호산업')"
     ]
    },
    {
     "name": "stdout",
     "output_type": "stream",
     "text": [
      "\rReading Comp news ('002995', '금호산업우')"
     ]
    },
    {
     "name": "stdout",
     "output_type": "stream",
     "text": [
      "\rReading Comp news ('011780', '금호석유')"
     ]
    },
    {
     "name": "stdout",
     "output_type": "stream",
     "text": [
      "\rReading Comp news ('011785', '금호석유우')"
     ]
    },
    {
     "name": "stdout",
     "output_type": "stream",
     "text": [
      "\rReading Comp news ('214330', '금호에이치티')"
     ]
    },
    {
     "name": "stdout",
     "output_type": "stream",
     "text": [
      "\rReading Comp news ('001210', '금호전기')"
     ]
    },
    {
     "name": "stdout",
     "output_type": "stream",
     "text": [
      "\rReading Comp news ('073240', '금호타이어')"
     ]
    },
    {
     "name": "stdout",
     "output_type": "stream",
     "text": [
      "\rReading Comp news ('036190', '금화피에스시')"
     ]
    },
    {
     "name": "stdout",
     "output_type": "stream",
     "text": [
      "\rReading Comp news ('049080', '기가레인')"
     ]
    },
    {
     "name": "stdout",
     "output_type": "stream",
     "text": [
      "\rReading Comp news ('035460', '기산텔레콤')"
     ]
    },
    {
     "name": "stdout",
     "output_type": "stream",
     "text": [
      "\rReading Comp news ('092440', '기신정기')"
     ]
    },
    {
     "name": "stdout",
     "output_type": "stream",
     "text": [
      "\rReading Comp news ('000270', '기아차')"
     ]
    },
    {
     "name": "stdout",
     "output_type": "stream",
     "text": [
      "\rReading Comp news ('024110', '기업은행')"
     ]
    },
    {
     "name": "stdout",
     "output_type": "stream",
     "text": [
      "\rReading Comp news ('013700', '까뮤이앤씨')"
     ]
    },
    {
     "name": "stdout",
     "output_type": "stream",
     "text": [
      "\rReading Comp news ('004540', '깨끗한나라')"
     ]
    },
    {
     "name": "stdout",
     "output_type": "stream",
     "text": [
      "\rReading Comp news ('004545', '깨끗한나라우')"
     ]
    },
    {
     "name": "stdout",
     "output_type": "stream",
     "text": [
      "\rReading Comp news ('187790', '나노')"
     ]
    },
    {
     "name": "stdout",
     "output_type": "stream",
     "text": [
      "\rReading Comp news ('074610', '나노메딕스')"
     ]
    },
    {
     "name": "stdout",
     "output_type": "stream",
     "text": [
      "\rReading Comp news ('151910', '나노스')"
     ]
    },
    {
     "name": "stdout",
     "output_type": "stream",
     "text": [
      "\rReading Comp news ('121600', '나노신소재')"
     ]
    },
    {
     "name": "stdout",
     "output_type": "stream",
     "text": [
      "\rReading Comp news ('039860', '나노엔텍')"
     ]
    },
    {
     "name": "stdout",
     "output_type": "stream",
     "text": [
      "\rReading Comp news ('091970', '나노캠텍')"
     ]
    },
    {
     "name": "stdout",
     "output_type": "stream",
     "text": [
      "\rReading Comp news ('244880', '나눔테크')"
     ]
    },
    {
     "name": "stdout",
     "output_type": "stream",
     "text": [
      "\rReading Comp news ('051490', '나라엠앤디')"
     ]
    },
    {
     "name": "stdout",
     "output_type": "stream",
     "text": [
      "\rReading Comp news ('190510', '나무가')"
     ]
    },
    {
     "name": "stdout",
     "output_type": "stream",
     "text": [
      "\rReading Comp news ('167380', '나무기술')"
     ]
    },
    {
     "name": "stdout",
     "output_type": "stream",
     "text": [
      "\rReading Comp news ('089600', '나스미디어')"
     ]
    },
    {
     "name": "stdout",
     "output_type": "stream",
     "text": [
      "\rReading Comp news ('138610', '나이벡')"
     ]
    },
    {
     "name": "stdout",
     "output_type": "stream",
     "text": [
      "\rReading Comp news ('130580', '나이스디앤비')"
     ]
    },
    {
     "name": "stdout",
     "output_type": "stream",
     "text": [
      "\rReading Comp news ('036800', '나이스정보통신')"
     ]
    },
    {
     "name": "stdout",
     "output_type": "stream",
     "text": [
      "\rReading Comp news ('001260', '남광토건')"
     ]
    },
    {
     "name": "stdout",
     "output_type": "stream",
     "text": [
      "\rReading Comp news ('008350', '남선알미늄')"
     ]
    },
    {
     "name": "stdout",
     "output_type": "stream",
     "text": [
      "\rReading Comp news ('008355', '남선알미우')"
     ]
    },
    {
     "name": "stdout",
     "output_type": "stream",
     "text": [
      "\rReading Comp news ('004270', '남성')"
     ]
    },
    {
     "name": "stdout",
     "output_type": "stream",
     "text": [
      "\rReading Comp news ('003920', '남양유업')"
     ]
    },
    {
     "name": "stdout",
     "output_type": "stream",
     "text": [
      "\rReading Comp news ('003925', '남양유업우')"
     ]
    },
    {
     "name": "stdout",
     "output_type": "stream",
     "text": [
      "\rReading Comp news ('002070', '남영비비안')"
     ]
    },
    {
     "name": "stdout",
     "output_type": "stream",
     "text": [
      "\rReading Comp news ('025860', '남해화학')"
     ]
    },
    {
     "name": "stdout",
     "output_type": "stream",
     "text": [
      "\rReading Comp news ('091590', '남화토건')"
     ]
    },
    {
     "name": "stdout",
     "output_type": "stream",
     "text": [
      "\rReading Comp news ('168330', '내츄럴엔도텍')"
     ]
    },
    {
     "name": "stdout",
     "output_type": "stream",
     "text": [
      "\rReading Comp news ('072770', '네오디안테크놀로지')"
     ]
    },
    {
     "name": "stdout",
     "output_type": "stream",
     "text": [
      "\rReading Comp news ('212560', '네오오토')"
     ]
    },
    {
     "name": "stdout",
     "output_type": "stream",
     "text": [
      "\rReading Comp news ('095660', '네오위즈')"
     ]
    },
    {
     "name": "stdout",
     "output_type": "stream",
     "text": [
      "\rReading Comp news ('042420', '네오위즈홀딩스')"
     ]
    },
    {
     "name": "stdout",
     "output_type": "stream",
     "text": [
      "\rReading Comp news ('085910', '네오티스')"
     ]
    },
    {
     "name": "stdout",
     "output_type": "stream",
     "text": [
      "\rReading Comp news ('092730', '네오팜')"
     ]
    },
    {
     "name": "stdout",
     "output_type": "stream",
     "text": [
      "\rReading Comp news ('153460', '네이블')"
     ]
    },
    {
     "name": "stdout",
     "output_type": "stream",
     "text": [
      "\rReading Comp news ('007390', '네이처셀')"
     ]
    },
    {
     "name": "stdout",
     "output_type": "stream",
     "text": [
      "\rReading Comp news ('086220', '네추럴FNP')"
     ]
    },
    {
     "name": "stdout",
     "output_type": "stream",
     "text": [
      "\rReading Comp news ('033640', '네패스')"
     ]
    },
    {
     "name": "stdout",
     "output_type": "stream",
     "text": [
      "\rReading Comp news ('087730', '네패스신소재')"
     ]
    },
    {
     "name": "stdout",
     "output_type": "stream",
     "text": [
      "\rReading Comp news ('005720', '넥센')"
     ]
    },
    {
     "name": "stdout",
     "output_type": "stream",
     "text": [
      "\rReading Comp news ('005725', '넥센우')"
     ]
    },
    {
     "name": "stdout",
     "output_type": "stream",
     "text": [
      "\rReading Comp news ('002350', '넥센타이어')"
     ]
    },
    {
     "name": "stdout",
     "output_type": "stream",
     "text": [
      "\rReading Comp news ('002355', '넥센타이어1우B')"
     ]
    },
    {
     "name": "stdout",
     "output_type": "stream",
     "text": [
      "\rReading Comp news ('073070', '넥센테크')"
     ]
    },
    {
     "name": "stdout",
     "output_type": "stream",
     "text": [
      "\rReading Comp news ('081970', '넥스지')"
     ]
    },
    {
     "name": "stdout",
     "output_type": "stream",
     "text": [
      "\rReading Comp news ('089140', '넥스턴')"
     ]
    },
    {
     "name": "stdout",
     "output_type": "stream",
     "text": [
      "\rReading Comp news ('065170', '넥스트BT')"
     ]
    },
    {
     "name": "stdout",
     "output_type": "stream",
     "text": [
      "\rReading Comp news ('139670', '넥스트리밍')"
     ]
    },
    {
     "name": "stdout",
     "output_type": "stream",
     "text": [
      "\rReading Comp news ('137940', '넥스트아이')"
     ]
    },
    {
     "name": "stdout",
     "output_type": "stream",
     "text": [
      "\rReading Comp news ('092600', '넥스트칩')"
     ]
    },
    {
     "name": "stdout",
     "output_type": "stream",
     "text": [
      "\rReading Comp news ('041140', '넥슨지티')"
     ]
    },
    {
     "name": "stdout",
     "output_type": "stream",
     "text": [
      "\rReading Comp news ('217270', '넵튠')"
     ]
    },
    {
     "name": "stdout",
     "output_type": "stream",
     "text": [
      "\rReading Comp news ('225570', '넷게임즈')"
     ]
    },
    {
     "name": "stdout",
     "output_type": "stream",
     "text": [
      "\rReading Comp news ('251270', '넷마블')"
     ]
    },
    {
     "name": "stdout",
     "output_type": "stream",
     "text": [
      "\rReading Comp news ('090350', '노루페인트')"
     ]
    },
    {
     "name": "stdout",
     "output_type": "stream",
     "text": [
      "\rReading Comp news ('090355', '노루페인트우')"
     ]
    },
    {
     "name": "stdout",
     "output_type": "stream",
     "text": [
      "\rReading Comp news ('000320', '노루홀딩스')"
     ]
    },
    {
     "name": "stdout",
     "output_type": "stream",
     "text": [
      "\rReading Comp news ('000325', '노루홀딩스우')"
     ]
    },
    {
     "name": "stdout",
     "output_type": "stream",
     "text": [
      "\rReading Comp news ('229500', '노브메타파마')"
     ]
    },
    {
     "name": "stdout",
     "output_type": "stream",
     "text": [
      "\rReading Comp news ('006280', '녹십자')"
     ]
    },
    {
     "name": "stdout",
     "output_type": "stream",
     "text": [
      "\rReading Comp news ('144510', '녹십자랩셀')"
     ]
    },
    {
     "name": "stdout",
     "output_type": "stream",
     "text": [
      "\rReading Comp news ('031390', '녹십자셀')"
     ]
    },
    {
     "name": "stdout",
     "output_type": "stream",
     "text": [
      "\rReading Comp news ('142280', '녹십자엠에스')"
     ]
    },
    {
     "name": "stdout",
     "output_type": "stream",
     "text": [
      "\rReading Comp news ('005250', '녹십자홀딩스')"
     ]
    },
    {
     "name": "stdout",
     "output_type": "stream",
     "text": [
      "\rReading Comp news ('005257', '녹십자홀딩스2우')"
     ]
    },
    {
     "name": "stdout",
     "output_type": "stream",
     "text": [
      "\rReading Comp news ('065560', '녹원씨엔아이')"
     ]
    },
    {
     "name": "stdout",
     "output_type": "stream",
     "text": [
      "\rReading Comp news ('004370', '농심')"
     ]
    },
    {
     "name": "stdout",
     "output_type": "stream",
     "text": [
      "\rReading Comp news ('072710', '농심홀딩스')"
     ]
    },
    {
     "name": "stdout",
     "output_type": "stream",
     "text": [
      "\rReading Comp news ('054050', '농우바이오')"
     ]
    },
    {
     "name": "stdout",
     "output_type": "stream",
     "text": [
      "\rReading Comp news ('040160', '누리텔레콤')"
     ]
    },
    {
     "name": "stdout",
     "output_type": "stream",
     "text": [
      "\rReading Comp news ('069140', '누리플랜')"
     ]
    },
    {
     "name": "stdout",
     "output_type": "stream",
     "text": [
      "\rReading Comp news ('126870', '뉴로스')"
     ]
    },
    {
     "name": "stdout",
     "output_type": "stream",
     "text": [
      "\rReading Comp news ('060260', '뉴보텍')"
     ]
    },
    {
     "name": "stdout",
     "output_type": "stream",
     "text": [
      "\rReading Comp news ('012340', '뉴인텍')"
     ]
    },
    {
     "name": "stdout",
     "output_type": "stream",
     "text": [
      "\rReading Comp news ('222040', '뉴트리바이오텍')"
     ]
    },
    {
     "name": "stdout",
     "output_type": "stream",
     "text": [
      "\rReading Comp news ('144960', '뉴파워프라즈마')"
     ]
    },
    {
     "name": "stdout",
     "output_type": "stream",
     "text": [
      "\rReading Comp news ('900100', '뉴프라이드')"
     ]
    },
    {
     "name": "stdout",
     "output_type": "stream",
     "text": [
      "\rReading Comp news ('085670', '뉴프렉스')"
     ]
    },
    {
     "name": "stdout",
     "output_type": "stream",
     "text": [
      "\rReading Comp news ('119860', '다나와')"
     ]
    },
    {
     "name": "stdout",
     "output_type": "stream",
     "text": [
      "\rReading Comp news ('064260', '다날')"
     ]
    },
    {
     "name": "stdout",
     "output_type": "stream",
     "text": [
      "\rReading Comp news ('093640', '다믈멀티미디어')"
     ]
    },
    {
     "name": "stdout",
     "output_type": "stream",
     "text": [
      "\rReading Comp news ('039560', '다산네트웍스')"
     ]
    },
    {
     "name": "stdout",
     "output_type": "stream",
     "text": [
      "\rReading Comp news ('058730', '다스코')"
     ]
    },
    {
     "name": "stdout",
     "output_type": "stream",
     "text": [
      "\rReading Comp news ('023590', '다우기술')"
     ]
    },
    {
     "name": "stdout",
     "output_type": "stream",
     "text": [
      "\rReading Comp news ('032190', '다우데이타')"
     ]
    },
    {
     "name": "stdout",
     "output_type": "stream",
     "text": [
      "\rReading Comp news ('068240', '다원시스')"
     ]
    },
    {
     "name": "stdout",
     "output_type": "stream",
     "text": [
      "\rReading Comp news ('271850', '다이오진')"
     ]
    },
    {
     "name": "stdout",
     "output_type": "stream",
     "text": [
      "\rReading Comp news ('019680', '대교')"
     ]
    },
    {
     "name": "stdout",
     "output_type": "stream",
     "text": [
      "\rReading Comp news ('019685', '대교우B')"
     ]
    },
    {
     "name": "stdout",
     "output_type": "stream",
     "text": [
      "\rReading Comp news ('006370', '대구백화점')"
     ]
    },
    {
     "name": "stdout",
     "output_type": "stream",
     "text": [
      "\rReading Comp news ('004130', '대덕GDS')"
     ]
    },
    {
     "name": "stdout",
     "output_type": "stream",
     "text": [
      "\rReading Comp news ('004135', '대덕GDS우')"
     ]
    },
    {
     "name": "stdout",
     "output_type": "stream",
     "text": [
      "\rReading Comp news ('008060', '대덕전자')"
     ]
    },
    {
     "name": "stdout",
     "output_type": "stream",
     "text": [
      "\rReading Comp news ('178600', '대동고려삼')"
     ]
    },
    {
     "name": "stdout",
     "output_type": "stream",
     "text": [
      "\rReading Comp news ('000490', '대동공업')"
     ]
    },
    {
     "name": "stdout",
     "output_type": "stream",
     "text": [
      "\rReading Comp news ('020400', '대동금속')"
     ]
    },
    {
     "name": "stdout",
     "output_type": "stream",
     "text": [
      "\rReading Comp news ('008830', '대동기어')"
     ]
    },
    {
     "name": "stdout",
     "output_type": "stream",
     "text": [
      "\rReading Comp news ('048470', '대동스틸')"
     ]
    },
    {
     "name": "stdout",
     "output_type": "stream",
     "text": [
      "\rReading Comp news ('008110', '대동전자')"
     ]
    },
    {
     "name": "stdout",
     "output_type": "stream",
     "text": [
      "\rReading Comp news ('004780', '대륙제관')"
     ]
    },
    {
     "name": "stdout",
     "output_type": "stream",
     "text": [
      "\rReading Comp news ('005750', '대림B&Co')"
     ]
    },
    {
     "name": "stdout",
     "output_type": "stream",
     "text": [
      "\rReading Comp news ('000210', '대림산업')"
     ]
    },
    {
     "name": "stdout",
     "output_type": "stream",
     "text": [
      "\rReading Comp news ('000215', '대림산업우')"
     ]
    },
    {
     "name": "stdout",
     "output_type": "stream",
     "text": [
      "\rReading Comp news ('004440', '대림씨엔에스')"
     ]
    },
    {
     "name": "stdout",
     "output_type": "stream",
     "text": [
      "\rReading Comp news ('017650', '대림제지')"
     ]
    },
    {
     "name": "stdout",
     "output_type": "stream",
     "text": [
      "\rReading Comp news ('006570', '대림통상')"
     ]
    },
    {
     "name": "stdout",
     "output_type": "stream",
     "text": [
      "\rReading Comp news ('007720', '대명코퍼레이션')"
     ]
    },
    {
     "name": "stdout",
     "output_type": "stream",
     "text": [
      "\rReading Comp news ('078140', '대봉엘에스')"
     ]
    },
    {
     "name": "stdout",
     "output_type": "stream",
     "text": [
      "\rReading Comp news ('001680', '대상')"
     ]
    },
    {
     "name": "stdout",
     "output_type": "stream",
     "text": [
      "\rReading Comp news ('001685', '대상우')"
     ]
    },
    {
     "name": "stdout",
     "output_type": "stream",
     "text": [
      "\rReading Comp news ('084690', '대상홀딩스')"
     ]
    },
    {
     "name": "stdout",
     "output_type": "stream",
     "text": [
      "\rReading Comp news ('084695', '대상홀딩스우')"
     ]
    },
    {
     "name": "stdout",
     "output_type": "stream",
     "text": [
      "\rReading Comp news ('036480', '대성미생물')"
     ]
    },
    {
     "name": "stdout",
     "output_type": "stream",
     "text": [
      "\rReading Comp news ('128820', '대성산업')"
     ]
    },
    {
     "name": "stdout",
     "output_type": "stream",
     "text": [
      "\rReading Comp news ('117580', '대성에너지')"
     ]
    },
    {
     "name": "stdout",
     "output_type": "stream",
     "text": [
      "\rReading Comp news ('025440', '대성엘텍')"
     ]
    },
    {
     "name": "stdout",
     "output_type": "stream",
     "text": [
      "\rReading Comp news ('027830', '대성창투')"
     ]
    },
    {
     "name": "stdout",
     "output_type": "stream",
     "text": [
      "\rReading Comp news ('104040', '대성파인텍')"
     ]
    },
    {
     "name": "stdout",
     "output_type": "stream",
     "text": [
      "\rReading Comp news ('016710', '대성홀딩스')"
     ]
    },
    {
     "name": "stdout",
     "output_type": "stream",
     "text": [
      "\rReading Comp news ('253590', '대신밸런스제3호스팩')"
     ]
    },
    {
     "name": "stdout",
     "output_type": "stream",
     "text": [
      "\rReading Comp news ('262830', '대신밸런스제4호스팩')"
     ]
    },
    {
     "name": "stdout",
     "output_type": "stream",
     "text": [
      "\rReading Comp news ('020180', '대신정보통신')"
     ]
    },
    {
     "name": "stdout",
     "output_type": "stream",
     "text": [
      "\rReading Comp news ('003540', '대신증권')"
     ]
    },
    {
     "name": "stdout",
     "output_type": "stream",
     "text": [
      "\rReading Comp news ('003547', '대신증권2우B')"
     ]
    },
    {
     "name": "stdout",
     "output_type": "stream",
     "text": [
      "\rReading Comp news ('003545', '대신증권우')"
     ]
    },
    {
     "name": "stdout",
     "output_type": "stream",
     "text": [
      "\rReading Comp news ('045390', '대아티아이')"
     ]
    },
    {
     "name": "stdout",
     "output_type": "stream",
     "text": [
      "\rReading Comp news ('009190', '대양금속')"
     ]
    },
    {
     "name": "stdout",
     "output_type": "stream",
     "text": [
      "\rReading Comp news ('108380', '대양전기공업')"
     ]
    },
    {
     "name": "stdout",
     "output_type": "stream",
     "text": [
      "\rReading Comp news ('006580', '대양제지')"
     ]
    },
    {
     "name": "stdout",
     "output_type": "stream",
     "text": [
      "\rReading Comp news ('014160', '대영포장')"
     ]
    },
    {
     "name": "stdout",
     "output_type": "stream",
     "text": [
      "\rReading Comp news ('047040', '대우건설')"
     ]
    },
    {
     "name": "stdout",
     "output_type": "stream",
     "text": [
      "\rReading Comp news ('009320', '대우부품')"
     ]
    },
    {
     "name": "stdout",
     "output_type": "stream",
     "text": [
      "\rReading Comp news ('042660', '대우조선해양')"
     ]
    },
    {
     "name": "stdout",
     "output_type": "stream",
     "text": [
      "\rReading Comp news ('003090', '대웅')"
     ]
    },
    {
     "name": "stdout",
     "output_type": "stream",
     "text": [
      "\rReading Comp news ('069620', '대웅제약')"
     ]
    },
    {
     "name": "stdout",
     "output_type": "stream",
     "text": [
      "\rReading Comp news ('007680', '대원')"
     ]
    },
    {
     "name": "stdout",
     "output_type": "stream",
     "text": [
      "\rReading Comp news ('000430', '대원강업')"
     ]
    },
    {
     "name": "stdout",
     "output_type": "stream",
     "text": [
      "\rReading Comp news ('048910', '대원미디어')"
     ]
    },
    {
     "name": "stdout",
     "output_type": "stream",
     "text": [
      "\rReading Comp news ('005710', '대원산업')"
     ]
    },
    {
     "name": "stdout",
     "output_type": "stream",
     "text": [
      "\rReading Comp news ('006340', '대원전선')"
     ]
    },
    {
     "name": "stdout",
     "output_type": "stream",
     "text": [
      "\rReading Comp news ('006345', '대원전선우')"
     ]
    },
    {
     "name": "stdout",
     "output_type": "stream",
     "text": [
      "\rReading Comp news ('003220', '대원제약')"
     ]
    },
    {
     "name": "stdout",
     "output_type": "stream",
     "text": [
      "\rReading Comp news ('024890', '대원화성')"
     ]
    },
    {
     "name": "stdout",
     "output_type": "stream",
     "text": [
      "\rReading Comp news ('002880', '대유에이텍')"
     ]
    },
    {
     "name": "stdout",
     "output_type": "stream",
     "text": [
      "\rReading Comp news ('071460', '대유위니아')"
     ]
    },
    {
     "name": "stdout",
     "output_type": "stream",
     "text": [
      "\rReading Comp news ('000300', '대유플러스')"
     ]
    },
    {
     "name": "stdout",
     "output_type": "stream",
     "text": [
      "\rReading Comp news ('120240', '대정화금')"
     ]
    },
    {
     "name": "stdout",
     "output_type": "stream",
     "text": [
      "\rReading Comp news ('003310', '대주산업')"
     ]
    },
    {
     "name": "stdout",
     "output_type": "stream",
     "text": [
      "\rReading Comp news ('114920', '대주이엔티')"
     ]
    },
    {
     "name": "stdout",
     "output_type": "stream",
     "text": [
      "\rReading Comp news ('078600', '대주전자재료')"
     ]
    },
    {
     "name": "stdout",
     "output_type": "stream",
     "text": [
      "\rReading Comp news ('065690', '대진디엠피')"
     ]
    },
    {
     "name": "stdout",
     "output_type": "stream",
     "text": [
      "\rReading Comp news ('012800', '대창')"
     ]
    },
    {
     "name": "stdout",
     "output_type": "stream",
     "text": [
      "\rReading Comp news ('015230', '대창단조')"
     ]
    },
    {
     "name": "stdout",
     "output_type": "stream",
     "text": [
      "\rReading Comp news ('096350', '대창솔루션')"
     ]
    },
    {
     "name": "stdout",
     "output_type": "stream",
     "text": [
      "\rReading Comp news ('140520', '대창스틸')"
     ]
    },
    {
     "name": "stdout",
     "output_type": "stream",
     "text": [
      "\rReading Comp news ('131220', '대한과학')"
     ]
    },
    {
     "name": "stdout",
     "output_type": "stream",
     "text": [
      "\rReading Comp news ('010170', '대한광통신')"
     ]
    },
    {
     "name": "stdout",
     "output_type": "stream",
     "text": [
      "\rReading Comp news ('054670', '대한뉴팜')"
     ]
    },
    {
     "name": "stdout",
     "output_type": "stream",
     "text": [
      "\rReading Comp news ('001070', '대한방직')"
     ]
    },
    {
     "name": "stdout",
     "output_type": "stream",
     "text": [
      "\rReading Comp news ('023910', '대한약품')"
     ]
    },
    {
     "name": "stdout",
     "output_type": "stream",
     "text": [
      "\rReading Comp news ('006650', '대한유화')"
     ]
    },
    {
     "name": "stdout",
     "output_type": "stream",
     "text": [
      "\rReading Comp news ('001440', '대한전선')"
     ]
    },
    {
     "name": "stdout",
     "output_type": "stream",
     "text": [
      "\rReading Comp news ('084010', '대한제강')"
     ]
    },
    {
     "name": "stdout",
     "output_type": "stream",
     "text": [
      "\rReading Comp news ('001790', '대한제당')"
     ]
    },
    {
     "name": "stdout",
     "output_type": "stream",
     "text": [
      "\rReading Comp news ('001799', '대한제당3우B')"
     ]
    },
    {
     "name": "stdout",
     "output_type": "stream",
     "text": [
      "\rReading Comp news ('001795', '대한제당우')"
     ]
    },
    {
     "name": "stdout",
     "output_type": "stream",
     "text": [
      "\rReading Comp news ('001130', '대한제분')"
     ]
    },
    {
     "name": "stdout",
     "output_type": "stream",
     "text": [
      "\rReading Comp news ('003490', '대한항공')"
     ]
    },
    {
     "name": "stdout",
     "output_type": "stream",
     "text": [
      "\rReading Comp news ('003495', '대한항공우')"
     ]
    },
    {
     "name": "stdout",
     "output_type": "stream",
     "text": [
      "\rReading Comp news ('005880', '대한해운')"
     ]
    },
    {
     "name": "stdout",
     "output_type": "stream",
     "text": [
      "\rReading Comp news ('003830', '대한화섬')"
     ]
    },
    {
     "name": "stdout",
     "output_type": "stream",
     "text": [
      "\rReading Comp news ('016090', '대현')"
     ]
    },
    {
     "name": "stdout",
     "output_type": "stream",
     "text": [
      "\rReading Comp news ('069460', '대호에이엘')"
     ]
    },
    {
     "name": "stdout",
     "output_type": "stream",
     "text": [
      "\rReading Comp news ('021040', '대호피앤씨')"
     ]
    },
    {
     "name": "stdout",
     "output_type": "stream",
     "text": [
      "\rReading Comp news ('021045', '대호피앤씨우')"
     ]
    },
    {
     "name": "stdout",
     "output_type": "stream",
     "text": [
      "\rReading Comp news ('067080', '대화제약')"
     ]
    },
    {
     "name": "stdout",
     "output_type": "stream",
     "text": [
      "\rReading Comp news ('192080', '더블유게임즈')"
     ]
    },
    {
     "name": "stdout",
     "output_type": "stream",
     "text": [
      "\rReading Comp news ('035290', '더블유에프엠')"
     ]
    },
    {
     "name": "stdout",
     "output_type": "stream",
     "text": [
      "\rReading Comp news ('012510', '더존비즈온')"
     ]
    },
    {
     "name": "stdout",
     "output_type": "stream",
     "text": [
      "\rReading Comp news ('213420', '덕산네오룩스')"
     ]
    },
    {
     "name": "stdout",
     "output_type": "stream",
     "text": [
      "\rReading Comp news ('077360', '덕산하이메탈')"
     ]
    },
    {
     "name": "stdout",
     "output_type": "stream",
     "text": [
      "\rReading Comp news ('004830', '덕성')"
     ]
    },
    {
     "name": "stdout",
     "output_type": "stream",
     "text": [
      "\rReading Comp news ('004835', '덕성우')"
     ]
    },
    {
     "name": "stdout",
     "output_type": "stream",
     "text": [
      "\rReading Comp news ('090410', '덕신하우징')"
     ]
    },
    {
     "name": "stdout",
     "output_type": "stream",
     "text": [
      "\rReading Comp news ('024900', '덕양산업')"
     ]
    },
    {
     "name": "stdout",
     "output_type": "stream",
     "text": [
      "\rReading Comp news ('263600', '덕우전자')"
     ]
    },
    {
     "name": "stdout",
     "output_type": "stream",
     "text": [
      "\rReading Comp news ('194480', '데브시스터즈')"
     ]
    },
    {
     "name": "stdout",
     "output_type": "stream",
     "text": [
      "\rReading Comp news ('263800', '데이타솔루션')"
     ]
    },
    {
     "name": "stdout",
     "output_type": "stream",
     "text": [
      "\rReading Comp news ('199150', '데이터스트림즈')"
     ]
    },
    {
     "name": "stdout",
     "output_type": "stream",
     "text": [
      "\rReading Comp news ('139050', '데일리블록체인')"
     ]
    },
    {
     "name": "stdout",
     "output_type": "stream",
     "text": [
      "\rReading Comp news ('183410', '데카시스템')"
     ]
    },
    {
     "name": "stdout",
     "output_type": "stream",
     "text": [
      "\rReading Comp news ('017680', '데코앤이')"
     ]
    },
    {
     "name": "stdout",
     "output_type": "stream",
     "text": [
      "\rReading Comp news ('206560', '덱스터')"
     ]
    },
    {
     "name": "stdout",
     "output_type": "stream",
     "text": [
      "\rReading Comp news ('145720', '덴티움')"
     ]
    },
    {
     "name": "stdout",
     "output_type": "stream",
     "text": [
      "\rReading Comp news ('067990', '도이치모터스')"
     ]
    },
    {
     "name": "stdout",
     "output_type": "stream",
     "text": [
      "\rReading Comp news ('002150', '도화엔지니어링')"
     ]
    },
    {
     "name": "stdout",
     "output_type": "stream",
     "text": [
      "\rReading Comp news ('006620', '동구바이오제약')"
     ]
    },
    {
     "name": "stdout",
     "output_type": "stream",
     "text": [
      "\rReading Comp news ('100130', '동국S&C')"
     ]
    },
    {
     "name": "stdout",
     "output_type": "stream",
     "text": [
      "\rReading Comp news ('005160', '동국산업')"
     ]
    },
    {
     "name": "stdout",
     "output_type": "stream",
     "text": [
      "\rReading Comp news ('001620', '동국실업')"
     ]
    },
    {
     "name": "stdout",
     "output_type": "stream",
     "text": [
      "\rReading Comp news ('075970', '동국알앤에스')"
     ]
    },
    {
     "name": "stdout",
     "output_type": "stream",
     "text": [
      "\rReading Comp news ('001230', '동국제강')"
     ]
    },
    {
     "name": "stdout",
     "output_type": "stream",
     "text": [
      "\rReading Comp news ('086450', '동국제약')"
     ]
    },
    {
     "name": "stdout",
     "output_type": "stream",
     "text": [
      "\rReading Comp news ('023450', '동남합성')"
     ]
    },
    {
     "name": "stdout",
     "output_type": "stream",
     "text": [
      "\rReading Comp news ('004140', '동방')"
     ]
    },
    {
     "name": "stdout",
     "output_type": "stream",
     "text": [
      "\rReading Comp news ('099410', '동방선기')"
     ]
    },
    {
     "name": "stdout",
     "output_type": "stream",
     "text": [
      "\rReading Comp news ('007590', '동방아그로')"
     ]
    },
    {
     "name": "stdout",
     "output_type": "stream",
     "text": [
      "\rReading Comp news ('005960', '동부건설')"
     ]
    },
    {
     "name": "stdout",
     "output_type": "stream",
     "text": [
      "\rReading Comp news ('005965', '동부건설우')"
     ]
    },
    {
     "name": "stdout",
     "output_type": "stream",
     "text": [
      "\rReading Comp news ('226440', '동부스팩3호')"
     ]
    },
    {
     "name": "stdout",
     "output_type": "stream",
     "text": [
      "\rReading Comp news ('281740', '동부스팩5호')"
     ]
    },
    {
     "name": "stdout",
     "output_type": "stream",
     "text": [
      "\rReading Comp news ('230490', '동부제4호스팩')"
     ]
    },
    {
     "name": "stdout",
     "output_type": "stream",
     "text": [
      "\rReading Comp news ('016380', '동부제철')"
     ]
    },
    {
     "name": "stdout",
     "output_type": "stream",
     "text": [
      "\rReading Comp news ('016385', '동부제철우')"
     ]
    },
    {
     "name": "stdout",
     "output_type": "stream",
     "text": [
      "\rReading Comp news ('083370', '동북아12호')"
     ]
    },
    {
     "name": "stdout",
     "output_type": "stream",
     "text": [
      "\rReading Comp news ('083380', '동북아13호')"
     ]
    },
    {
     "name": "stdout",
     "output_type": "stream",
     "text": [
      "\rReading Comp news ('026960', '동서')"
     ]
    },
    {
     "name": "stdout",
     "output_type": "stream",
     "text": [
      "\rReading Comp news ('002210', '동성제약')"
     ]
    },
    {
     "name": "stdout",
     "output_type": "stream",
     "text": [
      "\rReading Comp news ('102260', '동성코퍼레이션')"
     ]
    },
    {
     "name": "stdout",
     "output_type": "stream",
     "text": [
      "\rReading Comp news ('033500', '동성화인텍')"
     ]
    },
    {
     "name": "stdout",
     "output_type": "stream",
     "text": [
      "\rReading Comp news ('005190', '동성화학')"
     ]
    },
    {
     "name": "stdout",
     "output_type": "stream",
     "text": [
      "\rReading Comp news ('025950', '동신건설')"
     ]
    },
    {
     "name": "stdout",
     "output_type": "stream",
     "text": [
      "\rReading Comp news ('000640', '동아쏘시오홀딩스')"
     ]
    },
    {
     "name": "stdout",
     "output_type": "stream",
     "text": [
      "\rReading Comp news ('170900', '동아에스티')"
     ]
    },
    {
     "name": "stdout",
     "output_type": "stream",
     "text": [
      "\rReading Comp news ('088130', '동아엘텍')"
     ]
    },
    {
     "name": "stdout",
     "output_type": "stream",
     "text": [
      "\rReading Comp news ('028100', '동아지질')"
     ]
    },
    {
     "name": "stdout",
     "output_type": "stream",
     "text": [
      "\rReading Comp news ('282690', '동아타이어')"
     ]
    },
    {
     "name": "stdout",
     "output_type": "stream",
     "text": [
      "\rReading Comp news ('041930', '동아화성')"
     ]
    },
    {
     "name": "stdout",
     "output_type": "stream",
     "text": [
      "\rReading Comp news ('001520', '동양')"
     ]
    },
    {
     "name": "stdout",
     "output_type": "stream",
     "text": [
      "\rReading Comp news ('001527', '동양2우B')"
     ]
    },
    {
     "name": "stdout",
     "output_type": "stream",
     "text": [
      "\rReading Comp news ('001529', '동양3우B')"
     ]
    },
    {
     "name": "stdout",
     "output_type": "stream",
     "text": [
      "\rReading Comp news ('084670', '동양고속')"
     ]
    },
    {
     "name": "stdout",
     "output_type": "stream",
     "text": [
      "\rReading Comp news ('030790', '동양네트웍스')"
     ]
    },
    {
     "name": "stdout",
     "output_type": "stream",
     "text": [
      "\rReading Comp news ('002900', '동양물산')"
     ]
    },
    {
     "name": "stdout",
     "output_type": "stream",
     "text": [
      "\rReading Comp news ('082640', '동양생명')"
     ]
    },
    {
     "name": "stdout",
     "output_type": "stream",
     "text": [
      "\rReading Comp news ('060380', '동양에스텍')"
     ]
    },
    {
     "name": "stdout",
     "output_type": "stream",
     "text": [
      "\rReading Comp news ('001525', '동양우')"
     ]
    },
    {
     "name": "stdout",
     "output_type": "stream",
     "text": [
      "\rReading Comp news ('079960', '동양이엔피')"
     ]
    },
    {
     "name": "stdout",
     "output_type": "stream",
     "text": [
      "\rReading Comp news ('008970', '동양철관')"
     ]
    },
    {
     "name": "stdout",
     "output_type": "stream",
     "text": [
      "\rReading Comp news ('228340', '동양파일')"
     ]
    },
    {
     "name": "stdout",
     "output_type": "stream",
     "text": [
      "\rReading Comp news ('092780', '동양피스톤')"
     ]
    },
    {
     "name": "stdout",
     "output_type": "stream",
     "text": [
      "\rReading Comp news ('104460', '동양피엔에프')"
     ]
    },
    {
     "name": "stdout",
     "output_type": "stream",
     "text": [
      "\rReading Comp news ('088910', '동우팜투테이블')"
     ]
    },
    {
     "name": "stdout",
     "output_type": "stream",
     "text": [
      "\rReading Comp news ('094170', '동운아나텍')"
     ]
    },
    {
     "name": "stdout",
     "output_type": "stream",
     "text": [
      "\rReading Comp news ('003580', '동원')"
     ]
    },
    {
     "name": "stdout",
     "output_type": "stream",
     "text": [
      "\rReading Comp news ('049770', '동원F&B')"
     ]
    },
    {
     "name": "stdout",
     "output_type": "stream",
     "text": [
      "\rReading Comp news ('013120', '동원개발')"
     ]
    },
    {
     "name": "stdout",
     "output_type": "stream",
     "text": [
      "\rReading Comp news ('018500', '동원금속')"
     ]
    },
    {
     "name": "stdout",
     "output_type": "stream",
     "text": [
      "\rReading Comp news ('006040', '동원산업')"
     ]
    },
    {
     "name": "stdout",
     "output_type": "stream",
     "text": [
      "\rReading Comp news ('030720', '동원수산')"
     ]
    },
    {
     "name": "stdout",
     "output_type": "stream",
     "text": [
      "\rReading Comp news ('014820', '동원시스템즈')"
     ]
    },
    {
     "name": "stdout",
     "output_type": "stream",
     "text": [
      "\rReading Comp news ('014825', '동원시스템즈우')"
     ]
    },
    {
     "name": "stdout",
     "output_type": "stream",
     "text": [
      "\rReading Comp news ('163560', '동일고무벨트')"
     ]
    },
    {
     "name": "stdout",
     "output_type": "stream",
     "text": [
      "\rReading Comp news ('109860', '동일금속')"
     ]
    },
    {
     "name": "stdout",
     "output_type": "stream",
     "text": [
      "\rReading Comp news ('032960', '동일기연')"
     ]
    },
    {
     "name": "stdout",
     "output_type": "stream",
     "text": [
      "\rReading Comp news ('001530', '동일방직')"
     ]
    },
    {
     "name": "stdout",
     "output_type": "stream",
     "text": [
      "\rReading Comp news ('004890', '동일산업')"
     ]
    },
    {
     "name": "stdout",
     "output_type": "stream",
     "text": [
      "\rReading Comp news ('002690', '동일제강')"
     ]
    },
    {
     "name": "stdout",
     "output_type": "stream",
     "text": [
      "\rReading Comp news ('023790', '동일철강')"
     ]
    },
    {
     "name": "stdout",
     "output_type": "stream",
     "text": [
      "\rReading Comp news ('005290', '동진쎄미켐')"
     ]
    },
    {
     "name": "stdout",
     "output_type": "stream",
     "text": [
      "\rReading Comp news ('025900', '동화기업')"
     ]
    },
    {
     "name": "stdout",
     "output_type": "stream",
     "text": [
      "\rReading Comp news ('000020', '동화약품')"
     ]
    },
    {
     "name": "stdout",
     "output_type": "stream",
     "text": [
      "\rReading Comp news ('000150', '두산')"
     ]
    },
    {
     "name": "stdout",
     "output_type": "stream",
     "text": [
      "\rReading Comp news ('000157', '두산2우B')"
     ]
    },
    {
     "name": "stdout",
     "output_type": "stream",
     "text": [
      "\rReading Comp news ('011160', '두산건설')"
     ]
    },
    {
     "name": "stdout",
     "output_type": "stream",
     "text": [
      "\rReading Comp news ('241560', '두산밥캣')"
     ]
    },
    {
     "name": "stdout",
     "output_type": "stream",
     "text": [
      "\rReading Comp news ('082740', '두산엔진')"
     ]
    },
    {
     "name": "stdout",
     "output_type": "stream",
     "text": [
      "\rReading Comp news ('000155', '두산우')"
     ]
    },
    {
     "name": "stdout",
     "output_type": "stream",
     "text": [
      "\rReading Comp news ('042670', '두산인프라코어')"
     ]
    },
    {
     "name": "stdout",
     "output_type": "stream",
     "text": [
      "\rReading Comp news ('034020', '두산중공업')"
     ]
    },
    {
     "name": "stdout",
     "output_type": "stream",
     "text": [
      "\rReading Comp news ('016740', '두올')"
     ]
    },
    {
     "name": "stdout",
     "output_type": "stream",
     "text": [
      "\rReading Comp news ('078590', '두올산업')"
     ]
    },
    {
     "name": "stdout",
     "output_type": "stream",
     "text": [
      "\rReading Comp news ('270020', '두원석재')"
     ]
    },
    {
     "name": "stdout",
     "output_type": "stream",
     "text": [
      "\rReading Comp news ('073190', '듀오백')"
     ]
    },
    {
     "name": "stdout",
     "output_type": "stream",
     "text": [
      "\rReading Comp news ('176750', '듀켐바이오')"
     ]
    },
    {
     "name": "stdout",
     "output_type": "stream",
     "text": [
      "\rReading Comp news ('030350', '드래곤플라이')"
     ]
    },
    {
     "name": "stdout",
     "output_type": "stream",
     "text": [
      "\rReading Comp news ('203650', '드림시큐리티')"
     ]
    },
    {
     "name": "stdout",
     "output_type": "stream",
     "text": [
      "\rReading Comp news ('220110', '드림티엔터테인먼트')"
     ]
    },
    {
     "name": "stdout",
     "output_type": "stream",
     "text": [
      "\rReading Comp news ('217620', '디딤')"
     ]
    },
    {
     "name": "stdout",
     "output_type": "stream",
     "text": [
      "\rReading Comp news ('187870', '디바이스이엔지')"
     ]
    },
    {
     "name": "stdout",
     "output_type": "stream",
     "text": [
      "\rReading Comp news ('066670', '디스플레이텍')"
     ]
    },
    {
     "name": "stdout",
     "output_type": "stream",
     "text": [
      "\rReading Comp news ('024090', '디씨엠')"
     ]
    },
    {
     "name": "stdout",
     "output_type": "stream",
     "text": [
      "\rReading Comp news ('003160', '디아이')"
     ]
    },
    {
     "name": "stdout",
     "output_type": "stream",
     "text": [
      "\rReading Comp news ('092200', '디아이씨')"
     ]
    },
    {
     "name": "stdout",
     "output_type": "stream",
     "text": [
      "\rReading Comp news ('214680', '디알텍')"
     ]
    },
    {
     "name": "stdout",
     "output_type": "stream",
     "text": [
      "\rReading Comp news ('263720', '디앤씨미디어')"
     ]
    },
    {
     "name": "stdout",
     "output_type": "stream",
     "text": [
      "\rReading Comp news ('109740', '디에스케이')"
     ]
    },
    {
     "name": "stdout",
     "output_type": "stream",
     "text": [
      "\rReading Comp news ('033430', '디에스티')"
     ]
    },
    {
     "name": "stdout",
     "output_type": "stream",
     "text": [
      "\rReading Comp news ('090710', '디에스티로봇')"
     ]
    },
    {
     "name": "stdout",
     "output_type": "stream",
     "text": [
      "\rReading Comp news ('131030', '디에이치피코리아')"
     ]
    },
    {
     "name": "stdout",
     "output_type": "stream",
     "text": [
      "\rReading Comp news ('196490', '디에이테크놀로지')"
     ]
    },
    {
     "name": "stdout",
     "output_type": "stream",
     "text": [
      "\rReading Comp news ('066900', '디에이피')"
     ]
    },
    {
     "name": "stdout",
     "output_type": "stream",
     "text": [
      "\rReading Comp news ('127120', '디엔에이링크')"
     ]
    },
    {
     "name": "stdout",
     "output_type": "stream",
     "text": [
      "\rReading Comp news ('092070', '디엔에프')"
     ]
    },
    {
     "name": "stdout",
     "output_type": "stream",
     "text": [
      "\rReading Comp news ('101000', '디엠씨')"
     ]
    },
    {
     "name": "stdout",
     "output_type": "stream",
     "text": [
      "\rReading Comp news ('134580', '디엠티')"
     ]
    },
    {
     "name": "stdout",
     "output_type": "stream",
     "text": [
      "\rReading Comp news ('039840', '디오')"
     ]
    },
    {
     "name": "stdout",
     "output_type": "stream",
     "text": [
      "\rReading Comp news ('013570', '디와이')"
     ]
    },
    {
     "name": "stdout",
     "output_type": "stream",
     "text": [
      "\rReading Comp news ('210540', '디와이파워')"
     ]
    },
    {
     "name": "stdout",
     "output_type": "stream",
     "text": [
      "\rReading Comp news ('079810', '디이엔티')"
     ]
    },
    {
     "name": "stdout",
     "output_type": "stream",
     "text": [
      "\rReading Comp news ('113810', '디젠스')"
     ]
    },
    {
     "name": "stdout",
     "output_type": "stream",
     "text": [
      "\rReading Comp news ('043360', '디지아이')"
     ]
    },
    {
     "name": "stdout",
     "output_type": "stream",
     "text": [
      "\rReading Comp news ('197140', '디지캡')"
     ]
    },
    {
     "name": "stdout",
     "output_type": "stream",
     "text": [
      "\rReading Comp news ('106520', '디지탈옵틱')"
     ]
    },
    {
     "name": "stdout",
     "output_type": "stream",
     "text": [
      "\rReading Comp news ('068930', '디지털대성')"
     ]
    },
    {
     "name": "stdout",
     "output_type": "stream",
     "text": [
      "\rReading Comp news ('033130', '디지틀조선')"
     ]
    },
    {
     "name": "stdout",
     "output_type": "stream",
     "text": [
      "\rReading Comp news ('033310', '디케이디앤아이')"
     ]
    },
    {
     "name": "stdout",
     "output_type": "stream",
     "text": [
      "\rReading Comp news ('105740', '디케이락')"
     ]
    },
    {
     "name": "stdout",
     "output_type": "stream",
     "text": [
      "\rReading Comp news ('007340', '디티알오토모티브')"
     ]
    },
    {
     "name": "stdout",
     "output_type": "stream",
     "text": [
      "\rReading Comp news ('187220', '디티앤씨')"
     ]
    },
    {
     "name": "stdout",
     "output_type": "stream",
     "text": [
      "\rReading Comp news ('026890', '디피씨')"
     ]
    },
    {
     "name": "stdout",
     "output_type": "stream",
     "text": [
      "\rReading Comp news ('131180', '딜리')"
     ]
    },
    {
     "name": "stdout",
     "output_type": "stream",
     "text": [
      "\rReading Comp news ('042510', '라온시큐어')"
     ]
    },
    {
     "name": "stdout",
     "output_type": "stream",
     "text": [
      "\rReading Comp news ('232680', '라온테크')"
     ]
    },
    {
     "name": "stdout",
     "output_type": "stream",
     "text": [
      "\rReading Comp news ('050120', '라이브플렉스')"
     ]
    },
    {
     "name": "stdout",
     "output_type": "stream",
     "text": [
      "\rReading Comp news ('171120', '라이온켐텍')"
     ]
    },
    {
     "name": "stdout",
     "output_type": "stream",
     "text": [
      "\rReading Comp news ('069540', '라이트론')"
     ]
    },
    {
     "name": "stdout",
     "output_type": "stream",
     "text": [
      "\rReading Comp news ('285770', '라이프사이언스테크놀로지')"
     ]
    },
    {
     "name": "stdout",
     "output_type": "stream",
     "text": [
      "\rReading Comp news ('115390', '락앤락')"
     ]
    },
    {
     "name": "stdout",
     "output_type": "stream",
     "text": [
      "\rReading Comp news ('200350', '래몽래인')"
     ]
    },
    {
     "name": "stdout",
     "output_type": "stream",
     "text": [
      "\rReading Comp news ('171010', '램테크놀러지')"
     ]
    },
    {
     "name": "stdout",
     "output_type": "stream",
     "text": [
      "\rReading Comp news ('084650', '랩지노믹스')"
     ]
    },
    {
     "name": "stdout",
     "output_type": "stream",
     "text": [
      "\rReading Comp news ('092590', '럭스피아')"
     ]
    },
    {
     "name": "stdout",
     "output_type": "stream",
     "text": [
      "\rReading Comp news ('141080', '레고켐바이오')"
     ]
    },
    {
     "name": "stdout",
     "output_type": "stream",
     "text": [
      "\rReading Comp news ('060300', '레드로버')"
     ]
    },
    {
     "name": "stdout",
     "output_type": "stream",
     "text": [
      "\rReading Comp news ('038390', '레드캡투어')"
     ]
    },
    {
     "name": "stdout",
     "output_type": "stream",
     "text": [
      "\rReading Comp news ('228850', '레이언스')"
     ]
    },
    {
     "name": "stdout",
     "output_type": "stream",
     "text": [
      "\rReading Comp news ('047440', '레이젠')"
     ]
    },
    {
     "name": "stdout",
     "output_type": "stream",
     "text": [
      "\rReading Comp news ('238120', '로고스바이오')"
     ]
    },
    {
     "name": "stdout",
     "output_type": "stream",
     "text": [
      "\rReading Comp news ('215100', '로보로보')"
     ]
    },
    {
     "name": "stdout",
     "output_type": "stream",
     "text": [
      "\rReading Comp news ('090360', '로보스타')"
     ]
    },
    {
     "name": "stdout",
     "output_type": "stream",
     "text": [
      "\rReading Comp news ('238500', '로보쓰리')"
     ]
    },
    {
     "name": "stdout",
     "output_type": "stream",
     "text": [
      "\rReading Comp news ('900260', '로스웰')"
     ]
    },
    {
     "name": "stdout",
     "output_type": "stream",
     "text": [
      "\rReading Comp news ('067730', '로지시스')"
     ]
    },
    {
     "name": "stdout",
     "output_type": "stream",
     "text": [
      "\rReading Comp news ('071280', '로체시스템즈')"
     ]
    },
    {
     "name": "stdout",
     "output_type": "stream",
     "text": [
      "\rReading Comp news ('032350', '롯데관광개발')"
     ]
    },
    {
     "name": "stdout",
     "output_type": "stream",
     "text": [
      "\rReading Comp news ('000400', '롯데손해보험')"
     ]
    },
    {
     "name": "stdout",
     "output_type": "stream",
     "text": [
      "\rReading Comp news ('023530', '롯데쇼핑')"
     ]
    },
    {
     "name": "stdout",
     "output_type": "stream",
     "text": [
      "\rReading Comp news ('004000', '롯데정밀화학')"
     ]
    },
    {
     "name": "stdout",
     "output_type": "stream",
     "text": [
      "\rReading Comp news ('280360', '롯데제과')"
     ]
    },
    {
     "name": "stdout",
     "output_type": "stream",
     "text": [
      "\rReading Comp news ('004990', '롯데지주')"
     ]
    },
    {
     "name": "stdout",
     "output_type": "stream",
     "text": [
      "\rReading Comp news ('00499K', '롯데지주우')"
     ]
    },
    {
     "name": "stdout",
     "output_type": "stream",
     "text": [
      "\rReading Comp news ('005300', '롯데칠성')"
     ]
    },
    {
     "name": "stdout",
     "output_type": "stream",
     "text": [
      "\rReading Comp news ('005305', '롯데칠성우')"
     ]
    },
    {
     "name": "stdout",
     "output_type": "stream",
     "text": [
      "\rReading Comp news ('011170', '롯데케미칼')"
     ]
    },
    {
     "name": "stdout",
     "output_type": "stream",
     "text": [
      "\rReading Comp news ('002270', '롯데푸드')"
     ]
    },
    {
     "name": "stdout",
     "output_type": "stream",
     "text": [
      "\rReading Comp news ('071840', '롯데하이마트')"
     ]
    },
    {
     "name": "stdout",
     "output_type": "stream",
     "text": [
      "\rReading Comp news ('038060', '루멘스')"
     ]
    },
    {
     "name": "stdout",
     "output_type": "stream",
     "text": [
      "\rReading Comp news ('082800', '루미마이크로')"
     ]
    },
    {
     "name": "stdout",
     "output_type": "stream",
     "text": [
      "\rReading Comp news ('162120', '루켄테크놀러지스')"
     ]
    },
    {
     "name": "stdout",
     "output_type": "stream",
     "text": [
      "\rReading Comp news ('085370', '루트로닉')"
     ]
    },
    {
     "name": "stdout",
     "output_type": "stream",
     "text": [
      "\rReading Comp news ('08537M', '루트로닉3우C')"
     ]
    },
    {
     "name": "stdout",
     "output_type": "stream",
     "text": [
      "\rReading Comp news ('060240', '룽투코리아')"
     ]
    },
    {
     "name": "stdout",
     "output_type": "stream",
     "text": [
      "\rReading Comp news ('058470', '리노공업')"
     ]
    },
    {
     "name": "stdout",
     "output_type": "stream",
     "text": [
      "\rReading Comp news ('039980', '리노스')"
     ]
    },
    {
     "name": "stdout",
     "output_type": "stream",
     "text": [
      "\rReading Comp news ('016100', '리더스코스메틱')"
     ]
    },
    {
     "name": "stdout",
     "output_type": "stream",
     "text": [
      "\rReading Comp news ('197210', '리드')"
     ]
    },
    {
     "name": "stdout",
     "output_type": "stream",
     "text": [
      "\rReading Comp news ('012700', '리드코프')"
     ]
    },
    {
     "name": "stdout",
     "output_type": "stream",
     "text": [
      "\rReading Comp news ('131100', '리켐')"
     ]
    },
    {
     "name": "stdout",
     "output_type": "stream",
     "text": [
      "\rReading Comp news ('277070', '린드먼아시아')"
     ]
    },
    {
     "name": "stdout",
     "output_type": "stream",
     "text": [
      "\rReading Comp news ('042500', '링네트')"
     ]
    },
    {
     "name": "stdout",
     "output_type": "stream",
     "text": [
      "\rReading Comp news ('219420', '링크제니시스')"
     ]
    },
    {
     "name": "stdout",
     "output_type": "stream",
     "text": [
      "\rReading Comp news ('027740', '마니커')"
     ]
    },
    {
     "name": "stdout",
     "output_type": "stream",
     "text": [
      "\rReading Comp news ('098120', '마이크로컨텍솔')"
     ]
    },
    {
     "name": "stdout",
     "output_type": "stream",
     "text": [
      "\rReading Comp news ('147760', '마이크로프랜드')"
     ]
    },
    {
     "name": "stdout",
     "output_type": "stream",
     "text": [
      "\rReading Comp news ('035480', '마제스타')"
     ]
    },
    {
     "name": "stdout",
     "output_type": "stream",
     "text": [
      "\rReading Comp news ('038290', '마크로젠')"
     ]
    },
    {
     "name": "stdout",
     "output_type": "stream",
     "text": [
      "\rReading Comp news ('204320', '만도')"
     ]
    },
    {
     "name": "stdout",
     "output_type": "stream",
     "text": [
      "\rReading Comp news ('001080', '만호제강')"
     ]
    },
    {
     "name": "stdout",
     "output_type": "stream",
     "text": [
      "\rReading Comp news ('267980', '매일유업')"
     ]
    },
    {
     "name": "stdout",
     "output_type": "stream",
     "text": [
      "\rReading Comp news ('005990', '매일홀딩스')"
     ]
    },
    {
     "name": "stdout",
     "output_type": "stream",
     "text": [
      "\rReading Comp news ('127160', '매직마이크로')"
     ]
    },
    {
     "name": "stdout",
     "output_type": "stream",
     "text": [
      "\rReading Comp news ('093520', '매커스')"
     ]
    },
    {
     "name": "stdout",
     "output_type": "stream",
     "text": [
      "\rReading Comp news ('141070', '맥스로텍')"
     ]
    },
    {
     "name": "stdout",
     "output_type": "stream",
     "text": [
      "\rReading Comp news ('088980', '맥쿼리인프라')"
     ]
    },
    {
     "name": "stdout",
     "output_type": "stream",
     "text": [
      "\rReading Comp news ('094800', '맵스리얼티1')"
     ]
    },
    {
     "name": "stdout",
     "output_type": "stream",
     "text": [
      "\rReading Comp news ('067280', '멀티캠퍼스')"
     ]
    },
    {
     "name": "stdout",
     "output_type": "stream",
     "text": [
      "\rReading Comp news ('072870', '메가스터디')"
     ]
    },
    {
     "name": "stdout",
     "output_type": "stream",
     "text": [
      "\rReading Comp news ('215200', '메가스터디교육')"
     ]
    },
    {
     "name": "stdout",
     "output_type": "stream",
     "text": [
      "\rReading Comp news ('133750', '메가엠디')"
     ]
    },
    {
     "name": "stdout",
     "output_type": "stream",
     "text": [
      "\rReading Comp news ('200580', '메디쎄이')"
     ]
    },
    {
     "name": "stdout",
     "output_type": "stream",
     "text": [
      "\rReading Comp news ('041920', '메디아나')"
     ]
    },
    {
     "name": "stdout",
     "output_type": "stream",
     "text": [
      "\rReading Comp news ('233250', '메디안디노스틱')"
     ]
    },
    {
     "name": "stdout",
     "output_type": "stream",
     "text": [
      "\rReading Comp news ('236340', '메디젠휴먼케어')"
     ]
    },
    {
     "name": "stdout",
     "output_type": "stream",
     "text": [
      "\rReading Comp news ('086900', '메디톡스')"
     ]
    },
    {
     "name": "stdout",
     "output_type": "stream",
     "text": [
      "\rReading Comp news ('078160', '메디포스트')"
     ]
    },
    {
     "name": "stdout",
     "output_type": "stream",
     "text": [
      "\rReading Comp news ('065650', '메디프론')"
     ]
    },
    {
     "name": "stdout",
     "output_type": "stream",
     "text": [
      "\rReading Comp news ('015540', '메디플란트')"
     ]
    },
    {
     "name": "stdout",
     "output_type": "stream",
     "text": [
      "\rReading Comp news ('138040', '메리츠금융지주')"
     ]
    },
    {
     "name": "stdout",
     "output_type": "stream",
     "text": [
      "\rReading Comp news ('008560', '메리츠종금증권')"
     ]
    },
    {
     "name": "stdout",
     "output_type": "stream",
     "text": [
      "\rReading Comp news ('000060', '메리츠화재')"
     ]
    },
    {
     "name": "stdout",
     "output_type": "stream",
     "text": [
      "\rReading Comp news ('021880', '메이슨캐피탈')"
     ]
    },
    {
     "name": "stdout",
     "output_type": "stream",
     "text": [
      "\rReading Comp news ('140410', '메지온')"
     ]
    },
    {
     "name": "stdout",
     "output_type": "stream",
     "text": [
      "\rReading Comp news ('241770', '메카로')"
     ]
    },
    {
     "name": "stdout",
     "output_type": "stream",
     "text": [
      "\rReading Comp news ('090370', '메타랩스')"
     ]
    },
    {
     "name": "stdout",
     "output_type": "stream",
     "text": [
      "\rReading Comp news ('059210', '메타바이오메드')"
     ]
    },
    {
     "name": "stdout",
     "output_type": "stream",
     "text": [
      "\rReading Comp news ('058110', '멕아이씨에스')"
     ]
    },
    {
     "name": "stdout",
     "output_type": "stream",
     "text": [
      "\rReading Comp news ('096640', '멜파스')"
     ]
    },
    {
     "name": "stdout",
     "output_type": "stream",
     "text": [
      "\rReading Comp news ('017180', '명문제약')"
     ]
    },
    {
     "name": "stdout",
     "output_type": "stream",
     "text": [
      "\rReading Comp news ('267060', '명진홀딩스')"
     ]
    },
    {
     "name": "stdout",
     "output_type": "stream",
     "text": [
      "\rReading Comp news ('012690', '모나리자')"
     ]
    },
    {
     "name": "stdout",
     "output_type": "stream",
     "text": [
      "\rReading Comp news ('005360', '모나미')"
     ]
    },
    {
     "name": "stdout",
     "output_type": "stream",
     "text": [
      "\rReading Comp news ('149940', '모다')"
     ]
    },
    {
     "name": "stdout",
     "output_type": "stream",
     "text": [
      "\rReading Comp news ('080420', '모다이노칩')"
     ]
    },
    {
     "name": "stdout",
     "output_type": "stream",
     "text": [
      "\rReading Comp news ('080160', '모두투어')"
     ]
    },
    {
     "name": "stdout",
     "output_type": "stream",
     "text": [
      "\rReading Comp news ('204210', '모두투어리츠')"
     ]
    },
    {
     "name": "stdout",
     "output_type": "stream",
     "text": [
      "\rReading Comp news ('100030', '모바일리더')"
     ]
    },
    {
     "name": "stdout",
     "output_type": "stream",
     "text": [
      "\rReading Comp news ('087260', '모바일어플라이언스')"
     ]
    },
    {
     "name": "stdout",
     "output_type": "stream",
     "text": [
      "\rReading Comp news ('101330', '모베이스')"
     ]
    },
    {
     "name": "stdout",
     "output_type": "stream",
     "text": [
      "\rReading Comp news ('250060', '모비스')"
     ]
    },
    {
     "name": "stdout",
     "output_type": "stream",
     "text": [
      "\rReading Comp news ('033200', '모아텍')"
     ]
    },
    {
     "name": "stdout",
     "output_type": "stream",
     "text": [
      "\rReading Comp news ('009680', '모토닉')"
     ]
    },
    {
     "name": "stdout",
     "output_type": "stream",
     "text": [
      "\rReading Comp news ('118990', '모트렉스')"
     ]
    },
    {
     "name": "stdout",
     "output_type": "stream",
     "text": [
      "\rReading Comp news ('006920', '모헨즈')"
     ]
    },
    {
     "name": "stdout",
     "output_type": "stream",
     "text": [
      "\rReading Comp news ('009580', '무림P&P')"
     ]
    },
    {
     "name": "stdout",
     "output_type": "stream",
     "text": [
      "\rReading Comp news ('001810', '무림SP')"
     ]
    },
    {
     "name": "stdout",
     "output_type": "stream",
     "text": [
      "\rReading Comp news ('009200', '무림페이퍼')"
     ]
    },
    {
     "name": "stdout",
     "output_type": "stream",
     "text": [
      "\rReading Comp news ('033920', '무학')"
     ]
    },
    {
     "name": "stdout",
     "output_type": "stream",
     "text": [
      "\rReading Comp news ('008420', '문배철강')"
     ]
    },
    {
     "name": "stdout",
     "output_type": "stream",
     "text": [
      "\rReading Comp news ('161570', '미동앤씨네마')"
     ]
    },
    {
     "name": "stdout",
     "output_type": "stream",
     "text": [
      "\rReading Comp news ('279600', '미디어젠')"
     ]
    },
    {
     "name": "stdout",
     "output_type": "stream",
     "text": [
      "\rReading Comp news ('028040', '미래SCI')"
     ]
    },
    {
     "name": "stdout",
     "output_type": "stream",
     "text": [
      "\rReading Comp news ('095500', '미래나노텍')"
     ]
    },
    {
     "name": "stdout",
     "output_type": "stream",
     "text": [
      "\rReading Comp news ('025560', '미래산업')"
     ]
    },
    {
     "name": "stdout",
     "output_type": "stream",
     "text": [
      "\rReading Comp news ('218150', '미래생명자원')"
     ]
    },
    {
     "name": "stdout",
     "output_type": "stream",
     "text": [
      "\rReading Comp news ('007120', '미래아이앤지')"
     ]
    },
    {
     "name": "stdout",
     "output_type": "stream",
     "text": [
      "\rReading Comp news ('006800', '미래에셋대우')"
     ]
    },
    {
     "name": "stdout",
     "output_type": "stream",
     "text": [
      "\rReading Comp news ('00680K', '미래에셋대우2우B')"
     ]
    },
    {
     "name": "stdout",
     "output_type": "stream",
     "text": [
      "\rReading Comp news ('265480', '미래에셋대우스팩1호')"
     ]
    },
    {
     "name": "stdout",
     "output_type": "stream",
     "text": [
      "\rReading Comp news ('006805', '미래에셋대우우')"
     ]
    },
    {
     "name": "stdout",
     "output_type": "stream",
     "text": [
      "\rReading Comp news ('085620', '미래에셋생명')"
     ]
    },
    {
     "name": "stdout",
     "output_type": "stream",
     "text": [
      "\rReading Comp news ('239340', '미래에셋제5호스팩')"
     ]
    },
    {
     "name": "stdout",
     "output_type": "stream",
     "text": [
      "\rReading Comp news ('049950', '미래컴퍼니')"
     ]
    },
    {
     "name": "stdout",
     "output_type": "stream",
     "text": [
      "\rReading Comp news ('213090', '미래테크놀로지')"
     ]
    },
    {
     "name": "stdout",
     "output_type": "stream",
     "text": [
      "\rReading Comp news ('207760', '미스터블루')"
     ]
    },
    {
     "name": "stdout",
     "output_type": "stream",
     "text": [
      "\rReading Comp news ('225850', '미애부')"
     ]
    },
    {
     "name": "stdout",
     "output_type": "stream",
     "text": [
      "\rReading Comp news ('002840', '미원상사')"
     ]
    },
    {
     "name": "stdout",
     "output_type": "stream",
     "text": [
      "\rReading Comp news ('268280', '미원에스씨')"
     ]
    },
    {
     "name": "stdout",
     "output_type": "stream",
     "text": [
      "\rReading Comp news ('107590', '미원홀딩스')"
     ]
    },
    {
     "name": "stdout",
     "output_type": "stream",
     "text": [
      "\rReading Comp news ('134380', '미원화학')"
     ]
    },
    {
     "name": "stdout",
     "output_type": "stream",
     "text": [
      "\rReading Comp news ('003650', '미창석유')"
     ]
    },
    {
     "name": "stdout",
     "output_type": "stream",
     "text": [
      "\rReading Comp news ('059090', '미코')"
     ]
    },
    {
     "name": "stdout",
     "output_type": "stream",
     "text": [
      "\rReading Comp news ('214610', '미코바이오메드')"
     ]
    },
    {
     "name": "stdout",
     "output_type": "stream",
     "text": [
      "\rReading Comp news ('201490', '미투온')"
     ]
    },
    {
     "name": "stdout",
     "output_type": "stream",
     "text": [
      "\rReading Comp news ('214180', '민앤지')"
     ]
    },
    {
     "name": "stdout",
     "output_type": "stream",
     "text": [
      "\rReading Comp news ('155900', '바다로19호')"
     ]
    },
    {
     "name": "stdout",
     "output_type": "stream",
     "text": [
      "\rReading Comp news ('206640', '바디텍메드')"
     ]
    },
    {
     "name": "stdout",
     "output_type": "stream",
     "text": [
      "\rReading Comp news ('018700', '바른손')"
     ]
    },
    {
     "name": "stdout",
     "output_type": "stream",
     "text": [
      "\rReading Comp news ('035620', '바른손이앤에이')"
     ]
    },
    {
     "name": "stdout",
     "output_type": "stream",
     "text": [
      "\rReading Comp news ('064520', '바른전자')"
     ]
    },
    {
     "name": "stdout",
     "output_type": "stream",
     "text": [
      "\rReading Comp news ('029480', '바른테크놀로지')"
     ]
    },
    {
     "name": "stdout",
     "output_type": "stream",
     "text": [
      "\rReading Comp news ('053030', '바이넥스')"
     ]
    },
    {
     "name": "stdout",
     "output_type": "stream",
     "text": [
      "\rReading Comp news ('084990', '바이로메드')"
     ]
    },
    {
     "name": "stdout",
     "output_type": "stream",
     "text": [
      "\rReading Comp news ('064550', '바이오니아')"
     ]
    },
    {
     "name": "stdout",
     "output_type": "stream",
     "text": [
      "\rReading Comp news ('222810', '바이오닉스진')"
     ]
    },
    {
     "name": "stdout",
     "output_type": "stream",
     "text": [
      "\rReading Comp news ('208710', '바이오로그디바이스')"
     ]
    },
    {
     "name": "stdout",
     "output_type": "stream",
     "text": [
      "\rReading Comp news ('142760', '바이오리더스')"
     ]
    },
    {
     "name": "stdout",
     "output_type": "stream",
     "text": [
      "\rReading Comp news ('065940', '바이오빌')"
     ]
    },
    {
     "name": "stdout",
     "output_type": "stream",
     "text": [
      "\rReading Comp news ('038460', '바이오스마트')"
     ]
    },
    {
     "name": "stdout",
     "output_type": "stream",
     "text": [
      "\rReading Comp news ('281310', '바이오시네틱스')"
     ]
    },
    {
     "name": "stdout",
     "output_type": "stream",
     "text": [
      "\rReading Comp news ('044480', '바이오제네틱스')"
     ]
    },
    {
     "name": "stdout",
     "output_type": "stream",
     "text": [
      "\rReading Comp news ('216400', '바이오코아')"
     ]
    },
    {
     "name": "stdout",
     "output_type": "stream",
     "text": [
      "\rReading Comp news ('086040', '바이오톡스텍')"
     ]
    },
    {
     "name": "stdout",
     "output_type": "stream",
     "text": [
      "\rReading Comp news ('199290', '바이오프로테크')"
     ]
    },
    {
     "name": "stdout",
     "output_type": "stream",
     "text": [
      "\rReading Comp news ('032980', '바이온')"
     ]
    },
    {
     "name": "stdout",
     "output_type": "stream",
     "text": [
      "\rReading Comp news ('222160', '바이옵트로')"
     ]
    },
    {
     "name": "stdout",
     "output_type": "stream",
     "text": [
      "\rReading Comp news ('043150', '바텍')"
     ]
    },
    {
     "name": "stdout",
     "output_type": "stream",
     "text": [
      "\rReading Comp news ('003610', '방림')"
     ]
    },
    {
     "name": "stdout",
     "output_type": "stream",
     "text": [
      "\rReading Comp news ('267790', '배럴')"
     ]
    },
    {
     "name": "stdout",
     "output_type": "stream",
     "text": [
      "\rReading Comp news ('001340', '백광산업')"
     ]
    },
    {
     "name": "stdout",
     "output_type": "stream",
     "text": [
      "\rReading Comp news ('014580', '백광소재')"
     ]
    },
    {
     "name": "stdout",
     "output_type": "stream",
     "text": [
      "\rReading Comp news ('046310', '백금T&A')"
     ]
    },
    {
     "name": "stdout",
     "output_type": "stream",
     "text": [
      "\rReading Comp news ('035150', '백산')"
     ]
    },
    {
     "name": "stdout",
     "output_type": "stream",
     "text": [
      "\rReading Comp news ('036620', '버추얼텍')"
     ]
    },
    {
     "name": "stdout",
     "output_type": "stream",
     "text": [
      "\rReading Comp news ('002410', '범양건영')"
     ]
    },
    {
     "name": "stdout",
     "output_type": "stream",
     "text": [
      "\rReading Comp news ('177350', '베셀')"
     ]
    },
    {
     "name": "stdout",
     "output_type": "stream",
     "text": [
      "\rReading Comp news ('096300', '베트남개발1')"
     ]
    },
    {
     "name": "stdout",
     "output_type": "stream",
     "text": [
      "\rReading Comp news ('007210', '벽산')"
     ]
    },
    {
     "name": "stdout",
     "output_type": "stream",
     "text": [
      "\rReading Comp news ('225530', '보광산업')"
     ]
    },
    {
     "name": "stdout",
     "output_type": "stream",
     "text": [
      "\rReading Comp news ('250000', '보라티알')"
     ]
    },
    {
     "name": "stdout",
     "output_type": "stream",
     "text": [
      "\rReading Comp news ('002760', '보락')"
     ]
    },
    {
     "name": "stdout",
     "output_type": "stream",
     "text": [
      "\rReading Comp news ('014100', '보령메디앙스')"
     ]
    },
    {
     "name": "stdout",
     "output_type": "stream",
     "text": [
      "\rReading Comp news ('003850', '보령제약')"
     ]
    },
    {
     "name": "stdout",
     "output_type": "stream",
     "text": [
      "\rReading Comp news ('006910', '보성파워텍')"
     ]
    },
    {
     "name": "stdout",
     "output_type": "stream",
     "text": [
      "\rReading Comp news ('000890', '보해양조')"
     ]
    },
    {
     "name": "stdout",
     "output_type": "stream",
     "text": [
      "\rReading Comp news ('242420', '본느')"
     ]
    },
    {
     "name": "stdout",
     "output_type": "stream",
     "text": [
      "\rReading Comp news ('206950', '볼빅')"
     ]
    },
    {
     "name": "stdout",
     "output_type": "stream",
     "text": [
      "\rReading Comp news ('003000', '부광약품')"
     ]
    },
    {
     "name": "stdout",
     "output_type": "stream",
     "text": [
      "\rReading Comp news ('001270', '부국증권')"
     ]
    },
    {
     "name": "stdout",
     "output_type": "stream",
     "text": [
      "\rReading Comp news ('001275', '부국증권우')"
     ]
    },
    {
     "name": "stdout",
     "output_type": "stream",
     "text": [
      "\rReading Comp news ('026940', '부국철강')"
     ]
    },
    {
     "name": "stdout",
     "output_type": "stream",
     "text": [
      "\rReading Comp news ('014470', '부방')"
     ]
    },
    {
     "name": "stdout",
     "output_type": "stream",
     "text": [
      "\rReading Comp news ('015350', '부산가스')"
     ]
    },
    {
     "name": "stdout",
     "output_type": "stream",
     "text": [
      "\rReading Comp news ('011390', '부산산업')"
     ]
    },
    {
     "name": "stdout",
     "output_type": "stream",
     "text": [
      "\rReading Comp news ('005030', '부산주공')"
     ]
    },
    {
     "name": "stdout",
     "output_type": "stream",
     "text": [
      "\rReading Comp news ('008470', '부스타')"
     ]
    },
    {
     "name": "stdout",
     "output_type": "stream",
     "text": [
      "\rReading Comp news ('100120', '뷰웍스')"
     ]
    },
    {
     "name": "stdout",
     "output_type": "stream",
     "text": [
      "\rReading Comp news ('066980', '브레인콘텐츠')"
     ]
    },
    {
     "name": "stdout",
     "output_type": "stream",
     "text": [
      "\rReading Comp news ('064480', '브리지텍')"
     ]
    },
    {
     "name": "stdout",
     "output_type": "stream",
     "text": [
      "\rReading Comp news ('251630', '브이원텍')"
     ]
    },
    {
     "name": "stdout",
     "output_type": "stream",
     "text": [
      "\rReading Comp news ('033560', '블루콤')"
     ]
    },
    {
     "name": "stdout",
     "output_type": "stream",
     "text": [
      "\rReading Comp news ('126340', '비나텍')"
     ]
    },
    {
     "name": "stdout",
     "output_type": "stream",
     "text": [
      "\rReading Comp news ('121800', '비덴트')"
     ]
    },
    {
     "name": "stdout",
     "output_type": "stream",
     "text": [
      "\rReading Comp news ('148140', '비디아이')"
     ]
    },
    {
     "name": "stdout",
     "output_type": "stream",
     "text": [
      "\rReading Comp news ('100220', '비상교육')"
     ]
    },
    {
     "name": "stdout",
     "output_type": "stream",
     "text": [
      "\rReading Comp news ('200780', '비씨월드제약')"
     ]
    },
    {
     "name": "stdout",
     "output_type": "stream",
     "text": [
      "\rReading Comp news ('141000', '비아트론')"
     ]
    },
    {
     "name": "stdout",
     "output_type": "stream",
     "text": [
      "\rReading Comp news ('090460', '비에이치')"
     ]
    },
    {
     "name": "stdout",
     "output_type": "stream",
     "text": [
      "\rReading Comp news ('083650', '비에이치아이')"
     ]
    },
    {
     "name": "stdout",
     "output_type": "stream",
     "text": [
      "\rReading Comp news ('215050', '비엔디생활건강')"
     ]
    },
    {
     "name": "stdout",
     "output_type": "stream",
     "text": [
      "\rReading Comp news ('086670', '비엠티')"
     ]
    },
    {
     "name": "stdout",
     "output_type": "stream",
     "text": [
      "\rReading Comp news ('138580', '비즈니스온')"
     ]
    },
    {
     "name": "stdout",
     "output_type": "stream",
     "text": [
      "\rReading Comp news ('082920', '비츠로셀')"
     ]
    },
    {
     "name": "stdout",
     "output_type": "stream",
     "text": [
      "\rReading Comp news ('054220', '비츠로시스')"
     ]
    },
    {
     "name": "stdout",
     "output_type": "stream",
     "text": [
      "\rReading Comp news ('042370', '비츠로테크')"
     ]
    },
    {
     "name": "stdout",
     "output_type": "stream",
     "text": [
      "\rReading Comp news ('032850', '비트컴퓨터')"
     ]
    },
    {
     "name": "stdout",
     "output_type": "stream",
     "text": [
      "\rReading Comp news ('148780', '비플라이소프트')"
     ]
    },
    {
     "name": "stdout",
     "output_type": "stream",
     "text": [
      "\rReading Comp news ('093190', '빅솔론')"
     ]
    },
    {
     "name": "stdout",
     "output_type": "stream",
     "text": [
      "\rReading Comp news ('065450', '빅텍')"
     ]
    },
    {
     "name": "stdout",
     "output_type": "stream",
     "text": [
      "\rReading Comp news ('210120', '빅텐츠')"
     ]
    },
    {
     "name": "stdout",
     "output_type": "stream",
     "text": [
      "\rReading Comp news ('005180', '빙그레')"
     ]
    },
    {
     "name": "stdout",
     "output_type": "stream",
     "text": [
      "\rReading Comp news ('072950', '빛샘전자')"
     ]
    },
    {
     "name": "stdout",
     "output_type": "stream",
     "text": [
      "\rReading Comp news ('266170', '뿌리깊은나무들')"
     ]
    },
    {
     "name": "stdout",
     "output_type": "stream",
     "text": [
      "\rReading Comp news ('143240', '사람인에이치알')"
     ]
    },
    {
     "name": "stdout",
     "output_type": "stream",
     "text": [
      "\rReading Comp news ('003960', '사조대림')"
     ]
    },
    {
     "name": "stdout",
     "output_type": "stream",
     "text": [
      "\rReading Comp news ('008040', '사조동아원')"
     ]
    },
    {
     "name": "stdout",
     "output_type": "stream",
     "text": [
      "\rReading Comp news ('007160', '사조산업')"
     ]
    },
    {
     "name": "stdout",
     "output_type": "stream",
     "text": [
      "\rReading Comp news ('014710', '사조씨푸드')"
     ]
    },
    {
     "name": "stdout",
     "output_type": "stream",
     "text": [
      "\rReading Comp news ('006090', '사조오양')"
     ]
    },
    {
     "name": "stdout",
     "output_type": "stream",
     "text": [
      "\rReading Comp news ('079660', '사조해표')"
     ]
    },
    {
     "name": "stdout",
     "output_type": "stream",
     "text": [
      "\rReading Comp news ('100090', '삼강엠앤티')"
     ]
    },
    {
     "name": "stdout",
     "output_type": "stream",
     "text": [
      "\rReading Comp news ('005090', '삼광글라스')"
     ]
    },
    {
     "name": "stdout",
     "output_type": "stream",
     "text": [
      "\rReading Comp news ('122350', '삼기오토모티브')"
     ]
    },
    {
     "name": "stdout",
     "output_type": "stream",
     "text": [
      "\rReading Comp news ('014970', '삼륭물산')"
     ]
    },
    {
     "name": "stdout",
     "output_type": "stream",
     "text": [
      "\rReading Comp news ('018310', '삼목에스폼')"
     ]
    },
    {
     "name": "stdout",
     "output_type": "stream",
     "text": [
      "\rReading Comp news ('053700', '삼보모터스')"
     ]
    },
    {
     "name": "stdout",
     "output_type": "stream",
     "text": [
      "\rReading Comp news ('009620', '삼보산업')"
     ]
    },
    {
     "name": "stdout",
     "output_type": "stream",
     "text": [
      "\rReading Comp news ('023600', '삼보판지')"
     ]
    },
    {
     "name": "stdout",
     "output_type": "stream",
     "text": [
      "\rReading Comp news ('111870', '삼본정밀전자')"
     ]
    },
    {
     "name": "stdout",
     "output_type": "stream",
     "text": [
      "\rReading Comp news ('001470', '삼부토건')"
     ]
    },
    {
     "name": "stdout",
     "output_type": "stream",
     "text": [
      "\rReading Comp news ('006400', '삼성SDI')"
     ]
    },
    {
     "name": "stdout",
     "output_type": "stream",
     "text": [
      "\rReading Comp news ('006405', '삼성SDI우')"
     ]
    },
    {
     "name": "stdout",
     "output_type": "stream",
     "text": [
      "\rReading Comp news ('006660', '삼성공조')"
     ]
    },
    {
     "name": "stdout",
     "output_type": "stream",
     "text": [
      "\rReading Comp news ('028260', '삼성물산')"
     ]
    },
    {
     "name": "stdout",
     "output_type": "stream",
     "text": [
      "\rReading Comp news ('02826K', '삼성물산우B')"
     ]
    },
    {
     "name": "stdout",
     "output_type": "stream",
     "text": [
      "\rReading Comp news ('207940', '삼성바이오로직스')"
     ]
    },
    {
     "name": "stdout",
     "output_type": "stream",
     "text": [
      "\rReading Comp news ('032830', '삼성생명')"
     ]
    },
    {
     "name": "stdout",
     "output_type": "stream",
     "text": [
      "\rReading Comp news ('018260', '삼성에스디에스')"
     ]
    },
    {
     "name": "stdout",
     "output_type": "stream",
     "text": [
      "\rReading Comp news ('028050', '삼성엔지니어링')"
     ]
    },
    {
     "name": "stdout",
     "output_type": "stream",
     "text": [
      "\rReading Comp news ('009150', '삼성전기')"
     ]
    },
    {
     "name": "stdout",
     "output_type": "stream",
     "text": [
      "\rReading Comp news ('009155', '삼성전기우')"
     ]
    },
    {
     "name": "stdout",
     "output_type": "stream",
     "text": [
      "\rReading Comp news ('005930', '삼성전자')"
     ]
    },
    {
     "name": "stdout",
     "output_type": "stream",
     "text": [
      "\rReading Comp news ('005935', '삼성전자우')"
     ]
    },
    {
     "name": "stdout",
     "output_type": "stream",
     "text": [
      "\rReading Comp news ('001360', '삼성제약')"
     ]
    },
    {
     "name": "stdout",
     "output_type": "stream",
     "text": [
      "\rReading Comp news ('010140', '삼성중공업')"
     ]
    },
    {
     "name": "stdout",
     "output_type": "stream",
     "text": [
      "\rReading Comp news ('010145', '삼성중공우')"
     ]
    },
    {
     "name": "stdout",
     "output_type": "stream",
     "text": [
      "\rReading Comp news ('016360', '삼성증권')"
     ]
    },
    {
     "name": "stdout",
     "output_type": "stream",
     "text": [
      "\rReading Comp news ('068290', '삼성출판사')"
     ]
    },
    {
     "name": "stdout",
     "output_type": "stream",
     "text": [
      "\rReading Comp news ('029780', '삼성카드')"
     ]
    },
    {
     "name": "stdout",
     "output_type": "stream",
     "text": [
      "\rReading Comp news ('000810', '삼성화재')"
     ]
    },
    {
     "name": "stdout",
     "output_type": "stream",
     "text": [
      "\rReading Comp news ('000815', '삼성화재우')"
     ]
    },
    {
     "name": "stdout",
     "output_type": "stream",
     "text": [
      "\rReading Comp news ('006110', '삼아알미늄')"
     ]
    },
    {
     "name": "stdout",
     "output_type": "stream",
     "text": [
      "\rReading Comp news ('009300', '삼아제약')"
     ]
    },
    {
     "name": "stdout",
     "output_type": "stream",
     "text": [
      "\rReading Comp news ('145990', '삼양사')"
     ]
    },
    {
     "name": "stdout",
     "output_type": "stream",
     "text": [
      "\rReading Comp news ('145995', '삼양사우')"
     ]
    },
    {
     "name": "stdout",
     "output_type": "stream",
     "text": [
      "\rReading Comp news ('003230', '삼양식품')"
     ]
    },
    {
     "name": "stdout",
     "output_type": "stream",
     "text": [
      "\rReading Comp news ('225190', '삼양옵틱스')"
     ]
    },
    {
     "name": "stdout",
     "output_type": "stream",
     "text": [
      "\rReading Comp news ('002170', '삼양통상')"
     ]
    },
    {
     "name": "stdout",
     "output_type": "stream",
     "text": [
      "\rReading Comp news ('272550', '삼양패키징')"
     ]
    },
    {
     "name": "stdout",
     "output_type": "stream",
     "text": [
      "\rReading Comp news ('000070', '삼양홀딩스')"
     ]
    },
    {
     "name": "stdout",
     "output_type": "stream",
     "text": [
      "\rReading Comp news ('000075', '삼양홀딩스우')"
     ]
    },
    {
     "name": "stdout",
     "output_type": "stream",
     "text": [
      "\rReading Comp news ('002810', '삼영무역')"
     ]
    },
    {
     "name": "stdout",
     "output_type": "stream",
     "text": [
      "\rReading Comp news ('054540', '삼영엠텍')"
     ]
    },
    {
     "name": "stdout",
     "output_type": "stream",
     "text": [
      "\rReading Comp news ('065570', '삼영이엔씨')"
     ]
    },
    {
     "name": "stdout",
     "output_type": "stream",
     "text": [
      "\rReading Comp news ('005680', '삼영전자')"
     ]
    },
    {
     "name": "stdout",
     "output_type": "stream",
     "text": [
      "\rReading Comp news ('003720', '삼영화학')"
     ]
    },
    {
     "name": "stdout",
     "output_type": "stream",
     "text": [
      "\rReading Comp news ('082660', '삼우엠스')"
     ]
    },
    {
     "name": "stdout",
     "output_type": "stream",
     "text": [
      "\rReading Comp news ('023000', '삼원강재')"
     ]
    },
    {
     "name": "stdout",
     "output_type": "stream",
     "text": [
      "\rReading Comp news ('073640', '삼원테크')"
     ]
    },
    {
     "name": "stdout",
     "output_type": "stream",
     "text": [
      "\rReading Comp news ('004380', '삼익THK')"
     ]
    },
    {
     "name": "stdout",
     "output_type": "stream",
     "text": [
      "\rReading Comp news ('002450', '삼익악기')"
     ]
    },
    {
     "name": "stdout",
     "output_type": "stream",
     "text": [
      "\rReading Comp news ('032280', '삼일')"
     ]
    },
    {
     "name": "stdout",
     "output_type": "stream",
     "text": [
      "\rReading Comp news ('002290', '삼일기업공사')"
     ]
    },
    {
     "name": "stdout",
     "output_type": "stream",
     "text": [
      "\rReading Comp news ('000520', '삼일제약')"
     ]
    },
    {
     "name": "stdout",
     "output_type": "stream",
     "text": [
      "\rReading Comp news ('009770', '삼정펄프')"
     ]
    },
    {
     "name": "stdout",
     "output_type": "stream",
     "text": [
      "\rReading Comp news ('037460', '삼지전자')"
     ]
    },
    {
     "name": "stdout",
     "output_type": "stream",
     "text": [
      "\rReading Comp news ('032750', '삼진')"
     ]
    },
    {
     "name": "stdout",
     "output_type": "stream",
     "text": [
      "\rReading Comp news ('054090', '삼진엘앤디')"
     ]
    },
    {
     "name": "stdout",
     "output_type": "stream",
     "text": [
      "\rReading Comp news ('005500', '삼진제약')"
     ]
    },
    {
     "name": "stdout",
     "output_type": "stream",
     "text": [
      "\rReading Comp news ('000250', '삼천당제약')"
     ]
    },
    {
     "name": "stdout",
     "output_type": "stream",
     "text": [
      "\rReading Comp news ('004690', '삼천리')"
     ]
    },
    {
     "name": "stdout",
     "output_type": "stream",
     "text": [
      "\rReading Comp news ('024950', '삼천리자전거')"
     ]
    },
    {
     "name": "stdout",
     "output_type": "stream",
     "text": [
      "\rReading Comp news ('038500', '삼표시멘트')"
     ]
    },
    {
     "name": "stdout",
     "output_type": "stream",
     "text": [
      "\rReading Comp news ('017480', '삼현철강')"
     ]
    },
    {
     "name": "stdout",
     "output_type": "stream",
     "text": [
      "\rReading Comp news ('001880', '삼호')"
     ]
    },
    {
     "name": "stdout",
     "output_type": "stream",
     "text": [
      "\rReading Comp news ('010960', '삼호개발')"
     ]
    },
    {
     "name": "stdout",
     "output_type": "stream",
     "text": [
      "\rReading Comp news ('046390', '삼화네트웍스')"
     ]
    },
    {
     "name": "stdout",
     "output_type": "stream",
     "text": [
      "\rReading Comp news ('004450', '삼화왕관')"
     ]
    },
    {
     "name": "stdout",
     "output_type": "stream",
     "text": [
      "\rReading Comp news ('009470', '삼화전기')"
     ]
    },
    {
     "name": "stdout",
     "output_type": "stream",
     "text": [
      "\rReading Comp news ('011230', '삼화전자')"
     ]
    },
    {
     "name": "stdout",
     "output_type": "stream",
     "text": [
      "\rReading Comp news ('001820', '삼화콘덴서')"
     ]
    },
    {
     "name": "stdout",
     "output_type": "stream",
     "text": [
      "\rReading Comp news ('000390', '삼화페인트')"
     ]
    },
    {
     "name": "stdout",
     "output_type": "stream",
     "text": [
      "\rReading Comp news ('027580', '상보')"
     ]
    },
    {
     "name": "stdout",
     "output_type": "stream",
     "text": [
      "\rReading Comp news ('038540', '상상인')"
     ]
    },
    {
     "name": "stdout",
     "output_type": "stream",
     "text": [
      "\rReading Comp news ('041650', '상신브레이크')"
     ]
    },
    {
     "name": "stdout",
     "output_type": "stream",
     "text": [
      "\rReading Comp news ('091580', '상신이디피')"
     ]
    },
    {
     "name": "stdout",
     "output_type": "stream",
     "text": [
      "\rReading Comp news ('263810', '상신전자')"
     ]
    },
    {
     "name": "stdout",
     "output_type": "stream",
     "text": [
      "\rReading Comp news ('089980', '상아프론테크')"
     ]
    },
    {
     "name": "stdout",
     "output_type": "stream",
     "text": [
      "\rReading Comp news ('042940', '상지카일룸')"
     ]
    },
    {
     "name": "stdout",
     "output_type": "stream",
     "text": [
      "\rReading Comp news ('042600', '새로닉스')"
     ]
    },
    {
     "name": "stdout",
     "output_type": "stream",
     "text": [
      "\rReading Comp news ('075180', '새론오토모티브')"
     ]
    },
    {
     "name": "stdout",
     "output_type": "stream",
     "text": [
      "\rReading Comp news ('263540', '샘코')"
     ]
    },
    {
     "name": "stdout",
     "output_type": "stream",
     "text": [
      "\rReading Comp news ('007540', '샘표')"
     ]
    },
    {
     "name": "stdout",
     "output_type": "stream",
     "text": [
      "\rReading Comp news ('248170', '샘표식품')"
     ]
    },
    {
     "name": "stdout",
     "output_type": "stream",
     "text": [
      "\rReading Comp news ('038070', '서린바이오')"
     ]
    },
    {
     "name": "stdout",
     "output_type": "stream",
     "text": [
      "\rReading Comp news ('006730', '서부T&D')"
     ]
    },
    {
     "name": "stdout",
     "output_type": "stream",
     "text": [
      "\rReading Comp news ('079650', '서산')"
     ]
    },
    {
     "name": "stdout",
     "output_type": "stream",
     "text": [
      "\rReading Comp news ('100660', '서암기계공업')"
     ]
    },
    {
     "name": "stdout",
     "output_type": "stream",
     "text": [
      "\rReading Comp news ('007860', '서연')"
     ]
    },
    {
     "name": "stdout",
     "output_type": "stream",
     "text": [
      "\rReading Comp news ('200880', '서연이화')"
     ]
    },
    {
     "name": "stdout",
     "output_type": "stream",
     "text": [
      "\rReading Comp news ('012860', '서연전자')"
     ]
    },
    {
     "name": "stdout",
     "output_type": "stream",
     "text": [
      "\rReading Comp news ('019770', '서연탑메탈')"
     ]
    },
    {
     "name": "stdout",
     "output_type": "stream",
     "text": [
      "\rReading Comp news ('017390', '서울가스')"
     ]
    },
    {
     "name": "stdout",
     "output_type": "stream",
     "text": [
      "\rReading Comp news ('043710', '서울리거')"
     ]
    },
    {
     "name": "stdout",
     "output_type": "stream",
     "text": [
      "\rReading Comp news ('046890', '서울반도체')"
     ]
    },
    {
     "name": "stdout",
     "output_type": "stream",
     "text": [
      "\rReading Comp news ('004410', '서울식품')"
     ]
    },
    {
     "name": "stdout",
     "output_type": "stream",
     "text": [
      "\rReading Comp news ('004415', '서울식품우')"
     ]
    },
    {
     "name": "stdout",
     "output_type": "stream",
     "text": [
      "\rReading Comp news ('063170', '서울옥션')"
     ]
    },
    {
     "name": "stdout",
     "output_type": "stream",
     "text": [
      "\rReading Comp news ('027040', '서울전자통신')"
     ]
    },
    {
     "name": "stdout",
     "output_type": "stream",
     "text": [
      "\rReading Comp news ('018680', '서울제약')"
     ]
    },
    {
     "name": "stdout",
     "output_type": "stream",
     "text": [
      "\rReading Comp news ('021050', '서원')"
     ]
    },
    {
     "name": "stdout",
     "output_type": "stream",
     "text": [
      "\rReading Comp news ('093920', '서원인텍')"
     ]
    },
    {
     "name": "stdout",
     "output_type": "stream",
     "text": [
      "\rReading Comp news ('189860', '서전기전')"
     ]
    },
    {
     "name": "stdout",
     "output_type": "stream",
     "text": [
      "\rReading Comp news ('178320', '서진시스템')"
     ]
    },
    {
     "name": "stdout",
     "output_type": "stream",
     "text": [
      "\rReading Comp news ('122690', '서진오토모티브')"
     ]
    },
    {
     "name": "stdout",
     "output_type": "stream",
     "text": [
      "\rReading Comp news ('140070', '서플러스글로벌')"
     ]
    },
    {
     "name": "stdout",
     "output_type": "stream",
     "text": [
      "\rReading Comp news ('011370', '서한')"
     ]
    },
    {
     "name": "stdout",
     "output_type": "stream",
     "text": [
      "\rReading Comp news ('065710', '서호전기')"
     ]
    },
    {
     "name": "stdout",
     "output_type": "stream",
     "text": [
      "\rReading Comp news ('008490', '서흥')"
     ]
    },
    {
     "name": "stdout",
     "output_type": "stream",
     "text": [
      "\rReading Comp news ('035890', '서희건설')"
     ]
    },
    {
     "name": "stdout",
     "output_type": "stream",
     "text": [
      "\rReading Comp news ('003100', '선광')"
     ]
    },
    {
     "name": "stdout",
     "output_type": "stream",
     "text": [
      "\rReading Comp news ('123420', '선데이토즈')"
     ]
    },
    {
     "name": "stdout",
     "output_type": "stream",
     "text": [
      "\rReading Comp news ('007610', '선도전기')"
     ]
    },
    {
     "name": "stdout",
     "output_type": "stream",
     "text": [
      "\rReading Comp news ('067370', '선바이오')"
     ]
    },
    {
     "name": "stdout",
     "output_type": "stream",
     "text": [
      "\rReading Comp news ('171090', '선익시스템')"
     ]
    },
    {
     "name": "stdout",
     "output_type": "stream",
     "text": [
      "\rReading Comp news ('136490', '선진')"
     ]
    },
    {
     "name": "stdout",
     "output_type": "stream",
     "text": [
      "\rReading Comp news ('002820', '선창산업')"
     ]
    },
    {
     "name": "stdout",
     "output_type": "stream",
     "text": [
      "\rReading Comp news ('014620', '성광벤드')"
     ]
    },
    {
     "name": "stdout",
     "output_type": "stream",
     "text": [
      "\rReading Comp news ('037350', '성도이엔지')"
     ]
    },
    {
     "name": "stdout",
     "output_type": "stream",
     "text": [
      "\rReading Comp news ('014910', '성문전자')"
     ]
    },
    {
     "name": "stdout",
     "output_type": "stream",
     "text": [
      "\rReading Comp news ('014915', '성문전자우')"
     ]
    },
    {
     "name": "stdout",
     "output_type": "stream",
     "text": [
      "\rReading Comp news ('003080', '성보화학')"
     ]
    },
    {
     "name": "stdout",
     "output_type": "stream",
     "text": [
      "\rReading Comp news ('004980', '성신양회')"
     ]
    },
    {
     "name": "stdout",
     "output_type": "stream",
     "text": [
      "\rReading Comp news ('004987', '성신양회2우B')"
     ]
    },
    {
     "name": "stdout",
     "output_type": "stream",
     "text": [
      "\rReading Comp news ('004989', '성신양회3우B')"
     ]
    },
    {
     "name": "stdout",
     "output_type": "stream",
     "text": [
      "\rReading Comp news ('004985', '성신양회우')"
     ]
    },
    {
     "name": "stdout",
     "output_type": "stream",
     "text": [
      "\rReading Comp news ('011300', '성안')"
     ]
    },
    {
     "name": "stdout",
     "output_type": "stream",
     "text": [
      "\rReading Comp news ('081580', '성우전자')"
     ]
    },
    {
     "name": "stdout",
     "output_type": "stream",
     "text": [
      "\rReading Comp news ('045300', '성우테크론')"
     ]
    },
    {
     "name": "stdout",
     "output_type": "stream",
     "text": [
      "\rReading Comp news ('015750', '성우하이텍')"
     ]
    },
    {
     "name": "stdout",
     "output_type": "stream",
     "text": [
      "\rReading Comp news ('005980', '성지건설')"
     ]
    },
    {
     "name": "stdout",
     "output_type": "stream",
     "text": [
      "\rReading Comp news ('000180', '성창기업지주')"
     ]
    },
    {
     "name": "stdout",
     "output_type": "stream",
     "text": [
      "\rReading Comp news ('080470', '성창오토텍')"
     ]
    },
    {
     "name": "stdout",
     "output_type": "stream",
     "text": [
      "\rReading Comp news ('043260', '성호전자')"
     ]
    },
    {
     "name": "stdout",
     "output_type": "stream",
     "text": [
      "\rReading Comp news ('002420', '세기상사')"
     ]
    },
    {
     "name": "stdout",
     "output_type": "stream",
     "text": [
      "\rReading Comp news ('053060', '세동')"
     ]
    },
    {
     "name": "stdout",
     "output_type": "stream",
     "text": [
      "\rReading Comp news ('017510', '세명전기')"
     ]
    },
    {
     "name": "stdout",
     "output_type": "stream",
     "text": [
      "\rReading Comp news ('214310', '세미콘라이트')"
     ]
    },
    {
     "name": "stdout",
     "output_type": "stream",
     "text": [
      "\rReading Comp news ('004360', '세방')"
     ]
    },
    {
     "name": "stdout",
     "output_type": "stream",
     "text": [
      "\rReading Comp news ('004365', '세방우')"
     ]
    },
    {
     "name": "stdout",
     "output_type": "stream",
     "text": [
      "\rReading Comp news ('004490', '세방전지')"
     ]
    },
    {
     "name": "stdout",
     "output_type": "stream",
     "text": [
      "\rReading Comp news ('011560', '세보엠이씨')"
     ]
    },
    {
     "name": "stdout",
     "output_type": "stream",
     "text": [
      "\rReading Comp news ('110660', '세신버팔로')"
     ]
    },
    {
     "name": "stdout",
     "output_type": "stream",
     "text": [
      "\rReading Comp news ('001430', '세아베스틸')"
     ]
    },
    {
     "name": "stdout",
     "output_type": "stream",
     "text": [
      "\rReading Comp news ('003030', '세아제강')"
     ]
    },
    {
     "name": "stdout",
     "output_type": "stream",
     "text": [
      "\rReading Comp news ('019440', '세아특수강')"
     ]
    },
    {
     "name": "stdout",
     "output_type": "stream",
     "text": [
      "\rReading Comp news ('058650', '세아홀딩스')"
     ]
    },
    {
     "name": "stdout",
     "output_type": "stream",
     "text": [
      "\rReading Comp news ('013000', '세우글로벌')"
     ]
    },
    {
     "name": "stdout",
     "output_type": "stream",
     "text": [
      "\rReading Comp news ('100700', '세운메디칼')"
     ]
    },
    {
     "name": "stdout",
     "output_type": "stream",
     "text": [
      "\rReading Comp news ('234100', '세원')"
     ]
    },
    {
     "name": "stdout",
     "output_type": "stream",
     "text": [
      "\rReading Comp news ('024830', '세원물산')"
     ]
    },
    {
     "name": "stdout",
     "output_type": "stream",
     "text": [
      "\rReading Comp news ('091090', '세원셀론텍')"
     ]
    },
    {
     "name": "stdout",
     "output_type": "stream",
     "text": [
      "\rReading Comp news ('021820', '세원정공')"
     ]
    },
    {
     "name": "stdout",
     "output_type": "stream",
     "text": [
      "\rReading Comp news ('067830', '세이브존I&C')"
     ]
    },
    {
     "name": "stdout",
     "output_type": "stream",
     "text": [
      "\rReading Comp news ('033530', '세종공업')"
     ]
    },
    {
     "name": "stdout",
     "output_type": "stream",
     "text": [
      "\rReading Comp news ('135270', '세종머티리얼즈')"
     ]
    },
    {
     "name": "stdout",
     "output_type": "stream",
     "text": [
      "\rReading Comp news ('036630', '세종텔레콤')"
     ]
    },
    {
     "name": "stdout",
     "output_type": "stream",
     "text": [
      "\rReading Comp news ('039310', '세중')"
     ]
    },
    {
     "name": "stdout",
     "output_type": "stream",
     "text": [
      "\rReading Comp news ('075580', '세진중공업')"
     ]
    },
    {
     "name": "stdout",
     "output_type": "stream",
     "text": [
      "\rReading Comp news ('067770', '세진티에스')"
     ]
    },
    {
     "name": "stdout",
     "output_type": "stream",
     "text": [
      "\rReading Comp news ('053450', '세코닉스')"
     ]
    },
    {
     "name": "stdout",
     "output_type": "stream",
     "text": [
      "\rReading Comp news ('027970', '세하')"
     ]
    },
    {
     "name": "stdout",
     "output_type": "stream",
     "text": [
      "\rReading Comp news ('145210', '세화아이엠씨')"
     ]
    },
    {
     "name": "stdout",
     "output_type": "stream",
     "text": [
      "\rReading Comp news ('252500', '세화피앤씨')"
     ]
    },
    {
     "name": "stdout",
     "output_type": "stream",
     "text": [
      "\rReading Comp news ('049180', '셀루메드')"
     ]
    },
    {
     "name": "stdout",
     "output_type": "stream",
     "text": [
      "\rReading Comp news ('108860', '셀바스AI')"
     ]
    },
    {
     "name": "stdout",
     "output_type": "stream",
     "text": [
      "\rReading Comp news ('208370', '셀바스헬스케어')"
     ]
    },
    {
     "name": "stdout",
     "output_type": "stream",
     "text": [
      "\rReading Comp news ('068270', '셀트리온')"
     ]
    },
    {
     "name": "stdout",
     "output_type": "stream",
     "text": [
      "\rReading Comp news ('068760', '셀트리온제약')"
     ]
    },
    {
     "name": "stdout",
     "output_type": "stream",
     "text": [
      "\rReading Comp news ('091990', '셀트리온헬스케어')"
     ]
    },
    {
     "name": "stdout",
     "output_type": "stream",
     "text": [
      "\rReading Comp news ('053110', '소리바다')"
     ]
    },
    {
     "name": "stdout",
     "output_type": "stream",
     "text": [
      "\rReading Comp news ('032680', '소프트센')"
     ]
    },
    {
     "name": "stdout",
     "output_type": "stream",
     "text": [
      "\rReading Comp news ('032685', '소프트센우')"
     ]
    },
    {
     "name": "stdout",
     "output_type": "stream",
     "text": [
      "\rReading Comp news ('210610', '소프트캠프')"
     ]
    },
    {
     "name": "stdout",
     "output_type": "stream",
     "text": [
      "\rReading Comp news ('066910', '손오공')"
     ]
    },
    {
     "name": "stdout",
     "output_type": "stream",
     "text": [
      "\rReading Comp news ('043100', '솔고바이오')"
     ]
    },
    {
     "name": "stdout",
     "output_type": "stream",
     "text": [
      "\rReading Comp news ('154040', '솔루에타')"
     ]
    },
    {
     "name": "stdout",
     "output_type": "stream",
     "text": [
      "\rReading Comp news ('035610', '솔본')"
     ]
    },
    {
     "name": "stdout",
     "output_type": "stream",
     "text": [
      "\rReading Comp news ('036830', '솔브레인')"
     ]
    },
    {
     "name": "stdout",
     "output_type": "stream",
     "text": [
      "\rReading Comp news ('230980', '솔트웍스')"
     ]
    },
    {
     "name": "stdout",
     "output_type": "stream",
     "text": [
      "\rReading Comp news ('004430', '송원산업')"
     ]
    },
    {
     "name": "stdout",
     "output_type": "stream",
     "text": [
      "\rReading Comp news ('086980', '쇼박스')"
     ]
    },
    {
     "name": "stdout",
     "output_type": "stream",
     "text": [
      "\rReading Comp news ('050960', '수산아이앤티')"
     ]
    },
    {
     "name": "stdout",
     "output_type": "stream",
     "text": [
      "\rReading Comp news ('017550', '수산중공업')"
     ]
    },
    {
     "name": "stdout",
     "output_type": "stream",
     "text": [
      "\rReading Comp news ('084180', '수성')"
     ]
    },
    {
     "name": "stdout",
     "output_type": "stream",
     "text": [
      "\rReading Comp news ('253840', '수젠텍')"
     ]
    },
    {
     "name": "stdout",
     "output_type": "stream",
     "text": [
      "\rReading Comp news ('002200', '수출포장')"
     ]
    },
    {
     "name": "stdout",
     "output_type": "stream",
     "text": [
      "\rReading Comp news ('185190', '수프로')"
     ]
    },
    {
     "name": "stdout",
     "output_type": "stream",
     "text": [
      "\rReading Comp news ('236200', '슈프리마')"
     ]
    },
    {
     "name": "stdout",
     "output_type": "stream",
     "text": [
      "\rReading Comp news ('094840', '슈프리마에이치큐')"
     ]
    },
    {
     "name": "stdout",
     "output_type": "stream",
     "text": [
      "\rReading Comp news ('192440', '슈피겐코리아')"
     ]
    },
    {
     "name": "stdout",
     "output_type": "stream",
     "text": [
      "\rReading Comp news ('099440', '스맥')"
     ]
    },
    {
     "name": "stdout",
     "output_type": "stream",
     "text": [
      "\rReading Comp news ('053210', '스카이라이프')"
     ]
    },
    {
     "name": "stdout",
     "output_type": "stream",
     "text": [
      "\rReading Comp news ('033790', '스카이문스테크놀로지')"
     ]
    },
    {
     "name": "stdout",
     "output_type": "stream",
     "text": [
      "\rReading Comp news ('159910', '스킨앤스킨')"
     ]
    },
    {
     "name": "stdout",
     "output_type": "stream",
     "text": [
      "\rReading Comp news ('115570', '스타플렉스')"
     ]
    },
    {
     "name": "stdout",
     "output_type": "stream",
     "text": [
      "\rReading Comp news ('258540', '스템랩')"
     ]
    },
    {
     "name": "stdout",
     "output_type": "stream",
     "text": [
      "\rReading Comp news ('253450', '스튜디오드래곤')"
     ]
    },
    {
     "name": "stdout",
     "output_type": "stream",
     "text": [
      "\rReading Comp news ('087220', '스틸플라워')"
     ]
    },
    {
     "name": "stdout",
     "output_type": "stream",
     "text": [
      "\rReading Comp news ('245030', '스페이스솔루션')"
     ]
    },
    {
     "name": "stdout",
     "output_type": "stream",
     "text": [
      "\rReading Comp news ('013810', '스페코')"
     ]
    },
    {
     "name": "stdout",
     "output_type": "stream",
     "text": [
      "\rReading Comp news ('039670', '스포츠서울')"
     ]
    },
    {
     "name": "stdout",
     "output_type": "stream",
     "text": [
      "\rReading Comp news ('049830', '승일')"
     ]
    },
    {
     "name": "stdout",
     "output_type": "stream",
     "text": [
      "\rReading Comp news ('020710', '시공테크')"
     ]
    },
    {
     "name": "stdout",
     "output_type": "stream",
     "text": [
      "\rReading Comp news ('033170', '시그네틱스')"
     ]
    },
    {
     "name": "stdout",
     "output_type": "stream",
     "text": [
      "\rReading Comp news ('260870', '시그넷이브이')"
     ]
    },
    {
     "name": "stdout",
     "output_type": "stream",
     "text": [
      "\rReading Comp news ('246830', '시냅스엠')"
     ]
    },
    {
     "name": "stdout",
     "output_type": "stream",
     "text": [
      "\rReading Comp news ('048870', '시너지이노베이션')"
     ]
    },
    {
     "name": "stdout",
     "output_type": "stream",
     "text": [
      "\rReading Comp news ('025320', '시노펙스')"
     ]
    },
    {
     "name": "stdout",
     "output_type": "stream",
     "text": [
      "\rReading Comp news ('134790', '시디즈')"
     ]
    },
    {
     "name": "stdout",
     "output_type": "stream",
     "text": [
      "\rReading Comp news ('269620', '시스웍')"
     ]
    },
    {
     "name": "stdout",
     "output_type": "stream",
     "text": [
      "\rReading Comp news ('131090', '시큐브')"
     ]
    },
    {
     "name": "stdout",
     "output_type": "stream",
     "text": [
      "\rReading Comp news ('232830', '시큐센')"
     ]
    },
    {
     "name": "stdout",
     "output_type": "stream",
     "text": [
      "\rReading Comp news ('016590', '신대양제지')"
     ]
    },
    {
     "name": "stdout",
     "output_type": "stream",
     "text": [
      "\rReading Comp news ('029530', '신도리코')"
     ]
    },
    {
     "name": "stdout",
     "output_type": "stream",
     "text": [
      "\rReading Comp news ('004970', '신라교역')"
     ]
    },
    {
     "name": "stdout",
     "output_type": "stream",
     "text": [
      "\rReading Comp news ('001000', '신라섬유')"
     ]
    },
    {
     "name": "stdout",
     "output_type": "stream",
     "text": [
      "\rReading Comp news ('025870', '신라에스지')"
     ]
    },
    {
     "name": "stdout",
     "output_type": "stream",
     "text": [
      "\rReading Comp news ('215600', '신라젠')"
     ]
    },
    {
     "name": "stdout",
     "output_type": "stream",
     "text": [
      "\rReading Comp news ('065350', '신성델타테크')"
     ]
    },
    {
     "name": "stdout",
     "output_type": "stream",
     "text": [
      "\rReading Comp news ('011930', '신성이엔지')"
     ]
    },
    {
     "name": "stdout",
     "output_type": "stream",
     "text": [
      "\rReading Comp news ('005390', '신성통상')"
     ]
    },
    {
     "name": "stdout",
     "output_type": "stream",
     "text": [
      "\rReading Comp news ('004170', '신세계')"
     ]
    },
    {
     "name": "stdout",
     "output_type": "stream",
     "text": [
      "\rReading Comp news ('035510', '신세계 I&C')"
     ]
    },
    {
     "name": "stdout",
     "output_type": "stream",
     "text": [
      "\rReading Comp news ('034300', '신세계건설')"
     ]
    },
    {
     "name": "stdout",
     "output_type": "stream",
     "text": [
      "\rReading Comp news ('031430', '신세계인터내셔날')"
     ]
    },
    {
     "name": "stdout",
     "output_type": "stream",
     "text": [
      "\rReading Comp news ('031440', '신세계푸드')"
     ]
    },
    {
     "name": "stdout",
     "output_type": "stream",
     "text": [
      "\rReading Comp news ('006880', '신송홀딩스')"
     ]
    },
    {
     "name": "stdout",
     "output_type": "stream",
     "text": [
      "\rReading Comp news ('056000', '신스타임즈')"
     ]
    },
    {
     "name": "stdout",
     "output_type": "stream",
     "text": [
      "\rReading Comp news ('002800', '신신제약')"
     ]
    },
    {
     "name": "stdout",
     "output_type": "stream",
     "text": [
      "\rReading Comp news ('005800', '신영와코루')"
     ]
    },
    {
     "name": "stdout",
     "output_type": "stream",
     "text": [
      "\rReading Comp news ('001720', '신영증권')"
     ]
    },
    {
     "name": "stdout",
     "output_type": "stream",
     "text": [
      "\rReading Comp news ('001725', '신영증권우')"
     ]
    },
    {
     "name": "stdout",
     "output_type": "stream",
     "text": [
      "\rReading Comp news ('009270', '신원')"
     ]
    },
    {
     "name": "stdout",
     "output_type": "stream",
     "text": [
      "\rReading Comp news ('009275', '신원우')"
     ]
    },
    {
     "name": "stdout",
     "output_type": "stream",
     "text": [
      "\rReading Comp news ('017000', '신원종합개발')"
     ]
    },
    {
     "name": "stdout",
     "output_type": "stream",
     "text": [
      "\rReading Comp news ('002700', '신일산업')"
     ]
    },
    {
     "name": "stdout",
     "output_type": "stream",
     "text": [
      "\rReading Comp news ('012790', '신일제약')"
     ]
    },
    {
     "name": "stdout",
     "output_type": "stream",
     "text": [
      "\rReading Comp news ('138070', '신진에스엠')"
     ]
    },
    {
     "name": "stdout",
     "output_type": "stream",
     "text": [
      "\rReading Comp news ('019170', '신풍제약')"
     ]
    },
    {
     "name": "stdout",
     "output_type": "stream",
     "text": [
      "\rReading Comp news ('019175', '신풍제약우')"
     ]
    },
    {
     "name": "stdout",
     "output_type": "stream",
     "text": [
      "\rReading Comp news ('002870', '신풍제지')"
     ]
    },
    {
     "name": "stdout",
     "output_type": "stream",
     "text": [
      "\rReading Comp news ('005450', '신한')"
     ]
    },
    {
     "name": "stdout",
     "output_type": "stream",
     "text": [
      "\rReading Comp news ('257730', '신한제3호스팩')"
     ]
    },
    {
     "name": "stdout",
     "output_type": "stream",
     "text": [
      "\rReading Comp news ('277480', '신한제4호스팩')"
     ]
    },
    {
     "name": "stdout",
     "output_type": "stream",
     "text": [
      "\rReading Comp news ('055550', '신한지주')"
     ]
    },
    {
     "name": "stdout",
     "output_type": "stream",
     "text": [
      "\rReading Comp news ('001770', '신화실업')"
     ]
    },
    {
     "name": "stdout",
     "output_type": "stream",
     "text": [
      "\rReading Comp news ('056700', '신화인터텍')"
     ]
    },
    {
     "name": "stdout",
     "output_type": "stream",
     "text": [
      "\rReading Comp news ('187270', '신화콘텍')"
     ]
    },
    {
     "name": "stdout",
     "output_type": "stream",
     "text": [
      "\rReading Comp news ('004080', '신흥')"
     ]
    },
    {
     "name": "stdout",
     "output_type": "stream",
     "text": [
      "\rReading Comp news ('243840', '신흥에스이씨')"
     ]
    },
    {
     "name": "stdout",
     "output_type": "stream",
     "text": [
      "\rReading Comp news ('108320', '실리콘웍스')"
     ]
    },
    {
     "name": "stdout",
     "output_type": "stream",
     "text": [
      "\rReading Comp news ('222800', '심텍')"
     ]
    },
    {
     "name": "stdout",
     "output_type": "stream",
     "text": [
      "\rReading Comp news ('036710', '심텍홀딩스')"
     ]
    },
    {
     "name": "stdout",
     "output_type": "stream",
     "text": [
      "\rReading Comp news ('160980', '싸이맥스')"
     ]
    },
    {
     "name": "stdout",
     "output_type": "stream",
     "text": [
      "\rReading Comp news ('102280', '쌍방울')"
     ]
    },
    {
     "name": "stdout",
     "output_type": "stream",
     "text": [
      "\rReading Comp news ('003410', '쌍용양회')"
     ]
    },
    {
     "name": "stdout",
     "output_type": "stream",
     "text": [
      "\rReading Comp news ('003415', '쌍용양회우')"
     ]
    },
    {
     "name": "stdout",
     "output_type": "stream",
     "text": [
      "\rReading Comp news ('010280', '쌍용정보통신')"
     ]
    },
    {
     "name": "stdout",
     "output_type": "stream",
     "text": [
      "\rReading Comp news ('003620', '쌍용차')"
     ]
    },
    {
     "name": "stdout",
     "output_type": "stream",
     "text": [
      "\rReading Comp news ('004770', '써니전자')"
     ]
    },
    {
     "name": "stdout",
     "output_type": "stream",
     "text": [
      "\rReading Comp news ('217320', '썬테크')"
     ]
    },
    {
     "name": "stdout",
     "output_type": "stream",
     "text": [
      "\rReading Comp news ('122800', '썬텍')"
     ]
    },
    {
     "name": "stdout",
     "output_type": "stream",
     "text": [
      "\rReading Comp news ('208640', '썸에이지')"
     ]
    },
    {
     "name": "stdout",
     "output_type": "stream",
     "text": [
      "\rReading Comp news ('222420', '쎄노텍')"
     ]
    },
    {
     "name": "stdout",
     "output_type": "stream",
     "text": [
      "\rReading Comp news ('037760', '쎄니트')"
     ]
    },
    {
     "name": "stdout",
     "output_type": "stream",
     "text": [
      "\rReading Comp news ('136510', '쎄미시스코')"
     ]
    },
    {
     "name": "stdout",
     "output_type": "stream",
     "text": [
      "\rReading Comp news ('099320', '쎄트렉아이')"
     ]
    },
    {
     "name": "stdout",
     "output_type": "stream",
     "text": [
      "\rReading Comp news ('049960', '쎌바이오텍')"
     ]
    },
    {
     "name": "stdout",
     "output_type": "stream",
     "text": [
      "\rReading Comp news ('050890', '쏠리드')"
     ]
    },
    {
     "name": "stdout",
     "output_type": "stream",
     "text": [
      "\rReading Comp news ('066790', '씨씨에스')"
     ]
    },
    {
     "name": "stdout",
     "output_type": "stream",
     "text": [
      "\rReading Comp news ('222080', '씨아이에스')"
     ]
    },
    {
     "name": "stdout",
     "output_type": "stream",
     "text": [
      "\rReading Comp news ('004920', '씨아이테크')"
     ]
    },
    {
     "name": "stdout",
     "output_type": "stream",
     "text": [
      "\rReading Comp news ('236030', '씨알푸드')"
     ]
    },
    {
     "name": "stdout",
     "output_type": "stream",
     "text": [
      "\rReading Comp news ('103660', '씨앗')"
     ]
    },
    {
     "name": "stdout",
     "output_type": "stream",
     "text": [
      "\rReading Comp news ('245450', '씨앤에스링크')"
     ]
    },
    {
     "name": "stdout",
     "output_type": "stream",
     "text": [
      "\rReading Comp news ('264660', '씨앤지하이테크')"
     ]
    },
    {
     "name": "stdout",
     "output_type": "stream",
     "text": [
      "\rReading Comp news ('112610', '씨에스윈드')"
     ]
    },
    {
     "name": "stdout",
     "output_type": "stream",
     "text": [
      "\rReading Comp news ('115530', '씨엔플러스')"
     ]
    },
    {
     "name": "stdout",
     "output_type": "stream",
     "text": [
      "\rReading Comp news ('225330', '씨엠에스에듀')"
     ]
    },
    {
     "name": "stdout",
     "output_type": "stream",
     "text": [
      "\rReading Comp news ('115480', '씨유메디칼')"
     ]
    },
    {
     "name": "stdout",
     "output_type": "stream",
     "text": [
      "\rReading Comp news ('189330', '씨이랩')"
     ]
    },
    {
     "name": "stdout",
     "output_type": "stream",
     "text": [
      "\rReading Comp news ('096530', '씨젠')"
     ]
    },
    {
     "name": "stdout",
     "output_type": "stream",
     "text": [
      "\rReading Comp news ('900120', '씨케이에이치')"
     ]
    },
    {
     "name": "stdout",
     "output_type": "stream",
     "text": [
      "\rReading Comp news ('101240', '씨큐브')"
     ]
    },
    {
     "name": "stdout",
     "output_type": "stream",
     "text": [
      "\rReading Comp news ('047920', '씨트리')"
     ]
    },
    {
     "name": "stdout",
     "output_type": "stream",
     "text": [
      "\rReading Comp news ('189540', '씨티네트웍스')"
     ]
    },
    {
     "name": "stdout",
     "output_type": "stream",
     "text": [
      "\rReading Comp news ('060590', '씨티씨바이오')"
     ]
    },
    {
     "name": "stdout",
     "output_type": "stream",
     "text": [
      "\rReading Comp news ('036170', '씨티엘')"
     ]
    },
    {
     "name": "stdout",
     "output_type": "stream",
     "text": [
      "\rReading Comp news ('260930', '씨티케이코스메틱스')"
     ]
    },
    {
     "name": "stdout",
     "output_type": "stream",
     "text": [
      "\rReading Comp news ('013990', '아가방컴퍼니')"
     ]
    },
    {
     "name": "stdout",
     "output_type": "stream",
     "text": [
      "\rReading Comp news ('123860', '아나패스')"
     ]
    },
    {
     "name": "stdout",
     "output_type": "stream",
     "text": [
      "\rReading Comp news ('008700', '아남전자')"
     ]
    },
    {
     "name": "stdout",
     "output_type": "stream",
     "text": [
      "\rReading Comp news ('058220', '아리온')"
     ]
    },
    {
     "name": "stdout",
     "output_type": "stream",
     "text": [
      "\rReading Comp news ('002790', '아모레G')"
     ]
    },
    {
     "name": "stdout",
     "output_type": "stream",
     "text": [
      "\rReading Comp news ('002795', '아모레G우')"
     ]
    },
    {
     "name": "stdout",
     "output_type": "stream",
     "text": [
      "\rReading Comp news ('090430', '아모레퍼시픽')"
     ]
    },
    {
     "name": "stdout",
     "output_type": "stream",
     "text": [
      "\rReading Comp news ('090435', '아모레퍼시픽우')"
     ]
    },
    {
     "name": "stdout",
     "output_type": "stream",
     "text": [
      "\rReading Comp news ('052710', '아모텍')"
     ]
    },
    {
     "name": "stdout",
     "output_type": "stream",
     "text": [
      "\rReading Comp news ('074430', '아미노로직스')"
     ]
    },
    {
     "name": "stdout",
     "output_type": "stream",
     "text": [
      "\rReading Comp news ('092040', '아미코젠')"
     ]
    },
    {
     "name": "stdout",
     "output_type": "stream",
     "text": [
      "\rReading Comp news ('083930', '아바코')"
     ]
    },
    {
     "name": "stdout",
     "output_type": "stream",
     "text": [
      "\rReading Comp news ('149950', '아바텍')"
     ]
    },
    {
     "name": "stdout",
     "output_type": "stream",
     "text": [
      "\rReading Comp news ('036010', '아비코전자')"
     ]
    },
    {
     "name": "stdout",
     "output_type": "stream",
     "text": [
      "\rReading Comp news ('002030', '아세아')"
     ]
    },
    {
     "name": "stdout",
     "output_type": "stream",
     "text": [
      "\rReading Comp news ('183190', '아세아시멘트')"
     ]
    },
    {
     "name": "stdout",
     "output_type": "stream",
     "text": [
      "\rReading Comp news ('002310', '아세아제지')"
     ]
    },
    {
     "name": "stdout",
     "output_type": "stream",
     "text": [
      "\rReading Comp news ('050860', '아세아텍')"
     ]
    },
    {
     "name": "stdout",
     "output_type": "stream",
     "text": [
      "\rReading Comp news ('246720', '아스타')"
     ]
    },
    {
     "name": "stdout",
     "output_type": "stream",
     "text": [
      "\rReading Comp news ('067390', '아스트')"
     ]
    },
    {
     "name": "stdout",
     "output_type": "stream",
     "text": [
      "\rReading Comp news ('127710', '아시아경제')"
     ]
    },
    {
     "name": "stdout",
     "output_type": "stream",
     "text": [
      "\rReading Comp news ('020560', '아시아나항공')"
     ]
    },
    {
     "name": "stdout",
     "output_type": "stream",
     "text": [
      "\rReading Comp news ('154030', '아시아종묘')"
     ]
    },
    {
     "name": "stdout",
     "output_type": "stream",
     "text": [
      "\rReading Comp news ('227610', '아우딘퓨쳐스')"
     ]
    },
    {
     "name": "stdout",
     "output_type": "stream",
     "text": [
      "\rReading Comp news ('143160', '아이디스')"
     ]
    },
    {
     "name": "stdout",
     "output_type": "stream",
     "text": [
      "\rReading Comp news ('054800', '아이디스홀딩스')"
     ]
    },
    {
     "name": "stdout",
     "output_type": "stream",
     "text": [
      "\rReading Comp news ('060570', '아이리버')"
     ]
    },
    {
     "name": "stdout",
     "output_type": "stream",
     "text": [
      "\rReading Comp news ('122900', '아이마켓코리아')"
     ]
    },
    {
     "name": "stdout",
     "output_type": "stream",
     "text": [
      "\rReading Comp news ('099190', '아이센스')"
     ]
    },
    {
     "name": "stdout",
     "output_type": "stream",
     "text": [
      "\rReading Comp news ('214430', '아이쓰리시스템')"
     ]
    },
    {
     "name": "stdout",
     "output_type": "stream",
     "text": [
      "\rReading Comp news ('040910', '아이씨디')"
     ]
    },
    {
     "name": "stdout",
     "output_type": "stream",
     "text": [
      "\rReading Comp news ('068940', '아이씨케이')"
     ]
    },
    {
     "name": "stdout",
     "output_type": "stream",
     "text": [
      "\rReading Comp news ('052860', '아이앤씨')"
     ]
    },
    {
     "name": "stdout",
     "output_type": "stream",
     "text": [
      "\rReading Comp news ('010780', '아이에스동서')"
     ]
    },
    {
     "name": "stdout",
     "output_type": "stream",
     "text": [
      "\rReading Comp news ('069920', '아이에스이커머스')"
     ]
    },
    {
     "name": "stdout",
     "output_type": "stream",
     "text": [
      "\rReading Comp news ('038880', '아이에이')"
     ]
    },
    {
     "name": "stdout",
     "output_type": "stream",
     "text": [
      "\rReading Comp news ('079440', '아이엔지생명')"
     ]
    },
    {
     "name": "stdout",
     "output_type": "stream",
     "text": [
      "\rReading Comp news ('101390', '아이엠')"
     ]
    },
    {
     "name": "stdout",
     "output_type": "stream",
     "text": [
      "\rReading Comp news ('226350', '아이엠텍')"
     ]
    },
    {
     "name": "stdout",
     "output_type": "stream",
     "text": [
      "\rReading Comp news ('078860', '아이오케이')"
     ]
    },
    {
     "name": "stdout",
     "output_type": "stream",
     "text": [
      "\rReading Comp news ('114810', '아이원스')"
     ]
    },
    {
     "name": "stdout",
     "output_type": "stream",
     "text": [
      "\rReading Comp news ('031310', '아이즈비전')"
     ]
    },
    {
     "name": "stdout",
     "output_type": "stream",
     "text": [
      "\rReading Comp news ('185490', '아이진')"
     ]
    },
    {
     "name": "stdout",
     "output_type": "stream",
     "text": [
      "\rReading Comp news ('059100', '아이컴포넌트')"
     ]
    },
    {
     "name": "stdout",
     "output_type": "stream",
     "text": [
      "\rReading Comp news ('149010', '아이케이세미콘')"
     ]
    },
    {
     "name": "stdout",
     "output_type": "stream",
     "text": [
      "\rReading Comp news ('052460', '아이크래프트')"
     ]
    },
    {
     "name": "stdout",
     "output_type": "stream",
     "text": [
      "\rReading Comp news ('119830', '아이텍반도체')"
     ]
    },
    {
     "name": "stdout",
     "output_type": "stream",
     "text": [
      "\rReading Comp news ('124500', '아이티센')"
     ]
    },
    {
     "name": "stdout",
     "output_type": "stream",
     "text": [
      "\rReading Comp news ('033660', '아주캐피탈')"
     ]
    },
    {
     "name": "stdout",
     "output_type": "stream",
     "text": [
      "\rReading Comp news ('032080', '아즈텍WB')"
     ]
    },
    {
     "name": "stdout",
     "output_type": "stream",
     "text": [
      "\rReading Comp news ('013310', '아진산업')"
     ]
    },
    {
     "name": "stdout",
     "output_type": "stream",
     "text": [
      "\rReading Comp news ('059120', '아진엑스텍')"
     ]
    },
    {
     "name": "stdout",
     "output_type": "stream",
     "text": [
      "\rReading Comp news ('023890', '아트라스BX')"
     ]
    },
    {
     "name": "stdout",
     "output_type": "stream",
     "text": [
      "\rReading Comp news ('101140', '아티스')"
     ]
    },
    {
     "name": "stdout",
     "output_type": "stream",
     "text": [
      "\rReading Comp news ('067160', '아프리카TV')"
     ]
    },
    {
     "name": "stdout",
     "output_type": "stream",
     "text": [
      "\rReading Comp news ('001540', '안국약품')"
     ]
    },
    {
     "name": "stdout",
     "output_type": "stream",
     "text": [
      "\rReading Comp news ('053800', '안랩')"
     ]
    },
    {
     "name": "stdout",
     "output_type": "stream",
     "text": [
      "\rReading Comp news ('251280', '안지오랩')"
     ]
    },
    {
     "name": "stdout",
     "output_type": "stream",
     "text": [
      "\rReading Comp news ('065660', '안트로젠')"
     ]
    },
    {
     "name": "stdout",
     "output_type": "stream",
     "text": [
      "\rReading Comp news ('271400', '알로이스')"
     ]
    },
    {
     "name": "stdout",
     "output_type": "stream",
     "text": [
      "\rReading Comp news ('001780', '알루코')"
     ]
    },
    {
     "name": "stdout",
     "output_type": "stream",
     "text": [
      "\rReading Comp news ('260660', '알리코제약')"
     ]
    },
    {
     "name": "stdout",
     "output_type": "stream",
     "text": [
      "\rReading Comp news ('002250', '알보젠코리아')"
     ]
    },
    {
     "name": "stdout",
     "output_type": "stream",
     "text": [
      "\rReading Comp news ('106080', '알비케이이엠디')"
     ]
    },
    {
     "name": "stdout",
     "output_type": "stream",
     "text": [
      "\rReading Comp news ('131370', '알서포트')"
     ]
    },
    {
     "name": "stdout",
     "output_type": "stream",
     "text": [
      "\rReading Comp news ('140670', '알에스오토메이션')"
     ]
    },
    {
     "name": "stdout",
     "output_type": "stream",
     "text": [
      "\rReading Comp news ('096610', '알에프세미')"
     ]
    },
    {
     "name": "stdout",
     "output_type": "stream",
     "text": [
      "\rReading Comp news ('061040', '알에프텍')"
     ]
    },
    {
     "name": "stdout",
     "output_type": "stream",
     "text": [
      "\rReading Comp news ('148250', '알엔투테크놀로지')"
     ]
    },
    {
     "name": "stdout",
     "output_type": "stream",
     "text": [
      "\rReading Comp news ('196170', '알테오젠')"
     ]
    },
    {
     "name": "stdout",
     "output_type": "stream",
     "text": [
      "\rReading Comp news ('123750', '알톤스포츠')"
     ]
    },
    {
     "name": "stdout",
     "output_type": "stream",
     "text": [
      "\rReading Comp news ('085810', '알티캐스트')"
     ]
    },
    {
     "name": "stdout",
     "output_type": "stream",
     "text": [
      "\rReading Comp news ('117670', '알파홀딩스')"
     ]
    },
    {
     "name": "stdout",
     "output_type": "stream",
     "text": [
      "\rReading Comp news ('267810', '앙츠')"
     ]
    },
    {
     "name": "stdout",
     "output_type": "stream",
     "text": [
      "\rReading Comp news ('018250', '애경산업')"
     ]
    },
    {
     "name": "stdout",
     "output_type": "stream",
     "text": [
      "\rReading Comp news ('161000', '애경유화')"
     ]
    },
    {
     "name": "stdout",
     "output_type": "stream",
     "text": [
      "\rReading Comp news ('196300', '애니젠')"
     ]
    },
    {
     "name": "stdout",
     "output_type": "stream",
     "text": [
      "\rReading Comp news ('205500', '액션스퀘어')"
     ]
    },
    {
     "name": "stdout",
     "output_type": "stream",
     "text": [
      "\rReading Comp news ('052790', '액토즈소프트')"
     ]
    },
    {
     "name": "stdout",
     "output_type": "stream",
     "text": [
      "\rReading Comp news ('131400', '액트')"
     ]
    },
    {
     "name": "stdout",
     "output_type": "stream",
     "text": [
      "\rReading Comp news ('238090', '앤디포스')"
     ]
    },
    {
     "name": "stdout",
     "output_type": "stream",
     "text": [
      "\rReading Comp news ('174900', '앱클론')"
     ]
    },
    {
     "name": "stdout",
     "output_type": "stream",
     "text": [
      "\rReading Comp news ('255440', '야스')"
     ]
    },
    {
     "name": "stdout",
     "output_type": "stream",
     "text": [
      "\rReading Comp news ('030960', '양지사')"
     ]
    },
    {
     "name": "stdout",
     "output_type": "stream",
     "text": [
      "\rReading Comp news ('102120', '어보브반도체')"
     ]
    },
    {
     "name": "stdout",
     "output_type": "stream",
     "text": [
      "\rReading Comp news ('224810', '엄지하우스')"
     ]
    },
    {
     "name": "stdout",
     "output_type": "stream",
     "text": [
      "\rReading Comp news ('041590', '에너전트')"
     ]
    },
    {
     "name": "stdout",
     "output_type": "stream",
     "text": [
      "\rReading Comp news ('019990', '에너토크')"
     ]
    },
    {
     "name": "stdout",
     "output_type": "stream",
     "text": [
      "\rReading Comp news ('011090', '에넥스')"
     ]
    },
    {
     "name": "stdout",
     "output_type": "stream",
     "text": [
      "\rReading Comp news ('208890', '에듀케이션파트너')"
     ]
    },
    {
     "name": "stdout",
     "output_type": "stream",
     "text": [
      "\rReading Comp news ('025980', '에머슨퍼시픽')"
     ]
    },
    {
     "name": "stdout",
     "output_type": "stream",
     "text": [
      "\rReading Comp news ('041440', '에버다임')"
     ]
    },
    {
     "name": "stdout",
     "output_type": "stream",
     "text": [
      "\rReading Comp news ('270660', '에브리봇')"
     ]
    },
    {
     "name": "stdout",
     "output_type": "stream",
     "text": [
      "\rReading Comp news ('038680', '에스넷')"
     ]
    },
    {
     "name": "stdout",
     "output_type": "stream",
     "text": [
      "\rReading Comp news ('217480', '에스디생명공학')"
     ]
    },
    {
     "name": "stdout",
     "output_type": "stream",
     "text": [
      "\rReading Comp news ('121890', '에스디시스템')"
     ]
    },
    {
     "name": "stdout",
     "output_type": "stream",
     "text": [
      "\rReading Comp news ('030270', '에스마크')"
     ]
    },
    {
     "name": "stdout",
     "output_type": "stream",
     "text": [
      "\rReading Comp news ('097780', '에스맥')"
     ]
    },
    {
     "name": "stdout",
     "output_type": "stream",
     "text": [
      "\rReading Comp news ('042110', '에스씨디')"
     ]
    },
    {
     "name": "stdout",
     "output_type": "stream",
     "text": [
      "\rReading Comp news ('065420', '에스아이리소스')"
     ]
    },
    {
     "name": "stdout",
     "output_type": "stream",
     "text": [
      "\rReading Comp news ('270210', '에스알바이오텍')"
     ]
    },
    {
     "name": "stdout",
     "output_type": "stream",
     "text": [
      "\rReading Comp news ('103230', '에스앤더블류')"
     ]
    },
    {
     "name": "stdout",
     "output_type": "stream",
     "text": [
      "\rReading Comp news ('260970', '에스앤디')"
     ]
    },
    {
     "name": "stdout",
     "output_type": "stream",
     "text": [
      "\rReading Comp news ('900080', '에스앤씨엔진그룹')"
     ]
    },
    {
     "name": "stdout",
     "output_type": "stream",
     "text": [
      "\rReading Comp news ('101490', '에스앤에스텍')"
     ]
    },
    {
     "name": "stdout",
     "output_type": "stream",
     "text": [
      "\rReading Comp news ('095910', '에스에너지')"
     ]
    },
    {
     "name": "stdout",
     "output_type": "stream",
     "text": [
      "\rReading Comp news ('031330', '에스에이엠티')"
     ]
    },
    {
     "name": "stdout",
     "output_type": "stream",
     "text": [
      "\rReading Comp news ('060540', '에스에이티')"
     ]
    },
    {
     "name": "stdout",
     "output_type": "stream",
     "text": [
      "\rReading Comp news ('158300', '에스에이티이엔지')"
     ]
    },
    {
     "name": "stdout",
     "output_type": "stream",
     "text": [
      "\rReading Comp news ('112240', '에스에프씨')"
     ]
    },
    {
     "name": "stdout",
     "output_type": "stream",
     "text": [
      "\rReading Comp news ('056190', '에스에프에이')"
     ]
    },
    {
     "name": "stdout",
     "output_type": "stream",
     "text": [
      "\rReading Comp news ('080000', '에스엔유')"
     ]
    },
    {
     "name": "stdout",
     "output_type": "stream",
     "text": [
      "\rReading Comp news ('160600', '에스엔텍')"
     ]
    },
    {
     "name": "stdout",
     "output_type": "stream",
     "text": [
      "\rReading Comp news ('263920', '에스엔피월드')"
     ]
    },
    {
     "name": "stdout",
     "output_type": "stream",
     "text": [
      "\rReading Comp news ('086460', '에스엔피제네틱스')"
     ]
    },
    {
     "name": "stdout",
     "output_type": "stream",
     "text": [
      "\rReading Comp news ('005850', '에스엘')"
     ]
    },
    {
     "name": "stdout",
     "output_type": "stream",
     "text": [
      "\rReading Comp news ('246250', '에스엘에스바이오')"
     ]
    },
    {
     "name": "stdout",
     "output_type": "stream",
     "text": [
      "\rReading Comp news ('041510', '에스엠')"
     ]
    },
    {
     "name": "stdout",
     "output_type": "stream",
     "text": [
      "\rReading Comp news ('007820', '에스엠코어')"
     ]
    },
    {
     "name": "stdout",
     "output_type": "stream",
     "text": [
      "\rReading Comp news ('251540', '에스와이제이')"
     ]
    },
    {
     "name": "stdout",
     "output_type": "stream",
     "text": [
      "\rReading Comp news ('109610', '에스와이패널')"
     ]
    },
    {
     "name": "stdout",
     "output_type": "stream",
     "text": [
      "\rReading Comp news ('012750', '에스원')"
     ]
    },
    {
     "name": "stdout",
     "output_type": "stream",
     "text": [
      "\rReading Comp news ('080440', '에스제이케이')"
     ]
    },
    {
     "name": "stdout",
     "output_type": "stream",
     "text": [
      "\rReading Comp news ('217910', '에스제이켐')"
     ]
    },
    {
     "name": "stdout",
     "output_type": "stream",
     "text": [
      "\rReading Comp news ('224020', '에스케이씨에스')"
     ]
    },
    {
     "name": "stdout",
     "output_type": "stream",
     "text": [
      "\rReading Comp news ('096630', '에스코넥')"
     ]
    },
    {
     "name": "stdout",
     "output_type": "stream",
     "text": [
      "\rReading Comp news ('069510', '에스텍')"
     ]
    },
    {
     "name": "stdout",
     "output_type": "stream",
     "text": [
      "\rReading Comp news ('041910', '에스텍파마')"
     ]
    },
    {
     "name": "stdout",
     "output_type": "stream",
     "text": [
      "\rReading Comp news ('234300', '에스트래픽')"
     ]
    },
    {
     "name": "stdout",
     "output_type": "stream",
     "text": [
      "\rReading Comp news ('039440', '에스티아이')"
     ]
    },
    {
     "name": "stdout",
     "output_type": "stream",
     "text": [
      "\rReading Comp news ('098660', '에스티오')"
     ]
    },
    {
     "name": "stdout",
     "output_type": "stream",
     "text": [
      "\rReading Comp news ('052020', '에스티큐브')"
     ]
    },
    {
     "name": "stdout",
     "output_type": "stream",
     "text": [
      "\rReading Comp news ('237690', '에스티팜')"
     ]
    },
    {
     "name": "stdout",
     "output_type": "stream",
     "text": [
      "\rReading Comp news ('050760', '에스폴리텍')"
     ]
    },
    {
     "name": "stdout",
     "output_type": "stream",
     "text": [
      "\rReading Comp news ('058610', '에스피지')"
     ]
    },
    {
     "name": "stdout",
     "output_type": "stream",
     "text": [
      "\rReading Comp news ('043340', '에쎈테크')"
     ]
    },
    {
     "name": "stdout",
     "output_type": "stream",
     "text": [
      "\rReading Comp news ('023960', '에쓰씨엔지니어링')"
     ]
    },
    {
     "name": "stdout",
     "output_type": "stream",
     "text": [
      "\rReading Comp news ('054630', '에이디칩스')"
     ]
    },
    {
     "name": "stdout",
     "output_type": "stream",
     "text": [
      "\rReading Comp news ('200710', '에이디테크놀로지')"
     ]
    },
    {
     "name": "stdout",
     "output_type": "stream",
     "text": [
      "\rReading Comp news ('140910', '에이리츠')"
     ]
    },
    {
     "name": "stdout",
     "output_type": "stream",
     "text": [
      "\rReading Comp news ('078520', '에이블씨엔씨')"
     ]
    },
    {
     "name": "stdout",
     "output_type": "stream",
     "text": [
      "\rReading Comp news ('203400', '에이비온')"
     ]
    },
    {
     "name": "stdout",
     "output_type": "stream",
     "text": [
      "\rReading Comp news ('003800', '에이스침대')"
     ]
    },
    {
     "name": "stdout",
     "output_type": "stream",
     "text": [
      "\rReading Comp news ('088800', '에이스테크')"
     ]
    },
    {
     "name": "stdout",
     "output_type": "stream",
     "text": [
      "\rReading Comp news ('138360', '에이씨티')"
     ]
    },
    {
     "name": "stdout",
     "output_type": "stream",
     "text": [
      "\rReading Comp news ('050320', '에이앤티앤')"
     ]
    },
    {
     "name": "stdout",
     "output_type": "stream",
     "text": [
      "\rReading Comp news ('015260', '에이엔피')"
     ]
    },
    {
     "name": "stdout",
     "output_type": "stream",
     "text": [
      "\rReading Comp news ('234070', '에이원알폼')"
     ]
    },
    {
     "name": "stdout",
     "output_type": "stream",
     "text": [
      "\rReading Comp news ('072990', '에이치시티')"
     ]
    },
    {
     "name": "stdout",
     "output_type": "stream",
     "text": [
      "\rReading Comp news ('044990', '에이치엔에스하이텍')"
     ]
    },
    {
     "name": "stdout",
     "output_type": "stream",
     "text": [
      "\rReading Comp news ('176440', '에이치엔티')"
     ]
    },
    {
     "name": "stdout",
     "output_type": "stream",
     "text": [
      "\rReading Comp news ('028300', '에이치엘비')"
     ]
    },
    {
     "name": "stdout",
     "output_type": "stream",
     "text": [
      "\rReading Comp news ('067630', '에이치엘비생명과학')"
     ]
    },
    {
     "name": "stdout",
     "output_type": "stream",
     "text": [
      "\rReading Comp news ('043220', '에이치엘비파워')"
     ]
    },
    {
     "name": "stdout",
     "output_type": "stream",
     "text": [
      "\rReading Comp news ('239610', '에이치엘사이언스')"
     ]
    },
    {
     "name": "stdout",
     "output_type": "stream",
     "text": [
      "\rReading Comp news ('226340', '에이치엠씨3호스팩')"
     ]
    },
    {
     "name": "stdout",
     "output_type": "stream",
     "text": [
      "\rReading Comp news ('044780', '에이치케이')"
     ]
    },
    {
     "name": "stdout",
     "output_type": "stream",
     "text": [
      "\rReading Comp news ('071670', '에이테크솔루션')"
     ]
    },
    {
     "name": "stdout",
     "output_type": "stream",
     "text": [
      "\rReading Comp news ('045660', '에이텍')"
     ]
    },
    {
     "name": "stdout",
     "output_type": "stream",
     "text": [
      "\rReading Comp news ('224110', '에이텍티앤')"
     ]
    },
    {
     "name": "stdout",
     "output_type": "stream",
     "text": [
      "\rReading Comp news ('021080', '에이티넘인베스트')"
     ]
    },
    {
     "name": "stdout",
     "output_type": "stream",
     "text": [
      "\rReading Comp news ('089530', '에이티세미콘')"
     ]
    },
    {
     "name": "stdout",
     "output_type": "stream",
     "text": [
      "\rReading Comp news ('182400', '에이티젠')"
     ]
    },
    {
     "name": "stdout",
     "output_type": "stream",
     "text": [
      "\rReading Comp news ('073570', '에이티테크놀러지')"
     ]
    },
    {
     "name": "stdout",
     "output_type": "stream",
     "text": [
      "\rReading Comp news ('109960', '에이프로젠 H&G')"
     ]
    },
    {
     "name": "stdout",
     "output_type": "stream",
     "text": [
      "\rReading Comp news ('007460', '에이프로젠 KIC')"
     ]
    },
    {
     "name": "stdout",
     "output_type": "stream",
     "text": [
      "\rReading Comp news ('003060', '에이프로젠제약')"
     ]
    },
    {
     "name": "stdout",
     "output_type": "stream",
     "text": [
      "\rReading Comp news ('043580', '에임하이')"
     ]
    },
    {
     "name": "stdout",
     "output_type": "stream",
     "text": [
      "\rReading Comp news ('214870', '에치디프로')"
     ]
    },
    {
     "name": "stdout",
     "output_type": "stream",
     "text": [
      "\rReading Comp news ('064510', '에코마이스터')"
     ]
    },
    {
     "name": "stdout",
     "output_type": "stream",
     "text": [
      "\rReading Comp news ('230360', '에코마케팅')"
     ]
    },
    {
     "name": "stdout",
     "output_type": "stream",
     "text": [
      "\rReading Comp news ('038870', '에코바이오')"
     ]
    },
    {
     "name": "stdout",
     "output_type": "stream",
     "text": [
      "\rReading Comp news ('086520', '에코프로')"
     ]
    },
    {
     "name": "stdout",
     "output_type": "stream",
     "text": [
      "\rReading Comp news ('038110', '에코플라스틱')"
     ]
    },
    {
     "name": "stdout",
     "output_type": "stream",
     "text": [
      "\rReading Comp news ('073540', '에프알텍')"
     ]
    },
    {
     "name": "stdout",
     "output_type": "stream",
     "text": [
      "\rReading Comp news ('064850', '에프앤가이드')"
     ]
    },
    {
     "name": "stdout",
     "output_type": "stream",
     "text": [
      "\rReading Comp news ('064090', '에프앤리퍼블릭')"
     ]
    },
    {
     "name": "stdout",
     "output_type": "stream",
     "text": [
      "\rReading Comp news ('036810', '에프에스티')"
     ]
    },
    {
     "name": "stdout",
     "output_type": "stream",
     "text": [
      "\rReading Comp news ('063440', '에프엔씨애드컬쳐')"
     ]
    },
    {
     "name": "stdout",
     "output_type": "stream",
     "text": [
      "\rReading Comp news ('173940', '에프엔씨엔터')"
     ]
    },
    {
     "name": "stdout",
     "output_type": "stream",
     "text": [
      "\rReading Comp news ('083500', '에프엔에스테크')"
     ]
    },
    {
     "name": "stdout",
     "output_type": "stream",
     "text": [
      "\rReading Comp news ('065160', '에프티이앤이')"
     ]
    },
    {
     "name": "stdout",
     "output_type": "stream",
     "text": [
      "\rReading Comp news ('054940', '엑사이엔씨')"
     ]
    },
    {
     "name": "stdout",
     "output_type": "stream",
     "text": [
      "\rReading Comp news ('950130', '엑세스바이오')"
     ]
    },
    {
     "name": "stdout",
     "output_type": "stream",
     "text": [
      "\rReading Comp news ('205100', '엑셈')"
     ]
    },
    {
     "name": "stdout",
     "output_type": "stream",
     "text": [
      "\rReading Comp news ('092870', '엑시콘')"
     ]
    },
    {
     "name": "stdout",
     "output_type": "stream",
     "text": [
      "\rReading Comp news ('067570', '엔브이에이치코리아')"
     ]
    },
    {
     "name": "stdout",
     "output_type": "stream",
     "text": [
      "\rReading Comp news ('101400', '엔시트론')"
     ]
    },
    {
     "name": "stdout",
     "output_type": "stream",
     "text": [
      "\rReading Comp news ('036570', '엔씨소프트')"
     ]
    },
    {
     "name": "stdout",
     "output_type": "stream",
     "text": [
      "\rReading Comp news ('217820', '엔에스')"
     ]
    },
    {
     "name": "stdout",
     "output_type": "stream",
     "text": [
      "\rReading Comp news ('138250', '엔에스쇼핑')"
     ]
    },
    {
     "name": "stdout",
     "output_type": "stream",
     "text": [
      "\rReading Comp news ('031860', '엔에스엔')"
     ]
    },
    {
     "name": "stdout",
     "output_type": "stream",
     "text": [
      "\rReading Comp news ('224760', '엔에스컴퍼니')"
     ]
    },
    {
     "name": "stdout",
     "output_type": "stream",
     "text": [
      "\rReading Comp news ('256630', '엔에이치스팩10호')"
     ]
    },
    {
     "name": "stdout",
     "output_type": "stream",
     "text": [
      "\rReading Comp news ('256840', '엔에이치스팩11호')"
     ]
    },
    {
     "name": "stdout",
     "output_type": "stream",
     "text": [
      "\rReading Comp news ('273060', '엔에이치스팩12호')"
     ]
    },
    {
     "name": "stdout",
     "output_type": "stream",
     "text": [
      "\rReading Comp news ('208860', '엔지스테크널러지')"
     ]
    },
    {
     "name": "stdout",
     "output_type": "stream",
     "text": [
      "\rReading Comp news ('183490', '엔지켐생명과학')"
     ]
    },
    {
     "name": "stdout",
     "output_type": "stream",
     "text": [
      "\rReading Comp news ('085310', '엔케이')"
     ]
    },
    {
     "name": "stdout",
     "output_type": "stream",
     "text": [
      "\rReading Comp news ('009810', '엔케이물산')"
     ]
    },
    {
     "name": "stdout",
     "output_type": "stream",
     "text": [
      "\rReading Comp news ('206400', '엔터메이트')"
     ]
    },
    {
     "name": "stdout",
     "output_type": "stream",
     "text": [
      "\rReading Comp news ('069410', '엔텔스')"
     ]
    },
    {
     "name": "stdout",
     "output_type": "stream",
     "text": [
      "\rReading Comp news ('048830', '엔피케이')"
     ]
    },
    {
     "name": "stdout",
     "output_type": "stream",
     "text": [
      "\rReading Comp news ('096870', '엘디티')"
     ]
    },
    {
     "name": "stdout",
     "output_type": "stream",
     "text": [
      "\rReading Comp news ('900140', '엘브이엠씨홀딩스')"
     ]
    },
    {
     "name": "stdout",
     "output_type": "stream",
     "text": [
      "\rReading Comp news ('061970', '엘비세미콘')"
     ]
    },
    {
     "name": "stdout",
     "output_type": "stream",
     "text": [
      "\rReading Comp news ('138690', '엘아이에스')"
     ]
    },
    {
     "name": "stdout",
     "output_type": "stream",
     "text": [
      "\rReading Comp news ('066970', '엘앤에프')"
     ]
    },
    {
     "name": "stdout",
     "output_type": "stream",
     "text": [
      "\rReading Comp news ('156100', '엘앤케이바이오')"
     ]
    },
    {
     "name": "stdout",
     "output_type": "stream",
     "text": [
      "\rReading Comp news ('073110', '엘엠에스')"
     ]
    },
    {
     "name": "stdout",
     "output_type": "stream",
     "text": [
      "\rReading Comp news ('083310', '엘오티베큠')"
     ]
    },
    {
     "name": "stdout",
     "output_type": "stream",
     "text": [
      "\rReading Comp news ('037950', '엘컴텍')"
     ]
    },
    {
     "name": "stdout",
     "output_type": "stream",
     "text": [
      "\rReading Comp news ('170920', '엘티씨')"
     ]
    },
    {
     "name": "stdout",
     "output_type": "stream",
     "text": [
      "\rReading Comp news ('183350', '엘피케이')"
     ]
    },
    {
     "name": "stdout",
     "output_type": "stream",
     "text": [
      "\rReading Comp news ('058630', '엠게임')"
     ]
    },
    {
     "name": "stdout",
     "output_type": "stream",
     "text": [
      "\rReading Comp news ('058970', '엠로')"
     ]
    },
    {
     "name": "stdout",
     "output_type": "stream",
     "text": [
      "\rReading Comp news ('019590', '엠벤처투자')"
     ]
    },
    {
     "name": "stdout",
     "output_type": "stream",
     "text": [
      "\rReading Comp news ('097520', '엠씨넥스')"
     ]
    },
    {
     "name": "stdout",
     "output_type": "stream",
     "text": [
      "\rReading Comp news ('225860', '엠앤씨생명과학')"
     ]
    },
    {
     "name": "stdout",
     "output_type": "stream",
     "text": [
      "\rReading Comp news ('009780', '엠에스씨')"
     ]
    },
    {
     "name": "stdout",
     "output_type": "stream",
     "text": [
      "\rReading Comp news ('123040', '엠에스오토텍')"
     ]
    },
    {
     "name": "stdout",
     "output_type": "stream",
     "text": [
      "\rReading Comp news ('251960', '엠에프엠코리아')"
     ]
    },
    {
     "name": "stdout",
     "output_type": "stream",
     "text": [
      "\rReading Comp news ('032790', '엠젠플러스')"
     ]
    },
    {
     "name": "stdout",
     "output_type": "stream",
     "text": [
      "\rReading Comp news ('033160', '엠케이전자')"
     ]
    },
    {
     "name": "stdout",
     "output_type": "stream",
     "text": [
      "\rReading Comp news ('259630', '엠플러스')"
     ]
    },
    {
     "name": "stdout",
     "output_type": "stream",
     "text": [
      "\rReading Comp news ('115960', '연우')"
     ]
    },
    {
     "name": "stdout",
     "output_type": "stream",
     "text": [
      "\rReading Comp news ('090740', '연이정보통신')"
     ]
    },
    {
     "name": "stdout",
     "output_type": "stream",
     "text": [
      "\rReading Comp news ('014440', '영보화학')"
     ]
    },
    {
     "name": "stdout",
     "output_type": "stream",
     "text": [
      "\rReading Comp news ('007530', '영신금속')"
     ]
    },
    {
     "name": "stdout",
     "output_type": "stream",
     "text": [
      "\rReading Comp news ('143540', '영우디에스피')"
     ]
    },
    {
     "name": "stdout",
     "output_type": "stream",
     "text": [
      "\rReading Comp news ('111770', '영원무역')"
     ]
    },
    {
     "name": "stdout",
     "output_type": "stream",
     "text": [
      "\rReading Comp news ('009970', '영원무역홀딩스')"
     ]
    },
    {
     "name": "stdout",
     "output_type": "stream",
     "text": [
      "\rReading Comp news ('036180', '영인프런티어')"
     ]
    },
    {
     "name": "stdout",
     "output_type": "stream",
     "text": [
      "\rReading Comp news ('003520', '영진약품')"
     ]
    },
    {
     "name": "stdout",
     "output_type": "stream",
     "text": [
      "\rReading Comp news ('000670', '영풍')"
     ]
    },
    {
     "name": "stdout",
     "output_type": "stream",
     "text": [
      "\rReading Comp news ('036560', '영풍정밀')"
     ]
    },
    {
     "name": "stdout",
     "output_type": "stream",
     "text": [
      "\rReading Comp news ('006740', '영풍제지')"
     ]
    },
    {
     "name": "stdout",
     "output_type": "stream",
     "text": [
      "\rReading Comp news ('242850', '영현무역')"
     ]
    },
    {
     "name": "stdout",
     "output_type": "stream",
     "text": [
      "\rReading Comp news ('012280', '영화금속')"
     ]
    },
    {
     "name": "stdout",
     "output_type": "stream",
     "text": [
      "\rReading Comp news ('265560', '영화테크')"
     ]
    },
    {
     "name": "stdout",
     "output_type": "stream",
     "text": [
      "\rReading Comp news ('012160', '영흥철강')"
     ]
    },
    {
     "name": "stdout",
     "output_type": "stream",
     "text": [
      "\rReading Comp news ('036000', '예림당')"
     ]
    },
    {
     "name": "stdout",
     "output_type": "stream",
     "text": [
      "\rReading Comp news ('053280', '예스24')"
     ]
    },
    {
     "name": "stdout",
     "output_type": "stream",
     "text": [
      "\rReading Comp news ('015360', '예스코홀딩스')"
     ]
    },
    {
     "name": "stdout",
     "output_type": "stream",
     "text": [
      "\rReading Comp news ('122640', '예스티')"
     ]
    },
    {
     "name": "stdout",
     "output_type": "stream",
     "text": [
      "\rReading Comp news ('179720', '옐로페이')"
     ]
    },
    {
     "name": "stdout",
     "output_type": "stream",
     "text": [
      "\rReading Comp news ('900300', '오가닉티코스메틱')"
     ]
    },
    {
     "name": "stdout",
     "output_type": "stream",
     "text": [
      "\rReading Comp news ('045060', '오공')"
     ]
    },
    {
     "name": "stdout",
     "output_type": "stream",
     "text": [
      "\rReading Comp news ('080520', '오디텍')"
     ]
    },
    {
     "name": "stdout",
     "output_type": "stream",
     "text": [
      "\rReading Comp news ('007310', '오뚜기')"
     ]
    },
    {
     "name": "stdout",
     "output_type": "stream",
     "text": [
      "\rReading Comp news ('039830', '오로라')"
     ]
    },
    {
     "name": "stdout",
     "output_type": "stream",
     "text": [
      "\rReading Comp news ('046120', '오르비텍')"
     ]
    },
    {
     "name": "stdout",
     "output_type": "stream",
     "text": [
      "\rReading Comp news ('014940', '오리엔탈정공')"
     ]
    },
    {
     "name": "stdout",
     "output_type": "stream",
     "text": [
      "\rReading Comp news ('002630', '오리엔트바이오')"
     ]
    },
    {
     "name": "stdout",
     "output_type": "stream",
     "text": [
      "\rReading Comp news ('065500', '오리엔트정공')"
     ]
    },
    {
     "name": "stdout",
     "output_type": "stream",
     "text": [
      "\rReading Comp news ('271560', '오리온')"
     ]
    },
    {
     "name": "stdout",
     "output_type": "stream",
     "text": [
      "\rReading Comp news ('001800', '오리온홀딩스')"
     ]
    },
    {
     "name": "stdout",
     "output_type": "stream",
     "text": [
      "\rReading Comp news ('010470', '오리콤')"
     ]
    },
    {
     "name": "stdout",
     "output_type": "stream",
     "text": [
      "\rReading Comp news ('227420', '오백볼트')"
     ]
    },
    {
     "name": "stdout",
     "output_type": "stream",
     "text": [
      "\rReading Comp news ('053980', '오상자이엘')"
     ]
    },
    {
     "name": "stdout",
     "output_type": "stream",
     "text": [
      "\rReading Comp news ('052420', '오성첨단소재')"
     ]
    },
    {
     "name": "stdout",
     "output_type": "stream",
     "text": [
      "\rReading Comp news ('241790', '오션브릿지')"
     ]
    },
    {
     "name": "stdout",
     "output_type": "stream",
     "text": [
      "\rReading Comp news ('039200', '오스코텍')"
     ]
    },
    {
     "name": "stdout",
     "output_type": "stream",
     "text": [
      "\rReading Comp news ('226400', '오스테오닉')"
     ]
    },
    {
     "name": "stdout",
     "output_type": "stream",
     "text": [
      "\rReading Comp news ('031510', '오스템')"
     ]
    },
    {
     "name": "stdout",
     "output_type": "stream",
     "text": [
      "\rReading Comp news ('048260', '오스템임플란트')"
     ]
    },
    {
     "name": "stdout",
     "output_type": "stream",
     "text": [
      "\rReading Comp news ('138080', '오이솔루션')"
     ]
    },
    {
     "name": "stdout",
     "output_type": "stream",
     "text": [
      "\rReading Comp news ('080580', '오킨스전자')"
     ]
    },
    {
     "name": "stdout",
     "output_type": "stream",
     "text": [
      "\rReading Comp news ('067170', '오텍')"
     ]
    },
    {
     "name": "stdout",
     "output_type": "stream",
     "text": [
      "\rReading Comp news ('173130', '오파스넷')"
     ]
    },
    {
     "name": "stdout",
     "output_type": "stream",
     "text": [
      "\rReading Comp news ('049480', '오픈베이스')"
     ]
    },
    {
     "name": "stdout",
     "output_type": "stream",
     "text": [
      "\rReading Comp news ('057540', '옴니시스템')"
     ]
    },
    {
     "name": "stdout",
     "output_type": "stream",
     "text": [
      "\rReading Comp news ('057680', '옴니텔')"
     ]
    },
    {
     "name": "stdout",
     "output_type": "stream",
     "text": [
      "\rReading Comp news ('123010', '옵토팩')"
     ]
    },
    {
     "name": "stdout",
     "output_type": "stream",
     "text": [
      "\rReading Comp news ('082210', '옵트론텍')"
     ]
    },
    {
     "name": "stdout",
     "output_type": "stream",
     "text": [
      "\rReading Comp news ('109080', '옵티시스')"
     ]
    },
    {
     "name": "stdout",
     "output_type": "stream",
     "text": [
      "\rReading Comp news ('052770', '와이디온라인')"
     ]
    },
    {
     "name": "stdout",
     "output_type": "stream",
     "text": [
      "\rReading Comp news ('057030', '와이비엠넷')"
     ]
    },
    {
     "name": "stdout",
     "output_type": "stream",
     "text": [
      "\rReading Comp news ('122990', '와이솔')"
     ]
    },
    {
     "name": "stdout",
     "output_type": "stream",
     "text": [
      "\rReading Comp news ('232140', '와이아이케이')"
     ]
    },
    {
     "name": "stdout",
     "output_type": "stream",
     "text": [
      "\rReading Comp news ('067900', '와이엔텍')"
     ]
    },
    {
     "name": "stdout",
     "output_type": "stream",
     "text": [
      "\rReading Comp news ('155650', '와이엠씨')"
     ]
    },
    {
     "name": "stdout",
     "output_type": "stream",
     "text": [
      "\rReading Comp news ('251370', '와이엠티')"
     ]
    },
    {
     "name": "stdout",
     "output_type": "stream",
     "text": [
      "\rReading Comp news ('066430', '와이오엠')"
     ]
    },
    {
     "name": "stdout",
     "output_type": "stream",
     "text": [
      "\rReading Comp news ('193250', '와이제이엠게임즈')"
     ]
    },
    {
     "name": "stdout",
     "output_type": "stream",
     "text": [
      "\rReading Comp news ('019210', '와이지-원')"
     ]
    },
    {
     "name": "stdout",
     "output_type": "stream",
     "text": [
      "\rReading Comp news ('122870', '와이지엔터테인먼트')"
     ]
    },
    {
     "name": "stdout",
     "output_type": "stream",
     "text": [
      "\rReading Comp news ('079000', '와토스코리아')"
     ]
    },
    {
     "name": "stdout",
     "output_type": "stream",
     "text": [
      "\rReading Comp news ('900180', '완리')"
     ]
    },
    {
     "name": "stdout",
     "output_type": "stream",
     "text": [
      "\rReading Comp news ('070960', '용평리조트')"
     ]
    },
    {
     "name": "stdout",
     "output_type": "stream",
     "text": [
      "\rReading Comp news ('114630', '우노앤컴퍼니')"
     ]
    },
    {
     "name": "stdout",
     "output_type": "stream",
     "text": [
      "\rReading Comp news ('032820', '우리기술')"
     ]
    },
    {
     "name": "stdout",
     "output_type": "stream",
     "text": [
      "\rReading Comp news ('041190', '우리기술투자')"
     ]
    },
    {
     "name": "stdout",
     "output_type": "stream",
     "text": [
      "\rReading Comp news ('115440', '우리넷')"
     ]
    },
    {
     "name": "stdout",
     "output_type": "stream",
     "text": [
      "\rReading Comp news ('004720', '우리들제약')"
     ]
    },
    {
     "name": "stdout",
     "output_type": "stream",
     "text": [
      "\rReading Comp news ('118000', '우리들휴브레인')"
     ]
    },
    {
     "name": "stdout",
     "output_type": "stream",
     "text": [
      "\rReading Comp news ('046970', '우리로')"
     ]
    },
    {
     "name": "stdout",
     "output_type": "stream",
     "text": [
      "\rReading Comp news ('215360', '우리산업')"
     ]
    },
    {
     "name": "stdout",
     "output_type": "stream",
     "text": [
      "\rReading Comp news ('072470', '우리산업홀딩스')"
     ]
    },
    {
     "name": "stdout",
     "output_type": "stream",
     "text": [
      "\rReading Comp news ('073560', '우리손에프앤지')"
     ]
    },
    {
     "name": "stdout",
     "output_type": "stream",
     "text": [
      "\rReading Comp news ('000030', '우리은행')"
     ]
    },
    {
     "name": "stdout",
     "output_type": "stream",
     "text": [
      "\rReading Comp news ('153490', '우리이앤엘')"
     ]
    },
    {
     "name": "stdout",
     "output_type": "stream",
     "text": [
      "\rReading Comp news ('082850', '우리이티아이')"
     ]
    },
    {
     "name": "stdout",
     "output_type": "stream",
     "text": [
      "\rReading Comp news ('037400', '우리조명')"
     ]
    },
    {
     "name": "stdout",
     "output_type": "stream",
     "text": [
      "\rReading Comp news ('010050', '우리종금')"
     ]
    },
    {
     "name": "stdout",
     "output_type": "stream",
     "text": [
      "\rReading Comp news ('101170', '우림기계')"
     ]
    },
    {
     "name": "stdout",
     "output_type": "stream",
     "text": [
      "\rReading Comp news ('006980', '우성사료')"
     ]
    },
    {
     "name": "stdout",
     "output_type": "stream",
     "text": [
      "\rReading Comp news ('194610', '우성아이비')"
     ]
    },
    {
     "name": "stdout",
     "output_type": "stream",
     "text": [
      "\rReading Comp news ('066590', '우수AMS')"
     ]
    },
    {
     "name": "stdout",
     "output_type": "stream",
     "text": [
      "\rReading Comp news ('017370', '우신시스템')"
     ]
    },
    {
     "name": "stdout",
     "output_type": "stream",
     "text": [
      "\rReading Comp news ('046940', '우원개발')"
     ]
    },
    {
     "name": "stdout",
     "output_type": "stream",
     "text": [
      "\rReading Comp news ('215380', '우정바이오')"
     ]
    },
    {
     "name": "stdout",
     "output_type": "stream",
     "text": [
      "\rReading Comp news ('065680', '우주일렉트로')"
     ]
    },
    {
     "name": "stdout",
     "output_type": "stream",
     "text": [
      "\rReading Comp news ('105840', '우진')"
     ]
    },
    {
     "name": "stdout",
     "output_type": "stream",
     "text": [
      "\rReading Comp news ('018620', '우진비앤지')"
     ]
    },
    {
     "name": "stdout",
     "output_type": "stream",
     "text": [
      "\rReading Comp news ('049800', '우진플라임')"
     ]
    },
    {
     "name": "stdout",
     "output_type": "stream",
     "text": [
      "\rReading Comp news ('016880', '웅진')"
     ]
    },
    {
     "name": "stdout",
     "output_type": "stream",
     "text": [
      "\rReading Comp news ('095720', '웅진씽크빅')"
     ]
    },
    {
     "name": "stdout",
     "output_type": "stream",
     "text": [
      "\rReading Comp news ('103130', '웅진에너지')"
     ]
    },
    {
     "name": "stdout",
     "output_type": "stream",
     "text": [
      "\rReading Comp news ('005820', '원림')"
     ]
    },
    {
     "name": "stdout",
     "output_type": "stream",
     "text": [
      "\rReading Comp news ('032940', '원익')"
     ]
    },
    {
     "name": "stdout",
     "output_type": "stream",
     "text": [
      "\rReading Comp news ('240810', '원익IPS')"
     ]
    },
    {
     "name": "stdout",
     "output_type": "stream",
     "text": [
      "\rReading Comp news ('074600', '원익QnC')"
     ]
    },
    {
     "name": "stdout",
     "output_type": "stream",
     "text": [
      "\rReading Comp news ('104830', '원익머트리얼즈')"
     ]
    },
    {
     "name": "stdout",
     "output_type": "stream",
     "text": [
      "\rReading Comp news ('014190', '원익큐브')"
     ]
    },
    {
     "name": "stdout",
     "output_type": "stream",
     "text": [
      "\rReading Comp news ('123100', '원익테라세미콘')"
     ]
    },
    {
     "name": "stdout",
     "output_type": "stream",
     "text": [
      "\rReading Comp news ('030530', '원익홀딩스')"
     ]
    },
    {
     "name": "stdout",
     "output_type": "stream",
     "text": [
      "\rReading Comp news ('012620', '원일특강')"
     ]
    },
    {
     "name": "stdout",
     "output_type": "stream",
     "text": [
      "\rReading Comp news ('216280', '원텍')"
     ]
    },
    {
     "name": "stdout",
     "output_type": "stream",
     "text": [
      "\rReading Comp news ('008370', '원풍')"
     ]
    },
    {
     "name": "stdout",
     "output_type": "stream",
     "text": [
      "\rReading Comp news ('008290', '원풍물산')"
     ]
    },
    {
     "name": "stdout",
     "output_type": "stream",
     "text": [
      "\rReading Comp news ('101160', '월덱스')"
     ]
    },
    {
     "name": "stdout",
     "output_type": "stream",
     "text": [
      "\rReading Comp news ('095270', '웨이브일렉트로')"
     ]
    },
    {
     "name": "stdout",
     "output_type": "stream",
     "text": [
      "\rReading Comp news ('010600', '웰바이오텍')"
     ]
    },
    {
     "name": "stdout",
     "output_type": "stream",
     "text": [
      "\rReading Comp news ('065950', '웰크론')"
     ]
    },
    {
     "name": "stdout",
     "output_type": "stream",
     "text": [
      "\rReading Comp news ('114190', '웰크론강원')"
     ]
    },
    {
     "name": "stdout",
     "output_type": "stream",
     "text": [
      "\rReading Comp news ('076080', '웰크론한텍')"
     ]
    },
    {
     "name": "stdout",
     "output_type": "stream",
     "text": [
      "\rReading Comp news ('196700', '웹스')"
     ]
    },
    {
     "name": "stdout",
     "output_type": "stream",
     "text": [
      "\rReading Comp news ('069080', '웹젠')"
     ]
    },
    {
     "name": "stdout",
     "output_type": "stream",
     "text": [
      "\rReading Comp news ('026260', '위너지스')"
     ]
    },
    {
     "name": "stdout",
     "output_type": "stream",
     "text": [
      "\rReading Comp news ('044340', '위닉스')"
     ]
    },
    {
     "name": "stdout",
     "output_type": "stream",
     "text": [
      "\rReading Comp news ('112040', '위메이드')"
     ]
    },
    {
     "name": "stdout",
     "output_type": "stream",
     "text": [
      "\rReading Comp news ('065370', '위세아이텍')"
     ]
    },
    {
     "name": "stdout",
     "output_type": "stream",
     "text": [
      "\rReading Comp news ('140660', '위월드')"
     ]
    },
    {
     "name": "stdout",
     "output_type": "stream",
     "text": [
      "\rReading Comp news ('038620', '위즈코프')"
     ]
    },
    {
     "name": "stdout",
     "output_type": "stream",
     "text": [
      "\rReading Comp news ('036090', '위지트')"
     ]
    },
    {
     "name": "stdout",
     "output_type": "stream",
     "text": [
      "\rReading Comp news ('136540', '윈스')"
     ]
    },
    {
     "name": "stdout",
     "output_type": "stream",
     "text": [
      "\rReading Comp news ('097800', '윈팩')"
     ]
    },
    {
     "name": "stdout",
     "output_type": "stream",
     "text": [
      "\rReading Comp news ('192390', '윈하이텍')"
     ]
    },
    {
     "name": "stdout",
     "output_type": "stream",
     "text": [
      "\rReading Comp news ('008600', '윌비스')"
     ]
    },
    {
     "name": "stdout",
     "output_type": "stream",
     "text": [
      "\rReading Comp news ('033270', '유나이티드제약')"
     ]
    },
    {
     "name": "stdout",
     "output_type": "stream",
     "text": [
      "\rReading Comp news ('014830', '유니드')"
     ]
    },
    {
     "name": "stdout",
     "output_type": "stream",
     "text": [
      "\rReading Comp news ('036200', '유니셈')"
     ]
    },
    {
     "name": "stdout",
     "output_type": "stream",
     "text": [
      "\rReading Comp news ('018000', '유니슨')"
     ]
    },
    {
     "name": "stdout",
     "output_type": "stream",
     "text": [
      "\rReading Comp news ('000910', '유니온')"
     ]
    },
    {
     "name": "stdout",
     "output_type": "stream",
     "text": [
      "\rReading Comp news ('047400', '유니온머티리얼')"
     ]
    },
    {
     "name": "stdout",
     "output_type": "stream",
     "text": [
      "\rReading Comp news ('203450', '유니온커뮤니티')"
     ]
    },
    {
     "name": "stdout",
     "output_type": "stream",
     "text": [
      "\rReading Comp news ('011330', '유니켐')"
     ]
    },
    {
     "name": "stdout",
     "output_type": "stream",
     "text": [
      "\rReading Comp news ('077500', '유니퀘스트')"
     ]
    },
    {
     "name": "stdout",
     "output_type": "stream",
     "text": [
      "\rReading Comp news ('011320', '유니크')"
     ]
    },
    {
     "name": "stdout",
     "output_type": "stream",
     "text": [
      "\rReading Comp news ('086390', '유니테스트')"
     ]
    },
    {
     "name": "stdout",
     "output_type": "stream",
     "text": [
      "\rReading Comp news ('241690', '유니테크노')"
     ]
    },
    {
     "name": "stdout",
     "output_type": "stream",
     "text": [
      "\rReading Comp news ('142210', '유니트론텍')"
     ]
    },
    {
     "name": "stdout",
     "output_type": "stream",
     "text": [
      "\rReading Comp news ('121060', '유니포인트')"
     ]
    },
    {
     "name": "stdout",
     "output_type": "stream",
     "text": [
      "\rReading Comp news ('048430', '유라테크')"
     ]
    },
    {
     "name": "stdout",
     "output_type": "stream",
     "text": [
      "\rReading Comp news ('206650', '유바이오로직스')"
     ]
    },
    {
     "name": "stdout",
     "output_type": "stream",
     "text": [
      "\rReading Comp news ('089850', '유비벨록스')"
     ]
    },
    {
     "name": "stdout",
     "output_type": "stream",
     "text": [
      "\rReading Comp news ('084440', '유비온')"
     ]
    },
    {
     "name": "stdout",
     "output_type": "stream",
     "text": [
      "\rReading Comp news ('032620', '유비케어')"
     ]
    },
    {
     "name": "stdout",
     "output_type": "stream",
     "text": [
      "\rReading Comp news ('264450', '유비쿼스')"
     ]
    },
    {
     "name": "stdout",
     "output_type": "stream",
     "text": [
      "\rReading Comp news ('078070', '유비쿼스홀딩스')"
     ]
    },
    {
     "name": "stdout",
     "output_type": "stream",
     "text": [
      "\rReading Comp news ('002920', '유성기업')"
     ]
    },
    {
     "name": "stdout",
     "output_type": "stream",
     "text": [
      "\rReading Comp news ('024800', '유성티엔에스')"
     ]
    },
    {
     "name": "stdout",
     "output_type": "stream",
     "text": [
      "\rReading Comp news ('000700', '유수홀딩스')"
     ]
    },
    {
     "name": "stdout",
     "output_type": "stream",
     "text": [
      "\rReading Comp news ('054930', '유신')"
     ]
    },
    {
     "name": "stdout",
     "output_type": "stream",
     "text": [
      "\rReading Comp news ('252370', '유쎌')"
     ]
    },
    {
     "name": "stdout",
     "output_type": "stream",
     "text": [
      "\rReading Comp news ('069330', '유아이디')"
     ]
    },
    {
     "name": "stdout",
     "output_type": "stream",
     "text": [
      "\rReading Comp news ('049520', '유아이엘')"
     ]
    },
    {
     "name": "stdout",
     "output_type": "stream",
     "text": [
      "\rReading Comp news ('003470', '유안타증권')"
     ]
    },
    {
     "name": "stdout",
     "output_type": "stream",
     "text": [
      "\rReading Comp news ('003475', '유안타증권우')"
     ]
    },
    {
     "name": "stdout",
     "output_type": "stream",
     "text": [
      "\rReading Comp news ('056090', '유앤아이')"
     ]
    },
    {
     "name": "stdout",
     "output_type": "stream",
     "text": [
      "\rReading Comp news ('011690', '유양디앤유')"
     ]
    },
    {
     "name": "stdout",
     "output_type": "stream",
     "text": [
      "\rReading Comp news ('263770', '유에스티')"
     ]
    },
    {
     "name": "stdout",
     "output_type": "stream",
     "text": [
      "\rReading Comp news ('072130', '유엔젤')"
     ]
    },
    {
     "name": "stdout",
     "output_type": "stream",
     "text": [
      "\rReading Comp news ('000220', '유유제약')"
     ]
    },
    {
     "name": "stdout",
     "output_type": "stream",
     "text": [
      "\rReading Comp news ('000225', '유유제약1우')"
     ]
    },
    {
     "name": "stdout",
     "output_type": "stream",
     "text": [
      "\rReading Comp news ('000227', '유유제약2우B')"
     ]
    },
    {
     "name": "stdout",
     "output_type": "stream",
     "text": [
      "\rReading Comp news ('195990', '유지인트')"
     ]
    },
    {
     "name": "stdout",
     "output_type": "stream",
     "text": [
      "\rReading Comp news ('023410', '유진기업')"
     ]
    },
    {
     "name": "stdout",
     "output_type": "stream",
     "text": [
      "\rReading Comp news ('056080', '유진로봇')"
     ]
    },
    {
     "name": "stdout",
     "output_type": "stream",
     "text": [
      "\rReading Comp news ('084370', '유진테크')"
     ]
    },
    {
     "name": "stdout",
     "output_type": "stream",
     "text": [
      "\rReading Comp news ('001200', '유진투자증권')"
     ]
    },
    {
     "name": "stdout",
     "output_type": "stream",
     "text": [
      "\rReading Comp news ('178780', '유테크')"
     ]
    },
    {
     "name": "stdout",
     "output_type": "stream",
     "text": [
      "\rReading Comp news ('221800', '유투바이오')"
     ]
    },
    {
     "name": "stdout",
     "output_type": "stream",
     "text": [
      "\rReading Comp news ('179900', '유티아이')"
     ]
    },
    {
     "name": "stdout",
     "output_type": "stream",
     "text": [
      "\rReading Comp news ('000100', '유한양행')"
     ]
    },
    {
     "name": "stdout",
     "output_type": "stream",
     "text": [
      "\rReading Comp news ('000105', '유한양행우')"
     ]
    },
    {
     "name": "stdout",
     "output_type": "stream",
     "text": [
      "\rReading Comp news ('003460', '유화증권')"
     ]
    },
    {
     "name": "stdout",
     "output_type": "stream",
     "text": [
      "\rReading Comp news ('003465', '유화증권우')"
     ]
    },
    {
     "name": "stdout",
     "output_type": "stream",
     "text": [
      "\rReading Comp news ('191410', '육일씨엔에쓰')"
     ]
    },
    {
     "name": "stdout",
     "output_type": "stream",
     "text": [
      "\rReading Comp news ('008730', '율촌화학')"
     ]
    },
    {
     "name": "stdout",
     "output_type": "stream",
     "text": [
      "\rReading Comp news ('044960', '이-글 벳')"
     ]
    },
    {
     "name": "stdout",
     "output_type": "stream",
     "text": [
      "\rReading Comp news ('008250', '이건산업')"
     ]
    },
    {
     "name": "stdout",
     "output_type": "stream",
     "text": [
      "\rReading Comp news ('039020', '이건홀딩스')"
     ]
    },
    {
     "name": "stdout",
     "output_type": "stream",
     "text": [
      "\rReading Comp news ('025820', '이구산업')"
     ]
    },
    {
     "name": "stdout",
     "output_type": "stream",
     "text": [
      "\rReading Comp news ('060230', '이그잭스')"
     ]
    },
    {
     "name": "stdout",
     "output_type": "stream",
     "text": [
      "\rReading Comp news ('067920', '이글루시큐리티')"
     ]
    },
    {
     "name": "stdout",
     "output_type": "stream",
     "text": [
      "\rReading Comp news ('214320', '이노션')"
     ]
    },
    {
     "name": "stdout",
     "output_type": "stream",
     "text": [
      "\rReading Comp news ('073490', '이노와이어리스')"
     ]
    },
    {
     "name": "stdout",
     "output_type": "stream",
     "text": [
      "\rReading Comp news ('215790', '이노인스트루먼트')"
     ]
    },
    {
     "name": "stdout",
     "output_type": "stream",
     "text": [
      "\rReading Comp news ('088390', '이녹스')"
     ]
    },
    {
     "name": "stdout",
     "output_type": "stream",
     "text": [
      "\rReading Comp news ('272290', '이녹스첨단소재')"
     ]
    },
    {
     "name": "stdout",
     "output_type": "stream",
     "text": [
      "\rReading Comp news ('053350', '이니텍')"
     ]
    },
    {
     "name": "stdout",
     "output_type": "stream",
     "text": [
      "\rReading Comp news ('258610', '이더블유케이')"
     ]
    },
    {
     "name": "stdout",
     "output_type": "stream",
     "text": [
      "\rReading Comp news ('033110', '이디')"
     ]
    },
    {
     "name": "stdout",
     "output_type": "stream",
     "text": [
      "\rReading Comp news ('041520', '이라이콤')"
     ]
    },
    {
     "name": "stdout",
     "output_type": "stream",
     "text": [
      "\rReading Comp news ('054210', '이랜텍')"
     ]
    },
    {
     "name": "stdout",
     "output_type": "stream",
     "text": [
      "\rReading Comp news ('065440', '이루온')"
     ]
    },
    {
     "name": "stdout",
     "output_type": "stream",
     "text": [
      "\rReading Comp news ('139480', '이마트')"
     ]
    },
    {
     "name": "stdout",
     "output_type": "stream",
     "text": [
      "\rReading Comp news ('036260', '이매진아시아')"
     ]
    },
    {
     "name": "stdout",
     "output_type": "stream",
     "text": [
      "\rReading Comp news ('115610', '이미지스')"
     ]
    },
    {
     "name": "stdout",
     "output_type": "stream",
     "text": [
      "\rReading Comp news ('225440', '이베스트스팩3호')"
     ]
    },
    {
     "name": "stdout",
     "output_type": "stream",
     "text": [
      "\rReading Comp news ('078020', '이베스트투자증권')"
     ]
    },
    {
     "name": "stdout",
     "output_type": "stream",
     "text": [
      "\rReading Comp news ('208850', '이비테크')"
     ]
    },
    {
     "name": "stdout",
     "output_type": "stream",
     "text": [
      "\rReading Comp news ('080010', '이상네트웍스')"
     ]
    },
    {
     "name": "stdout",
     "output_type": "stream",
     "text": [
      "\rReading Comp news ('086890', '이수앱지스')"
     ]
    },
    {
     "name": "stdout",
     "output_type": "stream",
     "text": [
      "\rReading Comp news ('007660', '이수페타시스')"
     ]
    },
    {
     "name": "stdout",
     "output_type": "stream",
     "text": [
      "\rReading Comp news ('005950', '이수화학')"
     ]
    },
    {
     "name": "stdout",
     "output_type": "stream",
     "text": [
      "\rReading Comp news ('015020', '이스타코')"
     ]
    },
    {
     "name": "stdout",
     "output_type": "stream",
     "text": [
      "\rReading Comp news ('047560', '이스트소프트')"
     ]
    },
    {
     "name": "stdout",
     "output_type": "stream",
     "text": [
      "\rReading Comp news ('900110', '이스트아시아홀딩스')"
     ]
    },
    {
     "name": "stdout",
     "output_type": "stream",
     "text": [
      "\rReading Comp news ('067010', '이씨에스')"
     ]
    },
    {
     "name": "stdout",
     "output_type": "stream",
     "text": [
      "\rReading Comp news ('093230', '이아이디')"
     ]
    },
    {
     "name": "stdout",
     "output_type": "stream",
     "text": [
      "\rReading Comp news ('223310', '이에스브이')"
     ]
    },
    {
     "name": "stdout",
     "output_type": "stream",
     "text": [
      "\rReading Comp news ('241510', '이에스산업')"
     ]
    },
    {
     "name": "stdout",
     "output_type": "stream",
     "text": [
      "\rReading Comp news ('052190', '이에스에이')"
     ]
    },
    {
     "name": "stdout",
     "output_type": "stream",
     "text": [
      "\rReading Comp news ('226360', '이엑스티')"
     ]
    },
    {
     "name": "stdout",
     "output_type": "stream",
     "text": [
      "\rReading Comp news ('101360', '이엔드디')"
     ]
    },
    {
     "name": "stdout",
     "output_type": "stream",
     "text": [
      "\rReading Comp news ('102710', '이엔에프테크놀로지')"
     ]
    },
    {
     "name": "stdout",
     "output_type": "stream",
     "text": [
      "\rReading Comp news ('094190', '이엘케이')"
     ]
    },
    {
     "name": "stdout",
     "output_type": "stream",
     "text": [
      "\rReading Comp news ('063760', '이엘피')"
     ]
    },
    {
     "name": "stdout",
     "output_type": "stream",
     "text": [
      "\rReading Comp news ('123570', '이엠넷')"
     ]
    },
    {
     "name": "stdout",
     "output_type": "stream",
     "text": [
      "\rReading Comp news ('095190', '이엠코리아')"
     ]
    },
    {
     "name": "stdout",
     "output_type": "stream",
     "text": [
      "\rReading Comp news ('091120', '이엠텍')"
     ]
    },
    {
     "name": "stdout",
     "output_type": "stream",
     "text": [
      "\rReading Comp news ('232530', '이엠티')"
     ]
    },
    {
     "name": "stdout",
     "output_type": "stream",
     "text": [
      "\rReading Comp news ('102460', '이연제약')"
     ]
    },
    {
     "name": "stdout",
     "output_type": "stream",
     "text": [
      "\rReading Comp news ('039030', '이오테크닉스')"
     ]
    },
    {
     "name": "stdout",
     "output_type": "stream",
     "text": [
      "\rReading Comp news ('088290', '이원컴포텍')"
     ]
    },
    {
     "name": "stdout",
     "output_type": "stream",
     "text": [
      "\rReading Comp news ('084680', '이월드')"
     ]
    },
    {
     "name": "stdout",
     "output_type": "stream",
     "text": [
      "\rReading Comp news ('033600', '이젠텍')"
     ]
    },
    {
     "name": "stdout",
     "output_type": "stream",
     "text": [
      "\rReading Comp news ('181340', '이즈미디어')"
     ]
    },
    {
     "name": "stdout",
     "output_type": "stream",
     "text": [
      "\rReading Comp news ('035810', '이지바이오')"
     ]
    },
    {
     "name": "stdout",
     "output_type": "stream",
     "text": [
      "\rReading Comp news ('090850', '이지웰페어')"
     ]
    },
    {
     "name": "stdout",
     "output_type": "stream",
     "text": [
      "\rReading Comp news ('092130', '이크레더블')"
     ]
    },
    {
     "name": "stdout",
     "output_type": "stream",
     "text": [
      "\rReading Comp news ('016250', '이테크건설')"
     ]
    },
    {
     "name": "stdout",
     "output_type": "stream",
     "text": [
      "\rReading Comp news ('096040', '이트론')"
     ]
    },
    {
     "name": "stdout",
     "output_type": "stream",
     "text": [
      "\rReading Comp news ('134060', '이퓨쳐')"
     ]
    },
    {
     "name": "stdout",
     "output_type": "stream",
     "text": [
      "\rReading Comp news ('001840', '이화공영')"
     ]
    },
    {
     "name": "stdout",
     "output_type": "stream",
     "text": [
      "\rReading Comp news ('000760', '이화산업')"
     ]
    },
    {
     "name": "stdout",
     "output_type": "stream",
     "text": [
      "\rReading Comp news ('024810', '이화전기')"
     ]
    },
    {
     "name": "stdout",
     "output_type": "stream",
     "text": [
      "\rReading Comp news ('014990', '인디에프')"
     ]
    },
    {
     "name": "stdout",
     "output_type": "stream",
     "text": [
      "\rReading Comp news ('041830', '인바디')"
     ]
    },
    {
     "name": "stdout",
     "output_type": "stream",
     "text": [
      "\rReading Comp news ('079950', '인베니아')"
     ]
    },
    {
     "name": "stdout",
     "output_type": "stream",
     "text": [
      "\rReading Comp news ('062580', '인산가')"
     ]
    },
    {
     "name": "stdout",
     "output_type": "stream",
     "text": [
      "\rReading Comp news ('060150', '인선이엔티')"
     ]
    },
    {
     "name": "stdout",
     "output_type": "stream",
     "text": [
      "\rReading Comp news ('033230', '인성정보')"
     ]
    },
    {
     "name": "stdout",
     "output_type": "stream",
     "text": [
      "\rReading Comp news ('006490', '인스코비')"
     ]
    },
    {
     "name": "stdout",
     "output_type": "stream",
     "text": [
      "\rReading Comp news ('037330', '인지디스플레')"
     ]
    },
    {
     "name": "stdout",
     "output_type": "stream",
     "text": [
      "\rReading Comp news ('023800', '인지컨트롤스')"
     ]
    },
    {
     "name": "stdout",
     "output_type": "stream",
     "text": [
      "\rReading Comp news ('034590', '인천도시가스')"
     ]
    },
    {
     "name": "stdout",
     "output_type": "stream",
     "text": [
      "\rReading Comp news ('211050', '인카금융서비스')"
     ]
    },
    {
     "name": "stdout",
     "output_type": "stream",
     "text": [
      "\rReading Comp news ('083640', '인콘')"
     ]
    },
    {
     "name": "stdout",
     "output_type": "stream",
     "text": [
      "\rReading Comp news ('216050', '인크로스')"
     ]
    },
    {
     "name": "stdout",
     "output_type": "stream",
     "text": [
      "\rReading Comp news ('049070', '인탑스')"
     ]
    },
    {
     "name": "stdout",
     "output_type": "stream",
     "text": [
      "\rReading Comp news ('119610', '인터로조')"
     ]
    },
    {
     "name": "stdout",
     "output_type": "stream",
     "text": [
      "\rReading Comp news ('158310', '인터불스')"
     ]
    },
    {
     "name": "stdout",
     "output_type": "stream",
     "text": [
      "\rReading Comp news ('017250', '인터엠')"
     ]
    },
    {
     "name": "stdout",
     "output_type": "stream",
     "text": [
      "\rReading Comp news ('129260', '인터지스')"
     ]
    },
    {
     "name": "stdout",
     "output_type": "stream",
     "text": [
      "\rReading Comp news ('240340', '인터코스')"
     ]
    },
    {
     "name": "stdout",
     "output_type": "stream",
     "text": [
      "\rReading Comp news ('108790', '인터파크')"
     ]
    },
    {
     "name": "stdout",
     "output_type": "stream",
     "text": [
      "\rReading Comp news ('035080', '인터파크홀딩스')"
     ]
    },
    {
     "name": "stdout",
     "output_type": "stream",
     "text": [
      "\rReading Comp news ('051370', '인터플렉스')"
     ]
    },
    {
     "name": "stdout",
     "output_type": "stream",
     "text": [
      "\rReading Comp news ('064290', '인텍플러스')"
     ]
    },
    {
     "name": "stdout",
     "output_type": "stream",
     "text": [
      "\rReading Comp news ('189300', '인텔리안테크')"
     ]
    },
    {
     "name": "stdout",
     "output_type": "stream",
     "text": [
      "\rReading Comp news ('150840', '인트로메딕')"
     ]
    },
    {
     "name": "stdout",
     "output_type": "stream",
     "text": [
      "\rReading Comp news ('048530', '인트론바이오')"
     ]
    },
    {
     "name": "stdout",
     "output_type": "stream",
     "text": [
      "\rReading Comp news ('023810', '인팩')"
     ]
    },
    {
     "name": "stdout",
     "output_type": "stream",
     "text": [
      "\rReading Comp news ('175140', '인포마크')"
     ]
    },
    {
     "name": "stdout",
     "output_type": "stream",
     "text": [
      "\rReading Comp news ('115310', '인포바인')"
     ]
    },
    {
     "name": "stdout",
     "output_type": "stream",
     "text": [
      "\rReading Comp news ('039290', '인포뱅크')"
     ]
    },
    {
     "name": "stdout",
     "output_type": "stream",
     "text": [
      "\rReading Comp news ('041020', '인프라웨어')"
     ]
    },
    {
     "name": "stdout",
     "output_type": "stream",
     "text": [
      "\rReading Comp news ('247300', '인프라웨어테크놀러지')"
     ]
    },
    {
     "name": "stdout",
     "output_type": "stream",
     "text": [
      "\rReading Comp news ('071200', '인피니트헬스케어')"
     ]
    },
    {
     "name": "stdout",
     "output_type": "stream",
     "text": [
      "\rReading Comp news ('101930', '인화정공')"
     ]
    },
    {
     "name": "stdout",
     "output_type": "stream",
     "text": [
      "\rReading Comp news ('078940', '일경산업개발')"
     ]
    },
    {
     "name": "stdout",
     "output_type": "stream",
     "text": [
      "\rReading Comp news ('249420', '일동제약')"
     ]
    },
    {
     "name": "stdout",
     "output_type": "stream",
     "text": [
      "\rReading Comp news ('000230', '일동홀딩스')"
     ]
    },
    {
     "name": "stdout",
     "output_type": "stream",
     "text": [
      "\rReading Comp news ('013360', '일성건설')"
     ]
    },
    {
     "name": "stdout",
     "output_type": "stream",
     "text": [
      "\rReading Comp news ('013367', '일성건설2우B')"
     ]
    },
    {
     "name": "stdout",
     "output_type": "stream",
     "text": [
      "\rReading Comp news ('003120', '일성신약')"
     ]
    },
    {
     "name": "stdout",
     "output_type": "stream",
     "text": [
      "\rReading Comp news ('068330', '일신바이오')"
     ]
    },
    {
     "name": "stdout",
     "output_type": "stream",
     "text": [
      "\rReading Comp news ('003200', '일신방직')"
     ]
    },
    {
     "name": "stdout",
     "output_type": "stream",
     "text": [
      "\rReading Comp news ('007110', '일신석재')"
     ]
    },
    {
     "name": "stdout",
     "output_type": "stream",
     "text": [
      "\rReading Comp news ('058450', '일야')"
     ]
    },
    {
     "name": "stdout",
     "output_type": "stream",
     "text": [
      "\rReading Comp news ('007570', '일양약품')"
     ]
    },
    {
     "name": "stdout",
     "output_type": "stream",
     "text": [
      "\rReading Comp news ('007575', '일양약품우')"
     ]
    },
    {
     "name": "stdout",
     "output_type": "stream",
     "text": [
      "\rReading Comp news ('008500', '일정실업')"
     ]
    },
    {
     "name": "stdout",
     "output_type": "stream",
     "text": [
      "\rReading Comp news ('019540', '일지테크')"
     ]
    },
    {
     "name": "stdout",
     "output_type": "stream",
     "text": [
      "\rReading Comp news ('081000', '일진다이아')"
     ]
    },
    {
     "name": "stdout",
     "output_type": "stream",
     "text": [
      "\rReading Comp news ('020760', '일진디스플')"
     ]
    },
    {
     "name": "stdout",
     "output_type": "stream",
     "text": [
      "\rReading Comp news ('020150', '일진머티리얼즈')"
     ]
    },
    {
     "name": "stdout",
     "output_type": "stream",
     "text": [
      "\rReading Comp news ('103590', '일진전기')"
     ]
    },
    {
     "name": "stdout",
     "output_type": "stream",
     "text": [
      "\rReading Comp news ('094820', '일진파워')"
     ]
    },
    {
     "name": "stdout",
     "output_type": "stream",
     "text": [
      "\rReading Comp news ('015860', '일진홀딩스')"
     ]
    },
    {
     "name": "stdout",
     "output_type": "stream",
     "text": [
      "\rReading Comp news ('226320', '잇츠한불')"
     ]
    },
    {
     "name": "stdout",
     "output_type": "stream",
     "text": [
      "\rReading Comp news ('950140', '잉글우드랩')"
     ]
    },
    {
     "name": "stdout",
     "output_type": "stream",
     "text": [
      "\rReading Comp news ('049550', '잉크테크')"
     ]
    },
    {
     "name": "stdout",
     "output_type": "stream",
     "text": [
      "\rReading Comp news ('230400', '자비스')"
     ]
    },
    {
     "name": "stdout",
     "output_type": "stream",
     "text": [
      "\rReading Comp news ('043910', '자연과환경')"
     ]
    },
    {
     "name": "stdout",
     "output_type": "stream",
     "text": [
      "\rReading Comp news ('234920', '자이글')"
     ]
    },
    {
     "name": "stdout",
     "output_type": "stream",
     "text": [
      "\rReading Comp news ('033240', '자화전자')"
     ]
    },
    {
     "name": "stdout",
     "output_type": "stream",
     "text": [
      "\rReading Comp news ('174880', '장원테크')"
     ]
    },
    {
     "name": "stdout",
     "output_type": "stream",
     "text": [
      "\rReading Comp news ('049630', '재영솔루텍')"
     ]
    },
    {
     "name": "stdout",
     "output_type": "stream",
     "text": [
      "\rReading Comp news ('000950', '전방')"
     ]
    },
    {
     "name": "stdout",
     "output_type": "stream",
     "text": [
      "\rReading Comp news ('120780', '전우정밀')"
     ]
    },
    {
     "name": "stdout",
     "output_type": "stream",
     "text": [
      "\rReading Comp news ('065530', '전파기지국')"
     ]
    },
    {
     "name": "stdout",
     "output_type": "stream",
     "text": [
      "\rReading Comp news ('208140', '정다운')"
     ]
    },
    {
     "name": "stdout",
     "output_type": "stream",
     "text": [
      "\rReading Comp news ('022220', '정산애강')"
     ]
    },
    {
     "name": "stdout",
     "output_type": "stream",
     "text": [
      "\rReading Comp news ('040420', '정상제이엘에스')"
     ]
    },
    {
     "name": "stdout",
     "output_type": "stream",
     "text": [
      "\rReading Comp news ('045510', '정원엔시스')"
     ]
    },
    {
     "name": "stdout",
     "output_type": "stream",
     "text": [
      "\rReading Comp news ('065620', '제낙스')"
     ]
    },
    {
     "name": "stdout",
     "output_type": "stream",
     "text": [
      "\rReading Comp news ('217190', '제너셈')"
     ]
    },
    {
     "name": "stdout",
     "output_type": "stream",
     "text": [
      "\rReading Comp news ('095700', '제넥신')"
     ]
    },
    {
     "name": "stdout",
     "output_type": "stream",
     "text": [
      "\rReading Comp news ('066830', '제노텍')"
     ]
    },
    {
     "name": "stdout",
     "output_type": "stream",
     "text": [
      "\rReading Comp news ('187420', '제노포커스')"
     ]
    },
    {
     "name": "stdout",
     "output_type": "stream",
     "text": [
      "\rReading Comp news ('225220', '제놀루션')"
     ]
    },
    {
     "name": "stdout",
     "output_type": "stream",
     "text": [
      "\rReading Comp news ('123330', '제닉')"
     ]
    },
    {
     "name": "stdout",
     "output_type": "stream",
     "text": [
      "\rReading Comp news ('159580', '제로투세븐')"
     ]
    },
    {
     "name": "stdout",
     "output_type": "stream",
     "text": [
      "\rReading Comp news ('147830', '제룡산업')"
     ]
    },
    {
     "name": "stdout",
     "output_type": "stream",
     "text": [
      "\rReading Comp news ('033100', '제룡전기')"
     ]
    },
    {
     "name": "stdout",
     "output_type": "stream",
     "text": [
      "\rReading Comp news ('019570', '제미니투자')"
     ]
    },
    {
     "name": "stdout",
     "output_type": "stream",
     "text": [
      "\rReading Comp news ('079370', '제우스')"
     ]
    },
    {
     "name": "stdout",
     "output_type": "stream",
     "text": [
      "\rReading Comp news ('054950', '제이브이엠')"
     ]
    },
    {
     "name": "stdout",
     "output_type": "stream",
     "text": [
      "\rReading Comp news ('096690', '제이스테판')"
     ]
    },
    {
     "name": "stdout",
     "output_type": "stream",
     "text": [
      "\rReading Comp news ('090470', '제이스텍')"
     ]
    },
    {
     "name": "stdout",
     "output_type": "stream",
     "text": [
      "\rReading Comp news ('137950', '제이씨케미칼')"
     ]
    },
    {
     "name": "stdout",
     "output_type": "stream",
     "text": [
      "\rReading Comp news ('033320', '제이씨현시스템')"
     ]
    },
    {
     "name": "stdout",
     "output_type": "stream",
     "text": [
      "\rReading Comp news ('194370', '제이에스코퍼레이션')"
     ]
    },
    {
     "name": "stdout",
     "output_type": "stream",
     "text": [
      "\rReading Comp news ('026040', '제이에스티나')"
     ]
    },
    {
     "name": "stdout",
     "output_type": "stream",
     "text": [
      "\rReading Comp news ('250300', '제이에스피브이')"
     ]
    },
    {
     "name": "stdout",
     "output_type": "stream",
     "text": [
      "\rReading Comp news ('126880', '제이엔케이히터')"
     ]
    },
    {
     "name": "stdout",
     "output_type": "stream",
     "text": [
      "\rReading Comp news ('033050', '제이엠아이')"
     ]
    },
    {
     "name": "stdout",
     "output_type": "stream",
     "text": [
      "\rReading Comp news ('094970', '제이엠티')"
     ]
    },
    {
     "name": "stdout",
     "output_type": "stream",
     "text": [
      "\rReading Comp news ('058420', '제이웨이')"
     ]
    },
    {
     "name": "stdout",
     "output_type": "stream",
     "text": [
      "\rReading Comp news ('025620', '제이준코스메틱')"
     ]
    },
    {
     "name": "stdout",
     "output_type": "stream",
     "text": [
      "\rReading Comp news ('036420', '제이콘텐트리')"
     ]
    },
    {
     "name": "stdout",
     "output_type": "stream",
     "text": [
      "\rReading Comp news ('089790', '제이티')"
     ]
    },
    {
     "name": "stdout",
     "output_type": "stream",
     "text": [
      "\rReading Comp news ('030000', '제일기획')"
     ]
    },
    {
     "name": "stdout",
     "output_type": "stream",
     "text": [
      "\rReading Comp news ('052670', '제일바이오')"
     ]
    },
    {
     "name": "stdout",
     "output_type": "stream",
     "text": [
      "\rReading Comp news ('271980', '제일약품')"
     ]
    },
    {
     "name": "stdout",
     "output_type": "stream",
     "text": [
      "\rReading Comp news ('001560', '제일연마')"
     ]
    },
    {
     "name": "stdout",
     "output_type": "stream",
     "text": [
      "\rReading Comp news ('023440', '제일제강')"
     ]
    },
    {
     "name": "stdout",
     "output_type": "stream",
     "text": [
      "\rReading Comp news ('038010', '제일테크노스')"
     ]
    },
    {
     "name": "stdout",
     "output_type": "stream",
     "text": [
      "\rReading Comp news ('002620', '제일파마홀딩스')"
     ]
    },
    {
     "name": "stdout",
     "output_type": "stream",
     "text": [
      "\rReading Comp news ('003380', '제일홀딩스')"
     ]
    },
    {
     "name": "stdout",
     "output_type": "stream",
     "text": [
      "\rReading Comp news ('080220', '제주반도체')"
     ]
    },
    {
     "name": "stdout",
     "output_type": "stream",
     "text": [
      "\rReading Comp news ('006220', '제주은행')"
     ]
    },
    {
     "name": "stdout",
     "output_type": "stream",
     "text": [
      "\rReading Comp news ('089590', '제주항공')"
     ]
    },
    {
     "name": "stdout",
     "output_type": "stream",
     "text": [
      "\rReading Comp news ('229000', '젠큐릭스')"
     ]
    },
    {
     "name": "stdout",
     "output_type": "stream",
     "text": [
      "\rReading Comp news ('082270', '젬백스')"
     ]
    },
    {
     "name": "stdout",
     "output_type": "stream",
     "text": [
      "\rReading Comp news ('044060', '조광ILI')"
     ]
    },
    {
     "name": "stdout",
     "output_type": "stream",
     "text": [
      "\rReading Comp news ('004910', '조광페인트')"
     ]
    },
    {
     "name": "stdout",
     "output_type": "stream",
     "text": [
      "\rReading Comp news ('004700', '조광피혁')"
     ]
    },
    {
     "name": "stdout",
     "output_type": "stream",
     "text": [
      "\rReading Comp news ('001550', '조비')"
     ]
    },
    {
     "name": "stdout",
     "output_type": "stream",
     "text": [
      "\rReading Comp news ('000480', '조선내화')"
     ]
    },
    {
     "name": "stdout",
     "output_type": "stream",
     "text": [
      "\rReading Comp news ('120030', '조선선재')"
     ]
    },
    {
     "name": "stdout",
     "output_type": "stream",
     "text": [
      "\rReading Comp news ('034940', '조아제약')"
     ]
    },
    {
     "name": "stdout",
     "output_type": "stream",
     "text": [
      "\rReading Comp news ('101730', '조이맥스')"
     ]
    },
    {
     "name": "stdout",
     "output_type": "stream",
     "text": [
      "\rReading Comp news ('067000', '조이시티')"
     ]
    },
    {
     "name": "stdout",
     "output_type": "stream",
     "text": [
      "\rReading Comp news ('018470', '조일알미늄')"
     ]
    },
    {
     "name": "stdout",
     "output_type": "stream",
     "text": [
      "\rReading Comp news ('002600', '조흥')"
     ]
    },
    {
     "name": "stdout",
     "output_type": "stream",
     "text": [
      "\rReading Comp news ('185750', '종근당')"
     ]
    },
    {
     "name": "stdout",
     "output_type": "stream",
     "text": [
      "\rReading Comp news ('063160', '종근당바이오')"
     ]
    },
    {
     "name": "stdout",
     "output_type": "stream",
     "text": [
      "\rReading Comp news ('001630', '종근당홀딩스')"
     ]
    },
    {
     "name": "stdout",
     "output_type": "stream",
     "text": [
      "\rReading Comp news ('033340', '좋은사람들')"
     ]
    },
    {
     "name": "stdout",
     "output_type": "stream",
     "text": [
      "\rReading Comp news ('221670', '주노콜렉션')"
     ]
    },
    {
     "name": "stdout",
     "output_type": "stream",
     "text": [
      "\rReading Comp news ('036930', '주성엔지니어링')"
     ]
    },
    {
     "name": "stdout",
     "output_type": "stream",
     "text": [
      "\rReading Comp news ('044380', '주연테크')"
     ]
    },
    {
     "name": "stdout",
     "output_type": "stream",
     "text": [
      "\rReading Comp news ('229480', '줌인터넷')"
     ]
    },
    {
     "name": "stdout",
     "output_type": "stream",
     "text": [
      "\rReading Comp news ('051980', '중앙리빙테크')"
     ]
    },
    {
     "name": "stdout",
     "output_type": "stream",
     "text": [
      "\rReading Comp news ('072020', '중앙백신')"
     ]
    },
    {
     "name": "stdout",
     "output_type": "stream",
     "text": [
      "\rReading Comp news ('000440', '중앙에너비스')"
     ]
    },
    {
     "name": "stdout",
     "output_type": "stream",
     "text": [
      "\rReading Comp news ('054180', '중앙오션')"
     ]
    },
    {
     "name": "stdout",
     "output_type": "stream",
     "text": [
      "\rReading Comp news ('228760', '지노믹트리')"
     ]
    },
    {
     "name": "stdout",
     "output_type": "stream",
     "text": [
      "\rReading Comp news ('043610', '지니뮤직')"
     ]
    },
    {
     "name": "stdout",
     "output_type": "stream",
     "text": [
      "\rReading Comp news ('263860', '지니언스')"
     ]
    },
    {
     "name": "stdout",
     "output_type": "stream",
     "text": [
      "\rReading Comp news ('155960', '지디')"
     ]
    },
    {
     "name": "stdout",
     "output_type": "stream",
     "text": [
      "\rReading Comp news ('208350', '지란지교시큐리티')"
     ]
    },
    {
     "name": "stdout",
     "output_type": "stream",
     "text": [
      "\rReading Comp news ('138290', '지성이씨에스')"
     ]
    },
    {
     "name": "stdout",
     "output_type": "stream",
     "text": [
      "\rReading Comp news ('114570', '지스마트글로벌')"
     ]
    },
    {
     "name": "stdout",
     "output_type": "stream",
     "text": [
      "\rReading Comp news ('051160', '지어소프트')"
     ]
    },
    {
     "name": "stdout",
     "output_type": "stream",
     "text": [
      "\rReading Comp news ('053050', '지에스이')"
     ]
    },
    {
     "name": "stdout",
     "output_type": "stream",
     "text": [
      "\rReading Comp news ('119850', '지엔씨에너지')"
     ]
    },
    {
     "name": "stdout",
     "output_type": "stream",
     "text": [
      "\rReading Comp news ('065060', '지엔코')"
     ]
    },
    {
     "name": "stdout",
     "output_type": "stream",
     "text": [
      "\rReading Comp news ('204840', '지엘팜텍')"
     ]
    },
    {
     "name": "stdout",
     "output_type": "stream",
     "text": [
      "\rReading Comp news ('013870', '지엠비코리아')"
     ]
    },
    {
     "name": "stdout",
     "output_type": "stream",
     "text": [
      "\rReading Comp news ('018290', '지엠피')"
     ]
    },
    {
     "name": "stdout",
     "output_type": "stream",
     "text": [
      "\rReading Comp news ('071320', '지역난방공사')"
     ]
    },
    {
     "name": "stdout",
     "output_type": "stream",
     "text": [
      "\rReading Comp news ('135160', '지오씨')"
     ]
    },
    {
     "name": "stdout",
     "output_type": "stream",
     "text": [
      "\rReading Comp news ('111820', '지와이커머스')"
     ]
    },
    {
     "name": "stdout",
     "output_type": "stream",
     "text": [
      "\rReading Comp news ('010580', '지코')"
     ]
    },
    {
     "name": "stdout",
     "output_type": "stream",
     "text": [
      "\rReading Comp news ('035000', '지투알')"
     ]
    },
    {
     "name": "stdout",
     "output_type": "stream",
     "text": [
      "\rReading Comp news ('115450', '지트리비앤티')"
     ]
    },
    {
     "name": "stdout",
     "output_type": "stream",
     "text": [
      "\rReading Comp news ('219750', '지티지웰니스')"
     ]
    },
    {
     "name": "stdout",
     "output_type": "stream",
     "text": [
      "\rReading Comp news ('088790', '진도')"
     ]
    },
    {
     "name": "stdout",
     "output_type": "stream",
     "text": [
      "\rReading Comp news ('018120', '진로발효')"
     ]
    },
    {
     "name": "stdout",
     "output_type": "stream",
     "text": [
      "\rReading Comp news ('109820', '진매트릭스')"
     ]
    },
    {
     "name": "stdout",
     "output_type": "stream",
     "text": [
      "\rReading Comp news ('086060', '진바이오텍')"
     ]
    },
    {
     "name": "stdout",
     "output_type": "stream",
     "text": [
      "\rReading Comp news ('036890', '진성티이씨')"
     ]
    },
    {
     "name": "stdout",
     "output_type": "stream",
     "text": [
      "\rReading Comp news ('003780', '진양산업')"
     ]
    },
    {
     "name": "stdout",
     "output_type": "stream",
     "text": [
      "\rReading Comp news ('007370', '진양제약')"
     ]
    },
    {
     "name": "stdout",
     "output_type": "stream",
     "text": [
      "\rReading Comp news ('010640', '진양폴리')"
     ]
    },
    {
     "name": "stdout",
     "output_type": "stream",
     "text": [
      "\rReading Comp news ('100250', '진양홀딩스')"
     ]
    },
    {
     "name": "stdout",
     "output_type": "stream",
     "text": [
      "\rReading Comp news ('051630', '진양화학')"
     ]
    },
    {
     "name": "stdout",
     "output_type": "stream",
     "text": [
      "\rReading Comp news ('272450', '진에어')"
     ]
    },
    {
     "name": "stdout",
     "output_type": "stream",
     "text": [
      "\rReading Comp news ('011000', '진원생명과학')"
     ]
    },
    {
     "name": "stdout",
     "output_type": "stream",
     "text": [
      "\rReading Comp news ('002780', '진흥기업')"
     ]
    },
    {
     "name": "stdout",
     "output_type": "stream",
     "text": [
      "\rReading Comp news ('002787', '진흥기업2우B')"
     ]
    },
    {
     "name": "stdout",
     "output_type": "stream",
     "text": [
      "\rReading Comp news ('002785', '진흥기업우B')"
     ]
    },
    {
     "name": "stdout",
     "output_type": "stream",
     "text": [
      "\rReading Comp news ('085660', '차바이오텍')"
     ]
    },
    {
     "name": "stdout",
     "output_type": "stream",
     "text": [
      "\rReading Comp news ('900040', '차이나그레이트')"
     ]
    },
    {
     "name": "stdout",
     "output_type": "stream",
     "text": [
      "\rReading Comp news ('900090', '차이나하오란')"
     ]
    },
    {
     "name": "stdout",
     "output_type": "stream",
     "text": [
      "\rReading Comp news ('009310', '참엔지니어링')"
     ]
    },
    {
     "name": "stdout",
     "output_type": "stream",
     "text": [
      "\rReading Comp news ('094850', '참좋은여행')"
     ]
    },
    {
     "name": "stdout",
     "output_type": "stream",
     "text": [
      "\rReading Comp news ('004650', '창해에탄올')"
     ]
    },
    {
     "name": "stdout",
     "output_type": "stream",
     "text": [
      "\rReading Comp news ('000650', '천일고속')"
     ]
    },
    {
     "name": "stdout",
     "output_type": "stream",
     "text": [
      "\rReading Comp news ('140290', '청광종건')"
     ]
    },
    {
     "name": "stdout",
     "output_type": "stream",
     "text": [
      "\rReading Comp news ('096240', '청담러닝')"
     ]
    },
    {
     "name": "stdout",
     "output_type": "stream",
     "text": [
      "\rReading Comp news ('013720', '청보산업')"
     ]
    },
    {
     "name": "stdout",
     "output_type": "stream",
     "text": [
      "\rReading Comp news ('012600', '청호컴넷')"
     ]
    },
    {
     "name": "stdout",
     "output_type": "stream",
     "text": [
      "\rReading Comp news ('066360', '체리부로')"
     ]
    },
    {
     "name": "stdout",
     "output_type": "stream",
     "text": [
      "\rReading Comp news ('033250', '체시스')"
     ]
    },
    {
     "name": "stdout",
     "output_type": "stream",
     "text": [
      "\rReading Comp news ('047820', '초록뱀')"
     ]
    },
    {
     "name": "stdout",
     "output_type": "stream",
     "text": [
      "\rReading Comp news ('094360', '칩스앤미디어')"
     ]
    },
    {
     "name": "stdout",
     "output_type": "stream",
     "text": [
      "\rReading Comp news ('016920', '카스')"
     ]
    },
    {
     "name": "stdout",
     "output_type": "stream",
     "text": [
      "\rReading Comp news ('220250', '카이노스메드')"
     ]
    },
    {
     "name": "stdout",
     "output_type": "stream",
     "text": [
      "\rReading Comp news ('035720', '카카오')"
     ]
    },
    {
     "name": "stdout",
     "output_type": "stream",
     "text": [
      "\rReading Comp news ('016170', '카카오M')"
     ]
    },
    {
     "name": "stdout",
     "output_type": "stream",
     "text": [
      "\rReading Comp news ('042000', '카페24')"
     ]
    },
    {
     "name": "stdout",
     "output_type": "stream",
     "text": [
      "\rReading Comp news ('006380', '카프로')"
     ]
    },
    {
     "name": "stdout",
     "output_type": "stream",
     "text": [
      "\rReading Comp news ('071850', '캐스텍코리아')"
     ]
    },
    {
     "name": "stdout",
     "output_type": "stream",
     "text": [
      "\rReading Comp news ('180400', '캔서롭')"
     ]
    },
    {
     "name": "stdout",
     "output_type": "stream",
     "text": [
      "\rReading Comp news ('050110', '캠시스')"
     ]
    },
    {
     "name": "stdout",
     "output_type": "stream",
     "text": [
      "\rReading Comp news ('109070', '컨버즈')"
     ]
    },
    {
     "name": "stdout",
     "output_type": "stream",
     "text": [
      "\rReading Comp news ('900310', '컬러레이')"
     ]
    },
    {
     "name": "stdout",
     "output_type": "stream",
     "text": [
      "\rReading Comp news ('078340', '컴투스')"
     ]
    },
    {
     "name": "stdout",
     "output_type": "stream",
     "text": [
      "\rReading Comp news ('205290', '케미메디')"
     ]
    },
    {
     "name": "stdout",
     "output_type": "stream",
     "text": [
      "\rReading Comp news ('263700', '케어랩스')"
     ]
    },
    {
     "name": "stdout",
     "output_type": "stream",
     "text": [
      "\rReading Comp news ('214370', '케어젠')"
     ]
    },
    {
     "name": "stdout",
     "output_type": "stream",
     "text": [
      "\rReading Comp news ('221980', '케이디켐')"
     ]
    },
    {
     "name": "stdout",
     "output_type": "stream",
     "text": [
      "\rReading Comp news ('043290', '케이맥')"
     ]
    },
    {
     "name": "stdout",
     "output_type": "stream",
     "text": [
      "\rReading Comp news ('250930', '케이비제10호스팩')"
     ]
    },
    {
     "name": "stdout",
     "output_type": "stream",
     "text": [
      "\rReading Comp news ('258790', '케이비제11호스팩')"
     ]
    },
    {
     "name": "stdout",
     "output_type": "stream",
     "text": [
      "\rReading Comp news ('232270', '케이비제9호스팩')"
     ]
    },
    {
     "name": "stdout",
     "output_type": "stream",
     "text": [
      "\rReading Comp news ('192250', '케이사인')"
     ]
    },
    {
     "name": "stdout",
     "output_type": "stream",
     "text": [
      "\rReading Comp news ('029460', '케이씨')"
     ]
    },
    {
     "name": "stdout",
     "output_type": "stream",
     "text": [
      "\rReading Comp news ('115500', '케이씨에스')"
     ]
    },
    {
     "name": "stdout",
     "output_type": "stream",
     "text": [
      "\rReading Comp news ('281820', '케이씨텍')"
     ]
    },
    {
     "name": "stdout",
     "output_type": "stream",
     "text": [
      "\rReading Comp news ('089150', '케이씨티')"
     ]
    },
    {
     "name": "stdout",
     "output_type": "stream",
     "text": [
      "\rReading Comp news ('025880', '케이씨피드')"
     ]
    },
    {
     "name": "stdout",
     "output_type": "stream",
     "text": [
      "\rReading Comp news ('093320', '케이아이엔엑스')"
     ]
    },
    {
     "name": "stdout",
     "output_type": "stream",
     "text": [
      "\rReading Comp news ('073010', '케이에스피')"
     ]
    },
    {
     "name": "stdout",
     "output_type": "stream",
     "text": [
      "\rReading Comp news ('105330', '케이엔더블유')"
     ]
    },
    {
     "name": "stdout",
     "output_type": "stream",
     "text": [
      "\rReading Comp news ('039420', '케이엘넷')"
     ]
    },
    {
     "name": "stdout",
     "output_type": "stream",
     "text": [
      "\rReading Comp news ('083550', '케이엠')"
     ]
    },
    {
     "name": "stdout",
     "output_type": "stream",
     "text": [
      "\rReading Comp news ('032500', '케이엠더블유')"
     ]
    },
    {
     "name": "stdout",
     "output_type": "stream",
     "text": [
      "\rReading Comp news ('237720', '케이엠제약')"
     ]
    },
    {
     "name": "stdout",
     "output_type": "stream",
     "text": [
      "\rReading Comp news ('145270', '케이탑리츠')"
     ]
    },
    {
     "name": "stdout",
     "output_type": "stream",
     "text": [
      "\rReading Comp news ('058860', '케이티스')"
     ]
    },
    {
     "name": "stdout",
     "output_type": "stream",
     "text": [
      "\rReading Comp news ('064820', '케이프')"
     ]
    },
    {
     "name": "stdout",
     "output_type": "stream",
     "text": [
      "\rReading Comp news ('256940', '케이피에스')"
     ]
    },
    {
     "name": "stdout",
     "output_type": "stream",
     "text": [
      "\rReading Comp news ('024880', '케이피에프')"
     ]
    },
    {
     "name": "stdout",
     "output_type": "stream",
     "text": [
      "\rReading Comp news ('042040', '케이피엠테크')"
     ]
    },
    {
     "name": "stdout",
     "output_type": "stream",
     "text": [
      "\rReading Comp news ('054410', '케이피티')"
     ]
    },
    {
     "name": "stdout",
     "output_type": "stream",
     "text": [
      "\rReading Comp news ('217600', '켐온')"
     ]
    },
    {
     "name": "stdout",
     "output_type": "stream",
     "text": [
      "\rReading Comp news ('089010', '켐트로닉스')"
     ]
    },
    {
     "name": "stdout",
     "output_type": "stream",
     "text": [
      "\rReading Comp news ('220260', '켐트로스')"
     ]
    },
    {
     "name": "stdout",
     "output_type": "stream",
     "text": [
      "\rReading Comp news ('052400', '코나아이')"
     ]
    },
    {
     "name": "stdout",
     "output_type": "stream",
     "text": [
      "\rReading Comp news ('094860', '코닉글로리')"
     ]
    },
    {
     "name": "stdout",
     "output_type": "stream",
     "text": [
      "\rReading Comp news ('046070', '코다코')"
     ]
    },
    {
     "name": "stdout",
     "output_type": "stream",
     "text": [
      "\rReading Comp news ('047770', '코데즈컴바인')"
     ]
    },
    {
     "name": "stdout",
     "output_type": "stream",
     "text": [
      "\rReading Comp news ('080530', '코디')"
     ]
    },
    {
     "name": "stdout",
     "output_type": "stream",
     "text": [
      "\rReading Comp news ('224060', '코디엠')"
     ]
    },
    {
     "name": "stdout",
     "output_type": "stream",
     "text": [
      "\rReading Comp news ('078650', '코렌')"
     ]
    },
    {
     "name": "stdout",
     "output_type": "stream",
     "text": [
      "\rReading Comp news ('104540', '코렌텍')"
     ]
    },
    {
     "name": "stdout",
     "output_type": "stream",
     "text": [
      "\rReading Comp news ('027050', '코리아나')"
     ]
    },
    {
     "name": "stdout",
     "output_type": "stream",
     "text": [
      "\rReading Comp news ('007815', '코리아써우')"
     ]
    },
    {
     "name": "stdout",
     "output_type": "stream",
     "text": [
      "\rReading Comp news ('007810', '코리아써키트')"
     ]
    },
    {
     "name": "stdout",
     "output_type": "stream",
     "text": [
      "\rReading Comp news ('00781K', '코리아써키트2우B')"
     ]
    },
    {
     "name": "stdout",
     "output_type": "stream",
     "text": [
      "\rReading Comp news ('101670', '코리아에스이')"
     ]
    },
    {
     "name": "stdout",
     "output_type": "stream",
     "text": [
      "\rReading Comp news ('123410', '코리아에프티')"
     ]
    },
    {
     "name": "stdout",
     "output_type": "stream",
     "text": [
      "\rReading Comp news ('152330', '코리아오토글라스')"
     ]
    },
    {
     "name": "stdout",
     "output_type": "stream",
     "text": [
      "\rReading Comp news ('003690', '코리안리')"
     ]
    },
    {
     "name": "stdout",
     "output_type": "stream",
     "text": [
      "\rReading Comp news ('036690', '코맥스')"
     ]
    },
    {
     "name": "stdout",
     "output_type": "stream",
     "text": [
      "\rReading Comp news ('049430', '코메론')"
     ]
    },
    {
     "name": "stdout",
     "output_type": "stream",
     "text": [
      "\rReading Comp news ('183300', '코미코')"
     ]
    },
    {
     "name": "stdout",
     "output_type": "stream",
     "text": [
      "\rReading Comp news ('041960', '코미팜')"
     ]
    },
    {
     "name": "stdout",
     "output_type": "stream",
     "text": [
      "\rReading Comp news ('089890', '코세스')"
     ]
    },
    {
     "name": "stdout",
     "output_type": "stream",
     "text": [
      "\rReading Comp news ('009730', '코센')"
     ]
    },
    {
     "name": "stdout",
     "output_type": "stream",
     "text": [
      "\rReading Comp news ('189350', '코셋')"
     ]
    },
    {
     "name": "stdout",
     "output_type": "stream",
     "text": [
      "\rReading Comp news ('192820', '코스맥스')"
     ]
    },
    {
     "name": "stdout",
     "output_type": "stream",
     "text": [
      "\rReading Comp news ('044820', '코스맥스비티아이')"
     ]
    },
    {
     "name": "stdout",
     "output_type": "stream",
     "text": [
      "\rReading Comp news ('241710', '코스메카코리아')"
     ]
    },
    {
     "name": "stdout",
     "output_type": "stream",
     "text": [
      "\rReading Comp news ('005070', '코스모신소재')"
     ]
    },
    {
     "name": "stdout",
     "output_type": "stream",
     "text": [
      "\rReading Comp news ('005420', '코스모화학')"
     ]
    },
    {
     "name": "stdout",
     "output_type": "stream",
     "text": [
      "\rReading Comp news ('069110', '코스온')"
     ]
    },
    {
     "name": "stdout",
     "output_type": "stream",
     "text": [
      "\rReading Comp news ('071950', '코아스')"
     ]
    },
    {
     "name": "stdout",
     "output_type": "stream",
     "text": [
      "\rReading Comp news ('166480', '코아스템')"
     ]
    },
    {
     "name": "stdout",
     "output_type": "stream",
     "text": [
      "\rReading Comp news ('045970', '코아시아홀딩스')"
     ]
    },
    {
     "name": "stdout",
     "output_type": "stream",
     "text": [
      "\rReading Comp news ('029960', '코엔텍')"
     ]
    },
    {
     "name": "stdout",
     "output_type": "stream",
     "text": [
      "\rReading Comp news ('002020', '코오롱')"
     ]
    },
    {
     "name": "stdout",
     "output_type": "stream",
     "text": [
      "\rReading Comp news ('003070', '코오롱글로벌')"
     ]
    },
    {
     "name": "stdout",
     "output_type": "stream",
     "text": [
      "\rReading Comp news ('003075', '코오롱글로벌우')"
     ]
    },
    {
     "name": "stdout",
     "output_type": "stream",
     "text": [
      "\rReading Comp news ('144620', '코오롱머티리얼')"
     ]
    },
    {
     "name": "stdout",
     "output_type": "stream",
     "text": [
      "\rReading Comp news ('102940', '코오롱생명과학')"
     ]
    },
    {
     "name": "stdout",
     "output_type": "stream",
     "text": [
      "\rReading Comp news ('002025', '코오롱우')"
     ]
    },
    {
     "name": "stdout",
     "output_type": "stream",
     "text": [
      "\rReading Comp news ('120110', '코오롱인더')"
     ]
    },
    {
     "name": "stdout",
     "output_type": "stream",
     "text": [
      "\rReading Comp news ('120115', '코오롱인더우')"
     ]
    },
    {
     "name": "stdout",
     "output_type": "stream",
     "text": [
      "\rReading Comp news ('950160', '코오롱티슈진(Reg.S)')"
     ]
    },
    {
     "name": "stdout",
     "output_type": "stream",
     "text": [
      "\rReading Comp news ('138490', '코오롱플라스틱')"
     ]
    },
    {
     "name": "stdout",
     "output_type": "stream",
     "text": [
      "\rReading Comp news ('021240', '코웨이')"
     ]
    },
    {
     "name": "stdout",
     "output_type": "stream",
     "text": [
      "\rReading Comp news ('033290', '코웰패션')"
     ]
    },
    {
     "name": "stdout",
     "output_type": "stream",
     "text": [
      "\rReading Comp news ('056360', '코위버')"
     ]
    },
    {
     "name": "stdout",
     "output_type": "stream",
     "text": [
      "\rReading Comp news ('121850', '코이즈')"
     ]
    },
    {
     "name": "stdout",
     "output_type": "stream",
     "text": [
      "\rReading Comp news ('015710', '코콤')"
     ]
    },
    {
     "name": "stdout",
     "output_type": "stream",
     "text": [
      "\rReading Comp news ('052330', '코텍')"
     ]
    },
    {
     "name": "stdout",
     "output_type": "stream",
     "text": [
      "\rReading Comp news ('126600', '코프라')"
     ]
    },
    {
     "name": "stdout",
     "output_type": "stream",
     "text": [
      "\rReading Comp news ('200130', '콜마비앤에이치')"
     ]
    },
    {
     "name": "stdout",
     "output_type": "stream",
     "text": [
      "\rReading Comp news ('031820', '콤텍시스템')"
     ]
    },
    {
     "name": "stdout",
     "output_type": "stream",
     "text": [
      "\rReading Comp news ('225650', '쿠첸')"
     ]
    },
    {
     "name": "stdout",
     "output_type": "stream",
     "text": [
      "\rReading Comp news ('192400', '쿠쿠홀딩스')"
     ]
    },
    {
     "name": "stdout",
     "output_type": "stream",
     "text": [
      "\rReading Comp news ('284740', '쿠쿠홈시스')"
     ]
    },
    {
     "name": "stdout",
     "output_type": "stream",
     "text": [
      "\rReading Comp news ('060280', '큐렉소')"
     ]
    },
    {
     "name": "stdout",
     "output_type": "stream",
     "text": [
      "\rReading Comp news ('015590', '큐로')"
     ]
    },
    {
     "name": "stdout",
     "output_type": "stream",
     "text": [
      "\rReading Comp news ('040350', '큐로컴')"
     ]
    },
    {
     "name": "stdout",
     "output_type": "stream",
     "text": [
      "\rReading Comp news ('051780', '큐로홀딩스')"
     ]
    },
    {
     "name": "stdout",
     "output_type": "stream",
     "text": [
      "\rReading Comp news ('115180', '큐리언트')"
     ]
    },
    {
     "name": "stdout",
     "output_type": "stream",
     "text": [
      "\rReading Comp news ('182360', '큐브엔터')"
     ]
    },
    {
     "name": "stdout",
     "output_type": "stream",
     "text": [
      "\rReading Comp news ('066310', '큐에스아이')"
     ]
    },
    {
     "name": "stdout",
     "output_type": "stream",
     "text": [
      "\rReading Comp news ('136660', '큐엠씨')"
     ]
    },
    {
     "name": "stdout",
     "output_type": "stream",
     "text": [
      "\rReading Comp news ('016600', '큐캐피탈')"
     ]
    },
    {
     "name": "stdout",
     "output_type": "stream",
     "text": [
      "\rReading Comp news ('264900', '크라운제과')"
     ]
    },
    {
     "name": "stdout",
     "output_type": "stream",
     "text": [
      "\rReading Comp news ('26490K', '크라운제과우')"
     ]
    },
    {
     "name": "stdout",
     "output_type": "stream",
     "text": [
      "\rReading Comp news ('005740', '크라운해태홀딩스')"
     ]
    },
    {
     "name": "stdout",
     "output_type": "stream",
     "text": [
      "\rReading Comp news ('005745', '크라운해태홀딩스우')"
     ]
    },
    {
     "name": "stdout",
     "output_type": "stream",
     "text": [
      "\rReading Comp news ('058530', '크레아플래닛')"
     ]
    },
    {
     "name": "stdout",
     "output_type": "stream",
     "text": [
      "\rReading Comp news ('215570', '크로넥스')"
     ]
    },
    {
     "name": "stdout",
     "output_type": "stream",
     "text": [
      "\rReading Comp news ('043590', '크로바하이텍')"
     ]
    },
    {
     "name": "stdout",
     "output_type": "stream",
     "text": [
      "\rReading Comp news ('114120', '크루셜텍')"
     ]
    },
    {
     "name": "stdout",
     "output_type": "stream",
     "text": [
      "\rReading Comp news ('083790', '크리스탈')"
     ]
    },
    {
     "name": "stdout",
     "output_type": "stream",
     "text": [
      "\rReading Comp news ('900250', '크리스탈신소재')"
     ]
    },
    {
     "name": "stdout",
     "output_type": "stream",
     "text": [
      "\rReading Comp news ('045520', '크린앤사이언스')"
     ]
    },
    {
     "name": "stdout",
     "output_type": "stream",
     "text": [
      "\rReading Comp news ('214150', '클래시스')"
     ]
    },
    {
     "name": "stdout",
     "output_type": "stream",
     "text": [
      "\rReading Comp news ('237880', '클리오')"
     ]
    },
    {
     "name": "stdout",
     "output_type": "stream",
     "text": [
      "\rReading Comp news ('020120', '키다리스튜디오')"
     ]
    },
    {
     "name": "stdout",
     "output_type": "stream",
     "text": [
      "\rReading Comp news ('226850', '키움스팩4호')"
     ]
    },
    {
     "name": "stdout",
     "output_type": "stream",
     "text": [
      "\rReading Comp news ('039490', '키움증권')"
     ]
    },
    {
     "name": "stdout",
     "output_type": "stream",
     "text": [
      "\rReading Comp news ('012170', '키위미디어그룹')"
     ]
    },
    {
     "name": "stdout",
     "output_type": "stream",
     "text": [
      "\rReading Comp news ('054780', '키이스트')"
     ]
    },
    {
     "name": "stdout",
     "output_type": "stream",
     "text": [
      "\rReading Comp news ('219130', '타이거일렉')"
     ]
    },
    {
     "name": "stdout",
     "output_type": "stream",
     "text": [
      "\rReading Comp news ('180060', '탑선')"
     ]
    },
    {
     "name": "stdout",
     "output_type": "stream",
     "text": [
      "\rReading Comp news ('065130', '탑엔지니어링')"
     ]
    },
    {
     "name": "stdout",
     "output_type": "stream",
     "text": [
      "\rReading Comp news ('015890', '태경산업')"
     ]
    },
    {
     "name": "stdout",
     "output_type": "stream",
     "text": [
      "\rReading Comp news ('235090', '태경피엔에스')"
     ]
    },
    {
     "name": "stdout",
     "output_type": "stream",
     "text": [
      "\rReading Comp news ('006890', '태경화학')"
     ]
    },
    {
     "name": "stdout",
     "output_type": "stream",
     "text": [
      "\rReading Comp news ('023160', '태광')"
     ]
    },
    {
     "name": "stdout",
     "output_type": "stream",
     "text": [
      "\rReading Comp news ('003240', '태광산업')"
     ]
    },
    {
     "name": "stdout",
     "output_type": "stream",
     "text": [
      "\rReading Comp news ('011280', '태림포장')"
     ]
    },
    {
     "name": "stdout",
     "output_type": "stream",
     "text": [
      "\rReading Comp news ('053620', '태양')"
     ]
    },
    {
     "name": "stdout",
     "output_type": "stream",
     "text": [
      "\rReading Comp news ('004100', '태양금속')"
     ]
    },
    {
     "name": "stdout",
     "output_type": "stream",
     "text": [
      "\rReading Comp news ('004105', '태양금속우')"
     ]
    },
    {
     "name": "stdout",
     "output_type": "stream",
     "text": [
      "\rReading Comp news ('116100', '태양기계')"
     ]
    },
    {
     "name": "stdout",
     "output_type": "stream",
     "text": [
      "\rReading Comp news ('072520', '태양씨앤엘')"
     ]
    },
    {
     "name": "stdout",
     "output_type": "stream",
     "text": [
      "\rReading Comp news ('009410', '태영건설')"
     ]
    },
    {
     "name": "stdout",
     "output_type": "stream",
     "text": [
      "\rReading Comp news ('009415', '태영건설우')"
     ]
    },
    {
     "name": "stdout",
     "output_type": "stream",
     "text": [
      "\rReading Comp news ('044490', '태웅')"
     ]
    },
    {
     "name": "stdout",
     "output_type": "stream",
     "text": [
      "\rReading Comp news ('001420', '태원물산')"
     ]
    },
    {
     "name": "stdout",
     "output_type": "stream",
     "text": [
      "\rReading Comp news ('007980', '태평양물산')"
     ]
    },
    {
     "name": "stdout",
     "output_type": "stream",
     "text": [
      "\rReading Comp news ('191420', '테고사이언스')"
     ]
    },
    {
     "name": "stdout",
     "output_type": "stream",
     "text": [
      "\rReading Comp news ('182690', '테라셈')"
     ]
    },
    {
     "name": "stdout",
     "output_type": "stream",
     "text": [
      "\rReading Comp news ('066700', '테라젠이텍스')"
     ]
    },
    {
     "name": "stdout",
     "output_type": "stream",
     "text": [
      "\rReading Comp news ('095610', '테스')"
     ]
    },
    {
     "name": "stdout",
     "output_type": "stream",
     "text": [
      "\rReading Comp news ('131970', '테스나')"
     ]
    },
    {
     "name": "stdout",
     "output_type": "stream",
     "text": [
      "\rReading Comp news ('055490', '테이팩스')"
     ]
    },
    {
     "name": "stdout",
     "output_type": "stream",
     "text": [
      "\rReading Comp news ('089030', '테크윙')"
     ]
    },
    {
     "name": "stdout",
     "output_type": "stream",
     "text": [
      "\rReading Comp news ('054450', '텔레칩스')"
     ]
    },
    {
     "name": "stdout",
     "output_type": "stream",
     "text": [
      "\rReading Comp news ('091440', '텔레필드')"
     ]
    },
    {
     "name": "stdout",
     "output_type": "stream",
     "text": [
      "\rReading Comp news ('196450', '텔루스')"
     ]
    },
    {
     "name": "stdout",
     "output_type": "stream",
     "text": [
      "\rReading Comp news ('078000', '텔코웨어')"
     ]
    },
    {
     "name": "stdout",
     "output_type": "stream",
     "text": [
      "\rReading Comp news ('200230', '텔콘')"
     ]
    },
    {
     "name": "stdout",
     "output_type": "stream",
     "text": [
      "\rReading Comp news ('214420', '토니모리')"
     ]
    },
    {
     "name": "stdout",
     "output_type": "stream",
     "text": [
      "\rReading Comp news ('215480', '토박스코리아')"
     ]
    },
    {
     "name": "stdout",
     "output_type": "stream",
     "text": [
      "\rReading Comp news ('051360', '토비스')"
     ]
    },
    {
     "name": "stdout",
     "output_type": "stream",
     "text": [
      "\rReading Comp news ('045340', '토탈소프트')"
     ]
    },
    {
     "name": "stdout",
     "output_type": "stream",
     "text": [
      "\rReading Comp news ('057880', '토필드')"
     ]
    },
    {
     "name": "stdout",
     "output_type": "stream",
     "text": [
      "\rReading Comp news ('108230', '톱텍')"
     ]
    },
    {
     "name": "stdout",
     "output_type": "stream",
     "text": [
      "\rReading Comp news ('079970', '투비소프트')"
     ]
    },
    {
     "name": "stdout",
     "output_type": "stream",
     "text": [
      "\rReading Comp news ('066410', '투윈글로벌')"
     ]
    },
    {
     "name": "stdout",
     "output_type": "stream",
     "text": [
      "\rReading Comp news ('199800', '툴젠')"
     ]
    },
    {
     "name": "stdout",
     "output_type": "stream",
     "text": [
      "\rReading Comp news ('140890', '트러스제7호')"
     ]
    },
    {
     "name": "stdout",
     "output_type": "stream",
     "text": [
      "\rReading Comp news ('052290', '트레이스')"
     ]
    },
    {
     "name": "stdout",
     "output_type": "stream",
     "text": [
      "\rReading Comp news ('105550', '트루윈')"
     ]
    },
    {
     "name": "stdout",
     "output_type": "stream",
     "text": [
      "\rReading Comp news ('026150', '특수건설')"
     ]
    },
    {
     "name": "stdout",
     "output_type": "stream",
     "text": [
      "\rReading Comp news ('033830', '티비씨')"
     ]
    },
    {
     "name": "stdout",
     "output_type": "stream",
     "text": [
      "\rReading Comp news ('228180', '티씨엠생명과학')"
     ]
    },
    {
     "name": "stdout",
     "output_type": "stream",
     "text": [
      "\rReading Comp news ('064760', '티씨케이')"
     ]
    },
    {
     "name": "stdout",
     "output_type": "stream",
     "text": [
      "\rReading Comp news ('277880', '티에스아이')"
     ]
    },
    {
     "name": "stdout",
     "output_type": "stream",
     "text": [
      "\rReading Comp news ('131290', '티에스이')"
     ]
    },
    {
     "name": "stdout",
     "output_type": "stream",
     "text": [
      "\rReading Comp news ('246690', '티에스인베스트먼트')"
     ]
    },
    {
     "name": "stdout",
     "output_type": "stream",
     "text": [
      "\rReading Comp news ('019180', '티에이치엔')"
     ]
    },
    {
     "name": "stdout",
     "output_type": "stream",
     "text": [
      "\rReading Comp news ('062860', '티엘아이')"
     ]
    },
    {
     "name": "stdout",
     "output_type": "stream",
     "text": [
      "\rReading Comp news ('004870', '티웨이홀딩스')"
     ]
    },
    {
     "name": "stdout",
     "output_type": "stream",
     "text": [
      "\rReading Comp news ('191600', '티케이씨')"
     ]
    },
    {
     "name": "stdout",
     "output_type": "stream",
     "text": [
      "\rReading Comp news ('104480', '티케이케미칼')"
     ]
    },
    {
     "name": "stdout",
     "output_type": "stream",
     "text": [
      "\rReading Comp news ('081150', '티플랙스')"
     ]
    },
    {
     "name": "stdout",
     "output_type": "stream",
     "text": [
      "\rReading Comp news ('130740', '티피씨글로벌')"
     ]
    },
    {
     "name": "stdout",
     "output_type": "stream",
     "text": [
      "\rReading Comp news ('217880', '틸론')"
     ]
    },
    {
     "name": "stdout",
     "output_type": "stream",
     "text": [
      "\rReading Comp news ('084730', '팅크웨어')"
     ]
    },
    {
     "name": "stdout",
     "output_type": "stream",
     "text": [
      "\rReading Comp news ('046210', '파나진')"
     ]
    },
    {
     "name": "stdout",
     "output_type": "stream",
     "text": [
      "\rReading Comp news ('034230', '파라다이스')"
     ]
    },
    {
     "name": "stdout",
     "output_type": "stream",
     "text": [
      "\rReading Comp news ('033540', '파라텍')"
     ]
    },
    {
     "name": "stdout",
     "output_type": "stream",
     "text": [
      "\rReading Comp news ('043200', '파루')"
     ]
    },
    {
     "name": "stdout",
     "output_type": "stream",
     "text": [
      "\rReading Comp news ('217950', '파마리서치바이오')"
     ]
    },
    {
     "name": "stdout",
     "output_type": "stream",
     "text": [
      "\rReading Comp news ('214450', '파마리서치프로덕트')"
     ]
    },
    {
     "name": "stdout",
     "output_type": "stream",
     "text": [
      "\rReading Comp news ('005690', '파미셀')"
     ]
    },
    {
     "name": "stdout",
     "output_type": "stream",
     "text": [
      "\rReading Comp news ('177830', '파버나인')"
     ]
    },
    {
     "name": "stdout",
     "output_type": "stream",
     "text": [
      "\rReading Comp news ('037070', '파세코')"
     ]
    },
    {
     "name": "stdout",
     "output_type": "stream",
     "text": [
      "\rReading Comp news ('150900', '파수닷컴')"
     ]
    },
    {
     "name": "stdout",
     "output_type": "stream",
     "text": [
      "\rReading Comp news ('047310', '파워로직스')"
     ]
    },
    {
     "name": "stdout",
     "output_type": "stream",
     "text": [
      "\rReading Comp news ('170790', '파이오링크')"
     ]
    },
    {
     "name": "stdout",
     "output_type": "stream",
     "text": [
      "\rReading Comp news ('049120', '파인디앤씨')"
     ]
    },
    {
     "name": "stdout",
     "output_type": "stream",
     "text": [
      "\rReading Comp news ('038950', '파인디지털')"
     ]
    },
    {
     "name": "stdout",
     "output_type": "stream",
     "text": [
      "\rReading Comp news ('278990', '파인이엠텍')"
     ]
    },
    {
     "name": "stdout",
     "output_type": "stream",
     "text": [
      "\rReading Comp news ('106240', '파인테크닉스')"
     ]
    },
    {
     "name": "stdout",
     "output_type": "stream",
     "text": [
      "\rReading Comp news ('131760', '파인텍')"
     ]
    },
    {
     "name": "stdout",
     "output_type": "stream",
     "text": [
      "\rReading Comp news ('140860', '파크시스템스')"
     ]
    },
    {
     "name": "stdout",
     "output_type": "stream",
     "text": [
      "\rReading Comp news ('091700', '파트론')"
     ]
    },
    {
     "name": "stdout",
     "output_type": "stream",
     "text": [
      "\rReading Comp news ('194510', '파티게임즈')"
     ]
    },
    {
     "name": "stdout",
     "output_type": "stream",
     "text": [
      "\rReading Comp news ('038160', '팍스넷')"
     ]
    },
    {
     "name": "stdout",
     "output_type": "stream",
     "text": [
      "\rReading Comp news ('202960', '판도라티비')"
     ]
    },
    {
     "name": "stdout",
     "output_type": "stream",
     "text": [
      "\rReading Comp news ('032800', '판타지오')"
     ]
    },
    {
     "name": "stdout",
     "output_type": "stream",
     "text": [
      "\rReading Comp news ('043090', '팜스웰바이오')"
     ]
    },
    {
     "name": "stdout",
     "output_type": "stream",
     "text": [
      "\rReading Comp news ('036580', '팜스코')"
     ]
    },
    {
     "name": "stdout",
     "output_type": "stream",
     "text": [
      "\rReading Comp news ('027710', '팜스토리')"
     ]
    },
    {
     "name": "stdout",
     "output_type": "stream",
     "text": [
      "\rReading Comp news ('225590', '패션플랫폼')"
     ]
    },
    {
     "name": "stdout",
     "output_type": "stream",
     "text": [
      "\rReading Comp news ('054300', '팬스타엔터프라이즈')"
     ]
    },
    {
     "name": "stdout",
     "output_type": "stream",
     "text": [
      "\rReading Comp news ('068050', '팬엔터테인먼트')"
     ]
    },
    {
     "name": "stdout",
     "output_type": "stream",
     "text": [
      "\rReading Comp news ('028670', '팬오션')"
     ]
    },
    {
     "name": "stdout",
     "output_type": "stream",
     "text": [
      "\rReading Comp news ('222110', '팬젠')"
     ]
    },
    {
     "name": "stdout",
     "output_type": "stream",
     "text": [
      "\rReading Comp news ('010820', '퍼스텍')"
     ]
    },
    {
     "name": "stdout",
     "output_type": "stream",
     "text": [
      "\rReading Comp news ('016800', '퍼시스')"
     ]
    },
    {
     "name": "stdout",
     "output_type": "stream",
     "text": [
      "\rReading Comp news ('060900', '퍼시픽바이오')"
     ]
    },
    {
     "name": "stdout",
     "output_type": "stream",
     "text": [
      "\rReading Comp news ('263750', '펄어비스')"
     ]
    },
    {
     "name": "stdout",
     "output_type": "stream",
     "text": [
      "\rReading Comp news ('001020', '페이퍼코리아')"
     ]
    },
    {
     "name": "stdout",
     "output_type": "stream",
     "text": [
      "\rReading Comp news ('087010', '펩트론')"
     ]
    },
    {
     "name": "stdout",
     "output_type": "stream",
     "text": [
      "\rReading Comp news ('090080', '평화산업')"
     ]
    },
    {
     "name": "stdout",
     "output_type": "stream",
     "text": [
      "\rReading Comp news ('043370', '평화정공')"
     ]
    },
    {
     "name": "stdout",
     "output_type": "stream",
     "text": [
      "\rReading Comp news ('010770', '평화홀딩스')"
     ]
    },
    {
     "name": "stdout",
     "output_type": "stream",
     "text": [
      "\rReading Comp news ('119500', '포메탈')"
     ]
    },
    {
     "name": "stdout",
     "output_type": "stream",
     "text": [
      "\rReading Comp news ('016670', '포비스티앤씨')"
     ]
    },
    {
     "name": "stdout",
     "output_type": "stream",
     "text": [
      "\rReading Comp news ('056730', '포스링크')"
     ]
    },
    {
     "name": "stdout",
     "output_type": "stream",
     "text": [
      "\rReading Comp news ('022100', '포스코 ICT')"
     ]
    },
    {
     "name": "stdout",
     "output_type": "stream",
     "text": [
      "\rReading Comp news ('058430', '포스코강판')"
     ]
    },
    {
     "name": "stdout",
     "output_type": "stream",
     "text": [
      "\rReading Comp news ('047050', '포스코대우')"
     ]
    },
    {
     "name": "stdout",
     "output_type": "stream",
     "text": [
      "\rReading Comp news ('009520', '포스코엠텍')"
     ]
    },
    {
     "name": "stdout",
     "output_type": "stream",
     "text": [
      "\rReading Comp news ('003670', '포스코켐텍')"
     ]
    },
    {
     "name": "stdout",
     "output_type": "stream",
     "text": [
      "\rReading Comp news ('189690', '포시에스')"
     ]
    },
    {
     "name": "stdout",
     "output_type": "stream",
     "text": [
      "\rReading Comp news ('176560', '포인트엔지니어링')"
     ]
    },
    {
     "name": "stdout",
     "output_type": "stream",
     "text": [
      "\rReading Comp news ('141020', '포티스')"
     ]
    },
    {
     "name": "stdout",
     "output_type": "stream",
     "text": [
      "\rReading Comp news ('039230', '폭스브레인')"
     ]
    },
    {
     "name": "stdout",
     "output_type": "stream",
     "text": [
      "\rReading Comp news ('007630', '폴루스바이오팜')"
     ]
    },
    {
     "name": "stdout",
     "output_type": "stream",
     "text": [
      "\rReading Comp news ('005670', '푸드웰')"
     ]
    },
    {
     "name": "stdout",
     "output_type": "stream",
     "text": [
      "\rReading Comp news ('094940', '푸른기술')"
     ]
    },
    {
     "name": "stdout",
     "output_type": "stream",
     "text": [
      "\rReading Comp news ('007330', '푸른저축은행')"
     ]
    },
    {
     "name": "stdout",
     "output_type": "stream",
     "text": [
      "\rReading Comp news ('017810', '풀무원')"
     ]
    },
    {
     "name": "stdout",
     "output_type": "stream",
     "text": [
      "\rReading Comp news ('093380', '풍강')"
     ]
    },
    {
     "name": "stdout",
     "output_type": "stream",
     "text": [
      "\rReading Comp news ('023900', '풍국주정')"
     ]
    },
    {
     "name": "stdout",
     "output_type": "stream",
     "text": [
      "\rReading Comp news ('103140', '풍산')"
     ]
    },
    {
     "name": "stdout",
     "output_type": "stream",
     "text": [
      "\rReading Comp news ('005810', '풍산홀딩스')"
     ]
    },
    {
     "name": "stdout",
     "output_type": "stream",
     "text": [
      "\rReading Comp news ('195440', '퓨전데이타')"
     ]
    },
    {
     "name": "stdout",
     "output_type": "stream",
     "text": [
      "\rReading Comp news ('214270', '퓨쳐스트림네트웍스')"
     ]
    },
    {
     "name": "stdout",
     "output_type": "stream",
     "text": [
      "\rReading Comp news ('220100', '퓨쳐켐')"
     ]
    },
    {
     "name": "stdout",
     "output_type": "stream",
     "text": [
      "\rReading Comp news ('035200', '프럼파스트')"
     ]
    },
    {
     "name": "stdout",
     "output_type": "stream",
     "text": [
      "\rReading Comp news ('203690', '프로스테믹스')"
     ]
    },
    {
     "name": "stdout",
     "output_type": "stream",
     "text": [
      "\rReading Comp news ('053610', '프로텍')"
     ]
    },
    {
     "name": "stdout",
     "output_type": "stream",
     "text": [
      "\rReading Comp news ('053160', '프리엠스')"
     ]
    },
    {
     "name": "stdout",
     "output_type": "stream",
     "text": [
      "\rReading Comp news ('075130', '플랜티넷')"
     ]
    },
    {
     "name": "stdout",
     "output_type": "stream",
     "text": [
      "\rReading Comp news ('222670', '플럼라인생명과학')"
     ]
    },
    {
     "name": "stdout",
     "output_type": "stream",
     "text": [
      "\rReading Comp news ('023770', '플레이위드')"
     ]
    },
    {
     "name": "stdout",
     "output_type": "stream",
     "text": [
      "\rReading Comp news ('266870', '플렉스파워에이더블유에스')"
     ]
    },
    {
     "name": "stdout",
     "output_type": "stream",
     "text": [
      "\rReading Comp news ('150440', '피노텍')"
     ]
    },
    {
     "name": "stdout",
     "output_type": "stream",
     "text": [
      "\rReading Comp news ('032580', '피델릭스')"
     ]
    },
    {
     "name": "stdout",
     "output_type": "stream",
     "text": [
      "\rReading Comp news ('258250', '피시피아비아이티')"
     ]
    },
    {
     "name": "stdout",
     "output_type": "stream",
     "text": [
      "\rReading Comp news ('051380', '피씨디렉트')"
     ]
    },
    {
     "name": "stdout",
     "output_type": "stream",
     "text": [
      "\rReading Comp news ('241820', '피씨엘')"
     ]
    },
    {
     "name": "stdout",
     "output_type": "stream",
     "text": [
      "\rReading Comp news ('237750', '피앤씨테크')"
     ]
    },
    {
     "name": "stdout",
     "output_type": "stream",
     "text": [
      "\rReading Comp news ('131390', '피앤이솔루션')"
     ]
    },
    {
     "name": "stdout",
     "output_type": "stream",
     "text": [
      "\rReading Comp news ('054340', '피앤텔')"
     ]
    },
    {
     "name": "stdout",
     "output_type": "stream",
     "text": [
      "\rReading Comp news ('024850', '피에스엠씨')"
     ]
    },
    {
     "name": "stdout",
     "output_type": "stream",
     "text": [
      "\rReading Comp news ('031980', '피에스케이')"
     ]
    },
    {
     "name": "stdout",
     "output_type": "stream",
     "text": [
      "\rReading Comp news ('002230', '피에스텍')"
     ]
    },
    {
     "name": "stdout",
     "output_type": "stream",
     "text": [
      "\rReading Comp news ('242350', '피엔아이컴퍼니')"
     ]
    },
    {
     "name": "stdout",
     "output_type": "stream",
     "text": [
      "\rReading Comp news ('239890', '피엔에이치테크')"
     ]
    },
    {
     "name": "stdout",
     "output_type": "stream",
     "text": [
      "\rReading Comp news ('137400', '피엔티')"
     ]
    },
    {
     "name": "stdout",
     "output_type": "stream",
     "text": [
      "\rReading Comp news ('144740', '피엠디아카데미')"
     ]
    },
    {
     "name": "stdout",
     "output_type": "stream",
     "text": [
      "\rReading Comp news ('128660', '피제이메탈')"
     ]
    },
    {
     "name": "stdout",
     "output_type": "stream",
     "text": [
      "\rReading Comp news ('006140', '피제이전자')"
     ]
    },
    {
     "name": "stdout",
     "output_type": "stream",
     "text": [
      "\rReading Comp news ('087600', '픽셀플러스')"
     ]
    },
    {
     "name": "stdout",
     "output_type": "stream",
     "text": [
      "\rReading Comp news ('033180', '필룩스')"
     ]
    },
    {
     "name": "stdout",
     "output_type": "stream",
     "text": [
      "\rReading Comp news ('064800', '필링크')"
     ]
    },
    {
     "name": "stdout",
     "output_type": "stream",
     "text": [
      "\rReading Comp news ('161580', '필옵틱스')"
     ]
    },
    {
     "name": "stdout",
     "output_type": "stream",
     "text": [
      "\rReading Comp news ('270520', '하나금융10호스팩')"
     ]
    },
    {
     "name": "stdout",
     "output_type": "stream",
     "text": [
      "\rReading Comp news ('230240', '하나금융7호스팩')"
     ]
    },
    {
     "name": "stdout",
     "output_type": "stream",
     "text": [
      "\rReading Comp news ('261200', '하나금융9호스팩')"
     ]
    },
    {
     "name": "stdout",
     "output_type": "stream",
     "text": [
      "\rReading Comp news ('086790', '하나금융지주')"
     ]
    },
    {
     "name": "stdout",
     "output_type": "stream",
     "text": [
      "\rReading Comp news ('099340', '하나니켈1호')"
     ]
    },
    {
     "name": "stdout",
     "output_type": "stream",
     "text": [
      "\rReading Comp news ('099350', '하나니켈2호')"
     ]
    },
    {
     "name": "stdout",
     "output_type": "stream",
     "text": [
      "\rReading Comp news ('067310', '하나마이크론')"
     ]
    },
    {
     "name": "stdout",
     "output_type": "stream",
     "text": [
      "\rReading Comp news ('166090', '하나머티리얼즈')"
     ]
    },
    {
     "name": "stdout",
     "output_type": "stream",
     "text": [
      "\rReading Comp news ('039130', '하나투어')"
     ]
    },
    {
     "name": "stdout",
     "output_type": "stream",
     "text": [
      "\rReading Comp news ('136480', '하림')"
     ]
    },
    {
     "name": "stdout",
     "output_type": "stream",
     "text": [
      "\rReading Comp news ('024660', '하림홀딩스')"
     ]
    },
    {
     "name": "stdout",
     "output_type": "stream",
     "text": [
      "\rReading Comp news ('233990', '하우동천')"
     ]
    },
    {
     "name": "stdout",
     "output_type": "stream",
     "text": [
      "\rReading Comp news ('172580', '하이골드12호')"
     ]
    },
    {
     "name": "stdout",
     "output_type": "stream",
     "text": [
      "\rReading Comp news ('153360', '하이골드3호')"
     ]
    },
    {
     "name": "stdout",
     "output_type": "stream",
     "text": [
      "\rReading Comp news ('159650', '하이골드8호')"
     ]
    },
    {
     "name": "stdout",
     "output_type": "stream",
     "text": [
      "\rReading Comp news ('149980', '하이로닉')"
     ]
    },
    {
     "name": "stdout",
     "output_type": "stream",
     "text": [
      "\rReading Comp news ('013030', '하이록코리아')"
     ]
    },
    {
     "name": "stdout",
     "output_type": "stream",
     "text": [
      "\rReading Comp news ('126700', '하이비젼시스템')"
     ]
    },
    {
     "name": "stdout",
     "output_type": "stream",
     "text": [
      "\rReading Comp news ('200470', '하이셈')"
     ]
    },
    {
     "name": "stdout",
     "output_type": "stream",
     "text": [
      "\rReading Comp news ('071090', '하이스틸')"
     ]
    },
    {
     "name": "stdout",
     "output_type": "stream",
     "text": [
      "\rReading Comp news ('235010', '하이에이아이1호스팩')"
     ]
    },
    {
     "name": "stdout",
     "output_type": "stream",
     "text": [
      "\rReading Comp news ('217500', '하이제3호스팩')"
     ]
    },
    {
     "name": "stdout",
     "output_type": "stream",
     "text": [
      "\rReading Comp news ('221840', '하이즈항공')"
     ]
    },
    {
     "name": "stdout",
     "output_type": "stream",
     "text": [
      "\rReading Comp news ('106190', '하이텍팜')"
     ]
    },
    {
     "name": "stdout",
     "output_type": "stream",
     "text": [
      "\rReading Comp news ('019490', '하이트론')"
     ]
    },
    {
     "name": "stdout",
     "output_type": "stream",
     "text": [
      "\rReading Comp news ('000080', '하이트진로')"
     ]
    },
    {
     "name": "stdout",
     "output_type": "stream",
     "text": [
      "\rReading Comp news ('000087', '하이트진로2우B')"
     ]
    },
    {
     "name": "stdout",
     "output_type": "stream",
     "text": [
      "\rReading Comp news ('000140', '하이트진로홀딩스')"
     ]
    },
    {
     "name": "stdout",
     "output_type": "stream",
     "text": [
      "\rReading Comp news ('000145', '하이트진로홀딩스우')"
     ]
    },
    {
     "name": "stdout",
     "output_type": "stream",
     "text": [
      "\rReading Comp news ('066130', '하츠')"
     ]
    },
    {
     "name": "stdout",
     "output_type": "stream",
     "text": [
      "\rReading Comp news ('240540', '한국4호스팩')"
     ]
    },
    {
     "name": "stdout",
     "output_type": "stream",
     "text": [
      "\rReading Comp news ('152550', '한국ANKOR유전')"
     ]
    },
    {
     "name": "stdout",
     "output_type": "stream",
     "text": [
      "\rReading Comp news ('004590', '한국가구')"
     ]
    },
    {
     "name": "stdout",
     "output_type": "stream",
     "text": [
      "\rReading Comp news ('036460', '한국가스공사')"
     ]
    },
    {
     "name": "stdout",
     "output_type": "stream",
     "text": [
      "\rReading Comp news ('039340', '한국경제TV')"
     ]
    },
    {
     "name": "stdout",
     "output_type": "stream",
     "text": [
      "\rReading Comp news ('005430', '한국공항')"
     ]
    },
    {
     "name": "stdout",
     "output_type": "stream",
     "text": [
      "\rReading Comp news ('071050', '한국금융지주')"
     ]
    },
    {
     "name": "stdout",
     "output_type": "stream",
     "text": [
      "\rReading Comp news ('071055', '한국금융지주우')"
     ]
    },
    {
     "name": "stdout",
     "output_type": "stream",
     "text": [
      "\rReading Comp news ('034950', '한국기업평가')"
     ]
    },
    {
     "name": "stdout",
     "output_type": "stream",
     "text": [
      "\rReading Comp news ('010040', '한국내화')"
     ]
    },
    {
     "name": "stdout",
     "output_type": "stream",
     "text": [
      "\rReading Comp news ('025540', '한국단자')"
     ]
    },
    {
     "name": "stdout",
     "output_type": "stream",
     "text": [
      "\rReading Comp news ('222980', '한국맥널티')"
     ]
    },
    {
     "name": "stdout",
     "output_type": "stream",
     "text": [
      "\rReading Comp news ('226610', '한국비엔씨')"
     ]
    },
    {
     "name": "stdout",
     "output_type": "stream",
     "text": [
      "\rReading Comp news ('004090', '한국석유')"
     ]
    },
    {
     "name": "stdout",
     "output_type": "stream",
     "text": [
      "\rReading Comp news ('025550', '한국선재')"
     ]
    },
    {
     "name": "stdout",
     "output_type": "stream",
     "text": [
      "\rReading Comp news ('002960', '한국쉘석유')"
     ]
    },
    {
     "name": "stdout",
     "output_type": "stream",
     "text": [
      "\rReading Comp news ('017890', '한국알콜')"
     ]
    },
    {
     "name": "stdout",
     "output_type": "stream",
     "text": [
      "\rReading Comp news ('002000', '한국유리')"
     ]
    },
    {
     "name": "stdout",
     "output_type": "stream",
     "text": [
      "\rReading Comp news ('002005', '한국유리우')"
     ]
    },
    {
     "name": "stdout",
     "output_type": "stream",
     "text": [
      "\rReading Comp news ('123890', '한국자산신탁')"
     ]
    },
    {
     "name": "stdout",
     "output_type": "stream",
     "text": [
      "\rReading Comp news ('015760', '한국전력')"
     ]
    },
    {
     "name": "stdout",
     "output_type": "stream",
     "text": [
      "\rReading Comp news ('063570', '한국전자금융')"
     ]
    },
    {
     "name": "stdout",
     "output_type": "stream",
     "text": [
      "\rReading Comp news ('041460', '한국전자인증')"
     ]
    },
    {
     "name": "stdout",
     "output_type": "stream",
     "text": [
      "\rReading Comp news ('006200', '한국전자홀딩스')"
     ]
    },
    {
     "name": "stdout",
     "output_type": "stream",
     "text": [
      "\rReading Comp news ('101680', '한국정밀기계')"
     ]
    },
    {
     "name": "stdout",
     "output_type": "stream",
     "text": [
      "\rReading Comp news ('039740', '한국정보공학')"
     ]
    },
    {
     "name": "stdout",
     "output_type": "stream",
     "text": [
      "\rReading Comp news ('053300', '한국정보인증')"
     ]
    },
    {
     "name": "stdout",
     "output_type": "stream",
     "text": [
      "\rReading Comp news ('025770', '한국정보통신')"
     ]
    },
    {
     "name": "stdout",
     "output_type": "stream",
     "text": [
      "\rReading Comp news ('271740', '한국제5호스팩')"
     ]
    },
    {
     "name": "stdout",
     "output_type": "stream",
     "text": [
      "\rReading Comp news ('281410', '한국제6호스팩')"
     ]
    },
    {
     "name": "stdout",
     "output_type": "stream",
     "text": [
      "\rReading Comp news ('002300', '한국제지')"
     ]
    },
    {
     "name": "stdout",
     "output_type": "stream",
     "text": [
      "\rReading Comp news ('023350', '한국종합기술')"
     ]
    },
    {
     "name": "stdout",
     "output_type": "stream",
     "text": [
      "\rReading Comp news ('025890', '한국주강')"
     ]
    },
    {
     "name": "stdout",
     "output_type": "stream",
     "text": [
      "\rReading Comp news ('000970', '한국주철관')"
     ]
    },
    {
     "name": "stdout",
     "output_type": "stream",
     "text": [
      "\rReading Comp news ('104700', '한국철강')"
     ]
    },
    {
     "name": "stdout",
     "output_type": "stream",
     "text": [
      "\rReading Comp news ('017960', '한국카본')"
     ]
    },
    {
     "name": "stdout",
     "output_type": "stream",
     "text": [
      "\rReading Comp news ('023760', '한국캐피탈')"
     ]
    },
    {
     "name": "stdout",
     "output_type": "stream",
     "text": [
      "\rReading Comp news ('054040', '한국컴퓨터')"
     ]
    },
    {
     "name": "stdout",
     "output_type": "stream",
     "text": [
      "\rReading Comp news ('050540', '한국코퍼레이션')"
     ]
    },
    {
     "name": "stdout",
     "output_type": "stream",
     "text": [
      "\rReading Comp news ('161890', '한국콜마')"
     ]
    },
    {
     "name": "stdout",
     "output_type": "stream",
     "text": [
      "\rReading Comp news ('024720', '한국콜마홀딩스')"
     ]
    },
    {
     "name": "stdout",
     "output_type": "stream",
     "text": [
      "\rReading Comp news ('021650', '한국큐빅')"
     ]
    },
    {
     "name": "stdout",
     "output_type": "stream",
     "text": [
      "\rReading Comp news ('161390', '한국타이어')"
     ]
    },
    {
     "name": "stdout",
     "output_type": "stream",
     "text": [
      "\rReading Comp news ('000240', '한국타이어월드와이드')"
     ]
    },
    {
     "name": "stdout",
     "output_type": "stream",
     "text": [
      "\rReading Comp news ('053590', '한국테크놀로지')"
     ]
    },
    {
     "name": "stdout",
     "output_type": "stream",
     "text": [
      "\rReading Comp news ('034830', '한국토지신탁')"
     ]
    },
    {
     "name": "stdout",
     "output_type": "stream",
     "text": [
      "\rReading Comp news ('007280', '한국특수형강')"
     ]
    },
    {
     "name": "stdout",
     "output_type": "stream",
     "text": [
      "\rReading Comp news ('168490', '한국패러랠')"
     ]
    },
    {
     "name": "stdout",
     "output_type": "stream",
     "text": [
      "\rReading Comp news ('037230', '한국팩키지')"
     ]
    },
    {
     "name": "stdout",
     "output_type": "stream",
     "text": [
      "\rReading Comp news ('010100', '한국프랜지')"
     ]
    },
    {
     "name": "stdout",
     "output_type": "stream",
     "text": [
      "\rReading Comp news ('047810', '한국항공우주')"
     ]
    },
    {
     "name": "stdout",
     "output_type": "stream",
     "text": [
      "\rReading Comp news ('123690', '한국화장품')"
     ]
    },
    {
     "name": "stdout",
     "output_type": "stream",
     "text": [
      "\rReading Comp news ('003350', '한국화장품제조')"
     ]
    },
    {
     "name": "stdout",
     "output_type": "stream",
     "text": [
      "\rReading Comp news ('030520', '한글과컴퓨터')"
     ]
    },
    {
     "name": "stdout",
     "output_type": "stream",
     "text": [
      "\rReading Comp news ('052600', '한네트')"
     ]
    },
    {
     "name": "stdout",
     "output_type": "stream",
     "text": [
      "\rReading Comp news ('011500', '한농화성')"
     ]
    },
    {
     "name": "stdout",
     "output_type": "stream",
     "text": [
      "\rReading Comp news ('002390', '한독')"
     ]
    },
    {
     "name": "stdout",
     "output_type": "stream",
     "text": [
      "\rReading Comp news ('014790', '한라')"
     ]
    },
    {
     "name": "stdout",
     "output_type": "stream",
     "text": [
      "\rReading Comp news ('092460', '한라IMS')"
     ]
    },
    {
     "name": "stdout",
     "output_type": "stream",
     "text": [
      "\rReading Comp news ('060980', '한라홀딩스')"
     ]
    },
    {
     "name": "stdout",
     "output_type": "stream",
     "text": [
      "\rReading Comp news ('053690', '한미글로벌')"
     ]
    },
    {
     "name": "stdout",
     "output_type": "stream",
     "text": [
      "\rReading Comp news ('042700', '한미반도체')"
     ]
    },
    {
     "name": "stdout",
     "output_type": "stream",
     "text": [
      "\rReading Comp news ('008930', '한미사이언스')"
     ]
    },
    {
     "name": "stdout",
     "output_type": "stream",
     "text": [
      "\rReading Comp news ('128940', '한미약품')"
     ]
    },
    {
     "name": "stdout",
     "output_type": "stream",
     "text": [
      "\rReading Comp news ('047080', '한빛소프트')"
     ]
    },
    {
     "name": "stdout",
     "output_type": "stream",
     "text": [
      "\rReading Comp news ('009240', '한샘')"
     ]
    },
    {
     "name": "stdout",
     "output_type": "stream",
     "text": [
      "\rReading Comp news ('020000', '한섬')"
     ]
    },
    {
     "name": "stdout",
     "output_type": "stream",
     "text": [
      "\rReading Comp news ('003680', '한성기업')"
     ]
    },
    {
     "name": "stdout",
     "output_type": "stream",
     "text": [
      "\rReading Comp news ('105630', '한세실업')"
     ]
    },
    {
     "name": "stdout",
     "output_type": "stream",
     "text": [
      "\rReading Comp news ('069640', '한세엠케이')"
     ]
    },
    {
     "name": "stdout",
     "output_type": "stream",
     "text": [
      "\rReading Comp news ('016450', '한세예스24홀딩스')"
     ]
    },
    {
     "name": "stdout",
     "output_type": "stream",
     "text": [
      "\rReading Comp news ('010420', '한솔PNS')"
     ]
    },
    {
     "name": "stdout",
     "output_type": "stream",
     "text": [
      "\rReading Comp news ('009180', '한솔로지스틱스')"
     ]
    },
    {
     "name": "stdout",
     "output_type": "stream",
     "text": [
      "\rReading Comp news ('070300', '한솔시큐어')"
     ]
    },
    {
     "name": "stdout",
     "output_type": "stream",
     "text": [
      "\rReading Comp news ('099660', '한솔신텍')"
     ]
    },
    {
     "name": "stdout",
     "output_type": "stream",
     "text": [
      "\rReading Comp news ('221610', '한솔씨앤피')"
     ]
    },
    {
     "name": "stdout",
     "output_type": "stream",
     "text": [
      "\rReading Comp news ('070590', '한솔인티큐브')"
     ]
    },
    {
     "name": "stdout",
     "output_type": "stream",
     "text": [
      "\rReading Comp news ('213500', '한솔제지')"
     ]
    },
    {
     "name": "stdout",
     "output_type": "stream",
     "text": [
      "\rReading Comp news ('014680', '한솔케미칼')"
     ]
    },
    {
     "name": "stdout",
     "output_type": "stream",
     "text": [
      "\rReading Comp news ('004710', '한솔테크닉스')"
     ]
    },
    {
     "name": "stdout",
     "output_type": "stream",
     "text": [
      "\rReading Comp news ('004150', '한솔홀딩스')"
     ]
    },
    {
     "name": "stdout",
     "output_type": "stream",
     "text": [
      "\rReading Comp news ('025750', '한솔홈데코')"
     ]
    },
    {
     "name": "stdout",
     "output_type": "stream",
     "text": [
      "\rReading Comp news ('042520', '한스바이오메드')"
     ]
    },
    {
     "name": "stdout",
     "output_type": "stream",
     "text": [
      "\rReading Comp news ('004960', '한신공영')"
     ]
    },
    {
     "name": "stdout",
     "output_type": "stream",
     "text": [
      "\rReading Comp news ('011700', '한신기계')"
     ]
    },
    {
     "name": "stdout",
     "output_type": "stream",
     "text": [
      "\rReading Comp news ('078350', '한양디지텍')"
     ]
    },
    {
     "name": "stdout",
     "output_type": "stream",
     "text": [
      "\rReading Comp news ('045100', '한양이엔지')"
     ]
    },
    {
     "name": "stdout",
     "output_type": "stream",
     "text": [
      "\rReading Comp news ('001750', '한양증권')"
     ]
    },
    {
     "name": "stdout",
     "output_type": "stream",
     "text": [
      "\rReading Comp news ('001755', '한양증권우')"
     ]
    },
    {
     "name": "stdout",
     "output_type": "stream",
     "text": [
      "\rReading Comp news ('018880', '한온시스템')"
     ]
    },
    {
     "name": "stdout",
     "output_type": "stream",
     "text": [
      "\rReading Comp news ('009420', '한올바이오파마')"
     ]
    },
    {
     "name": "stdout",
     "output_type": "stream",
     "text": [
      "\rReading Comp news ('014130', '한익스프레스')"
     ]
    },
    {
     "name": "stdout",
     "output_type": "stream",
     "text": [
      "\rReading Comp news ('046110', '한일네트웍스')"
     ]
    },
    {
     "name": "stdout",
     "output_type": "stream",
     "text": [
      "\rReading Comp news ('024740', '한일단조')"
     ]
    },
    {
     "name": "stdout",
     "output_type": "stream",
     "text": [
      "\rReading Comp news ('005860', '한일사료')"
     ]
    },
    {
     "name": "stdout",
     "output_type": "stream",
     "text": [
      "\rReading Comp news ('003300', '한일시멘트')"
     ]
    },
    {
     "name": "stdout",
     "output_type": "stream",
     "text": [
      "\rReading Comp news ('123840', '한일진공')"
     ]
    },
    {
     "name": "stdout",
     "output_type": "stream",
     "text": [
      "\rReading Comp news ('002220', '한일철강')"
     ]
    },
    {
     "name": "stdout",
     "output_type": "stream",
     "text": [
      "\rReading Comp news ('007770', '한일화학')"
     ]
    },
    {
     "name": "stdout",
     "output_type": "stream",
     "text": [
      "\rReading Comp news ('051600', '한전KPS')"
     ]
    },
    {
     "name": "stdout",
     "output_type": "stream",
     "text": [
      "\rReading Comp news ('052690', '한전기술')"
     ]
    },
    {
     "name": "stdout",
     "output_type": "stream",
     "text": [
      "\rReading Comp news ('130660', '한전산업')"
     ]
    },
    {
     "name": "stdout",
     "output_type": "stream",
     "text": [
      "\rReading Comp news ('107640', '한중엔시에스')"
     ]
    },
    {
     "name": "stdout",
     "output_type": "stream",
     "text": [
      "\rReading Comp news ('002320', '한진')"
     ]
    },
    {
     "name": "stdout",
     "output_type": "stream",
     "text": [
      "\rReading Comp news ('097230', '한진중공업')"
     ]
    },
    {
     "name": "stdout",
     "output_type": "stream",
     "text": [
      "\rReading Comp news ('003480', '한진중공업홀딩스')"
     ]
    },
    {
     "name": "stdout",
     "output_type": "stream",
     "text": [
      "\rReading Comp news ('180640', '한진칼')"
     ]
    },
    {
     "name": "stdout",
     "output_type": "stream",
     "text": [
      "\rReading Comp news ('18064K', '한진칼우')"
     ]
    },
    {
     "name": "stdout",
     "output_type": "stream",
     "text": [
      "\rReading Comp news ('005110', '한창')"
     ]
    },
    {
     "name": "stdout",
     "output_type": "stream",
     "text": [
      "\rReading Comp news ('079170', '한창산업')"
     ]
    },
    {
     "name": "stdout",
     "output_type": "stream",
     "text": [
      "\rReading Comp news ('009460', '한창제지')"
     ]
    },
    {
     "name": "stdout",
     "output_type": "stream",
     "text": [
      "\rReading Comp news ('086960', '한컴MDS')"
     ]
    },
    {
     "name": "stdout",
     "output_type": "stream",
     "text": [
      "\rReading Comp news ('054920', '한컴시큐어')"
     ]
    },
    {
     "name": "stdout",
     "output_type": "stream",
     "text": [
      "\rReading Comp news ('215090', '한컴유니맥스')"
     ]
    },
    {
     "name": "stdout",
     "output_type": "stream",
     "text": [
      "\rReading Comp news ('077280', '한컴지엠디')"
     ]
    },
    {
     "name": "stdout",
     "output_type": "stream",
     "text": [
      "\rReading Comp news ('002680', '한탑')"
     ]
    },
    {
     "name": "stdout",
     "output_type": "stream",
     "text": [
      "\rReading Comp news ('066110', '한프')"
     ]
    },
    {
     "name": "stdout",
     "output_type": "stream",
     "text": [
      "\rReading Comp news ('000880', '한화')"
     ]
    },
    {
     "name": "stdout",
     "output_type": "stream",
     "text": [
      "\rReading Comp news ('00088K', '한화3우B')"
     ]
    },
    {
     "name": "stdout",
     "output_type": "stream",
     "text": [
      "\rReading Comp news ('027390', '한화갤러리아타임월드')"
     ]
    },
    {
     "name": "stdout",
     "output_type": "stream",
     "text": [
      "\rReading Comp news ('088350', '한화생명')"
     ]
    },
    {
     "name": "stdout",
     "output_type": "stream",
     "text": [
      "\rReading Comp news ('000370', '한화손해보험')"
     ]
    },
    {
     "name": "stdout",
     "output_type": "stream",
     "text": [
      "\rReading Comp news ('265920', '한화수성스팩')"
     ]
    },
    {
     "name": "stdout",
     "output_type": "stream",
     "text": [
      "\rReading Comp news ('012450', '한화에어로스페이스')"
     ]
    },
    {
     "name": "stdout",
     "output_type": "stream",
     "text": [
      "\rReading Comp news ('264290', '한화에이스스팩3호')"
     ]
    },
    {
     "name": "stdout",
     "output_type": "stream",
     "text": [
      "\rReading Comp news ('279410', '한화에이스스팩4호')"
     ]
    },
    {
     "name": "stdout",
     "output_type": "stream",
     "text": [
      "\rReading Comp news ('000885', '한화우')"
     ]
    },
    {
     "name": "stdout",
     "output_type": "stream",
     "text": [
      "\rReading Comp news ('009830', '한화케미칼')"
     ]
    },
    {
     "name": "stdout",
     "output_type": "stream",
     "text": [
      "\rReading Comp news ('009835', '한화케미칼우')"
     ]
    },
    {
     "name": "stdout",
     "output_type": "stream",
     "text": [
      "\rReading Comp news ('003530', '한화투자증권')"
     ]
    },
    {
     "name": "stdout",
     "output_type": "stream",
     "text": [
      "\rReading Comp news ('003535', '한화투자증권우')"
     ]
    },
    {
     "name": "stdout",
     "output_type": "stream",
     "text": [
      "\rReading Comp news ('102210', '해덕파워웨이')"
     ]
    },
    {
     "name": "stdout",
     "output_type": "stream",
     "text": [
      "\rReading Comp news ('220630', '해마로푸드서비스')"
     ]
    },
    {
     "name": "stdout",
     "output_type": "stream",
     "text": [
      "\rReading Comp news ('195870', '해성디에스')"
     ]
    },
    {
     "name": "stdout",
     "output_type": "stream",
     "text": [
      "\rReading Comp news ('034810', '해성산업')"
     ]
    },
    {
     "name": "stdout",
     "output_type": "stream",
     "text": [
      "\rReading Comp news ('076610', '해성옵틱스')"
     ]
    },
    {
     "name": "stdout",
     "output_type": "stream",
     "text": [
      "\rReading Comp news ('101530', '해태제과식품')"
     ]
    },
    {
     "name": "stdout",
     "output_type": "stream",
     "text": [
      "\rReading Comp news ('220180', '핸디소프트')"
     ]
    },
    {
     "name": "stdout",
     "output_type": "stream",
     "text": [
      "\rReading Comp news ('143210', '핸즈코퍼레이션')"
     ]
    },
    {
     "name": "stdout",
     "output_type": "stream",
     "text": [
      "\rReading Comp news ('008800', '행남사')"
     ]
    },
    {
     "name": "stdout",
     "output_type": "stream",
     "text": [
      "\rReading Comp news ('900270', '헝셩그룹')"
     ]
    },
    {
     "name": "stdout",
     "output_type": "stream",
     "text": [
      "\rReading Comp news ('000720', '현대건설')"
     ]
    },
    {
     "name": "stdout",
     "output_type": "stream",
     "text": [
      "\rReading Comp news ('267270', '현대건설기계')"
     ]
    },
    {
     "name": "stdout",
     "output_type": "stream",
     "text": [
      "\rReading Comp news ('000725', '현대건설우')"
     ]
    },
    {
     "name": "stdout",
     "output_type": "stream",
     "text": [
      "\rReading Comp news ('170030', '현대공업')"
     ]
    },
    {
     "name": "stdout",
     "output_type": "stream",
     "text": [
      "\rReading Comp news ('005440', '현대그린푸드')"
     ]
    },
    {
     "name": "stdout",
     "output_type": "stream",
     "text": [
      "\rReading Comp news ('086280', '현대글로비스')"
     ]
    },
    {
     "name": "stdout",
     "output_type": "stream",
     "text": [
      "\rReading Comp news ('064350', '현대로템')"
     ]
    },
    {
     "name": "stdout",
     "output_type": "stream",
     "text": [
      "\rReading Comp news ('079430', '현대리바트')"
     ]
    },
    {
     "name": "stdout",
     "output_type": "stream",
     "text": [
      "\rReading Comp news ('012330', '현대모비스')"
     ]
    },
    {
     "name": "stdout",
     "output_type": "stream",
     "text": [
      "\rReading Comp news ('010620', '현대미포조선')"
     ]
    },
    {
     "name": "stdout",
     "output_type": "stream",
     "text": [
      "\rReading Comp news ('069960', '현대백화점')"
     ]
    },
    {
     "name": "stdout",
     "output_type": "stream",
     "text": [
      "\rReading Comp news ('004560', '현대비앤지스틸')"
     ]
    },
    {
     "name": "stdout",
     "output_type": "stream",
     "text": [
      "\rReading Comp news ('004565', '현대비앤지스틸우')"
     ]
    },
    {
     "name": "stdout",
     "output_type": "stream",
     "text": [
      "\rReading Comp news ('012630', '현대산업')"
     ]
    },
    {
     "name": "stdout",
     "output_type": "stream",
     "text": [
      "\rReading Comp news ('011760', '현대상사')"
     ]
    },
    {
     "name": "stdout",
     "output_type": "stream",
     "text": [
      "\rReading Comp news ('011200', '현대상선')"
     ]
    },
    {
     "name": "stdout",
     "output_type": "stream",
     "text": [
      "\rReading Comp news ('006390', '현대시멘트')"
     ]
    },
    {
     "name": "stdout",
     "output_type": "stream",
     "text": [
      "\rReading Comp news ('048410', '현대아이비티')"
     ]
    },
    {
     "name": "stdout",
     "output_type": "stream",
     "text": [
      "\rReading Comp news ('004310', '현대약품')"
     ]
    },
    {
     "name": "stdout",
     "output_type": "stream",
     "text": [
      "\rReading Comp news ('126560', '현대에이치씨엔')"
     ]
    },
    {
     "name": "stdout",
     "output_type": "stream",
     "text": [
      "\rReading Comp news ('017800', '현대엘리베이')"
     ]
    },
    {
     "name": "stdout",
     "output_type": "stream",
     "text": [
      "\rReading Comp news ('011210', '현대위아')"
     ]
    },
    {
     "name": "stdout",
     "output_type": "stream",
     "text": [
      "\rReading Comp news ('267260', '현대일렉트릭')"
     ]
    },
    {
     "name": "stdout",
     "output_type": "stream",
     "text": [
      "\rReading Comp news ('026180', '현대정보기술')"
     ]
    },
    {
     "name": "stdout",
     "output_type": "stream",
     "text": [
      "\rReading Comp news ('004020', '현대제철')"
     ]
    },
    {
     "name": "stdout",
     "output_type": "stream",
     "text": [
      "\rReading Comp news ('009540', '현대중공업')"
     ]
    },
    {
     "name": "stdout",
     "output_type": "stream",
     "text": [
      "\rReading Comp news ('267250', '현대중공업지주')"
     ]
    },
    {
     "name": "stdout",
     "output_type": "stream",
     "text": [
      "\rReading Comp news ('005380', '현대차')"
     ]
    },
    {
     "name": "stdout",
     "output_type": "stream",
     "text": [
      "\rReading Comp news ('005387', '현대차2우B')"
     ]
    },
    {
     "name": "stdout",
     "output_type": "stream",
     "text": [
      "\rReading Comp news ('005389', '현대차3우B')"
     ]
    },
    {
     "name": "stdout",
     "output_type": "stream",
     "text": [
      "\rReading Comp news ('005385', '현대차우')"
     ]
    },
    {
     "name": "stdout",
     "output_type": "stream",
     "text": [
      "\rReading Comp news ('001500', '현대차투자증권')"
     ]
    },
    {
     "name": "stdout",
     "output_type": "stream",
     "text": [
      "\rReading Comp news ('227840', '현대코퍼레이션홀딩스')"
     ]
    },
    {
     "name": "stdout",
     "output_type": "stream",
     "text": [
      "\rReading Comp news ('039010', '현대통신')"
     ]
    },
    {
     "name": "stdout",
     "output_type": "stream",
     "text": [
      "\rReading Comp news ('001450', '현대해상')"
     ]
    },
    {
     "name": "stdout",
     "output_type": "stream",
     "text": [
      "\rReading Comp news ('057050', '현대홈쇼핑')"
     ]
    },
    {
     "name": "stdout",
     "output_type": "stream",
     "text": [
      "\rReading Comp news ('204990', '현성바이탈')"
     ]
    },
    {
     "name": "stdout",
     "output_type": "stream",
     "text": [
      "\rReading Comp news ('092300', '현우산업')"
     ]
    },
    {
     "name": "stdout",
     "output_type": "stream",
     "text": [
      "\rReading Comp news ('053660', '현진소재')"
     ]
    },
    {
     "name": "stdout",
     "output_type": "stream",
     "text": [
      "\rReading Comp news ('011080', '형지I&C')"
     ]
    },
    {
     "name": "stdout",
     "output_type": "stream",
     "text": [
      "\rReading Comp news ('093240', '형지엘리트')"
     ]
    },
    {
     "name": "stdout",
     "output_type": "stream",
     "text": [
      "\rReading Comp news ('003010', '혜인')"
     ]
    },
    {
     "name": "stdout",
     "output_type": "stream",
     "text": [
      "\rReading Comp news ('111110', '호전실업')"
     ]
    },
    {
     "name": "stdout",
     "output_type": "stream",
     "text": [
      "\rReading Comp news ('008770', '호텔신라')"
     ]
    },
    {
     "name": "stdout",
     "output_type": "stream",
     "text": [
      "\rReading Comp news ('008775', '호텔신라우')"
     ]
    },
    {
     "name": "stdout",
     "output_type": "stream",
     "text": [
      "\rReading Comp news ('060560', '홈센타홀딩스')"
     ]
    },
    {
     "name": "stdout",
     "output_type": "stream",
     "text": [
      "\rReading Comp news ('064240', '홈캐스트')"
     ]
    },
    {
     "name": "stdout",
     "output_type": "stream",
     "text": [
      "\rReading Comp news ('039610', '화성밸브')"
     ]
    },
    {
     "name": "stdout",
     "output_type": "stream",
     "text": [
      "\rReading Comp news ('002460', '화성산업')"
     ]
    },
    {
     "name": "stdout",
     "output_type": "stream",
     "text": [
      "\rReading Comp news ('013520', '화승알앤에이')"
     ]
    },
    {
     "name": "stdout",
     "output_type": "stream",
     "text": [
      "\rReading Comp news ('241590', '화승엔터프라이즈')"
     ]
    },
    {
     "name": "stdout",
     "output_type": "stream",
     "text": [
      "\rReading Comp news ('006060', '화승인더')"
     ]
    },
    {
     "name": "stdout",
     "output_type": "stream",
     "text": [
      "\rReading Comp news ('010690', '화신')"
     ]
    },
    {
     "name": "stdout",
     "output_type": "stream",
     "text": [
      "\rReading Comp news ('126640', '화신정공')"
     ]
    },
    {
     "name": "stdout",
     "output_type": "stream",
     "text": [
      "\rReading Comp news ('086250', '화신테크')"
     ]
    },
    {
     "name": "stdout",
     "output_type": "stream",
     "text": [
      "\rReading Comp news ('204630', '화이브라더스코리아')"
     ]
    },
    {
     "name": "stdout",
     "output_type": "stream",
     "text": [
      "\rReading Comp news ('133820', '화인베스틸')"
     ]
    },
    {
     "name": "stdout",
     "output_type": "stream",
     "text": [
      "\rReading Comp news ('061250', '화일약품')"
     ]
    },
    {
     "name": "stdout",
     "output_type": "stream",
     "text": [
      "\rReading Comp news ('134780', '화진')"
     ]
    },
    {
     "name": "stdout",
     "output_type": "stream",
     "text": [
      "\rReading Comp news ('010660', '화천기계')"
     ]
    },
    {
     "name": "stdout",
     "output_type": "stream",
     "text": [
      "\rReading Comp news ('000850', '화천기공')"
     ]
    },
    {
     "name": "stdout",
     "output_type": "stream",
     "text": [
      "\rReading Comp news ('016580', '환인제약')"
     ]
    },
    {
     "name": "stdout",
     "output_type": "stream",
     "text": [
      "\rReading Comp news ('032560', '황금에스티')"
     ]
    },
    {
     "name": "stdout",
     "output_type": "stream",
     "text": [
      "\rReading Comp news ('004800', '효성')"
     ]
    },
    {
     "name": "stdout",
     "output_type": "stream",
     "text": [
      "\rReading Comp news ('094280', '효성ITX')"
     ]
    },
    {
     "name": "stdout",
     "output_type": "stream",
     "text": [
      "\rReading Comp news ('097870', '효성오앤비')"
     ]
    },
    {
     "name": "stdout",
     "output_type": "stream",
     "text": [
      "\rReading Comp news ('093370', '후성')"
     ]
    },
    {
     "name": "stdout",
     "output_type": "stream",
     "text": [
      "\rReading Comp news ('050090', '휘닉스소재')"
     ]
    },
    {
     "name": "stdout",
     "output_type": "stream",
     "text": [
      "\rReading Comp news ('081660', '휠라코리아')"
     ]
    },
    {
     "name": "stdout",
     "output_type": "stream",
     "text": [
      "\rReading Comp news ('005870', '휴니드')"
     ]
    },
    {
     "name": "stdout",
     "output_type": "stream",
     "text": [
      "\rReading Comp news ('284420', '휴럼')"
     ]
    },
    {
     "name": "stdout",
     "output_type": "stream",
     "text": [
      "\rReading Comp news ('205470', '휴마시스')"
     ]
    },
    {
     "name": "stdout",
     "output_type": "stream",
     "text": [
      "\rReading Comp news ('115160', '휴맥스')"
     ]
    },
    {
     "name": "stdout",
     "output_type": "stream",
     "text": [
      "\rReading Comp news ('028080', '휴맥스홀딩스')"
     ]
    },
    {
     "name": "stdout",
     "output_type": "stream",
     "text": [
      "\rReading Comp news ('200670', '휴메딕스')"
     ]
    },
    {
     "name": "stdout",
     "output_type": "stream",
     "text": [
      "\rReading Comp news ('212310', '휴벡셀')"
     ]
    },
    {
     "name": "stdout",
     "output_type": "stream",
     "text": [
      "\rReading Comp news ('079980', '휴비스')"
     ]
    },
    {
     "name": "stdout",
     "output_type": "stream",
     "text": [
      "\rReading Comp news ('065510', '휴비츠')"
     ]
    },
    {
     "name": "stdout",
     "output_type": "stream",
     "text": [
      "\rReading Comp news ('005010', '휴스틸')"
     ]
    },
    {
     "name": "stdout",
     "output_type": "stream",
     "text": [
      "\rReading Comp news ('243070', '휴온스')"
     ]
    },
    {
     "name": "stdout",
     "output_type": "stream",
     "text": [
      "\rReading Comp news ('084110', '휴온스글로벌')"
     ]
    },
    {
     "name": "stdout",
     "output_type": "stream",
     "text": [
      "\rReading Comp news ('145020', '휴젤')"
     ]
    },
    {
     "name": "stdout",
     "output_type": "stream",
     "text": [
      "\rReading Comp news ('069260', '휴켐스')"
     ]
    },
    {
     "name": "stdout",
     "output_type": "stream",
     "text": [
      "\rReading Comp news ('024060', '흥구석유')"
     ]
    },
    {
     "name": "stdout",
     "output_type": "stream",
     "text": [
      "\rReading Comp news ('010240', '흥국')"
     ]
    },
    {
     "name": "stdout",
     "output_type": "stream",
     "text": [
      "\rReading Comp news ('189980', '흥국에프엔비')"
     ]
    },
    {
     "name": "stdout",
     "output_type": "stream",
     "text": [
      "\rReading Comp news ('000540', '흥국화재')"
     ]
    },
    {
     "name": "stdout",
     "output_type": "stream",
     "text": [
      "\rReading Comp news ('000547', '흥국화재2우B')"
     ]
    },
    {
     "name": "stdout",
     "output_type": "stream",
     "text": [
      "\rReading Comp news ('000545', '흥국화재우')"
     ]
    },
    {
     "name": "stdout",
     "output_type": "stream",
     "text": [
      "\rReading Comp news ('003280', '흥아해운')"
     ]
    },
    {
     "name": "stdout",
     "output_type": "stream",
     "text": [
      "\rReading Comp news ('037440', '희림')"
     ]
    },
    {
     "name": "stdout",
     "output_type": "stream",
     "text": [
      "\rReading Comp news ('238490', '힘스')"
     ]
    }
   ],
   "source": [
    "import sys\n",
    "\n",
    "from Api.NewsDataService import NewsDataService\n",
    "from Utils.StockCompanyExtractor.StockCompanyExtractor import CompCodeToTuple\n",
    "\n",
    "compByNewsCount = []\n",
    "for compCode in allCompDic:\n",
    "    comp = CompCodeToTuple(compCode)\n",
    "    newsList = NewsDataService().FetchCompNews(comp)\n",
    "    sys.stdout.write(\"\\rReading Comp news %s\" % str(comp))\n",
    "    sys.stdout.flush()\n",
    "    compByNewsCount.append([comp, len(newsList)])"
   ]
  },
  {
   "cell_type": "code",
   "execution_count": 16,
   "metadata": {
    "collapsed": false
   },
   "outputs": [
    {
     "data": {
      "text/html": [
       "<div>\n",
       "<style scoped>\n",
       "    .dataframe tbody tr th:only-of-type {\n",
       "        vertical-align: middle;\n",
       "    }\n",
       "\n",
       "    .dataframe tbody tr th {\n",
       "        vertical-align: top;\n",
       "    }\n",
       "\n",
       "    .dataframe thead th {\n",
       "        text-align: right;\n",
       "    }\n",
       "</style>\n",
       "<table border=\"1\" class=\"dataframe\">\n",
       "  <thead>\n",
       "    <tr style=\"text-align: right;\">\n",
       "      <th></th>\n",
       "      <th>0</th>\n",
       "      <th>1</th>\n",
       "    </tr>\n",
       "  </thead>\n",
       "  <tbody>\n",
       "    <tr>\n",
       "      <th>0</th>\n",
       "      <td>(060310, 3S)</td>\n",
       "      <td>65</td>\n",
       "    </tr>\n",
       "    <tr>\n",
       "      <th>1</th>\n",
       "      <td>(095570, AJ네트웍스)</td>\n",
       "      <td>29</td>\n",
       "    </tr>\n",
       "    <tr>\n",
       "      <th>2</th>\n",
       "      <td>(068400, AJ렌터카)</td>\n",
       "      <td>75</td>\n",
       "    </tr>\n",
       "    <tr>\n",
       "      <th>3</th>\n",
       "      <td>(006840, AK홀딩스)</td>\n",
       "      <td>60</td>\n",
       "    </tr>\n",
       "    <tr>\n",
       "      <th>4</th>\n",
       "      <td>(054620, APS홀딩스)</td>\n",
       "      <td>28</td>\n",
       "    </tr>\n",
       "    <tr>\n",
       "      <th>5</th>\n",
       "      <td>(265520, AP시스템)</td>\n",
       "      <td>95</td>\n",
       "    </tr>\n",
       "    <tr>\n",
       "      <th>6</th>\n",
       "      <td>(211270, AP위성)</td>\n",
       "      <td>4</td>\n",
       "    </tr>\n",
       "    <tr>\n",
       "      <th>7</th>\n",
       "      <td>(027410, BGF)</td>\n",
       "      <td>209</td>\n",
       "    </tr>\n",
       "    <tr>\n",
       "      <th>8</th>\n",
       "      <td>(282330, BGF리테일)</td>\n",
       "      <td>104</td>\n",
       "    </tr>\n",
       "    <tr>\n",
       "      <th>9</th>\n",
       "      <td>(138930, BNK금융지주)</td>\n",
       "      <td>199</td>\n",
       "    </tr>\n",
       "    <tr>\n",
       "      <th>10</th>\n",
       "      <td>(001460, BYC)</td>\n",
       "      <td>15</td>\n",
       "    </tr>\n",
       "    <tr>\n",
       "      <th>11</th>\n",
       "      <td>(001465, BYC우)</td>\n",
       "      <td>0</td>\n",
       "    </tr>\n",
       "    <tr>\n",
       "      <th>12</th>\n",
       "      <td>(032040, C&amp;S자산관리)</td>\n",
       "      <td>23</td>\n",
       "    </tr>\n",
       "    <tr>\n",
       "      <th>13</th>\n",
       "      <td>(001040, CJ)</td>\n",
       "      <td>1759</td>\n",
       "    </tr>\n",
       "    <tr>\n",
       "      <th>14</th>\n",
       "      <td>(079160, CJ CGV)</td>\n",
       "      <td>96</td>\n",
       "    </tr>\n",
       "    <tr>\n",
       "      <th>15</th>\n",
       "      <td>(130960, CJ E&amp;M)</td>\n",
       "      <td>469</td>\n",
       "    </tr>\n",
       "    <tr>\n",
       "      <th>16</th>\n",
       "      <td>(000120, CJ대한통운)</td>\n",
       "      <td>209</td>\n",
       "    </tr>\n",
       "    <tr>\n",
       "      <th>17</th>\n",
       "      <td>(011150, CJ씨푸드)</td>\n",
       "      <td>8</td>\n",
       "    </tr>\n",
       "    <tr>\n",
       "      <th>18</th>\n",
       "      <td>(011155, CJ씨푸드1우)</td>\n",
       "      <td>0</td>\n",
       "    </tr>\n",
       "    <tr>\n",
       "      <th>19</th>\n",
       "      <td>(035760, CJ오쇼핑)</td>\n",
       "      <td>242</td>\n",
       "    </tr>\n",
       "    <tr>\n",
       "      <th>20</th>\n",
       "      <td>(001045, CJ우)</td>\n",
       "      <td>0</td>\n",
       "    </tr>\n",
       "    <tr>\n",
       "      <th>21</th>\n",
       "      <td>(097950, CJ제일제당)</td>\n",
       "      <td>276</td>\n",
       "    </tr>\n",
       "    <tr>\n",
       "      <th>22</th>\n",
       "      <td>(097955, CJ제일제당 우)</td>\n",
       "      <td>0</td>\n",
       "    </tr>\n",
       "    <tr>\n",
       "      <th>23</th>\n",
       "      <td>(051500, CJ프레시웨이)</td>\n",
       "      <td>34</td>\n",
       "    </tr>\n",
       "    <tr>\n",
       "      <th>24</th>\n",
       "      <td>(037560, CJ헬로)</td>\n",
       "      <td>75</td>\n",
       "    </tr>\n",
       "    <tr>\n",
       "      <th>25</th>\n",
       "      <td>(058820, CMG제약)</td>\n",
       "      <td>299</td>\n",
       "    </tr>\n",
       "    <tr>\n",
       "      <th>26</th>\n",
       "      <td>(023460, CNH)</td>\n",
       "      <td>25</td>\n",
       "    </tr>\n",
       "    <tr>\n",
       "      <th>27</th>\n",
       "      <td>(065770, CS)</td>\n",
       "      <td>888</td>\n",
       "    </tr>\n",
       "    <tr>\n",
       "      <th>28</th>\n",
       "      <td>(083660, CSA 코스믹)</td>\n",
       "      <td>72</td>\n",
       "    </tr>\n",
       "    <tr>\n",
       "      <th>29</th>\n",
       "      <td>(000590, CS홀딩스)</td>\n",
       "      <td>6</td>\n",
       "    </tr>\n",
       "    <tr>\n",
       "      <th>...</th>\n",
       "      <td>...</td>\n",
       "      <td>...</td>\n",
       "    </tr>\n",
       "    <tr>\n",
       "      <th>2281</th>\n",
       "      <td>(032560, 황금에스티)</td>\n",
       "      <td>23</td>\n",
       "    </tr>\n",
       "    <tr>\n",
       "      <th>2282</th>\n",
       "      <td>(004800, 효성)</td>\n",
       "      <td>1123</td>\n",
       "    </tr>\n",
       "    <tr>\n",
       "      <th>2283</th>\n",
       "      <td>(094280, 효성ITX)</td>\n",
       "      <td>6</td>\n",
       "    </tr>\n",
       "    <tr>\n",
       "      <th>2284</th>\n",
       "      <td>(097870, 효성오앤비)</td>\n",
       "      <td>13</td>\n",
       "    </tr>\n",
       "    <tr>\n",
       "      <th>2285</th>\n",
       "      <td>(093370, 후성)</td>\n",
       "      <td>68</td>\n",
       "    </tr>\n",
       "    <tr>\n",
       "      <th>2286</th>\n",
       "      <td>(050090, 휘닉스소재)</td>\n",
       "      <td>10</td>\n",
       "    </tr>\n",
       "    <tr>\n",
       "      <th>2287</th>\n",
       "      <td>(081660, 휠라코리아)</td>\n",
       "      <td>202</td>\n",
       "    </tr>\n",
       "    <tr>\n",
       "      <th>2288</th>\n",
       "      <td>(005870, 휴니드)</td>\n",
       "      <td>17</td>\n",
       "    </tr>\n",
       "    <tr>\n",
       "      <th>2289</th>\n",
       "      <td>(284420, 휴럼)</td>\n",
       "      <td>2</td>\n",
       "    </tr>\n",
       "    <tr>\n",
       "      <th>2290</th>\n",
       "      <td>(205470, 휴마시스)</td>\n",
       "      <td>5</td>\n",
       "    </tr>\n",
       "    <tr>\n",
       "      <th>2291</th>\n",
       "      <td>(115160, 휴맥스)</td>\n",
       "      <td>17</td>\n",
       "    </tr>\n",
       "    <tr>\n",
       "      <th>2292</th>\n",
       "      <td>(028080, 휴맥스홀딩스)</td>\n",
       "      <td>3</td>\n",
       "    </tr>\n",
       "    <tr>\n",
       "      <th>2293</th>\n",
       "      <td>(200670, 휴메딕스)</td>\n",
       "      <td>60</td>\n",
       "    </tr>\n",
       "    <tr>\n",
       "      <th>2294</th>\n",
       "      <td>(212310, 휴벡셀)</td>\n",
       "      <td>0</td>\n",
       "    </tr>\n",
       "    <tr>\n",
       "      <th>2295</th>\n",
       "      <td>(079980, 휴비스)</td>\n",
       "      <td>21</td>\n",
       "    </tr>\n",
       "    <tr>\n",
       "      <th>2296</th>\n",
       "      <td>(065510, 휴비츠)</td>\n",
       "      <td>4</td>\n",
       "    </tr>\n",
       "    <tr>\n",
       "      <th>2297</th>\n",
       "      <td>(005010, 휴스틸)</td>\n",
       "      <td>54</td>\n",
       "    </tr>\n",
       "    <tr>\n",
       "      <th>2298</th>\n",
       "      <td>(243070, 휴온스)</td>\n",
       "      <td>182</td>\n",
       "    </tr>\n",
       "    <tr>\n",
       "      <th>2299</th>\n",
       "      <td>(084110, 휴온스글로벌)</td>\n",
       "      <td>77</td>\n",
       "    </tr>\n",
       "    <tr>\n",
       "      <th>2300</th>\n",
       "      <td>(145020, 휴젤)</td>\n",
       "      <td>309</td>\n",
       "    </tr>\n",
       "    <tr>\n",
       "      <th>2301</th>\n",
       "      <td>(069260, 휴켐스)</td>\n",
       "      <td>10</td>\n",
       "    </tr>\n",
       "    <tr>\n",
       "      <th>2302</th>\n",
       "      <td>(024060, 흥구석유)</td>\n",
       "      <td>2</td>\n",
       "    </tr>\n",
       "    <tr>\n",
       "      <th>2303</th>\n",
       "      <td>(010240, 흥국)</td>\n",
       "      <td>502</td>\n",
       "    </tr>\n",
       "    <tr>\n",
       "      <th>2304</th>\n",
       "      <td>(189980, 흥국에프엔비)</td>\n",
       "      <td>3</td>\n",
       "    </tr>\n",
       "    <tr>\n",
       "      <th>2305</th>\n",
       "      <td>(000540, 흥국화재)</td>\n",
       "      <td>36</td>\n",
       "    </tr>\n",
       "    <tr>\n",
       "      <th>2306</th>\n",
       "      <td>(000547, 흥국화재2우B)</td>\n",
       "      <td>0</td>\n",
       "    </tr>\n",
       "    <tr>\n",
       "      <th>2307</th>\n",
       "      <td>(000545, 흥국화재우)</td>\n",
       "      <td>1</td>\n",
       "    </tr>\n",
       "    <tr>\n",
       "      <th>2308</th>\n",
       "      <td>(003280, 흥아해운)</td>\n",
       "      <td>274</td>\n",
       "    </tr>\n",
       "    <tr>\n",
       "      <th>2309</th>\n",
       "      <td>(037440, 희림)</td>\n",
       "      <td>8</td>\n",
       "    </tr>\n",
       "    <tr>\n",
       "      <th>2310</th>\n",
       "      <td>(238490, 힘스)</td>\n",
       "      <td>11</td>\n",
       "    </tr>\n",
       "  </tbody>\n",
       "</table>\n",
       "<p>2311 rows × 2 columns</p>\n",
       "</div>"
      ],
      "text/plain": [
       "<div>\n",
       "<style scoped>\n",
       "    .dataframe tbody tr th:only-of-type {\n",
       "        vertical-align: middle;\n",
       "    }\n",
       "\n",
       "    .dataframe tbody tr th {\n",
       "        vertical-align: top;\n",
       "    }\n",
       "\n",
       "    .dataframe thead th {\n",
       "        text-align: right;\n",
       "    }\n",
       "</style>\n",
       "<table border=\"1\" class=\"dataframe\">\n",
       "  <thead>\n",
       "    <tr style=\"text-align: right;\">\n",
       "      <th></th>\n",
       "      <th>0</th>\n",
       "      <th>1</th>\n",
       "    </tr>\n",
       "  </thead>\n",
       "  <tbody>\n",
       "    <tr>\n",
       "      <th>0</th>\n",
       "      <td>(060310, 3S)</td>\n",
       "      <td>65</td>\n",
       "    </tr>\n",
       "    <tr>\n",
       "      <th>1</th>\n",
       "      <td>(095570, AJ네트웍스)</td>\n",
       "      <td>29</td>\n",
       "    </tr>\n",
       "    <tr>\n",
       "      <th>2</th>\n",
       "      <td>(068400, AJ렌터카)</td>\n",
       "      <td>75</td>\n",
       "    </tr>\n",
       "    <tr>\n",
       "      <th>3</th>\n",
       "      <td>(006840, AK홀딩스)</td>\n",
       "      <td>60</td>\n",
       "    </tr>\n",
       "    <tr>\n",
       "      <th>4</th>\n",
       "      <td>(054620, APS홀딩스)</td>\n",
       "      <td>28</td>\n",
       "    </tr>\n",
       "    <tr>\n",
       "      <th>5</th>\n",
       "      <td>(265520, AP시스템)</td>\n",
       "      <td>95</td>\n",
       "    </tr>\n",
       "    <tr>\n",
       "      <th>6</th>\n",
       "      <td>(211270, AP위성)</td>\n",
       "      <td>4</td>\n",
       "    </tr>\n",
       "    <tr>\n",
       "      <th>7</th>\n",
       "      <td>(027410, BGF)</td>\n",
       "      <td>209</td>\n",
       "    </tr>\n",
       "    <tr>\n",
       "      <th>8</th>\n",
       "      <td>(282330, BGF리테일)</td>\n",
       "      <td>104</td>\n",
       "    </tr>\n",
       "    <tr>\n",
       "      <th>9</th>\n",
       "      <td>(138930, BNK금융지주)</td>\n",
       "      <td>199</td>\n",
       "    </tr>\n",
       "    <tr>\n",
       "      <th>10</th>\n",
       "      <td>(001460, BYC)</td>\n",
       "      <td>15</td>\n",
       "    </tr>\n",
       "    <tr>\n",
       "      <th>11</th>\n",
       "      <td>(001465, BYC우)</td>\n",
       "      <td>0</td>\n",
       "    </tr>\n",
       "    <tr>\n",
       "      <th>12</th>\n",
       "      <td>(032040, C&amp;S자산관리)</td>\n",
       "      <td>23</td>\n",
       "    </tr>\n",
       "    <tr>\n",
       "      <th>13</th>\n",
       "      <td>(001040, CJ)</td>\n",
       "      <td>1759</td>\n",
       "    </tr>\n",
       "    <tr>\n",
       "      <th>14</th>\n",
       "      <td>(079160, CJ CGV)</td>\n",
       "      <td>96</td>\n",
       "    </tr>\n",
       "    <tr>\n",
       "      <th>15</th>\n",
       "      <td>(130960, CJ E&amp;M)</td>\n",
       "      <td>469</td>\n",
       "    </tr>\n",
       "    <tr>\n",
       "      <th>16</th>\n",
       "      <td>(000120, CJ대한통운)</td>\n",
       "      <td>209</td>\n",
       "    </tr>\n",
       "    <tr>\n",
       "      <th>17</th>\n",
       "      <td>(011150, CJ씨푸드)</td>\n",
       "      <td>8</td>\n",
       "    </tr>\n",
       "    <tr>\n",
       "      <th>18</th>\n",
       "      <td>(011155, CJ씨푸드1우)</td>\n",
       "      <td>0</td>\n",
       "    </tr>\n",
       "    <tr>\n",
       "      <th>19</th>\n",
       "      <td>(035760, CJ오쇼핑)</td>\n",
       "      <td>242</td>\n",
       "    </tr>\n",
       "    <tr>\n",
       "      <th>20</th>\n",
       "      <td>(001045, CJ우)</td>\n",
       "      <td>0</td>\n",
       "    </tr>\n",
       "    <tr>\n",
       "      <th>21</th>\n",
       "      <td>(097950, CJ제일제당)</td>\n",
       "      <td>276</td>\n",
       "    </tr>\n",
       "    <tr>\n",
       "      <th>22</th>\n",
       "      <td>(097955, CJ제일제당 우)</td>\n",
       "      <td>0</td>\n",
       "    </tr>\n",
       "    <tr>\n",
       "      <th>23</th>\n",
       "      <td>(051500, CJ프레시웨이)</td>\n",
       "      <td>34</td>\n",
       "    </tr>\n",
       "    <tr>\n",
       "      <th>24</th>\n",
       "      <td>(037560, CJ헬로)</td>\n",
       "      <td>75</td>\n",
       "    </tr>\n",
       "    <tr>\n",
       "      <th>25</th>\n",
       "      <td>(058820, CMG제약)</td>\n",
       "      <td>299</td>\n",
       "    </tr>\n",
       "    <tr>\n",
       "      <th>26</th>\n",
       "      <td>(023460, CNH)</td>\n",
       "      <td>25</td>\n",
       "    </tr>\n",
       "    <tr>\n",
       "      <th>27</th>\n",
       "      <td>(065770, CS)</td>\n",
       "      <td>888</td>\n",
       "    </tr>\n",
       "    <tr>\n",
       "      <th>28</th>\n",
       "      <td>(083660, CSA 코스믹)</td>\n",
       "      <td>72</td>\n",
       "    </tr>\n",
       "    <tr>\n",
       "      <th>29</th>\n",
       "      <td>(000590, CS홀딩스)</td>\n",
       "      <td>6</td>\n",
       "    </tr>\n",
       "    <tr>\n",
       "      <th>...</th>\n",
       "      <td>...</td>\n",
       "      <td>...</td>\n",
       "    </tr>\n",
       "    <tr>\n",
       "      <th>2281</th>\n",
       "      <td>(032560, 황금에스티)</td>\n",
       "      <td>23</td>\n",
       "    </tr>\n",
       "    <tr>\n",
       "      <th>2282</th>\n",
       "      <td>(004800, 효성)</td>\n",
       "      <td>1123</td>\n",
       "    </tr>\n",
       "    <tr>\n",
       "      <th>2283</th>\n",
       "      <td>(094280, 효성ITX)</td>\n",
       "      <td>6</td>\n",
       "    </tr>\n",
       "    <tr>\n",
       "      <th>2284</th>\n",
       "      <td>(097870, 효성오앤비)</td>\n",
       "      <td>13</td>\n",
       "    </tr>\n",
       "    <tr>\n",
       "      <th>2285</th>\n",
       "      <td>(093370, 후성)</td>\n",
       "      <td>68</td>\n",
       "    </tr>\n",
       "    <tr>\n",
       "      <th>2286</th>\n",
       "      <td>(050090, 휘닉스소재)</td>\n",
       "      <td>10</td>\n",
       "    </tr>\n",
       "    <tr>\n",
       "      <th>2287</th>\n",
       "      <td>(081660, 휠라코리아)</td>\n",
       "      <td>202</td>\n",
       "    </tr>\n",
       "    <tr>\n",
       "      <th>2288</th>\n",
       "      <td>(005870, 휴니드)</td>\n",
       "      <td>17</td>\n",
       "    </tr>\n",
       "    <tr>\n",
       "      <th>2289</th>\n",
       "      <td>(284420, 휴럼)</td>\n",
       "      <td>2</td>\n",
       "    </tr>\n",
       "    <tr>\n",
       "      <th>2290</th>\n",
       "      <td>(205470, 휴마시스)</td>\n",
       "      <td>5</td>\n",
       "    </tr>\n",
       "    <tr>\n",
       "      <th>2291</th>\n",
       "      <td>(115160, 휴맥스)</td>\n",
       "      <td>17</td>\n",
       "    </tr>\n",
       "    <tr>\n",
       "      <th>2292</th>\n",
       "      <td>(028080, 휴맥스홀딩스)</td>\n",
       "      <td>3</td>\n",
       "    </tr>\n",
       "    <tr>\n",
       "      <th>2293</th>\n",
       "      <td>(200670, 휴메딕스)</td>\n",
       "      <td>60</td>\n",
       "    </tr>\n",
       "    <tr>\n",
       "      <th>2294</th>\n",
       "      <td>(212310, 휴벡셀)</td>\n",
       "      <td>0</td>\n",
       "    </tr>\n",
       "    <tr>\n",
       "      <th>2295</th>\n",
       "      <td>(079980, 휴비스)</td>\n",
       "      <td>21</td>\n",
       "    </tr>\n",
       "    <tr>\n",
       "      <th>2296</th>\n",
       "      <td>(065510, 휴비츠)</td>\n",
       "      <td>4</td>\n",
       "    </tr>\n",
       "    <tr>\n",
       "      <th>2297</th>\n",
       "      <td>(005010, 휴스틸)</td>\n",
       "      <td>54</td>\n",
       "    </tr>\n",
       "    <tr>\n",
       "      <th>2298</th>\n",
       "      <td>(243070, 휴온스)</td>\n",
       "      <td>182</td>\n",
       "    </tr>\n",
       "    <tr>\n",
       "      <th>2299</th>\n",
       "      <td>(084110, 휴온스글로벌)</td>\n",
       "      <td>77</td>\n",
       "    </tr>\n",
       "    <tr>\n",
       "      <th>2300</th>\n",
       "      <td>(145020, 휴젤)</td>\n",
       "      <td>309</td>\n",
       "    </tr>\n",
       "    <tr>\n",
       "      <th>2301</th>\n",
       "      <td>(069260, 휴켐스)</td>\n",
       "      <td>10</td>\n",
       "    </tr>\n",
       "    <tr>\n",
       "      <th>2302</th>\n",
       "      <td>(024060, 흥구석유)</td>\n",
       "      <td>2</td>\n",
       "    </tr>\n",
       "    <tr>\n",
       "      <th>2303</th>\n",
       "      <td>(010240, 흥국)</td>\n",
       "      <td>502</td>\n",
       "    </tr>\n",
       "    <tr>\n",
       "      <th>2304</th>\n",
       "      <td>(189980, 흥국에프엔비)</td>\n",
       "      <td>3</td>\n",
       "    </tr>\n",
       "    <tr>\n",
       "      <th>2305</th>\n",
       "      <td>(000540, 흥국화재)</td>\n",
       "      <td>36</td>\n",
       "    </tr>\n",
       "    <tr>\n",
       "      <th>2306</th>\n",
       "      <td>(000547, 흥국화재2우B)</td>\n",
       "      <td>0</td>\n",
       "    </tr>\n",
       "    <tr>\n",
       "      <th>2307</th>\n",
       "      <td>(000545, 흥국화재우)</td>\n",
       "      <td>1</td>\n",
       "    </tr>\n",
       "    <tr>\n",
       "      <th>2308</th>\n",
       "      <td>(003280, 흥아해운)</td>\n",
       "      <td>274</td>\n",
       "    </tr>\n",
       "    <tr>\n",
       "      <th>2309</th>\n",
       "      <td>(037440, 희림)</td>\n",
       "      <td>8</td>\n",
       "    </tr>\n",
       "    <tr>\n",
       "      <th>2310</th>\n",
       "      <td>(238490, 힘스)</td>\n",
       "      <td>11</td>\n",
       "    </tr>\n",
       "  </tbody>\n",
       "</table>\n",
       "<p>2311 rows × 2 columns</p>\n",
       "</div>"
      ]
     },
     "execution_count": 16,
     "metadata": {},
     "output_type": "execute_result"
    }
   ],
   "source": [
    "import pandas as pd\n",
    "\n",
    "df = pd.DataFrame(compByNewsCount)\n",
    "\n",
    "df"
   ]
  },
  {
   "cell_type": "code",
   "execution_count": null,
   "metadata": {},
   "outputs": [],
   "source": []
  }
 ],
 "metadata": {
  "kernelspec": {
   "display_name": "Python 2",
   "language": "python",
   "name": "python2"
  },
  "language_info": {
   "codemirror_mode": {
    "name": "ipython",
    "version": 2
   },
   "file_extension": ".py",
   "mimetype": "text/x-python",
   "name": "python",
   "nbconvert_exporter": "python",
   "pygments_lexer": "ipython2",
   "version": "2.7.6"
  }
 },
 "nbformat": 4,
 "nbformat_minor": 0
}
