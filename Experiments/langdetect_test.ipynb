{
 "cells": [
  {
   "cell_type": "code",
   "execution_count": 28,
   "metadata": {
    "collapsed": true
   },
   "outputs": [],
   "source": [
    "import langdetect\n"
   ]
  },
  {
   "cell_type": "code",
   "execution_count": 29,
   "metadata": {},
   "outputs": [],
   "source": [
    "en_text = \"\"\"\n",
    "Ryanair CEO Michael OLeary presents new routes in Warsaw\n",
    "\n",
    "Ryanair CEO Michael O'Leary speaks during a press conference in Warsaw, Poland, 05 September 2018. O'Leary presented the low cost airline's four new routes to Barcelona in Spain, to Bordeaux and Maryslia in France and to Hamburg in Germany. EPA/Tomasz Gzell POLAND OUT\n",
    "\"\"\"\n",
    "\n",
    "\n",
    "ko_text = \"\"\"\n",
    "[ 매일경제 스타투데이 허은경 객원기자 ]\n",
    "\n",
    "‘라디오스타’ 임채무가 직접 지은 놀이공원에 대한 애정을 드러냈다. \n",
    "\n",
    "5일 방송된 MBC 예능 ‘라디오스타’에서는 임채무, 윤정수, 김도균, 이승윤이 게스트로 출연한 모습이 그려졌다.\n",
    "\n",
    "이날 임채무는 등장부터 MC들을 쥐락펴락하며 “세상 빚지고 사는 임채무, 채무자입니다”라고 인사를 해 배꼽을 잡게 했다. 특히 그는 전 재산을 탈탈 털어 ‘두리랜드’라는 놀이공원을 만든 것이 화제가 된 바. 최근 송사에 휘말려 승소한 일에 대해 \"연예인이 사업을 하다 보면 이런저런 일이 많다. 승소한 것이 SNS에 어쩌다 화제가 됐다\"고 말했다. \n",
    "\n",
    "이어 그는 \"현재 새롭게 공사 중에 있다. 미세먼지와 황사 때문에 야외활동을 기피해서 실내 놀이공원으로 해보려고 한다”면서 “또 빚을 내서 한다. 채무다\"라고 덧붙여 웃음을 자아냈다. 임채무는 “주변 부지가격 상승으로 콘도를 짓자는 말도 있었다”면서 \"하지만 나는 아이들과 놀고 싶어서 두리랜드를 만들었다. 영원히 하고 싶다\"고 말해 감동을 자아냈다. \n",
    "\n",
    "또한 임채무는 두리랜드의 입장료가 없는 이유를 묻자 \"원래는 있었다. 젊은 부부가 아이들 둘과 와서 돈이 없어서 쩔쩔 매는 걸 보고 바로 입장료를 없앴다\"고 밝혀 모두가 놀랐다. 하지만 입장료는 무료이지만 놀이기구를 타는 비용은 내고 타야 한다고. 이어 그는 \"실내로 만들면 냉,온방비가 들어서 입장료를 받게 될 것“이라며 ”전국의 놀이공원 입장료 가격을 알아보고 가장 적은 돈을 받겠다\"고 전했다. \n",
    "\n",
    "\"\"\"\n",
    "\n",
    "\n"
   ]
  },
  {
   "cell_type": "code",
   "execution_count": 30,
   "metadata": {},
   "outputs": [
    {
     "name": "stdout",
     "output_type": "stream",
     "text": [
      "en\nko\n0.019023895263671875\n"
     ]
    }
   ],
   "source": [
    "import time\n",
    "start_time = time.time()\n",
    "\n",
    "\n",
    "lang_en = langdetect.detect(en_text)\n",
    "lang_ko = langdetect.detect(ko_text)\n",
    "print(lang_en)\n",
    "print(lang_ko)\n",
    "\n",
    "end_time = time.time()\n",
    "print(end_time - start_time)\n"
   ]
  },
  {
   "cell_type": "code",
   "execution_count": 31,
   "metadata": {},
   "outputs": [],
   "source": []
  }
 ],
 "metadata": {
  "kernelspec": {
   "display_name": "Python 2",
   "language": "python",
   "name": "python2"
  },
  "language_info": {
   "codemirror_mode": {
    "name": "ipython",
    "version": 2
   },
   "file_extension": ".py",
   "mimetype": "text/x-python",
   "name": "python",
   "nbconvert_exporter": "python",
   "pygments_lexer": "ipython2",
   "version": "2.7.6"
  }
 },
 "nbformat": 4,
 "nbformat_minor": 0
}
