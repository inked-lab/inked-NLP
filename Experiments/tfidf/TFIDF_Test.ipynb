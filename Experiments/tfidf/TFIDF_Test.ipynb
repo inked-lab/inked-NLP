{
 "cells": [
  {
   "cell_type": "code",
   "execution_count": 1,
   "metadata": {
    "collapsed": false
   },
   "outputs": [],
   "source": [
    "from Experiments.TF_IDF_Experiment.tfidf import TfIdf\n",
    "from Utils.StockCompanyExtractor import FindAllNewsContainsCompany, \\\n",
    "    FetchAllCompanyDic, CompCodeToTuple\n",
    "from WordTokenizer.WordTokenizer import WordTokenizer\n",
    "from datetime import datetime\n",
    "\n",
    "import sys\n",
    "\n",
    "from Utils.ETACalculator import LogETA\n",
    "\n",
    "\n"
   ]
  },
  {
   "cell_type": "code",
   "execution_count": 2,
   "metadata": {
    "collapsed": false
   },
   "outputs": [
    {
     "name": "stdout",
     "output_type": "stream",
     "text": [
      "PROCESS: TFIDF 0.000000 % ETA: 09:00:00\n"
     ]
    },
    {
     "name": "stdout",
     "output_type": "stream",
     "text": [
      "PROCESS: TFIDF 0.000000 % ETA: 13:29:37\n"
     ]
    },
    {
     "name": "stdout",
     "output_type": "stream",
     "text": [
      "PROCESS: TFIDF 0.100000 % ETA: 11:34:04\n"
     ]
    },
    {
     "name": "stdout",
     "output_type": "stream",
     "text": [
      "PROCESS: TFIDF 0.100000 % ETA: 11:21:13\n"
     ]
    },
    {
     "name": "stdout",
     "output_type": "stream",
     "text": [
      "PROCESS: TFIDF 0.200000 % ETA: 11:05:10\n"
     ]
    },
    {
     "name": "stdout",
     "output_type": "stream",
     "text": [
      "PROCESS: TFIDF 0.200000 % ETA: 10:47:50\n"
     ]
    },
    {
     "name": "stdout",
     "output_type": "stream",
     "text": [
      "PROCESS: TFIDF 0.300000 % ETA: 10:55:33\n"
     ]
    },
    {
     "name": "stdout",
     "output_type": "stream",
     "text": [
      "PROCESS: TFIDF 0.300000 % ETA: 10:39:02\n"
     ]
    },
    {
     "name": "stdout",
     "output_type": "stream",
     "text": [
      "PROCESS: TFIDF 0.300000 % ETA: 11:19:37\n"
     ]
    },
    {
     "name": "stdout",
     "output_type": "stream",
     "text": [
      "PROCESS: TFIDF 0.400000 % ETA: 11:21:13\n"
     ]
    },
    {
     "name": "stdout",
     "output_type": "stream",
     "text": [
      "PROCESS: TFIDF 0.400000 % ETA: 11:34:04\n"
     ]
    },
    {
     "name": "stdout",
     "output_type": "stream",
     "text": [
      "PROCESS: TFIDF 0.500000 % ETA: 11:23:33\nPROCESS: TFIDF 0.500000 % ETA: 11:11:35\n"
     ]
    },
    {
     "name": "stdout",
     "output_type": "stream",
     "text": [
      "PROCESS: TFIDF 0.600000 % ETA: 11:04:26\n"
     ]
    }
   ],
   "source": [
    "\n",
    "\n",
    "table = TfIdf()\n",
    "\n",
    "companyDic = FetchAllCompanyDic()\n",
    "# companyDic = d = dict(companyDic.items()[:1])\n",
    "\n",
    "start = datetime.now()\n",
    "total = len(companyDic)\n",
    "i = 0\n",
    "for compCode in companyDic:\n",
    "\n",
    "    message = LogETA(\"TFIDF\", start, total, i, )\n",
    "    # sys.stdout.write(message)\n",
    "    # sys.stdout.flush()\n",
    "    print(message)\n",
    "    comp = CompCodeToTuple(compCode)\n",
    "    ns = FindAllNewsContainsCompany(comp)\n",
    "    all_tokens = []\n",
    "    for n in ns:\n",
    "        tokens = WordTokenizer(n.get_newsContent()).Tokenize()\n",
    "        all_tokens += tokens\n",
    "    i += 1\n",
    "    table.add_document(comp, all_tokens)\n"
   ]
  },
  {
   "cell_type": "markdown",
   "metadata": {},
   "source": [
    "모든 종목별 뉴스를 받아와 TF-IDF 적용."
   ]
  },
  {
   "cell_type": "code",
   "execution_count": 5,
   "metadata": {},
   "outputs": [
    {
     "ename": "NameError",
     "evalue": "name 'table' is not defined",
     "traceback": [
      "\u001b[0;31m---------------------------------------------------------------------------\u001b[0m",
      "\u001b[0;31mNameError\u001b[0m                                 Traceback (most recent call last)",
      "\u001b[0;32m<ipython-input-5-420370626ad1>\u001b[0m in \u001b[0;36m<module>\u001b[0;34m()\u001b[0m\n\u001b[1;32m      1\u001b[0m \u001b[0;32mimport\u001b[0m \u001b[0mpandas\u001b[0m \u001b[0;32mas\u001b[0m \u001b[0mpd\u001b[0m\u001b[0;34m\u001b[0m\u001b[0m\n\u001b[0;32m----> 2\u001b[0;31m \u001b[0ma\u001b[0m \u001b[0;34m=\u001b[0m \u001b[0mtable\u001b[0m\u001b[0;34m.\u001b[0m\u001b[0msimilarities\u001b[0m\u001b[0;34m(\u001b[0m\u001b[0;34m[\u001b[0m\u001b[0;34m\"삼성\"\u001b[0m\u001b[0;34m]\u001b[0m\u001b[0;34m)\u001b[0m\u001b[0;34m\u001b[0m\u001b[0m\n\u001b[0m\u001b[1;32m      3\u001b[0m \u001b[0;34m\u001b[0m\u001b[0m\n\u001b[1;32m      4\u001b[0m \u001b[0mpd\u001b[0m\u001b[0;34m.\u001b[0m\u001b[0mDataFrame\u001b[0m\u001b[0;34m(\u001b[0m\u001b[0ma\u001b[0m\u001b[0;34m)\u001b[0m\u001b[0;34m\u001b[0m\u001b[0m\n",
      "\u001b[0;31mNameError\u001b[0m: name 'table' is not defined"
     ],
     "output_type": "error"
    }
   ],
   "source": [
    "import pandas as pd\n",
    "a = table.similarities([\"삼성\"])\n",
    "\n",
    "pd.DataFrame(a)\n"
   ]
  },
  {
   "cell_type": "code",
   "execution_count": null,
   "metadata": {},
   "outputs": [],
   "source": []
  }
 ],
 "metadata": {
  "kernelspec": {
   "display_name": "Python 2",
   "language": "python",
   "name": "python2"
  },
  "language_info": {
   "codemirror_mode": {
    "name": "ipython",
    "version": 2
   },
   "file_extension": ".py",
   "mimetype": "text/x-python",
   "name": "python",
   "nbconvert_exporter": "python",
   "pygments_lexer": "ipython2",
   "version": "2.7.6"
  },
  "pycharm": {
   "stem_cell": {
    "cell_type": "raw",
    "source": [],
    "metadata": {
     "collapsed": false
    }
   }
  }
 },
 "nbformat": 4,
 "nbformat_minor": 0
}