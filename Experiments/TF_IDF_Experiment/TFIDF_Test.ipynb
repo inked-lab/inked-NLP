{
 "cells": [
  {
   "cell_type": "code",
   "execution_count": null,
   "metadata": {
    "collapsed": true
   },
   "outputs": [],
   "source": [
    "from Experiments.TF_IDF_Experiment.tfidf import TfIdf\n",
    "from Utils.StockCompanyExtractor.StockCompanyExtractor import FindAllNewsContainsCompany, \\\n",
    "    FetchAllCompanyName, CompNameToCompTuple\n",
    "from WordTokenizer.WordTokenizer import WordTokenizer"
   ]
  },
  {
   "cell_type": "code",
   "execution_count": null,
   "metadata": {},
   "outputs": [],
   "source": [
    "table = TfIdf()\n",
    "\n",
    "i = 0\n",
    "for compName in FetchAllCompanyName():\n",
    "    comp = CompNameToCompTuple(compName)\n",
    "    ns = FindAllNewsContainsCompany(comp)\n",
    "    all_tokens = []\n",
    "    for n in ns:\n",
    "        tokens = WordTokenizer(n.get_newsContent()).Tokenize()\n",
    "        all_tokens += tokens\n",
    "    i += 1\n",
    "\n",
    "    table.add_document(comp, all_tokens)\n"
   ]
  }
 ],
 "metadata": {
  "kernelspec": {
   "display_name": "Python 2",
   "language": "python",
   "name": "python2"
  },
  "language_info": {
   "codemirror_mode": {
    "name": "ipython",
    "version": 2
   },
   "file_extension": ".py",
   "mimetype": "text/x-python",
   "name": "python",
   "nbconvert_exporter": "python",
   "pygments_lexer": "ipython2",
   "version": "2.7.6"
  }
 },
 "nbformat": 4,
 "nbformat_minor": 0
}
