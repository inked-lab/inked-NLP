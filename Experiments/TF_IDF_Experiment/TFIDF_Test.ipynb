{
 "cells": [
  {
   "cell_type": "code",
   "execution_count": 7,
   "metadata": {
    "collapsed": false
   },
   "outputs": [],
   "source": [
    "from Experiments.TF_IDF_Experiment.tfidf import TfIdf\n",
    "from Utils.StockCompanyExtractor.StockCompanyExtractor import FindAllNewsContainsCompany, \\\n",
    "    FetchAllCompanyDic, CompCodeToTuple\n",
    "from WordTokenizer.WordTokenizer import WordTokenizer\n",
    "\n",
    "\n"
   ]
  },
  {
   "cell_type": "code",
   "execution_count": null,
   "metadata": {},
   "outputs": [
    {
     "name": "stdout",
     "output_type": "stream",
     "text": [
      "\rReading Comp news 0"
     ]
    },
    {
     "name": "stdout",
     "output_type": "stream",
     "text": [
      "\rReading Comp news 1"
     ]
    },
    {
     "name": "stdout",
     "output_type": "stream",
     "text": [
      "\rReading Comp news 2"
     ]
    },
    {
     "name": "stdout",
     "output_type": "stream",
     "text": [
      "\rReading Comp news 3"
     ]
    },
    {
     "name": "stdout",
     "output_type": "stream",
     "text": [
      "\rReading Comp news 4"
     ]
    },
    {
     "name": "stdout",
     "output_type": "stream",
     "text": [
      "\rReading Comp news 5"
     ]
    },
    {
     "name": "stdout",
     "output_type": "stream",
     "text": [
      "\rReading Comp news 6"
     ]
    },
    {
     "name": "stdout",
     "output_type": "stream",
     "text": [
      "\rReading Comp news 7"
     ]
    },
    {
     "name": "stdout",
     "output_type": "stream",
     "text": [
      "\rReading Comp news 8"
     ]
    },
    {
     "name": "stdout",
     "output_type": "stream",
     "text": [
      "\rReading Comp news 9"
     ]
    },
    {
     "name": "stdout",
     "output_type": "stream",
     "text": [
      "\rReading Comp news 10"
     ]
    },
    {
     "name": "stdout",
     "output_type": "stream",
     "text": [
      "\rReading Comp news 11"
     ]
    },
    {
     "name": "stdout",
     "output_type": "stream",
     "text": [
      "\rReading Comp news 12"
     ]
    },
    {
     "name": "stdout",
     "output_type": "stream",
     "text": [
      "\rReading Comp news 13"
     ]
    },
    {
     "name": "stdout",
     "output_type": "stream",
     "text": [
      "\rReading Comp news 14"
     ]
    },
    {
     "name": "stdout",
     "output_type": "stream",
     "text": [
      "\rReading Comp news 15"
     ]
    },
    {
     "name": "stdout",
     "output_type": "stream",
     "text": [
      "\rReading Comp news 16"
     ]
    },
    {
     "name": "stdout",
     "output_type": "stream",
     "text": [
      "\rReading Comp news 17"
     ]
    },
    {
     "name": "stdout",
     "output_type": "stream",
     "text": [
      "\rReading Comp news 18"
     ]
    },
    {
     "name": "stdout",
     "output_type": "stream",
     "text": [
      "\rReading Comp news 19"
     ]
    },
    {
     "name": "stdout",
     "output_type": "stream",
     "text": [
      "\rReading Comp news 20"
     ]
    },
    {
     "name": "stdout",
     "output_type": "stream",
     "text": [
      "\rReading Comp news 21"
     ]
    },
    {
     "name": "stdout",
     "output_type": "stream",
     "text": [
      "\rReading Comp news 22"
     ]
    },
    {
     "name": "stdout",
     "output_type": "stream",
     "text": [
      "\rReading Comp news 23"
     ]
    },
    {
     "name": "stdout",
     "output_type": "stream",
     "text": [
      "\rReading Comp news 24"
     ]
    },
    {
     "name": "stdout",
     "output_type": "stream",
     "text": [
      "\rReading Comp news 25"
     ]
    },
    {
     "name": "stdout",
     "output_type": "stream",
     "text": [
      "\rReading Comp news 26"
     ]
    },
    {
     "name": "stdout",
     "output_type": "stream",
     "text": [
      "\rReading Comp news 27"
     ]
    },
    {
     "name": "stdout",
     "output_type": "stream",
     "text": [
      "\rReading Comp news 28"
     ]
    },
    {
     "name": "stdout",
     "output_type": "stream",
     "text": [
      "\rReading Comp news 29"
     ]
    },
    {
     "name": "stdout",
     "output_type": "stream",
     "text": [
      "\rReading Comp news 30"
     ]
    },
    {
     "name": "stdout",
     "output_type": "stream",
     "text": [
      "\rReading Comp news 31"
     ]
    },
    {
     "name": "stdout",
     "output_type": "stream",
     "text": [
      "\rReading Comp news 32"
     ]
    },
    {
     "name": "stdout",
     "output_type": "stream",
     "text": [
      "\rReading Comp news 33"
     ]
    },
    {
     "name": "stdout",
     "output_type": "stream",
     "text": [
      "\rReading Comp news 34"
     ]
    },
    {
     "name": "stdout",
     "output_type": "stream",
     "text": [
      "\rReading Comp news 35"
     ]
    },
    {
     "name": "stdout",
     "output_type": "stream",
     "text": [
      "\rReading Comp news 36"
     ]
    },
    {
     "name": "stdout",
     "output_type": "stream",
     "text": [
      "\rReading Comp news 37"
     ]
    },
    {
     "name": "stdout",
     "output_type": "stream",
     "text": [
      "\rReading Comp news 38"
     ]
    },
    {
     "name": "stdout",
     "output_type": "stream",
     "text": [
      "\rReading Comp news 39"
     ]
    },
    {
     "name": "stdout",
     "output_type": "stream",
     "text": [
      "\rReading Comp news 40"
     ]
    },
    {
     "name": "stdout",
     "output_type": "stream",
     "text": [
      "\rReading Comp news 41"
     ]
    },
    {
     "name": "stdout",
     "output_type": "stream",
     "text": [
      "\rReading Comp news 42"
     ]
    },
    {
     "name": "stdout",
     "output_type": "stream",
     "text": [
      "\rReading Comp news 43"
     ]
    },
    {
     "name": "stdout",
     "output_type": "stream",
     "text": [
      "\rReading Comp news 44"
     ]
    },
    {
     "name": "stdout",
     "output_type": "stream",
     "text": [
      "\rReading Comp news 45"
     ]
    },
    {
     "name": "stdout",
     "output_type": "stream",
     "text": [
      "\rReading Comp news 46"
     ]
    },
    {
     "name": "stdout",
     "output_type": "stream",
     "text": [
      "\rReading Comp news 47"
     ]
    },
    {
     "name": "stdout",
     "output_type": "stream",
     "text": [
      "\rReading Comp news 48"
     ]
    },
    {
     "name": "stdout",
     "output_type": "stream",
     "text": [
      "\rReading Comp news 49"
     ]
    },
    {
     "name": "stdout",
     "output_type": "stream",
     "text": [
      "\rReading Comp news 50"
     ]
    },
    {
     "name": "stdout",
     "output_type": "stream",
     "text": [
      "\rReading Comp news 51"
     ]
    },
    {
     "name": "stdout",
     "output_type": "stream",
     "text": [
      "\rReading Comp news 52"
     ]
    },
    {
     "name": "stdout",
     "output_type": "stream",
     "text": [
      "\rReading Comp news 53"
     ]
    },
    {
     "name": "stdout",
     "output_type": "stream",
     "text": [
      "\rReading Comp news 54"
     ]
    },
    {
     "name": "stdout",
     "output_type": "stream",
     "text": [
      "\rReading Comp news 55"
     ]
    },
    {
     "name": "stdout",
     "output_type": "stream",
     "text": [
      "\rReading Comp news 56"
     ]
    },
    {
     "name": "stdout",
     "output_type": "stream",
     "text": [
      "\rReading Comp news 57"
     ]
    },
    {
     "name": "stdout",
     "output_type": "stream",
     "text": [
      "\rReading Comp news 58"
     ]
    },
    {
     "name": "stdout",
     "output_type": "stream",
     "text": [
      "\rReading Comp news 59"
     ]
    },
    {
     "name": "stdout",
     "output_type": "stream",
     "text": [
      "\rReading Comp news 60"
     ]
    },
    {
     "name": "stdout",
     "output_type": "stream",
     "text": [
      "\rReading Comp news 61"
     ]
    },
    {
     "name": "stdout",
     "output_type": "stream",
     "text": [
      "\rReading Comp news 62"
     ]
    },
    {
     "name": "stdout",
     "output_type": "stream",
     "text": [
      "\rReading Comp news 63"
     ]
    },
    {
     "name": "stdout",
     "output_type": "stream",
     "text": [
      "\rReading Comp news 64"
     ]
    },
    {
     "name": "stdout",
     "output_type": "stream",
     "text": [
      "\rReading Comp news 65"
     ]
    },
    {
     "name": "stdout",
     "output_type": "stream",
     "text": [
      "\rReading Comp news 66"
     ]
    },
    {
     "name": "stdout",
     "output_type": "stream",
     "text": [
      "\rReading Comp news 67"
     ]
    },
    {
     "name": "stdout",
     "output_type": "stream",
     "text": [
      "\rReading Comp news 68"
     ]
    },
    {
     "name": "stdout",
     "output_type": "stream",
     "text": [
      "\rReading Comp news 69"
     ]
    },
    {
     "name": "stdout",
     "output_type": "stream",
     "text": [
      "\rReading Comp news 70"
     ]
    },
    {
     "name": "stdout",
     "output_type": "stream",
     "text": [
      "\rReading Comp news 71"
     ]
    },
    {
     "name": "stdout",
     "output_type": "stream",
     "text": [
      "\rReading Comp news 72"
     ]
    },
    {
     "name": "stdout",
     "output_type": "stream",
     "text": [
      "\rReading Comp news 73"
     ]
    },
    {
     "name": "stdout",
     "output_type": "stream",
     "text": [
      "\rReading Comp news 74"
     ]
    },
    {
     "name": "stdout",
     "output_type": "stream",
     "text": [
      "\rReading Comp news 75"
     ]
    },
    {
     "name": "stdout",
     "output_type": "stream",
     "text": [
      "\rReading Comp news 76"
     ]
    },
    {
     "name": "stdout",
     "output_type": "stream",
     "text": [
      "\rReading Comp news 77"
     ]
    },
    {
     "name": "stdout",
     "output_type": "stream",
     "text": [
      "\rReading Comp news 78"
     ]
    },
    {
     "name": "stdout",
     "output_type": "stream",
     "text": [
      "\rReading Comp news 79"
     ]
    },
    {
     "name": "stdout",
     "output_type": "stream",
     "text": [
      "\rReading Comp news 80"
     ]
    },
    {
     "name": "stdout",
     "output_type": "stream",
     "text": [
      "\rReading Comp news 81"
     ]
    },
    {
     "name": "stdout",
     "output_type": "stream",
     "text": [
      "\rReading Comp news 82"
     ]
    },
    {
     "name": "stdout",
     "output_type": "stream",
     "text": [
      "\rReading Comp news 83"
     ]
    },
    {
     "name": "stdout",
     "output_type": "stream",
     "text": [
      "\rReading Comp news 84"
     ]
    },
    {
     "name": "stdout",
     "output_type": "stream",
     "text": [
      "\rReading Comp news 85"
     ]
    },
    {
     "name": "stdout",
     "output_type": "stream",
     "text": [
      "\rReading Comp news 86"
     ]
    },
    {
     "name": "stdout",
     "output_type": "stream",
     "text": [
      "\rReading Comp news 87"
     ]
    },
    {
     "name": "stdout",
     "output_type": "stream",
     "text": [
      "\rReading Comp news 88"
     ]
    },
    {
     "name": "stdout",
     "output_type": "stream",
     "text": [
      "\rReading Comp news 89"
     ]
    },
    {
     "name": "stdout",
     "output_type": "stream",
     "text": [
      "\rReading Comp news 90"
     ]
    },
    {
     "name": "stdout",
     "output_type": "stream",
     "text": [
      "\rReading Comp news 91"
     ]
    },
    {
     "name": "stdout",
     "output_type": "stream",
     "text": [
      "\rReading Comp news 92"
     ]
    },
    {
     "name": "stdout",
     "output_type": "stream",
     "text": [
      "\rReading Comp news 93"
     ]
    },
    {
     "name": "stdout",
     "output_type": "stream",
     "text": [
      "\rReading Comp news 94"
     ]
    },
    {
     "name": "stdout",
     "output_type": "stream",
     "text": [
      "\rReading Comp news 95"
     ]
    },
    {
     "name": "stdout",
     "output_type": "stream",
     "text": [
      "\rReading Comp news 96"
     ]
    },
    {
     "name": "stdout",
     "output_type": "stream",
     "text": [
      "\rReading Comp news 97"
     ]
    },
    {
     "name": "stdout",
     "output_type": "stream",
     "text": [
      "\rReading Comp news 98"
     ]
    },
    {
     "name": "stdout",
     "output_type": "stream",
     "text": [
      "\rReading Comp news 99"
     ]
    },
    {
     "name": "stdout",
     "output_type": "stream",
     "text": [
      "\rReading Comp news 100"
     ]
    },
    {
     "name": "stdout",
     "output_type": "stream",
     "text": [
      "\rReading Comp news 101"
     ]
    },
    {
     "name": "stdout",
     "output_type": "stream",
     "text": [
      "\rReading Comp news 102"
     ]
    },
    {
     "name": "stdout",
     "output_type": "stream",
     "text": [
      "\rReading Comp news 103"
     ]
    },
    {
     "name": "stdout",
     "output_type": "stream",
     "text": [
      "\rReading Comp news 104"
     ]
    },
    {
     "name": "stdout",
     "output_type": "stream",
     "text": [
      "\rReading Comp news 105"
     ]
    },
    {
     "name": "stdout",
     "output_type": "stream",
     "text": [
      "\rReading Comp news 106"
     ]
    },
    {
     "name": "stdout",
     "output_type": "stream",
     "text": [
      "\rReading Comp news 107"
     ]
    },
    {
     "name": "stdout",
     "output_type": "stream",
     "text": [
      "\rReading Comp news 108"
     ]
    },
    {
     "name": "stdout",
     "output_type": "stream",
     "text": [
      "\rReading Comp news 109"
     ]
    },
    {
     "name": "stdout",
     "output_type": "stream",
     "text": [
      "\rReading Comp news 110"
     ]
    },
    {
     "name": "stdout",
     "output_type": "stream",
     "text": [
      "\rReading Comp news 111"
     ]
    },
    {
     "name": "stdout",
     "output_type": "stream",
     "text": [
      "\rReading Comp news 112"
     ]
    },
    {
     "name": "stdout",
     "output_type": "stream",
     "text": [
      "\rReading Comp news 113"
     ]
    },
    {
     "name": "stdout",
     "output_type": "stream",
     "text": [
      "\rReading Comp news 114"
     ]
    },
    {
     "name": "stdout",
     "output_type": "stream",
     "text": [
      "\rReading Comp news 115"
     ]
    },
    {
     "name": "stdout",
     "output_type": "stream",
     "text": [
      "\rReading Comp news 116"
     ]
    },
    {
     "name": "stdout",
     "output_type": "stream",
     "text": [
      "\rReading Comp news 117"
     ]
    },
    {
     "name": "stdout",
     "output_type": "stream",
     "text": [
      "\rReading Comp news 118"
     ]
    },
    {
     "name": "stdout",
     "output_type": "stream",
     "text": [
      "\rReading Comp news 119"
     ]
    },
    {
     "name": "stdout",
     "output_type": "stream",
     "text": [
      "\rReading Comp news 120"
     ]
    },
    {
     "name": "stdout",
     "output_type": "stream",
     "text": [
      "\rReading Comp news 121"
     ]
    },
    {
     "name": "stdout",
     "output_type": "stream",
     "text": [
      "\rReading Comp news 122"
     ]
    },
    {
     "name": "stdout",
     "output_type": "stream",
     "text": [
      "\rReading Comp news 123"
     ]
    },
    {
     "name": "stdout",
     "output_type": "stream",
     "text": [
      "\rReading Comp news 124"
     ]
    },
    {
     "name": "stdout",
     "output_type": "stream",
     "text": [
      "\rReading Comp news 125"
     ]
    },
    {
     "name": "stdout",
     "output_type": "stream",
     "text": [
      "\rReading Comp news 126"
     ]
    },
    {
     "name": "stdout",
     "output_type": "stream",
     "text": [
      "\rReading Comp news 127"
     ]
    },
    {
     "name": "stdout",
     "output_type": "stream",
     "text": [
      "\rReading Comp news 128"
     ]
    },
    {
     "name": "stdout",
     "output_type": "stream",
     "text": [
      "\rReading Comp news 129"
     ]
    },
    {
     "name": "stdout",
     "output_type": "stream",
     "text": [
      "\rReading Comp news 130"
     ]
    },
    {
     "name": "stdout",
     "output_type": "stream",
     "text": [
      "\rReading Comp news 131"
     ]
    },
    {
     "name": "stdout",
     "output_type": "stream",
     "text": [
      "\rReading Comp news 132"
     ]
    },
    {
     "name": "stdout",
     "output_type": "stream",
     "text": [
      "\rReading Comp news 133"
     ]
    },
    {
     "name": "stdout",
     "output_type": "stream",
     "text": [
      "\rReading Comp news 134"
     ]
    },
    {
     "name": "stdout",
     "output_type": "stream",
     "text": [
      "\rReading Comp news 135"
     ]
    },
    {
     "name": "stdout",
     "output_type": "stream",
     "text": [
      "\rReading Comp news 136"
     ]
    },
    {
     "name": "stdout",
     "output_type": "stream",
     "text": [
      "\rReading Comp news 137"
     ]
    },
    {
     "name": "stdout",
     "output_type": "stream",
     "text": [
      "\rReading Comp news 138"
     ]
    },
    {
     "name": "stdout",
     "output_type": "stream",
     "text": [
      "\rReading Comp news 139"
     ]
    },
    {
     "name": "stdout",
     "output_type": "stream",
     "text": [
      "\rReading Comp news 140"
     ]
    },
    {
     "name": "stdout",
     "output_type": "stream",
     "text": [
      "\rReading Comp news 141"
     ]
    },
    {
     "name": "stdout",
     "output_type": "stream",
     "text": [
      "\rReading Comp news 142"
     ]
    },
    {
     "name": "stdout",
     "output_type": "stream",
     "text": [
      "\rReading Comp news 143"
     ]
    },
    {
     "name": "stdout",
     "output_type": "stream",
     "text": [
      "\rReading Comp news 144"
     ]
    },
    {
     "name": "stdout",
     "output_type": "stream",
     "text": [
      "\rReading Comp news 145"
     ]
    },
    {
     "name": "stdout",
     "output_type": "stream",
     "text": [
      "\rReading Comp news 146"
     ]
    },
    {
     "name": "stdout",
     "output_type": "stream",
     "text": [
      "\rReading Comp news 147"
     ]
    },
    {
     "name": "stdout",
     "output_type": "stream",
     "text": [
      "\rReading Comp news 148"
     ]
    },
    {
     "name": "stdout",
     "output_type": "stream",
     "text": [
      "\rReading Comp news 149"
     ]
    },
    {
     "name": "stdout",
     "output_type": "stream",
     "text": [
      "\rReading Comp news 150"
     ]
    },
    {
     "name": "stdout",
     "output_type": "stream",
     "text": [
      "\rReading Comp news 151"
     ]
    },
    {
     "name": "stdout",
     "output_type": "stream",
     "text": [
      "\rReading Comp news 152"
     ]
    },
    {
     "name": "stdout",
     "output_type": "stream",
     "text": [
      "\rReading Comp news 153"
     ]
    },
    {
     "name": "stdout",
     "output_type": "stream",
     "text": [
      "\rReading Comp news 154"
     ]
    },
    {
     "name": "stdout",
     "output_type": "stream",
     "text": [
      "\rReading Comp news 155"
     ]
    },
    {
     "name": "stdout",
     "output_type": "stream",
     "text": [
      "\rReading Comp news 156"
     ]
    },
    {
     "name": "stdout",
     "output_type": "stream",
     "text": [
      "\rReading Comp news 157"
     ]
    },
    {
     "name": "stdout",
     "output_type": "stream",
     "text": [
      "\rReading Comp news 158"
     ]
    },
    {
     "name": "stdout",
     "output_type": "stream",
     "text": [
      "\rReading Comp news 159"
     ]
    },
    {
     "name": "stdout",
     "output_type": "stream",
     "text": [
      "\rReading Comp news 160"
     ]
    },
    {
     "name": "stdout",
     "output_type": "stream",
     "text": [
      "\rReading Comp news 161"
     ]
    },
    {
     "name": "stdout",
     "output_type": "stream",
     "text": [
      "\rReading Comp news 162"
     ]
    },
    {
     "name": "stdout",
     "output_type": "stream",
     "text": [
      "\rReading Comp news 163"
     ]
    },
    {
     "name": "stdout",
     "output_type": "stream",
     "text": [
      "\rReading Comp news 164"
     ]
    },
    {
     "name": "stdout",
     "output_type": "stream",
     "text": [
      "\rReading Comp news 165"
     ]
    },
    {
     "name": "stdout",
     "output_type": "stream",
     "text": [
      "\rReading Comp news 166"
     ]
    },
    {
     "name": "stdout",
     "output_type": "stream",
     "text": [
      "\rReading Comp news 167"
     ]
    },
    {
     "name": "stdout",
     "output_type": "stream",
     "text": [
      "\rReading Comp news 168"
     ]
    },
    {
     "name": "stdout",
     "output_type": "stream",
     "text": [
      "\rReading Comp news 169"
     ]
    },
    {
     "name": "stdout",
     "output_type": "stream",
     "text": [
      "\rReading Comp news 170"
     ]
    },
    {
     "name": "stdout",
     "output_type": "stream",
     "text": [
      "\rReading Comp news 171"
     ]
    },
    {
     "name": "stdout",
     "output_type": "stream",
     "text": [
      "\rReading Comp news 172"
     ]
    },
    {
     "name": "stdout",
     "output_type": "stream",
     "text": [
      "\rReading Comp news 173"
     ]
    },
    {
     "name": "stdout",
     "output_type": "stream",
     "text": [
      "\rReading Comp news 174"
     ]
    },
    {
     "name": "stdout",
     "output_type": "stream",
     "text": [
      "\rReading Comp news 175"
     ]
    },
    {
     "name": "stdout",
     "output_type": "stream",
     "text": [
      "\rReading Comp news 176"
     ]
    },
    {
     "name": "stdout",
     "output_type": "stream",
     "text": [
      "\rReading Comp news 177"
     ]
    },
    {
     "name": "stdout",
     "output_type": "stream",
     "text": [
      "\rReading Comp news 178"
     ]
    },
    {
     "name": "stdout",
     "output_type": "stream",
     "text": [
      "\rReading Comp news 179"
     ]
    },
    {
     "name": "stdout",
     "output_type": "stream",
     "text": [
      "\rReading Comp news 180"
     ]
    },
    {
     "name": "stdout",
     "output_type": "stream",
     "text": [
      "\rReading Comp news 181"
     ]
    },
    {
     "name": "stdout",
     "output_type": "stream",
     "text": [
      "\rReading Comp news 182"
     ]
    },
    {
     "name": "stdout",
     "output_type": "stream",
     "text": [
      "\rReading Comp news 183"
     ]
    },
    {
     "name": "stdout",
     "output_type": "stream",
     "text": [
      "\rReading Comp news 184"
     ]
    },
    {
     "name": "stdout",
     "output_type": "stream",
     "text": [
      "\rReading Comp news 185"
     ]
    },
    {
     "name": "stdout",
     "output_type": "stream",
     "text": [
      "\rReading Comp news 186"
     ]
    },
    {
     "name": "stdout",
     "output_type": "stream",
     "text": [
      "\rReading Comp news 187"
     ]
    },
    {
     "name": "stdout",
     "output_type": "stream",
     "text": [
      "\rReading Comp news 188"
     ]
    },
    {
     "name": "stdout",
     "output_type": "stream",
     "text": [
      "\rReading Comp news 189"
     ]
    },
    {
     "name": "stdout",
     "output_type": "stream",
     "text": [
      "\rReading Comp news 190"
     ]
    },
    {
     "name": "stdout",
     "output_type": "stream",
     "text": [
      "\rReading Comp news 191"
     ]
    },
    {
     "name": "stdout",
     "output_type": "stream",
     "text": [
      "\rReading Comp news 192"
     ]
    },
    {
     "name": "stdout",
     "output_type": "stream",
     "text": [
      "\rReading Comp news 193"
     ]
    },
    {
     "name": "stdout",
     "output_type": "stream",
     "text": [
      "\rReading Comp news 194"
     ]
    },
    {
     "name": "stdout",
     "output_type": "stream",
     "text": [
      "\rReading Comp news 195"
     ]
    },
    {
     "name": "stdout",
     "output_type": "stream",
     "text": [
      "\rReading Comp news 196"
     ]
    },
    {
     "name": "stdout",
     "output_type": "stream",
     "text": [
      "\rReading Comp news 197"
     ]
    },
    {
     "name": "stdout",
     "output_type": "stream",
     "text": [
      "\rReading Comp news 198"
     ]
    },
    {
     "name": "stdout",
     "output_type": "stream",
     "text": [
      "\rReading Comp news 199"
     ]
    },
    {
     "name": "stdout",
     "output_type": "stream",
     "text": [
      "\rReading Comp news 200"
     ]
    },
    {
     "name": "stdout",
     "output_type": "stream",
     "text": [
      "\rReading Comp news 201"
     ]
    },
    {
     "name": "stdout",
     "output_type": "stream",
     "text": [
      "\rReading Comp news 202"
     ]
    },
    {
     "name": "stdout",
     "output_type": "stream",
     "text": [
      "\rReading Comp news 203"
     ]
    },
    {
     "name": "stdout",
     "output_type": "stream",
     "text": [
      "\rReading Comp news 204"
     ]
    },
    {
     "name": "stdout",
     "output_type": "stream",
     "text": [
      "\rReading Comp news 205"
     ]
    },
    {
     "name": "stdout",
     "output_type": "stream",
     "text": [
      "\rReading Comp news 206"
     ]
    },
    {
     "name": "stdout",
     "output_type": "stream",
     "text": [
      "\rReading Comp news 207"
     ]
    },
    {
     "name": "stdout",
     "output_type": "stream",
     "text": [
      "\rReading Comp news 208"
     ]
    },
    {
     "name": "stdout",
     "output_type": "stream",
     "text": [
      "\rReading Comp news 209"
     ]
    },
    {
     "name": "stdout",
     "output_type": "stream",
     "text": [
      "\rReading Comp news 210"
     ]
    },
    {
     "name": "stdout",
     "output_type": "stream",
     "text": [
      "\rReading Comp news 211"
     ]
    },
    {
     "name": "stdout",
     "output_type": "stream",
     "text": [
      "\rReading Comp news 212"
     ]
    },
    {
     "name": "stdout",
     "output_type": "stream",
     "text": [
      "\rReading Comp news 213"
     ]
    },
    {
     "name": "stdout",
     "output_type": "stream",
     "text": [
      "\rReading Comp news 214"
     ]
    },
    {
     "name": "stdout",
     "output_type": "stream",
     "text": [
      "\rReading Comp news 215"
     ]
    },
    {
     "name": "stdout",
     "output_type": "stream",
     "text": [
      "\rReading Comp news 216"
     ]
    },
    {
     "name": "stdout",
     "output_type": "stream",
     "text": [
      "\rReading Comp news 217"
     ]
    },
    {
     "name": "stdout",
     "output_type": "stream",
     "text": [
      "\rReading Comp news 218"
     ]
    },
    {
     "name": "stdout",
     "output_type": "stream",
     "text": [
      "\rReading Comp news 219"
     ]
    },
    {
     "name": "stdout",
     "output_type": "stream",
     "text": [
      "\rReading Comp news 220"
     ]
    },
    {
     "name": "stdout",
     "output_type": "stream",
     "text": [
      "\rReading Comp news 221"
     ]
    },
    {
     "name": "stdout",
     "output_type": "stream",
     "text": [
      "\rReading Comp news 222"
     ]
    },
    {
     "name": "stdout",
     "output_type": "stream",
     "text": [
      "\rReading Comp news 223"
     ]
    },
    {
     "name": "stdout",
     "output_type": "stream",
     "text": [
      "\rReading Comp news 224"
     ]
    },
    {
     "name": "stdout",
     "output_type": "stream",
     "text": [
      "\rReading Comp news 225"
     ]
    },
    {
     "name": "stdout",
     "output_type": "stream",
     "text": [
      "\rReading Comp news 226"
     ]
    },
    {
     "name": "stdout",
     "output_type": "stream",
     "text": [
      "\rReading Comp news 227"
     ]
    },
    {
     "name": "stdout",
     "output_type": "stream",
     "text": [
      "\rReading Comp news 228"
     ]
    },
    {
     "name": "stdout",
     "output_type": "stream",
     "text": [
      "\rReading Comp news 229"
     ]
    },
    {
     "name": "stdout",
     "output_type": "stream",
     "text": [
      "\rReading Comp news 230"
     ]
    },
    {
     "name": "stdout",
     "output_type": "stream",
     "text": [
      "\rReading Comp news 231"
     ]
    },
    {
     "name": "stdout",
     "output_type": "stream",
     "text": [
      "\rReading Comp news 232"
     ]
    },
    {
     "name": "stdout",
     "output_type": "stream",
     "text": [
      "\rReading Comp news 233"
     ]
    },
    {
     "name": "stdout",
     "output_type": "stream",
     "text": [
      "\rReading Comp news 234"
     ]
    },
    {
     "name": "stdout",
     "output_type": "stream",
     "text": [
      "\rReading Comp news 235"
     ]
    },
    {
     "name": "stdout",
     "output_type": "stream",
     "text": [
      "\rReading Comp news 236"
     ]
    },
    {
     "name": "stdout",
     "output_type": "stream",
     "text": [
      "\rReading Comp news 237"
     ]
    },
    {
     "name": "stdout",
     "output_type": "stream",
     "text": [
      "\rReading Comp news 238"
     ]
    },
    {
     "name": "stdout",
     "output_type": "stream",
     "text": [
      "\rReading Comp news 239"
     ]
    },
    {
     "name": "stdout",
     "output_type": "stream",
     "text": [
      "\rReading Comp news 240"
     ]
    },
    {
     "name": "stdout",
     "output_type": "stream",
     "text": [
      "\rReading Comp news 241"
     ]
    },
    {
     "name": "stdout",
     "output_type": "stream",
     "text": [
      "\rReading Comp news 242"
     ]
    },
    {
     "name": "stdout",
     "output_type": "stream",
     "text": [
      "\rReading Comp news 243"
     ]
    },
    {
     "name": "stdout",
     "output_type": "stream",
     "text": [
      "\rReading Comp news 244"
     ]
    },
    {
     "name": "stdout",
     "output_type": "stream",
     "text": [
      "\rReading Comp news 245"
     ]
    },
    {
     "name": "stdout",
     "output_type": "stream",
     "text": [
      "\rReading Comp news 246"
     ]
    },
    {
     "name": "stdout",
     "output_type": "stream",
     "text": [
      "\rReading Comp news 247"
     ]
    },
    {
     "name": "stdout",
     "output_type": "stream",
     "text": [
      "\rReading Comp news 248"
     ]
    },
    {
     "name": "stdout",
     "output_type": "stream",
     "text": [
      "\rReading Comp news 249"
     ]
    },
    {
     "name": "stdout",
     "output_type": "stream",
     "text": [
      "\rReading Comp news 250"
     ]
    },
    {
     "name": "stdout",
     "output_type": "stream",
     "text": [
      "\rReading Comp news 251"
     ]
    },
    {
     "name": "stdout",
     "output_type": "stream",
     "text": [
      "\rReading Comp news 252"
     ]
    },
    {
     "name": "stdout",
     "output_type": "stream",
     "text": [
      "\rReading Comp news 253"
     ]
    },
    {
     "name": "stdout",
     "output_type": "stream",
     "text": [
      "\rReading Comp news 254"
     ]
    },
    {
     "name": "stdout",
     "output_type": "stream",
     "text": [
      "\rReading Comp news 255"
     ]
    },
    {
     "name": "stdout",
     "output_type": "stream",
     "text": [
      "\rReading Comp news 256"
     ]
    },
    {
     "name": "stdout",
     "output_type": "stream",
     "text": [
      "\rReading Comp news 257"
     ]
    },
    {
     "name": "stdout",
     "output_type": "stream",
     "text": [
      "\rReading Comp news 258"
     ]
    },
    {
     "name": "stdout",
     "output_type": "stream",
     "text": [
      "\rReading Comp news 259"
     ]
    },
    {
     "name": "stdout",
     "output_type": "stream",
     "text": [
      "\rReading Comp news 260"
     ]
    },
    {
     "name": "stdout",
     "output_type": "stream",
     "text": [
      "\rReading Comp news 261"
     ]
    },
    {
     "name": "stdout",
     "output_type": "stream",
     "text": [
      "\rReading Comp news 262"
     ]
    },
    {
     "name": "stdout",
     "output_type": "stream",
     "text": [
      "\rReading Comp news 263"
     ]
    },
    {
     "name": "stdout",
     "output_type": "stream",
     "text": [
      "\rReading Comp news 264"
     ]
    },
    {
     "name": "stdout",
     "output_type": "stream",
     "text": [
      "\rReading Comp news 265"
     ]
    },
    {
     "name": "stdout",
     "output_type": "stream",
     "text": [
      "\rReading Comp news 266"
     ]
    },
    {
     "name": "stdout",
     "output_type": "stream",
     "text": [
      "\rReading Comp news 267"
     ]
    },
    {
     "name": "stdout",
     "output_type": "stream",
     "text": [
      "\rReading Comp news 268"
     ]
    },
    {
     "name": "stdout",
     "output_type": "stream",
     "text": [
      "\rReading Comp news 269"
     ]
    },
    {
     "name": "stdout",
     "output_type": "stream",
     "text": [
      "\rReading Comp news 270"
     ]
    },
    {
     "name": "stdout",
     "output_type": "stream",
     "text": [
      "\rReading Comp news 271"
     ]
    },
    {
     "name": "stdout",
     "output_type": "stream",
     "text": [
      "\rReading Comp news 272"
     ]
    },
    {
     "name": "stdout",
     "output_type": "stream",
     "text": [
      "\rReading Comp news 273"
     ]
    },
    {
     "name": "stdout",
     "output_type": "stream",
     "text": [
      "\rReading Comp news 274"
     ]
    },
    {
     "name": "stdout",
     "output_type": "stream",
     "text": [
      "\rReading Comp news 275"
     ]
    },
    {
     "name": "stdout",
     "output_type": "stream",
     "text": [
      "\rReading Comp news 276"
     ]
    },
    {
     "name": "stdout",
     "output_type": "stream",
     "text": [
      "\rReading Comp news 277"
     ]
    },
    {
     "name": "stdout",
     "output_type": "stream",
     "text": [
      "\rReading Comp news 278"
     ]
    },
    {
     "name": "stdout",
     "output_type": "stream",
     "text": [
      "\rReading Comp news 279"
     ]
    },
    {
     "name": "stdout",
     "output_type": "stream",
     "text": [
      "\rReading Comp news 280"
     ]
    },
    {
     "name": "stdout",
     "output_type": "stream",
     "text": [
      "\rReading Comp news 281"
     ]
    },
    {
     "name": "stdout",
     "output_type": "stream",
     "text": [
      "\rReading Comp news 282"
     ]
    },
    {
     "name": "stdout",
     "output_type": "stream",
     "text": [
      "\rReading Comp news 283"
     ]
    },
    {
     "name": "stdout",
     "output_type": "stream",
     "text": [
      "\rReading Comp news 284"
     ]
    },
    {
     "name": "stdout",
     "output_type": "stream",
     "text": [
      "\rReading Comp news 285"
     ]
    },
    {
     "name": "stdout",
     "output_type": "stream",
     "text": [
      "\rReading Comp news 286"
     ]
    },
    {
     "name": "stdout",
     "output_type": "stream",
     "text": [
      "\rReading Comp news 287"
     ]
    },
    {
     "name": "stdout",
     "output_type": "stream",
     "text": [
      "\rReading Comp news 288"
     ]
    },
    {
     "name": "stdout",
     "output_type": "stream",
     "text": [
      "\rReading Comp news 289"
     ]
    },
    {
     "name": "stdout",
     "output_type": "stream",
     "text": [
      "\rReading Comp news 290"
     ]
    },
    {
     "name": "stdout",
     "output_type": "stream",
     "text": [
      "\rReading Comp news 291"
     ]
    },
    {
     "name": "stdout",
     "output_type": "stream",
     "text": [
      "\rReading Comp news 292"
     ]
    },
    {
     "name": "stdout",
     "output_type": "stream",
     "text": [
      "\rReading Comp news 293"
     ]
    },
    {
     "name": "stdout",
     "output_type": "stream",
     "text": [
      "\rReading Comp news 294"
     ]
    },
    {
     "name": "stdout",
     "output_type": "stream",
     "text": [
      "\rReading Comp news 295"
     ]
    },
    {
     "name": "stdout",
     "output_type": "stream",
     "text": [
      "\rReading Comp news 296"
     ]
    },
    {
     "name": "stdout",
     "output_type": "stream",
     "text": [
      "\rReading Comp news 297"
     ]
    },
    {
     "name": "stdout",
     "output_type": "stream",
     "text": [
      "\rReading Comp news 298"
     ]
    },
    {
     "name": "stdout",
     "output_type": "stream",
     "text": [
      "\rReading Comp news 299"
     ]
    },
    {
     "name": "stdout",
     "output_type": "stream",
     "text": [
      "\rReading Comp news 300"
     ]
    },
    {
     "name": "stdout",
     "output_type": "stream",
     "text": [
      "\rReading Comp news 301"
     ]
    },
    {
     "name": "stdout",
     "output_type": "stream",
     "text": [
      "\rReading Comp news 302"
     ]
    },
    {
     "name": "stdout",
     "output_type": "stream",
     "text": [
      "\rReading Comp news 303"
     ]
    },
    {
     "name": "stdout",
     "output_type": "stream",
     "text": [
      "\rReading Comp news 304"
     ]
    },
    {
     "name": "stdout",
     "output_type": "stream",
     "text": [
      "\rReading Comp news 305"
     ]
    },
    {
     "name": "stdout",
     "output_type": "stream",
     "text": [
      "\rReading Comp news 306"
     ]
    },
    {
     "name": "stdout",
     "output_type": "stream",
     "text": [
      "\rReading Comp news 307"
     ]
    },
    {
     "name": "stdout",
     "output_type": "stream",
     "text": [
      "\rReading Comp news 308"
     ]
    },
    {
     "name": "stdout",
     "output_type": "stream",
     "text": [
      "\rReading Comp news 309"
     ]
    },
    {
     "name": "stdout",
     "output_type": "stream",
     "text": [
      "\rReading Comp news 310"
     ]
    },
    {
     "name": "stdout",
     "output_type": "stream",
     "text": [
      "\rReading Comp news 311"
     ]
    },
    {
     "name": "stdout",
     "output_type": "stream",
     "text": [
      "\rReading Comp news 312"
     ]
    },
    {
     "name": "stdout",
     "output_type": "stream",
     "text": [
      "\rReading Comp news 313"
     ]
    },
    {
     "name": "stdout",
     "output_type": "stream",
     "text": [
      "\rReading Comp news 314"
     ]
    },
    {
     "name": "stdout",
     "output_type": "stream",
     "text": [
      "\rReading Comp news 315"
     ]
    },
    {
     "name": "stdout",
     "output_type": "stream",
     "text": [
      "\rReading Comp news 316"
     ]
    },
    {
     "name": "stdout",
     "output_type": "stream",
     "text": [
      "\rReading Comp news 317"
     ]
    },
    {
     "name": "stdout",
     "output_type": "stream",
     "text": [
      "\rReading Comp news 318"
     ]
    },
    {
     "name": "stdout",
     "output_type": "stream",
     "text": [
      "\rReading Comp news 319"
     ]
    },
    {
     "name": "stdout",
     "output_type": "stream",
     "text": [
      "\rReading Comp news 320"
     ]
    },
    {
     "name": "stdout",
     "output_type": "stream",
     "text": [
      "\rReading Comp news 321"
     ]
    },
    {
     "name": "stdout",
     "output_type": "stream",
     "text": [
      "\rReading Comp news 322"
     ]
    },
    {
     "name": "stdout",
     "output_type": "stream",
     "text": [
      "\rReading Comp news 323"
     ]
    },
    {
     "name": "stdout",
     "output_type": "stream",
     "text": [
      "\rReading Comp news 324"
     ]
    },
    {
     "name": "stdout",
     "output_type": "stream",
     "text": [
      "\rReading Comp news 325"
     ]
    },
    {
     "name": "stdout",
     "output_type": "stream",
     "text": [
      "\rReading Comp news 326"
     ]
    },
    {
     "name": "stdout",
     "output_type": "stream",
     "text": [
      "\rReading Comp news 327"
     ]
    },
    {
     "name": "stdout",
     "output_type": "stream",
     "text": [
      "\rReading Comp news 328"
     ]
    },
    {
     "name": "stdout",
     "output_type": "stream",
     "text": [
      "\rReading Comp news 329"
     ]
    },
    {
     "name": "stdout",
     "output_type": "stream",
     "text": [
      "\rReading Comp news 330"
     ]
    },
    {
     "name": "stdout",
     "output_type": "stream",
     "text": [
      "\rReading Comp news 331"
     ]
    },
    {
     "name": "stdout",
     "output_type": "stream",
     "text": [
      "\rReading Comp news 332"
     ]
    },
    {
     "name": "stdout",
     "output_type": "stream",
     "text": [
      "\rReading Comp news 333"
     ]
    },
    {
     "name": "stdout",
     "output_type": "stream",
     "text": [
      "\rReading Comp news 334"
     ]
    },
    {
     "name": "stdout",
     "output_type": "stream",
     "text": [
      "\rReading Comp news 335"
     ]
    },
    {
     "name": "stdout",
     "output_type": "stream",
     "text": [
      "\rReading Comp news 336"
     ]
    },
    {
     "name": "stdout",
     "output_type": "stream",
     "text": [
      "\rReading Comp news 337"
     ]
    },
    {
     "name": "stdout",
     "output_type": "stream",
     "text": [
      "\rReading Comp news 338"
     ]
    },
    {
     "name": "stdout",
     "output_type": "stream",
     "text": [
      "\rReading Comp news 339"
     ]
    },
    {
     "name": "stdout",
     "output_type": "stream",
     "text": [
      "\rReading Comp news 340"
     ]
    },
    {
     "name": "stdout",
     "output_type": "stream",
     "text": [
      "\rReading Comp news 341"
     ]
    },
    {
     "name": "stdout",
     "output_type": "stream",
     "text": [
      "\rReading Comp news 342"
     ]
    },
    {
     "name": "stdout",
     "output_type": "stream",
     "text": [
      "\rReading Comp news 343"
     ]
    },
    {
     "name": "stdout",
     "output_type": "stream",
     "text": [
      "\rReading Comp news 344"
     ]
    },
    {
     "name": "stdout",
     "output_type": "stream",
     "text": [
      "\rReading Comp news 345"
     ]
    },
    {
     "name": "stdout",
     "output_type": "stream",
     "text": [
      "\rReading Comp news 346"
     ]
    },
    {
     "name": "stdout",
     "output_type": "stream",
     "text": [
      "\rReading Comp news 347"
     ]
    },
    {
     "name": "stdout",
     "output_type": "stream",
     "text": [
      "\rReading Comp news 348"
     ]
    },
    {
     "name": "stdout",
     "output_type": "stream",
     "text": [
      "\rReading Comp news 349"
     ]
    },
    {
     "name": "stdout",
     "output_type": "stream",
     "text": [
      "\rReading Comp news 350"
     ]
    },
    {
     "name": "stdout",
     "output_type": "stream",
     "text": [
      "\rReading Comp news 351"
     ]
    },
    {
     "name": "stdout",
     "output_type": "stream",
     "text": [
      "\rReading Comp news 352"
     ]
    },
    {
     "name": "stdout",
     "output_type": "stream",
     "text": [
      "\rReading Comp news 353"
     ]
    },
    {
     "name": "stdout",
     "output_type": "stream",
     "text": [
      "\rReading Comp news 354"
     ]
    },
    {
     "name": "stdout",
     "output_type": "stream",
     "text": [
      "\rReading Comp news 355"
     ]
    },
    {
     "name": "stdout",
     "output_type": "stream",
     "text": [
      "\rReading Comp news 356"
     ]
    },
    {
     "name": "stdout",
     "output_type": "stream",
     "text": [
      "\rReading Comp news 357"
     ]
    },
    {
     "name": "stdout",
     "output_type": "stream",
     "text": [
      "\rReading Comp news 358"
     ]
    },
    {
     "name": "stdout",
     "output_type": "stream",
     "text": [
      "\rReading Comp news 359"
     ]
    },
    {
     "name": "stdout",
     "output_type": "stream",
     "text": [
      "\rReading Comp news 360"
     ]
    },
    {
     "name": "stdout",
     "output_type": "stream",
     "text": [
      "\rReading Comp news 361"
     ]
    },
    {
     "name": "stdout",
     "output_type": "stream",
     "text": [
      "\rReading Comp news 362"
     ]
    },
    {
     "name": "stdout",
     "output_type": "stream",
     "text": [
      "\rReading Comp news 363"
     ]
    },
    {
     "name": "stdout",
     "output_type": "stream",
     "text": [
      "\rReading Comp news 364"
     ]
    },
    {
     "name": "stdout",
     "output_type": "stream",
     "text": [
      "\rReading Comp news 365"
     ]
    },
    {
     "name": "stdout",
     "output_type": "stream",
     "text": [
      "\rReading Comp news 366"
     ]
    },
    {
     "name": "stdout",
     "output_type": "stream",
     "text": [
      "\rReading Comp news 367"
     ]
    },
    {
     "name": "stdout",
     "output_type": "stream",
     "text": [
      "\rReading Comp news 368"
     ]
    },
    {
     "name": "stdout",
     "output_type": "stream",
     "text": [
      "\rReading Comp news 369"
     ]
    },
    {
     "name": "stdout",
     "output_type": "stream",
     "text": [
      "\rReading Comp news 370"
     ]
    },
    {
     "name": "stdout",
     "output_type": "stream",
     "text": [
      "\rReading Comp news 371"
     ]
    },
    {
     "name": "stdout",
     "output_type": "stream",
     "text": [
      "\rReading Comp news 372"
     ]
    },
    {
     "name": "stdout",
     "output_type": "stream",
     "text": [
      "\rReading Comp news 373"
     ]
    },
    {
     "name": "stdout",
     "output_type": "stream",
     "text": [
      "\rReading Comp news 374"
     ]
    },
    {
     "name": "stdout",
     "output_type": "stream",
     "text": [
      "\rReading Comp news 375"
     ]
    },
    {
     "name": "stdout",
     "output_type": "stream",
     "text": [
      "\rReading Comp news 376"
     ]
    },
    {
     "name": "stdout",
     "output_type": "stream",
     "text": [
      "\rReading Comp news 377"
     ]
    },
    {
     "name": "stdout",
     "output_type": "stream",
     "text": [
      "\rReading Comp news 378"
     ]
    },
    {
     "name": "stdout",
     "output_type": "stream",
     "text": [
      "\rReading Comp news 379"
     ]
    },
    {
     "name": "stdout",
     "output_type": "stream",
     "text": [
      "\rReading Comp news 380"
     ]
    },
    {
     "name": "stdout",
     "output_type": "stream",
     "text": [
      "\rReading Comp news 381"
     ]
    },
    {
     "name": "stdout",
     "output_type": "stream",
     "text": [
      "\rReading Comp news 382"
     ]
    },
    {
     "name": "stdout",
     "output_type": "stream",
     "text": [
      "\rReading Comp news 383"
     ]
    },
    {
     "name": "stdout",
     "output_type": "stream",
     "text": [
      "\rReading Comp news 384"
     ]
    },
    {
     "name": "stdout",
     "output_type": "stream",
     "text": [
      "\rReading Comp news 385"
     ]
    },
    {
     "name": "stdout",
     "output_type": "stream",
     "text": [
      "\rReading Comp news 386"
     ]
    },
    {
     "name": "stdout",
     "output_type": "stream",
     "text": [
      "\rReading Comp news 387"
     ]
    },
    {
     "name": "stdout",
     "output_type": "stream",
     "text": [
      "\rReading Comp news 388"
     ]
    },
    {
     "name": "stdout",
     "output_type": "stream",
     "text": [
      "\rReading Comp news 389"
     ]
    },
    {
     "name": "stdout",
     "output_type": "stream",
     "text": [
      "\rReading Comp news 390"
     ]
    },
    {
     "name": "stdout",
     "output_type": "stream",
     "text": [
      "\rReading Comp news 391"
     ]
    },
    {
     "name": "stdout",
     "output_type": "stream",
     "text": [
      "\rReading Comp news 392"
     ]
    },
    {
     "name": "stdout",
     "output_type": "stream",
     "text": [
      "\rReading Comp news 393"
     ]
    },
    {
     "name": "stdout",
     "output_type": "stream",
     "text": [
      "\rReading Comp news 394"
     ]
    },
    {
     "name": "stdout",
     "output_type": "stream",
     "text": [
      "\rReading Comp news 395"
     ]
    },
    {
     "name": "stdout",
     "output_type": "stream",
     "text": [
      "\rReading Comp news 396"
     ]
    },
    {
     "name": "stdout",
     "output_type": "stream",
     "text": [
      "\rReading Comp news 397"
     ]
    },
    {
     "name": "stdout",
     "output_type": "stream",
     "text": [
      "\rReading Comp news 398"
     ]
    },
    {
     "name": "stdout",
     "output_type": "stream",
     "text": [
      "\rReading Comp news 399"
     ]
    },
    {
     "name": "stdout",
     "output_type": "stream",
     "text": [
      "\rReading Comp news 400"
     ]
    },
    {
     "name": "stdout",
     "output_type": "stream",
     "text": [
      "\rReading Comp news 401"
     ]
    },
    {
     "name": "stdout",
     "output_type": "stream",
     "text": [
      "\rReading Comp news 402"
     ]
    },
    {
     "name": "stdout",
     "output_type": "stream",
     "text": [
      "\rReading Comp news 403"
     ]
    },
    {
     "name": "stdout",
     "output_type": "stream",
     "text": [
      "\rReading Comp news 404"
     ]
    },
    {
     "name": "stdout",
     "output_type": "stream",
     "text": [
      "\rReading Comp news 405"
     ]
    },
    {
     "name": "stdout",
     "output_type": "stream",
     "text": [
      "\rReading Comp news 406"
     ]
    },
    {
     "name": "stdout",
     "output_type": "stream",
     "text": [
      "\rReading Comp news 407"
     ]
    },
    {
     "name": "stdout",
     "output_type": "stream",
     "text": [
      "\rReading Comp news 408"
     ]
    },
    {
     "name": "stdout",
     "output_type": "stream",
     "text": [
      "\rReading Comp news 409"
     ]
    },
    {
     "name": "stdout",
     "output_type": "stream",
     "text": [
      "\rReading Comp news 410"
     ]
    },
    {
     "name": "stdout",
     "output_type": "stream",
     "text": [
      "\rReading Comp news 411"
     ]
    },
    {
     "name": "stdout",
     "output_type": "stream",
     "text": [
      "\rReading Comp news 412"
     ]
    },
    {
     "name": "stdout",
     "output_type": "stream",
     "text": [
      "\rReading Comp news 413"
     ]
    },
    {
     "name": "stdout",
     "output_type": "stream",
     "text": [
      "\rReading Comp news 414"
     ]
    },
    {
     "name": "stdout",
     "output_type": "stream",
     "text": [
      "\rReading Comp news 415"
     ]
    },
    {
     "name": "stdout",
     "output_type": "stream",
     "text": [
      "\rReading Comp news 416"
     ]
    },
    {
     "name": "stdout",
     "output_type": "stream",
     "text": [
      "\rReading Comp news 417"
     ]
    },
    {
     "name": "stdout",
     "output_type": "stream",
     "text": [
      "\rReading Comp news 418"
     ]
    },
    {
     "name": "stdout",
     "output_type": "stream",
     "text": [
      "\rReading Comp news 419"
     ]
    },
    {
     "name": "stdout",
     "output_type": "stream",
     "text": [
      "\rReading Comp news 420"
     ]
    },
    {
     "name": "stdout",
     "output_type": "stream",
     "text": [
      "\rReading Comp news 421"
     ]
    },
    {
     "name": "stdout",
     "output_type": "stream",
     "text": [
      "\rReading Comp news 422"
     ]
    },
    {
     "name": "stdout",
     "output_type": "stream",
     "text": [
      "\rReading Comp news 423"
     ]
    },
    {
     "name": "stdout",
     "output_type": "stream",
     "text": [
      "\rReading Comp news 424"
     ]
    },
    {
     "name": "stdout",
     "output_type": "stream",
     "text": [
      "\rReading Comp news 425"
     ]
    },
    {
     "name": "stdout",
     "output_type": "stream",
     "text": [
      "\rReading Comp news 426"
     ]
    },
    {
     "name": "stdout",
     "output_type": "stream",
     "text": [
      "\rReading Comp news 427"
     ]
    },
    {
     "name": "stdout",
     "output_type": "stream",
     "text": [
      "\rReading Comp news 428"
     ]
    },
    {
     "name": "stdout",
     "output_type": "stream",
     "text": [
      "\rReading Comp news 429"
     ]
    },
    {
     "name": "stdout",
     "output_type": "stream",
     "text": [
      "\rReading Comp news 430"
     ]
    },
    {
     "name": "stdout",
     "output_type": "stream",
     "text": [
      "\rReading Comp news 431"
     ]
    },
    {
     "name": "stdout",
     "output_type": "stream",
     "text": [
      "\rReading Comp news 432"
     ]
    },
    {
     "name": "stdout",
     "output_type": "stream",
     "text": [
      "\rReading Comp news 433"
     ]
    },
    {
     "name": "stdout",
     "output_type": "stream",
     "text": [
      "\rReading Comp news 434"
     ]
    },
    {
     "name": "stdout",
     "output_type": "stream",
     "text": [
      "\rReading Comp news 435"
     ]
    },
    {
     "name": "stdout",
     "output_type": "stream",
     "text": [
      "\rReading Comp news 436"
     ]
    },
    {
     "name": "stdout",
     "output_type": "stream",
     "text": [
      "\rReading Comp news 437"
     ]
    },
    {
     "name": "stdout",
     "output_type": "stream",
     "text": [
      "\rReading Comp news 438"
     ]
    },
    {
     "name": "stdout",
     "output_type": "stream",
     "text": [
      "\rReading Comp news 439"
     ]
    },
    {
     "name": "stdout",
     "output_type": "stream",
     "text": [
      "\rReading Comp news 440"
     ]
    },
    {
     "name": "stdout",
     "output_type": "stream",
     "text": [
      "\rReading Comp news 441"
     ]
    },
    {
     "name": "stdout",
     "output_type": "stream",
     "text": [
      "\rReading Comp news 442"
     ]
    },
    {
     "name": "stdout",
     "output_type": "stream",
     "text": [
      "\rReading Comp news 443"
     ]
    },
    {
     "name": "stdout",
     "output_type": "stream",
     "text": [
      "\rReading Comp news 444"
     ]
    },
    {
     "name": "stdout",
     "output_type": "stream",
     "text": [
      "\rReading Comp news 445"
     ]
    },
    {
     "name": "stdout",
     "output_type": "stream",
     "text": [
      "\rReading Comp news 446"
     ]
    },
    {
     "name": "stdout",
     "output_type": "stream",
     "text": [
      "\rReading Comp news 447"
     ]
    },
    {
     "name": "stdout",
     "output_type": "stream",
     "text": [
      "\rReading Comp news 448"
     ]
    },
    {
     "name": "stdout",
     "output_type": "stream",
     "text": [
      "\rReading Comp news 449"
     ]
    },
    {
     "name": "stdout",
     "output_type": "stream",
     "text": [
      "\rReading Comp news 450"
     ]
    },
    {
     "name": "stdout",
     "output_type": "stream",
     "text": [
      "\rReading Comp news 451"
     ]
    },
    {
     "name": "stdout",
     "output_type": "stream",
     "text": [
      "\rReading Comp news 452"
     ]
    },
    {
     "name": "stdout",
     "output_type": "stream",
     "text": [
      "\rReading Comp news 453"
     ]
    },
    {
     "name": "stdout",
     "output_type": "stream",
     "text": [
      "\rReading Comp news 454"
     ]
    },
    {
     "name": "stdout",
     "output_type": "stream",
     "text": [
      "\rReading Comp news 455"
     ]
    },
    {
     "name": "stdout",
     "output_type": "stream",
     "text": [
      "\rReading Comp news 456"
     ]
    },
    {
     "name": "stdout",
     "output_type": "stream",
     "text": [
      "\rReading Comp news 457"
     ]
    },
    {
     "name": "stdout",
     "output_type": "stream",
     "text": [
      "\rReading Comp news 458"
     ]
    },
    {
     "name": "stdout",
     "output_type": "stream",
     "text": [
      "\rReading Comp news 459"
     ]
    },
    {
     "name": "stdout",
     "output_type": "stream",
     "text": [
      "\rReading Comp news 460"
     ]
    },
    {
     "name": "stdout",
     "output_type": "stream",
     "text": [
      "\rReading Comp news 461"
     ]
    },
    {
     "name": "stdout",
     "output_type": "stream",
     "text": [
      "\rReading Comp news 462"
     ]
    },
    {
     "name": "stdout",
     "output_type": "stream",
     "text": [
      "\rReading Comp news 463"
     ]
    },
    {
     "name": "stdout",
     "output_type": "stream",
     "text": [
      "\rReading Comp news 464"
     ]
    },
    {
     "name": "stdout",
     "output_type": "stream",
     "text": [
      "\rReading Comp news 465"
     ]
    },
    {
     "name": "stdout",
     "output_type": "stream",
     "text": [
      "\rReading Comp news 466"
     ]
    },
    {
     "name": "stdout",
     "output_type": "stream",
     "text": [
      "\rReading Comp news 467"
     ]
    },
    {
     "name": "stdout",
     "output_type": "stream",
     "text": [
      "\rReading Comp news 468"
     ]
    },
    {
     "name": "stdout",
     "output_type": "stream",
     "text": [
      "\rReading Comp news 469"
     ]
    },
    {
     "name": "stdout",
     "output_type": "stream",
     "text": [
      "\rReading Comp news 470"
     ]
    },
    {
     "name": "stdout",
     "output_type": "stream",
     "text": [
      "\rReading Comp news 471"
     ]
    },
    {
     "name": "stdout",
     "output_type": "stream",
     "text": [
      "\rReading Comp news 472"
     ]
    },
    {
     "name": "stdout",
     "output_type": "stream",
     "text": [
      "\rReading Comp news 473"
     ]
    },
    {
     "name": "stdout",
     "output_type": "stream",
     "text": [
      "\rReading Comp news 474"
     ]
    },
    {
     "name": "stdout",
     "output_type": "stream",
     "text": [
      "\rReading Comp news 475"
     ]
    },
    {
     "name": "stdout",
     "output_type": "stream",
     "text": [
      "\rReading Comp news 476"
     ]
    },
    {
     "name": "stdout",
     "output_type": "stream",
     "text": [
      "\rReading Comp news 477"
     ]
    },
    {
     "name": "stdout",
     "output_type": "stream",
     "text": [
      "\rReading Comp news 478"
     ]
    },
    {
     "name": "stdout",
     "output_type": "stream",
     "text": [
      "\rReading Comp news 479"
     ]
    },
    {
     "name": "stdout",
     "output_type": "stream",
     "text": [
      "\rReading Comp news 480"
     ]
    },
    {
     "name": "stdout",
     "output_type": "stream",
     "text": [
      "\rReading Comp news 481"
     ]
    },
    {
     "name": "stdout",
     "output_type": "stream",
     "text": [
      "\rReading Comp news 482"
     ]
    },
    {
     "name": "stdout",
     "output_type": "stream",
     "text": [
      "\rReading Comp news 483"
     ]
    },
    {
     "name": "stdout",
     "output_type": "stream",
     "text": [
      "\rReading Comp news 484"
     ]
    },
    {
     "name": "stdout",
     "output_type": "stream",
     "text": [
      "\rReading Comp news 485"
     ]
    },
    {
     "name": "stdout",
     "output_type": "stream",
     "text": [
      "\rReading Comp news 486"
     ]
    },
    {
     "name": "stdout",
     "output_type": "stream",
     "text": [
      "\rReading Comp news 487"
     ]
    },
    {
     "name": "stdout",
     "output_type": "stream",
     "text": [
      "\rReading Comp news 488"
     ]
    },
    {
     "name": "stdout",
     "output_type": "stream",
     "text": [
      "\rReading Comp news 489"
     ]
    },
    {
     "name": "stdout",
     "output_type": "stream",
     "text": [
      "\rReading Comp news 490"
     ]
    },
    {
     "name": "stdout",
     "output_type": "stream",
     "text": [
      "\rReading Comp news 491"
     ]
    },
    {
     "name": "stdout",
     "output_type": "stream",
     "text": [
      "\rReading Comp news 492"
     ]
    },
    {
     "name": "stdout",
     "output_type": "stream",
     "text": [
      "\rReading Comp news 493"
     ]
    },
    {
     "name": "stdout",
     "output_type": "stream",
     "text": [
      "\rReading Comp news 494"
     ]
    },
    {
     "name": "stdout",
     "output_type": "stream",
     "text": [
      "\rReading Comp news 495"
     ]
    },
    {
     "name": "stdout",
     "output_type": "stream",
     "text": [
      "\rReading Comp news 496"
     ]
    },
    {
     "name": "stdout",
     "output_type": "stream",
     "text": [
      "\rReading Comp news 497"
     ]
    },
    {
     "name": "stdout",
     "output_type": "stream",
     "text": [
      "\rReading Comp news 498"
     ]
    },
    {
     "name": "stdout",
     "output_type": "stream",
     "text": [
      "\rReading Comp news 499"
     ]
    },
    {
     "name": "stdout",
     "output_type": "stream",
     "text": [
      "\rReading Comp news 500"
     ]
    },
    {
     "name": "stdout",
     "output_type": "stream",
     "text": [
      "\rReading Comp news 501"
     ]
    },
    {
     "name": "stdout",
     "output_type": "stream",
     "text": [
      "\rReading Comp news 502"
     ]
    },
    {
     "name": "stdout",
     "output_type": "stream",
     "text": [
      "\rReading Comp news 503"
     ]
    },
    {
     "name": "stdout",
     "output_type": "stream",
     "text": [
      "\rReading Comp news 504"
     ]
    },
    {
     "name": "stdout",
     "output_type": "stream",
     "text": [
      "\rReading Comp news 505"
     ]
    },
    {
     "name": "stdout",
     "output_type": "stream",
     "text": [
      "\rReading Comp news 506"
     ]
    },
    {
     "name": "stdout",
     "output_type": "stream",
     "text": [
      "\rReading Comp news 507"
     ]
    },
    {
     "name": "stdout",
     "output_type": "stream",
     "text": [
      "\rReading Comp news 508"
     ]
    },
    {
     "name": "stdout",
     "output_type": "stream",
     "text": [
      "\rReading Comp news 509"
     ]
    },
    {
     "name": "stdout",
     "output_type": "stream",
     "text": [
      "\rReading Comp news 510"
     ]
    },
    {
     "name": "stdout",
     "output_type": "stream",
     "text": [
      "\rReading Comp news 511"
     ]
    },
    {
     "name": "stdout",
     "output_type": "stream",
     "text": [
      "\rReading Comp news 512"
     ]
    },
    {
     "name": "stdout",
     "output_type": "stream",
     "text": [
      "\rReading Comp news 513"
     ]
    },
    {
     "name": "stdout",
     "output_type": "stream",
     "text": [
      "\rReading Comp news 514"
     ]
    },
    {
     "name": "stdout",
     "output_type": "stream",
     "text": [
      "\rReading Comp news 515"
     ]
    },
    {
     "name": "stdout",
     "output_type": "stream",
     "text": [
      "\rReading Comp news 516"
     ]
    },
    {
     "name": "stdout",
     "output_type": "stream",
     "text": [
      "\rReading Comp news 517"
     ]
    },
    {
     "name": "stdout",
     "output_type": "stream",
     "text": [
      "\rReading Comp news 518"
     ]
    },
    {
     "name": "stdout",
     "output_type": "stream",
     "text": [
      "\rReading Comp news 519"
     ]
    },
    {
     "name": "stdout",
     "output_type": "stream",
     "text": [
      "\rReading Comp news 520"
     ]
    },
    {
     "name": "stdout",
     "output_type": "stream",
     "text": [
      "\rReading Comp news 521"
     ]
    },
    {
     "name": "stdout",
     "output_type": "stream",
     "text": [
      "\rReading Comp news 522"
     ]
    },
    {
     "name": "stdout",
     "output_type": "stream",
     "text": [
      "\rReading Comp news 523"
     ]
    },
    {
     "name": "stdout",
     "output_type": "stream",
     "text": [
      "\rReading Comp news 524"
     ]
    },
    {
     "name": "stdout",
     "output_type": "stream",
     "text": [
      "\rReading Comp news 525"
     ]
    },
    {
     "name": "stdout",
     "output_type": "stream",
     "text": [
      "\rReading Comp news 526"
     ]
    },
    {
     "name": "stdout",
     "output_type": "stream",
     "text": [
      "\rReading Comp news 527"
     ]
    },
    {
     "name": "stdout",
     "output_type": "stream",
     "text": [
      "\rReading Comp news 528"
     ]
    },
    {
     "name": "stdout",
     "output_type": "stream",
     "text": [
      "\rReading Comp news 529"
     ]
    },
    {
     "name": "stdout",
     "output_type": "stream",
     "text": [
      "\rReading Comp news 530"
     ]
    },
    {
     "name": "stdout",
     "output_type": "stream",
     "text": [
      "\rReading Comp news 531"
     ]
    },
    {
     "name": "stdout",
     "output_type": "stream",
     "text": [
      "\rReading Comp news 532"
     ]
    },
    {
     "name": "stdout",
     "output_type": "stream",
     "text": [
      "\rReading Comp news 533"
     ]
    },
    {
     "name": "stdout",
     "output_type": "stream",
     "text": [
      "\rReading Comp news 534"
     ]
    },
    {
     "name": "stdout",
     "output_type": "stream",
     "text": [
      "\rReading Comp news 535"
     ]
    },
    {
     "name": "stdout",
     "output_type": "stream",
     "text": [
      "\rReading Comp news 536"
     ]
    },
    {
     "name": "stdout",
     "output_type": "stream",
     "text": [
      "\rReading Comp news 537"
     ]
    },
    {
     "name": "stdout",
     "output_type": "stream",
     "text": [
      "\rReading Comp news 538"
     ]
    },
    {
     "name": "stdout",
     "output_type": "stream",
     "text": [
      "\rReading Comp news 539"
     ]
    },
    {
     "name": "stdout",
     "output_type": "stream",
     "text": [
      "\rReading Comp news 540"
     ]
    },
    {
     "name": "stdout",
     "output_type": "stream",
     "text": [
      "\rReading Comp news 541"
     ]
    },
    {
     "name": "stdout",
     "output_type": "stream",
     "text": [
      "\rReading Comp news 542"
     ]
    },
    {
     "name": "stdout",
     "output_type": "stream",
     "text": [
      "\rReading Comp news 543"
     ]
    },
    {
     "name": "stdout",
     "output_type": "stream",
     "text": [
      "\rReading Comp news 544"
     ]
    },
    {
     "name": "stdout",
     "output_type": "stream",
     "text": [
      "\rReading Comp news 545"
     ]
    },
    {
     "name": "stdout",
     "output_type": "stream",
     "text": [
      "\rReading Comp news 546"
     ]
    },
    {
     "name": "stdout",
     "output_type": "stream",
     "text": [
      "\rReading Comp news 547"
     ]
    },
    {
     "name": "stdout",
     "output_type": "stream",
     "text": [
      "\rReading Comp news 548"
     ]
    },
    {
     "name": "stdout",
     "output_type": "stream",
     "text": [
      "\rReading Comp news 549"
     ]
    },
    {
     "name": "stdout",
     "output_type": "stream",
     "text": [
      "\rReading Comp news 550"
     ]
    },
    {
     "name": "stdout",
     "output_type": "stream",
     "text": [
      "\rReading Comp news 551"
     ]
    },
    {
     "name": "stdout",
     "output_type": "stream",
     "text": [
      "\rReading Comp news 552"
     ]
    },
    {
     "name": "stdout",
     "output_type": "stream",
     "text": [
      "\rReading Comp news 553"
     ]
    },
    {
     "name": "stdout",
     "output_type": "stream",
     "text": [
      "\rReading Comp news 554"
     ]
    },
    {
     "name": "stdout",
     "output_type": "stream",
     "text": [
      "\rReading Comp news 555"
     ]
    },
    {
     "name": "stdout",
     "output_type": "stream",
     "text": [
      "\rReading Comp news 556"
     ]
    },
    {
     "name": "stdout",
     "output_type": "stream",
     "text": [
      "\rReading Comp news 557"
     ]
    },
    {
     "name": "stdout",
     "output_type": "stream",
     "text": [
      "\rReading Comp news 558"
     ]
    },
    {
     "name": "stdout",
     "output_type": "stream",
     "text": [
      "\rReading Comp news 559"
     ]
    },
    {
     "name": "stdout",
     "output_type": "stream",
     "text": [
      "\rReading Comp news 560"
     ]
    },
    {
     "name": "stdout",
     "output_type": "stream",
     "text": [
      "\rReading Comp news 561"
     ]
    },
    {
     "name": "stdout",
     "output_type": "stream",
     "text": [
      "\rReading Comp news 562"
     ]
    },
    {
     "name": "stdout",
     "output_type": "stream",
     "text": [
      "\rReading Comp news 563"
     ]
    },
    {
     "name": "stdout",
     "output_type": "stream",
     "text": [
      "\rReading Comp news 564"
     ]
    },
    {
     "name": "stdout",
     "output_type": "stream",
     "text": [
      "\rReading Comp news 565"
     ]
    },
    {
     "name": "stdout",
     "output_type": "stream",
     "text": [
      "\rReading Comp news 566"
     ]
    },
    {
     "name": "stdout",
     "output_type": "stream",
     "text": [
      "\rReading Comp news 567"
     ]
    },
    {
     "name": "stdout",
     "output_type": "stream",
     "text": [
      "\rReading Comp news 568"
     ]
    },
    {
     "name": "stdout",
     "output_type": "stream",
     "text": [
      "\rReading Comp news 569"
     ]
    },
    {
     "name": "stdout",
     "output_type": "stream",
     "text": [
      "\rReading Comp news 570"
     ]
    },
    {
     "name": "stdout",
     "output_type": "stream",
     "text": [
      "\rReading Comp news 571"
     ]
    },
    {
     "name": "stdout",
     "output_type": "stream",
     "text": [
      "\rReading Comp news 572"
     ]
    },
    {
     "name": "stdout",
     "output_type": "stream",
     "text": [
      "\rReading Comp news 573"
     ]
    },
    {
     "name": "stdout",
     "output_type": "stream",
     "text": [
      "\rReading Comp news 574"
     ]
    },
    {
     "name": "stdout",
     "output_type": "stream",
     "text": [
      "\rReading Comp news 575"
     ]
    },
    {
     "name": "stdout",
     "output_type": "stream",
     "text": [
      "\rReading Comp news 576"
     ]
    },
    {
     "name": "stdout",
     "output_type": "stream",
     "text": [
      "\rReading Comp news 577"
     ]
    },
    {
     "name": "stdout",
     "output_type": "stream",
     "text": [
      "\rReading Comp news 578"
     ]
    },
    {
     "name": "stdout",
     "output_type": "stream",
     "text": [
      "\rReading Comp news 579"
     ]
    },
    {
     "name": "stdout",
     "output_type": "stream",
     "text": [
      "\rReading Comp news 580"
     ]
    },
    {
     "name": "stdout",
     "output_type": "stream",
     "text": [
      "\rReading Comp news 581"
     ]
    },
    {
     "name": "stdout",
     "output_type": "stream",
     "text": [
      "\rReading Comp news 582"
     ]
    },
    {
     "name": "stdout",
     "output_type": "stream",
     "text": [
      "\rReading Comp news 583"
     ]
    },
    {
     "name": "stdout",
     "output_type": "stream",
     "text": [
      "\rReading Comp news 584"
     ]
    },
    {
     "name": "stdout",
     "output_type": "stream",
     "text": [
      "\rReading Comp news 585"
     ]
    },
    {
     "name": "stdout",
     "output_type": "stream",
     "text": [
      "\rReading Comp news 586"
     ]
    },
    {
     "name": "stdout",
     "output_type": "stream",
     "text": [
      "\rReading Comp news 587"
     ]
    },
    {
     "name": "stdout",
     "output_type": "stream",
     "text": [
      "\rReading Comp news 588"
     ]
    },
    {
     "name": "stdout",
     "output_type": "stream",
     "text": [
      "\rReading Comp news 589"
     ]
    },
    {
     "name": "stdout",
     "output_type": "stream",
     "text": [
      "\rReading Comp news 590"
     ]
    },
    {
     "name": "stdout",
     "output_type": "stream",
     "text": [
      "\rReading Comp news 591"
     ]
    },
    {
     "name": "stdout",
     "output_type": "stream",
     "text": [
      "\rReading Comp news 592"
     ]
    },
    {
     "name": "stdout",
     "output_type": "stream",
     "text": [
      "\rReading Comp news 593"
     ]
    },
    {
     "name": "stdout",
     "output_type": "stream",
     "text": [
      "\rReading Comp news 594"
     ]
    },
    {
     "name": "stdout",
     "output_type": "stream",
     "text": [
      "\rReading Comp news 595"
     ]
    },
    {
     "name": "stdout",
     "output_type": "stream",
     "text": [
      "\rReading Comp news 596"
     ]
    },
    {
     "name": "stdout",
     "output_type": "stream",
     "text": [
      "\rReading Comp news 597"
     ]
    },
    {
     "name": "stdout",
     "output_type": "stream",
     "text": [
      "\rReading Comp news 598"
     ]
    },
    {
     "name": "stdout",
     "output_type": "stream",
     "text": [
      "\rReading Comp news 599"
     ]
    },
    {
     "name": "stdout",
     "output_type": "stream",
     "text": [
      "\rReading Comp news 600"
     ]
    },
    {
     "name": "stdout",
     "output_type": "stream",
     "text": [
      "\rReading Comp news 601"
     ]
    },
    {
     "name": "stdout",
     "output_type": "stream",
     "text": [
      "\rReading Comp news 602"
     ]
    },
    {
     "name": "stdout",
     "output_type": "stream",
     "text": [
      "\rReading Comp news 603"
     ]
    },
    {
     "name": "stdout",
     "output_type": "stream",
     "text": [
      "\rReading Comp news 604"
     ]
    },
    {
     "name": "stdout",
     "output_type": "stream",
     "text": [
      "\rReading Comp news 605"
     ]
    },
    {
     "name": "stdout",
     "output_type": "stream",
     "text": [
      "\rReading Comp news 606"
     ]
    },
    {
     "name": "stdout",
     "output_type": "stream",
     "text": [
      "\rReading Comp news 607"
     ]
    },
    {
     "name": "stdout",
     "output_type": "stream",
     "text": [
      "\rReading Comp news 608"
     ]
    },
    {
     "name": "stdout",
     "output_type": "stream",
     "text": [
      "\rReading Comp news 609"
     ]
    },
    {
     "name": "stdout",
     "output_type": "stream",
     "text": [
      "\rReading Comp news 610"
     ]
    },
    {
     "name": "stdout",
     "output_type": "stream",
     "text": [
      "\rReading Comp news 611"
     ]
    },
    {
     "name": "stdout",
     "output_type": "stream",
     "text": [
      "\rReading Comp news 612"
     ]
    },
    {
     "name": "stdout",
     "output_type": "stream",
     "text": [
      "\rReading Comp news 613"
     ]
    },
    {
     "name": "stdout",
     "output_type": "stream",
     "text": [
      "\rReading Comp news 614"
     ]
    },
    {
     "name": "stdout",
     "output_type": "stream",
     "text": [
      "\rReading Comp news 615"
     ]
    },
    {
     "name": "stdout",
     "output_type": "stream",
     "text": [
      "\rReading Comp news 616"
     ]
    },
    {
     "name": "stdout",
     "output_type": "stream",
     "text": [
      "\rReading Comp news 617"
     ]
    },
    {
     "name": "stdout",
     "output_type": "stream",
     "text": [
      "\rReading Comp news 618"
     ]
    },
    {
     "name": "stdout",
     "output_type": "stream",
     "text": [
      "\rReading Comp news 619"
     ]
    },
    {
     "name": "stdout",
     "output_type": "stream",
     "text": [
      "\rReading Comp news 620"
     ]
    },
    {
     "name": "stdout",
     "output_type": "stream",
     "text": [
      "\rReading Comp news 621"
     ]
    },
    {
     "name": "stdout",
     "output_type": "stream",
     "text": [
      "\rReading Comp news 622"
     ]
    },
    {
     "name": "stdout",
     "output_type": "stream",
     "text": [
      "\rReading Comp news 623"
     ]
    },
    {
     "name": "stdout",
     "output_type": "stream",
     "text": [
      "\rReading Comp news 624"
     ]
    },
    {
     "name": "stdout",
     "output_type": "stream",
     "text": [
      "\rReading Comp news 625"
     ]
    },
    {
     "name": "stdout",
     "output_type": "stream",
     "text": [
      "\rReading Comp news 626"
     ]
    },
    {
     "name": "stdout",
     "output_type": "stream",
     "text": [
      "\rReading Comp news 627"
     ]
    },
    {
     "name": "stdout",
     "output_type": "stream",
     "text": [
      "\rReading Comp news 628"
     ]
    },
    {
     "name": "stdout",
     "output_type": "stream",
     "text": [
      "\rReading Comp news 629"
     ]
    },
    {
     "name": "stdout",
     "output_type": "stream",
     "text": [
      "\rReading Comp news 630"
     ]
    },
    {
     "name": "stdout",
     "output_type": "stream",
     "text": [
      "\rReading Comp news 631"
     ]
    },
    {
     "name": "stdout",
     "output_type": "stream",
     "text": [
      "\rReading Comp news 632"
     ]
    },
    {
     "name": "stdout",
     "output_type": "stream",
     "text": [
      "\rReading Comp news 633"
     ]
    },
    {
     "name": "stdout",
     "output_type": "stream",
     "text": [
      "\rReading Comp news 634"
     ]
    },
    {
     "name": "stdout",
     "output_type": "stream",
     "text": [
      "\rReading Comp news 635"
     ]
    },
    {
     "name": "stdout",
     "output_type": "stream",
     "text": [
      "\rReading Comp news 636"
     ]
    },
    {
     "name": "stdout",
     "output_type": "stream",
     "text": [
      "\rReading Comp news 637"
     ]
    },
    {
     "name": "stdout",
     "output_type": "stream",
     "text": [
      "\rReading Comp news 638"
     ]
    },
    {
     "name": "stdout",
     "output_type": "stream",
     "text": [
      "\rReading Comp news 639"
     ]
    },
    {
     "name": "stdout",
     "output_type": "stream",
     "text": [
      "\rReading Comp news 640"
     ]
    },
    {
     "name": "stdout",
     "output_type": "stream",
     "text": [
      "\rReading Comp news 641"
     ]
    },
    {
     "name": "stdout",
     "output_type": "stream",
     "text": [
      "\rReading Comp news 642"
     ]
    },
    {
     "name": "stdout",
     "output_type": "stream",
     "text": [
      "\rReading Comp news 643"
     ]
    },
    {
     "name": "stdout",
     "output_type": "stream",
     "text": [
      "\rReading Comp news 644"
     ]
    },
    {
     "name": "stdout",
     "output_type": "stream",
     "text": [
      "\rReading Comp news 645"
     ]
    },
    {
     "name": "stdout",
     "output_type": "stream",
     "text": [
      "\rReading Comp news 646"
     ]
    },
    {
     "name": "stdout",
     "output_type": "stream",
     "text": [
      "\rReading Comp news 647"
     ]
    },
    {
     "name": "stdout",
     "output_type": "stream",
     "text": [
      "\rReading Comp news 648"
     ]
    },
    {
     "name": "stdout",
     "output_type": "stream",
     "text": [
      "\rReading Comp news 649"
     ]
    },
    {
     "name": "stdout",
     "output_type": "stream",
     "text": [
      "\rReading Comp news 650"
     ]
    },
    {
     "name": "stdout",
     "output_type": "stream",
     "text": [
      "\rReading Comp news 651"
     ]
    },
    {
     "name": "stdout",
     "output_type": "stream",
     "text": [
      "\rReading Comp news 652"
     ]
    },
    {
     "name": "stdout",
     "output_type": "stream",
     "text": [
      "\rReading Comp news 653"
     ]
    },
    {
     "name": "stdout",
     "output_type": "stream",
     "text": [
      "\rReading Comp news 654"
     ]
    },
    {
     "name": "stdout",
     "output_type": "stream",
     "text": [
      "\rReading Comp news 655"
     ]
    },
    {
     "name": "stdout",
     "output_type": "stream",
     "text": [
      "\rReading Comp news 656"
     ]
    },
    {
     "name": "stdout",
     "output_type": "stream",
     "text": [
      "\rReading Comp news 657"
     ]
    },
    {
     "name": "stdout",
     "output_type": "stream",
     "text": [
      "\rReading Comp news 658"
     ]
    },
    {
     "name": "stdout",
     "output_type": "stream",
     "text": [
      "\rReading Comp news 659"
     ]
    },
    {
     "name": "stdout",
     "output_type": "stream",
     "text": [
      "\rReading Comp news 660"
     ]
    },
    {
     "name": "stdout",
     "output_type": "stream",
     "text": [
      "\rReading Comp news 661"
     ]
    },
    {
     "name": "stdout",
     "output_type": "stream",
     "text": [
      "\rReading Comp news 662"
     ]
    },
    {
     "name": "stdout",
     "output_type": "stream",
     "text": [
      "\rReading Comp news 663"
     ]
    },
    {
     "name": "stdout",
     "output_type": "stream",
     "text": [
      "\rReading Comp news 664"
     ]
    },
    {
     "name": "stdout",
     "output_type": "stream",
     "text": [
      "\rReading Comp news 665"
     ]
    },
    {
     "name": "stdout",
     "output_type": "stream",
     "text": [
      "\rReading Comp news 666"
     ]
    },
    {
     "name": "stdout",
     "output_type": "stream",
     "text": [
      "\rReading Comp news 667"
     ]
    },
    {
     "name": "stdout",
     "output_type": "stream",
     "text": [
      "\rReading Comp news 668"
     ]
    },
    {
     "name": "stdout",
     "output_type": "stream",
     "text": [
      "\rReading Comp news 669"
     ]
    },
    {
     "name": "stdout",
     "output_type": "stream",
     "text": [
      "\rReading Comp news 670"
     ]
    },
    {
     "name": "stdout",
     "output_type": "stream",
     "text": [
      "\rReading Comp news 671"
     ]
    },
    {
     "name": "stdout",
     "output_type": "stream",
     "text": [
      "\rReading Comp news 672"
     ]
    },
    {
     "name": "stdout",
     "output_type": "stream",
     "text": [
      "\rReading Comp news 673"
     ]
    },
    {
     "name": "stdout",
     "output_type": "stream",
     "text": [
      "\rReading Comp news 674"
     ]
    },
    {
     "name": "stdout",
     "output_type": "stream",
     "text": [
      "\rReading Comp news 675"
     ]
    },
    {
     "name": "stdout",
     "output_type": "stream",
     "text": [
      "\rReading Comp news 676"
     ]
    },
    {
     "name": "stdout",
     "output_type": "stream",
     "text": [
      "\rReading Comp news 677"
     ]
    },
    {
     "name": "stdout",
     "output_type": "stream",
     "text": [
      "\rReading Comp news 678"
     ]
    },
    {
     "name": "stdout",
     "output_type": "stream",
     "text": [
      "\rReading Comp news 679"
     ]
    },
    {
     "name": "stdout",
     "output_type": "stream",
     "text": [
      "\rReading Comp news 680"
     ]
    },
    {
     "name": "stdout",
     "output_type": "stream",
     "text": [
      "\rReading Comp news 681"
     ]
    },
    {
     "name": "stdout",
     "output_type": "stream",
     "text": [
      "\rReading Comp news 682"
     ]
    },
    {
     "name": "stdout",
     "output_type": "stream",
     "text": [
      "\rReading Comp news 683"
     ]
    },
    {
     "name": "stdout",
     "output_type": "stream",
     "text": [
      "\rReading Comp news 684"
     ]
    },
    {
     "name": "stdout",
     "output_type": "stream",
     "text": [
      "\rReading Comp news 685"
     ]
    },
    {
     "name": "stdout",
     "output_type": "stream",
     "text": [
      "\rReading Comp news 686"
     ]
    },
    {
     "name": "stdout",
     "output_type": "stream",
     "text": [
      "\rReading Comp news 687"
     ]
    },
    {
     "name": "stdout",
     "output_type": "stream",
     "text": [
      "\rReading Comp news 688"
     ]
    },
    {
     "name": "stdout",
     "output_type": "stream",
     "text": [
      "\rReading Comp news 689"
     ]
    },
    {
     "name": "stdout",
     "output_type": "stream",
     "text": [
      "\rReading Comp news 690"
     ]
    },
    {
     "name": "stdout",
     "output_type": "stream",
     "text": [
      "\rReading Comp news 691"
     ]
    },
    {
     "name": "stdout",
     "output_type": "stream",
     "text": [
      "\rReading Comp news 692"
     ]
    },
    {
     "name": "stdout",
     "output_type": "stream",
     "text": [
      "\rReading Comp news 693"
     ]
    },
    {
     "name": "stdout",
     "output_type": "stream",
     "text": [
      "\rReading Comp news 694"
     ]
    },
    {
     "name": "stdout",
     "output_type": "stream",
     "text": [
      "\rReading Comp news 695"
     ]
    },
    {
     "name": "stdout",
     "output_type": "stream",
     "text": [
      "\rReading Comp news 696"
     ]
    },
    {
     "name": "stdout",
     "output_type": "stream",
     "text": [
      "\rReading Comp news 697"
     ]
    },
    {
     "name": "stdout",
     "output_type": "stream",
     "text": [
      "\rReading Comp news 698"
     ]
    },
    {
     "name": "stdout",
     "output_type": "stream",
     "text": [
      "\rReading Comp news 699"
     ]
    },
    {
     "name": "stdout",
     "output_type": "stream",
     "text": [
      "\rReading Comp news 700"
     ]
    },
    {
     "name": "stdout",
     "output_type": "stream",
     "text": [
      "\rReading Comp news 701"
     ]
    },
    {
     "name": "stdout",
     "output_type": "stream",
     "text": [
      "\rReading Comp news 702"
     ]
    },
    {
     "name": "stdout",
     "output_type": "stream",
     "text": [
      "\rReading Comp news 703"
     ]
    },
    {
     "name": "stdout",
     "output_type": "stream",
     "text": [
      "\rReading Comp news 704"
     ]
    },
    {
     "name": "stdout",
     "output_type": "stream",
     "text": [
      "\rReading Comp news 705"
     ]
    },
    {
     "name": "stdout",
     "output_type": "stream",
     "text": [
      "\rReading Comp news 706"
     ]
    },
    {
     "name": "stdout",
     "output_type": "stream",
     "text": [
      "\rReading Comp news 707"
     ]
    },
    {
     "name": "stdout",
     "output_type": "stream",
     "text": [
      "\rReading Comp news 708"
     ]
    },
    {
     "name": "stdout",
     "output_type": "stream",
     "text": [
      "\rReading Comp news 709"
     ]
    },
    {
     "name": "stdout",
     "output_type": "stream",
     "text": [
      "\rReading Comp news 710"
     ]
    },
    {
     "name": "stdout",
     "output_type": "stream",
     "text": [
      "\rReading Comp news 711"
     ]
    },
    {
     "name": "stdout",
     "output_type": "stream",
     "text": [
      "\rReading Comp news 712"
     ]
    },
    {
     "name": "stdout",
     "output_type": "stream",
     "text": [
      "\rReading Comp news 713"
     ]
    },
    {
     "name": "stdout",
     "output_type": "stream",
     "text": [
      "\rReading Comp news 714"
     ]
    },
    {
     "name": "stdout",
     "output_type": "stream",
     "text": [
      "\rReading Comp news 715"
     ]
    },
    {
     "name": "stdout",
     "output_type": "stream",
     "text": [
      "\rReading Comp news 716"
     ]
    },
    {
     "name": "stdout",
     "output_type": "stream",
     "text": [
      "\rReading Comp news 717"
     ]
    },
    {
     "name": "stdout",
     "output_type": "stream",
     "text": [
      "\rReading Comp news 718"
     ]
    },
    {
     "name": "stdout",
     "output_type": "stream",
     "text": [
      "\rReading Comp news 719"
     ]
    },
    {
     "name": "stdout",
     "output_type": "stream",
     "text": [
      "\rReading Comp news 720"
     ]
    },
    {
     "name": "stdout",
     "output_type": "stream",
     "text": [
      "\rReading Comp news 721"
     ]
    },
    {
     "name": "stdout",
     "output_type": "stream",
     "text": [
      "\rReading Comp news 722"
     ]
    },
    {
     "name": "stdout",
     "output_type": "stream",
     "text": [
      "\rReading Comp news 723"
     ]
    },
    {
     "name": "stdout",
     "output_type": "stream",
     "text": [
      "\rReading Comp news 724"
     ]
    },
    {
     "name": "stdout",
     "output_type": "stream",
     "text": [
      "\rReading Comp news 725"
     ]
    },
    {
     "name": "stdout",
     "output_type": "stream",
     "text": [
      "\rReading Comp news 726"
     ]
    },
    {
     "name": "stdout",
     "output_type": "stream",
     "text": [
      "\rReading Comp news 727"
     ]
    },
    {
     "name": "stdout",
     "output_type": "stream",
     "text": [
      "\rReading Comp news 728"
     ]
    },
    {
     "name": "stdout",
     "output_type": "stream",
     "text": [
      "\rReading Comp news 729"
     ]
    },
    {
     "name": "stdout",
     "output_type": "stream",
     "text": [
      "\rReading Comp news 730"
     ]
    },
    {
     "name": "stdout",
     "output_type": "stream",
     "text": [
      "\rReading Comp news 731"
     ]
    },
    {
     "name": "stdout",
     "output_type": "stream",
     "text": [
      "\rReading Comp news 732"
     ]
    },
    {
     "name": "stdout",
     "output_type": "stream",
     "text": [
      "\rReading Comp news 733"
     ]
    },
    {
     "name": "stdout",
     "output_type": "stream",
     "text": [
      "\rReading Comp news 734"
     ]
    },
    {
     "name": "stdout",
     "output_type": "stream",
     "text": [
      "\rReading Comp news 735"
     ]
    },
    {
     "name": "stdout",
     "output_type": "stream",
     "text": [
      "\rReading Comp news 736"
     ]
    },
    {
     "name": "stdout",
     "output_type": "stream",
     "text": [
      "\rReading Comp news 737"
     ]
    },
    {
     "name": "stdout",
     "output_type": "stream",
     "text": [
      "\rReading Comp news 738"
     ]
    },
    {
     "name": "stdout",
     "output_type": "stream",
     "text": [
      "\rReading Comp news 739"
     ]
    },
    {
     "name": "stdout",
     "output_type": "stream",
     "text": [
      "\rReading Comp news 740"
     ]
    },
    {
     "name": "stdout",
     "output_type": "stream",
     "text": [
      "\rReading Comp news 741"
     ]
    },
    {
     "name": "stdout",
     "output_type": "stream",
     "text": [
      "\rReading Comp news 742"
     ]
    },
    {
     "name": "stdout",
     "output_type": "stream",
     "text": [
      "\rReading Comp news 743"
     ]
    },
    {
     "name": "stdout",
     "output_type": "stream",
     "text": [
      "\rReading Comp news 744"
     ]
    },
    {
     "name": "stdout",
     "output_type": "stream",
     "text": [
      "\rReading Comp news 745"
     ]
    },
    {
     "name": "stdout",
     "output_type": "stream",
     "text": [
      "\rReading Comp news 746"
     ]
    },
    {
     "name": "stdout",
     "output_type": "stream",
     "text": [
      "\rReading Comp news 747"
     ]
    },
    {
     "name": "stdout",
     "output_type": "stream",
     "text": [
      "\rReading Comp news 748"
     ]
    },
    {
     "name": "stdout",
     "output_type": "stream",
     "text": [
      "\rReading Comp news 749"
     ]
    },
    {
     "name": "stdout",
     "output_type": "stream",
     "text": [
      "\rReading Comp news 750"
     ]
    },
    {
     "name": "stdout",
     "output_type": "stream",
     "text": [
      "\rReading Comp news 751"
     ]
    },
    {
     "name": "stdout",
     "output_type": "stream",
     "text": [
      "\rReading Comp news 752"
     ]
    },
    {
     "name": "stdout",
     "output_type": "stream",
     "text": [
      "\rReading Comp news 753"
     ]
    },
    {
     "name": "stdout",
     "output_type": "stream",
     "text": [
      "\rReading Comp news 754"
     ]
    },
    {
     "name": "stdout",
     "output_type": "stream",
     "text": [
      "\rReading Comp news 755"
     ]
    },
    {
     "name": "stdout",
     "output_type": "stream",
     "text": [
      "\rReading Comp news 756"
     ]
    },
    {
     "name": "stdout",
     "output_type": "stream",
     "text": [
      "\rReading Comp news 757"
     ]
    },
    {
     "name": "stdout",
     "output_type": "stream",
     "text": [
      "\rReading Comp news 758"
     ]
    },
    {
     "name": "stdout",
     "output_type": "stream",
     "text": [
      "\rReading Comp news 759"
     ]
    },
    {
     "name": "stdout",
     "output_type": "stream",
     "text": [
      "\rReading Comp news 760"
     ]
    },
    {
     "name": "stdout",
     "output_type": "stream",
     "text": [
      "\rReading Comp news 761"
     ]
    },
    {
     "name": "stdout",
     "output_type": "stream",
     "text": [
      "\rReading Comp news 762"
     ]
    },
    {
     "name": "stdout",
     "output_type": "stream",
     "text": [
      "\rReading Comp news 763"
     ]
    },
    {
     "name": "stdout",
     "output_type": "stream",
     "text": [
      "\rReading Comp news 764"
     ]
    },
    {
     "name": "stdout",
     "output_type": "stream",
     "text": [
      "\rReading Comp news 765"
     ]
    },
    {
     "name": "stdout",
     "output_type": "stream",
     "text": [
      "\rReading Comp news 766"
     ]
    },
    {
     "name": "stdout",
     "output_type": "stream",
     "text": [
      "\rReading Comp news 767"
     ]
    },
    {
     "name": "stdout",
     "output_type": "stream",
     "text": [
      "\rReading Comp news 768"
     ]
    },
    {
     "name": "stdout",
     "output_type": "stream",
     "text": [
      "\rReading Comp news 769"
     ]
    },
    {
     "name": "stdout",
     "output_type": "stream",
     "text": [
      "\rReading Comp news 770"
     ]
    },
    {
     "name": "stdout",
     "output_type": "stream",
     "text": [
      "\rReading Comp news 771"
     ]
    },
    {
     "name": "stdout",
     "output_type": "stream",
     "text": [
      "\rReading Comp news 772"
     ]
    },
    {
     "name": "stdout",
     "output_type": "stream",
     "text": [
      "\rReading Comp news 773"
     ]
    },
    {
     "name": "stdout",
     "output_type": "stream",
     "text": [
      "\rReading Comp news 774"
     ]
    },
    {
     "name": "stdout",
     "output_type": "stream",
     "text": [
      "\rReading Comp news 775"
     ]
    },
    {
     "name": "stdout",
     "output_type": "stream",
     "text": [
      "\rReading Comp news 776"
     ]
    },
    {
     "name": "stdout",
     "output_type": "stream",
     "text": [
      "\rReading Comp news 777"
     ]
    },
    {
     "name": "stdout",
     "output_type": "stream",
     "text": [
      "\rReading Comp news 778"
     ]
    },
    {
     "name": "stdout",
     "output_type": "stream",
     "text": [
      "\rReading Comp news 779"
     ]
    },
    {
     "name": "stdout",
     "output_type": "stream",
     "text": [
      "\rReading Comp news 780"
     ]
    },
    {
     "name": "stdout",
     "output_type": "stream",
     "text": [
      "\rReading Comp news 781"
     ]
    },
    {
     "name": "stdout",
     "output_type": "stream",
     "text": [
      "\rReading Comp news 782"
     ]
    },
    {
     "name": "stdout",
     "output_type": "stream",
     "text": [
      "\rReading Comp news 783"
     ]
    },
    {
     "name": "stdout",
     "output_type": "stream",
     "text": [
      "\rReading Comp news 784"
     ]
    },
    {
     "name": "stdout",
     "output_type": "stream",
     "text": [
      "\rReading Comp news 785"
     ]
    },
    {
     "name": "stdout",
     "output_type": "stream",
     "text": [
      "\rReading Comp news 786"
     ]
    },
    {
     "name": "stdout",
     "output_type": "stream",
     "text": [
      "\rReading Comp news 787"
     ]
    },
    {
     "name": "stdout",
     "output_type": "stream",
     "text": [
      "\rReading Comp news 788"
     ]
    },
    {
     "name": "stdout",
     "output_type": "stream",
     "text": [
      "\rReading Comp news 789"
     ]
    },
    {
     "name": "stdout",
     "output_type": "stream",
     "text": [
      "\rReading Comp news 790"
     ]
    },
    {
     "name": "stdout",
     "output_type": "stream",
     "text": [
      "\rReading Comp news 791"
     ]
    },
    {
     "name": "stdout",
     "output_type": "stream",
     "text": [
      "\rReading Comp news 792"
     ]
    },
    {
     "name": "stdout",
     "output_type": "stream",
     "text": [
      "\rReading Comp news 793"
     ]
    },
    {
     "name": "stdout",
     "output_type": "stream",
     "text": [
      "\rReading Comp news 794"
     ]
    },
    {
     "name": "stdout",
     "output_type": "stream",
     "text": [
      "\rReading Comp news 795"
     ]
    },
    {
     "name": "stdout",
     "output_type": "stream",
     "text": [
      "\rReading Comp news 796"
     ]
    },
    {
     "name": "stdout",
     "output_type": "stream",
     "text": [
      "\rReading Comp news 797"
     ]
    },
    {
     "name": "stdout",
     "output_type": "stream",
     "text": [
      "\rReading Comp news 798"
     ]
    },
    {
     "name": "stdout",
     "output_type": "stream",
     "text": [
      "\rReading Comp news 799"
     ]
    },
    {
     "name": "stdout",
     "output_type": "stream",
     "text": [
      "\rReading Comp news 800"
     ]
    },
    {
     "name": "stdout",
     "output_type": "stream",
     "text": [
      "\rReading Comp news 801"
     ]
    },
    {
     "name": "stdout",
     "output_type": "stream",
     "text": [
      "\rReading Comp news 802"
     ]
    },
    {
     "name": "stdout",
     "output_type": "stream",
     "text": [
      "\rReading Comp news 803"
     ]
    },
    {
     "name": "stdout",
     "output_type": "stream",
     "text": [
      "\rReading Comp news 804"
     ]
    },
    {
     "name": "stdout",
     "output_type": "stream",
     "text": [
      "\rReading Comp news 805"
     ]
    },
    {
     "name": "stdout",
     "output_type": "stream",
     "text": [
      "\rReading Comp news 806"
     ]
    },
    {
     "name": "stdout",
     "output_type": "stream",
     "text": [
      "\rReading Comp news 807"
     ]
    },
    {
     "name": "stdout",
     "output_type": "stream",
     "text": [
      "\rReading Comp news 808"
     ]
    },
    {
     "name": "stdout",
     "output_type": "stream",
     "text": [
      "\rReading Comp news 809"
     ]
    },
    {
     "name": "stdout",
     "output_type": "stream",
     "text": [
      "\rReading Comp news 810"
     ]
    },
    {
     "name": "stdout",
     "output_type": "stream",
     "text": [
      "\rReading Comp news 811"
     ]
    },
    {
     "name": "stdout",
     "output_type": "stream",
     "text": [
      "\rReading Comp news 812"
     ]
    },
    {
     "name": "stdout",
     "output_type": "stream",
     "text": [
      "\rReading Comp news 813"
     ]
    },
    {
     "name": "stdout",
     "output_type": "stream",
     "text": [
      "\rReading Comp news 814"
     ]
    },
    {
     "name": "stdout",
     "output_type": "stream",
     "text": [
      "\rReading Comp news 815"
     ]
    },
    {
     "name": "stdout",
     "output_type": "stream",
     "text": [
      "\rReading Comp news 816"
     ]
    },
    {
     "name": "stdout",
     "output_type": "stream",
     "text": [
      "\rReading Comp news 817"
     ]
    },
    {
     "name": "stdout",
     "output_type": "stream",
     "text": [
      "\rReading Comp news 818"
     ]
    },
    {
     "name": "stdout",
     "output_type": "stream",
     "text": [
      "\rReading Comp news 819"
     ]
    },
    {
     "name": "stdout",
     "output_type": "stream",
     "text": [
      "\rReading Comp news 820"
     ]
    },
    {
     "name": "stdout",
     "output_type": "stream",
     "text": [
      "\rReading Comp news 821"
     ]
    },
    {
     "name": "stdout",
     "output_type": "stream",
     "text": [
      "\rReading Comp news 822"
     ]
    },
    {
     "name": "stdout",
     "output_type": "stream",
     "text": [
      "\rReading Comp news 823"
     ]
    },
    {
     "name": "stdout",
     "output_type": "stream",
     "text": [
      "\rReading Comp news 824"
     ]
    },
    {
     "name": "stdout",
     "output_type": "stream",
     "text": [
      "\rReading Comp news 825"
     ]
    },
    {
     "name": "stdout",
     "output_type": "stream",
     "text": [
      "\rReading Comp news 826"
     ]
    },
    {
     "name": "stdout",
     "output_type": "stream",
     "text": [
      "\rReading Comp news 827"
     ]
    },
    {
     "name": "stdout",
     "output_type": "stream",
     "text": [
      "\rReading Comp news 828"
     ]
    },
    {
     "name": "stdout",
     "output_type": "stream",
     "text": [
      "\rReading Comp news 829"
     ]
    },
    {
     "name": "stdout",
     "output_type": "stream",
     "text": [
      "\rReading Comp news 830"
     ]
    },
    {
     "name": "stdout",
     "output_type": "stream",
     "text": [
      "\rReading Comp news 831"
     ]
    },
    {
     "name": "stdout",
     "output_type": "stream",
     "text": [
      "\rReading Comp news 832"
     ]
    },
    {
     "name": "stdout",
     "output_type": "stream",
     "text": [
      "\rReading Comp news 833"
     ]
    },
    {
     "name": "stdout",
     "output_type": "stream",
     "text": [
      "\rReading Comp news 834"
     ]
    },
    {
     "name": "stdout",
     "output_type": "stream",
     "text": [
      "\rReading Comp news 835"
     ]
    },
    {
     "name": "stdout",
     "output_type": "stream",
     "text": [
      "\rReading Comp news 836"
     ]
    },
    {
     "name": "stdout",
     "output_type": "stream",
     "text": [
      "\rReading Comp news 837"
     ]
    },
    {
     "name": "stdout",
     "output_type": "stream",
     "text": [
      "\rReading Comp news 838"
     ]
    },
    {
     "name": "stdout",
     "output_type": "stream",
     "text": [
      "\rReading Comp news 839"
     ]
    },
    {
     "name": "stdout",
     "output_type": "stream",
     "text": [
      "\rReading Comp news 840"
     ]
    },
    {
     "name": "stdout",
     "output_type": "stream",
     "text": [
      "\rReading Comp news 841"
     ]
    },
    {
     "name": "stdout",
     "output_type": "stream",
     "text": [
      "\rReading Comp news 842"
     ]
    },
    {
     "name": "stdout",
     "output_type": "stream",
     "text": [
      "\rReading Comp news 843"
     ]
    },
    {
     "name": "stdout",
     "output_type": "stream",
     "text": [
      "\rReading Comp news 844"
     ]
    },
    {
     "name": "stdout",
     "output_type": "stream",
     "text": [
      "\rReading Comp news 845"
     ]
    },
    {
     "name": "stdout",
     "output_type": "stream",
     "text": [
      "\rReading Comp news 846"
     ]
    },
    {
     "name": "stdout",
     "output_type": "stream",
     "text": [
      "\rReading Comp news 847"
     ]
    }
   ],
   "source": [
    "import sys\n",
    "\n",
    "table = TfIdf()\n",
    "i = 0\n",
    "\n",
    "companyDic = FetchAllCompanyDic()\n",
    "# companyDic = d = dict(companyDic.items()[:1])\n",
    "\n",
    "for compCode in companyDic:\n",
    "    sys.stdout.write(\"\\rReading Comp news %i\" % i)\n",
    "    sys.stdout.flush()\n",
    "\n",
    "    comp = CompCodeToTuple(compCode)\n",
    "    ns = FindAllNewsContainsCompany(comp)\n",
    "    all_tokens = []\n",
    "    for n in ns:\n",
    "        tokens = WordTokenizer(n.get_newsContent()).Tokenize()\n",
    "        all_tokens += tokens\n",
    "    i += 1\n",
    "    table.add_document(comp, all_tokens)\n"
   ]
  },
  {
   "cell_type": "markdown",
   "metadata": {},
   "source": [
    "모든 종목별 뉴스를 받아와 TF-IDF 적용."
   ]
  },
  {
   "cell_type": "code",
   "execution_count": null,
   "metadata": {},
   "outputs": [
    {
     "data": {
      "text/plain": [
       "[[('060310', '3S'), 0.00020570378971948767],\n [('095570', 'AJ네트웍스'), 0.000205572801254879],\n [('068400', 'AJ렌터카'), 0.00020580630626650586],\n [('006840', 'AK홀딩스'), 0.0002056725314378213],\n [('054620', 'APS홀딩스'), 0.0002054473326875774],\n [('265520', 'AP시스템'), 0.00020573614225428876],\n [('211270', 'AP위성'), 0.0],\n [('027410', 'BGF'), 0.00020582818213714282],\n [('282330', 'BGF리테일'), 0.0002056604184009208],\n [('138930', 'BNK금융지주'), 0.00020634914357069484],\n [('001460', 'BYC'), 0.00020550490236322333],\n [('001465', 'BYC우'), 0.0],\n [('032040', 'C&S자산관리'), 0.00020537324452191664],\n [('001040', 'CJ'), 0.00020577192484630327],\n [('079160', 'CJ CGV'), 0.00020590377975630167],\n [('130960', 'CJ E&M'), 0.00020572470694612128],\n [('000120', 'CJ대한통운'), 0.00020569897439016394],\n [('011150', 'CJ씨푸드'), 0.00020539424607838355],\n [('011155', 'CJ씨푸드1우'), 0.0],\n [('035760', 'CJ오쇼핑'), 0.00020588878235058828]]"
      ]
     },
     "execution_count": 9,
     "metadata": {},
     "output_type": "execute_result"
    }
   ],
   "source": [
    "import pandas as pd\n",
    "a = table.similarities([\"삼성\"])\n",
    "\n",
    "pd.DataFrame(a)\n"
   ]
  },
  {
   "cell_type": "code",
   "execution_count": null,
   "metadata": {},
   "outputs": [],
   "source": []
  }
 ],
 "metadata": {
  "kernelspec": {
   "display_name": "Python 2",
   "language": "python",
   "name": "python2"
  },
  "language_info": {
   "codemirror_mode": {
    "name": "ipython",
    "version": 2
   },
   "file_extension": ".py",
   "mimetype": "text/x-python",
   "name": "python",
   "nbconvert_exporter": "python",
   "pygments_lexer": "ipython2",
   "version": "2.7.6"
  }
 },
 "nbformat": 4,
 "nbformat_minor": 0
}
